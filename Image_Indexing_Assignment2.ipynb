{
  "cells": [
    {
      "cell_type": "markdown",
      "metadata": {
        "id": "view-in-github",
        "colab_type": "text"
      },
      "source": [
        "<a href=\"https://colab.research.google.com/github/claredavies/ImageIndexing/blob/master/Image_Indexing_Assignment2.ipynb\" target=\"_parent\"><img src=\"https://colab.research.google.com/assets/colab-badge.svg\" alt=\"Open In Colab\"/></a>"
      ]
    },
    {
      "cell_type": "markdown",
      "metadata": {
        "id": "a795ccf4"
      },
      "source": [
        "# 11762 Content-Based Image Retrieval\n",
        "## Master's Degree in Intelligent Systems\n",
        "### University of the Balearic Islands\n",
        "\n",
        "---\n",
        "\n",
        "**Before you turn this problem in, please put your full names and DNIs (or NIEs) below, and execute the cell:**"
      ],
      "id": "a795ccf4"
    },
    {
      "cell_type": "code",
      "execution_count": 1,
      "metadata": {
        "id": "6947b975"
      },
      "outputs": [],
      "source": [
        "NAME  = \"Clare Davies\"\n",
        "DNI   = \"PL5527043\""
      ],
      "id": "6947b975"
    },
    {
      "cell_type": "code",
      "execution_count": 2,
      "metadata": {
        "id": "OBYyYOwNu7hY",
        "colab": {
          "base_uri": "https://localhost:8080/"
        },
        "outputId": "190785ad-642e-4f20-8cec-0c8c243de3f2"
      },
      "outputs": [
        {
          "output_type": "stream",
          "name": "stdout",
          "text": [
            "Mounted at /content/drive/\n"
          ]
        }
      ],
      "source": [
        "from google.colab import drive\n",
        "drive.mount('/content/drive/')"
      ],
      "id": "OBYyYOwNu7hY"
    },
    {
      "cell_type": "code",
      "execution_count": 3,
      "metadata": {
        "id": "cuu5vW4ivs1C",
        "colab": {
          "base_uri": "https://localhost:8080/"
        },
        "outputId": "fea6a5e1-dee3-4a7c-8cf8-cf12ca0a5f90"
      },
      "outputs": [
        {
          "output_type": "stream",
          "name": "stdout",
          "text": [
            "/content/drive/MyDrive/ImageIndexing\n"
          ]
        }
      ],
      "source": [
        "%cd drive/MyDrive/ImageIndexing"
      ],
      "id": "cuu5vW4ivs1C"
    },
    {
      "cell_type": "markdown",
      "metadata": {
        "id": "ec32c2c0"
      },
      "source": [
        "Make sure you fill in any place that says `YOUR CODE HERE` or `YOUR ANSWER HERE`. **Justify** all of your answers, **graphically** wherever possible. Remember that this notebook will be considered as a report to the work done during the assignment.\n",
        "\n",
        "---"
      ],
      "id": "ec32c2c0"
    },
    {
      "cell_type": "code",
      "execution_count": null,
      "metadata": {
        "id": "6BTyYK7ivdfy",
        "colab": {
          "base_uri": "https://localhost:8080/"
        },
        "outputId": "81371959-2b74-4ae4-f5ee-690a52d4b885"
      },
      "outputs": [
        {
          "output_type": "stream",
          "name": "stdout",
          "text": [
            "Archive:  iric_dev_kit.zip\n",
            "replace iric_dev_kit/iric.yml? [y]es, [n]o, [A]ll, [N]one, [r]ename: "
          ]
        }
      ],
      "source": [
        "!unzip iric_dev_kit.zip"
      ],
      "id": "6BTyYK7ivdfy"
    },
    {
      "cell_type": "code",
      "execution_count": 4,
      "metadata": {
        "id": "a32b507a"
      },
      "outputs": [],
      "source": [
        "# Setup code for this assignment\n",
        "import cv2\n",
        "import math\n",
        "import numpy as np\n",
        "import os\n",
        "import scipy.cluster.vq as vq\n",
        "import tqdm\n",
        "import zipfile\n",
        "\n",
        "## Adding parent folder to find other libs\n",
        "import sys\n",
        "if \"..\" not in sys.path:\n",
        "    sys.path.insert(0,\"..\")\n",
        "    \n",
        "import iric_dev_kit.iric_utils.eval_holidays as ev\n",
        "import iric_dev_kit.iric_utils.read_descriptors as rd\n",
        "\n",
        "# Configuring Matplotlib\n",
        "from matplotlib import pyplot as plt\n",
        "%matplotlib inline"
      ],
      "id": "a32b507a"
    },
    {
      "cell_type": "markdown",
      "metadata": {
        "id": "d621778b"
      },
      "source": [
        "## Introduction\n",
        "In this assignment, you will implement and evaluate different methods for indexing images. As usual during this course, we will use the [INRIA Holidays](http://lear.inrialpes.fr/people/jegou/data.php) dataset. **Check the Assignment 1 to further information about this dataset.**\n",
        "\n",
        "We also need the provided script to evaluate a CBIR system on this dataset. Remember that the performance is measured computing the **mean average precision** (mAP) over all queries. **Check also the Assignment 1 to remember how to use this script and the different functions it offers.**"
      ],
      "id": "d621778b"
    },
    {
      "cell_type": "markdown",
      "metadata": {
        "id": "77b3c399"
      },
      "source": [
        "### Loading images\n",
        "As we did in Assignment 1, for managing images, we will create four lists:\n",
        "- **`query_names`**: File names of the *query* images\n",
        "- **`query_imgs`**: *Query* images loaded using OpenCV2\n",
        "- **`train_names`**: File names of the *train* (database) images\n",
        "- **`train_imgs`**: *Train* images loaded using OpenCV2\n",
        "\n",
        "In this assignment, we will use the original holidays dataset:"
      ],
      "id": "77b3c399"
    },
    {
      "cell_type": "code",
      "execution_count": null,
      "metadata": {
        "id": "IWfI1BLVwmqV"
      },
      "outputs": [],
      "source": [
        "!unzip holidays_mini.zip"
      ],
      "id": "IWfI1BLVwmqV"
    },
    {
      "cell_type": "code",
      "execution_count": 5,
      "metadata": {
        "colab": {
          "base_uri": "https://localhost:8080/"
        },
        "id": "78adf5f7",
        "outputId": "2fed2b79-3712-40c8-b771-0570246a29dc"
      },
      "outputs": [
        {
          "output_type": "stream",
          "name": "stdout",
          "text": [
            "19\n",
            "31\n"
          ]
        }
      ],
      "source": [
        "# Separating the dataset into query and train images\n",
        "query_names = []\n",
        "query_imgs = []\n",
        "train_names = []\n",
        "train_imgs = []\n",
        "\n",
        "# with open('../holidays/holidays_images.dat') as f:\n",
        "\n",
        "with open('holidays_mini/holidays_images.dat') as f:\n",
        "    for line in f:\n",
        "        imname = line.strip()\n",
        "        imno = int(imname[:-len(\".jpg\")])\n",
        "        # img = cv2.imread('../holidays/images/' + imname)\n",
        "\n",
        "        img = cv2.imread('holidays_mini/images/' + imname)\n",
        "        # Resize the images for a faster operation in this assignment\n",
        "        img = cv2.resize(img, None, fx=0.25, fy=0.25, interpolation = cv2.INTER_CUBIC)\n",
        "    \n",
        "        # Checking if this is a query image\n",
        "        if imno % 100 == 0:\n",
        "            query_names.append(imname)\n",
        "            query_imgs.append(img)\n",
        "        else:\n",
        "            train_names.append(imname)\n",
        "            train_imgs.append(img)\n",
        "\n",
        "print(len(query_names))\n",
        "print(len(train_names))"
      ],
      "id": "78adf5f7"
    },
    {
      "cell_type": "markdown",
      "metadata": {
        "id": "27d7080b"
      },
      "source": [
        "## Loading SIFT descriptors\n",
        "In this assignment we will create four additional lists:\n",
        "- **`query_kps`**: A list of lists of keypoints (cv2.KeyPoint) extracted from the *query* images\n",
        "- **`query_desc`**: A list of numpy arrays including, for each set of keypoints, the SIFT descriptors extracted from the *query* images\n",
        "- **`train_kps`**: A list of lists of keypoints (cv2.KeyPoint) extracted from the *train* (database) images\n",
        "- **`train_desc`**: A list of numpy arrays including, for each set of keypoints, the SIFT descriptors extracted from the *train* images\n",
        "\n",
        "Unlike in Assigment 1, now you will be provided with a set of SIFT descriptors for each image, and, therefore, you do not need to create these lists from scratch. First, download the descriptors from [here](https://uibes-my.sharepoint.com/:u:/g/personal/egf350_id_uib_es/Eam8Ld8YDaJAhNr91YVdAZIB_wVZJ8kzzKD7BR6R3LziMw).\n",
        "\n",
        "> **Unzip this file into the root directory of the development kit, at the same level of the datasets.**\n",
        "\n",
        "Now, a new directory called `siftgeo` should be in your workspace, containing the set of SIFT descriptors for each image of the dataset. These descriptors are stored in binary format and, thus, you are also provided with some tools to load them. To be more precise, you can call the function `load_SIFT_descriptors` to load the descriptors of a list of images:"
      ],
      "id": "27d7080b"
    },
    {
      "cell_type": "code",
      "execution_count": null,
      "metadata": {
        "id": "B822YyX-UVsM"
      },
      "outputs": [],
      "source": [
        "import tarfile\n",
        "def unzip_tarfile(filename):\n",
        "  try:\n",
        "    tar = tarfile.open(filename)\n",
        "    tar.extractall()\n",
        "    tar.close()\n",
        "  except EOFError:\n",
        "    print(\"error\")"
      ],
      "id": "B822YyX-UVsM"
    },
    {
      "cell_type": "code",
      "execution_count": null,
      "metadata": {
        "id": "sQp4svdOw2Hs"
      },
      "outputs": [],
      "source": [
        "unzip_tarfile(\"siftgeo.tar.gz\")"
      ],
      "id": "sQp4svdOw2Hs"
    },
    {
      "cell_type": "code",
      "execution_count": 6,
      "metadata": {
        "id": "1BBTN1FRxbhz",
        "colab": {
          "base_uri": "https://localhost:8080/"
        },
        "outputId": "d6273d5b-5ac4-40ac-b5fa-b0f4b59eac3d"
      },
      "outputs": [
        {
          "output_type": "stream",
          "name": "stdout",
          "text": [
            "/content/drive/MyDrive/ImageIndexing/iric_dev_kit\n"
          ]
        }
      ],
      "source": [
        "%cd iric_dev_kit"
      ],
      "id": "1BBTN1FRxbhz"
    },
    {
      "cell_type": "code",
      "execution_count": 7,
      "metadata": {
        "id": "f7e7e1c5",
        "colab": {
          "base_uri": "https://localhost:8080/"
        },
        "outputId": "7d7d2546-9691-4dad-852f-070b7f2b7f7a"
      },
      "outputs": [
        {
          "output_type": "stream",
          "name": "stdout",
          "text": [
            "19\n",
            "31\n",
            "19\n",
            "31\n",
            "(1000, 128)\n",
            "[[10.  6. 52. ... 15.  4.  0.]\n",
            " [16. 50. 12. ... 15.  4.  0.]\n",
            " [10. 11. 58. ...  7.  4.  4.]\n",
            " ...\n",
            " [27. 15.  0. ... 16.  8. 12.]\n",
            " [51. 47. 14. ... 35. 26.  0.]\n",
            " [ 2. 37. 25. ... 47. 13.  8.]]\n"
          ]
        }
      ],
      "source": [
        "# Loading descriptors\n",
        "query_kps, query_desc = rd.load_SIFT_descriptors(query_names, max_desc=1000)\n",
        "train_kps, train_desc = rd.load_SIFT_descriptors(train_names, max_desc=1000)\n",
        "\n",
        "# Some prints\n",
        "print(len(query_kps))\n",
        "print(len(train_kps))\n",
        "print(len(query_desc))\n",
        "print(len(train_desc))\n",
        "print(query_desc[0].shape)\n",
        "print(query_desc[0])"
      ],
      "id": "f7e7e1c5"
    },
    {
      "cell_type": "markdown",
      "metadata": {
        "id": "6b8f8d0c"
      },
      "source": [
        "For development purposes, we use the parameter `max_desc` to load a maximum number (1000) of the descriptors. This will speed up the execution of the rest of the notebook, while the decrease in performance will be minimum.\n",
        "\n",
        "> **Some images do not have keypoints/descriptors. Take this into account when you develop your solution.**"
      ],
      "id": "6b8f8d0c"
    },
    {
      "cell_type": "markdown",
      "metadata": {
        "id": "9e2aeee4"
      },
      "source": [
        "## $k$-d trees and LSH \n",
        "Let's start coding. At this section, you will develop a retrieval system using $k$-d trees and Locality Sensitive Hashing (LSH). "
      ],
      "id": "9e2aeee4"
    },
    {
      "cell_type": "markdown",
      "metadata": {
        "id": "9b5ec641"
      },
      "source": [
        "### General framework\n",
        "As we did in the first assignment, you first will develop some utilities to simplify your work. Write a function called `search_image` to search an image in a generic index (database). You should search each descriptor of the given query image and obtain its two closest SIFT descriptors in the database. Next, the initial set of matches should be filtered using the **NNDR criterion (use 0.8 as ratio)**, as you did in the previous assignment. For each database image, its final score with regard to this query image will be the **number of correct matches** with this image:"
      ],
      "id": "9b5ec641"
    },
    {
      "cell_type": "markdown",
      "metadata": {
        "id": "pHzWmAUYU7Na"
      },
      "source": [
        "The 2 matches returned have 0 distance!\n",
        "\n"
      ],
      "id": "pHzWmAUYU7Na"
    },
    {
      "cell_type": "code",
      "execution_count": 36,
      "metadata": {
        "id": "d9560c34"
      },
      "outputs": [],
      "source": [
        "def search_image(descs, index, id_to_name):\n",
        "    \"\"\"\n",
        "    Search an image in the index\n",
        "    \n",
        "    - descs: A numpy array. This is the set descriptors extracted from the query image\n",
        "    - index: OpenCV FLANN index to search for descriptors.\n",
        "    - id_to_name: An associative list to link every image index to its real name\n",
        "        e.g. id_to_name[0] = '100001.jpg', id_to_name[1] = '100002.jpg'\n",
        "  \n",
        "    RETURN: \n",
        "    - An ordered list of similar images, e.g.: ['100101.jpg', '100202.jpg', ...]\n",
        "  \n",
        "    \"\"\"\n",
        "\n",
        "    for desc in descs:\n",
        "      # Perform FLANN-based matching to find similar descriptors\n",
        "      matches = index.knnMatch(queryDescriptors=descs, k=2)\n",
        "\n",
        "      # Apply ratio test to filter out bad matches\n",
        "      good_matches = []\n",
        "      if len(matches) == 2:\n",
        "        for m, n in matches:\n",
        "            if m.distance < 0.8 * n.distance:\n",
        "                good_matches.append(m)\n",
        "    \n",
        "    # Collect indices of similar images\n",
        "    similar_ids = set()\n",
        "    for m in good_matches:\n",
        "        img_idx = m.imgIdx\n",
        "        similar_ids.add(img_idx)\n",
        "    \n",
        "    # Convert indices to image names\n",
        "    similar_names = []\n",
        "    for id in similar_ids:\n",
        "        similar_names.append(id_to_name[id])\n",
        "    \n",
        "    # Return ordered list of similar images\n",
        "    return sorted(similar_names)"
      ],
      "id": "d9560c34"
    },
    {
      "cell_type": "code",
      "execution_count": 9,
      "metadata": {
        "colab": {
          "base_uri": "https://localhost:8080/"
        },
        "id": "CfdqDu4mYB-H",
        "outputId": "b1e8273c-0bcb-4d16-bb36-2e86780b1ef5"
      },
      "outputs": [
        {
          "output_type": "stream",
          "name": "stdout",
          "text": [
            "['100001.jpg', '100002.jpg']\n"
          ]
        }
      ],
      "source": [
        "print(train_names[0:2])"
      ],
      "id": "CfdqDu4mYB-H"
    },
    {
      "cell_type": "code",
      "execution_count": 10,
      "metadata": {
        "colab": {
          "base_uri": "https://localhost:8080/"
        },
        "id": "4gWME8MdYbRY",
        "outputId": "e600b660-86d2-4a78-db90-d003d813cdc0"
      },
      "outputs": [
        {
          "output_type": "stream",
          "name": "stdout",
          "text": [
            "100000.jpg\n"
          ]
        }
      ],
      "source": [
        "print(query_names[0])"
      ],
      "id": "4gWME8MdYbRY"
    },
    {
      "cell_type": "markdown",
      "metadata": {
        "id": "5470e6a8"
      },
      "source": [
        "Now, write a function called `compute_mAP`. Given a list of query images and a trained index, this function should return a Python dictionary with the ordered results for each query along with the computed mAP:"
      ],
      "id": "5470e6a8"
    },
    {
      "cell_type": "code",
      "source": [
        "ground_truth = {}\n",
        "with open('../holidays_mini/holidays_images.dat') as f:\n",
        "    for line in f:\n",
        "        imname = line.strip()\n",
        "        imno = int(imname[:-len(\".jpg\")])\n",
        "    \n",
        "        # Checking if this is a query image\n",
        "        if imno % 100 == 0:\n",
        "            results = []\n",
        "            ground_truth[imname] = results\n",
        "        else:\n",
        "            results.append(imname)\n",
        "print(ground_truth)"
      ],
      "metadata": {
        "colab": {
          "base_uri": "https://localhost:8080/"
        },
        "id": "Gm70fvFzyu7e",
        "outputId": "b7553e8e-6a59-4f87-fb63-3c8a81b1d626"
      },
      "id": "Gm70fvFzyu7e",
      "execution_count": 11,
      "outputs": [
        {
          "output_type": "stream",
          "name": "stdout",
          "text": [
            "{'100000.jpg': ['100001.jpg', '100002.jpg'], '100100.jpg': ['100101.jpg'], '100200.jpg': ['100201.jpg'], '100300.jpg': ['100301.jpg', '100302.jpg'], '100400.jpg': ['100401.jpg'], '100500.jpg': ['100501.jpg', '100502.jpg', '100503.jpg'], '100600.jpg': ['100601.jpg'], '100700.jpg': ['100701.jpg'], '100800.jpg': ['100801.jpg'], '100900.jpg': ['100901.jpg', '100902.jpg'], '101000.jpg': ['101001.jpg'], '101100.jpg': ['101101.jpg'], '101200.jpg': ['101201.jpg'], '101300.jpg': ['101301.jpg'], '101400.jpg': ['101401.jpg', '101402.jpg', '101403.jpg', '101404.jpg'], '101500.jpg': ['101501.jpg', '101502.jpg', '101503.jpg', '101504.jpg'], '101600.jpg': ['101601.jpg'], '101700.jpg': ['101701.jpg', '101702.jpg'], '101800.jpg': ['101801.jpg']}\n"
          ]
        }
      ]
    },
    {
      "cell_type": "code",
      "execution_count": 12,
      "metadata": {
        "id": "0195c2f4"
      },
      "outputs": [],
      "source": [
        "def compute_mAP(query_names, query_desc, index, id_to_name, gt_file):\n",
        "    \"\"\"\n",
        "    Perform a search for a list of query images against the database.\n",
        "    \n",
        "    - query_names: An ordered list with the names of the query images\n",
        "    - query_desc: A list containing numpy arrays of size (ndesc_for_this_image, 128)\n",
        "                  Each numpy array i corresponds to the descriptors found at image i\n",
        "    - index: FLANN index\n",
        "    - id_to_name: An associative array to link every image index to its real name\n",
        "                  e.g. id_to_name[0] = '100001.jpg', id_to_name[1] = '100002.jpg'\n",
        "  \n",
        "    RETURN: \n",
        "    - total_results: A dictionary containing, for each query image, an sorted list of the database images\n",
        "    - m_ap: Mean Average Precision averaged over all queries\n",
        "    \"\"\"\n",
        "    total_results = {}\n",
        "    m_ap = 0.0\n",
        "      \n",
        "    for qname, qdesc in zip(query_names, query_desc):\n",
        "        # Search for similar images\n",
        "        results = search_image(qdesc, index, id_to_name)\n",
        "        total_results[qname] = results\n",
        "    \n",
        "    m_ap = ev.compute_mAP(total_results, gt_file)\n",
        "    return total_results, m_ap"
      ],
      "id": "0195c2f4"
    },
    {
      "cell_type": "markdown",
      "metadata": {
        "id": "6a7782f8"
      },
      "source": [
        "### $k$-d Trees\n",
        "In this section you will use a set of randomized $k$-d trees to index the database of images. Write a function called `build_db_kdtrees` to build a set of randomized $k$-d trees given a set of descriptors:\n",
        "\n",
        "> **Useful links**: [cv2.FlannBasedMatcher](https://docs.opencv.org/4.5.5/dc/de2/classcv_1_1FlannBasedMatcher.html), [Possible algorithms to create an index](https://docs.opencv.org/4.5.5/db/d18/classcv_1_1flann_1_1GenericIndex.html#a8fff14185f9f3d2f2311b528f65b146c), [Algorithms IDs](https://github.com/opencv/opencv/blob/master/modules/flann/include/opencv2/flann/defines.h#L70)"
      ],
      "id": "6a7782f8"
    },
    {
      "cell_type": "code",
      "execution_count": 13,
      "metadata": {
        "id": "3586111e"
      },
      "outputs": [],
      "source": [
        "def build_db_kdtrees(descs, ntrees = 4):\n",
        "    \"\"\"\n",
        "    Build a set of randomized k-d trees.\n",
        "    \n",
        "    - descs: A list of length len(img_names) where each element is a numpy array \n",
        "        of size (ndesc_for_this_image, 128). Each numpy array i corresponds \n",
        "        to the descriptors found on image i\n",
        "    - ntrees: Number of trees to train\n",
        "  \n",
        "    RETURN: \n",
        "    - index: Trained FLANN index\n",
        "    \"\"\"  \n",
        "  \n",
        "    FLANN_INDEX_KDTREE = 1\n",
        "    index_params = dict(algorithm=FLANN_INDEX_KDTREE, trees=ntrees)\n",
        "    search_params = dict(checks=32)\n",
        "    flann = cv2.FlannBasedMatcher(index_params, search_params)\n",
        "    flann.add(descs)\n",
        "    flann.train()\n",
        "    return flann"
      ],
      "id": "3586111e"
    },
    {
      "cell_type": "markdown",
      "source": [
        "Checking to make sure when pass in all train_desc that it not just matching to all of them"
      ],
      "metadata": {
        "id": "SdddqZ9Ote4h"
      },
      "id": "SdddqZ9Ote4h"
    },
    {
      "cell_type": "code",
      "source": [
        "index = build_db_kdtrees(train_desc)\n",
        "print(len(index.getTrainDescriptors()))\n",
        "img_res = search_image(query_desc[0], index, train_names)\n",
        "print(img_res)\n",
        "print(\"number of training images to match to: \", len(train_names))\n",
        "print(\"number of training images actually matched to: \", len(img_res))"
      ],
      "metadata": {
        "colab": {
          "base_uri": "https://localhost:8080/"
        },
        "id": "KfKA52S6s-Vq",
        "outputId": "1ae9fd5a-ca9b-4805-f108-221a3f693ec7"
      },
      "id": "KfKA52S6s-Vq",
      "execution_count": 14,
      "outputs": [
        {
          "output_type": "stream",
          "name": "stdout",
          "text": [
            "31\n",
            "['100002.jpg', '100101.jpg', '100201.jpg', '100502.jpg', '100503.jpg', '101503.jpg', '101504.jpg']\n",
            "number of training images to match to:  31\n",
            "number of training images actually matched to:  7\n"
          ]
        }
      ]
    },
    {
      "cell_type": "code",
      "execution_count": null,
      "metadata": {
        "id": "0c32c81c",
        "colab": {
          "base_uri": "https://localhost:8080/"
        },
        "outputId": "25d4f2ef-cfe0-4f16-c610-ed2de4834fef"
      },
      "outputs": [
        {
          "output_type": "stream",
          "name": "stdout",
          "text": [
            "0.05263157894736842\n"
          ]
        }
      ],
      "source": [
        "# Simple example of DB construction\n",
        "index = build_db_kdtrees(train_desc[0:2])\n",
        "# Example of computing mAP\n",
        "results, mAP = compute_mAP(query_names, query_desc, index, train_names[0:2], '../holidays_mini/holidays_images.dat')\n",
        "print(mAP) # This should be 0 now, since there is only two images in the database."
      ],
      "id": "0c32c81c"
    },
    {
      "cell_type": "code",
      "source": [
        "def plot_chart(values, labels, title, xlabel, ylabel):\n",
        "  fig, ax = plt.subplots()\n",
        "  ax.bar(labels, values)\n",
        "\n",
        "  # Set the chart title and axis labels\n",
        "  ax.set_title(title)\n",
        "  ax.set_xlabel(xlabel)\n",
        "  ax.set_ylabel(ylabel)\n",
        "\n",
        "  # Display the chart\n",
        "  plt.show()"
      ],
      "metadata": {
        "id": "OhSyru8_dvYB"
      },
      "id": "OhSyru8_dvYB",
      "execution_count": 15,
      "outputs": []
    },
    {
      "cell_type": "markdown",
      "metadata": {
        "id": "ec669537"
      },
      "source": [
        "**Q1**: Using functions developed so far, in the following cell compute the resulting **mAP** of the system **using 4 trees**: (the default values)"
      ],
      "id": "ec669537"
    },
    {
      "cell_type": "code",
      "execution_count": null,
      "metadata": {
        "id": "d3d0cfe3"
      },
      "outputs": [],
      "source": [
        "import time\n",
        "\n",
        "start_time = time.time()\n",
        "index = build_db_kdtrees(train_desc, ntrees = 4)\n",
        "train_time_kdtrees = time.time() - start_time"
      ],
      "id": "d3d0cfe3"
    },
    {
      "cell_type": "code",
      "source": [
        "img_res = search_image(query_desc[0], index, train_names)\n",
        "results_4_trees, mAP_kdtree_4_trees = compute_mAP(query_names, query_desc, index, train_names, '../holidays_mini/holidays_images.dat')\n",
        "print('mAP: %.5f' % mAP_kdtree_4_trees)"
      ],
      "metadata": {
        "id": "RsCSQy7Bj186"
      },
      "id": "RsCSQy7Bj186",
      "execution_count": null,
      "outputs": []
    },
    {
      "cell_type": "markdown",
      "metadata": {
        "id": "57bae631"
      },
      "source": [
        "**Q2**: Are the results stable? Do you obtain always the same mAP? Why?"
      ],
      "id": "57bae631"
    },
    {
      "cell_type": "code",
      "source": [
        "_, mAP_kdtree_4_trees_attempt1 = compute_mAP(query_names, query_desc, index, train_names, '../holidays_mini/holidays_images.dat')\n",
        "\n",
        "_, mAP_kdtree_4_trees_attempt2 = compute_mAP(query_names, query_desc, index, train_names, '../holidays_mini/holidays_images.dat')\n",
        "\n",
        "_, mAP_kdtree_4_trees_attempt3 = compute_mAP(query_names, query_desc, index, train_names, '../holidays_mini/holidays_images.dat')"
      ],
      "metadata": {
        "id": "BfURwhWghf1x"
      },
      "id": "BfURwhWghf1x",
      "execution_count": null,
      "outputs": []
    },
    {
      "cell_type": "code",
      "source": [
        "print(\"different mAPs for the same query: \", mAP_kdtree_4_trees_attempt1, mAP_kdtree_4_trees_attempt2, mAP_kdtree_4_trees_attempt3)"
      ],
      "metadata": {
        "colab": {
          "base_uri": "https://localhost:8080/"
        },
        "id": "xzT99abyqdIs",
        "outputId": "f9784a8f-60ab-4adf-c8d2-e2e2e6d48f8b"
      },
      "id": "xzT99abyqdIs",
      "execution_count": null,
      "outputs": [
        {
          "output_type": "stream",
          "name": "stdout",
          "text": [
            "different mAPs for the same query:  0.5195977633477634 0.5195977633477634 0.5195977633477634\n"
          ]
        }
      ]
    },
    {
      "cell_type": "code",
      "source": [
        "values = [mAP_kdtree_4_trees_attempt1, mAP_kdtree_4_trees_attempt2, mAP_kdtree_4_trees_attempt3]\n",
        "labels = [\"attempt1\", \"attempt2\", \"attempt3\"]\n",
        "plot_chart(values, labels, \"mAP for exact same queries\", \"mAP\", \"attempts\")"
      ],
      "metadata": {
        "colab": {
          "base_uri": "https://localhost:8080/",
          "height": 472
        },
        "id": "vbwTUSE6hqsl",
        "outputId": "d64c7cff-c30c-427d-d80a-341ce4b4fef5"
      },
      "id": "vbwTUSE6hqsl",
      "execution_count": null,
      "outputs": [
        {
          "output_type": "display_data",
          "data": {
            "text/plain": [
              "<Figure size 640x480 with 1 Axes>"
            ],
            "image/png": "[encoded data removed]"
          },
          "metadata": {}
        }
      ]
    },
    {
      "cell_type": "markdown",
      "metadata": {
        "id": "8baed384"
      },
      "source": [
        "**Q3:** Analyze the effect of changing the number of trees in terms of mAP and average response time. Some plots here can be useful to justify your answer."
      ],
      "id": "8baed384"
    },
    {
      "cell_type": "code",
      "source": [
        "start_time = time.time()\n",
        "index_2_trees = build_db_kdtrees(train_desc[0:3], ntrees = 2)\n",
        "train_time_2_trees = time.time() - start_time\n",
        "\n",
        "start_time = time.time()\n",
        "index_4_trees = build_db_kdtrees(train_desc[0:3], ntrees = 4)\n",
        "train_time_4_trees = time.time() - start_time\n",
        "\n",
        "start_time = time.time()\n",
        "index_8_trees = build_db_kdtrees(train_desc[0:3], ntrees = 8)\n",
        "train_time_8_trees = time.time() - start_time\n",
        "train_time_kdtree = [train_time_2_trees, train_time_4_trees, train_time_8_trees]"
      ],
      "metadata": {
        "id": "P2SoH7FnzX4R"
      },
      "id": "P2SoH7FnzX4R",
      "execution_count": 46,
      "outputs": []
    },
    {
      "cell_type": "code",
      "source": [
        "results, mAP_kdtree2 = compute_mAP(query_names, query_desc, index_2_trees, train_names[0:5], '../holidays_mini/holidays_images.dat')\n",
        "print(\"mAP with 2 trees: \", mAP_kdtree2)\n",
        "\n",
        "results, mAP_kdtree4 = compute_mAP(query_names, query_desc, index_4_trees, train_names[0:5], '../holidays_mini/holidays_images.dat')\n",
        "print(\"mAP with 4 trees: \", mAP_kdtree4)\n",
        "\n",
        "results, mAP_kdtree8 = compute_mAP(query_names, query_desc, index_8_trees, train_names[0:5], '../holidays_mini/holidays_images.dat')\n",
        "print(\"mAP with 8 trees: \", mAP_kdtree8)"
      ],
      "metadata": {
        "colab": {
          "base_uri": "https://localhost:8080/"
        },
        "id": "iiSXjHdn2yqA",
        "outputId": "cfbe7d7d-8a7c-4001-bfa7-080cb5509956"
      },
      "id": "iiSXjHdn2yqA",
      "execution_count": null,
      "outputs": [
        {
          "output_type": "stream",
          "name": "stdout",
          "text": [
            "mAP with 2 trees:  0.12938596491228072\n",
            "mAP with 4 trees:  0.10307017543859649\n",
            "mAP with 8 trees:  0.13596491228070176\n"
          ]
        }
      ]
    },
    {
      "cell_type": "markdown",
      "source": [
        "mAP for different N trees"
      ],
      "metadata": {
        "id": "zqi3WdMw8p_i"
      },
      "id": "zqi3WdMw8p_i"
    },
    {
      "cell_type": "code",
      "source": [
        "mAP_scores_kdtree = [mAP_kdtree2, mAP_kdtree4, mAP_kdtree8]\n",
        "labels_kdtree = ['2', '4', '8']\n",
        "\n",
        "plot_chart(mAP_scores_kdtree, labels_kdtree, \"mAP for different N trees\", \"mAP\", \"N trees\")"
      ],
      "metadata": {
        "colab": {
          "base_uri": "https://localhost:8080/",
          "height": 472
        },
        "id": "AZVNvoYK1uk5",
        "outputId": "d115e76a-3553-4fb7-ddcc-8c784d768edd"
      },
      "id": "AZVNvoYK1uk5",
      "execution_count": null,
      "outputs": [
        {
          "output_type": "display_data",
          "data": {
            "text/plain": [
              "<Figure size 640x480 with 1 Axes>"
            ],
            "image/png": "[encoded data removed]"
          },
          "metadata": {}
        }
      ]
    },
    {
      "cell_type": "markdown",
      "source": [
        "Average Query Times"
      ],
      "metadata": {
        "id": "JBv_80R18lke"
      },
      "id": "JBv_80R18lke"
    },
    {
      "cell_type": "code",
      "source": [
        "import time\n",
        "total_time_2_trees = 0\n",
        "total_time_4_trees = 0\n",
        "total_time_8_trees = 0\n",
        "# Define the number of queries to run\n",
        "num_queries = 5\n",
        "\n",
        "# Loop through the queries\n",
        "for i in range(num_queries):\n",
        "    # Time how long the search takes\n",
        "    start_time_2_trees = time.time() \n",
        "    results_2_trees = search_image(query_desc[i], index_2_trees, train_names[0:4])\n",
        "    end_time_2_trees = time.time()\n",
        "\n",
        "    start_time_4_trees = time.time()\n",
        "    results_4_trees = search_image(query_desc[i], index_4_trees, train_names[0:4])\n",
        "    end_time_4_trees = time.time()\n",
        "\n",
        "    start_time_8_trees = time.time()\n",
        "    results_8_trees = search_image(query_desc[i], index_8_trees, train_names[0:4])\n",
        "    end_time_8_trees = time.time()\n",
        "\n",
        "    # Add the time taken to the total\n",
        "    total_time_2_trees += (end_time_2_trees - start_time_2_trees)\n",
        "    total_time_4_trees += (end_time_4_trees - start_time_4_trees)\n",
        "    total_time_8_trees += (end_time_8_trees - start_time_8_trees)\n",
        "\n",
        "# Compute the average time taken\n",
        "avg_time_2_trees = total_time_2_trees / num_queries\n",
        "avg_time_4_trees = total_time_4_trees / num_queries\n",
        "avg_time_8_trees = total_time_8_trees / num_queries"
      ],
      "metadata": {
        "id": "tKbxolMGxc0Q"
      },
      "id": "tKbxolMGxc0Q",
      "execution_count": 52,
      "outputs": []
    },
    {
      "cell_type": "code",
      "source": [
        "avg_query_times_kdtree = [avg_time_2_trees, avg_time_4_trees, avg_time_8_trees]\n",
        "labels_kdtree = ['2', '4', '8']\n",
        "\n",
        "plot_chart(avg_query_times_kdtree, labels_kdtree, \"average query times for N trees\", \"query time\", \"N trees\")"
      ],
      "metadata": {
        "colab": {
          "base_uri": "https://localhost:8080/",
          "height": 472
        },
        "id": "8S9OTcg_ytiW",
        "outputId": "82d71e7c-d292-4be9-def6-46228f3e3594"
      },
      "id": "8S9OTcg_ytiW",
      "execution_count": 53,
      "outputs": [
        {
          "output_type": "display_data",
          "data": {
            "text/plain": [
              "<Figure size 640x480 with 1 Axes>"
            ],
            "image/png": "[encoded data removed]"
          },
          "metadata": {}
        }
      ]
    },
    {
      "cell_type": "code",
      "source": [
        "plot_chart(train_time_kdtree, labels_kdtree, \"training times for N trees\", \"training time\", \"N trees\")"
      ],
      "metadata": {
        "colab": {
          "base_uri": "https://localhost:8080/",
          "height": 472
        },
        "id": "hqbJhcTx8u88",
        "outputId": "059db32f-e951-436a-806c-fd36fe515dce"
      },
      "id": "hqbJhcTx8u88",
      "execution_count": 28,
      "outputs": [
        {
          "output_type": "display_data",
          "data": {
            "text/plain": [
              "<Figure size 640x480 with 1 Axes>"
            ],
            "image/png": "[encoded data removed]"
          },
          "metadata": {}
        }
      ]
    },
    {
      "cell_type": "markdown",
      "metadata": {
        "id": "52633ad1"
      },
      "source": [
        "### Locality Sensitive Hashing (LSH)\n",
        "In this section, you will use LSH to index the database of images. The LSH implementation included in OpenCV uses **bit sampling** for **Hamming distance** as a hash function and, therefore, binary descriptors must be used. Hence, SIFT descriptors are not valid and we need to describe the images, but using, for instance, ORB.\n",
        "\n",
        "In the following cell, write the code required to generate **roughly 1500 keypoints / descriptors** using ORB for each query / train image:\n",
        "\n",
        "> **Useful links**: [cv2.ORB_create](https://docs.opencv.org/4.5.4/db/d95/classcv_1_1ORB.html#aeff0cbe668659b7ca14bb85ff1c4073b)"
      ],
      "id": "52633ad1"
    },
    {
      "cell_type": "code",
      "execution_count": 16,
      "metadata": {
        "id": "4b1223cb"
      },
      "outputs": [],
      "source": [
        "def generateAllDescriptorsAndKeypoints(query_images, train_images, no_keypoints=1500, no_descriptors=1500):\n",
        "    \"\"\"\n",
        "    In this section, you will use LSH to index the database of images. The LSH implementation \n",
        "    included in OpenCV uses bit sampling for Hamming distance as a hash function and, therefore, \n",
        "    binary descriptors must be used. Hence, SIFT descriptors are not valid and we need to describe the images\n",
        "    , but using, for instance, ORB.\n",
        "\n",
        "    Useful links: cv2.ORB_create\n",
        "\n",
        "    generate roughly 1500 keypoints / descriptors using ORB for each query / train image:\n",
        "    \n",
        "    - descs: A list of length len(img_names) where each element is a numpy array \n",
        "        of size (ndesc_for_this_image, 128). Each numpy array i corresponds \n",
        "        to the descriptors found on image i\n",
        "    - ntrees: Number of trees to train\n",
        "\n",
        "    RETURN: \n",
        "    - query_kps_orb: list of keypoints for query images\n",
        "    - query_desc_orb: list of descriptors for query images\n",
        "    - train_kps_orb: list of keypoints for train images\n",
        "    - train_desc_orb: list of descriptors for train images\n",
        "    \"\"\" \n",
        "    \n",
        "    orb = cv2.ORB_create(nfeatures=no_keypoints, nlevels=8, scoreType=cv2.ORB_FAST_SCORE)\n",
        "\n",
        "    # Initialize keypoint and descriptor lists for query and train images\n",
        "    query_kps_orb = []\n",
        "    query_desc_orb = []\n",
        "    train_kps_orb = []\n",
        "    train_desc_orb = []\n",
        "\n",
        "    # Generate keypoints and descriptors for query images\n",
        "    for query_image in query_images:\n",
        "      img = cv2.cvtColor(query_image, cv2.COLOR_BGR2GRAY)\n",
        "      kps, desc = orb.detectAndCompute(img, None)\n",
        "      query_kps_orb.append(kps)\n",
        "      query_desc_orb.append(desc)\n",
        "\n",
        "    # Generate keypoints and descriptors for train images\n",
        "    for train_image in train_images:\n",
        "      img = cv2.cvtColor(train_image, cv2.COLOR_BGR2GRAY)\n",
        "      kps, desc = orb.detectAndCompute(img, None)\n",
        "      train_kps_orb.append(kps)\n",
        "      train_desc_orb.append(desc)\n",
        "\n",
        "    return query_kps_orb, query_desc_orb, train_kps_orb, train_desc_orb"
      ],
      "id": "4b1223cb"
    },
    {
      "cell_type": "code",
      "execution_count": 17,
      "metadata": {
        "id": "gqxorAYXx468"
      },
      "outputs": [],
      "source": [
        "[query_kps_orb, query_desc_orb, train_kps_orb, train_desc_orb] = generateAllDescriptorsAndKeypoints(query_imgs, train_imgs)"
      ],
      "id": "gqxorAYXx468"
    },
    {
      "cell_type": "code",
      "execution_count": 18,
      "metadata": {
        "id": "03aa9edf",
        "colab": {
          "base_uri": "https://localhost:8080/"
        },
        "outputId": "5d449cdd-22a5-4759-f5e6-1bd43e2f487d"
      },
      "outputs": [
        {
          "output_type": "stream",
          "name": "stdout",
          "text": [
            "1563\n",
            "(1563, 32)\n",
            "[[ 45  45  17 ... 251  82 160]\n",
            " [ 13 220 255 ... 146  84 171]\n",
            " [203   4 103 ... 244 112 116]\n",
            " ...\n",
            " [211  13 119 ... 160 165 116]\n",
            " [224  98 157 ... 240 138  11]\n",
            " [162  43 172 ...  93  90 207]]\n"
          ]
        }
      ],
      "source": [
        "# Show some data\n",
        "print(len(query_kps_orb[0]))\n",
        "print(query_desc_orb[0].shape)\n",
        "print(query_desc_orb[0])"
      ],
      "id": "03aa9edf"
    },
    {
      "cell_type": "markdown",
      "metadata": {
        "id": "b3362cc8"
      },
      "source": [
        "\n",
        "Next, write a function called `build_db_lsh` to build a **standard** (*no multi-probe*) LSH index from a set of images:"
      ],
      "id": "b3362cc8"
    },
    {
      "cell_type": "code",
      "execution_count": 19,
      "metadata": {
        "id": "7f4e0e3e"
      },
      "outputs": [],
      "source": [
        "def build_db_lsh(descs, tables = 6, hash_size = 12):\n",
        "    \"\"\"\n",
        "    build a standard (no multi-probe) LSH index from a set of images\n",
        "    Index a set of images using LSH.    \n",
        "    \n",
        "    - descs: A list containing numpy arrays of size (~1500, 32). Each numpy array\n",
        "        i corresponds to the ORB descriptors found at image i.\n",
        "    - tables: Number of hash tables to create.\n",
        "    - hash_size: Hash length in bits.\n",
        "  \n",
        "    RETURN: \n",
        "    - index: The trained LSH index.\n",
        "    \"\"\"  \n",
        "    FLANN_INDEX_LSH = 6\n",
        "\n",
        "    brisk = cv2.BRISK()\n",
        "\n",
        "    index_params= dict(algorithm = FLANN_INDEX_LSH,\n",
        "                      table_number = tables,\n",
        "                      key_size = hash_size,    \n",
        "                      multi_probe_level = 0)\n",
        "    search_params = dict(checks=50) \n",
        "\n",
        "    flann = cv2.FlannBasedMatcher(index_params,search_params)\n",
        "\n",
        "    flann.add(descs)\n",
        "\n",
        "    return flann"
      ],
      "id": "7f4e0e3e"
    },
    {
      "cell_type": "code",
      "execution_count": 20,
      "metadata": {
        "id": "jy0znJh8269l",
        "colab": {
          "base_uri": "https://localhost:8080/"
        },
        "outputId": "20b94c07-04a5-4e45-f2b8-cee97efbae80"
      },
      "outputs": [
        {
          "output_type": "stream",
          "name": "stdout",
          "text": [
            "[[ 89  27 223 ... 224  33 113]\n",
            " [146 161 107 ... 130 171 169]\n",
            " [ 39  63 252 ... 223  71 245]\n",
            " ...\n",
            " [  3 141  39 ...   2 177 213]\n",
            " [ 41 203  17 ... 142 208 137]\n",
            " [116 106 233 ... 251  86 100]]\n"
          ]
        }
      ],
      "source": [
        "print(train_desc_orb[0])"
      ],
      "id": "jy0znJh8269l"
    },
    {
      "cell_type": "code",
      "execution_count": 21,
      "metadata": {
        "id": "80ccfabe",
        "colab": {
          "base_uri": "https://localhost:8080/"
        },
        "outputId": "aa35dea3-c75f-41df-edfb-a0cd944dcca2"
      },
      "outputs": [
        {
          "output_type": "stream",
          "name": "stdout",
          "text": [
            "2\n"
          ]
        }
      ],
      "source": [
        "# Simple example of DB construction\n",
        "index = build_db_lsh(train_desc_orb[0:2])\n",
        "print(len(index.getTrainDescriptors()))"
      ],
      "id": "80ccfabe"
    },
    {
      "cell_type": "markdown",
      "metadata": {
        "id": "e544ed8d"
      },
      "source": [
        "**Q4**: In the following cell compute the resulting **mAP** of the system **using 6 tables and a hash size of 12**: (the default values)"
      ],
      "id": "e544ed8d"
    },
    {
      "cell_type": "code",
      "source": [
        "# Fill this variable with the resulting mAP\n",
        "mAP_lsh = 0.0\n",
        "index = build_db_lsh(train_desc_orb[0:5])\n",
        "img_res = search_image(query_desc_orb[0], index, train_names[0:5])"
      ],
      "metadata": {
        "id": "KpNKFDEc-rFg"
      },
      "id": "KpNKFDEc-rFg",
      "execution_count": 22,
      "outputs": []
    },
    {
      "cell_type": "code",
      "source": [
        "results, mAP_lsh = compute_mAP(query_names, query_desc_orb, index, train_names[0:5], '../holidays_mini/holidays_images.dat')"
      ],
      "metadata": {
        "id": "VF2HUPsSkbLA"
      },
      "id": "VF2HUPsSkbLA",
      "execution_count": null,
      "outputs": []
    },
    {
      "cell_type": "code",
      "source": [
        "print(\"results found: \", results)\n",
        "print(\"ground truth: \", ground_truth)"
      ],
      "metadata": {
        "colab": {
          "base_uri": "https://localhost:8080/"
        },
        "id": "mbu5c71CCP1A",
        "outputId": "43adf1d3-05e2-4764-bdea-cfc02d74a3a7"
      },
      "id": "mbu5c71CCP1A",
      "execution_count": null,
      "outputs": [
        {
          "output_type": "stream",
          "name": "stdout",
          "text": [
            "results found:  {'100000.jpg': ['100001.jpg', '100002.jpg', '100101.jpg', '100201.jpg', '100301.jpg'], '100100.jpg': ['100001.jpg', '100002.jpg', '100101.jpg', '100201.jpg', '100301.jpg'], '100200.jpg': ['100001.jpg', '100002.jpg', '100101.jpg', '100201.jpg', '100301.jpg'], '100300.jpg': ['100001.jpg', '100002.jpg', '100101.jpg', '100201.jpg', '100301.jpg'], '100400.jpg': ['100001.jpg', '100002.jpg', '100101.jpg', '100201.jpg', '100301.jpg'], '100500.jpg': ['100001.jpg', '100002.jpg', '100101.jpg', '100201.jpg', '100301.jpg'], '100600.jpg': ['100001.jpg', '100002.jpg', '100101.jpg', '100201.jpg', '100301.jpg'], '100700.jpg': ['100001.jpg', '100002.jpg', '100101.jpg', '100201.jpg', '100301.jpg'], '100800.jpg': ['100001.jpg', '100002.jpg', '100101.jpg', '100201.jpg', '100301.jpg'], '100900.jpg': ['100001.jpg', '100002.jpg', '100101.jpg', '100201.jpg', '100301.jpg'], '101000.jpg': ['100001.jpg', '100002.jpg', '100101.jpg', '100201.jpg', '100301.jpg'], '101100.jpg': ['100001.jpg', '100002.jpg', '100101.jpg', '100201.jpg', '100301.jpg'], '101200.jpg': ['100001.jpg', '100002.jpg', '100101.jpg', '100201.jpg', '100301.jpg'], '101300.jpg': ['100002.jpg', '100101.jpg', '100201.jpg', '100301.jpg'], '101400.jpg': ['100002.jpg', '100101.jpg', '100201.jpg', '100301.jpg'], '101500.jpg': ['100001.jpg', '100002.jpg', '100101.jpg', '100201.jpg', '100301.jpg'], '101600.jpg': ['100001.jpg', '100002.jpg', '100101.jpg', '100201.jpg', '100301.jpg'], '101700.jpg': ['100001.jpg', '100002.jpg', '100101.jpg', '100201.jpg', '100301.jpg'], '101800.jpg': ['100001.jpg', '100002.jpg', '100101.jpg', '100201.jpg', '100301.jpg']}\n",
            "ground truth:  {'100000.jpg': ['100001.jpg', '100002.jpg'], '100100.jpg': ['100101.jpg'], '100200.jpg': ['100201.jpg'], '100300.jpg': ['100301.jpg', '100302.jpg'], '100400.jpg': ['100401.jpg'], '100500.jpg': ['100501.jpg', '100502.jpg', '100503.jpg'], '100600.jpg': ['100601.jpg'], '100700.jpg': ['100701.jpg'], '100800.jpg': ['100801.jpg'], '100900.jpg': ['100901.jpg', '100902.jpg'], '101000.jpg': ['101001.jpg'], '101100.jpg': ['101101.jpg'], '101200.jpg': ['101201.jpg'], '101300.jpg': ['101301.jpg'], '101400.jpg': ['101401.jpg', '101402.jpg', '101403.jpg', '101404.jpg'], '101500.jpg': ['101501.jpg', '101502.jpg', '101503.jpg', '101504.jpg'], '101600.jpg': ['101601.jpg'], '101700.jpg': ['101701.jpg', '101702.jpg'], '101800.jpg': ['101801.jpg']}\n"
          ]
        }
      ]
    },
    {
      "cell_type": "code",
      "execution_count": null,
      "metadata": {
        "id": "c9716be7",
        "colab": {
          "base_uri": "https://localhost:8080/"
        },
        "outputId": "f0f354e1-c92d-4d73-9af5-aafe285a92b8"
      },
      "outputs": [
        {
          "output_type": "stream",
          "name": "stdout",
          "text": [
            "mAP: 0.08860\n"
          ]
        }
      ],
      "source": [
        "print('mAP: %.5f' % mAP_lsh)"
      ],
      "id": "c9716be7"
    },
    {
      "cell_type": "markdown",
      "metadata": {
        "id": "1e599bd3"
      },
      "source": [
        "**Q5**: Are the results stable? Do you obtain always the same mAP? Why?"
      ],
      "id": "1e599bd3"
    },
    {
      "cell_type": "code",
      "source": [
        "_, mAP_lsh_attempt1 = compute_mAP(query_names, query_desc_orb, index, train_names[0:5], '../holidays_mini/holidays_images.dat')\n",
        "\n",
        "_, mAP_lsh_attempt2 = compute_mAP(query_names, query_desc_orb, index, train_names[0:5], '../holidays_mini/holidays_images.dat')\n",
        "\n",
        "_, mAP_lsh_attempt3 = compute_mAP(query_names, query_desc_orb, index, train_names[0:5], '../holidays_mini/holidays_images.dat')"
      ],
      "metadata": {
        "id": "1ZEBoKQekGwE"
      },
      "id": "1ZEBoKQekGwE",
      "execution_count": null,
      "outputs": []
    },
    {
      "cell_type": "code",
      "source": [
        "values = [mAP_lsh_attempt1, mAP_lsh_attempt2, mAP_lsh_attempt3]\n",
        "labels = [\"attempt1\", \"attempt2\", \"attempt3\"]\n",
        "plot_chart(values, labels, \"mAP for exact same queries\", \"mAP\", \"attempts\")"
      ],
      "metadata": {
        "colab": {
          "base_uri": "https://localhost:8080/",
          "height": 472
        },
        "id": "Su4OL_t9kNcL",
        "outputId": "0f99a85e-21ab-404d-c25f-df288dbaeb19"
      },
      "id": "Su4OL_t9kNcL",
      "execution_count": null,
      "outputs": [
        {
          "output_type": "display_data",
          "data": {
            "text/plain": [
              "<Figure size 640x480 with 1 Axes>"
            ],
            "image/png": "[encoded data removed]"
          },
          "metadata": {}
        }
      ]
    },
    {
      "cell_type": "markdown",
      "metadata": {
        "id": "64381fca"
      },
      "source": [
        "**Q6**: Analyze the effect of changing the number of tables / hash size in terms of mAP and average response time. Some plots here can be useful to justify your answer."
      ],
      "id": "64381fca"
    },
    {
      "cell_type": "code",
      "source": [
        "index = build_db_lsh(train_desc_orb[0:5])\n",
        "img_res = search_image(query_desc_orb[0], index, train_names[0:5])"
      ],
      "metadata": {
        "id": "MbbXtvINEEuR"
      },
      "id": "MbbXtvINEEuR",
      "execution_count": null,
      "outputs": []
    },
    {
      "cell_type": "code",
      "source": [
        "import time\n",
        "start_time = time.time()\n",
        "index_table3_hash6 = build_db_lsh(train_desc_orb[0:5], tables = 3, hash_size = 6)\n",
        "train_time_table3_hash6 = time.time() - start_time\n",
        "\n",
        "start_time = time.time()\n",
        "index_table6_hash12 = build_db_lsh(train_desc_orb[0:5])\n",
        "train_time_table6_hash12 = time.time() - start_time\n",
        "\n",
        "start_time = time.time()\n",
        "index_table12_hash24 = build_db_lsh(train_desc_orb[0:5], tables = 12, hash_size = 24)\n",
        "train_time_table12_hash24 = time.time() - start_time\n",
        "training_time_lsh = [train_time_table3_hash6, train_time_table6_hash12, train_time_table12_hash24]"
      ],
      "metadata": {
        "id": "6mYqHjQ_2J9c"
      },
      "id": "6mYqHjQ_2J9c",
      "execution_count": 48,
      "outputs": []
    },
    {
      "cell_type": "code",
      "source": [
        "_, mAP_lsh_table3_hash6 = compute_mAP(query_names, query_desc_orb, index_table3_hash6, train_names[0:5], '../holidays_mini/holidays_images.dat')\n",
        "_, mAP_lsh_table6_hash12 = compute_mAP(query_names, query_desc_orb, index_table6_hash12, train_names[0:5], '../holidays_mini/holidays_images.dat')\n",
        "_, mAP_lsh_table12_hash24 = compute_mAP(query_names, query_desc_orb, index_table12_hash24, train_names[0:5], '../holidays_mini/holidays_images.dat')"
      ],
      "metadata": {
        "id": "I_6TlDZ_UbWa"
      },
      "id": "I_6TlDZ_UbWa",
      "execution_count": null,
      "outputs": []
    },
    {
      "cell_type": "code",
      "source": [
        "total_time_table6_hash12 = 0\n",
        "total_time_table3_hash6 = 0\n",
        "total_time_table12_hash24 = 0\n",
        "# Define the number of queries to run\n",
        "num_queries = 5\n",
        "\n",
        "# Loop through the queries\n",
        "for i in range(num_queries):\n",
        "    # Time how long the search takes\n",
        "    start_time_table3_hash6 = time.time()\n",
        "    results_table3_hash6 = search_image(query_desc_orb[i], index_table3_hash6, train_names[0:5])\n",
        "    end_time_table3_hash6 = time.time()\n",
        "\n",
        "    start_time_table6_hash12 = time.time() \n",
        "    results_table6_hash12 = search_image(query_desc_orb[i], index_table6_hash12, train_names[0:5])\n",
        "    end_time_table6_hash12 = time.time()\n",
        "  \n",
        "    start_time_table12_hash24 = time.time()\n",
        "    results_table12_hash24 = search_image(query_desc_orb[i], index_table12_hash24, train_names[0:5])\n",
        "    end_time_table12_hash24 = time.time()\n",
        "\n",
        "    total_time_table3_hash6 += (end_time_table3_hash6 - start_time_table3_hash6)\n",
        "    total_time_table6_hash12 += (end_time_table6_hash12 - start_time_table6_hash12)\n",
        "    total_time_table12_hash24 += (end_time_table12_hash24 - start_time_table12_hash24)\n",
        "\n",
        "# Compute the average time taken\n",
        "avg_time_table3_hash6 = total_time_table3_hash6 / num_queries\n",
        "avg_time_table6_hash12 = total_time_table6_hash12 / num_queries\n",
        "avg_time_table12_hash24 = total_time_table12_hash24 / num_queries"
      ],
      "metadata": {
        "id": "A2AfkM014IHk"
      },
      "id": "A2AfkM014IHk",
      "execution_count": 39,
      "outputs": []
    },
    {
      "cell_type": "code",
      "source": [
        "labels_lsh = ['table3_hash6','table6_hash12','table12_hash24']\n",
        "avg_query_time_lsh = [avg_time_table3_hash6, avg_time_table6_hash12, avg_time_table12_hash24]"
      ],
      "metadata": {
        "id": "kVLCJHKwKPwY"
      },
      "id": "kVLCJHKwKPwY",
      "execution_count": 41,
      "outputs": []
    },
    {
      "cell_type": "code",
      "source": [
        "# Data for the bar chart\n",
        "mAP_scores_lsh = [mAP_lsh_table3_hash6, mAP_lsh_table6_hash12, mAP_lsh_table12_hash24]\n",
        "labels_lsh = ['table3_hash6','table6_hash12','table12_hash24']"
      ],
      "metadata": {
        "id": "hZcRfBrwBVcX"
      },
      "id": "hZcRfBrwBVcX",
      "execution_count": null,
      "outputs": []
    },
    {
      "cell_type": "markdown",
      "source": [
        "mAP"
      ],
      "metadata": {
        "id": "i3oG_CVM9dhj"
      },
      "id": "i3oG_CVM9dhj"
    },
    {
      "cell_type": "code",
      "source": [
        "plot_chart(mAP_scores_lsh, labels_lsh, \"mAP for diff table and hashes\", \"mAP\", \"different tables and hashes\")"
      ],
      "metadata": {
        "id": "lFvgzrSKofAZ",
        "colab": {
          "base_uri": "https://localhost:8080/",
          "height": 472
        },
        "outputId": "8b716549-9b59-4a65-86e3-e02e791f9408"
      },
      "id": "lFvgzrSKofAZ",
      "execution_count": null,
      "outputs": [
        {
          "output_type": "display_data",
          "data": {
            "text/plain": [
              "<Figure size 640x480 with 1 Axes>"
            ],
            "image/png": "[encoded data removed]"
          },
          "metadata": {}
        }
      ]
    },
    {
      "cell_type": "markdown",
      "source": [
        "Training times"
      ],
      "metadata": {
        "id": "yffUMRA39gKO"
      },
      "id": "yffUMRA39gKO"
    },
    {
      "cell_type": "code",
      "source": [
        "plot_chart(training_time_lsh, labels_lsh, \"Training time for diff table and hashes for lsh\", \"different tables and hashes\", \"training time\")"
      ],
      "metadata": {
        "id": "asuJOddhod16",
        "colab": {
          "base_uri": "https://localhost:8080/",
          "height": 472
        },
        "outputId": "c11c4845-2de5-43c7-b651-a1df78ca7174"
      },
      "id": "asuJOddhod16",
      "execution_count": null,
      "outputs": [
        {
          "output_type": "display_data",
          "data": {
            "text/plain": [
              "<Figure size 640x480 with 1 Axes>"
            ],
            "image/png": "[encoded data removed]"
          },
          "metadata": {}
        }
      ]
    },
    {
      "cell_type": "code",
      "source": [
        "plot_chart(avg_query_time_lsh, labels_lsh, \"Query times for diff table and hashes for lsh\", \"different tables and hashes\", \"avg query time\")"
      ],
      "metadata": {
        "colab": {
          "base_uri": "https://localhost:8080/",
          "height": 472
        },
        "id": "ko1SD76c6n52",
        "outputId": "d8fb8bf7-c86a-4210-a6f2-9ba0d6a09fb5"
      },
      "id": "ko1SD76c6n52",
      "execution_count": 42,
      "outputs": [
        {
          "output_type": "display_data",
          "data": {
            "text/plain": [
              "<Figure size 640x480 with 1 Axes>"
            ],
            "image/png": "[encoded data removed]"
          },
          "metadata": {}
        }
      ]
    },
    {
      "cell_type": "markdown",
      "source": [
        "When you have a smaller hash table and hash size, it means that the number of possible hash values is limited, which can cause collisions. Collisions occur when two or more items are mapped to the same hash value. When there are many collisions, it can take longer to retrieve the desired data item, because the algorithm has to search through multiple items that share the same hash value. This can cause a lot of false positives, which are items that are incorrectly identified as being similar to the query item.\n",
        "\n",
        "On the other hand, when you have a larger hash table and hash size, the number of possible hash values increases, reducing the likelihood of collisions. This means that the algorithm can quickly retrieve the desired data item, without having to search through multiple items that share the same hash value. This results in fewer false positives and faster query times."
      ],
      "metadata": {
        "id": "XQM295lLKrrr"
      },
      "id": "XQM295lLKrrr"
    },
    {
      "cell_type": "markdown",
      "metadata": {
        "id": "74726440"
      },
      "source": [
        "**Q7:** Despite the different descriptors used, compare the performance of the randomized k-d trees and LSH approaches from different points of view (accuracy, training times, querying times, ...). Some plots can be useful here to justify your answer."
      ],
      "id": "74726440"
    },
    {
      "cell_type": "markdown",
      "source": [
        "Comparison via mAP"
      ],
      "metadata": {
        "id": "KddW1Zk-m4KW"
      },
      "id": "KddW1Zk-m4KW"
    },
    {
      "cell_type": "code",
      "source": [
        "x_labels = ['KD-tree 2', 'KD-tree 4', 'KD-tree 8', 'LSH table 3 hash 6', 'LSH table 6 hash 12', 'LSH table 12 hash 24']"
      ],
      "metadata": {
        "id": "LHOTy98IKyxr"
      },
      "id": "LHOTy98IKyxr",
      "execution_count": 44,
      "outputs": []
    },
    {
      "cell_type": "code",
      "source": [
        "# Define mAP scores for KD-tree and LSH\n",
        "mAP_scores_kdtree = [mAP_kdtree2, mAP_kdtree4, mAP_kdtree8]\n",
        "mAP_scores_hash = [mAP_lsh_table3_hash6, mAP_lsh_table6_hash12, mAP_lsh_table12_hash24]\n",
        "\n",
        "# Create a bar chart with both sets of mAP scores\n",
        "fig, ax = plt.subplots()\n",
        "plt.xticks(rotation=90)\n",
        "ax.bar(x_labels[:3], mAP_scores_kdtree, label='KD-tree')\n",
        "ax.bar(x_labels[3:], mAP_scores_hash, label='LSH')\n",
        "\n",
        "# Set the chart title, axis labels, and legend\n",
        "ax.set_title('mAP Scores for KD-tree and LSH')\n",
        "ax.set_xlabel('Indexing Algorithm')\n",
        "ax.set_ylabel('mAP Score')\n",
        "ax.legend()"
      ],
      "metadata": {
        "colab": {
          "base_uri": "https://localhost:8080/",
          "height": 623
        },
        "id": "elSOEj-MhzhW",
        "outputId": "40dfbd23-fc0b-4787-892a-cd5d17917158"
      },
      "id": "elSOEj-MhzhW",
      "execution_count": null,
      "outputs": [
        {
          "output_type": "execute_result",
          "data": {
            "text/plain": [
              "<matplotlib.legend.Legend at 0x7fa172238190>"
            ]
          },
          "metadata": {},
          "execution_count": 72
        },
        {
          "output_type": "display_data",
          "data": {
            "text/plain": [
              "<Figure size 640x480 with 1 Axes>"
            ],
            "image/png": "[encoded data removed]"
          },
          "metadata": {}
        }
      ]
    },
    {
      "cell_type": "markdown",
      "source": [
        "Comparison via Train times"
      ],
      "metadata": {
        "id": "ipDs-G2im7Vd"
      },
      "id": "ipDs-G2im7Vd"
    },
    {
      "cell_type": "code",
      "source": [
        "# Create a bar chart with both sets of mAP scores\n",
        "fig, ax = plt.subplots()\n",
        "plt.xticks(rotation=90)\n",
        "ax.bar(x_labels[:3], train_time_kdtree, label='KD-tree')\n",
        "ax.bar(x_labels[3:], training_time_lsh, label='LSH')\n",
        "\n",
        "# Set the chart title, axis labels, and legend\n",
        "ax.set_title('Training time for KD-tree and LSH')\n",
        "ax.set_xlabel('Indexing Algorithm')\n",
        "ax.set_ylabel('Training time')\n",
        "ax.legend()"
      ],
      "metadata": {
        "colab": {
          "base_uri": "https://localhost:8080/",
          "height": 623
        },
        "id": "uuCDE05F_eKT",
        "outputId": "c16aac2d-c8ad-4b8d-c0a9-54d82808890a"
      },
      "id": "uuCDE05F_eKT",
      "execution_count": 49,
      "outputs": [
        {
          "output_type": "execute_result",
          "data": {
            "text/plain": [
              "<matplotlib.legend.Legend at 0x7f65e2adcdc0>"
            ]
          },
          "metadata": {},
          "execution_count": 49
        },
        {
          "output_type": "display_data",
          "data": {
            "text/plain": [
              "<Figure size 640x480 with 1 Axes>"
            ],
            "image/png": "[encoded data removed]"
          },
          "metadata": {}
        }
      ]
    },
    {
      "cell_type": "markdown",
      "source": [
        "Comparison via Query times"
      ],
      "metadata": {
        "id": "Zeh72IZ7__Ia"
      },
      "id": "Zeh72IZ7__Ia"
    },
    {
      "cell_type": "code",
      "source": [
        "# Create a bar chart with both sets of mAP scores\n",
        "fig, ax = plt.subplots()\n",
        "plt.xticks(rotation=90)\n",
        "ax.bar(x_labels[:3], avg_query_times_kdtree, label='KD-tree')\n",
        "ax.bar(x_labels[3:], avg_query_time_lsh, label='LSH')\n",
        "\n",
        "# Set the chart title, axis labels, and legend\n",
        "ax.set_title('Average query times for KD-tree and LSH')\n",
        "ax.set_xlabel('Indexing Algorithm')\n",
        "ax.set_ylabel('Average query time')\n",
        "ax.legend()"
      ],
      "metadata": {
        "colab": {
          "base_uri": "https://localhost:8080/",
          "height": 623
        },
        "id": "IMFTr-pYADIv",
        "outputId": "677e651b-38ef-4471-ac70-2df24726d97e"
      },
      "id": "IMFTr-pYADIv",
      "execution_count": 54,
      "outputs": [
        {
          "output_type": "execute_result",
          "data": {
            "text/plain": [
              "<matplotlib.legend.Legend at 0x7f65e29f3b80>"
            ]
          },
          "metadata": {},
          "execution_count": 54
        },
        {
          "output_type": "display_data",
          "data": {
            "text/plain": [
              "<Figure size 640x480 with 1 Axes>"
            ],
            "image/png": "[encoded data removed]"
          },
          "metadata": {}
        }
      ]
    },
    {
      "cell_type": "markdown",
      "metadata": {
        "id": "d5d89bb5"
      },
      "source": [
        "## Bag-of-Words\n",
        "In this section, you will implement the Bag-of-Words (BoW) model for image retrieval. Additionally, you will also implement the TF-IDF scoring scheme."
      ],
      "id": "d5d89bb5"
    },
    {
      "cell_type": "markdown",
      "metadata": {
        "id": "9b174ede"
      },
      "source": [
        "### Download visual dictionaries\n",
        "To use a BoW model, first we need a visual vocabulary. The authors of the INRIA Holidays dataset provide some visual vocabularies, trained using a clustering method (e.g. $k$-means) in a different dataset (Flickr60K).\n",
        "\n",
        "First, download these vocabularies from [here](https://uibes-my.sharepoint.com/:u:/g/personal/egf350_id_uib_es/EY1G011OvfJOnwqWQQzmHmgBkXhLHBaK00wdizsUT252dw).\n",
        "\n",
        "> **Unzip this file into the root directory of the development kit, at the same level of the datasets.**\n",
        "\n",
        "A folder named `clust` is now available in your workspace, containing visual vocabularies of 100, 200, 500, 1K, 2K, 5K, 10K, 20K, 50K, 100K and 200K visual words. Again, these are binary files, and therefore we provide you with functions to load and index them:"
      ],
      "id": "9b174ede"
    },
    {
      "cell_type": "code",
      "execution_count": null,
      "metadata": {
        "id": "DX5pyGbzyfbA",
        "colab": {
          "base_uri": "https://localhost:8080/"
        },
        "outputId": "d91c8688-0342-4c59-cdc1-9ba5a4dce255"
      },
      "outputs": [
        {
          "output_type": "stream",
          "name": "stdout",
          "text": [
            "/content/drive/MyDrive/ImageIndexing\n"
          ]
        }
      ],
      "source": [
        "%cd '../'"
      ],
      "id": "DX5pyGbzyfbA"
    },
    {
      "cell_type": "code",
      "execution_count": null,
      "metadata": {
        "id": "Jk5-GMysUqZO"
      },
      "outputs": [],
      "source": [
        "unzip_tarfile(\"clust.tar.gz\")"
      ],
      "id": "Jk5-GMysUqZO"
    },
    {
      "cell_type": "code",
      "execution_count": null,
      "metadata": {
        "id": "e26fefdc"
      },
      "outputs": [],
      "source": [
        "voc = rd.load_visual_vocab(\"clust/clust_flickr60_k200.fvecs\", ntrees=4)"
      ],
      "id": "e26fefdc"
    },
    {
      "cell_type": "markdown",
      "metadata": {
        "id": "97d05851"
      },
      "source": [
        "With this function, the corresponding vocabulary is read. Additionally, a FLANN index structure based on kd-trees is built and returned using the centroids. This is to allow a fast access when searching for the closest visual words in the vocabulary. More precisely, in this example, 4 trees are constructed using the vocabulary of 200 centroids. Now, given a query descriptor(s), you can use `match` or `knnMatch` methods as usual to search for the closest (approximate) visual word(s) in the vocabulary."
      ],
      "id": "97d05851"
    },
    {
      "cell_type": "markdown",
      "metadata": {
        "id": "95ccb141"
      },
      "source": [
        "### BoW and Inverted File\n",
        "Now, write a class called `BoW` to manage the indexing procedure. This class should make use, in addition to the visual vocabulary, an inverted file to compute similarity scores between images. Apart from the class constructor, write three methods: `build_db`, `search_image` and `compute_mAP`:"
      ],
      "id": "95ccb141"
    },
    {
      "cell_type": "code",
      "execution_count": null,
      "metadata": {
        "id": "802ae103"
      },
      "outputs": [],
      "source": [
        "class BoW:\n",
        "    \"\"\"\n",
        "    Class to implement the BoW model + Inverted File + TF-IDF Scoring scheme\n",
        "    \"\"\"\n",
        "  \n",
        "    def __init__(self, vocab_file):\n",
        "        \"\"\"\n",
        "        Class constructor. It loads the vocabulary and initializes other stuff\n",
        "        required for the CBIR system, such as the inverted file structure.\n",
        "        vocab -  An OpenCV2 FLANN index based on a set of kd-trees\n",
        "        \"\"\"\n",
        "        self.vocab = rd.load_visual_vocab(vocab_file)\n",
        "        self.nwords = self.vocab.getTrainDescriptors()[0].shape[0]\n",
        "        self.train_names = []\n",
        "        self.inv_list = {word_id: {} for word_id in range(self.nwords)}    \n",
        "        self.tfidf = {}\n",
        "\n",
        "    def build_db(self, img_names, img_descs):\n",
        "        \"\"\"\n",
        "        Build an index from a set of images. Essentially, for each image, you should\n",
        "        search its descriptors in the index in order to find the closest visual words\n",
        "        and fill the inverted file structure consequently.\n",
        "\n",
        "        - self.vocab: An OpenCV2 FLANN index based on a set of kd-trees\n",
        "        - self.inv_list: the inverted file structure\n",
        "\n",
        "        - img_names: An ordered list with the names of the train images\n",
        "        - img_descs: A list containing numpy arrays of SIFT descriptors which are not equal shape to Flann kd-trees. Each numpy array i corresponds \n",
        "          to the descriptors found at image i\n",
        "        \"\"\"\n",
        "        for i in range(len(img_names)):\n",
        "            img_desc = img_descs[i]\n",
        "            visual_words = self.vocab.knnMatch(img_desc, k=1)\n",
        "            bow_hist = np.zeros(self.nwords)\n",
        "\n",
        "            for vw in visual_words:\n",
        "                word_id = vw[0].trainIdx\n",
        "                bow_hist[word_id] += 1\n",
        "\n",
        "            bow_hist /= len(img_desc)\n",
        "            self.tfidf[img_names[i]] = bow_hist\n",
        "\n",
        "            for word_id, word_count in enumerate(bow_hist):\n",
        "                if word_count > 0:\n",
        "                    if img_names[i] not in self.inv_list[word_id]:\n",
        "                        self.inv_list[word_id][img_names[i]] = 1\n",
        "                    else:\n",
        "                        self.inv_list[word_id][img_names[i]] += 1\n",
        "\n",
        "    def search_image(self, descs):\n",
        "        \"\"\"\n",
        "        Search an image in the index. Use the TF-IDF here when scoring the images.\n",
        "        - self.vocab: An OpenCV2 FLANN index based on a set of kd-trees\n",
        "        - self.inv_list: the inverted file structure\n",
        "\n",
        "        - descs: A numpy array. It is the set descriptors extracted from the query image.\n",
        "    \n",
        "        RETURN:\n",
        "        - An ordered list of similar images, e.g.: ['100101.jpg', '100202.jpg', ...]\n",
        "        \"\"\"\n",
        "\n",
        "        visual_words = self.vocab.knnMatch(descs, k=1)\n",
        "        bow_hist = np.zeros(self.nwords)\n",
        "\n",
        "        for vw in visual_words:\n",
        "            word_id = vw[0].trainIdx\n",
        "            bow_hist[word_id] += 1\n",
        "\n",
        "        bow_hist /= len(descs)\n",
        "\n",
        "        # Compute the TF-IDF score for each image in the index\n",
        "        scores = {}\n",
        "        for word_id, word_count in enumerate(bow_hist):\n",
        "            if word_count == 0:\n",
        "                continue\n",
        "            for image_id, idf in self.inv_list[word_id].items():\n",
        "                if image_id not in scores:\n",
        "                    scores[image_id] = 0\n",
        "                scores[image_id] += word_count * idf\n",
        "\n",
        "        sorted_images = sorted(scores, key=scores.get, reverse=True)\n",
        "        return sorted_images\n",
        "      \n",
        "    def compute_mAP(self, query_names, query_descs, gt_file):\n",
        "        \"\"\"\n",
        "        Perform a search for a list of query images against the database and evaluates\n",
        "        the performance of the system.\n",
        "        \n",
        "        - query_names: An ordered list with the names of query images\n",
        "        - query_descs: A list containing numpy arrays of size (ndesc_for_this_image, 128). \n",
        "              Each numpy array i corresponds to the descriptors found at image i.\n",
        "\n",
        "        RETURN:\n",
        "        - total_results: A dictionary containing, for each query image, an ordered list of the retrieved images.\n",
        "        - m_ap: Mean Average Precision averaged over all queries.\n",
        "        \"\"\"\n",
        "        total_results = {}\n",
        "        m_ap = 0.0\n",
        "          \n",
        "        for qname, qdesc in zip(query_names, query_desc):\n",
        "            # Search for similar images\n",
        "            results = self.search_image(qdesc)\n",
        "            total_results[qname] = results\n",
        "        \n",
        "        m_ap = ev.compute_mAP(total_results, gt_file)\n",
        "        return total_results, m_ap"
      ],
      "id": "802ae103"
    },
    {
      "cell_type": "code",
      "execution_count": null,
      "metadata": {
        "id": "efd007f2",
        "colab": {
          "base_uri": "https://localhost:8080/"
        },
        "outputId": "5ebf7e3b-6416-4368-8f14-393e66d1db7c"
      },
      "outputs": [
        {
          "output_type": "stream",
          "name": "stdout",
          "text": [
            "['100201.jpg', '100503.jpg', '100801.jpg', '100501.jpg', '100502.jpg', '100001.jpg', '100401.jpg', '100301.jpg', '100302.jpg', '100101.jpg', '100601.jpg', '100701.jpg', '100901.jpg', '100002.jpg']\n"
          ]
        }
      ],
      "source": [
        "# Example of use\n",
        "index = BoW('clust/clust_flickr60_k200.fvecs')\n",
        "index.build_db(train_names[0:14], train_desc[0:14])\n",
        "res = index.search_image(query_desc[5])\n",
        "print(res)"
      ],
      "id": "efd007f2"
    },
    {
      "cell_type": "code",
      "execution_count": null,
      "metadata": {
        "id": "1661e449",
        "colab": {
          "base_uri": "https://localhost:8080/"
        },
        "outputId": "73e50d4e-1341-491c-bbe6-1447a646787d"
      },
      "outputs": [
        {
          "output_type": "stream",
          "name": "stdout",
          "text": [
            "{'100000.jpg': ['100801.jpg', '100201.jpg', '100001.jpg', '100503.jpg', '100401.jpg', '100501.jpg', '100502.jpg', '100301.jpg', '100302.jpg', '100101.jpg', '100601.jpg', '100701.jpg', '100901.jpg', '100002.jpg'], '100100.jpg': ['100801.jpg', '100101.jpg', '100201.jpg', '100502.jpg', '100001.jpg', '100501.jpg', '100601.jpg', '100401.jpg', '100503.jpg', '100301.jpg', '100302.jpg', '100701.jpg', '100901.jpg', '100002.jpg'], '100200.jpg': ['100201.jpg', '100801.jpg', '100001.jpg', '100503.jpg', '100301.jpg', '100501.jpg', '100401.jpg', '100502.jpg', '100302.jpg', '100601.jpg', '100101.jpg', '100701.jpg', '100002.jpg', '100901.jpg'], '100300.jpg': ['100801.jpg', '100001.jpg', '100201.jpg', '100503.jpg', '100501.jpg', '100401.jpg', '100301.jpg', '100302.jpg', '100502.jpg', '100601.jpg', '100101.jpg', '100701.jpg', '100901.jpg', '100002.jpg'], '100400.jpg': ['100001.jpg', '100801.jpg', '100503.jpg', '100401.jpg', '100201.jpg', '100501.jpg', '100302.jpg', '100301.jpg', '100502.jpg', '100101.jpg', '100601.jpg', '100701.jpg', '100901.jpg', '100002.jpg'], '100500.jpg': ['100201.jpg', '100503.jpg', '100801.jpg', '100501.jpg', '100502.jpg', '100001.jpg', '100401.jpg', '100301.jpg', '100302.jpg', '100101.jpg', '100601.jpg', '100701.jpg', '100901.jpg', '100002.jpg'], '100600.jpg': ['100801.jpg', '100201.jpg', '100502.jpg', '100001.jpg', '100401.jpg', '100601.jpg', '100501.jpg', '100503.jpg', '100101.jpg', '100301.jpg', '100302.jpg', '100701.jpg', '100002.jpg', '100901.jpg'], '100700.jpg': ['100201.jpg', '100502.jpg', '100001.jpg', '100101.jpg', '100801.jpg', '100401.jpg', '100501.jpg', '100503.jpg', '100301.jpg', '100601.jpg', '100302.jpg', '100701.jpg', '100002.jpg', '100901.jpg'], '100800.jpg': ['100801.jpg', '100201.jpg', '100001.jpg', '100503.jpg', '100502.jpg', '100401.jpg', '100501.jpg', '100302.jpg', '100301.jpg', '100101.jpg', '100601.jpg', '100701.jpg', '100901.jpg', '100002.jpg'], '100900.jpg': ['100901.jpg', '100801.jpg', '100101.jpg', '100201.jpg', '100502.jpg', '100001.jpg', '100601.jpg', '100503.jpg', '100501.jpg', '100401.jpg', '100301.jpg', '100302.jpg', '100002.jpg', '100701.jpg'], '101000.jpg': ['100801.jpg', '100101.jpg', '100601.jpg', '100201.jpg', '100901.jpg', '100502.jpg', '100001.jpg', '100401.jpg', '100503.jpg', '100501.jpg', '100301.jpg', '100302.jpg', '100701.jpg', '100002.jpg'], '101100.jpg': ['100801.jpg', '100201.jpg', '100101.jpg', '100601.jpg', '100001.jpg', '100502.jpg', '100501.jpg', '100401.jpg', '100503.jpg', '100301.jpg', '100302.jpg', '100901.jpg', '100701.jpg', '100002.jpg'], '101200.jpg': ['100801.jpg', '100201.jpg', '100101.jpg', '100001.jpg', '100401.jpg', '100502.jpg', '100503.jpg', '100501.jpg', '100601.jpg', '100301.jpg', '100302.jpg', '100701.jpg', '100901.jpg', '100002.jpg'], '101300.jpg': ['100801.jpg', '100101.jpg', '100901.jpg', '100201.jpg', '100001.jpg', '100601.jpg', '100302.jpg', '100503.jpg', '100502.jpg', '100501.jpg', '100301.jpg', '100401.jpg', '100002.jpg', '100701.jpg'], '101400.jpg': ['100201.jpg', '100502.jpg', '100101.jpg', '100503.jpg', '100001.jpg', '100501.jpg', '100401.jpg', '100301.jpg', '100601.jpg', '100801.jpg', '100302.jpg', '100901.jpg', '100701.jpg', '100002.jpg'], '101500.jpg': ['100801.jpg', '100101.jpg', '100201.jpg', '100502.jpg', '100901.jpg', '100001.jpg', '100401.jpg', '100501.jpg', '100503.jpg', '100601.jpg', '100301.jpg', '100302.jpg', '100701.jpg', '100002.jpg'], '101600.jpg': ['100801.jpg', '100201.jpg', '100001.jpg', '100503.jpg', '100401.jpg', '100301.jpg', '100302.jpg', '100501.jpg', '100502.jpg', '100101.jpg', '100601.jpg', '100901.jpg', '100701.jpg', '100002.jpg'], '101700.jpg': ['100801.jpg', '100201.jpg', '100001.jpg', '100503.jpg', '100401.jpg', '100502.jpg', '100501.jpg', '100301.jpg', '100601.jpg', '100302.jpg', '100101.jpg', '100701.jpg', '100002.jpg', '100901.jpg'], '101800.jpg': ['100801.jpg', '100201.jpg', '100101.jpg', '100401.jpg', '100502.jpg', '100503.jpg', '100601.jpg', '100001.jpg', '100501.jpg', '100301.jpg', '100302.jpg', '100701.jpg', '100002.jpg', '100901.jpg']}\n",
            "0.2351503759398496\n"
          ]
        }
      ],
      "source": [
        "results, mAP = index.compute_mAP(query_names, query_desc, 'holidays_mini/holidays_images.dat')\n",
        "print(results)\n",
        "print(mAP)"
      ],
      "id": "1661e449"
    },
    {
      "cell_type": "markdown",
      "metadata": {
        "id": "a5046a9c"
      },
      "source": [
        "**Q8**: In the following cell compute the resulting mAP of the system **using the vocabularies of 200, 2K, 20K and 200K visual words**:"
      ],
      "id": "a5046a9c"
    },
    {
      "cell_type": "code",
      "source": [
        "import time\n",
        "\n",
        "mAP_200  = 0.0\n",
        "mAP_2K   = 0.0\n",
        "mAP_20K  = 0.0\n",
        "mAP_200K = 0.0\n",
        "\n",
        "start_time = time.time()\n",
        "index_200 = BoW('clust/clust_flickr60_k200.fvecs')\n",
        "index_200.build_db(train_names[0:14], train_desc[0:14])\n",
        "train_time_200 = time.time() - start_time\n",
        "print(\"train_time_200 %s seconds: \", train_time_200)\n",
        "results_200, mAP_200 = index.compute_mAP(query_names, query_desc, 'holidays_mini/holidays_images.dat')\n",
        "\n",
        "start_time = time.time()\n",
        "index_2K = BoW('clust/clust_flickr60_k2000.fvecs')\n",
        "index_2K.build_db(train_names[0:14], train_desc[0:14])\n",
        "train_time_2K = time.time() - start_time\n",
        "print(\"train_time_2K %s seconds: \", train_time_2K)\n",
        "results_2K, mAP_2K = index.compute_mAP(query_names, query_desc, 'holidays_mini/holidays_images.dat')\n",
        "\n",
        "start_time = time.time()\n",
        "index_20K = BoW('clust/clust_flickr60_k20000.fvecs')\n",
        "index_20K.build_db(train_names[0:14], train_desc[0:14])\n",
        "train_time_20K = time.time() - start_time\n",
        "print(\"train_time_20K %s seconds: \", train_time_20K)\n",
        "results_20K, mAP_20K = index.compute_mAP(query_names, query_desc, 'holidays_mini/holidays_images.dat')\n",
        "\n",
        "start_time = time.time()\n",
        "index_200K = BoW('clust/clust_flickr60_k200000.fvecs')\n",
        "index_200K.build_db(train_names[0:14], train_desc[0:14])\n",
        "train_time_200K = time.time() - start_time\n",
        "print(\"train_time_200K %s seconds: \", train_time_200K)\n",
        "results_200K, mAP_200K = index.compute_mAP(query_names, query_desc, 'holidays_mini/holidays_images.dat')"
      ],
      "metadata": {
        "colab": {
          "base_uri": "https://localhost:8080/"
        },
        "id": "xJskqoTp7y52",
        "outputId": "f4eeedc2-0f54-4575-e8a7-dc9cc4fb2b17"
      },
      "id": "xJskqoTp7y52",
      "execution_count": null,
      "outputs": [
        {
          "output_type": "stream",
          "name": "stdout",
          "text": [
            "train_time_200 %s seconds:  0.17548680305480957\n",
            "train_time_2K %s seconds:  0.43293285369873047\n",
            "train_time_20K %s seconds:  1.123220443725586\n",
            "train_time_200K %s seconds:  3.923374652862549\n"
          ]
        }
      ]
    },
    {
      "cell_type": "markdown",
      "metadata": {
        "id": "5e818e7c"
      },
      "source": [
        "**Q9**: Compare the performances obtained on each case. Is a larger vocabulary size always better? Why or why not?"
      ],
      "id": "5e818e7c"
    },
    {
      "cell_type": "markdown",
      "metadata": {
        "id": "7b582757"
      },
      "source": [
        "**Q10**: Analyze the effect of the vocabulary size in terms of mAP and average response time (train and query times). Are these times constant for each vocabulary? Some plots here can be useful to justify your answer."
      ],
      "id": "7b582757"
    },
    {
      "cell_type": "code",
      "source": [
        "# Initialize a variable to store the total time taken\n",
        "total_time_200 = 0\n",
        "total_time_2K = 0\n",
        "total_time_20K = 0\n",
        "total_time_200K = 0\n",
        "# Define the number of queries to run\n",
        "num_queries = 10\n",
        "\n",
        "# Loop through the queries\n",
        "for i in range(num_queries):\n",
        "    # Time how long the search takes\n",
        "    start_time_200 = time.time()\n",
        "    results_200 = index_200.search_image(query_desc[i])\n",
        "    end_time_200 = time.time()\n",
        "\n",
        "    start_time_2K = time.time()\n",
        "    results_2K = index_2K.search_image(query_desc[i])\n",
        "    end_time_2K = time.time()\n",
        "\n",
        "    start_time_20K = time.time()\n",
        "    results_20K = index_20K.search_image(query_desc[i])\n",
        "    end_time_20K = time.time()\n",
        "\n",
        "    start_time_200K = time.time()\n",
        "    results_200K = index_200K.search_image(query_desc[i])\n",
        "    end_time_200K = time.time()\n",
        "\n",
        "    # Add the time taken to the total\n",
        "    total_time_200 += (end_time_200 - start_time_200)\n",
        "    total_time_2K += (end_time_2K - start_time_2K)\n",
        "    total_time_20K += (end_time_20K - start_time_20K)\n",
        "    total_time_200K += (end_time_200K - start_time_200K)\n",
        "\n",
        "# Compute the average time taken\n",
        "avg_time_200 = total_time_200 / num_queries\n",
        "avg_time_2K = total_time_2K / num_queries\n",
        "avg_time_20K = total_time_20K / num_queries\n",
        "avg_time_200K = total_time_200K / num_queries\n",
        "\n",
        "print(\"avg_time_200: {:.3f} seconds\".format(avg_time_200))\n",
        "print(\"avg_time_2K: {:.3f} seconds\".format(avg_time_2K))\n",
        "print(\"avg_time_20K: {:.3f} seconds\".format(avg_time_20K))\n",
        "print(\"avg_time_200K: {:.3f} seconds\".format(avg_time_200K))"
      ],
      "metadata": {
        "colab": {
          "base_uri": "https://localhost:8080/"
        },
        "id": "FRElGwsj_-8e",
        "outputId": "62c78b0d-ebff-4900-c2d1-21e1d9172244"
      },
      "id": "FRElGwsj_-8e",
      "execution_count": null,
      "outputs": [
        {
          "output_type": "stream",
          "name": "stdout",
          "text": [
            "avg_time_200: 0.014 seconds\n",
            "avg_time_2K: 0.016 seconds\n",
            "avg_time_20K: 0.029 seconds\n",
            "avg_time_200K: 0.098 seconds\n"
          ]
        }
      ]
    },
    {
      "cell_type": "markdown",
      "metadata": {
        "id": "b98f5416"
      },
      "source": [
        "**Q11**: Do the results obtained depend on the set of images used to generate the vocabulary? How can we improve the retrieval performance?"
      ],
      "id": "b98f5416"
    },
    {
      "cell_type": "markdown",
      "source": [
        "Yes, the results obtained with bag-of-words (BoW) depend on the set of images used to generate the vocabulary. The quality of the vocabulary strongly affects the performance of the retrieval system. A vocabulary generated from a diverse and representative set of images is likely to produce better results than a vocabulary generated from a small or biased set of images.\n",
        "\n",
        "To improve the retrieval performance with BoW, there are several strategies that can be employed:\n",
        "\n",
        "Increase the size of the vocabulary: Using a larger vocabulary with more visual words can increase the discriminative power of the representation, allowing for more accurate retrieval results. However, this comes at the cost of increased computational complexity and memory usage.\n",
        "\n",
        "1) Use a more diverse set of images to generate the vocabulary: Using a larger and more diverse set of training images can improve the quality of the visual vocabulary, allowing for better representation of the visual features in the query images.\n",
        "\n",
        "2) Fine-tune the vocabulary on a specific dataset: Fine-tuning the visual vocabulary on a specific dataset can further improve the performance of the retrieval system by adapting the vocabulary to the specific features present in the dataset.\n",
        "\n",
        "3) Use more advanced techniques, such as  deep learning-based methods, to improve the representation of the images and capture more complex visual relationships. These techniques can further improve the retrieval performance beyond what can be achieved with traditional BoW methods."
      ],
      "metadata": {
        "id": "qCxbt4UYCMPo"
      },
      "id": "qCxbt4UYCMPo"
    },
    {
      "cell_type": "markdown",
      "metadata": {
        "id": "28efbead"
      },
      "source": [
        "### TF-IDF\n",
        "As a final task of this assignment, let's implement the TF-IDF scoring scheme. Modify the `BoW` class you wrote before to include the TF-IDF weighting scheme:"
      ],
      "id": "28efbead"
    },
    {
      "cell_type": "code",
      "execution_count": null,
      "metadata": {
        "id": "593cafcc"
      },
      "outputs": [],
      "source": [
        "class BoW_TFIDF:\n",
        "    \"\"\"\n",
        "    Class to implement the BoW model + Inverted File + TF-IDF Scoring scheme\n",
        "    \"\"\"\n",
        "  \n",
        "    def __init__(self, vocab_file):\n",
        "        \"\"\"\n",
        "        Class constructor. It loads the vocabulary and initializes other stuff\n",
        "        required for the CBIR system, such as the inverted file structure.\n",
        "        \"\"\"\n",
        "        self.vocab = rd.load_visual_vocab(vocab_file)\n",
        "        self.nwords = self.vocab.getTrainDescriptors()[0].shape[0]\n",
        "        self.train_names = []\n",
        "        self.inv_list = {word_id: {} for word_id in range(self.nwords)}        \n",
        "        self.tfidf = {}\n",
        "\n",
        "    def build_db(self, img_names, img_descs):\n",
        "        \"\"\"\n",
        "        Build an index from a set of images. Essentially, for each image, you should\n",
        "        search its descriptors in the index in order to find the closest visual words\n",
        "        and fill the inverted file structure consequently. Additionally, TF and IDF terms\n",
        "        should be computed here.\n",
        "    \n",
        "        - img_names: An ordered list with the names of the train images\n",
        "        - img_descs: A list containing numpy arrays. Each numpy array i corresponds \n",
        "          to the descriptors found at image i\n",
        "        \"\"\"\n",
        "        n_imgs = len(img_names)\n",
        "        for i in range(n_imgs):\n",
        "            img_desc = img_descs[i]\n",
        "            visual_words = self.vocab.knnMatch(img_desc, k=1)\n",
        "            bow_hist = np.zeros(self.nwords)\n",
        "\n",
        "            # Compute the word frequency (TF) for each image\n",
        "            for vw in visual_words:\n",
        "                word_id = vw[0].trainIdx\n",
        "                bow_hist[word_id] += 1\n",
        "            bow_hist /= len(img_desc)\n",
        "\n",
        "            # Compute the inverse document frequency (IDF) for each word\n",
        "            idf = np.zeros(self.nwords)\n",
        "            for word_id in range(self.nwords):\n",
        "                n_docs = len(self.inv_list[word_id])\n",
        "                idf[word_id] = math.log10(n_imgs / n_docs) if n_docs > 0 else 0.0\n",
        "\n",
        "            # Compute the TF-IDF for each word in the image\n",
        "            tfidf_hist = bow_hist * idf\n",
        "\n",
        "            # Add the TF-IDF histogram to the self.tfidf dictionary\n",
        "            self.tfidf[img_names[i]] = tfidf_hist\n",
        "\n",
        "            # Update the inverted file structure\n",
        "            for word_id, word_count in enumerate(bow_hist):\n",
        "                if word_count > 0:\n",
        "                    if img_names[i] not in self.inv_list[word_id]:\n",
        "                        self.inv_list[word_id][img_names[i]] = 1\n",
        "                    else:\n",
        "                        self.inv_list[word_id][img_names[i]] += 1\n",
        "\n",
        "    def search_image(self, descs):\n",
        "        \"\"\"\n",
        "        Search an image in the index. Use the TF-IDF here when scoring the images.\n",
        "      \n",
        "        - descs: A numpy array. It is the set descriptors extracted from the query image.\n",
        "    \n",
        "        RETURN:\n",
        "        - An ordered list of similar images, e.g.: ['100101.jpg', '100202.jpg', ...]\n",
        "        \"\"\"\n",
        "        visual_words = self.vocab.knnMatch(descs, k=1)\n",
        "        bow_hist = np.zeros(self.nwords)\n",
        "\n",
        "        for vw in visual_words:\n",
        "            word_id = vw[0].trainIdx\n",
        "            bow_hist[word_id] += 1\n",
        "\n",
        "        bow_hist /= len(descs)\n",
        "\n",
        "        # Compute the TF-IDF score for each image in the index\n",
        "        scores = {}\n",
        "        for word_id, word_count in enumerate(bow_hist):\n",
        "            if word_count == 0:\n",
        "                continue\n",
        "            for image_id, idf in self.inv_list[word_id].items():\n",
        "                if image_id not in scores:\n",
        "                    scores[image_id] = 0\n",
        "                scores[image_id] += word_count * idf * self.tfidf[image_id][word_id]\n",
        "\n",
        "        sorted_images = sorted(scores, key=scores.get, reverse=True)\n",
        "        return sorted_images\n",
        "\n",
        "        \n",
        "    def compute_mAP(self, query_names, query_descs, gt_file):\n",
        "        \"\"\"\n",
        "        Perform a search for a list of query images against the database and evaluates\n",
        "        the performance of the system.\n",
        "        \n",
        "        - query_names: An ordered list with the names of query images\n",
        "        - query_descs: A list containing numpy arrays of size (ndesc_for_this_image, 128). \n",
        "              Each numpy array i corresponds to the descriptors found at image i.\n",
        "\n",
        "        RETURN:\n",
        "        - total_results: A dictionary containing, for each query image, an ordered list of the retrieved images.\n",
        "        - m_ap: Mean Average Precision averaged over all queries.\n",
        "        \"\"\"\n",
        "        total_results = {}\n",
        "        m_ap = 0.0\n",
        "          \n",
        "        for qname, qdesc in zip(query_names, query_desc):\n",
        "            # Search for similar images\n",
        "            results = self.search_image(qdesc)\n",
        "            total_results[qname] = results\n",
        "        \n",
        "        m_ap = ev.compute_mAP(total_results, gt_file)\n",
        "        return total_results, m_ap"
      ],
      "id": "593cafcc"
    },
    {
      "cell_type": "code",
      "execution_count": null,
      "metadata": {
        "id": "b50bb6a4",
        "colab": {
          "base_uri": "https://localhost:8080/"
        },
        "outputId": "b552ef9c-d2d0-48d7-c237-00640af23bc0"
      },
      "outputs": [
        {
          "output_type": "stream",
          "name": "stdout",
          "text": [
            "['100002.jpg', '100001.jpg']\n"
          ]
        }
      ],
      "source": [
        "# Example of use\n",
        "index_200 = BoW_TFIDF('clust/clust_flickr60_k200.fvecs')\n",
        "index_200.build_db(train_names[0:2], train_desc[0:2])\n",
        "res = index.search_image(query_desc[0])\n",
        "print(res)"
      ],
      "id": "b50bb6a4"
    },
    {
      "cell_type": "code",
      "source": [
        "mAP_200 = index.compute_mAP(query_names, query_desc, 'holidays_mini/holidays_images.dat')"
      ],
      "metadata": {
        "id": "vM9P_cNJNu6n"
      },
      "id": "vM9P_cNJNu6n",
      "execution_count": null,
      "outputs": []
    },
    {
      "cell_type": "markdown",
      "metadata": {
        "id": "a554f0a8"
      },
      "source": [
        "**Q12**: In the following cell compute the resulting mAP of the system **using the vocabularies of 200, 2K, 20K and 200K visual words**:"
      ],
      "id": "a554f0a8"
    },
    {
      "cell_type": "code",
      "source": [
        "import time\n",
        "\n",
        "mAP_200  = 0.0\n",
        "mAP_2K   = 0.0\n",
        "mAP_20K  = 0.0\n",
        "mAP_200K = 0.0\n",
        "\n",
        "start_time = time.time()\n",
        "index_200 = BoW_TFIDF('clust/clust_flickr60_k200.fvecs')\n",
        "index_200.build_db(train_names[0:14], train_desc[0:14])\n",
        "train_time_200 = time.time() - start_time\n",
        "results_200, mAP_200 = index_200.compute_mAP(query_names, query_desc, 'holidays_mini/holidays_images.dat')\n",
        "\n",
        "start_time = time.time()\n",
        "index_2K = BoW_TFIDF('clust/clust_flickr60_k2000.fvecs')\n",
        "index_2K.build_db(train_names[0:14], train_desc[0:14])\n",
        "train_time_2K = time.time() - start_time\n",
        "results_2K, mAP_2K = index_2K.compute_mAP(query_names, query_desc, 'holidays_mini/holidays_images.dat')\n",
        "\n",
        "start_time = time.time()\n",
        "index_20K = BoW_TFIDF('clust/clust_flickr60_k20000.fvecs')\n",
        "index_20K.build_db(train_names[0:14], train_desc[0:14])\n",
        "train_time_20K = time.time() - start_time\n",
        "results_20K, mAP_20K = index_20K.compute_mAP(query_names, query_desc, 'holidays_mini/holidays_images.dat')\n",
        "\n",
        "start_time = time.time()\n",
        "index_200K = BoW_TFIDF('clust/clust_flickr60_k200000.fvecs')\n",
        "index_200K.build_db(train_names[0:14], train_desc[0:14])\n",
        "train_time_200K = time.time() - start_time\n",
        "results_200K, mAP_200K = index_200K.compute_mAP(query_names, query_desc, 'holidays_mini/holidays_images.dat')"
      ],
      "metadata": {
        "id": "n_mDvPLlXdhB"
      },
      "id": "n_mDvPLlXdhB",
      "execution_count": null,
      "outputs": []
    },
    {
      "cell_type": "code",
      "execution_count": null,
      "metadata": {
        "id": "ba4761f6",
        "colab": {
          "base_uri": "https://localhost:8080/"
        },
        "outputId": "8a39d825-3c88-48d4-91d7-22a0f2772b9e"
      },
      "outputs": [
        {
          "output_type": "stream",
          "name": "stdout",
          "text": [
            "mAP 200: 0.17179\n",
            "mAP 2K: 0.28028\n",
            "mAP 20K: 0.28354\n",
            "mAP 200K: 0.28731\n"
          ]
        }
      ],
      "source": [
        "print('mAP 200: %.5f' % mAP_200)\n",
        "print('mAP 2K: %.5f' % mAP_2K)\n",
        "print('mAP 20K: %.5f' % mAP_20K)\n",
        "print('mAP 200K: %.5f' % mAP_200K)"
      ],
      "id": "ba4761f6"
    },
    {
      "cell_type": "markdown",
      "metadata": {
        "id": "1aa3cf87"
      },
      "source": [
        "**Q13:** Compare the performances obtained on each case. Is a larger vocabulary size always better? Why or why not?"
      ],
      "id": "1aa3cf87"
    },
    {
      "cell_type": "code",
      "source": [
        "# Data for the bar chart\n",
        "map_scores = [mAP_200, mAP_2K, mAP_20K, mAP_200K]\n",
        "labels = ['mAP_200', 'mAP_2K', 'mAP_20K', 'mAP_200K']\n",
        "\n",
        "plot_chart(map_scores, labels, \"mAP vs Vocab size\", \"Vocab size\", \"mAP\")"
      ],
      "metadata": {
        "colab": {
          "base_uri": "https://localhost:8080/",
          "height": 472
        },
        "id": "gsZyvkUZchj5",
        "outputId": "304b76d7-a366-46a8-8841-e235e633e33e"
      },
      "id": "gsZyvkUZchj5",
      "execution_count": null,
      "outputs": [
        {
          "output_type": "display_data",
          "data": {
            "text/plain": [
              "<Figure size 640x480 with 1 Axes>"
            ],
            "image/png": "[encoded data removed]"
          },
          "metadata": {}
        }
      ]
    },
    {
      "cell_type": "markdown",
      "metadata": {
        "id": "752ac143"
      },
      "source": [
        "**Q14**: Analyze the effect of the vocabulary size in terms of mAP and average response time (train and query times). Are these times constant for each vocabulary? Some plots here can be useful to justify your answer."
      ],
      "id": "752ac143"
    },
    {
      "cell_type": "code",
      "source": [
        "print('training time 200: %.5f' % train_time_200)\n",
        "print('training time 2K: %.5f' % train_time_2K)\n",
        "print('training time 20K: %.5f' % train_time_20K)\n",
        "print('training time 200K: %.5f' % train_time_200K)"
      ],
      "metadata": {
        "colab": {
          "base_uri": "https://localhost:8080/"
        },
        "id": "R_D3sUXEZ2Vn",
        "outputId": "8bac7e45-7801-45c6-ed48-ecaa85de26cc"
      },
      "id": "R_D3sUXEZ2Vn",
      "execution_count": null,
      "outputs": [
        {
          "output_type": "stream",
          "name": "stdout",
          "text": [
            "training time 200: 0.17039\n",
            "training time 2K: 0.40582\n",
            "training time 20K: 0.65878\n",
            "training time 200K: 5.62727\n"
          ]
        }
      ]
    },
    {
      "cell_type": "code",
      "source": [
        "# Data for the bar chart\n",
        "time_scores = [train_time_200, train_time_2K, train_time_20K, train_time_200K]\n",
        "labels = ['train_time_200', 'train_time_2K', 'train_time_20K', 'train_time_200K']\n",
        "\n",
        "plot_chart(time_scores, labels, \"Training Time vs Vocab size\", \"Vocab size\", \"Time taken\")"
      ],
      "metadata": {
        "colab": {
          "base_uri": "https://localhost:8080/",
          "height": 472
        },
        "id": "CL8_qIrucIRP",
        "outputId": "8ca43c55-3daa-4336-8767-d877b6304ebb"
      },
      "id": "CL8_qIrucIRP",
      "execution_count": null,
      "outputs": [
        {
          "output_type": "display_data",
          "data": {
            "text/plain": [
              "<Figure size 640x480 with 1 Axes>"
            ],
            "image/png": "[encoded data removed]"
          },
          "metadata": {}
        }
      ]
    },
    {
      "cell_type": "code",
      "source": [
        "# Initialize a variable to store the total time taken\n",
        "total_time_200 = 0\n",
        "total_time_2K = 0\n",
        "total_time_20K = 0\n",
        "total_time_200K = 0\n",
        "# Define the number of queries to run\n",
        "num_queries = 10\n",
        "\n",
        "# Loop through the queries\n",
        "for i in range(num_queries):\n",
        "    # Time how long the search takes\n",
        "    start_time_200 = time.time()\n",
        "    results_200 = index_200.search_image(query_desc[i])\n",
        "    end_time_200 = time.time()\n",
        "\n",
        "    start_time_2K = time.time()\n",
        "    results_2K = index_2K.search_image(query_desc[i])\n",
        "    end_time_2K = time.time()\n",
        "\n",
        "    start_time_20K = time.time()\n",
        "    results_20K = index_20K.search_image(query_desc[i])\n",
        "    end_time_20K = time.time()\n",
        "\n",
        "    start_time_200K = time.time()\n",
        "    results_200K = index_200K.search_image(query_desc[i])\n",
        "    end_time_200K = time.time()\n",
        "\n",
        "    # Add the time taken to the total\n",
        "    total_time_200 += (end_time_200 - start_time_200)\n",
        "    total_time_2K += (end_time_2K - start_time_2K)\n",
        "    total_time_20K += (end_time_20K - start_time_20K)\n",
        "    total_time_200K += (end_time_200K - start_time_200K)\n",
        "\n",
        "# Compute the average time taken\n",
        "avg_time_200 = total_time_200 / num_queries\n",
        "avg_time_2K = total_time_2K / num_queries\n",
        "avg_time_20K = total_time_20K / num_queries\n",
        "avg_time_200K = total_time_200K / num_queries\n",
        "\n",
        "print(\"avg_time_200: {:.3f} seconds\".format(avg_time_200))\n",
        "print(\"avg_time_2K: {:.3f} seconds\".format(avg_time_2K))\n",
        "print(\"avg_time_20K: {:.3f} seconds\".format(avg_time_20K))\n",
        "print(\"avg_time_200K: {:.3f} seconds\".format(avg_time_200K))"
      ],
      "metadata": {
        "colab": {
          "base_uri": "https://localhost:8080/"
        },
        "id": "YoCi8dtMXQ_d",
        "outputId": "499e26b7-366d-4634-e434-7ccdd4c83a73"
      },
      "id": "YoCi8dtMXQ_d",
      "execution_count": null,
      "outputs": [
        {
          "output_type": "stream",
          "name": "stdout",
          "text": [
            "avg_time_200: 0.015 seconds\n",
            "avg_time_2K: 0.020 seconds\n",
            "avg_time_20K: 0.036 seconds\n",
            "avg_time_200K: 0.099 seconds\n"
          ]
        }
      ]
    },
    {
      "cell_type": "code",
      "source": [
        "# Data for the bar chart\n",
        "time_scores = [avg_time_200, avg_time_2K, avg_time_20K, avg_time_200K]\n",
        "labels = ['avg_time_200', 'avg_time_2K', 'avg_time_20K', 'avg_time_200K']\n",
        "\n",
        "plot_chart(time_scores, labels, \"Average Query Time vs Vocab size\", \"Vocab size\", \"Average Query Time\")"
      ],
      "metadata": {
        "colab": {
          "base_uri": "https://localhost:8080/",
          "height": 472
        },
        "id": "swsHf0Vfbqyd",
        "outputId": "26c7540f-a5c6-4eb7-c1bc-936572cbd7e5"
      },
      "id": "swsHf0Vfbqyd",
      "execution_count": null,
      "outputs": [
        {
          "output_type": "display_data",
          "data": {
            "text/plain": [
              "<Figure size 640x480 with 1 Axes>"
            ],
            "image/png": "[encoded data removed]"
          },
          "metadata": {}
        }
      ]
    },
    {
      "cell_type": "markdown",
      "metadata": {
        "id": "efc83c87"
      },
      "source": [
        "**Q15**: Do the results obtained depend on the set of images used to generate the vocabulary? How can we improve the retrieval performance?"
      ],
      "id": "efc83c87"
    },
    {
      "cell_type": "markdown",
      "metadata": {
        "id": "61429d22"
      },
      "source": [
        "Write here the code required to answer the questions stated above. You can add more cells (code / markdown) at this point if you need it."
      ],
      "id": "61429d22"
    },
    {
      "cell_type": "markdown",
      "metadata": {
        "id": "6465cfb0"
      },
      "source": [
        "**Q16:** How does TF-IDF affect the performance? Better or worse? Does this make sense?"
      ],
      "id": "6465cfb0"
    },
    {
      "cell_type": "markdown",
      "metadata": {
        "id": "4b193d85"
      },
      "source": [
        "Write here the code required to answer the questions stated above. You can add more cells (code / markdown) at this point if you need it."
      ],
      "id": "4b193d85"
    },
    {
      "cell_type": "markdown",
      "metadata": {
        "id": "8b3b83bc"
      },
      "source": [
        "## Submitting your work\n",
        "\n",
        "**Important**: Please make sure that the submitted notebooks have been run and the cell outputs are visible.\n",
        "\n",
        "**Important**: Please make also sure that you have filled the **NAME** and **DNI** variables at the beginning of the notebook, **using the indicated format**.\n",
        "\n",
        "Once you have filled out the necessary code and you are happy with your solution, **save your notebook** and execute the following cell:"
      ],
      "id": "8b3b83bc"
    },
    {
      "cell_type": "code",
      "execution_count": null,
      "metadata": {
        "id": "0ef0d318"
      },
      "outputs": [],
      "source": [
        "zip_filename = DNI + '_A2.zip'\n",
        "zf = zipfile.ZipFile(zip_filename, mode = 'w')\n",
        "\n",
        "aname = 'submitted/' + DNI + '/A2/Image_Indexing.ipynb'\n",
        "zf.write('Image_Indexing.ipynb', arcname = aname);\n",
        "\n",
        "zf.close()"
      ],
      "id": "0ef0d318"
    },
    {
      "cell_type": "markdown",
      "metadata": {
        "id": "f06aa9d3"
      },
      "source": [
        "This will generate a zip file of your code called `DNI_A2.zip` in the same directory of the assignment. This is the file that you must upload to [Aula Digital](https://uibdigital.uib.es/) to submit your work!"
      ],
      "id": "f06aa9d3"
    },
    {
      "cell_type": "markdown",
      "metadata": {
        "id": "55cb8ca9"
      },
      "source": [
        "---\n",
        "\n",
        "&copy; Emilio Garcia-Fidalgo, University of the Balearic Islands"
      ],
      "id": "55cb8ca9"
    }
  ],
  "metadata": {
    "colab": {
      "provenance": [],
      "include_colab_link": true
    },
    "kernelspec": {
      "display_name": "Python 3 (ipykernel)",
      "language": "python",
      "name": "python3"
    },
    "language_info": {
      "codemirror_mode": {
        "name": "ipython",
        "version": 3
      },
      "file_extension": ".py",
      "mimetype": "text/x-python",
      "name": "python",
      "nbconvert_exporter": "python",
      "pygments_lexer": "ipython3",
      "version": "3.9.7"
    }
  },
  "nbformat": 4,
  "nbformat_minor": 5
}