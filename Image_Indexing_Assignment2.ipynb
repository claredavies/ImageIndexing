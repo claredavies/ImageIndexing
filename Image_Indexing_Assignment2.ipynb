{
  "cells": [
    {
      "cell_type": "markdown",
      "metadata": {
        "id": "view-in-github",
        "colab_type": "text"
      },
      "source": [
        "<a href=\"https://colab.research.google.com/github/claredavies/ImageIndexing/blob/master/Image_Indexing_Assignment2.ipynb\" target=\"_parent\"><img src=\"https://colab.research.google.com/assets/colab-badge.svg\" alt=\"Open In Colab\"/></a>"
      ]
    },
    {
      "cell_type": "markdown",
      "metadata": {
        "id": "a795ccf4"
      },
      "source": [
        "# 11762 Content-Based Image Retrieval\n",
        "## Master's Degree in Intelligent Systems\n",
        "### University of the Balearic Islands\n",
        "\n",
        "---\n",
        "\n",
        "**Before you turn this problem in, please put your full names and DNIs (or NIEs) below, and execute the cell:**"
      ],
      "id": "a795ccf4"
    },
    {
      "cell_type": "code",
      "execution_count": null,
      "metadata": {
        "id": "6947b975"
      },
      "outputs": [],
      "source": [
        "NAME  = \"Clare Davies\"\n",
        "DNI   = \"PL5527043\""
      ],
      "id": "6947b975"
    },
    {
      "cell_type": "code",
      "execution_count": 1,
      "metadata": {
        "colab": {
          "base_uri": "https://localhost:8080/"
        },
        "id": "OBYyYOwNu7hY",
        "outputId": "298632af-a62f-4398-9252-14a87ba3f8e5"
      },
      "outputs": [
        {
          "output_type": "stream",
          "name": "stdout",
          "text": [
            "Mounted at /content/drive/\n"
          ]
        }
      ],
      "source": [
        "from google.colab import drive\n",
        "drive.mount('/content/drive/')"
      ],
      "id": "OBYyYOwNu7hY"
    },
    {
      "cell_type": "code",
      "execution_count": 2,
      "metadata": {
        "colab": {
          "base_uri": "https://localhost:8080/"
        },
        "id": "cuu5vW4ivs1C",
        "outputId": "84c68dfb-89e4-4f4b-c5d1-ded732847c8c"
      },
      "outputs": [
        {
          "output_type": "stream",
          "name": "stdout",
          "text": [
            "/content/drive/MyDrive/ImageIndexing\n"
          ]
        }
      ],
      "source": [
        "%cd drive/MyDrive/ImageIndexing"
      ],
      "id": "cuu5vW4ivs1C"
    },
    {
      "cell_type": "markdown",
      "metadata": {
        "id": "ec32c2c0"
      },
      "source": [
        "Make sure you fill in any place that says `YOUR CODE HERE` or `YOUR ANSWER HERE`. **Justify** all of your answers, **graphically** wherever possible. Remember that this notebook will be considered as a report to the work done during the assignment.\n",
        "\n",
        "---"
      ],
      "id": "ec32c2c0"
    },
    {
      "cell_type": "code",
      "execution_count": null,
      "metadata": {
        "colab": {
          "base_uri": "https://localhost:8080/"
        },
        "id": "6BTyYK7ivdfy",
        "outputId": "81371959-2b74-4ae4-f5ee-690a52d4b885"
      },
      "outputs": [
        {
          "name": "stdout",
          "output_type": "stream",
          "text": [
            "Archive:  iric_dev_kit.zip\n",
            "replace iric_dev_kit/iric.yml? [y]es, [n]o, [A]ll, [N]one, [r]ename: "
          ]
        }
      ],
      "source": [
        "!unzip iric_dev_kit.zip"
      ],
      "id": "6BTyYK7ivdfy"
    },
    {
      "cell_type": "code",
      "execution_count": 3,
      "metadata": {
        "id": "a32b507a"
      },
      "outputs": [],
      "source": [
        "# Setup code for this assignment\n",
        "import cv2\n",
        "import math\n",
        "import numpy as np\n",
        "import os\n",
        "import scipy.cluster.vq as vq\n",
        "import tqdm\n",
        "import zipfile\n",
        "\n",
        "## Adding parent folder to find other libs\n",
        "import sys\n",
        "if \"..\" not in sys.path:\n",
        "    sys.path.insert(0,\"..\")\n",
        "    \n",
        "import iric_dev_kit.iric_utils.eval_holidays as ev\n",
        "import iric_dev_kit.iric_utils.read_descriptors as rd\n",
        "\n",
        "# Configuring Matplotlib\n",
        "from matplotlib import pyplot as plt\n",
        "%matplotlib inline"
      ],
      "id": "a32b507a"
    },
    {
      "cell_type": "markdown",
      "metadata": {
        "id": "d621778b"
      },
      "source": [
        "## Introduction\n",
        "In this assignment, you will implement and evaluate different methods for indexing images. As usual during this course, we will use the [INRIA Holidays](http://lear.inrialpes.fr/people/jegou/data.php) dataset. **Check the Assignment 1 to further information about this dataset.**\n",
        "\n",
        "We also need the provided script to evaluate a CBIR system on this dataset. Remember that the performance is measured computing the **mean average precision** (mAP) over all queries. **Check also the Assignment 1 to remember how to use this script and the different functions it offers.**"
      ],
      "id": "d621778b"
    },
    {
      "cell_type": "markdown",
      "metadata": {
        "id": "77b3c399"
      },
      "source": [
        "### Loading images\n",
        "As we did in Assignment 1, for managing images, we will create four lists:\n",
        "- **`query_names`**: File names of the *query* images\n",
        "- **`query_imgs`**: *Query* images loaded using OpenCV2\n",
        "- **`train_names`**: File names of the *train* (database) images\n",
        "- **`train_imgs`**: *Train* images loaded using OpenCV2\n",
        "\n",
        "In this assignment, we will use the original holidays dataset:"
      ],
      "id": "77b3c399"
    },
    {
      "cell_type": "code",
      "execution_count": null,
      "metadata": {
        "colab": {
          "base_uri": "https://localhost:8080/"
        },
        "id": "IWfI1BLVwmqV",
        "outputId": "3d0e5a62-8366-4ae8-ce59-e21b032e061c"
      },
      "outputs": [
        {
          "name": "stdout",
          "output_type": "stream",
          "text": [
            "Archive:  holidays.zip\n",
            "   creating: holidays/\n",
            "  inflating: holidays/holidays_images.dat  \n",
            "   creating: holidays/images/\n",
            "  inflating: holidays/images/109601.jpg  \n",
            "  inflating: holidays/images/109700.jpg  \n",
            "  inflating: holidays/images/109701.jpg  \n",
            "  inflating: holidays/images/109800.jpg  \n",
            "  inflating: holidays/images/109801.jpg  \n",
            "  inflating: holidays/images/109802.jpg  \n",
            "  inflating: holidays/images/109900.jpg  \n",
            "  inflating: holidays/images/109901.jpg  \n",
            "  inflating: holidays/images/110000.jpg  \n",
            "  inflating: holidays/images/110001.jpg  \n",
            "  inflating: holidays/images/110100.jpg  \n",
            "  inflating: holidays/images/110101.jpg  \n",
            "  inflating: holidays/images/110200.jpg  \n",
            "  inflating: holidays/images/110201.jpg  \n",
            "  inflating: holidays/images/110300.jpg  \n",
            "  inflating: holidays/images/110301.jpg  \n",
            "  inflating: holidays/images/110302.jpg  \n",
            "  inflating: holidays/images/110400.jpg  \n",
            "  inflating: holidays/images/110401.jpg  \n",
            "  inflating: holidays/images/110500.jpg  \n",
            "  inflating: holidays/images/110501.jpg  \n",
            "  inflating: holidays/images/110600.jpg  \n",
            "  inflating: holidays/images/110601.jpg  \n",
            "  inflating: holidays/images/110700.jpg  \n",
            "  inflating: holidays/images/110701.jpg  \n",
            "  inflating: holidays/images/110702.jpg  \n",
            "  inflating: holidays/images/110800.jpg  \n",
            "  inflating: holidays/images/110801.jpg  \n",
            "  inflating: holidays/images/110802.jpg  \n",
            "  inflating: holidays/images/110900.jpg  \n",
            "  inflating: holidays/images/110901.jpg  \n",
            "  inflating: holidays/images/111000.jpg  \n",
            "  inflating: holidays/images/111001.jpg  \n",
            "  inflating: holidays/images/111002.jpg  \n",
            "  inflating: holidays/images/111100.jpg  \n",
            "  inflating: holidays/images/111101.jpg  \n",
            "  inflating: holidays/images/111200.jpg  \n",
            "  inflating: holidays/images/111201.jpg  \n",
            "  inflating: holidays/images/111300.jpg  \n",
            "  inflating: holidays/images/111301.jpg  \n",
            "  inflating: holidays/images/111400.jpg  \n",
            "  inflating: holidays/images/111401.jpg  \n",
            "  inflating: holidays/images/111500.jpg  \n",
            "  inflating: holidays/images/111501.jpg  \n",
            "  inflating: holidays/images/111600.jpg  \n",
            "  inflating: holidays/images/111601.jpg  \n",
            "  inflating: holidays/images/111700.jpg  \n",
            "  inflating: holidays/images/111701.jpg  \n",
            "  inflating: holidays/images/111702.jpg  \n",
            "  inflating: holidays/images/111703.jpg  \n",
            "  inflating: holidays/images/111800.jpg  \n",
            "  inflating: holidays/images/111801.jpg  \n",
            "  inflating: holidays/images/111900.jpg  \n",
            "  inflating: holidays/images/111901.jpg  \n",
            "  inflating: holidays/images/112000.jpg  \n",
            "  inflating: holidays/images/112001.jpg  \n",
            "  inflating: holidays/images/112002.jpg  \n",
            "  inflating: holidays/images/112003.jpg  \n",
            "  inflating: holidays/images/112100.jpg  \n",
            "  inflating: holidays/images/112101.jpg  \n",
            "  inflating: holidays/images/112200.jpg  \n",
            "  inflating: holidays/images/112201.jpg  \n",
            "  inflating: holidays/images/112300.jpg  \n",
            "  inflating: holidays/images/112301.jpg  \n",
            "  inflating: holidays/images/112302.jpg  \n",
            "  inflating: holidays/images/112400.jpg  \n",
            "  inflating: holidays/images/112401.jpg  \n",
            "  inflating: holidays/images/112402.jpg  \n",
            "  inflating: holidays/images/112403.jpg  \n",
            "  inflating: holidays/images/112404.jpg  \n",
            "  inflating: holidays/images/112405.jpg  \n",
            "  inflating: holidays/images/112406.jpg  \n",
            "  inflating: holidays/images/112407.jpg  \n",
            "  inflating: holidays/images/112408.jpg  \n",
            "  inflating: holidays/images/112500.jpg  \n",
            "  inflating: holidays/images/100000.jpg  \n",
            "  inflating: holidays/images/100001.jpg  \n",
            "  inflating: holidays/images/100002.jpg  \n",
            "  inflating: holidays/images/100100.jpg  \n",
            "  inflating: holidays/images/100101.jpg  \n",
            "  inflating: holidays/images/100200.jpg  \n",
            "  inflating: holidays/images/100201.jpg  \n",
            "  inflating: holidays/images/100300.jpg  \n",
            "  inflating: holidays/images/100301.jpg  \n",
            "  inflating: holidays/images/100302.jpg  \n",
            "  inflating: holidays/images/100400.jpg  \n",
            "  inflating: holidays/images/100401.jpg  \n",
            "  inflating: holidays/images/100500.jpg  \n",
            "  inflating: holidays/images/100501.jpg  \n",
            "  inflating: holidays/images/100502.jpg  \n",
            "  inflating: holidays/images/100503.jpg  \n",
            "  inflating: holidays/images/100600.jpg  \n",
            "  inflating: holidays/images/100601.jpg  \n",
            "  inflating: holidays/images/100700.jpg  \n",
            "  inflating: holidays/images/100701.jpg  \n",
            "  inflating: holidays/images/100800.jpg  \n",
            "  inflating: holidays/images/100801.jpg  \n",
            "  inflating: holidays/images/100900.jpg  \n",
            "  inflating: holidays/images/100901.jpg  \n",
            "  inflating: holidays/images/100902.jpg  \n",
            "  inflating: holidays/images/101000.jpg  \n",
            "  inflating: holidays/images/101001.jpg  \n",
            "  inflating: holidays/images/101100.jpg  \n",
            "  inflating: holidays/images/101101.jpg  \n",
            "  inflating: holidays/images/101200.jpg  \n",
            "  inflating: holidays/images/101201.jpg  \n",
            "  inflating: holidays/images/101300.jpg  \n",
            "  inflating: holidays/images/101301.jpg  \n",
            "  inflating: holidays/images/101400.jpg  \n",
            "  inflating: holidays/images/101401.jpg  \n",
            "  inflating: holidays/images/101402.jpg  \n",
            "  inflating: holidays/images/101403.jpg  \n",
            "  inflating: holidays/images/101404.jpg  \n",
            "  inflating: holidays/images/101500.jpg  \n",
            "  inflating: holidays/images/101501.jpg  \n",
            "  inflating: holidays/images/101502.jpg  \n",
            "  inflating: holidays/images/101503.jpg  \n",
            "  inflating: holidays/images/101504.jpg  \n",
            "  inflating: holidays/images/101600.jpg  \n",
            "  inflating: holidays/images/101601.jpg  \n",
            "  inflating: holidays/images/101700.jpg  \n",
            "  inflating: holidays/images/101701.jpg  \n",
            "  inflating: holidays/images/101702.jpg  \n",
            "  inflating: holidays/images/101800.jpg  \n",
            "  inflating: holidays/images/101801.jpg  \n",
            "  inflating: holidays/images/101900.jpg  \n",
            "  inflating: holidays/images/101901.jpg  \n",
            "  inflating: holidays/images/102000.jpg  \n",
            "  inflating: holidays/images/102001.jpg  \n",
            "  inflating: holidays/images/102100.jpg  \n",
            "  inflating: holidays/images/102101.jpg  \n",
            "  inflating: holidays/images/102200.jpg  \n",
            "  inflating: holidays/images/102201.jpg  \n",
            "  inflating: holidays/images/102202.jpg  \n",
            "  inflating: holidays/images/102300.jpg  \n",
            "  inflating: holidays/images/102301.jpg  \n",
            "  inflating: holidays/images/102302.jpg  \n",
            "  inflating: holidays/images/102303.jpg  \n",
            "  inflating: holidays/images/102400.jpg  \n",
            "  inflating: holidays/images/102401.jpg  \n",
            "  inflating: holidays/images/102402.jpg  \n",
            "  inflating: holidays/images/102500.jpg  \n",
            "  inflating: holidays/images/102501.jpg  \n",
            "  inflating: holidays/images/102600.jpg  \n",
            "  inflating: holidays/images/102601.jpg  \n",
            "  inflating: holidays/images/102700.jpg  \n",
            "  inflating: holidays/images/102701.jpg  \n",
            "  inflating: holidays/images/102800.jpg  \n",
            "  inflating: holidays/images/102801.jpg  \n",
            "  inflating: holidays/images/102802.jpg  \n",
            "  inflating: holidays/images/102900.jpg  \n",
            "  inflating: holidays/images/102901.jpg  \n",
            "  inflating: holidays/images/103000.jpg  \n",
            "  inflating: holidays/images/103001.jpg  \n",
            "  inflating: holidays/images/103002.jpg  \n",
            "  inflating: holidays/images/103100.jpg  \n",
            "  inflating: holidays/images/103101.jpg  \n",
            "  inflating: holidays/images/103102.jpg  \n",
            "  inflating: holidays/images/103200.jpg  \n",
            "  inflating: holidays/images/103201.jpg  \n",
            "  inflating: holidays/images/103202.jpg  \n",
            "  inflating: holidays/images/103203.jpg  \n",
            "  inflating: holidays/images/103204.jpg  \n",
            "  inflating: holidays/images/103300.jpg  \n",
            "  inflating: holidays/images/103301.jpg  \n",
            "  inflating: holidays/images/103302.jpg  \n",
            "  inflating: holidays/images/103303.jpg  \n",
            "  inflating: holidays/images/103304.jpg  \n",
            "  inflating: holidays/images/103400.jpg  \n",
            "  inflating: holidays/images/103401.jpg  \n",
            "  inflating: holidays/images/103500.jpg  \n",
            "  inflating: holidays/images/103501.jpg  \n",
            "  inflating: holidays/images/103502.jpg  \n",
            "  inflating: holidays/images/103503.jpg  \n",
            "  inflating: holidays/images/103600.jpg  \n",
            "  inflating: holidays/images/103601.jpg  \n",
            "  inflating: holidays/images/103700.jpg  \n",
            "  inflating: holidays/images/103701.jpg  \n",
            "  inflating: holidays/images/103702.jpg  \n",
            "  inflating: holidays/images/103800.jpg  \n",
            "  inflating: holidays/images/103801.jpg  \n",
            "  inflating: holidays/images/103900.jpg  \n",
            "  inflating: holidays/images/103901.jpg  \n",
            "  inflating: holidays/images/103902.jpg  \n",
            "  inflating: holidays/images/104000.jpg  \n",
            "  inflating: holidays/images/104001.jpg  \n",
            "  inflating: holidays/images/104002.jpg  \n",
            "  inflating: holidays/images/104003.jpg  \n",
            "  inflating: holidays/images/104004.jpg  \n",
            "  inflating: holidays/images/104005.jpg  \n",
            "  inflating: holidays/images/104006.jpg  \n",
            "  inflating: holidays/images/104100.jpg  \n",
            "  inflating: holidays/images/104101.jpg  \n",
            "  inflating: holidays/images/104200.jpg  \n",
            "  inflating: holidays/images/104201.jpg  \n",
            "  inflating: holidays/images/104202.jpg  \n",
            "  inflating: holidays/images/104203.jpg  \n",
            "  inflating: holidays/images/104300.jpg  \n",
            "  inflating: holidays/images/104301.jpg  \n",
            "  inflating: holidays/images/104400.jpg  \n",
            "  inflating: holidays/images/104401.jpg  \n",
            "  inflating: holidays/images/104402.jpg  \n",
            "  inflating: holidays/images/104500.jpg  \n",
            "  inflating: holidays/images/104501.jpg  \n",
            "  inflating: holidays/images/104502.jpg  \n",
            "  inflating: holidays/images/104600.jpg  \n",
            "  inflating: holidays/images/104601.jpg  \n",
            "  inflating: holidays/images/104700.jpg  \n",
            "  inflating: holidays/images/104701.jpg  \n",
            "  inflating: holidays/images/104800.jpg  \n",
            "  inflating: holidays/images/104801.jpg  \n",
            "  inflating: holidays/images/104802.jpg  \n",
            "  inflating: holidays/images/104900.jpg  \n",
            "  inflating: holidays/images/104901.jpg  \n",
            "  inflating: holidays/images/104902.jpg  \n",
            "  inflating: holidays/images/105000.jpg  \n",
            "  inflating: holidays/images/105001.jpg  \n",
            "  inflating: holidays/images/105002.jpg  \n",
            "  inflating: holidays/images/105100.jpg  \n",
            "  inflating: holidays/images/105101.jpg  \n",
            "  inflating: holidays/images/105102.jpg  \n",
            "  inflating: holidays/images/105103.jpg  \n",
            "  inflating: holidays/images/105104.jpg  \n",
            "  inflating: holidays/images/105200.jpg  \n",
            "  inflating: holidays/images/105201.jpg  \n",
            "  inflating: holidays/images/105300.jpg  \n",
            "  inflating: holidays/images/105301.jpg  \n",
            "  inflating: holidays/images/105400.jpg  \n",
            "  inflating: holidays/images/105401.jpg  \n",
            "  inflating: holidays/images/105500.jpg  \n",
            "  inflating: holidays/images/105501.jpg  \n",
            "  inflating: holidays/images/105600.jpg  \n",
            "  inflating: holidays/images/105601.jpg  \n",
            "  inflating: holidays/images/105700.jpg  \n",
            "  inflating: holidays/images/105701.jpg  \n",
            "  inflating: holidays/images/105800.jpg  \n",
            "  inflating: holidays/images/105801.jpg  \n",
            "  inflating: holidays/images/105802.jpg  \n",
            "  inflating: holidays/images/105900.jpg  \n",
            "  inflating: holidays/images/105901.jpg  \n",
            "  inflating: holidays/images/106000.jpg  \n",
            "  inflating: holidays/images/106001.jpg  \n",
            "  inflating: holidays/images/106002.jpg  \n",
            "  inflating: holidays/images/106100.jpg  \n",
            "  inflating: holidays/images/106101.jpg  \n",
            "  inflating: holidays/images/106200.jpg  \n",
            "  inflating: holidays/images/106201.jpg  \n",
            "  inflating: holidays/images/106202.jpg  \n",
            "  inflating: holidays/images/106300.jpg  \n",
            "  inflating: holidays/images/106301.jpg  \n",
            "  inflating: holidays/images/106400.jpg  \n",
            "  inflating: holidays/images/106401.jpg  \n",
            "  inflating: holidays/images/106402.jpg  \n",
            "  inflating: holidays/images/106403.jpg  \n",
            "  inflating: holidays/images/106500.jpg  \n",
            "  inflating: holidays/images/106501.jpg  \n",
            "  inflating: holidays/images/106600.jpg  \n",
            "  inflating: holidays/images/106601.jpg  \n",
            "  inflating: holidays/images/106602.jpg  \n",
            "  inflating: holidays/images/106603.jpg  \n",
            "  inflating: holidays/images/106604.jpg  \n",
            "  inflating: holidays/images/106605.jpg  \n",
            "  inflating: holidays/images/106606.jpg  \n",
            "  inflating: holidays/images/106700.jpg  \n",
            "  inflating: holidays/images/106701.jpg  \n",
            "  inflating: holidays/images/106702.jpg  \n",
            "  inflating: holidays/images/106703.jpg  \n",
            "  inflating: holidays/images/106704.jpg  \n",
            "  inflating: holidays/images/106800.jpg  \n",
            "  inflating: holidays/images/106801.jpg  \n",
            "  inflating: holidays/images/106900.jpg  \n",
            "  inflating: holidays/images/106901.jpg  \n",
            "  inflating: holidays/images/106902.jpg  \n",
            "  inflating: holidays/images/106903.jpg  \n",
            "  inflating: holidays/images/107000.jpg  \n",
            "  inflating: holidays/images/107001.jpg  \n",
            "  inflating: holidays/images/107100.jpg  \n",
            "  inflating: holidays/images/107101.jpg  \n",
            "  inflating: holidays/images/107200.jpg  \n",
            "  inflating: holidays/images/107201.jpg  \n",
            "  inflating: holidays/images/107202.jpg  \n",
            "  inflating: holidays/images/107203.jpg  \n",
            "  inflating: holidays/images/107300.jpg  \n",
            "  inflating: holidays/images/107301.jpg  \n",
            "  inflating: holidays/images/107400.jpg  \n",
            "  inflating: holidays/images/107401.jpg  \n",
            "  inflating: holidays/images/107500.jpg  \n",
            "  inflating: holidays/images/107501.jpg  \n",
            "  inflating: holidays/images/107600.jpg  \n",
            "  inflating: holidays/images/107601.jpg  \n",
            "  inflating: holidays/images/107700.jpg  \n",
            "  inflating: holidays/images/107701.jpg  \n",
            "  inflating: holidays/images/107702.jpg  \n",
            "  inflating: holidays/images/107800.jpg  \n",
            "  inflating: holidays/images/107801.jpg  \n",
            "  inflating: holidays/images/107900.jpg  \n",
            "  inflating: holidays/images/107901.jpg  \n",
            "  inflating: holidays/images/107902.jpg  \n",
            "  inflating: holidays/images/108000.jpg  \n",
            "  inflating: holidays/images/108001.jpg  \n",
            "  inflating: holidays/images/108100.jpg  \n",
            "  inflating: holidays/images/108101.jpg  \n",
            "  inflating: holidays/images/108102.jpg  \n",
            "  inflating: holidays/images/108103.jpg  \n",
            "  inflating: holidays/images/108104.jpg  \n",
            "  inflating: holidays/images/108105.jpg  \n",
            "  inflating: holidays/images/108106.jpg  \n",
            "  inflating: holidays/images/108200.jpg  \n",
            "  inflating: holidays/images/108201.jpg  \n",
            "  inflating: holidays/images/108202.jpg  \n",
            "  inflating: holidays/images/108203.jpg  \n",
            "  inflating: holidays/images/108300.jpg  \n",
            "  inflating: holidays/images/108301.jpg  \n",
            "  inflating: holidays/images/108400.jpg  \n",
            "  inflating: holidays/images/108401.jpg  \n",
            "  inflating: holidays/images/108500.jpg  \n",
            "  inflating: holidays/images/108501.jpg  \n",
            "  inflating: holidays/images/108600.jpg  \n",
            "  inflating: holidays/images/108601.jpg  \n",
            "  inflating: holidays/images/108700.jpg  \n",
            "  inflating: holidays/images/108701.jpg  \n",
            "  inflating: holidays/images/108800.jpg  \n",
            "  inflating: holidays/images/108801.jpg  \n",
            "  inflating: holidays/images/108802.jpg  \n",
            "  inflating: holidays/images/108900.jpg  \n",
            "  inflating: holidays/images/108901.jpg  \n",
            "  inflating: holidays/images/108902.jpg  \n",
            "  inflating: holidays/images/109000.jpg  \n",
            "  inflating: holidays/images/109001.jpg  \n",
            "  inflating: holidays/images/109100.jpg  \n",
            "  inflating: holidays/images/109101.jpg  \n",
            "  inflating: holidays/images/109200.jpg  \n",
            "  inflating: holidays/images/109201.jpg  \n",
            "  inflating: holidays/images/109300.jpg  \n",
            "  inflating: holidays/images/109301.jpg  \n",
            "  inflating: holidays/images/109400.jpg  \n",
            "  inflating: holidays/images/109401.jpg  \n",
            "  inflating: holidays/images/109402.jpg  \n",
            "  inflating: holidays/images/109500.jpg  \n",
            "  inflating: holidays/images/109501.jpg  \n",
            "  inflating: holidays/images/109600.jpg  \n",
            "  inflating: holidays/images/112501.jpg  \n",
            "  inflating: holidays/images/112600.jpg  \n",
            "  inflating: holidays/images/112601.jpg  \n",
            "  inflating: holidays/images/112602.jpg  \n",
            "  inflating: holidays/images/112700.jpg  \n",
            "  inflating: holidays/images/112701.jpg  \n",
            "  inflating: holidays/images/112800.jpg  \n",
            "  inflating: holidays/images/112801.jpg  \n",
            "  inflating: holidays/images/112900.jpg  \n",
            "  inflating: holidays/images/112901.jpg  \n",
            "  inflating: holidays/images/112902.jpg  \n",
            "  inflating: holidays/images/113000.jpg  \n",
            "  inflating: holidays/images/113001.jpg  \n",
            "  inflating: holidays/images/113100.jpg  \n",
            "  inflating: holidays/images/113101.jpg  \n",
            "  inflating: holidays/images/113200.jpg  \n",
            "  inflating: holidays/images/113201.jpg  \n",
            "  inflating: holidays/images/113300.jpg  \n",
            "  inflating: holidays/images/113301.jpg  \n",
            "  inflating: holidays/images/113400.jpg  \n",
            "  inflating: holidays/images/113401.jpg  \n",
            "  inflating: holidays/images/113402.jpg  \n",
            "  inflating: holidays/images/113403.jpg  \n",
            "  inflating: holidays/images/113404.jpg  \n",
            "  inflating: holidays/images/113500.jpg  \n",
            "  inflating: holidays/images/113501.jpg  \n",
            "  inflating: holidays/images/113502.jpg  \n",
            "  inflating: holidays/images/113600.jpg  \n",
            "  inflating: holidays/images/113601.jpg  \n",
            "  inflating: holidays/images/113700.jpg  \n",
            "  inflating: holidays/images/113701.jpg  \n",
            "  inflating: holidays/images/113800.jpg  \n",
            "  inflating: holidays/images/113801.jpg  \n",
            "  inflating: holidays/images/113900.jpg  \n",
            "  inflating: holidays/images/113901.jpg  \n",
            "  inflating: holidays/images/114000.jpg  \n",
            "  inflating: holidays/images/114001.jpg  \n",
            "  inflating: holidays/images/114002.jpg  \n",
            "  inflating: holidays/images/114100.jpg  \n",
            "  inflating: holidays/images/114101.jpg  \n",
            "  inflating: holidays/images/114200.jpg  \n",
            "  inflating: holidays/images/114201.jpg  \n",
            "  inflating: holidays/images/114300.jpg  \n",
            "  inflating: holidays/images/114301.jpg  \n",
            "  inflating: holidays/images/114400.jpg  \n",
            "  inflating: holidays/images/114401.jpg  \n",
            "  inflating: holidays/images/114402.jpg  \n",
            "  inflating: holidays/images/114500.jpg  \n",
            "  inflating: holidays/images/114501.jpg  \n",
            "  inflating: holidays/images/114502.jpg  \n",
            "  inflating: holidays/images/114503.jpg  \n",
            "  inflating: holidays/images/114504.jpg  \n",
            "  inflating: holidays/images/114600.jpg  \n",
            "  inflating: holidays/images/114601.jpg  \n",
            "  inflating: holidays/images/114700.jpg  \n",
            "  inflating: holidays/images/114701.jpg  \n",
            "  inflating: holidays/images/114702.jpg  \n",
            "  inflating: holidays/images/114703.jpg  \n",
            "  inflating: holidays/images/114800.jpg  \n",
            "  inflating: holidays/images/114801.jpg  \n",
            "  inflating: holidays/images/114900.jpg  \n",
            "  inflating: holidays/images/114901.jpg  \n",
            "  inflating: holidays/images/114902.jpg  \n",
            "  inflating: holidays/images/114903.jpg  \n",
            "  inflating: holidays/images/115000.jpg  \n",
            "  inflating: holidays/images/115001.jpg  \n",
            "  inflating: holidays/images/115100.jpg  \n",
            "  inflating: holidays/images/115101.jpg  \n",
            "  inflating: holidays/images/115200.jpg  \n",
            "  inflating: holidays/images/115201.jpg  \n",
            "  inflating: holidays/images/115300.jpg  \n",
            "  inflating: holidays/images/115301.jpg  \n",
            "  inflating: holidays/images/115400.jpg  \n",
            "  inflating: holidays/images/115401.jpg  \n",
            "  inflating: holidays/images/115500.jpg  \n",
            "  inflating: holidays/images/115501.jpg  \n",
            "  inflating: holidays/images/115600.jpg  \n",
            "  inflating: holidays/images/115601.jpg  \n",
            "  inflating: holidays/images/115602.jpg  \n",
            "  inflating: holidays/images/115700.jpg  \n",
            "  inflating: holidays/images/115701.jpg  \n",
            "  inflating: holidays/images/115702.jpg  \n",
            "  inflating: holidays/images/115800.jpg  \n",
            "  inflating: holidays/images/115801.jpg  \n",
            "  inflating: holidays/images/115900.jpg  \n",
            "  inflating: holidays/images/115901.jpg  \n",
            "  inflating: holidays/images/115902.jpg  \n",
            "  inflating: holidays/images/116000.jpg  \n",
            "  inflating: holidays/images/116001.jpg  \n",
            "  inflating: holidays/images/116002.jpg  \n",
            "  inflating: holidays/images/116100.jpg  \n",
            "  inflating: holidays/images/116101.jpg  \n",
            "  inflating: holidays/images/116200.jpg  \n",
            "  inflating: holidays/images/116201.jpg  \n",
            "  inflating: holidays/images/116300.jpg  \n",
            "  inflating: holidays/images/116301.jpg  \n",
            "  inflating: holidays/images/116400.jpg  \n",
            "  inflating: holidays/images/116401.jpg  \n",
            "  inflating: holidays/images/116402.jpg  \n",
            "  inflating: holidays/images/116500.jpg  \n",
            "  inflating: holidays/images/116501.jpg  \n",
            "  inflating: holidays/images/116600.jpg  \n",
            "  inflating: holidays/images/116601.jpg  \n",
            "  inflating: holidays/images/116700.jpg  \n",
            "  inflating: holidays/images/116701.jpg  \n",
            "  inflating: holidays/images/116702.jpg  \n",
            "  inflating: holidays/images/116703.jpg  \n",
            "  inflating: holidays/images/116800.jpg  \n",
            "  inflating: holidays/images/116801.jpg  \n",
            "  inflating: holidays/images/116802.jpg  \n",
            "  inflating: holidays/images/116803.jpg  \n",
            "  inflating: holidays/images/116900.jpg  \n",
            "  inflating: holidays/images/116901.jpg  \n",
            "  inflating: holidays/images/117000.jpg  \n",
            "  inflating: holidays/images/117001.jpg  \n",
            "  inflating: holidays/images/117100.jpg  \n",
            "  inflating: holidays/images/117101.jpg  \n",
            "  inflating: holidays/images/117102.jpg  \n",
            "  inflating: holidays/images/117200.jpg  \n",
            "  inflating: holidays/images/117201.jpg  \n",
            "  inflating: holidays/images/117300.jpg  \n",
            "  inflating: holidays/images/117301.jpg  \n",
            "  inflating: holidays/images/117302.jpg  \n",
            "  inflating: holidays/images/117400.jpg  \n",
            "  inflating: holidays/images/117401.jpg  \n",
            "  inflating: holidays/images/117402.jpg  \n",
            "  inflating: holidays/images/117403.jpg  \n",
            "  inflating: holidays/images/117500.jpg  \n",
            "  inflating: holidays/images/117501.jpg  \n",
            "  inflating: holidays/images/117600.jpg  \n",
            "  inflating: holidays/images/117601.jpg  \n",
            "  inflating: holidays/images/117700.jpg  \n",
            "  inflating: holidays/images/117701.jpg  \n",
            "  inflating: holidays/images/117800.jpg  \n",
            "  inflating: holidays/images/117801.jpg  \n",
            "  inflating: holidays/images/117802.jpg  \n",
            "  inflating: holidays/images/117900.jpg  \n",
            "  inflating: holidays/images/117901.jpg  \n",
            "  inflating: holidays/images/118000.jpg  \n",
            "  inflating: holidays/images/118001.jpg  \n",
            "  inflating: holidays/images/118002.jpg  \n",
            "  inflating: holidays/images/118003.jpg  \n",
            "  inflating: holidays/images/118100.jpg  \n",
            "  inflating: holidays/images/118101.jpg  \n",
            "  inflating: holidays/images/118200.jpg  \n",
            "  inflating: holidays/images/118201.jpg  \n",
            "  inflating: holidays/images/118202.jpg  \n",
            "  inflating: holidays/images/118300.jpg  \n",
            "  inflating: holidays/images/118301.jpg  \n",
            "  inflating: holidays/images/118302.jpg  \n",
            "  inflating: holidays/images/118303.jpg  \n",
            "  inflating: holidays/images/118400.jpg  \n",
            "  inflating: holidays/images/118401.jpg  \n",
            "  inflating: holidays/images/118402.jpg  \n",
            "  inflating: holidays/images/118500.jpg  \n",
            "  inflating: holidays/images/118501.jpg  \n",
            "  inflating: holidays/images/118600.jpg  \n",
            "  inflating: holidays/images/118601.jpg  \n",
            "  inflating: holidays/images/118700.jpg  \n",
            "  inflating: holidays/images/118701.jpg  \n",
            "  inflating: holidays/images/118800.jpg  \n",
            "  inflating: holidays/images/118801.jpg  \n",
            "  inflating: holidays/images/118802.jpg  \n",
            "  inflating: holidays/images/118803.jpg  \n",
            "  inflating: holidays/images/118900.jpg  \n",
            "  inflating: holidays/images/118901.jpg  \n",
            "  inflating: holidays/images/119000.jpg  \n",
            "  inflating: holidays/images/119001.jpg  \n",
            "  inflating: holidays/images/119100.jpg  \n",
            "  inflating: holidays/images/119101.jpg  \n",
            "  inflating: holidays/images/119200.jpg  \n",
            "  inflating: holidays/images/119201.jpg  \n",
            "  inflating: holidays/images/119202.jpg  \n",
            "  inflating: holidays/images/119203.jpg  \n",
            "  inflating: holidays/images/119300.jpg  \n",
            "  inflating: holidays/images/119301.jpg  \n",
            "  inflating: holidays/images/119400.jpg  \n",
            "  inflating: holidays/images/119401.jpg  \n",
            "  inflating: holidays/images/119500.jpg  \n",
            "  inflating: holidays/images/119501.jpg  \n",
            "  inflating: holidays/images/119600.jpg  \n",
            "  inflating: holidays/images/119601.jpg  \n",
            "  inflating: holidays/images/119602.jpg  \n",
            "  inflating: holidays/images/119603.jpg  \n",
            "  inflating: holidays/images/119604.jpg  \n",
            "  inflating: holidays/images/119605.jpg  \n",
            "  inflating: holidays/images/119700.jpg  \n",
            "  inflating: holidays/images/119701.jpg  \n",
            "  inflating: holidays/images/119702.jpg  \n",
            "  inflating: holidays/images/119703.jpg  \n",
            "  inflating: holidays/images/119704.jpg  \n",
            "  inflating: holidays/images/119800.jpg  \n",
            "  inflating: holidays/images/119801.jpg  \n",
            "  inflating: holidays/images/119900.jpg  \n",
            "  inflating: holidays/images/119901.jpg  \n",
            "  inflating: holidays/images/120000.jpg  \n",
            "  inflating: holidays/images/120001.jpg  \n",
            "  inflating: holidays/images/120100.jpg  \n",
            "  inflating: holidays/images/120101.jpg  \n",
            "  inflating: holidays/images/120200.jpg  \n",
            "  inflating: holidays/images/120201.jpg  \n",
            "  inflating: holidays/images/120300.jpg  \n",
            "  inflating: holidays/images/120301.jpg  \n",
            "  inflating: holidays/images/120400.jpg  \n",
            "  inflating: holidays/images/120401.jpg  \n",
            "  inflating: holidays/images/120500.jpg  \n",
            "  inflating: holidays/images/120501.jpg  \n",
            "  inflating: holidays/images/120600.jpg  \n",
            "  inflating: holidays/images/120601.jpg  \n",
            "  inflating: holidays/images/120700.jpg  \n",
            "  inflating: holidays/images/120701.jpg  \n",
            "  inflating: holidays/images/120702.jpg  \n",
            "  inflating: holidays/images/120703.jpg  \n",
            "  inflating: holidays/images/120800.jpg  \n",
            "  inflating: holidays/images/120801.jpg  \n",
            "  inflating: holidays/images/120900.jpg  \n",
            "  inflating: holidays/images/120901.jpg  \n",
            "  inflating: holidays/images/121000.jpg  \n",
            "  inflating: holidays/images/121001.jpg  \n",
            "  inflating: holidays/images/121100.jpg  \n",
            "  inflating: holidays/images/121101.jpg  \n",
            "  inflating: holidays/images/121200.jpg  \n",
            "  inflating: holidays/images/121201.jpg  \n",
            "  inflating: holidays/images/121300.jpg  \n",
            "  inflating: holidays/images/121301.jpg  \n",
            "  inflating: holidays/images/121400.jpg  \n",
            "  inflating: holidays/images/121401.jpg  \n",
            "  inflating: holidays/images/121402.jpg  \n",
            "  inflating: holidays/images/121403.jpg  \n",
            "  inflating: holidays/images/121404.jpg  \n",
            "  inflating: holidays/images/121500.jpg  \n",
            "  inflating: holidays/images/121501.jpg  \n",
            "  inflating: holidays/images/121600.jpg  \n",
            "  inflating: holidays/images/121601.jpg  \n",
            "  inflating: holidays/images/121700.jpg  \n",
            "  inflating: holidays/images/121701.jpg  \n",
            "  inflating: holidays/images/121800.jpg  \n",
            "  inflating: holidays/images/121801.jpg  \n",
            "  inflating: holidays/images/121900.jpg  \n",
            "  inflating: holidays/images/121901.jpg  \n",
            "  inflating: holidays/images/122000.jpg  \n",
            "  inflating: holidays/images/122001.jpg  \n",
            "  inflating: holidays/images/122002.jpg  \n",
            "  inflating: holidays/images/122100.jpg  \n",
            "  inflating: holidays/images/122101.jpg  \n",
            "  inflating: holidays/images/122102.jpg  \n",
            "  inflating: holidays/images/122200.jpg  \n",
            "  inflating: holidays/images/122201.jpg  \n",
            "  inflating: holidays/images/122202.jpg  \n",
            "  inflating: holidays/images/122203.jpg  \n",
            "  inflating: holidays/images/122300.jpg  \n",
            "  inflating: holidays/images/122301.jpg  \n",
            "  inflating: holidays/images/122302.jpg  \n",
            "  inflating: holidays/images/122400.jpg  \n",
            "  inflating: holidays/images/122401.jpg  \n",
            "  inflating: holidays/images/122402.jpg  \n",
            "  inflating: holidays/images/122500.jpg  \n",
            "  inflating: holidays/images/122501.jpg  \n",
            "  inflating: holidays/images/122502.jpg  \n",
            "  inflating: holidays/images/122503.jpg  \n",
            "  inflating: holidays/images/122504.jpg  \n",
            "  inflating: holidays/images/122600.jpg  \n",
            "  inflating: holidays/images/122601.jpg  \n",
            "  inflating: holidays/images/122602.jpg  \n",
            "  inflating: holidays/images/122700.jpg  \n",
            "  inflating: holidays/images/122701.jpg  \n",
            "  inflating: holidays/images/122702.jpg  \n",
            "  inflating: holidays/images/122703.jpg  \n",
            "  inflating: holidays/images/122704.jpg  \n",
            "  inflating: holidays/images/122705.jpg  \n",
            "  inflating: holidays/images/122706.jpg  \n",
            "  inflating: holidays/images/122707.jpg  \n",
            "  inflating: holidays/images/122708.jpg  \n",
            "  inflating: holidays/images/122709.jpg  \n",
            "  inflating: holidays/images/122800.jpg  \n",
            "  inflating: holidays/images/122801.jpg  \n",
            "  inflating: holidays/images/122900.jpg  \n",
            "  inflating: holidays/images/122901.jpg  \n",
            "  inflating: holidays/images/123000.jpg  \n",
            "  inflating: holidays/images/123001.jpg  \n",
            "  inflating: holidays/images/123002.jpg  \n",
            "  inflating: holidays/images/123003.jpg  \n",
            "  inflating: holidays/images/123100.jpg  \n",
            "  inflating: holidays/images/123101.jpg  \n",
            "  inflating: holidays/images/123200.jpg  \n",
            "  inflating: holidays/images/123201.jpg  \n",
            "  inflating: holidays/images/123202.jpg  \n",
            "  inflating: holidays/images/123203.jpg  \n",
            "  inflating: holidays/images/123204.jpg  \n",
            "  inflating: holidays/images/123205.jpg  \n",
            "  inflating: holidays/images/123300.jpg  \n",
            "  inflating: holidays/images/123301.jpg  \n",
            "  inflating: holidays/images/123400.jpg  \n",
            "  inflating: holidays/images/123401.jpg  \n",
            "  inflating: holidays/images/123402.jpg  \n",
            "  inflating: holidays/images/123403.jpg  \n",
            "  inflating: holidays/images/123404.jpg  \n",
            "  inflating: holidays/images/123500.jpg  \n",
            "  inflating: holidays/images/123501.jpg  \n",
            "  inflating: holidays/images/123600.jpg  \n",
            "  inflating: holidays/images/123601.jpg  \n",
            "  inflating: holidays/images/123602.jpg  \n",
            "  inflating: holidays/images/123700.jpg  \n",
            "  inflating: holidays/images/123701.jpg  \n",
            "  inflating: holidays/images/123800.jpg  \n",
            "  inflating: holidays/images/123801.jpg  \n",
            "  inflating: holidays/images/123900.jpg  \n",
            "  inflating: holidays/images/123901.jpg  \n",
            "  inflating: holidays/images/124000.jpg  \n",
            "  inflating: holidays/images/124001.jpg  \n",
            "  inflating: holidays/images/124002.jpg  \n",
            "  inflating: holidays/images/124003.jpg  \n",
            "  inflating: holidays/images/124100.jpg  \n",
            "  inflating: holidays/images/124101.jpg  \n",
            "  inflating: holidays/images/124200.jpg  \n",
            "  inflating: holidays/images/124201.jpg  \n",
            "  inflating: holidays/images/124202.jpg  \n",
            "  inflating: holidays/images/124300.jpg  \n",
            "  inflating: holidays/images/124301.jpg  \n",
            "  inflating: holidays/images/124302.jpg  \n",
            "  inflating: holidays/images/124400.jpg  \n",
            "  inflating: holidays/images/124401.jpg  \n",
            "  inflating: holidays/images/124402.jpg  \n",
            "  inflating: holidays/images/124500.jpg  \n",
            "  inflating: holidays/images/124501.jpg  \n",
            "  inflating: holidays/images/124600.jpg  \n",
            "  inflating: holidays/images/124601.jpg  \n",
            "  inflating: holidays/images/124700.jpg  \n",
            "  inflating: holidays/images/124701.jpg  \n",
            "  inflating: holidays/images/124800.jpg  \n",
            "  inflating: holidays/images/124801.jpg  \n",
            "  inflating: holidays/images/124802.jpg  \n",
            "  inflating: holidays/images/124900.jpg  \n",
            "  inflating: holidays/images/124901.jpg  \n",
            "  inflating: holidays/images/125000.jpg  \n",
            "  inflating: holidays/images/125001.jpg  \n",
            "  inflating: holidays/images/125100.jpg  \n",
            "  inflating: holidays/images/125101.jpg  \n",
            "  inflating: holidays/images/125102.jpg  \n",
            "  inflating: holidays/images/125200.jpg  \n",
            "  inflating: holidays/images/125201.jpg  \n",
            "  inflating: holidays/images/125202.jpg  \n",
            "  inflating: holidays/images/125203.jpg  \n",
            "  inflating: holidays/images/125300.jpg  \n",
            "  inflating: holidays/images/125301.jpg  \n",
            "  inflating: holidays/images/125400.jpg  \n",
            "  inflating: holidays/images/125401.jpg  \n",
            "  inflating: holidays/images/125500.jpg  \n",
            "  inflating: holidays/images/125501.jpg  \n",
            "  inflating: holidays/images/125600.jpg  \n",
            "  inflating: holidays/images/125601.jpg  \n",
            "  inflating: holidays/images/125700.jpg  \n",
            "  inflating: holidays/images/125701.jpg  \n",
            "  inflating: holidays/images/125702.jpg  \n",
            "  inflating: holidays/images/125703.jpg  \n",
            "  inflating: holidays/images/125800.jpg  \n",
            "  inflating: holidays/images/125801.jpg  \n",
            "  inflating: holidays/images/125802.jpg  \n",
            "  inflating: holidays/images/125900.jpg  \n",
            "  inflating: holidays/images/125901.jpg  \n",
            "  inflating: holidays/images/126000.jpg  \n",
            "  inflating: holidays/images/126001.jpg  \n",
            "  inflating: holidays/images/126002.jpg  \n",
            "  inflating: holidays/images/126100.jpg  \n",
            "  inflating: holidays/images/126101.jpg  \n",
            "  inflating: holidays/images/126102.jpg  \n",
            "  inflating: holidays/images/126200.jpg  \n",
            "  inflating: holidays/images/126201.jpg  \n",
            "  inflating: holidays/images/126202.jpg  \n",
            "  inflating: holidays/images/126300.jpg  \n",
            "  inflating: holidays/images/126301.jpg  \n",
            "  inflating: holidays/images/126400.jpg  \n",
            "  inflating: holidays/images/126401.jpg  \n",
            "  inflating: holidays/images/126402.jpg  \n",
            "  inflating: holidays/images/126500.jpg  \n",
            "  inflating: holidays/images/126501.jpg  \n",
            "  inflating: holidays/images/126502.jpg  \n",
            "  inflating: holidays/images/126600.jpg  \n",
            "  inflating: holidays/images/126601.jpg  \n",
            "  inflating: holidays/images/126700.jpg  \n",
            "  inflating: holidays/images/126701.jpg  \n",
            "  inflating: holidays/images/126702.jpg  \n",
            "  inflating: holidays/images/126703.jpg  \n",
            "  inflating: holidays/images/126704.jpg  \n",
            "  inflating: holidays/images/126705.jpg  \n",
            "  inflating: holidays/images/126800.jpg  \n",
            "  inflating: holidays/images/126801.jpg  \n",
            "  inflating: holidays/images/126802.jpg  \n",
            "  inflating: holidays/images/126803.jpg  \n",
            "  inflating: holidays/images/126804.jpg  \n",
            "  inflating: holidays/images/126805.jpg  \n",
            "  inflating: holidays/images/126806.jpg  \n",
            "  inflating: holidays/images/126807.jpg  \n",
            "  inflating: holidays/images/126808.jpg  \n",
            "  inflating: holidays/images/126900.jpg  \n",
            "  inflating: holidays/images/126901.jpg  \n",
            "  inflating: holidays/images/126902.jpg  \n",
            "  inflating: holidays/images/127000.jpg  \n",
            "  inflating: holidays/images/127100.jpg  \n",
            "  inflating: holidays/images/127101.jpg  \n",
            "  inflating: holidays/images/127200.jpg  \n",
            "  inflating: holidays/images/127201.jpg  \n",
            "  inflating: holidays/images/127202.jpg  \n",
            "  inflating: holidays/images/127300.jpg  \n",
            "  inflating: holidays/images/127301.jpg  \n",
            "  inflating: holidays/images/127400.jpg  \n",
            "  inflating: holidays/images/127401.jpg  \n",
            "  inflating: holidays/images/127402.jpg  \n",
            "  inflating: holidays/images/127403.jpg  \n",
            "  inflating: holidays/images/127500.jpg  \n",
            "  inflating: holidays/images/127501.jpg  \n",
            "  inflating: holidays/images/127502.jpg  \n",
            "  inflating: holidays/images/127503.jpg  \n",
            "  inflating: holidays/images/127600.jpg  \n",
            "  inflating: holidays/images/127601.jpg  \n",
            "  inflating: holidays/images/127602.jpg  \n",
            "  inflating: holidays/images/127700.jpg  \n",
            "  inflating: holidays/images/127800.jpg  \n",
            "  inflating: holidays/images/127801.jpg  \n",
            "  inflating: holidays/images/127802.jpg  \n",
            "  inflating: holidays/images/127900.jpg  \n",
            "  inflating: holidays/images/127901.jpg  \n",
            "  inflating: holidays/images/128000.jpg  \n",
            "  inflating: holidays/images/128001.jpg  \n",
            "  inflating: holidays/images/128002.jpg  \n",
            "  inflating: holidays/images/128100.jpg  \n",
            "  inflating: holidays/images/128101.jpg  \n",
            "  inflating: holidays/images/128200.jpg  \n",
            "  inflating: holidays/images/128201.jpg  \n",
            "  inflating: holidays/images/128300.jpg  \n",
            "  inflating: holidays/images/128301.jpg  \n",
            "  inflating: holidays/images/128400.jpg  \n",
            "  inflating: holidays/images/128401.jpg  \n",
            "  inflating: holidays/images/128500.jpg  \n",
            "  inflating: holidays/images/128501.jpg  \n",
            "  inflating: holidays/images/128502.jpg  \n",
            "  inflating: holidays/images/128601.jpg  \n",
            "  inflating: holidays/images/128700.jpg  \n",
            "  inflating: holidays/images/128701.jpg  \n",
            "  inflating: holidays/images/128800.jpg  \n",
            "  inflating: holidays/images/128801.jpg  \n",
            "  inflating: holidays/images/128900.jpg  \n",
            "  inflating: holidays/images/128901.jpg  \n",
            "  inflating: holidays/images/129000.jpg  \n",
            "  inflating: holidays/images/129001.jpg  \n",
            "  inflating: holidays/images/129002.jpg  \n",
            "  inflating: holidays/images/129003.jpg  \n",
            "  inflating: holidays/images/129100.jpg  \n",
            "  inflating: holidays/images/129101.jpg  \n",
            "  inflating: holidays/images/129200.jpg  \n",
            "  inflating: holidays/images/129201.jpg  \n",
            "  inflating: holidays/images/129202.jpg  \n",
            "  inflating: holidays/images/129300.jpg  \n",
            "  inflating: holidays/images/129301.jpg  \n",
            "  inflating: holidays/images/129400.jpg  \n",
            "  inflating: holidays/images/129500.jpg  \n",
            "  inflating: holidays/images/129501.jpg  \n",
            "  inflating: holidays/images/129600.jpg  \n",
            "  inflating: holidays/images/129601.jpg  \n",
            "  inflating: holidays/images/129602.jpg  \n",
            "  inflating: holidays/images/129700.jpg  \n",
            "  inflating: holidays/images/129701.jpg  \n",
            "  inflating: holidays/images/129800.jpg  \n",
            "  inflating: holidays/images/129801.jpg  \n",
            "  inflating: holidays/images/129802.jpg  \n",
            "  inflating: holidays/images/129900.jpg  \n",
            "  inflating: holidays/images/129901.jpg  \n",
            "  inflating: holidays/images/130000.jpg  \n",
            "  inflating: holidays/images/130001.jpg  \n",
            "  inflating: holidays/images/130100.jpg  \n",
            "  inflating: holidays/images/130101.jpg  \n",
            "  inflating: holidays/images/130102.jpg  \n",
            "  inflating: holidays/images/130200.jpg  \n",
            "  inflating: holidays/images/130201.jpg  \n",
            "  inflating: holidays/images/130301.jpg  \n",
            "  inflating: holidays/images/130302.jpg  \n",
            "  inflating: holidays/images/130303.jpg  \n",
            "  inflating: holidays/images/130400.jpg  \n",
            "  inflating: holidays/images/130401.jpg  \n",
            "  inflating: holidays/images/130500.jpg  \n",
            "  inflating: holidays/images/130501.jpg  \n",
            "  inflating: holidays/images/130600.jpg  \n",
            "  inflating: holidays/images/130601.jpg  \n",
            "  inflating: holidays/images/130700.jpg  \n",
            "  inflating: holidays/images/130701.jpg  \n",
            "  inflating: holidays/images/130800.jpg  \n",
            "  inflating: holidays/images/130801.jpg  \n",
            "  inflating: holidays/images/130802.jpg  \n",
            "  inflating: holidays/images/130900.jpg  \n",
            "  inflating: holidays/images/130901.jpg  \n",
            "  inflating: holidays/images/131000.jpg  \n",
            "  inflating: holidays/images/131001.jpg  \n",
            "  inflating: holidays/images/131100.jpg  \n",
            "  inflating: holidays/images/131102.jpg  \n",
            "  inflating: holidays/images/131200.jpg  \n",
            "  inflating: holidays/images/131201.jpg  \n",
            "  inflating: holidays/images/131300.jpg  \n",
            "  inflating: holidays/images/131301.jpg  \n",
            "  inflating: holidays/images/131400.jpg  \n",
            "  inflating: holidays/images/131401.jpg  \n",
            "  inflating: holidays/images/131402.jpg  \n",
            "  inflating: holidays/images/131500.jpg  \n",
            "  inflating: holidays/images/131501.jpg  \n",
            "  inflating: holidays/images/131502.jpg  \n",
            "  inflating: holidays/images/131503.jpg  \n",
            "  inflating: holidays/images/131600.jpg  \n",
            "  inflating: holidays/images/131601.jpg  \n",
            "  inflating: holidays/images/131602.jpg  \n",
            "  inflating: holidays/images/131603.jpg  \n",
            "  inflating: holidays/images/131700.jpg  \n",
            "  inflating: holidays/images/131701.jpg  \n",
            "  inflating: holidays/images/131800.jpg  \n",
            "  inflating: holidays/images/131802.jpg  \n",
            "  inflating: holidays/images/131803.jpg  \n",
            "  inflating: holidays/images/131804.jpg  \n",
            "  inflating: holidays/images/131805.jpg  \n",
            "  inflating: holidays/images/131900.jpg  \n",
            "  inflating: holidays/images/131901.jpg  \n",
            "  inflating: holidays/images/132000.jpg  \n",
            "  inflating: holidays/images/132001.jpg  \n",
            "  inflating: holidays/images/132100.jpg  \n",
            "  inflating: holidays/images/132101.jpg  \n",
            "  inflating: holidays/images/132102.jpg  \n",
            "  inflating: holidays/images/132200.jpg  \n",
            "  inflating: holidays/images/132201.jpg  \n",
            "  inflating: holidays/images/132300.jpg  \n",
            "  inflating: holidays/images/132301.jpg  \n",
            "  inflating: holidays/images/132302.jpg  \n",
            "  inflating: holidays/images/132303.jpg  \n",
            "  inflating: holidays/images/132400.jpg  \n",
            "  inflating: holidays/images/132401.jpg  \n",
            "  inflating: holidays/images/132500.jpg  \n",
            "  inflating: holidays/images/132501.jpg  \n",
            "  inflating: holidays/images/132502.jpg  \n",
            "  inflating: holidays/images/132503.jpg  \n",
            "  inflating: holidays/images/132504.jpg  \n",
            "  inflating: holidays/images/132505.jpg  \n",
            "  inflating: holidays/images/132506.jpg  \n",
            "  inflating: holidays/images/132507.jpg  \n",
            "  inflating: holidays/images/132508.jpg  \n",
            "  inflating: holidays/images/132509.jpg  \n",
            "  inflating: holidays/images/132510.jpg  \n",
            "  inflating: holidays/images/132511.jpg  \n",
            "  inflating: holidays/images/132600.jpg  \n",
            "  inflating: holidays/images/132601.jpg  \n",
            "  inflating: holidays/images/132700.jpg  \n",
            "  inflating: holidays/images/132701.jpg  \n",
            "  inflating: holidays/images/132800.jpg  \n",
            "  inflating: holidays/images/132801.jpg  \n",
            "  inflating: holidays/images/132900.jpg  \n",
            "  inflating: holidays/images/132902.jpg  \n",
            "  inflating: holidays/images/133000.jpg  \n",
            "  inflating: holidays/images/133001.jpg  \n",
            "  inflating: holidays/images/133002.jpg  \n",
            "  inflating: holidays/images/133003.jpg  \n",
            "  inflating: holidays/images/133100.jpg  \n",
            "  inflating: holidays/images/133101.jpg  \n",
            "  inflating: holidays/images/133200.jpg  \n",
            "  inflating: holidays/images/133201.jpg  \n",
            "  inflating: holidays/images/133202.jpg  \n",
            "  inflating: holidays/images/133300.jpg  \n",
            "  inflating: holidays/images/133301.jpg  \n",
            "  inflating: holidays/images/133400.jpg  \n",
            "  inflating: holidays/images/133401.jpg  \n",
            "  inflating: holidays/images/133500.jpg  \n",
            "  inflating: holidays/images/133501.jpg  \n",
            "  inflating: holidays/images/133600.jpg  \n",
            "  inflating: holidays/images/133601.jpg  \n",
            "  inflating: holidays/images/133602.jpg  \n",
            "  inflating: holidays/images/133701.jpg  \n",
            "  inflating: holidays/images/133702.jpg  \n",
            "  inflating: holidays/images/133703.jpg  \n",
            "  inflating: holidays/images/133800.jpg  \n",
            "  inflating: holidays/images/133801.jpg  \n",
            "  inflating: holidays/images/133802.jpg  \n",
            "  inflating: holidays/images/133900.jpg  \n",
            "  inflating: holidays/images/133901.jpg  \n",
            "  inflating: holidays/images/134000.jpg  \n",
            "  inflating: holidays/images/134001.jpg  \n",
            "  inflating: holidays/images/134002.jpg  \n",
            "  inflating: holidays/images/134003.jpg  \n",
            "  inflating: holidays/images/134100.jpg  \n",
            "  inflating: holidays/images/134101.jpg  \n",
            "  inflating: holidays/images/134200.jpg  \n",
            "  inflating: holidays/images/134201.jpg  \n",
            "  inflating: holidays/images/134300.jpg  \n",
            "  inflating: holidays/images/134301.jpg  \n",
            "  inflating: holidays/images/134400.jpg  \n",
            "  inflating: holidays/images/134402.jpg  \n",
            "  inflating: holidays/images/134403.jpg  \n",
            "  inflating: holidays/images/134500.jpg  \n",
            "  inflating: holidays/images/134501.jpg  \n",
            "  inflating: holidays/images/134502.jpg  \n",
            "  inflating: holidays/images/134503.jpg  \n",
            "  inflating: holidays/images/134504.jpg  \n",
            "  inflating: holidays/images/134600.jpg  \n",
            "  inflating: holidays/images/134601.jpg  \n",
            "  inflating: holidays/images/134602.jpg  \n",
            "  inflating: holidays/images/134603.jpg  \n",
            "  inflating: holidays/images/134604.jpg  \n",
            "  inflating: holidays/images/134605.jpg  \n",
            "  inflating: holidays/images/134700.jpg  \n",
            "  inflating: holidays/images/134701.jpg  \n",
            "  inflating: holidays/images/134702.jpg  \n",
            "  inflating: holidays/images/134703.jpg  \n",
            "  inflating: holidays/images/134800.jpg  \n",
            "  inflating: holidays/images/134801.jpg  \n",
            "  inflating: holidays/images/134803.jpg  \n",
            "  inflating: holidays/images/134804.jpg  \n",
            "  inflating: holidays/images/134900.jpg  \n",
            "  inflating: holidays/images/134901.jpg  \n",
            "  inflating: holidays/images/135000.jpg  \n",
            "  inflating: holidays/images/135001.jpg  \n",
            "  inflating: holidays/images/135002.jpg  \n",
            "  inflating: holidays/images/135003.jpg  \n",
            "  inflating: holidays/images/135100.jpg  \n",
            "  inflating: holidays/images/135101.jpg  \n",
            "  inflating: holidays/images/135102.jpg  \n",
            "  inflating: holidays/images/135103.jpg  \n",
            "  inflating: holidays/images/135104.jpg  \n",
            "  inflating: holidays/images/135200.jpg  \n",
            "  inflating: holidays/images/135201.jpg  \n",
            "  inflating: holidays/images/135300.jpg  \n",
            "  inflating: holidays/images/135301.jpg  \n",
            "  inflating: holidays/images/135302.jpg  \n",
            "  inflating: holidays/images/135400.jpg  \n",
            "  inflating: holidays/images/135402.jpg  \n",
            "  inflating: holidays/images/135500.jpg  \n",
            "  inflating: holidays/images/135501.jpg  \n",
            "  inflating: holidays/images/135502.jpg  \n",
            "  inflating: holidays/images/135503.jpg  \n",
            "  inflating: holidays/images/135600.jpg  \n",
            "  inflating: holidays/images/135601.jpg  \n",
            "  inflating: holidays/images/135700.jpg  \n",
            "  inflating: holidays/images/135701.jpg  \n",
            "  inflating: holidays/images/135702.jpg  \n",
            "  inflating: holidays/images/135703.jpg  \n",
            "  inflating: holidays/images/135800.jpg  \n",
            "  inflating: holidays/images/135801.jpg  \n",
            "  inflating: holidays/images/135802.jpg  \n",
            "  inflating: holidays/images/135900.jpg  \n",
            "  inflating: holidays/images/135901.jpg  \n",
            "  inflating: holidays/images/135902.jpg  \n",
            "  inflating: holidays/images/136000.jpg  \n",
            "  inflating: holidays/images/136001.jpg  \n",
            "  inflating: holidays/images/136003.jpg  \n",
            "  inflating: holidays/images/136004.jpg  \n",
            "  inflating: holidays/images/136005.jpg  \n",
            "  inflating: holidays/images/136006.jpg  \n",
            "  inflating: holidays/images/136007.jpg  \n",
            "  inflating: holidays/images/136008.jpg  \n",
            "  inflating: holidays/images/136009.jpg  \n",
            "  inflating: holidays/images/136010.jpg  \n",
            "  inflating: holidays/images/136100.jpg  \n",
            "  inflating: holidays/images/136101.jpg  \n",
            "  inflating: holidays/images/136102.jpg  \n",
            "  inflating: holidays/images/136103.jpg  \n",
            "  inflating: holidays/images/136200.jpg  \n",
            "  inflating: holidays/images/137703.jpg  \n",
            "  inflating: holidays/images/127001.jpg  \n",
            "  inflating: holidays/images/127701.jpg  \n",
            "  inflating: holidays/images/128600.jpg  \n",
            "  inflating: holidays/images/129401.jpg  \n",
            "  inflating: holidays/images/130300.jpg  \n",
            "  inflating: holidays/images/131101.jpg  \n",
            "  inflating: holidays/images/131801.jpg  \n",
            "  inflating: holidays/images/132402.jpg  \n",
            "  inflating: holidays/images/132901.jpg  \n",
            "  inflating: holidays/images/133700.jpg  \n",
            "  inflating: holidays/images/134401.jpg  \n",
            "  inflating: holidays/images/134802.jpg  \n",
            "  inflating: holidays/images/135401.jpg  \n",
            "  inflating: holidays/images/136002.jpg  \n",
            "  inflating: holidays/images/136201.jpg  \n",
            "  inflating: holidays/images/136202.jpg  \n",
            "  inflating: holidays/images/136203.jpg  \n",
            "  inflating: holidays/images/136300.jpg  \n",
            "  inflating: holidays/images/136301.jpg  \n",
            "  inflating: holidays/images/136400.jpg  \n",
            "  inflating: holidays/images/136401.jpg  \n",
            "  inflating: holidays/images/136402.jpg  \n",
            "  inflating: holidays/images/136403.jpg  \n",
            "  inflating: holidays/images/136500.jpg  \n",
            "  inflating: holidays/images/136501.jpg  \n",
            "  inflating: holidays/images/136502.jpg  \n",
            "  inflating: holidays/images/136503.jpg  \n",
            "  inflating: holidays/images/136504.jpg  \n",
            "  inflating: holidays/images/136505.jpg  \n",
            "  inflating: holidays/images/136600.jpg  \n",
            "  inflating: holidays/images/136601.jpg  \n",
            "  inflating: holidays/images/136700.jpg  \n",
            "  inflating: holidays/images/136701.jpg  \n",
            "  inflating: holidays/images/136702.jpg  \n",
            "  inflating: holidays/images/136703.jpg  \n",
            "  inflating: holidays/images/136704.jpg  \n",
            "  inflating: holidays/images/136705.jpg  \n",
            "  inflating: holidays/images/136706.jpg  \n",
            "  inflating: holidays/images/136707.jpg  \n",
            "  inflating: holidays/images/136800.jpg  \n",
            "  inflating: holidays/images/136801.jpg  \n",
            "  inflating: holidays/images/136802.jpg  \n",
            "  inflating: holidays/images/136803.jpg  \n",
            "  inflating: holidays/images/136804.jpg  \n",
            "  inflating: holidays/images/136805.jpg  \n",
            "  inflating: holidays/images/136900.jpg  \n",
            "  inflating: holidays/images/136901.jpg  \n",
            "  inflating: holidays/images/136902.jpg  \n",
            "  inflating: holidays/images/136903.jpg  \n",
            "  inflating: holidays/images/137000.jpg  \n",
            "  inflating: holidays/images/137001.jpg  \n",
            "  inflating: holidays/images/137002.jpg  \n",
            "  inflating: holidays/images/137003.jpg  \n",
            "  inflating: holidays/images/137004.jpg  \n",
            "  inflating: holidays/images/137005.jpg  \n",
            "  inflating: holidays/images/137006.jpg  \n",
            "  inflating: holidays/images/137007.jpg  \n",
            "  inflating: holidays/images/137100.jpg  \n",
            "  inflating: holidays/images/137101.jpg  \n",
            "  inflating: holidays/images/137102.jpg  \n",
            "  inflating: holidays/images/137103.jpg  \n",
            "  inflating: holidays/images/137200.jpg  \n",
            "  inflating: holidays/images/137201.jpg  \n",
            "  inflating: holidays/images/137300.jpg  \n",
            "  inflating: holidays/images/137301.jpg  \n",
            "  inflating: holidays/images/137302.jpg  \n",
            "  inflating: holidays/images/137400.jpg  \n",
            "  inflating: holidays/images/137401.jpg  \n",
            "  inflating: holidays/images/137500.jpg  \n",
            "  inflating: holidays/images/137501.jpg  \n",
            "  inflating: holidays/images/137502.jpg  \n",
            "  inflating: holidays/images/137503.jpg  \n",
            "  inflating: holidays/images/137504.jpg  \n",
            "  inflating: holidays/images/137600.jpg  \n",
            "  inflating: holidays/images/137601.jpg  \n",
            "  inflating: holidays/images/137602.jpg  \n",
            "  inflating: holidays/images/137603.jpg  \n",
            "  inflating: holidays/images/137700.jpg  \n",
            "  inflating: holidays/images/137701.jpg  \n",
            "  inflating: holidays/images/137702.jpg  \n",
            "  inflating: holidays/images/137704.jpg  \n",
            "  inflating: holidays/images/137705.jpg  \n",
            "  inflating: holidays/images/137800.jpg  \n",
            "  inflating: holidays/images/137801.jpg  \n",
            "  inflating: holidays/images/137802.jpg  \n",
            "  inflating: holidays/images/137900.jpg  \n",
            "  inflating: holidays/images/137901.jpg  \n",
            "  inflating: holidays/images/138000.jpg  \n",
            "  inflating: holidays/images/138001.jpg  \n",
            "  inflating: holidays/images/138002.jpg  \n",
            "  inflating: holidays/images/138003.jpg  \n",
            "  inflating: holidays/images/138004.jpg  \n",
            "  inflating: holidays/images/138005.jpg  \n",
            "  inflating: holidays/images/138006.jpg  \n",
            "  inflating: holidays/images/138007.jpg  \n",
            "  inflating: holidays/images/138008.jpg  \n",
            "  inflating: holidays/images/138009.jpg  \n",
            "  inflating: holidays/images/138010.jpg  \n",
            "  inflating: holidays/images/138011.jpg  \n",
            "  inflating: holidays/images/138012.jpg  \n",
            "  inflating: holidays/images/138100.jpg  \n",
            "  inflating: holidays/images/138101.jpg  \n",
            "  inflating: holidays/images/138102.jpg  \n",
            "  inflating: holidays/images/138103.jpg  \n",
            "  inflating: holidays/images/138104.jpg  \n",
            "  inflating: holidays/images/138105.jpg  \n",
            "  inflating: holidays/images/138200.jpg  \n",
            "  inflating: holidays/images/138201.jpg  \n",
            "  inflating: holidays/images/138202.jpg  \n",
            "  inflating: holidays/images/138203.jpg  \n",
            "  inflating: holidays/images/138300.jpg  \n",
            "  inflating: holidays/images/138301.jpg  \n",
            "  inflating: holidays/images/138302.jpg  \n",
            "  inflating: holidays/images/138303.jpg  \n",
            "  inflating: holidays/images/138304.jpg  \n",
            "  inflating: holidays/images/138305.jpg  \n",
            "  inflating: holidays/images/138306.jpg  \n",
            "  inflating: holidays/images/138307.jpg  \n",
            "  inflating: holidays/images/138308.jpg  \n",
            "  inflating: holidays/images/138309.jpg  \n",
            "  inflating: holidays/images/138400.jpg  \n",
            "  inflating: holidays/images/138401.jpg  \n",
            "  inflating: holidays/images/138500.jpg  \n",
            "  inflating: holidays/images/138501.jpg  \n",
            "  inflating: holidays/images/138502.jpg  \n",
            "  inflating: holidays/images/138503.jpg  \n",
            "  inflating: holidays/images/138504.jpg  \n",
            "  inflating: holidays/images/138505.jpg  \n",
            "  inflating: holidays/images/138506.jpg  \n",
            "  inflating: holidays/images/138507.jpg  \n",
            "  inflating: holidays/images/138600.jpg  \n",
            "  inflating: holidays/images/138601.jpg  \n",
            "  inflating: holidays/images/138602.jpg  \n",
            "  inflating: holidays/images/138603.jpg  \n",
            "  inflating: holidays/images/138604.jpg  \n",
            "  inflating: holidays/images/138605.jpg  \n",
            "  inflating: holidays/images/138700.jpg  \n",
            "  inflating: holidays/images/138701.jpg  \n",
            "  inflating: holidays/images/138702.jpg  \n",
            "  inflating: holidays/images/138703.jpg  \n",
            "  inflating: holidays/images/138704.jpg  \n",
            "  inflating: holidays/images/138705.jpg  \n",
            "  inflating: holidays/images/138706.jpg  \n",
            "  inflating: holidays/images/138707.jpg  \n",
            "  inflating: holidays/images/138708.jpg  \n",
            "  inflating: holidays/images/138800.jpg  \n",
            "  inflating: holidays/images/138801.jpg  \n",
            "  inflating: holidays/images/138802.jpg  \n",
            "  inflating: holidays/images/138803.jpg  \n",
            "  inflating: holidays/images/138900.jpg  \n",
            "  inflating: holidays/images/138901.jpg  \n",
            "  inflating: holidays/images/138902.jpg  \n",
            "  inflating: holidays/images/138903.jpg  \n",
            "  inflating: holidays/images/138904.jpg  \n",
            "  inflating: holidays/images/138905.jpg  \n",
            "  inflating: holidays/images/139000.jpg  \n",
            "  inflating: holidays/images/139001.jpg  \n",
            "  inflating: holidays/images/139002.jpg  \n",
            "  inflating: holidays/images/139003.jpg  \n",
            "  inflating: holidays/images/139004.jpg  \n",
            "  inflating: holidays/images/139005.jpg  \n",
            "  inflating: holidays/images/139100.jpg  \n",
            "  inflating: holidays/images/139101.jpg  \n",
            "  inflating: holidays/images/139102.jpg  \n",
            "  inflating: holidays/images/139103.jpg  \n",
            "  inflating: holidays/images/139104.jpg  \n",
            "  inflating: holidays/images/139105.jpg  \n",
            "  inflating: holidays/images/139200.jpg  \n",
            "  inflating: holidays/images/139201.jpg  \n",
            "  inflating: holidays/images/139202.jpg  \n",
            "  inflating: holidays/images/139203.jpg  \n",
            "  inflating: holidays/images/139204.jpg  \n",
            "  inflating: holidays/images/139205.jpg  \n",
            "  inflating: holidays/images/139300.jpg  \n",
            "  inflating: holidays/images/139301.jpg  \n",
            "  inflating: holidays/images/139302.jpg  \n",
            "  inflating: holidays/images/139303.jpg  \n",
            "  inflating: holidays/images/139400.jpg  \n",
            "  inflating: holidays/images/139401.jpg  \n",
            "  inflating: holidays/images/139402.jpg  \n",
            "  inflating: holidays/images/139403.jpg  \n",
            "  inflating: holidays/images/139404.jpg  \n",
            "  inflating: holidays/images/139500.jpg  \n",
            "  inflating: holidays/images/139501.jpg  \n",
            "  inflating: holidays/images/139502.jpg  \n",
            "  inflating: holidays/images/139503.jpg  \n",
            "  inflating: holidays/images/139504.jpg  \n",
            "  inflating: holidays/images/139505.jpg  \n",
            "  inflating: holidays/images/139506.jpg  \n",
            "  inflating: holidays/images/139600.jpg  \n",
            "  inflating: holidays/images/139601.jpg  \n",
            "  inflating: holidays/images/139602.jpg  \n",
            "  inflating: holidays/images/139603.jpg  \n",
            "  inflating: holidays/images/139700.jpg  \n",
            "  inflating: holidays/images/139701.jpg  \n",
            "  inflating: holidays/images/139800.jpg  \n",
            "  inflating: holidays/images/139801.jpg  \n",
            "  inflating: holidays/images/139900.jpg  \n",
            "  inflating: holidays/images/139901.jpg  \n",
            "  inflating: holidays/images/140000.jpg  \n",
            "  inflating: holidays/images/140001.jpg  \n",
            "  inflating: holidays/images/140100.jpg  \n",
            "  inflating: holidays/images/140101.jpg  \n",
            "  inflating: holidays/images/140200.jpg  \n",
            "  inflating: holidays/images/140201.jpg  \n",
            "  inflating: holidays/images/140300.jpg  \n",
            "  inflating: holidays/images/140301.jpg  \n",
            "  inflating: holidays/images/140400.jpg  \n",
            "  inflating: holidays/images/140401.jpg  \n",
            "  inflating: holidays/images/140500.jpg  \n",
            "  inflating: holidays/images/140501.jpg  \n",
            "  inflating: holidays/images/140502.jpg  \n",
            "  inflating: holidays/images/140503.jpg  \n",
            "  inflating: holidays/images/140600.jpg  \n",
            "  inflating: holidays/images/140601.jpg  \n",
            "  inflating: holidays/images/140700.jpg  \n",
            "  inflating: holidays/images/140701.jpg  \n",
            "  inflating: holidays/images/140800.jpg  \n",
            "  inflating: holidays/images/140801.jpg  \n",
            "  inflating: holidays/images/140802.jpg  \n",
            "  inflating: holidays/images/140803.jpg  \n",
            "  inflating: holidays/images/140900.jpg  \n",
            "  inflating: holidays/images/140901.jpg  \n",
            "  inflating: holidays/images/140902.jpg  \n",
            "  inflating: holidays/images/141000.jpg  \n",
            "  inflating: holidays/images/141001.jpg  \n",
            "  inflating: holidays/images/141100.jpg  \n",
            "  inflating: holidays/images/141101.jpg  \n",
            "  inflating: holidays/images/141200.jpg  \n",
            "  inflating: holidays/images/141201.jpg  \n",
            "  inflating: holidays/images/141202.jpg  \n",
            "  inflating: holidays/images/141300.jpg  \n",
            "  inflating: holidays/images/141301.jpg  \n",
            "  inflating: holidays/images/141302.jpg  \n",
            "  inflating: holidays/images/141303.jpg  \n",
            "  inflating: holidays/images/141304.jpg  \n",
            "  inflating: holidays/images/141400.jpg  \n",
            "  inflating: holidays/images/141401.jpg  \n",
            "  inflating: holidays/images/141500.jpg  \n",
            "  inflating: holidays/images/141501.jpg  \n",
            "  inflating: holidays/images/141600.jpg  \n",
            "  inflating: holidays/images/141601.jpg  \n",
            "  inflating: holidays/images/141700.jpg  \n",
            "  inflating: holidays/images/141701.jpg  \n",
            "  inflating: holidays/images/141702.jpg  \n",
            "  inflating: holidays/images/141703.jpg  \n",
            "  inflating: holidays/images/141704.jpg  \n",
            "  inflating: holidays/images/141800.jpg  \n",
            "  inflating: holidays/images/141801.jpg  \n",
            "  inflating: holidays/images/141802.jpg  \n",
            "  inflating: holidays/images/141803.jpg  \n",
            "  inflating: holidays/images/141900.jpg  \n",
            "  inflating: holidays/images/141901.jpg  \n",
            "  inflating: holidays/images/142000.jpg  \n",
            "  inflating: holidays/images/142001.jpg  \n",
            "  inflating: holidays/images/142002.jpg  \n",
            "  inflating: holidays/images/142003.jpg  \n",
            "  inflating: holidays/images/142004.jpg  \n",
            "  inflating: holidays/images/142100.jpg  \n",
            "  inflating: holidays/images/142101.jpg  \n",
            "  inflating: holidays/images/142200.jpg  \n",
            "  inflating: holidays/images/142201.jpg  \n",
            "  inflating: holidays/images/142300.jpg  \n",
            "  inflating: holidays/images/142301.jpg  \n",
            "  inflating: holidays/images/142302.jpg  \n",
            "  inflating: holidays/images/142400.jpg  \n",
            "  inflating: holidays/images/142401.jpg  \n",
            "  inflating: holidays/images/142500.jpg  \n",
            "  inflating: holidays/images/142501.jpg  \n",
            "  inflating: holidays/images/142502.jpg  \n",
            "  inflating: holidays/images/142600.jpg  \n",
            "  inflating: holidays/images/142601.jpg  \n",
            "  inflating: holidays/images/142700.jpg  \n",
            "  inflating: holidays/images/142701.jpg  \n",
            "  inflating: holidays/images/142800.jpg  \n",
            "  inflating: holidays/images/142801.jpg  \n",
            "  inflating: holidays/images/142900.jpg  \n",
            "  inflating: holidays/images/142901.jpg  \n",
            "  inflating: holidays/images/143000.jpg  \n",
            "  inflating: holidays/images/143001.jpg  \n",
            "  inflating: holidays/images/143100.jpg  \n",
            "  inflating: holidays/images/143101.jpg  \n",
            "  inflating: holidays/images/143200.jpg  \n",
            "  inflating: holidays/images/143201.jpg  \n",
            "  inflating: holidays/images/143300.jpg  \n",
            "  inflating: holidays/images/143301.jpg  \n",
            "  inflating: holidays/images/143400.jpg  \n",
            "  inflating: holidays/images/143401.jpg  \n",
            "  inflating: holidays/images/143500.jpg  \n",
            "  inflating: holidays/images/143501.jpg  \n",
            "  inflating: holidays/images/143600.jpg  \n",
            "  inflating: holidays/images/143601.jpg  \n",
            "  inflating: holidays/images/143700.jpg  \n",
            "  inflating: holidays/images/143701.jpg  \n",
            "  inflating: holidays/images/143702.jpg  \n",
            "  inflating: holidays/images/143800.jpg  \n",
            "  inflating: holidays/images/143801.jpg  \n",
            "  inflating: holidays/images/143802.jpg  \n",
            "  inflating: holidays/images/143803.jpg  \n",
            "  inflating: holidays/images/143900.jpg  \n",
            "  inflating: holidays/images/143901.jpg  \n",
            "  inflating: holidays/images/143902.jpg  \n",
            "  inflating: holidays/images/143903.jpg  \n",
            "  inflating: holidays/images/143904.jpg  \n",
            "  inflating: holidays/images/144000.jpg  \n",
            "  inflating: holidays/images/144001.jpg  \n",
            "  inflating: holidays/images/144100.jpg  \n",
            "  inflating: holidays/images/144101.jpg  \n",
            "  inflating: holidays/images/144102.jpg  \n",
            "  inflating: holidays/images/144103.jpg  \n",
            "  inflating: holidays/images/144104.jpg  \n",
            "  inflating: holidays/images/144200.jpg  \n",
            "  inflating: holidays/images/144201.jpg  \n",
            "  inflating: holidays/images/144300.jpg  \n",
            "  inflating: holidays/images/144301.jpg  \n",
            "  inflating: holidays/images/144302.jpg  \n",
            "  inflating: holidays/images/144400.jpg  \n",
            "  inflating: holidays/images/144401.jpg  \n",
            "  inflating: holidays/images/144402.jpg  \n",
            "  inflating: holidays/images/144500.jpg  \n",
            "  inflating: holidays/images/144501.jpg  \n",
            "  inflating: holidays/images/144600.jpg  \n",
            "  inflating: holidays/images/144601.jpg  \n",
            "  inflating: holidays/images/144700.jpg  \n",
            "  inflating: holidays/images/144701.jpg  \n",
            "  inflating: holidays/images/144702.jpg  \n",
            "  inflating: holidays/images/144703.jpg  \n",
            "  inflating: holidays/images/144704.jpg  \n",
            "  inflating: holidays/images/144800.jpg  \n",
            "  inflating: holidays/images/144801.jpg  \n",
            "  inflating: holidays/images/144802.jpg  \n",
            "  inflating: holidays/images/144803.jpg  \n",
            "  inflating: holidays/images/144804.jpg  \n",
            "  inflating: holidays/images/144900.jpg  \n",
            "  inflating: holidays/images/144901.jpg  \n",
            "  inflating: holidays/images/144902.jpg  \n",
            "  inflating: holidays/images/144903.jpg  \n",
            "  inflating: holidays/images/145000.jpg  \n",
            "  inflating: holidays/images/145001.jpg  \n",
            "  inflating: holidays/images/145002.jpg  \n",
            "  inflating: holidays/images/145003.jpg  \n",
            "  inflating: holidays/images/145100.jpg  \n",
            "  inflating: holidays/images/145101.jpg  \n",
            "  inflating: holidays/images/145102.jpg  \n",
            "  inflating: holidays/images/145200.jpg  \n",
            "  inflating: holidays/images/145201.jpg  \n",
            "  inflating: holidays/images/145202.jpg  \n",
            "  inflating: holidays/images/145203.jpg  \n",
            "  inflating: holidays/images/145300.jpg  \n",
            "  inflating: holidays/images/145301.jpg  \n",
            "  inflating: holidays/images/145400.jpg  \n",
            "  inflating: holidays/images/145401.jpg  \n",
            "  inflating: holidays/images/145402.jpg  \n",
            "  inflating: holidays/images/145500.jpg  \n",
            "  inflating: holidays/images/145501.jpg  \n",
            "  inflating: holidays/images/145502.jpg  \n",
            "  inflating: holidays/images/145600.jpg  \n",
            "  inflating: holidays/images/145601.jpg  \n",
            "  inflating: holidays/images/145700.jpg  \n",
            "  inflating: holidays/images/145701.jpg  \n",
            "  inflating: holidays/images/145800.jpg  \n",
            "  inflating: holidays/images/145801.jpg  \n",
            "  inflating: holidays/images/145802.jpg  \n",
            "  inflating: holidays/images/145803.jpg  \n",
            "  inflating: holidays/images/145900.jpg  \n",
            "  inflating: holidays/images/145901.jpg  \n",
            "  inflating: holidays/images/145902.jpg  \n",
            "  inflating: holidays/images/146000.jpg  \n",
            "  inflating: holidays/images/146001.jpg  \n",
            "  inflating: holidays/images/146002.jpg  \n",
            "  inflating: holidays/images/146003.jpg  \n",
            "  inflating: holidays/images/146100.jpg  \n",
            "  inflating: holidays/images/146101.jpg  \n",
            "  inflating: holidays/images/146102.jpg  \n",
            "  inflating: holidays/images/146200.jpg  \n",
            "  inflating: holidays/images/146201.jpg  \n",
            "  inflating: holidays/images/146202.jpg  \n",
            "  inflating: holidays/images/146203.jpg  \n",
            "  inflating: holidays/images/146204.jpg  \n",
            "  inflating: holidays/images/146205.jpg  \n",
            "  inflating: holidays/images/146206.jpg  \n",
            "  inflating: holidays/images/146207.jpg  \n",
            "  inflating: holidays/images/146300.jpg  \n",
            "  inflating: holidays/images/146301.jpg  \n",
            "  inflating: holidays/images/146302.jpg  \n",
            "  inflating: holidays/images/146303.jpg  \n",
            "  inflating: holidays/images/146400.jpg  \n",
            "  inflating: holidays/images/146401.jpg  \n",
            "  inflating: holidays/images/146402.jpg  \n",
            "  inflating: holidays/images/146403.jpg  \n",
            "  inflating: holidays/images/146404.jpg  \n",
            "  inflating: holidays/images/146405.jpg  \n",
            "  inflating: holidays/images/146500.jpg  \n",
            "  inflating: holidays/images/146501.jpg  \n",
            "  inflating: holidays/images/146502.jpg  \n",
            "  inflating: holidays/images/146600.jpg  \n",
            "  inflating: holidays/images/146601.jpg  \n",
            "  inflating: holidays/images/146602.jpg  \n",
            "  inflating: holidays/images/146700.jpg  \n",
            "  inflating: holidays/images/146701.jpg  \n",
            "  inflating: holidays/images/146800.jpg  \n",
            "  inflating: holidays/images/146801.jpg  \n",
            "  inflating: holidays/images/146900.jpg  \n",
            "  inflating: holidays/images/146901.jpg  \n",
            "  inflating: holidays/images/147000.jpg  \n",
            "  inflating: holidays/images/147001.jpg  \n",
            "  inflating: holidays/images/147100.jpg  \n",
            "  inflating: holidays/images/147101.jpg  \n",
            "  inflating: holidays/images/147102.jpg  \n",
            "  inflating: holidays/images/147103.jpg  \n",
            "  inflating: holidays/images/147200.jpg  \n",
            "  inflating: holidays/images/147201.jpg  \n",
            "  inflating: holidays/images/147202.jpg  \n",
            "  inflating: holidays/images/147300.jpg  \n",
            "  inflating: holidays/images/147301.jpg  \n",
            "  inflating: holidays/images/147302.jpg  \n",
            "  inflating: holidays/images/147303.jpg  \n",
            "  inflating: holidays/images/147304.jpg  \n",
            "  inflating: holidays/images/147400.jpg  \n",
            "  inflating: holidays/images/147401.jpg  \n",
            "  inflating: holidays/images/147402.jpg  \n",
            "  inflating: holidays/images/147500.jpg  \n",
            "  inflating: holidays/images/147501.jpg  \n",
            "  inflating: holidays/images/147502.jpg  \n",
            "  inflating: holidays/images/147600.jpg  \n",
            "  inflating: holidays/images/147601.jpg  \n",
            "  inflating: holidays/images/147602.jpg  \n",
            "  inflating: holidays/images/147603.jpg  \n",
            "  inflating: holidays/images/147700.jpg  \n",
            "  inflating: holidays/images/147701.jpg  \n",
            "  inflating: holidays/images/147702.jpg  \n",
            "  inflating: holidays/images/147800.jpg  \n",
            "  inflating: holidays/images/147801.jpg  \n",
            "  inflating: holidays/images/147802.jpg  \n",
            "  inflating: holidays/images/147900.jpg  \n",
            "  inflating: holidays/images/147901.jpg  \n",
            "  inflating: holidays/images/148000.jpg  \n",
            "  inflating: holidays/images/148001.jpg  \n",
            "  inflating: holidays/images/148002.jpg  \n",
            "  inflating: holidays/images/148003.jpg  \n",
            "  inflating: holidays/images/148004.jpg  \n",
            "  inflating: holidays/images/148100.jpg  \n",
            "  inflating: holidays/images/148101.jpg  \n",
            "  inflating: holidays/images/148200.jpg  \n",
            "  inflating: holidays/images/148201.jpg  \n",
            "  inflating: holidays/images/148202.jpg  \n",
            "  inflating: holidays/images/148203.jpg  \n",
            "  inflating: holidays/images/148300.jpg  \n",
            "  inflating: holidays/images/148301.jpg  \n",
            "  inflating: holidays/images/148400.jpg  \n",
            "  inflating: holidays/images/148401.jpg  \n",
            "  inflating: holidays/images/148500.jpg  \n",
            "  inflating: holidays/images/148501.jpg  \n",
            "  inflating: holidays/images/148600.jpg  \n",
            "  inflating: holidays/images/148601.jpg  \n",
            "  inflating: holidays/images/148602.jpg  \n",
            "  inflating: holidays/images/148603.jpg  \n",
            "  inflating: holidays/images/148700.jpg  \n",
            "  inflating: holidays/images/148701.jpg  \n",
            "  inflating: holidays/images/148800.jpg  \n",
            "  inflating: holidays/images/148801.jpg  \n",
            "  inflating: holidays/images/148900.jpg  \n",
            "  inflating: holidays/images/148901.jpg  \n",
            "  inflating: holidays/images/148902.jpg  \n",
            "  inflating: holidays/images/149000.jpg  \n",
            "  inflating: holidays/images/149001.jpg  \n",
            "  inflating: holidays/images/149002.jpg  \n",
            "  inflating: holidays/images/149100.jpg  \n",
            "  inflating: holidays/images/149101.jpg  \n",
            "  inflating: holidays/images/149102.jpg  \n",
            "  inflating: holidays/images/149200.jpg  \n",
            "  inflating: holidays/images/149201.jpg  \n",
            "  inflating: holidays/images/149300.jpg  \n",
            "  inflating: holidays/images/149301.jpg  \n",
            "  inflating: holidays/images/149302.jpg  \n",
            "  inflating: holidays/images/149400.jpg  \n",
            "  inflating: holidays/images/149401.jpg  \n",
            "  inflating: holidays/images/149500.jpg  \n",
            "  inflating: holidays/images/149501.jpg  \n",
            "  inflating: holidays/images/149600.jpg  \n",
            "  inflating: holidays/images/149601.jpg  \n",
            "  inflating: holidays/images/149602.jpg  \n",
            "  inflating: holidays/images/149603.jpg  \n",
            "  inflating: holidays/images/149604.jpg  \n",
            "  inflating: holidays/images/149700.jpg  \n",
            "  inflating: holidays/images/149701.jpg  \n",
            "  inflating: holidays/images/149800.jpg  \n",
            "  inflating: holidays/images/149801.jpg  \n",
            "  inflating: holidays/images/149900.jpg  \n",
            "  inflating: holidays/images/149901.jpg  \n",
            "  inflating: holidays/images/149902.jpg  \n",
            "  inflating: holidays/perfect_result.dat  \n"
          ]
        }
      ],
      "source": [
        "!unzip holidays.zip"
      ],
      "id": "IWfI1BLVwmqV"
    },
    {
      "cell_type": "code",
      "execution_count": 4,
      "metadata": {
        "colab": {
          "base_uri": "https://localhost:8080/"
        },
        "id": "78adf5f7",
        "outputId": "1a9c8252-46a0-4311-d7c2-b2cf907e1716"
      },
      "outputs": [
        {
          "output_type": "stream",
          "name": "stdout",
          "text": [
            "19\n",
            "31\n"
          ]
        }
      ],
      "source": [
        "# Separating the dataset into query and train images\n",
        "query_names = []\n",
        "query_imgs = []\n",
        "train_names = []\n",
        "train_imgs = []\n",
        "\n",
        "# with open('holidays/holidays_images.dat') as f:\n",
        "with open('holidays_mini/holidays_images.dat') as f:\n",
        "    for line in f:\n",
        "        imname = line.strip()\n",
        "        imno = int(imname[:-len(\".jpg\")])\n",
        "        # img = cv2.imread('holidays/images/' + imname)\n",
        "\n",
        "        img = cv2.imread('holidays_mini/images/' + imname)\n",
        "        # Resize the images for a faster operation in this assignment\n",
        "        img = cv2.resize(img, None, fx=0.25, fy=0.25, interpolation = cv2.INTER_CUBIC)\n",
        "    \n",
        "        # Checking if this is a query image\n",
        "        if imno % 100 == 0:\n",
        "            query_names.append(imname)\n",
        "            query_imgs.append(img)\n",
        "        else:\n",
        "            train_names.append(imname)\n",
        "            train_imgs.append(img)\n",
        "\n",
        "print(len(query_names))\n",
        "print(len(train_names))"
      ],
      "id": "78adf5f7"
    },
    {
      "cell_type": "code",
      "execution_count": null,
      "metadata": {
        "colab": {
          "base_uri": "https://localhost:8080/"
        },
        "id": "mCUVff9kcZhG",
        "outputId": "5e830f09-37d8-4fd6-9b07-42d6df4849dd"
      },
      "outputs": [
        {
          "name": "stdout",
          "output_type": "stream",
          "text": [
            "['100001.jpg', '100002.jpg', '100101.jpg', '100201.jpg', '100301.jpg', '100302.jpg', '100401.jpg', '100501.jpg', '100502.jpg', '100503.jpg', '100601.jpg', '100701.jpg', '100801.jpg', '100901.jpg', '100902.jpg', '101001.jpg', '101101.jpg', '101201.jpg', '101301.jpg', '101401.jpg', '101402.jpg', '101403.jpg', '101404.jpg', '101501.jpg', '101502.jpg', '101503.jpg', '101504.jpg', '101601.jpg', '101701.jpg', '101702.jpg', '101801.jpg']\n"
          ]
        }
      ],
      "source": [
        "print(train_names)"
      ],
      "id": "mCUVff9kcZhG"
    },
    {
      "cell_type": "code",
      "execution_count": null,
      "metadata": {
        "colab": {
          "base_uri": "https://localhost:8080/"
        },
        "id": "z3uw26becWYQ",
        "outputId": "e5407649-2525-4b56-e745-bec8b8c0afd1"
      },
      "outputs": [
        {
          "name": "stdout",
          "output_type": "stream",
          "text": [
            "['100000.jpg', '100100.jpg', '100200.jpg', '100300.jpg', '100400.jpg', '100500.jpg', '100600.jpg', '100700.jpg', '100800.jpg', '100900.jpg', '101000.jpg', '101100.jpg', '101200.jpg', '101300.jpg', '101400.jpg', '101500.jpg', '101600.jpg', '101700.jpg', '101800.jpg']\n"
          ]
        }
      ],
      "source": [
        "print(query_names)"
      ],
      "id": "z3uw26becWYQ"
    },
    {
      "cell_type": "markdown",
      "metadata": {
        "id": "27d7080b"
      },
      "source": [
        "## Loading SIFT descriptors\n",
        "In this assignment we will create four additional lists:\n",
        "- **`query_kps`**: A list of lists of keypoints (cv2.KeyPoint) extracted from the *query* images\n",
        "- **`query_desc`**: A list of numpy arrays including, for each set of keypoints, the SIFT descriptors extracted from the *query* images\n",
        "- **`train_kps`**: A list of lists of keypoints (cv2.KeyPoint) extracted from the *train* (database) images\n",
        "- **`train_desc`**: A list of numpy arrays including, for each set of keypoints, the SIFT descriptors extracted from the *train* images\n",
        "\n",
        "Unlike in Assigment 1, now you will be provided with a set of SIFT descriptors for each image, and, therefore, you do not need to create these lists from scratch. First, download the descriptors from [here](https://uibes-my.sharepoint.com/:u:/g/personal/egf350_id_uib_es/Eam8Ld8YDaJAhNr91YVdAZIB_wVZJ8kzzKD7BR6R3LziMw).\n",
        "\n",
        "> **Unzip this file into the root directory of the development kit, at the same level of the datasets.**\n",
        "\n",
        "Now, a new directory called `siftgeo` should be in your workspace, containing the set of SIFT descriptors for each image of the dataset. These descriptors are stored in binary format and, thus, you are also provided with some tools to load them. To be more precise, you can call the function `load_SIFT_descriptors` to load the descriptors of a list of images:"
      ],
      "id": "27d7080b"
    },
    {
      "cell_type": "code",
      "execution_count": null,
      "metadata": {
        "id": "B822YyX-UVsM"
      },
      "outputs": [],
      "source": [
        "import tarfile\n",
        "def unzip_tarfile(filename):\n",
        "  try:\n",
        "    tar = tarfile.open(filename)\n",
        "    tar.extractall()\n",
        "    tar.close()\n",
        "  except EOFError:\n",
        "    print(\"error\")"
      ],
      "id": "B822YyX-UVsM"
    },
    {
      "cell_type": "code",
      "execution_count": null,
      "metadata": {
        "id": "sQp4svdOw2Hs"
      },
      "outputs": [],
      "source": [
        "unzip_tarfile(\"siftgeo.tar.gz\")"
      ],
      "id": "sQp4svdOw2Hs"
    },
    {
      "cell_type": "code",
      "execution_count": 6,
      "metadata": {
        "colab": {
          "base_uri": "https://localhost:8080/"
        },
        "id": "1BBTN1FRxbhz",
        "outputId": "29289ea7-a090-4357-a645-63e5452f491a"
      },
      "outputs": [
        {
          "output_type": "stream",
          "name": "stdout",
          "text": [
            "/content/drive/MyDrive/ImageIndexing/iric_dev_kit\n"
          ]
        }
      ],
      "source": [
        "%cd iric_dev_kit"
      ],
      "id": "1BBTN1FRxbhz"
    },
    {
      "cell_type": "code",
      "execution_count": 7,
      "metadata": {
        "colab": {
          "base_uri": "https://localhost:8080/"
        },
        "id": "f7e7e1c5",
        "outputId": "0a1d9ab2-af03-4707-e643-7c8e02433770"
      },
      "outputs": [
        {
          "output_type": "stream",
          "name": "stdout",
          "text": [
            "19\n",
            "31\n",
            "19\n",
            "31\n",
            "(1000, 128)\n",
            "[[10.  6. 52. ... 15.  4.  0.]\n",
            " [16. 50. 12. ... 15.  4.  0.]\n",
            " [10. 11. 58. ...  7.  4.  4.]\n",
            " ...\n",
            " [27. 15.  0. ... 16.  8. 12.]\n",
            " [51. 47. 14. ... 35. 26.  0.]\n",
            " [ 2. 37. 25. ... 47. 13.  8.]]\n"
          ]
        }
      ],
      "source": [
        "# Loading descriptors\n",
        "query_kps, query_desc = rd.load_SIFT_descriptors(query_names, max_desc=1000)\n",
        "train_kps, train_desc = rd.load_SIFT_descriptors(train_names, max_desc=1000)\n",
        "\n",
        "# Some prints\n",
        "print(len(query_kps))\n",
        "print(len(train_kps))\n",
        "print(len(query_desc))\n",
        "print(len(train_desc))\n",
        "print(query_desc[0].shape)\n",
        "print(query_desc[0])"
      ],
      "id": "f7e7e1c5"
    },
    {
      "cell_type": "markdown",
      "metadata": {
        "id": "6b8f8d0c"
      },
      "source": [
        "For development purposes, we use the parameter `max_desc` to load a maximum number (1000) of the descriptors. This will speed up the execution of the rest of the notebook, while the decrease in performance will be minimum.\n",
        "\n",
        "> **Some images do not have keypoints/descriptors. Take this into account when you develop your solution.**"
      ],
      "id": "6b8f8d0c"
    },
    {
      "cell_type": "markdown",
      "metadata": {
        "id": "9e2aeee4"
      },
      "source": [
        "## $k$-d trees and LSH \n",
        "Let's start coding. At this section, you will develop a retrieval system using $k$-d trees and Locality Sensitive Hashing (LSH). "
      ],
      "id": "9e2aeee4"
    },
    {
      "cell_type": "markdown",
      "metadata": {
        "id": "9b5ec641"
      },
      "source": [
        "### General framework\n",
        "As we did in the first assignment, you first will develop some utilities to simplify your work. Write a function called `search_image` to search an image in a generic index (database). You should search each descriptor of the given query image and obtain its two closest SIFT descriptors in the database. Next, the initial set of matches should be filtered using the **NNDR criterion (use 0.8 as ratio)**, as you did in the previous assignment. For each database image, its final score with regard to this query image will be the **number of correct matches** with this image:"
      ],
      "id": "9b5ec641"
    },
    {
      "cell_type": "markdown",
      "metadata": {
        "id": "pHzWmAUYU7Na"
      },
      "source": [
        "The 2 matches returned have 0 distance!\n",
        "\n"
      ],
      "id": "pHzWmAUYU7Na"
    },
    {
      "cell_type": "code",
      "execution_count": 31,
      "metadata": {
        "id": "d9560c34"
      },
      "outputs": [],
      "source": [
        "def search_image(descs, index, id_to_name):\n",
        "    \"\"\"\n",
        "    Search an image in the index\n",
        "    \n",
        "    - descs: A numpy array. This is the set descriptors extracted from the query image\n",
        "    - index: OpenCV FLANN index to search for descriptors.\n",
        "    - id_to_name: An associative list to link every image index to its real name\n",
        "        e.g. id_to_name[0] = '100001.jpg', id_to_name[1] = '100002.jpg'\n",
        "  \n",
        "    RETURN: \n",
        "    - An ordered list of similar images, e.g.: ['100101.jpg', '100202.jpg', ...]\n",
        "  \n",
        "    \"\"\"\n",
        "    # Perform FLANN-based matching to find similar descriptors\n",
        "    matches = index.knnMatch(descs, k=2)\n",
        "\n",
        "    # Apply ratio test to filter out bad matches and find the best match for each query descriptor\n",
        "    good_matches = []\n",
        "    for m, n in matches:\n",
        "        if m.distance < 0.8 * n.distance:\n",
        "            good_matches.append(m)\n",
        "\n",
        "    scores = {}\n",
        "    for i, matchFound in enumerate(good_matches):\n",
        "        img_idx = matchFound.imgIdx\n",
        "        if img_idx not in scores:\n",
        "            scores[img_idx] = 0\n",
        "        scores[img_idx] += 1\n",
        "    sorted_scores = sorted(scores.items(), key=lambda x: x[1], reverse=True)\n",
        "\n",
        "    similar_names = []\n",
        "    for image_id, score in sorted_scores:\n",
        "        similar_names.append(id_to_name[image_id])\n",
        "\n",
        "    return sorted(similar_names)"
      ],
      "id": "d9560c34"
    },
    {
      "cell_type": "markdown",
      "metadata": {
        "id": "5470e6a8"
      },
      "source": [
        "Now, write a function called `compute_mAP`. Given a list of query images and a trained index, this function should return a Python dictionary with the ordered results for each query along with the computed mAP:"
      ],
      "id": "5470e6a8"
    },
    {
      "cell_type": "code",
      "execution_count": 27,
      "metadata": {
        "colab": {
          "base_uri": "https://localhost:8080/"
        },
        "id": "Gm70fvFzyu7e",
        "outputId": "34142b39-8467-449f-a2bc-995c9e61c49b"
      },
      "outputs": [
        {
          "output_type": "stream",
          "name": "stdout",
          "text": [
            "{'100000.jpg': ['100001.jpg', '100002.jpg'], '100100.jpg': ['100101.jpg'], '100200.jpg': ['100201.jpg'], '100300.jpg': ['100301.jpg', '100302.jpg'], '100400.jpg': ['100401.jpg'], '100500.jpg': ['100501.jpg', '100502.jpg', '100503.jpg'], '100600.jpg': ['100601.jpg'], '100700.jpg': ['100701.jpg'], '100800.jpg': ['100801.jpg'], '100900.jpg': ['100901.jpg', '100902.jpg'], '101000.jpg': ['101001.jpg'], '101100.jpg': ['101101.jpg'], '101200.jpg': ['101201.jpg'], '101300.jpg': ['101301.jpg'], '101400.jpg': ['101401.jpg', '101402.jpg', '101403.jpg', '101404.jpg'], '101500.jpg': ['101501.jpg', '101502.jpg', '101503.jpg', '101504.jpg'], '101600.jpg': ['101601.jpg'], '101700.jpg': ['101701.jpg', '101702.jpg'], '101800.jpg': ['101801.jpg']}\n"
          ]
        }
      ],
      "source": [
        "ground_truth = {}\n",
        "with open('../holidays_mini/holidays_images.dat') as f:\n",
        "# with open('../holidays/holidays_images.dat') as f:\n",
        "    for line in f:\n",
        "        imname = line.strip()\n",
        "        imno = int(imname[:-len(\".jpg\")])\n",
        "    \n",
        "        # Checking if this is a query image\n",
        "        if imno % 100 == 0:\n",
        "            results = []\n",
        "            ground_truth[imname] = results\n",
        "        else:\n",
        "            results.append(imname)\n",
        "print(ground_truth)"
      ],
      "id": "Gm70fvFzyu7e"
    },
    {
      "cell_type": "code",
      "execution_count": 10,
      "metadata": {
        "id": "0195c2f4"
      },
      "outputs": [],
      "source": [
        "def compute_mAP(query_names, query_desc, index, id_to_name, gt_file):\n",
        "    \"\"\"\n",
        "    Perform a search for a list of query images against the database.\n",
        "    \n",
        "    - query_names: An ordered list with the names of the query images\n",
        "    - query_desc: A list containing numpy arrays of size (ndesc_for_this_image, 128)\n",
        "                  Each numpy array i corresponds to the descriptors found at image i\n",
        "    - index: FLANN index\n",
        "    - id_to_name: An associative array to link every image index to its real name\n",
        "                  e.g. id_to_name[0] = '100001.jpg', id_to_name[1] = '100002.jpg'\n",
        "  \n",
        "    RETURN: \n",
        "    - total_results: A dictionary containing, for each query image, an sorted list of the database images\n",
        "    - m_ap: Mean Average Precision averaged over all queries\n",
        "    \"\"\"\n",
        "    total_results = {}\n",
        "    m_ap = 0.0\n",
        "      \n",
        "    for qname, qdesc in zip(query_names, query_desc):\n",
        "        # Search for similar images\n",
        "        results = search_image(qdesc, index, id_to_name)\n",
        "        total_results[qname] = results\n",
        "    \n",
        "    m_ap = ev.compute_mAP(total_results, gt_file)\n",
        "    return total_results, m_ap"
      ],
      "id": "0195c2f4"
    },
    {
      "cell_type": "markdown",
      "metadata": {
        "id": "6a7782f8"
      },
      "source": [
        "### $k$-d Trees\n",
        "In this section you will use a set of randomized $k$-d trees to index the database of images. Write a function called `build_db_kdtrees` to build a set of randomized $k$-d trees given a set of descriptors:\n",
        "\n",
        "> **Useful links**: [cv2.FlannBasedMatcher](https://docs.opencv.org/4.5.5/dc/de2/classcv_1_1FlannBasedMatcher.html), [Possible algorithms to create an index](https://docs.opencv.org/4.5.5/db/d18/classcv_1_1flann_1_1GenericIndex.html#a8fff14185f9f3d2f2311b528f65b146c), [Algorithms IDs](https://github.com/opencv/opencv/blob/master/modules/flann/include/opencv2/flann/defines.h#L70)"
      ],
      "id": "6a7782f8"
    },
    {
      "cell_type": "code",
      "execution_count": 22,
      "metadata": {
        "id": "3586111e"
      },
      "outputs": [],
      "source": [
        "def build_db_kdtrees(descs, ntrees = 4):\n",
        "    \"\"\"\n",
        "    Build a set of randomized k-d trees.\n",
        "    \n",
        "    - descs: A list of length len(img_names) where each element is a numpy array \n",
        "        of size (ndesc_for_this_image, 128). Each numpy array i corresponds \n",
        "        to the descriptors found on image i\n",
        "    - ntrees: Number of trees to train\n",
        "  \n",
        "    RETURN: \n",
        "    - index: Trained FLANN index\n",
        "    \"\"\" \n",
        "    FLANN_INDEX_KDTREE = 0\n",
        "    index_params = dict(algorithm = FLANN_INDEX_KDTREE, trees = ntrees)\n",
        "    search_params = dict(checks=50)\n",
        "\n",
        "    flann = cv2.FlannBasedMatcher(index_params,search_params)\n",
        "    flann.add(descs)\n",
        "    flann.train()\n",
        "    return flann"
      ],
      "id": "3586111e"
    },
    {
      "cell_type": "code",
      "execution_count": 30,
      "metadata": {
        "colab": {
          "base_uri": "https://localhost:8080/"
        },
        "id": "KfKA52S6s-Vq",
        "outputId": "eac13300-285d-4cc6-d2b9-74b020e09055"
      },
      "outputs": [
        {
          "output_type": "stream",
          "name": "stdout",
          "text": [
            "1000\n",
            "['100002.jpg', '100201.jpg']\n",
            "number of training images to match to:  31\n",
            "number of training images actually matched to:  2\n"
          ]
        }
      ],
      "source": [
        "index = build_db_kdtrees(train_desc)\n",
        "# print(len(index.getTrainDescriptors()))\n",
        "img_res = search_image(query_desc[0], index, train_names)\n",
        "print(img_res)\n",
        "print(\"number of training images to match to: \", len(train_names))\n",
        "print(\"number of training images actually matched to: \", len(img_res))"
      ],
      "id": "KfKA52S6s-Vq"
    },
    {
      "cell_type": "code",
      "source": [
        "print(ground_truth[query_names[0]])"
      ],
      "metadata": {
        "colab": {
          "base_uri": "https://localhost:8080/"
        },
        "id": "NBghv-qNdP4a",
        "outputId": "b95f35c1-49ab-4299-e1b2-444c81731165"
      },
      "id": "NBghv-qNdP4a",
      "execution_count": 28,
      "outputs": [
        {
          "output_type": "stream",
          "name": "stdout",
          "text": [
            "['100001.jpg', '100002.jpg']\n"
          ]
        }
      ]
    },
    {
      "cell_type": "code",
      "execution_count": 32,
      "metadata": {
        "colab": {
          "base_uri": "https://localhost:8080/"
        },
        "id": "H64FsJ7qeSdv",
        "outputId": "36f90800-a847-4473-c41e-568fdf87c8e7"
      },
      "outputs": [
        {
          "output_type": "stream",
          "name": "stdout",
          "text": [
            "0.5842784043441938\n"
          ]
        }
      ],
      "source": [
        "# Simple example of DB construction\n",
        "index = build_db_kdtrees(train_desc)\n",
        "# Example of computing mAP\n",
        "results, mAP = compute_mAP(query_names, query_desc, index, train_names, '../holidays_mini/holidays_images.dat')\n",
        "print(mAP) "
      ],
      "id": "H64FsJ7qeSdv"
    },
    {
      "cell_type": "code",
      "execution_count": null,
      "metadata": {
        "id": "OhSyru8_dvYB"
      },
      "outputs": [],
      "source": [
        "def plot_chart(values, labels, title, xlabel, ylabel):\n",
        "  fig, ax = plt.subplots()\n",
        "  ax.bar(labels, values)\n",
        "\n",
        "  # Set the chart title and axis labels\n",
        "  ax.set_title(title)\n",
        "  ax.set_xlabel(xlabel)\n",
        "  ax.set_ylabel(ylabel)\n",
        "\n",
        "  # Display the chart\n",
        "  plt.show()"
      ],
      "id": "OhSyru8_dvYB"
    },
    {
      "cell_type": "markdown",
      "metadata": {
        "id": "ec669537"
      },
      "source": [
        "**Q1**: Using functions developed so far, in the following cell compute the resulting **mAP** of the system **using 4 trees**: (the default values)"
      ],
      "id": "ec669537"
    },
    {
      "cell_type": "code",
      "execution_count": null,
      "metadata": {
        "id": "d3d0cfe3"
      },
      "outputs": [],
      "source": [
        "import time\n",
        "\n",
        "start_time = time.time()\n",
        "index = build_db_kdtrees(train_desc, ntrees = 4)\n",
        "train_time_kdtrees = time.time() - start_time"
      ],
      "id": "d3d0cfe3"
    },
    {
      "cell_type": "code",
      "execution_count": null,
      "metadata": {
        "id": "RsCSQy7Bj186"
      },
      "outputs": [],
      "source": [
        "img_res = search_image(query_desc[0], index, train_names)\n",
        "results_4_trees, mAP_kdtree_4_trees = compute_mAP(query_names, query_desc, index, train_names, '../holidays_mini/holidays_images.dat')\n",
        "print('mAP: %.5f' % mAP_kdtree_4_trees)"
      ],
      "id": "RsCSQy7Bj186"
    },
    {
      "cell_type": "markdown",
      "metadata": {
        "id": "57bae631"
      },
      "source": [
        "**Q2**: Are the results stable? Do you obtain always the same mAP? Why?"
      ],
      "id": "57bae631"
    },
    {
      "cell_type": "code",
      "execution_count": null,
      "metadata": {
        "id": "BfURwhWghf1x"
      },
      "outputs": [],
      "source": [
        "_, mAP_kdtree_4_trees_attempt1 = compute_mAP(query_names, query_desc, index, train_names, '../holidays_mini/holidays_images.dat')\n",
        "\n",
        "_, mAP_kdtree_4_trees_attempt2 = compute_mAP(query_names, query_desc, index, train_names, '../holidays_mini/holidays_images.dat')\n",
        "\n",
        "_, mAP_kdtree_4_trees_attempt3 = compute_mAP(query_names, query_desc, index, train_names, '../holidays_mini/holidays_images.dat')"
      ],
      "id": "BfURwhWghf1x"
    },
    {
      "cell_type": "code",
      "execution_count": null,
      "metadata": {
        "colab": {
          "base_uri": "https://localhost:8080/"
        },
        "id": "xzT99abyqdIs",
        "outputId": "f9784a8f-60ab-4adf-c8d2-e2e2e6d48f8b"
      },
      "outputs": [
        {
          "name": "stdout",
          "output_type": "stream",
          "text": [
            "different mAPs for the same query:  0.5195977633477634 0.5195977633477634 0.5195977633477634\n"
          ]
        }
      ],
      "source": [
        "print(\"different mAPs for the same query: \", mAP_kdtree_4_trees_attempt1, mAP_kdtree_4_trees_attempt2, mAP_kdtree_4_trees_attempt3)"
      ],
      "id": "xzT99abyqdIs"
    },
    {
      "cell_type": "code",
      "execution_count": null,
      "metadata": {
        "colab": {
          "base_uri": "https://localhost:8080/",
          "height": 472
        },
        "id": "vbwTUSE6hqsl",
        "outputId": "d64c7cff-c30c-427d-d80a-341ce4b4fef5"
      },
      "outputs": [
        {
          "data": {
            "image/png": "[encoded data removed]",
            "text/plain": [
              "<Figure size 640x480 with 1 Axes>"
            ]
          },
          "metadata": {},
          "output_type": "display_data"
        }
      ],
      "source": [
        "values = [mAP_kdtree_4_trees_attempt1, mAP_kdtree_4_trees_attempt2, mAP_kdtree_4_trees_attempt3]\n",
        "labels = [\"attempt1\", \"attempt2\", \"attempt3\"]\n",
        "plot_chart(values, labels, \"mAP for exact same queries\", \"mAP\", \"attempts\")"
      ],
      "id": "vbwTUSE6hqsl"
    },
    {
      "cell_type": "markdown",
      "metadata": {
        "id": "8baed384"
      },
      "source": [
        "**Q3:** Analyze the effect of changing the number of trees in terms of mAP and average response time. Some plots here can be useful to justify your answer."
      ],
      "id": "8baed384"
    },
    {
      "cell_type": "code",
      "execution_count": null,
      "metadata": {
        "id": "P2SoH7FnzX4R"
      },
      "outputs": [],
      "source": [
        "start_time = time.time()\n",
        "index_2_trees = build_db_kdtrees(train_desc[0:3], ntrees = 2)\n",
        "train_time_2_trees = time.time() - start_time\n",
        "\n",
        "start_time = time.time()\n",
        "index_4_trees = build_db_kdtrees(train_desc[0:3], ntrees = 4)\n",
        "train_time_4_trees = time.time() - start_time\n",
        "\n",
        "start_time = time.time()\n",
        "index_8_trees = build_db_kdtrees(train_desc[0:3], ntrees = 8)\n",
        "train_time_8_trees = time.time() - start_time\n",
        "train_time_kdtree = [train_time_2_trees, train_time_4_trees, train_time_8_trees]"
      ],
      "id": "P2SoH7FnzX4R"
    },
    {
      "cell_type": "code",
      "execution_count": null,
      "metadata": {
        "colab": {
          "base_uri": "https://localhost:8080/"
        },
        "id": "iiSXjHdn2yqA",
        "outputId": "cfbe7d7d-8a7c-4001-bfa7-080cb5509956"
      },
      "outputs": [
        {
          "name": "stdout",
          "output_type": "stream",
          "text": [
            "mAP with 2 trees:  0.12938596491228072\n",
            "mAP with 4 trees:  0.10307017543859649\n",
            "mAP with 8 trees:  0.13596491228070176\n"
          ]
        }
      ],
      "source": [
        "results, mAP_kdtree2 = compute_mAP(query_names, query_desc, index_2_trees, train_names[0:5], '../holidays_mini/holidays_images.dat')\n",
        "print(\"mAP with 2 trees: \", mAP_kdtree2)\n",
        "\n",
        "results, mAP_kdtree4 = compute_mAP(query_names, query_desc, index_4_trees, train_names[0:5], '../holidays_mini/holidays_images.dat')\n",
        "print(\"mAP with 4 trees: \", mAP_kdtree4)\n",
        "\n",
        "results, mAP_kdtree8 = compute_mAP(query_names, query_desc, index_8_trees, train_names[0:5], '../holidays_mini/holidays_images.dat')\n",
        "print(\"mAP with 8 trees: \", mAP_kdtree8)"
      ],
      "id": "iiSXjHdn2yqA"
    },
    {
      "cell_type": "markdown",
      "metadata": {
        "id": "zqi3WdMw8p_i"
      },
      "source": [
        "mAP for different N trees"
      ],
      "id": "zqi3WdMw8p_i"
    },
    {
      "cell_type": "code",
      "execution_count": null,
      "metadata": {
        "colab": {
          "base_uri": "https://localhost:8080/",
          "height": 472
        },
        "id": "AZVNvoYK1uk5",
        "outputId": "d115e76a-3553-4fb7-ddcc-8c784d768edd"
      },
      "outputs": [
        {
          "data": {
            "image/png": "[encoded data removed]",
            "text/plain": [
              "<Figure size 640x480 with 1 Axes>"
            ]
          },
          "metadata": {},
          "output_type": "display_data"
        }
      ],
      "source": [
        "mAP_scores_kdtree = [mAP_kdtree2, mAP_kdtree4, mAP_kdtree8]\n",
        "labels_kdtree = ['2', '4', '8']\n",
        "\n",
        "plot_chart(mAP_scores_kdtree, labels_kdtree, \"mAP for different N trees\", \"mAP\", \"N trees\")"
      ],
      "id": "AZVNvoYK1uk5"
    },
    {
      "cell_type": "markdown",
      "metadata": {
        "id": "JBv_80R18lke"
      },
      "source": [
        "Average Query Times"
      ],
      "id": "JBv_80R18lke"
    },
    {
      "cell_type": "code",
      "execution_count": null,
      "metadata": {
        "id": "tKbxolMGxc0Q"
      },
      "outputs": [],
      "source": [
        "import time\n",
        "total_time_2_trees = 0\n",
        "total_time_4_trees = 0\n",
        "total_time_8_trees = 0\n",
        "# Define the number of queries to run\n",
        "num_queries = 5\n",
        "\n",
        "# Loop through the queries\n",
        "for i in range(num_queries):\n",
        "    # Time how long the search takes\n",
        "    start_time_2_trees = time.time() \n",
        "    results_2_trees = search_image(query_desc[i], index_2_trees, train_names[0:4])\n",
        "    end_time_2_trees = time.time()\n",
        "\n",
        "    start_time_4_trees = time.time()\n",
        "    results_4_trees = search_image(query_desc[i], index_4_trees, train_names[0:4])\n",
        "    end_time_4_trees = time.time()\n",
        "\n",
        "    start_time_8_trees = time.time()\n",
        "    results_8_trees = search_image(query_desc[i], index_8_trees, train_names[0:4])\n",
        "    end_time_8_trees = time.time()\n",
        "\n",
        "    # Add the time taken to the total\n",
        "    total_time_2_trees += (end_time_2_trees - start_time_2_trees)\n",
        "    total_time_4_trees += (end_time_4_trees - start_time_4_trees)\n",
        "    total_time_8_trees += (end_time_8_trees - start_time_8_trees)\n",
        "\n",
        "# Compute the average time taken\n",
        "avg_time_2_trees = total_time_2_trees / num_queries\n",
        "avg_time_4_trees = total_time_4_trees / num_queries\n",
        "avg_time_8_trees = total_time_8_trees / num_queries"
      ],
      "id": "tKbxolMGxc0Q"
    },
    {
      "cell_type": "code",
      "execution_count": null,
      "metadata": {
        "colab": {
          "base_uri": "https://localhost:8080/",
          "height": 472
        },
        "id": "8S9OTcg_ytiW",
        "outputId": "82d71e7c-d292-4be9-def6-46228f3e3594"
      },
      "outputs": [
        {
          "data": {
            "image/png": "[encoded data removed]",
            "text/plain": [
              "<Figure size 640x480 with 1 Axes>"
            ]
          },
          "metadata": {},
          "output_type": "display_data"
        }
      ],
      "source": [
        "avg_query_times_kdtree = [avg_time_2_trees, avg_time_4_trees, avg_time_8_trees]\n",
        "labels_kdtree = ['2', '4', '8']\n",
        "\n",
        "plot_chart(avg_query_times_kdtree, labels_kdtree, \"average query times for N trees\", \"query time\", \"N trees\")"
      ],
      "id": "8S9OTcg_ytiW"
    },
    {
      "cell_type": "code",
      "execution_count": null,
      "metadata": {
        "colab": {
          "base_uri": "https://localhost:8080/",
          "height": 472
        },
        "id": "hqbJhcTx8u88",
        "outputId": "059db32f-e951-436a-806c-fd36fe515dce"
      },
      "outputs": [
        {
          "data": {
            "image/png": "[encoded data removed]",
            "text/plain": [
              "<Figure size 640x480 with 1 Axes>"
            ]
          },
          "metadata": {},
          "output_type": "display_data"
        }
      ],
      "source": [
        "plot_chart(train_time_kdtree, labels_kdtree, \"training times for N trees\", \"training time\", \"N trees\")"
      ],
      "id": "hqbJhcTx8u88"
    },
    {
      "cell_type": "markdown",
      "metadata": {
        "id": "52633ad1"
      },
      "source": [
        "### Locality Sensitive Hashing (LSH)\n",
        "In this section, you will use LSH to index the database of images. The LSH implementation included in OpenCV uses **bit sampling** for **Hamming distance** as a hash function and, therefore, binary descriptors must be used. Hence, SIFT descriptors are not valid and we need to describe the images, but using, for instance, ORB.\n",
        "\n",
        "In the following cell, write the code required to generate **roughly 1500 keypoints / descriptors** using ORB for each query / train image:\n",
        "\n",
        "> **Useful links**: [cv2.ORB_create](https://docs.opencv.org/4.5.4/db/d95/classcv_1_1ORB.html#aeff0cbe668659b7ca14bb85ff1c4073b)"
      ],
      "id": "52633ad1"
    },
    {
      "cell_type": "code",
      "execution_count": null,
      "metadata": {
        "id": "4b1223cb"
      },
      "outputs": [],
      "source": [
        "def generateAllDescriptorsAndKeypoints(query_images, train_images, no_keypoints=1500, no_descriptors=1500):\n",
        "    \"\"\"\n",
        "    In this section, you will use LSH to index the database of images. The LSH implementation \n",
        "    included in OpenCV uses bit sampling for Hamming distance as a hash function and, therefore, \n",
        "    binary descriptors must be used. Hence, SIFT descriptors are not valid and we need to describe the images\n",
        "    , but using, for instance, ORB.\n",
        "\n",
        "    Useful links: cv2.ORB_create\n",
        "\n",
        "    generate roughly 1500 keypoints / descriptors using ORB for each query / train image:\n",
        "    \n",
        "    - descs: A list of length len(img_names) where each element is a numpy array \n",
        "        of size (ndesc_for_this_image, 128). Each numpy array i corresponds \n",
        "        to the descriptors found on image i\n",
        "    - ntrees: Number of trees to train\n",
        "\n",
        "    RETURN: \n",
        "    - query_kps_orb: list of keypoints for query images\n",
        "    - query_desc_orb: list of descriptors for query images\n",
        "    - train_kps_orb: list of keypoints for train images\n",
        "    - train_desc_orb: list of descriptors for train images\n",
        "    \"\"\" \n",
        "    \n",
        "    orb = cv2.ORB_create(nfeatures=no_keypoints, nlevels=8, scoreType=cv2.ORB_FAST_SCORE)\n",
        "\n",
        "    # Initialize keypoint and descriptor lists for query and train images\n",
        "    query_kps_orb = []\n",
        "    query_desc_orb = []\n",
        "    train_kps_orb = []\n",
        "    train_desc_orb = []\n",
        "\n",
        "    # Generate keypoints and descriptors for query images\n",
        "    for query_image in query_images:\n",
        "      img = cv2.cvtColor(query_image, cv2.COLOR_BGR2GRAY)\n",
        "      kps, desc = orb.detectAndCompute(img, None)\n",
        "      query_kps_orb.append(kps)\n",
        "      query_desc_orb.append(desc)\n",
        "\n",
        "    # Generate keypoints and descriptors for train images\n",
        "    for train_image in train_images:\n",
        "      img = cv2.cvtColor(train_image, cv2.COLOR_BGR2GRAY)\n",
        "      kps, desc = orb.detectAndCompute(img, None)\n",
        "      train_kps_orb.append(kps)\n",
        "      train_desc_orb.append(desc)\n",
        "\n",
        "    return query_kps_orb, query_desc_orb, train_kps_orb, train_desc_orb"
      ],
      "id": "4b1223cb"
    },
    {
      "cell_type": "code",
      "execution_count": null,
      "metadata": {
        "id": "gqxorAYXx468"
      },
      "outputs": [],
      "source": [
        "[query_kps_orb, query_desc_orb, train_kps_orb, train_desc_orb] = generateAllDescriptorsAndKeypoints(query_imgs, train_imgs)"
      ],
      "id": "gqxorAYXx468"
    },
    {
      "cell_type": "code",
      "execution_count": null,
      "metadata": {
        "colab": {
          "base_uri": "https://localhost:8080/"
        },
        "id": "03aa9edf",
        "outputId": "5d449cdd-22a5-4759-f5e6-1bd43e2f487d"
      },
      "outputs": [
        {
          "name": "stdout",
          "output_type": "stream",
          "text": [
            "1563\n",
            "(1563, 32)\n",
            "[[ 45  45  17 ... 251  82 160]\n",
            " [ 13 220 255 ... 146  84 171]\n",
            " [203   4 103 ... 244 112 116]\n",
            " ...\n",
            " [211  13 119 ... 160 165 116]\n",
            " [224  98 157 ... 240 138  11]\n",
            " [162  43 172 ...  93  90 207]]\n"
          ]
        }
      ],
      "source": [
        "# Show some data\n",
        "print(len(query_kps_orb[0]))\n",
        "print(query_desc_orb[0].shape)\n",
        "print(query_desc_orb[0])"
      ],
      "id": "03aa9edf"
    },
    {
      "cell_type": "markdown",
      "metadata": {
        "id": "b3362cc8"
      },
      "source": [
        "\n",
        "Next, write a function called `build_db_lsh` to build a **standard** (*no multi-probe*) LSH index from a set of images:"
      ],
      "id": "b3362cc8"
    },
    {
      "cell_type": "code",
      "execution_count": null,
      "metadata": {
        "id": "7f4e0e3e"
      },
      "outputs": [],
      "source": [
        "def build_db_lsh(descs, tables = 6, hash_size = 12):\n",
        "    \"\"\"\n",
        "    build a standard (no multi-probe) LSH index from a set of images\n",
        "    Index a set of images using LSH.    \n",
        "    \n",
        "    - descs: A list containing numpy arrays of size (~1500, 32). Each numpy array\n",
        "        i corresponds to the ORB descriptors found at image i.\n",
        "    - tables: Number of hash tables to create.\n",
        "    - hash_size: Hash length in bits.\n",
        "  \n",
        "    RETURN: \n",
        "    - index: The trained LSH index.\n",
        "    \"\"\" \n",
        "\n",
        "    FLANN_INDEX_LSH = 6\n",
        "\n",
        "    index_params= dict(algorithm = FLANN_INDEX_LSH,\n",
        "                      table_number = tables,\n",
        "                      key_size = hash_size,    \n",
        "                      multi_probe_level = 0)\n",
        "    search_params = dict(checks=50) \n",
        "\n",
        "    flann = cv2.FlannBasedMatcher(index_params,search_params)\n",
        "\n",
        "    flann.add(descs)\n",
        "    flann.train()\n",
        "\n",
        "    return flann"
      ],
      "id": "7f4e0e3e"
    },
    {
      "cell_type": "code",
      "execution_count": null,
      "metadata": {
        "colab": {
          "base_uri": "https://localhost:8080/"
        },
        "id": "jy0znJh8269l",
        "outputId": "20b94c07-04a5-4e45-f2b8-cee97efbae80"
      },
      "outputs": [
        {
          "name": "stdout",
          "output_type": "stream",
          "text": [
            "[[ 89  27 223 ... 224  33 113]\n",
            " [146 161 107 ... 130 171 169]\n",
            " [ 39  63 252 ... 223  71 245]\n",
            " ...\n",
            " [  3 141  39 ...   2 177 213]\n",
            " [ 41 203  17 ... 142 208 137]\n",
            " [116 106 233 ... 251  86 100]]\n"
          ]
        }
      ],
      "source": [
        "print(train_desc_orb[0])"
      ],
      "id": "jy0znJh8269l"
    },
    {
      "cell_type": "code",
      "execution_count": null,
      "metadata": {
        "colab": {
          "base_uri": "https://localhost:8080/"
        },
        "id": "80ccfabe",
        "outputId": "b7d9b33f-6e22-4391-b3d3-5c8676e3d72f"
      },
      "outputs": [
        {
          "name": "stdout",
          "output_type": "stream",
          "text": [
            "2\n"
          ]
        }
      ],
      "source": [
        "# Simple example of DB construction\n",
        "index = build_db_lsh(train_desc_orb[0:2])\n",
        "print(len(index.getTrainDescriptors()))"
      ],
      "id": "80ccfabe"
    },
    {
      "cell_type": "markdown",
      "metadata": {
        "id": "e544ed8d"
      },
      "source": [
        "**Q4**: In the following cell compute the resulting **mAP** of the system **using 6 tables and a hash size of 12**: (the default values)"
      ],
      "id": "e544ed8d"
    },
    {
      "cell_type": "code",
      "execution_count": null,
      "metadata": {
        "id": "KpNKFDEc-rFg"
      },
      "outputs": [],
      "source": [
        "# Fill this variable with the resulting mAP\n",
        "mAP_lsh = 0.0\n",
        "index = build_db_lsh(train_desc_orb)\n",
        "img_res = search_image(query_desc_orb[0], index, train_names)"
      ],
      "id": "KpNKFDEc-rFg"
    },
    {
      "cell_type": "code",
      "execution_count": null,
      "metadata": {
        "colab": {
          "background_save": true
        },
        "id": "VF2HUPsSkbLA"
      },
      "outputs": [],
      "source": [
        "results, mAP_lsh = compute_mAP(query_names, query_desc_orb, index, train_names, '../holidays_mini/holidays_images.dat')"
      ],
      "id": "VF2HUPsSkbLA"
    },
    {
      "cell_type": "code",
      "execution_count": null,
      "metadata": {
        "colab": {
          "base_uri": "https://localhost:8080/"
        },
        "id": "mbu5c71CCP1A",
        "outputId": "43adf1d3-05e2-4764-bdea-cfc02d74a3a7"
      },
      "outputs": [
        {
          "name": "stdout",
          "output_type": "stream",
          "text": [
            "results found:  {'100000.jpg': ['100001.jpg', '100002.jpg', '100101.jpg', '100201.jpg', '100301.jpg'], '100100.jpg': ['100001.jpg', '100002.jpg', '100101.jpg', '100201.jpg', '100301.jpg'], '100200.jpg': ['100001.jpg', '100002.jpg', '100101.jpg', '100201.jpg', '100301.jpg'], '100300.jpg': ['100001.jpg', '100002.jpg', '100101.jpg', '100201.jpg', '100301.jpg'], '100400.jpg': ['100001.jpg', '100002.jpg', '100101.jpg', '100201.jpg', '100301.jpg'], '100500.jpg': ['100001.jpg', '100002.jpg', '100101.jpg', '100201.jpg', '100301.jpg'], '100600.jpg': ['100001.jpg', '100002.jpg', '100101.jpg', '100201.jpg', '100301.jpg'], '100700.jpg': ['100001.jpg', '100002.jpg', '100101.jpg', '100201.jpg', '100301.jpg'], '100800.jpg': ['100001.jpg', '100002.jpg', '100101.jpg', '100201.jpg', '100301.jpg'], '100900.jpg': ['100001.jpg', '100002.jpg', '100101.jpg', '100201.jpg', '100301.jpg'], '101000.jpg': ['100001.jpg', '100002.jpg', '100101.jpg', '100201.jpg', '100301.jpg'], '101100.jpg': ['100001.jpg', '100002.jpg', '100101.jpg', '100201.jpg', '100301.jpg'], '101200.jpg': ['100001.jpg', '100002.jpg', '100101.jpg', '100201.jpg', '100301.jpg'], '101300.jpg': ['100002.jpg', '100101.jpg', '100201.jpg', '100301.jpg'], '101400.jpg': ['100002.jpg', '100101.jpg', '100201.jpg', '100301.jpg'], '101500.jpg': ['100001.jpg', '100002.jpg', '100101.jpg', '100201.jpg', '100301.jpg'], '101600.jpg': ['100001.jpg', '100002.jpg', '100101.jpg', '100201.jpg', '100301.jpg'], '101700.jpg': ['100001.jpg', '100002.jpg', '100101.jpg', '100201.jpg', '100301.jpg'], '101800.jpg': ['100001.jpg', '100002.jpg', '100101.jpg', '100201.jpg', '100301.jpg']}\n",
            "ground truth:  {'100000.jpg': ['100001.jpg', '100002.jpg'], '100100.jpg': ['100101.jpg'], '100200.jpg': ['100201.jpg'], '100300.jpg': ['100301.jpg', '100302.jpg'], '100400.jpg': ['100401.jpg'], '100500.jpg': ['100501.jpg', '100502.jpg', '100503.jpg'], '100600.jpg': ['100601.jpg'], '100700.jpg': ['100701.jpg'], '100800.jpg': ['100801.jpg'], '100900.jpg': ['100901.jpg', '100902.jpg'], '101000.jpg': ['101001.jpg'], '101100.jpg': ['101101.jpg'], '101200.jpg': ['101201.jpg'], '101300.jpg': ['101301.jpg'], '101400.jpg': ['101401.jpg', '101402.jpg', '101403.jpg', '101404.jpg'], '101500.jpg': ['101501.jpg', '101502.jpg', '101503.jpg', '101504.jpg'], '101600.jpg': ['101601.jpg'], '101700.jpg': ['101701.jpg', '101702.jpg'], '101800.jpg': ['101801.jpg']}\n"
          ]
        }
      ],
      "source": [
        "print(\"results found: \", results)\n",
        "print(\"ground truth: \", ground_truth)"
      ],
      "id": "mbu5c71CCP1A"
    },
    {
      "cell_type": "code",
      "execution_count": null,
      "metadata": {
        "colab": {
          "base_uri": "https://localhost:8080/"
        },
        "id": "c9716be7",
        "outputId": "f0f354e1-c92d-4d73-9af5-aafe285a92b8"
      },
      "outputs": [
        {
          "name": "stdout",
          "output_type": "stream",
          "text": [
            "mAP: 0.08860\n"
          ]
        }
      ],
      "source": [
        "print('mAP: %.5f' % mAP_lsh)"
      ],
      "id": "c9716be7"
    },
    {
      "cell_type": "markdown",
      "metadata": {
        "id": "1e599bd3"
      },
      "source": [
        "**Q5**: Are the results stable? Do you obtain always the same mAP? Why?"
      ],
      "id": "1e599bd3"
    },
    {
      "cell_type": "code",
      "execution_count": null,
      "metadata": {
        "id": "1ZEBoKQekGwE"
      },
      "outputs": [],
      "source": [
        "_, mAP_lsh_attempt1 = compute_mAP(query_names, query_desc_orb, index, train_names[0:5], '../holidays_mini/holidays_images.dat')\n",
        "\n",
        "_, mAP_lsh_attempt2 = compute_mAP(query_names, query_desc_orb, index, train_names[0:5], '../holidays_mini/holidays_images.dat')\n",
        "\n",
        "_, mAP_lsh_attempt3 = compute_mAP(query_names, query_desc_orb, index, train_names[0:5], '../holidays_mini/holidays_images.dat')"
      ],
      "id": "1ZEBoKQekGwE"
    },
    {
      "cell_type": "code",
      "execution_count": null,
      "metadata": {
        "colab": {
          "base_uri": "https://localhost:8080/",
          "height": 472
        },
        "id": "Su4OL_t9kNcL",
        "outputId": "0f99a85e-21ab-404d-c25f-df288dbaeb19"
      },
      "outputs": [
        {
          "data": {
            "image/png": "[encoded data removed]",
            "text/plain": [
              "<Figure size 640x480 with 1 Axes>"
            ]
          },
          "metadata": {},
          "output_type": "display_data"
        }
      ],
      "source": [
        "values = [mAP_lsh_attempt1, mAP_lsh_attempt2, mAP_lsh_attempt3]\n",
        "labels = [\"attempt1\", \"attempt2\", \"attempt3\"]\n",
        "plot_chart(values, labels, \"mAP for exact same queries\", \"mAP\", \"attempts\")"
      ],
      "id": "Su4OL_t9kNcL"
    },
    {
      "cell_type": "markdown",
      "metadata": {
        "id": "64381fca"
      },
      "source": [
        "**Q6**: Analyze the effect of changing the number of tables / hash size in terms of mAP and average response time. Some plots here can be useful to justify your answer."
      ],
      "id": "64381fca"
    },
    {
      "cell_type": "code",
      "execution_count": null,
      "metadata": {
        "id": "MbbXtvINEEuR"
      },
      "outputs": [],
      "source": [
        "index = build_db_lsh(train_desc_orb[0:5])\n",
        "img_res = search_image(query_desc_orb[0], index, train_names[0:5])"
      ],
      "id": "MbbXtvINEEuR"
    },
    {
      "cell_type": "code",
      "execution_count": null,
      "metadata": {
        "id": "6mYqHjQ_2J9c"
      },
      "outputs": [],
      "source": [
        "import time\n",
        "start_time = time.time()\n",
        "index_table3_hash6 = build_db_lsh(train_desc_orb[0:5], tables = 3, hash_size = 6)\n",
        "train_time_table3_hash6 = time.time() - start_time\n",
        "\n",
        "start_time = time.time()\n",
        "index_table6_hash12 = build_db_lsh(train_desc_orb[0:5])\n",
        "train_time_table6_hash12 = time.time() - start_time\n",
        "\n",
        "start_time = time.time()\n",
        "index_table12_hash24 = build_db_lsh(train_desc_orb[0:5], tables = 12, hash_size = 24)\n",
        "train_time_table12_hash24 = time.time() - start_time\n",
        "training_time_lsh = [train_time_table3_hash6, train_time_table6_hash12, train_time_table12_hash24]"
      ],
      "id": "6mYqHjQ_2J9c"
    },
    {
      "cell_type": "code",
      "execution_count": null,
      "metadata": {
        "id": "I_6TlDZ_UbWa"
      },
      "outputs": [],
      "source": [
        "_, mAP_lsh_table3_hash6 = compute_mAP(query_names, query_desc_orb, index_table3_hash6, train_names[0:5], '../holidays_mini/holidays_images.dat')\n",
        "_, mAP_lsh_table6_hash12 = compute_mAP(query_names, query_desc_orb, index_table6_hash12, train_names[0:5], '../holidays_mini/holidays_images.dat')\n",
        "_, mAP_lsh_table12_hash24 = compute_mAP(query_names, query_desc_orb, index_table12_hash24, train_names[0:5], '../holidays_mini/holidays_images.dat')"
      ],
      "id": "I_6TlDZ_UbWa"
    },
    {
      "cell_type": "code",
      "execution_count": null,
      "metadata": {
        "id": "A2AfkM014IHk"
      },
      "outputs": [],
      "source": [
        "total_time_table6_hash12 = 0\n",
        "total_time_table3_hash6 = 0\n",
        "total_time_table12_hash24 = 0\n",
        "# Define the number of queries to run\n",
        "num_queries = 5\n",
        "\n",
        "# Loop through the queries\n",
        "for i in range(num_queries):\n",
        "    # Time how long the search takes\n",
        "    start_time_table3_hash6 = time.time()\n",
        "    results_table3_hash6 = search_image(query_desc_orb[i], index_table3_hash6, train_names[0:5])\n",
        "    end_time_table3_hash6 = time.time()\n",
        "\n",
        "    start_time_table6_hash12 = time.time() \n",
        "    results_table6_hash12 = search_image(query_desc_orb[i], index_table6_hash12, train_names[0:5])\n",
        "    end_time_table6_hash12 = time.time()\n",
        "  \n",
        "    start_time_table12_hash24 = time.time()\n",
        "    results_table12_hash24 = search_image(query_desc_orb[i], index_table12_hash24, train_names[0:5])\n",
        "    end_time_table12_hash24 = time.time()\n",
        "\n",
        "    total_time_table3_hash6 += (end_time_table3_hash6 - start_time_table3_hash6)\n",
        "    total_time_table6_hash12 += (end_time_table6_hash12 - start_time_table6_hash12)\n",
        "    total_time_table12_hash24 += (end_time_table12_hash24 - start_time_table12_hash24)\n",
        "\n",
        "# Compute the average time taken\n",
        "avg_time_table3_hash6 = total_time_table3_hash6 / num_queries\n",
        "avg_time_table6_hash12 = total_time_table6_hash12 / num_queries\n",
        "avg_time_table12_hash24 = total_time_table12_hash24 / num_queries"
      ],
      "id": "A2AfkM014IHk"
    },
    {
      "cell_type": "code",
      "execution_count": null,
      "metadata": {
        "id": "kVLCJHKwKPwY"
      },
      "outputs": [],
      "source": [
        "labels_lsh = ['table3_hash6','table6_hash12','table12_hash24']\n",
        "avg_query_time_lsh = [avg_time_table3_hash6, avg_time_table6_hash12, avg_time_table12_hash24]"
      ],
      "id": "kVLCJHKwKPwY"
    },
    {
      "cell_type": "code",
      "execution_count": null,
      "metadata": {
        "id": "hZcRfBrwBVcX"
      },
      "outputs": [],
      "source": [
        "# Data for the bar chart\n",
        "mAP_scores_lsh = [mAP_lsh_table3_hash6, mAP_lsh_table6_hash12, mAP_lsh_table12_hash24]\n",
        "labels_lsh = ['table3_hash6','table6_hash12','table12_hash24']"
      ],
      "id": "hZcRfBrwBVcX"
    },
    {
      "cell_type": "markdown",
      "metadata": {
        "id": "i3oG_CVM9dhj"
      },
      "source": [
        "mAP"
      ],
      "id": "i3oG_CVM9dhj"
    },
    {
      "cell_type": "code",
      "execution_count": null,
      "metadata": {
        "colab": {
          "base_uri": "https://localhost:8080/",
          "height": 472
        },
        "id": "lFvgzrSKofAZ",
        "outputId": "8b716549-9b59-4a65-86e3-e02e791f9408"
      },
      "outputs": [
        {
          "data": {
            "image/png": "[encoded data removed]",
            "text/plain": [
              "<Figure size 640x480 with 1 Axes>"
            ]
          },
          "metadata": {},
          "output_type": "display_data"
        }
      ],
      "source": [
        "plot_chart(mAP_scores_lsh, labels_lsh, \"mAP for diff table and hashes\", \"mAP\", \"different tables and hashes\")"
      ],
      "id": "lFvgzrSKofAZ"
    },
    {
      "cell_type": "markdown",
      "metadata": {
        "id": "yffUMRA39gKO"
      },
      "source": [
        "Training times"
      ],
      "id": "yffUMRA39gKO"
    },
    {
      "cell_type": "code",
      "execution_count": null,
      "metadata": {
        "colab": {
          "base_uri": "https://localhost:8080/",
          "height": 472
        },
        "id": "asuJOddhod16",
        "outputId": "c11c4845-2de5-43c7-b651-a1df78ca7174"
      },
      "outputs": [
        {
          "data": {
            "image/png": "[encoded data removed]",
            "text/plain": [
              "<Figure size 640x480 with 1 Axes>"
            ]
          },
          "metadata": {},
          "output_type": "display_data"
        }
      ],
      "source": [
        "plot_chart(training_time_lsh, labels_lsh, \"Training time for diff table and hashes for lsh\", \"different tables and hashes\", \"training time\")"
      ],
      "id": "asuJOddhod16"
    },
    {
      "cell_type": "code",
      "execution_count": null,
      "metadata": {
        "colab": {
          "base_uri": "https://localhost:8080/",
          "height": 472
        },
        "id": "ko1SD76c6n52",
        "outputId": "d8fb8bf7-c86a-4210-a6f2-9ba0d6a09fb5"
      },
      "outputs": [
        {
          "data": {
            "image/png": "[encoded data removed]",
            "text/plain": [
              "<Figure size 640x480 with 1 Axes>"
            ]
          },
          "metadata": {},
          "output_type": "display_data"
        }
      ],
      "source": [
        "plot_chart(avg_query_time_lsh, labels_lsh, \"Query times for diff table and hashes for lsh\", \"different tables and hashes\", \"avg query time\")"
      ],
      "id": "ko1SD76c6n52"
    },
    {
      "cell_type": "markdown",
      "metadata": {
        "id": "XQM295lLKrrr"
      },
      "source": [
        "When you have a smaller hash table and hash size, it means that the number of possible hash values is limited, which can cause collisions. Collisions occur when two or more items are mapped to the same hash value. When there are many collisions, it can take longer to retrieve the desired data item, because the algorithm has to search through multiple items that share the same hash value. This can cause a lot of false positives, which are items that are incorrectly identified as being similar to the query item.\n",
        "\n",
        "On the other hand, when you have a larger hash table and hash size, the number of possible hash values increases, reducing the likelihood of collisions. This means that the algorithm can quickly retrieve the desired data item, without having to search through multiple items that share the same hash value. This results in fewer false positives and faster query times."
      ],
      "id": "XQM295lLKrrr"
    },
    {
      "cell_type": "markdown",
      "metadata": {
        "id": "74726440"
      },
      "source": [
        "**Q7:** Despite the different descriptors used, compare the performance of the randomized k-d trees and LSH approaches from different points of view (accuracy, training times, querying times, ...). Some plots can be useful here to justify your answer."
      ],
      "id": "74726440"
    },
    {
      "cell_type": "markdown",
      "metadata": {
        "id": "KddW1Zk-m4KW"
      },
      "source": [
        "Comparison via mAP"
      ],
      "id": "KddW1Zk-m4KW"
    },
    {
      "cell_type": "code",
      "execution_count": null,
      "metadata": {
        "id": "LHOTy98IKyxr"
      },
      "outputs": [],
      "source": [
        "x_labels = ['KD-tree 2', 'KD-tree 4', 'KD-tree 8', 'LSH table 3 hash 6', 'LSH table 6 hash 12', 'LSH table 12 hash 24']"
      ],
      "id": "LHOTy98IKyxr"
    },
    {
      "cell_type": "code",
      "execution_count": null,
      "metadata": {
        "colab": {
          "base_uri": "https://localhost:8080/",
          "height": 623
        },
        "id": "elSOEj-MhzhW",
        "outputId": "40dfbd23-fc0b-4787-892a-cd5d17917158"
      },
      "outputs": [
        {
          "data": {
            "text/plain": [
              "<matplotlib.legend.Legend at 0x7fa172238190>"
            ]
          },
          "execution_count": 72,
          "metadata": {},
          "output_type": "execute_result"
        },
        {
          "data": {
            "image/png": "[encoded data removed]",
            "text/plain": [
              "<Figure size 640x480 with 1 Axes>"
            ]
          },
          "metadata": {},
          "output_type": "display_data"
        }
      ],
      "source": [
        "# Define mAP scores for KD-tree and LSH\n",
        "mAP_scores_kdtree = [mAP_kdtree2, mAP_kdtree4, mAP_kdtree8]\n",
        "mAP_scores_hash = [mAP_lsh_table3_hash6, mAP_lsh_table6_hash12, mAP_lsh_table12_hash24]\n",
        "\n",
        "# Create a bar chart with both sets of mAP scores\n",
        "fig, ax = plt.subplots()\n",
        "plt.xticks(rotation=90)\n",
        "ax.bar(x_labels[:3], mAP_scores_kdtree, label='KD-tree')\n",
        "ax.bar(x_labels[3:], mAP_scores_hash, label='LSH')\n",
        "\n",
        "# Set the chart title, axis labels, and legend\n",
        "ax.set_title('mAP Scores for KD-tree and LSH')\n",
        "ax.set_xlabel('Indexing Algorithm')\n",
        "ax.set_ylabel('mAP Score')\n",
        "ax.legend()"
      ],
      "id": "elSOEj-MhzhW"
    },
    {
      "cell_type": "markdown",
      "metadata": {
        "id": "ipDs-G2im7Vd"
      },
      "source": [
        "Comparison via Train times"
      ],
      "id": "ipDs-G2im7Vd"
    },
    {
      "cell_type": "code",
      "execution_count": null,
      "metadata": {
        "colab": {
          "base_uri": "https://localhost:8080/",
          "height": 623
        },
        "id": "uuCDE05F_eKT",
        "outputId": "c16aac2d-c8ad-4b8d-c0a9-54d82808890a"
      },
      "outputs": [
        {
          "data": {
            "text/plain": [
              "<matplotlib.legend.Legend at 0x7f65e2adcdc0>"
            ]
          },
          "execution_count": 49,
          "metadata": {},
          "output_type": "execute_result"
        },
        {
          "data": {
            "image/png": "[encoded data removed]",
            "text/plain": [
              "<Figure size 640x480 with 1 Axes>"
            ]
          },
          "metadata": {},
          "output_type": "display_data"
        }
      ],
      "source": [
        "# Create a bar chart with both sets of mAP scores\n",
        "fig, ax = plt.subplots()\n",
        "plt.xticks(rotation=90)\n",
        "ax.bar(x_labels[:3], train_time_kdtree, label='KD-tree')\n",
        "ax.bar(x_labels[3:], training_time_lsh, label='LSH')\n",
        "\n",
        "# Set the chart title, axis labels, and legend\n",
        "ax.set_title('Training time for KD-tree and LSH')\n",
        "ax.set_xlabel('Indexing Algorithm')\n",
        "ax.set_ylabel('Training time')\n",
        "ax.legend()"
      ],
      "id": "uuCDE05F_eKT"
    },
    {
      "cell_type": "markdown",
      "metadata": {
        "id": "Zeh72IZ7__Ia"
      },
      "source": [
        "Comparison via Query times"
      ],
      "id": "Zeh72IZ7__Ia"
    },
    {
      "cell_type": "code",
      "execution_count": null,
      "metadata": {
        "colab": {
          "base_uri": "https://localhost:8080/",
          "height": 623
        },
        "id": "IMFTr-pYADIv",
        "outputId": "677e651b-38ef-4471-ac70-2df24726d97e"
      },
      "outputs": [
        {
          "data": {
            "text/plain": [
              "<matplotlib.legend.Legend at 0x7f65e29f3b80>"
            ]
          },
          "execution_count": 54,
          "metadata": {},
          "output_type": "execute_result"
        },
        {
          "data": {
            "image/png": "[encoded data removed]",
            "text/plain": [
              "<Figure size 640x480 with 1 Axes>"
            ]
          },
          "metadata": {},
          "output_type": "display_data"
        }
      ],
      "source": [
        "# Create a bar chart with both sets of mAP scores\n",
        "fig, ax = plt.subplots()\n",
        "plt.xticks(rotation=90)\n",
        "ax.bar(x_labels[:3], avg_query_times_kdtree, label='KD-tree')\n",
        "ax.bar(x_labels[3:], avg_query_time_lsh, label='LSH')\n",
        "\n",
        "# Set the chart title, axis labels, and legend\n",
        "ax.set_title('Average query times for KD-tree and LSH')\n",
        "ax.set_xlabel('Indexing Algorithm')\n",
        "ax.set_ylabel('Average query time')\n",
        "ax.legend()"
      ],
      "id": "IMFTr-pYADIv"
    },
    {
      "cell_type": "markdown",
      "metadata": {
        "id": "d5d89bb5"
      },
      "source": [
        "## Bag-of-Words\n",
        "In this section, you will implement the Bag-of-Words (BoW) model for image retrieval. Additionally, you will also implement the TF-IDF scoring scheme."
      ],
      "id": "d5d89bb5"
    },
    {
      "cell_type": "markdown",
      "metadata": {
        "id": "9b174ede"
      },
      "source": [
        "### Download visual dictionaries\n",
        "To use a BoW model, first we need a visual vocabulary. The authors of the INRIA Holidays dataset provide some visual vocabularies, trained using a clustering method (e.g. $k$-means) in a different dataset (Flickr60K).\n",
        "\n",
        "First, download these vocabularies from [here](https://uibes-my.sharepoint.com/:u:/g/personal/egf350_id_uib_es/EY1G011OvfJOnwqWQQzmHmgBkXhLHBaK00wdizsUT252dw).\n",
        "\n",
        "> **Unzip this file into the root directory of the development kit, at the same level of the datasets.**\n",
        "\n",
        "A folder named `clust` is now available in your workspace, containing visual vocabularies of 100, 200, 500, 1K, 2K, 5K, 10K, 20K, 50K, 100K and 200K visual words. Again, these are binary files, and therefore we provide you with functions to load and index them:"
      ],
      "id": "9b174ede"
    },
    {
      "cell_type": "code",
      "execution_count": null,
      "metadata": {
        "colab": {
          "base_uri": "https://localhost:8080/"
        },
        "id": "DX5pyGbzyfbA",
        "outputId": "bce1de44-4326-4666-b228-dce0aca85be4"
      },
      "outputs": [
        {
          "name": "stdout",
          "output_type": "stream",
          "text": [
            "/content/drive/MyDrive/ImageIndexing\n"
          ]
        }
      ],
      "source": [
        "%cd '../'"
      ],
      "id": "DX5pyGbzyfbA"
    },
    {
      "cell_type": "code",
      "execution_count": null,
      "metadata": {
        "id": "Jk5-GMysUqZO"
      },
      "outputs": [],
      "source": [
        "unzip_tarfile(\"clust.tar.gz\")"
      ],
      "id": "Jk5-GMysUqZO"
    },
    {
      "cell_type": "code",
      "execution_count": null,
      "metadata": {
        "id": "e26fefdc"
      },
      "outputs": [],
      "source": [
        "voc = rd.load_visual_vocab(\"clust/clust_flickr60_k200.fvecs\", ntrees=4)"
      ],
      "id": "e26fefdc"
    },
    {
      "cell_type": "markdown",
      "metadata": {
        "id": "97d05851"
      },
      "source": [
        "With this function, the corresponding vocabulary is read. Additionally, a FLANN index structure based on kd-trees is built and returned using the centroids. This is to allow a fast access when searching for the closest visual words in the vocabulary. More precisely, in this example, 4 trees are constructed using the vocabulary of 200 centroids. Now, given a query descriptor(s), you can use `match` or `knnMatch` methods as usual to search for the closest (approximate) visual word(s) in the vocabulary."
      ],
      "id": "97d05851"
    },
    {
      "cell_type": "markdown",
      "metadata": {
        "id": "95ccb141"
      },
      "source": [
        "### BoW and Inverted File\n",
        "Now, write a class called `BoW` to manage the indexing procedure. This class should make use, in addition to the visual vocabulary, an inverted file to compute similarity scores between images. Apart from the class constructor, write three methods: `build_db`, `search_image` and `compute_mAP`:"
      ],
      "id": "95ccb141"
    },
    {
      "cell_type": "code",
      "execution_count": null,
      "metadata": {
        "id": "802ae103"
      },
      "outputs": [],
      "source": [
        "class BoW:\n",
        "    \"\"\"\n",
        "    Class to implement the BoW model + Inverted File.\n",
        "    \"\"\"\n",
        "  \n",
        "    def __init__(self, vocab_file):\n",
        "        \"\"\"\n",
        "        Class constructor. It loads the vocabulary and initializes other stuff\n",
        "        required for the CBIR system, such as the inverted file structure.\n",
        "        \"\"\"\n",
        "        self.vocab = rd.load_visual_vocab(vocab_file)\n",
        "        self.nwords = self.vocab.getTrainDescriptors()[0].shape[0]\n",
        "        self.train_names = []\n",
        "        self.inv_list = {word_id: {} for word_id in range(self.nwords)}\n",
        "\n",
        "    def build_db(self, img_names, img_descs):\n",
        "        \"\"\"\n",
        "        Build an index from a set of images. Essentially, for each image, you should\n",
        "        search its descriptors in the index in order to find the closest visual words\n",
        "        and fill the inverted file structure consequently.\n",
        "    \n",
        "        - img_names: An ordered list with the names of the train images\n",
        "        - img_descs: A list containing numpy arrays. Each numpy array i corresponds \n",
        "          to the descriptors found at image i\n",
        "        \"\"\"\n",
        "        for i in range(len(img_names)):\n",
        "            img_desc = img_descs[i]\n",
        "            visual_words = self.vocab.knnMatch(img_desc, k=1)\n",
        "            bow_hist = np.zeros(self.nwords)\n",
        "\n",
        "            for vw in visual_words:\n",
        "                word_id = vw[0].trainIdx\n",
        "                bow_hist[word_id] += 1\n",
        "\n",
        "            for word_id, word_count in enumerate(bow_hist):\n",
        "                if word_count > 0:\n",
        "                    self.inv_list[word_id][img_names[i]] = word_count\n",
        "\n",
        "    def search_image(self, descs):\n",
        "        \"\"\"\n",
        "        Search an image in the index.\n",
        "      \n",
        "        - descs: A numpy array. It is the set descriptors extracted from the query image.\n",
        "    \n",
        "        RETURN:\n",
        "        - An ordered list of similar images, e.g.: ['100101.jpg', '100202.jpg', ...]\n",
        "        \"\"\"\n",
        "\n",
        "        visual_words = self.vocab.knnMatch(descs, k=1)\n",
        "        bow_hist = np.zeros(self.nwords)\n",
        "\n",
        "        for vw in visual_words:\n",
        "            word_id = vw[0].trainIdx\n",
        "            bow_hist[word_id] += 1\n",
        "\n",
        "        scores = {}\n",
        "        for word_id, word_count in enumerate(bow_hist):\n",
        "            if word_count == 0:\n",
        "                continue\n",
        "            for image_id, inv_count in self.inv_list[word_id].items():\n",
        "                if image_id not in scores:\n",
        "                    scores[image_id] = 0\n",
        "                scores[image_id] += word_count * inv_count\n",
        "\n",
        "        sorted_images = sorted(scores, key=scores.get, reverse=True)\n",
        "        return sorted_images\n",
        "      \n",
        "    def compute_mAP(self, query_names, query_descs, gt_file):\n",
        "        \"\"\"\n",
        "        Perform a search for a list of query images against the database and evaluates\n",
        "        the performance of the system.\n",
        "        \n",
        "        - query_names: An ordered list with the names of query images\n",
        "        - query_descs: A list containing numpy arrays of size (ndesc_for_this_image, 128). \n",
        "              Each numpy array i corresponds to the descriptors found at image i.\n",
        "\n",
        "        RETURN:\n",
        "        - total_results: A dictionary containing, for each query image, an ordered list of the retrieved images.\n",
        "        - m_ap: Mean Average Precision averaged over all queries.\n",
        "        \"\"\"\n",
        "        total_results = {}\n",
        "        m_ap = 0.0\n",
        "          \n",
        "        for qname, qdesc in zip(query_names, query_desc):\n",
        "            # Search for similar images\n",
        "            results = self.search_image(qdesc)\n",
        "            total_results[qname] = results\n",
        "        \n",
        "        m_ap = ev.compute_mAP(total_results, gt_file)\n",
        "        return total_results, m_ap"
      ],
      "id": "802ae103"
    },
    {
      "cell_type": "code",
      "execution_count": null,
      "metadata": {
        "colab": {
          "base_uri": "https://localhost:8080/"
        },
        "id": "efd007f2",
        "outputId": "210a1b79-3769-4dd4-db31-7a5069108658"
      },
      "outputs": [
        {
          "name": "stdout",
          "output_type": "stream",
          "text": [
            "form inv_list:  {0: {}, 1: {}, 2: {}, 3: {}, 4: {}, 5: {}, 6: {}, 7: {}, 8: {}, 9: {}, 10: {}, 11: {}, 12: {}, 13: {}, 14: {}, 15: {}, 16: {}, 17: {}, 18: {}, 19: {}, 20: {}, 21: {}, 22: {}, 23: {}, 24: {}, 25: {}, 26: {}, 27: {}, 28: {}, 29: {}, 30: {}, 31: {}, 32: {}, 33: {}, 34: {}, 35: {}, 36: {}, 37: {}, 38: {}, 39: {}, 40: {}, 41: {}, 42: {}, 43: {}, 44: {}, 45: {}, 46: {}, 47: {}, 48: {}, 49: {}, 50: {}, 51: {}, 52: {}, 53: {}, 54: {}, 55: {}, 56: {}, 57: {}, 58: {}, 59: {}, 60: {}, 61: {}, 62: {}, 63: {}, 64: {}, 65: {}, 66: {}, 67: {}, 68: {}, 69: {}, 70: {}, 71: {}, 72: {}, 73: {}, 74: {}, 75: {}, 76: {}, 77: {}, 78: {}, 79: {}, 80: {}, 81: {}, 82: {}, 83: {}, 84: {}, 85: {}, 86: {}, 87: {}, 88: {}, 89: {}, 90: {}, 91: {}, 92: {}, 93: {}, 94: {}, 95: {}, 96: {}, 97: {}, 98: {}, 99: {}, 100: {}, 101: {}, 102: {}, 103: {}, 104: {}, 105: {}, 106: {}, 107: {}, 108: {}, 109: {}, 110: {}, 111: {}, 112: {}, 113: {}, 114: {}, 115: {}, 116: {}, 117: {}, 118: {}, 119: {}, 120: {}, 121: {}, 122: {}, 123: {}, 124: {}, 125: {}, 126: {}, 127: {}, 128: {}, 129: {}, 130: {}, 131: {}, 132: {}, 133: {}, 134: {}, 135: {}, 136: {}, 137: {}, 138: {}, 139: {}, 140: {}, 141: {}, 142: {}, 143: {}, 144: {}, 145: {}, 146: {}, 147: {}, 148: {}, 149: {}, 150: {}, 151: {}, 152: {}, 153: {}, 154: {}, 155: {}, 156: {}, 157: {}, 158: {}, 159: {}, 160: {}, 161: {}, 162: {}, 163: {}, 164: {}, 165: {}, 166: {}, 167: {}, 168: {}, 169: {}, 170: {}, 171: {}, 172: {}, 173: {}, 174: {}, 175: {}, 176: {}, 177: {}, 178: {}, 179: {}, 180: {}, 181: {}, 182: {}, 183: {}, 184: {}, 185: {}, 186: {}, 187: {}, 188: {}, 189: {}, 190: {}, 191: {}, 192: {}, 193: {}, 194: {}, 195: {}, 196: {}, 197: {}, 198: {}, 199: {}}\n",
            "['100301.jpg', '100302.jpg', '100501.jpg', '100503.jpg', '100401.jpg', '100001.jpg', '100502.jpg', '100201.jpg', '100801.jpg', '100701.jpg', '100002.jpg', '100101.jpg', '100601.jpg', '100901.jpg']\n"
          ]
        }
      ],
      "source": [
        "# Example of use\n",
        "index = BoW('clust/clust_flickr60_k200.fvecs')\n",
        "index.build_db(train_names[0:14], train_desc[0:14])\n",
        "res = index.search_image(query_desc[5])\n",
        "print(res)"
      ],
      "id": "efd007f2"
    },
    {
      "cell_type": "code",
      "execution_count": null,
      "metadata": {
        "colab": {
          "base_uri": "https://localhost:8080/"
        },
        "id": "Sv0COF5IJr08",
        "outputId": "610a8d57-e3c7-4be7-da02-428526afd4e1"
      },
      "outputs": [
        {
          "name": "stdout",
          "output_type": "stream",
          "text": [
            "self.inv_list:  {0: {'100001.jpg': 0.001, '100101.jpg': 0.002, '100201.jpg': 0.004, '100501.jpg': 0.001, '100503.jpg': 0.001, '100601.jpg': 0.001, '100801.jpg': 0.002, '100901.jpg': 0.003}, 1: {'100101.jpg': 0.008, '100201.jpg': 0.005, '100401.jpg': 0.001, '100502.jpg': 0.002, '100503.jpg': 0.002, '100601.jpg': 0.022, '100801.jpg': 0.001, '100901.jpg': 0.006}, 2: {'100001.jpg': 0.004, '100101.jpg': 0.011, '100201.jpg': 0.013, '100301.jpg': 0.002, '100302.jpg': 0.001, '100501.jpg': 0.002, '100502.jpg': 0.003, '100503.jpg': 0.006, '100801.jpg': 0.014, '100901.jpg': 0.058}, 3: {'100001.jpg': 0.004, '100101.jpg': 0.003, '100201.jpg': 0.006, '100301.jpg': 0.011, '100302.jpg': 0.009, '100401.jpg': 0.007, '100501.jpg': 0.009, '100502.jpg': 0.002, '100503.jpg': 0.009, '100601.jpg': 0.001, '100801.jpg': 0.008}, 4: {'100001.jpg': 0.01, '100101.jpg': 0.014, '100201.jpg': 0.007, '100301.jpg': 0.001, '100302.jpg': 0.002, '100401.jpg': 0.001, '100501.jpg': 0.004, '100502.jpg': 0.003, '100503.jpg': 0.001, '100601.jpg': 0.016, '100701.jpg': 0.003, '100801.jpg': 0.003, '100901.jpg': 0.004}, 5: {'100001.jpg': 0.001, '100101.jpg': 0.001, '100201.jpg': 0.009, '100503.jpg': 0.001, '100601.jpg': 0.009, '100801.jpg': 0.002, '100901.jpg': 0.002}, 6: {'100101.jpg': 0.002, '100601.jpg': 0.001, '100801.jpg': 0.003, '100901.jpg': 0.045}, 7: {'100001.jpg': 0.009, '100101.jpg': 0.008, '100201.jpg': 0.007, '100301.jpg': 0.002, '100302.jpg': 0.001, '100401.jpg': 0.004, '100501.jpg': 0.006, '100502.jpg': 0.008, '100503.jpg': 0.003, '100601.jpg': 0.012, '100701.jpg': 0.019, '100801.jpg': 0.004, '100901.jpg': 0.002}, 8: {'100101.jpg': 0.012, '100501.jpg': 0.002, '100601.jpg': 0.011, '100801.jpg': 0.001, '100901.jpg': 0.073}, 9: {'100001.jpg': 0.008, '100002.jpg': 0.009708737864077669, '100101.jpg': 0.009, '100201.jpg': 0.009, '100301.jpg': 0.001, '100302.jpg': 0.001, '100501.jpg': 0.007, '100502.jpg': 0.003, '100503.jpg': 0.003, '100801.jpg': 0.009, '100901.jpg': 0.042}, 10: {'100001.jpg': 0.005, '100101.jpg': 0.01, '100201.jpg': 0.009, '100301.jpg': 0.01, '100302.jpg': 0.006, '100401.jpg': 0.01, '100501.jpg': 0.019, '100502.jpg': 0.016, '100503.jpg': 0.03, '100601.jpg': 0.002, '100701.jpg': 0.007, '100801.jpg': 0.012, '100901.jpg': 0.004}, 11: {'100001.jpg': 0.01, '100101.jpg': 0.002, '100201.jpg': 0.004, '100301.jpg': 0.014, '100302.jpg': 0.013, '100401.jpg': 0.01, '100501.jpg': 0.008, '100502.jpg': 0.006, '100503.jpg': 0.007, '100601.jpg': 0.002, '100701.jpg': 0.001, '100801.jpg': 0.006, '100901.jpg': 0.001}, 12: {'100001.jpg': 0.003, '100101.jpg': 0.003, '100201.jpg': 0.002, '100301.jpg': 0.003, '100302.jpg': 0.005, '100401.jpg': 0.012, '100501.jpg': 0.007, '100502.jpg': 0.007, '100503.jpg': 0.01, '100601.jpg': 0.005, '100701.jpg': 0.002, '100801.jpg': 0.001}, 13: {'100001.jpg': 0.007, '100101.jpg': 0.006, '100201.jpg': 0.004, '100301.jpg': 0.003, '100302.jpg': 0.004, '100401.jpg': 0.004, '100501.jpg': 0.001, '100502.jpg': 0.004, '100503.jpg': 0.003, '100601.jpg': 0.003, '100701.jpg': 0.001, '100801.jpg': 0.002}, 14: {'100001.jpg': 0.016, '100201.jpg': 0.006, '100301.jpg': 0.019, '100302.jpg': 0.017, '100401.jpg': 0.01, '100501.jpg': 0.002, '100502.jpg': 0.004, '100503.jpg': 0.012, '100601.jpg': 0.003, '100801.jpg': 0.004}, 15: {'100001.jpg': 0.004, '100101.jpg': 0.003, '100201.jpg': 0.005, '100301.jpg': 0.006, '100302.jpg': 0.01, '100401.jpg': 0.006, '100501.jpg': 0.007, '100503.jpg': 0.008, '100801.jpg': 0.015, '100901.jpg': 0.004}, 16: {'100001.jpg': 0.001, '100101.jpg': 0.01, '100201.jpg': 0.007, '100501.jpg': 0.003, '100601.jpg': 0.004, '100801.jpg': 0.002, '100901.jpg': 0.007}, 17: {'100001.jpg': 0.005, '100002.jpg': 0.009708737864077669, '100101.jpg': 0.008, '100201.jpg': 0.003, '100301.jpg': 0.002, '100302.jpg': 0.002, '100401.jpg': 0.003, '100501.jpg': 0.005, '100502.jpg': 0.001, '100503.jpg': 0.007, '100601.jpg': 0.001, '100801.jpg': 0.004, '100901.jpg': 0.004}, 18: {'100001.jpg': 0.003, '100101.jpg': 0.003, '100201.jpg': 0.003, '100301.jpg': 0.001, '100302.jpg': 0.001, '100401.jpg': 0.001, '100501.jpg': 0.005, '100502.jpg': 0.002, '100503.jpg': 0.004, '100701.jpg': 0.001, '100801.jpg': 0.005}, 19: {'100001.jpg': 0.011, '100002.jpg': 0.009708737864077669, '100201.jpg': 0.008, '100301.jpg': 0.017, '100302.jpg': 0.015, '100401.jpg': 0.008, '100501.jpg': 0.01, '100502.jpg': 0.001, '100503.jpg': 0.006, '100601.jpg': 0.001, '100701.jpg': 0.001, '100801.jpg': 0.007}, 20: {'100001.jpg': 0.001, '100101.jpg': 0.001, '100201.jpg': 0.001, '100301.jpg': 0.002, '100302.jpg': 0.001, '100401.jpg': 0.009, '100501.jpg': 0.007, '100502.jpg': 0.006, '100503.jpg': 0.001, '100601.jpg': 0.012, '100701.jpg': 0.009, '100801.jpg': 0.001, '100901.jpg': 0.003}, 21: {'100001.jpg': 0.01, '100101.jpg': 0.001, '100201.jpg': 0.004, '100301.jpg': 0.026, '100302.jpg': 0.009, '100401.jpg': 0.009, '100501.jpg': 0.002, '100502.jpg': 0.002, '100503.jpg': 0.015, '100601.jpg': 0.002, '100701.jpg': 0.001, '100801.jpg': 0.012}, 22: {'100001.jpg': 0.001, '100101.jpg': 0.003, '100201.jpg': 0.005, '100301.jpg': 0.003, '100302.jpg': 0.004, '100401.jpg': 0.002, '100501.jpg': 0.008, '100502.jpg': 0.004, '100503.jpg': 0.004, '100601.jpg': 0.004, '100701.jpg': 0.004, '100801.jpg': 0.001}, 23: {'100001.jpg': 0.001, '100501.jpg': 0.001, '100502.jpg': 0.001, '100601.jpg': 0.005}, 24: {'100001.jpg': 0.002, '100201.jpg': 0.003, '100301.jpg': 0.004, '100302.jpg': 0.008, '100401.jpg': 0.005, '100501.jpg': 0.006, '100502.jpg': 0.004, '100503.jpg': 0.004, '100601.jpg': 0.002, '100801.jpg': 0.001}, 25: {'100001.jpg': 0.003, '100201.jpg': 0.007, '100301.jpg': 0.006, '100302.jpg': 0.004, '100401.jpg': 0.013, '100501.jpg': 0.009, '100502.jpg': 0.011, '100503.jpg': 0.006, '100601.jpg': 0.006, '100801.jpg': 0.001}, 26: {'100001.jpg': 0.001, '100101.jpg': 0.001, '100201.jpg': 0.006, '100301.jpg': 0.007, '100302.jpg': 0.003, '100401.jpg': 0.001, '100501.jpg': 0.005, '100502.jpg': 0.004, '100503.jpg': 0.005, '100801.jpg': 0.004}, 27: {'100001.jpg': 0.008, '100002.jpg': 0.02912621359223301, '100101.jpg': 0.045, '100201.jpg': 0.004, '100301.jpg': 0.005, '100302.jpg': 0.006, '100401.jpg': 0.022, '100501.jpg': 0.01, '100502.jpg': 0.008, '100503.jpg': 0.008, '100601.jpg': 0.028, '100701.jpg': 0.099, '100801.jpg': 0.009}, 28: {'100001.jpg': 0.004, '100101.jpg': 0.013, '100201.jpg': 0.002, '100501.jpg': 0.007, '100502.jpg': 0.004, '100601.jpg': 0.027, '100701.jpg': 0.015, '100801.jpg': 0.001, '100901.jpg': 0.007}, 29: {'100001.jpg': 0.001, '100101.jpg': 0.002, '100201.jpg': 0.007, '100502.jpg': 0.001, '100503.jpg': 0.002, '100801.jpg': 0.006, '100901.jpg': 0.03}, 30: {'100001.jpg': 0.009, '100101.jpg': 0.005, '100201.jpg': 0.001, '100301.jpg': 0.003, '100302.jpg': 0.001, '100401.jpg': 0.006, '100501.jpg': 0.007, '100502.jpg': 0.013, '100503.jpg': 0.009, '100601.jpg': 0.004, '100701.jpg': 0.011, '100801.jpg': 0.004, '100901.jpg': 0.003}, 31: {'100001.jpg': 0.005, '100101.jpg': 0.002, '100201.jpg': 0.007, '100301.jpg': 0.003, '100302.jpg': 0.003, '100401.jpg': 0.003, '100502.jpg': 0.003, '100503.jpg': 0.003, '100601.jpg': 0.005, '100801.jpg': 0.005, '100901.jpg': 0.003}, 32: {'100001.jpg': 0.006, '100002.jpg': 0.009708737864077669, '100101.jpg': 0.001, '100201.jpg': 0.004, '100301.jpg': 0.012, '100302.jpg': 0.014, '100401.jpg': 0.009, '100501.jpg': 0.008, '100502.jpg': 0.006, '100503.jpg': 0.009, '100801.jpg': 0.008}, 33: {'100101.jpg': 0.004, '100201.jpg': 0.017, '100301.jpg': 0.001, '100302.jpg': 0.001, '100401.jpg': 0.001, '100501.jpg': 0.002, '100502.jpg': 0.004, '100503.jpg': 0.001, '100701.jpg': 0.001, '100801.jpg': 0.014, '100901.jpg': 0.025}, 34: {'100201.jpg': 0.002, '100401.jpg': 0.001, '100501.jpg': 0.001, '100503.jpg': 0.004, '100801.jpg': 0.006, '100901.jpg': 0.011}, 35: {'100001.jpg': 0.007, '100002.jpg': 0.009708737864077669, '100101.jpg': 0.048, '100201.jpg': 0.003, '100301.jpg': 0.002, '100302.jpg': 0.007, '100401.jpg': 0.019, '100501.jpg': 0.002, '100502.jpg': 0.007, '100503.jpg': 0.003, '100601.jpg': 0.038, '100701.jpg': 0.083, '100801.jpg': 0.014, '100901.jpg': 0.002}, 36: {'100001.jpg': 0.002, '100002.jpg': 0.019417475728155338, '100302.jpg': 0.001, '100401.jpg': 0.001, '100501.jpg': 0.004, '100502.jpg': 0.002, '100701.jpg': 0.002, '100801.jpg': 0.001}, 37: {'100001.jpg': 0.002, '100101.jpg': 0.004, '100201.jpg': 0.002, '100301.jpg': 0.001, '100302.jpg': 0.001, '100501.jpg': 0.004, '100502.jpg': 0.003, '100503.jpg': 0.001, '100601.jpg': 0.015, '100701.jpg': 0.003, '100801.jpg': 0.004}, 38: {'100001.jpg': 0.003, '100002.jpg': 0.009708737864077669, '100101.jpg': 0.001, '100201.jpg': 0.003, '100301.jpg': 0.002, '100302.jpg': 0.001, '100401.jpg': 0.001, '100501.jpg': 0.002, '100502.jpg': 0.005, '100503.jpg': 0.001, '100601.jpg': 0.002, '100701.jpg': 0.008, '100801.jpg': 0.002}, 39: {'100001.jpg': 0.005, '100101.jpg': 0.004, '100201.jpg': 0.002, '100301.jpg': 0.002, '100302.jpg': 0.002, '100501.jpg': 0.006, '100502.jpg': 0.006, '100503.jpg': 0.005, '100601.jpg': 0.003}, 40: {'100101.jpg': 0.001, '100501.jpg': 0.001, '100601.jpg': 0.004, '100801.jpg': 0.001}, 41: {'100101.jpg': 0.001, '100601.jpg': 0.006, '100701.jpg': 0.002, '100801.jpg': 0.001, '100901.jpg': 0.001}, 42: {'100001.jpg': 0.007, '100101.jpg': 0.001, '100201.jpg': 0.014, '100301.jpg': 0.003, '100302.jpg': 0.006, '100401.jpg': 0.008, '100501.jpg': 0.002, '100503.jpg': 0.005, '100601.jpg': 0.002, '100801.jpg': 0.008, '100901.jpg': 0.008}, 43: {'100101.jpg': 0.001, '100501.jpg': 0.002, '100502.jpg': 0.001, '100503.jpg': 0.001}, 44: {'100001.jpg': 0.002, '100301.jpg': 0.002, '100502.jpg': 0.003, '100701.jpg': 0.001, '100801.jpg': 0.003, '100901.jpg': 0.002}, 45: {'100001.jpg': 0.002, '100002.jpg': 0.009708737864077669, '100101.jpg': 0.005, '100201.jpg': 0.004, '100401.jpg': 0.002, '100502.jpg': 0.001, '100601.jpg': 0.002, '100801.jpg': 0.002}, 46: {'100001.jpg': 0.001, '100101.jpg': 0.002, '100501.jpg': 0.001, '100503.jpg': 0.003, '100601.jpg': 0.001, '100801.jpg': 0.008, '100901.jpg': 0.007}, 47: {'100001.jpg': 0.001, '100101.jpg': 0.002, '100201.jpg': 0.006, '100302.jpg': 0.002, '100501.jpg': 0.002, '100502.jpg': 0.001, '100503.jpg': 0.003, '100601.jpg': 0.002, '100801.jpg': 0.002, '100901.jpg': 0.003}, 48: {'100001.jpg': 0.008, '100101.jpg': 0.004, '100301.jpg': 0.004, '100302.jpg': 0.004, '100401.jpg': 0.003, '100501.jpg': 0.011, '100502.jpg': 0.01, '100503.jpg': 0.01, '100601.jpg': 0.01, '100701.jpg': 0.007, '100801.jpg': 0.002, '100901.jpg': 0.001}, 49: {'100001.jpg': 0.02, '100101.jpg': 0.008, '100201.jpg': 0.005, '100301.jpg': 0.028, '100302.jpg': 0.035, '100401.jpg': 0.014, '100501.jpg': 0.009, '100502.jpg': 0.004, '100503.jpg': 0.006, '100601.jpg': 0.002, '100801.jpg': 0.004}, 50: {'100001.jpg': 0.014, '100201.jpg': 0.007, '100301.jpg': 0.011, '100302.jpg': 0.01, '100401.jpg': 0.008, '100501.jpg': 0.011, '100502.jpg': 0.011, '100503.jpg': 0.009, '100601.jpg': 0.002, '100801.jpg': 0.002}, 51: {'100001.jpg': 0.006, '100101.jpg': 0.001, '100201.jpg': 0.001, '100301.jpg': 0.005, '100302.jpg': 0.006, '100401.jpg': 0.002, '100501.jpg': 0.002, '100502.jpg': 0.005, '100503.jpg': 0.005, '100601.jpg': 0.002, '100701.jpg': 0.001, '100801.jpg': 0.004}, 52: {'100001.jpg': 0.009, '100002.jpg': 0.019417475728155338, '100101.jpg': 0.011, '100201.jpg': 0.003, '100301.jpg': 0.003, '100302.jpg': 0.006, '100401.jpg': 0.01, '100501.jpg': 0.014, '100502.jpg': 0.016, '100503.jpg': 0.017, '100601.jpg': 0.002, '100701.jpg': 0.014, '100801.jpg': 0.001}, 53: {'100001.jpg': 0.017, '100101.jpg': 0.002, '100201.jpg': 0.006, '100301.jpg': 0.013, '100302.jpg': 0.017, '100401.jpg': 0.01, '100501.jpg': 0.002, '100502.jpg': 0.012, '100503.jpg': 0.01, '100601.jpg': 0.005, '100801.jpg': 0.002}, 54: {'100001.jpg': 0.004, '100002.jpg': 0.019417475728155338, '100101.jpg': 0.001, '100201.jpg': 0.003, '100401.jpg': 0.007, '100502.jpg': 0.004, '100503.jpg': 0.003, '100801.jpg': 0.002}, 55: {'100001.jpg': 0.003, '100002.jpg': 0.009708737864077669, '100101.jpg': 0.005, '100201.jpg': 0.01, '100301.jpg': 0.003, '100401.jpg': 0.005, '100503.jpg': 0.001, '100601.jpg': 0.004, '100701.jpg': 0.001, '100801.jpg': 0.001}, 56: {'100001.jpg': 0.001, '100101.jpg': 0.001, '100201.jpg': 0.009, '100501.jpg': 0.003, '100502.jpg': 0.002, '100503.jpg': 0.003, '100601.jpg': 0.004}, 57: {'100001.jpg': 0.03, '100101.jpg': 0.003, '100201.jpg': 0.018, '100301.jpg': 0.063, '100302.jpg': 0.066, '100401.jpg': 0.021, '100501.jpg': 0.02, '100502.jpg': 0.01, '100503.jpg': 0.018, '100601.jpg': 0.002, '100801.jpg': 0.011}, 58: {'100001.jpg': 0.01, '100101.jpg': 0.012, '100201.jpg': 0.005, '100301.jpg': 0.005, '100302.jpg': 0.002, '100401.jpg': 0.009, '100501.jpg': 0.002, '100502.jpg': 0.006, '100503.jpg': 0.007, '100601.jpg': 0.006, '100701.jpg': 0.023, '100801.jpg': 0.007}, 59: {'100001.jpg': 0.003, '100101.jpg': 0.007, '100301.jpg': 0.001, '100302.jpg': 0.001, '100401.jpg': 0.002, '100501.jpg': 0.008, '100502.jpg': 0.015, '100503.jpg': 0.006, '100601.jpg': 0.005, '100701.jpg': 0.014, '100801.jpg': 0.001, '100901.jpg': 0.002}, 60: {'100201.jpg': 0.003, '100501.jpg': 0.002, '100601.jpg': 0.001}, 61: {'100001.jpg': 0.006, '100002.jpg': 0.02912621359223301, '100101.jpg': 0.006, '100201.jpg': 0.002, '100301.jpg': 0.002, '100302.jpg': 0.004, '100502.jpg': 0.001, '100503.jpg': 0.004, '100601.jpg': 0.002, '100801.jpg': 0.001, '100901.jpg': 0.002}, 62: {'100001.jpg': 0.005, '100002.jpg': 0.019417475728155338, '100101.jpg': 0.018, '100201.jpg': 0.01, '100301.jpg': 0.002, '100302.jpg': 0.003, '100401.jpg': 0.006, '100501.jpg': 0.011, '100502.jpg': 0.023, '100503.jpg': 0.007, '100601.jpg': 0.019, '100701.jpg': 0.027, '100801.jpg': 0.008}, 63: {'100001.jpg': 0.008, '100002.jpg': 0.02912621359223301, '100101.jpg': 0.009, '100201.jpg': 0.003, '100301.jpg': 0.015, '100302.jpg': 0.012, '100401.jpg': 0.012, '100501.jpg': 0.015, '100502.jpg': 0.013, '100503.jpg': 0.006, '100601.jpg': 0.025, '100701.jpg': 0.012, '100801.jpg': 0.004}, 64: {'100001.jpg': 0.006, '100101.jpg': 0.001, '100301.jpg': 0.001, '100302.jpg': 0.001, '100401.jpg': 0.004, '100501.jpg': 0.003, '100502.jpg': 0.004, '100503.jpg': 0.003, '100601.jpg': 0.005, '100701.jpg': 0.01}, 65: {'100001.jpg': 0.001, '100101.jpg': 0.005, '100201.jpg': 0.002, '100401.jpg': 0.001, '100502.jpg': 0.002, '100601.jpg': 0.001, '100701.jpg': 0.003, '100801.jpg': 0.003, '100901.jpg': 0.001}, 66: {'100001.jpg': 0.018, '100002.jpg': 0.009708737864077669, '100101.jpg': 0.004, '100201.jpg': 0.023, '100301.jpg': 0.026, '100302.jpg': 0.027, '100401.jpg': 0.019, '100501.jpg': 0.011, '100502.jpg': 0.009, '100503.jpg': 0.007, '100601.jpg': 0.004, '100801.jpg': 0.035}, 67: {'100201.jpg': 0.003, '100601.jpg': 0.002, '100801.jpg': 0.002, '100901.jpg': 0.002}, 68: {'100101.jpg': 0.004, '100401.jpg': 0.001, '100801.jpg': 0.004}, 69: {'100001.jpg': 0.001, '100101.jpg': 0.009, '100201.jpg': 0.003, '100302.jpg': 0.001, '100401.jpg': 0.003, '100503.jpg': 0.001, '100801.jpg': 0.005, '100901.jpg': 0.026}, 70: {'100001.jpg': 0.007, '100002.jpg': 0.05825242718446602, '100101.jpg': 0.012, '100201.jpg': 0.005, '100502.jpg': 0.001, '100601.jpg': 0.012, '100801.jpg': 0.008, '100901.jpg': 0.046}, 71: {'100001.jpg': 0.007, '100002.jpg': 0.05825242718446602, '100101.jpg': 0.013, '100201.jpg': 0.006, '100401.jpg': 0.001, '100502.jpg': 0.004, '100503.jpg': 0.002, '100601.jpg': 0.014, '100801.jpg': 0.007, '100901.jpg': 0.085}, 72: {'100001.jpg': 0.001, '100101.jpg': 0.002, '100201.jpg': 0.003, '100501.jpg': 0.002, '100502.jpg': 0.001, '100503.jpg': 0.001, '100601.jpg': 0.002, '100801.jpg': 0.001, '100901.jpg': 0.002}, 73: {'100001.jpg': 0.002, '100002.jpg': 0.019417475728155338, '100101.jpg': 0.002, '100201.jpg': 0.003, '100302.jpg': 0.003, '100401.jpg': 0.001, '100501.jpg': 0.003, '100503.jpg': 0.003, '100801.jpg': 0.003}, 74: {'100001.jpg': 0.001, '100101.jpg': 0.002, '100401.jpg': 0.001, '100501.jpg': 0.001, '100601.jpg': 0.008, '100701.jpg': 0.002}, 75: {'100101.jpg': 0.004, '100401.jpg': 0.002, '100601.jpg': 0.004, '100701.jpg': 0.003, '100801.jpg': 0.003}, 76: {'100001.jpg': 0.007, '100002.jpg': 0.019417475728155338, '100101.jpg': 0.001, '100201.jpg': 0.002, '100301.jpg': 0.006, '100302.jpg': 0.004, '100401.jpg': 0.003, '100501.jpg': 0.006, '100502.jpg': 0.004, '100503.jpg': 0.006, '100601.jpg': 0.004, '100801.jpg': 0.002}, 77: {'100001.jpg': 0.003, '100101.jpg': 0.005, '100201.jpg': 0.013, '100301.jpg': 0.004, '100302.jpg': 0.004, '100401.jpg': 0.009, '100501.jpg': 0.006, '100502.jpg': 0.004, '100503.jpg': 0.002, '100601.jpg': 0.001, '100801.jpg': 0.007, '100901.jpg': 0.017}, 78: {'100001.jpg': 0.001, '100201.jpg': 0.028, '100301.jpg': 0.002, '100501.jpg': 0.002, '100502.jpg': 0.004, '100503.jpg': 0.001, '100601.jpg': 0.001, '100801.jpg': 0.001, '100901.jpg': 0.017}, 79: {'100101.jpg': 0.006, '100201.jpg': 0.003, '100301.jpg': 0.001, '100302.jpg': 0.001, '100401.jpg': 0.002, '100502.jpg': 0.003, '100601.jpg': 0.013, '100801.jpg': 0.001, '100901.jpg': 0.006}, 80: {'100101.jpg': 0.011, '100201.jpg': 0.005, '100501.jpg': 0.001, '100801.jpg': 0.007, '100901.jpg': 0.055}, 81: {'100001.jpg': 0.002, '100101.jpg': 0.006, '100301.jpg': 0.001, '100302.jpg': 0.002, '100501.jpg': 0.001, '100503.jpg': 0.001, '100601.jpg': 0.001, '100801.jpg': 0.007, '100901.jpg': 0.001}, 82: {'100001.jpg': 0.003, '100101.jpg': 0.007, '100201.jpg': 0.005, '100302.jpg': 0.003, '100401.jpg': 0.008, '100501.jpg': 0.003, '100502.jpg': 0.004, '100503.jpg': 0.006, '100601.jpg': 0.003, '100701.jpg': 0.001, '100801.jpg': 0.009, '100901.jpg': 0.002}, 83: {'100001.jpg': 0.006, '100101.jpg': 0.01, '100201.jpg': 0.004, '100301.jpg': 0.004, '100302.jpg': 0.004, '100401.jpg': 0.007, '100501.jpg': 0.016, '100502.jpg': 0.022, '100503.jpg': 0.01, '100601.jpg': 0.004, '100701.jpg': 0.014, '100801.jpg': 0.009, '100901.jpg': 0.005}, 84: {'100001.jpg': 0.004, '100101.jpg': 0.002, '100201.jpg': 0.008, '100501.jpg': 0.002, '100901.jpg': 0.001}, 85: {'100001.jpg': 0.002, '100002.jpg': 0.009708737864077669, '100101.jpg': 0.005, '100301.jpg': 0.002, '100302.jpg': 0.002, '100401.jpg': 0.003, '100501.jpg': 0.006, '100502.jpg': 0.008, '100503.jpg': 0.002, '100801.jpg': 0.002, '100901.jpg': 0.006}, 86: {'100001.jpg': 0.002, '100101.jpg': 0.008, '100301.jpg': 0.003, '100302.jpg': 0.006, '100401.jpg': 0.005, '100503.jpg': 0.001, '100601.jpg': 0.001, '100701.jpg': 0.001, '100801.jpg': 0.001}, 87: {'100001.jpg': 0.001, '100201.jpg': 0.001, '100501.jpg': 0.002, '100601.jpg': 0.004, '100801.jpg': 0.002}, 88: {'100001.jpg': 0.002, '100101.jpg': 0.002, '100201.jpg': 0.002, '100301.jpg': 0.002, '100302.jpg': 0.003, '100401.jpg': 0.001, '100503.jpg': 0.001, '100801.jpg': 0.01, '100901.jpg': 0.007}, 89: {'100001.jpg': 0.001, '100301.jpg': 0.002, '100302.jpg': 0.001, '100501.jpg': 0.002, '100502.jpg': 0.004, '100503.jpg': 0.001}, 90: {'100901.jpg': 0.002}, 91: {'100001.jpg': 0.013, '100101.jpg': 0.004, '100201.jpg': 0.007, '100301.jpg': 0.013, '100302.jpg': 0.015, '100401.jpg': 0.003, '100501.jpg': 0.013, '100502.jpg': 0.001, '100503.jpg': 0.013, '100601.jpg': 0.006, '100701.jpg': 0.001, '100801.jpg': 0.005}, 92: {'100001.jpg': 0.013, '100101.jpg': 0.009, '100201.jpg': 0.007, '100301.jpg': 0.001, '100302.jpg': 0.008, '100401.jpg': 0.008, '100501.jpg': 0.019, '100502.jpg': 0.013, '100503.jpg': 0.02, '100601.jpg': 0.003, '100701.jpg': 0.007, '100801.jpg': 0.006}, 93: {'100201.jpg': 0.002, '100301.jpg': 0.002, '100401.jpg': 0.007, '100501.jpg': 0.001, '100502.jpg': 0.004, '100503.jpg': 0.003}, 94: {'100001.jpg': 0.001, '100201.jpg': 0.016, '100301.jpg': 0.002, '100302.jpg': 0.002, '100501.jpg': 0.002, '100502.jpg': 0.003, '100503.jpg': 0.002, '100801.jpg': 0.002}, 95: {'100001.jpg': 0.003, '100201.jpg': 0.002, '100301.jpg': 0.003, '100302.jpg': 0.004, '100401.jpg': 0.002, '100501.jpg': 0.006, '100502.jpg': 0.008, '100503.jpg': 0.004, '100601.jpg': 0.005, '100801.jpg': 0.001}, 96: {'100201.jpg': 0.003, '100301.jpg': 0.003, '100302.jpg': 0.001, '100502.jpg': 0.002, '100503.jpg': 0.001, '100601.jpg': 0.007, '100801.jpg': 0.001}, 97: {'100001.jpg': 0.006, '100101.jpg': 0.004, '100201.jpg': 0.004, '100301.jpg': 0.003, '100401.jpg': 0.011, '100501.jpg': 0.008, '100502.jpg': 0.006, '100503.jpg': 0.005, '100601.jpg': 0.002, '100701.jpg': 0.001, '100801.jpg': 0.007, '100901.jpg': 0.003}, 98: {'100001.jpg': 0.012, '100002.jpg': 0.02912621359223301, '100101.jpg': 0.002, '100201.jpg': 0.007, '100301.jpg': 0.01, '100302.jpg': 0.01, '100401.jpg': 0.01, '100501.jpg': 0.006, '100502.jpg': 0.002, '100503.jpg': 0.004, '100601.jpg': 0.002, '100801.jpg': 0.008}, 99: {'100001.jpg': 0.004, '100002.jpg': 0.009708737864077669, '100101.jpg': 0.001, '100401.jpg': 0.001, '100501.jpg': 0.001, '100502.jpg': 0.001, '100503.jpg': 0.002, '100801.jpg': 0.001, '100901.jpg': 0.002}, 100: {'100101.jpg': 0.004, '100201.jpg': 0.002, '100301.jpg': 0.001, '100401.jpg': 0.001, '100502.jpg': 0.004, '100601.jpg': 0.001, '100801.jpg': 0.018, '100901.jpg': 0.034}, 101: {'100001.jpg': 0.003, '100101.jpg': 0.012, '100201.jpg': 0.007, '100301.jpg': 0.001, '100302.jpg': 0.001, '100401.jpg': 0.001, '100501.jpg': 0.001, '100502.jpg': 0.003, '100601.jpg': 0.013, '100701.jpg': 0.004, '100801.jpg': 0.004, '100901.jpg': 0.001}, 102: {'100001.jpg': 0.011, '100002.jpg': 0.05825242718446602, '100101.jpg': 0.005, '100201.jpg': 0.008, '100301.jpg': 0.006, '100302.jpg': 0.007, '100401.jpg': 0.008, '100501.jpg': 0.012, '100502.jpg': 0.002, '100503.jpg': 0.008, '100601.jpg': 0.009, '100701.jpg': 0.003, '100801.jpg': 0.003}, 103: {'100201.jpg': 0.008, '100502.jpg': 0.007, '100503.jpg': 0.002}, 104: {'100001.jpg': 0.004, '100101.jpg': 0.001, '100201.jpg': 0.001, '100301.jpg': 0.001, '100302.jpg': 0.001, '100401.jpg': 0.003, '100501.jpg': 0.004, '100502.jpg': 0.005, '100503.jpg': 0.005, '100601.jpg': 0.001, '100801.jpg': 0.002, '100901.jpg': 0.002}, 105: {'100001.jpg': 0.001, '100101.jpg': 0.002, '100201.jpg': 0.005, '100401.jpg': 0.001, '100501.jpg': 0.002, '100502.jpg': 0.005, '100503.jpg': 0.001, '100601.jpg': 0.002, '100801.jpg': 0.002, '100901.jpg': 0.005}, 106: {'100001.jpg': 0.017, '100201.jpg': 0.004, '100301.jpg': 0.031, '100302.jpg': 0.033, '100401.jpg': 0.021, '100501.jpg': 0.014, '100502.jpg': 0.011, '100503.jpg': 0.008, '100601.jpg': 0.002, '100701.jpg': 0.001, '100801.jpg': 0.004}, 107: {'100001.jpg': 0.01, '100101.jpg': 0.001, '100201.jpg': 0.009, '100301.jpg': 0.015, '100302.jpg': 0.015, '100401.jpg': 0.006, '100501.jpg': 0.006, '100502.jpg': 0.002, '100503.jpg': 0.012, '100601.jpg': 0.005, '100801.jpg': 0.013}, 108: {'100001.jpg': 0.019, '100101.jpg': 0.004, '100201.jpg': 0.021, '100301.jpg': 0.046, '100302.jpg': 0.052, '100401.jpg': 0.026, '100501.jpg': 0.023, '100502.jpg': 0.013, '100503.jpg': 0.02, '100601.jpg': 0.001, '100701.jpg': 0.002, '100801.jpg': 0.003}, 109: {'100001.jpg': 0.019, '100002.jpg': 0.019417475728155338, '100101.jpg': 0.016, '100201.jpg': 0.007, '100301.jpg': 0.002, '100302.jpg': 0.004, '100401.jpg': 0.007, '100501.jpg': 0.016, '100502.jpg': 0.008, '100503.jpg': 0.007, '100601.jpg': 0.027, '100701.jpg': 0.025, '100801.jpg': 0.004}, 110: {'100001.jpg': 0.03, '100002.jpg': 0.06796116504854369, '100101.jpg': 0.01, '100201.jpg': 0.007, '100301.jpg': 0.009, '100302.jpg': 0.015, '100401.jpg': 0.012, '100501.jpg': 0.014, '100502.jpg': 0.009, '100503.jpg': 0.015, '100601.jpg': 0.016, '100701.jpg': 0.041, '100801.jpg': 0.02}, 111: {'100001.jpg': 0.001, '100101.jpg': 0.01, '100501.jpg': 0.001, '100502.jpg': 0.009, '100601.jpg': 0.039, '100701.jpg': 0.014, '100801.jpg': 0.002, '100901.jpg': 0.003}, 112: {'100001.jpg': 0.003, '100201.jpg': 0.007, '100401.jpg': 0.004, '100501.jpg': 0.003, '100502.jpg': 0.002, '100801.jpg': 0.002}, 113: {'100001.jpg': 0.004, '100101.jpg': 0.002, '100201.jpg': 0.004, '100301.jpg': 0.007, '100302.jpg': 0.01, '100501.jpg': 0.002, '100502.jpg': 0.004, '100601.jpg': 0.001, '100701.jpg': 0.003}, 114: {'100101.jpg': 0.001, '100201.jpg': 0.011, '100301.jpg': 0.001, '100302.jpg': 0.001, '100401.jpg': 0.001, '100503.jpg': 0.003, '100601.jpg': 0.002, '100801.jpg': 0.005}, 115: {'100001.jpg': 0.003, '100101.jpg': 0.003, '100201.jpg': 0.007, '100401.jpg': 0.002, '100501.jpg': 0.001, '100502.jpg': 0.001, '100503.jpg': 0.004, '100801.jpg': 0.004, '100901.jpg': 0.011}, 116: {'100001.jpg': 0.01, '100002.jpg': 0.02912621359223301, '100101.jpg': 0.015, '100201.jpg': 0.003, '100301.jpg': 0.009, '100302.jpg': 0.007, '100401.jpg': 0.017, '100501.jpg': 0.004, '100502.jpg': 0.009, '100503.jpg': 0.01, '100601.jpg': 0.025, '100701.jpg': 0.052, '100801.jpg': 0.011, '100901.jpg': 0.001}, 117: {'100001.jpg': 0.007, '100101.jpg': 0.011, '100201.jpg': 0.008, '100301.jpg': 0.003, '100302.jpg': 0.007, '100401.jpg': 0.001, '100501.jpg': 0.006, '100502.jpg': 0.001, '100503.jpg': 0.003, '100601.jpg': 0.002, '100801.jpg': 0.002, '100901.jpg': 0.001}, 118: {'100001.jpg': 0.001, '100101.jpg': 0.003, '100201.jpg': 0.003, '100301.jpg': 0.002, '100302.jpg': 0.004, '100501.jpg': 0.003, '100502.jpg': 0.003, '100503.jpg': 0.002, '100601.jpg': 0.004, '100701.jpg': 0.004, '100801.jpg': 0.001}, 119: {'100001.jpg': 0.001, '100002.jpg': 0.009708737864077669, '100201.jpg': 0.004, '100301.jpg': 0.002, '100302.jpg': 0.001, '100401.jpg': 0.002, '100501.jpg': 0.002, '100502.jpg': 0.006, '100503.jpg': 0.002, '100801.jpg': 0.009, '100901.jpg': 0.01}, 120: {'100001.jpg': 0.001, '100201.jpg': 0.01, '100401.jpg': 0.004, '100501.jpg': 0.004, '100502.jpg': 0.002, '100503.jpg': 0.001, '100801.jpg': 0.003, '100901.jpg': 0.003}, 121: {'100801.jpg': 0.002}, 122: {'100001.jpg': 0.003, '100002.jpg': 0.019417475728155338, '100101.jpg': 0.004, '100201.jpg': 0.002, '100301.jpg': 0.003, '100302.jpg': 0.004, '100401.jpg': 0.002, '100502.jpg': 0.002, '100503.jpg': 0.001, '100601.jpg': 0.001, '100701.jpg': 0.008, '100801.jpg': 0.004, '100901.jpg': 0.001}, 123: {'100001.jpg': 0.011, '100002.jpg': 0.009708737864077669, '100101.jpg': 0.003, '100201.jpg': 0.002, '100301.jpg': 0.003, '100302.jpg': 0.004, '100401.jpg': 0.005, '100501.jpg': 0.004, '100502.jpg': 0.008, '100503.jpg': 0.007, '100601.jpg': 0.009, '100701.jpg': 0.024, '100801.jpg': 0.006}, 124: {'100001.jpg': 0.001, '100101.jpg': 0.003, '100201.jpg': 0.001, '100301.jpg': 0.002, '100401.jpg': 0.001, '100501.jpg': 0.002, '100502.jpg': 0.009, '100601.jpg': 0.027, '100701.jpg': 0.017, '100801.jpg': 0.004, '100901.jpg': 0.001}, 125: {'100001.jpg': 0.003, '100101.jpg': 0.003, '100201.jpg': 0.008, '100301.jpg': 0.01, '100302.jpg': 0.005, '100401.jpg': 0.003, '100501.jpg': 0.004, '100502.jpg': 0.006, '100503.jpg': 0.005, '100601.jpg': 0.007, '100701.jpg': 0.004, '100801.jpg': 0.004}, 126: {'100001.jpg': 0.011, '100002.jpg': 0.02912621359223301, '100101.jpg': 0.008, '100201.jpg': 0.003, '100301.jpg': 0.004, '100302.jpg': 0.003, '100401.jpg': 0.015, '100501.jpg': 0.014, '100502.jpg': 0.005, '100503.jpg': 0.012, '100601.jpg': 0.004, '100701.jpg': 0.011, '100801.jpg': 0.004, '100901.jpg': 0.004}, 127: {'100001.jpg': 0.003, '100101.jpg': 0.001, '100201.jpg': 0.002, '100301.jpg': 0.006, '100302.jpg': 0.005, '100401.jpg': 0.003, '100502.jpg': 0.004, '100503.jpg': 0.006, '100601.jpg': 0.001, '100701.jpg': 0.001, '100901.jpg': 0.001}, 128: {'100001.jpg': 0.006, '100101.jpg': 0.001, '100201.jpg': 0.004, '100301.jpg': 0.001, '100302.jpg': 0.001, '100401.jpg': 0.002, '100501.jpg': 0.001, '100502.jpg': 0.001, '100503.jpg': 0.006, '100601.jpg': 0.001, '100801.jpg': 0.001, '100901.jpg': 0.002}, 129: {'100001.jpg': 0.002, '100201.jpg': 0.002, '100301.jpg': 0.003, '100302.jpg': 0.002, '100401.jpg': 0.001, '100502.jpg': 0.003, '100503.jpg': 0.002, '100601.jpg': 0.002, '100701.jpg': 0.001, '100801.jpg': 0.006}, 130: {'100001.jpg': 0.004, '100002.jpg': 0.019417475728155338, '100101.jpg': 0.002, '100201.jpg': 0.008, '100401.jpg': 0.004, '100501.jpg': 0.006, '100502.jpg': 0.005, '100503.jpg': 0.002, '100601.jpg': 0.005, '100701.jpg': 0.001, '100801.jpg': 0.004, '100901.jpg': 0.005}, 131: {'100001.jpg': 0.013, '100101.jpg': 0.004, '100201.jpg': 0.002, '100301.jpg': 0.018, '100302.jpg': 0.008, '100401.jpg': 0.022, '100501.jpg': 0.009, '100502.jpg': 0.007, '100503.jpg': 0.008, '100801.jpg': 0.003}, 132: {'100001.jpg': 0.002, '100101.jpg': 0.006, '100201.jpg': 0.005, '100301.jpg': 0.001, '100401.jpg': 0.002, '100501.jpg': 0.014, '100502.jpg': 0.011, '100503.jpg': 0.014, '100601.jpg': 0.001, '100701.jpg': 0.001, '100801.jpg': 0.002, '100901.jpg': 0.006}, 133: {'100001.jpg': 0.015, '100101.jpg': 0.001, '100201.jpg': 0.009, '100301.jpg': 0.039, '100302.jpg': 0.032, '100401.jpg': 0.023, '100501.jpg': 0.012, '100502.jpg': 0.016, '100503.jpg': 0.01, '100601.jpg': 0.001, '100801.jpg': 0.005}, 134: {'100001.jpg': 0.015, '100201.jpg': 0.019, '100301.jpg': 0.02, '100302.jpg': 0.027, '100401.jpg': 0.01, '100501.jpg': 0.009, '100502.jpg': 0.01, '100503.jpg': 0.008, '100601.jpg': 0.002, '100701.jpg': 0.002, '100801.jpg': 0.023}, 135: {'100001.jpg': 0.005, '100101.jpg': 0.009, '100201.jpg': 0.006, '100301.jpg': 0.004, '100302.jpg': 0.003, '100401.jpg': 0.002, '100502.jpg': 0.002, '100503.jpg': 0.003, '100601.jpg': 0.001, '100801.jpg': 0.012, '100901.jpg': 0.015}, 136: {'100001.jpg': 0.001, '100101.jpg': 0.001, '100201.jpg': 0.002, '100301.jpg': 0.001, '100302.jpg': 0.001, '100401.jpg': 0.005, '100501.jpg': 0.011, '100502.jpg': 0.01, '100503.jpg': 0.004, '100601.jpg': 0.017, '100701.jpg': 0.005, '100801.jpg': 0.002}, 137: {'100002.jpg': 0.009708737864077669, '100101.jpg': 0.003, '100302.jpg': 0.001, '100401.jpg': 0.004, '100501.jpg': 0.004, '100502.jpg': 0.005, '100503.jpg': 0.006, '100601.jpg': 0.003, '100801.jpg': 0.001, '100901.jpg': 0.005}, 138: {'100001.jpg': 0.001, '100101.jpg': 0.005, '100302.jpg': 0.001, '100401.jpg': 0.009, '100501.jpg': 0.005, '100502.jpg': 0.005, '100503.jpg': 0.002, '100601.jpg': 0.001, '100701.jpg': 0.006, '100801.jpg': 0.009, '100901.jpg': 0.001}, 139: {'100101.jpg': 0.004, '100201.jpg': 0.011, '100502.jpg': 0.001, '100503.jpg': 0.001, '100601.jpg': 0.004, '100801.jpg': 0.002, '100901.jpg': 0.002}, 140: {'100001.jpg': 0.005, '100101.jpg': 0.005, '100201.jpg': 0.005, '100301.jpg': 0.006, '100302.jpg': 0.004, '100401.jpg': 0.006, '100501.jpg': 0.002, '100502.jpg': 0.004, '100503.jpg': 0.009, '100601.jpg': 0.006, '100701.jpg': 0.001, '100801.jpg': 0.003, '100901.jpg': 0.002}, 141: {'100001.jpg': 0.003, '100101.jpg': 0.001, '100301.jpg': 0.005, '100302.jpg': 0.003, '100401.jpg': 0.003, '100501.jpg': 0.002, '100502.jpg': 0.003, '100503.jpg': 0.001, '100601.jpg': 0.003, '100701.jpg': 0.003, '100801.jpg': 0.014}, 142: {'100001.jpg': 0.006, '100002.jpg': 0.009708737864077669, '100101.jpg': 0.009, '100201.jpg': 0.005, '100301.jpg': 0.003, '100302.jpg': 0.007, '100401.jpg': 0.008, '100501.jpg': 0.004, '100502.jpg': 0.004, '100503.jpg': 0.003, '100801.jpg': 0.004, '100901.jpg': 0.01}, 143: {'100001.jpg': 0.003, '100101.jpg': 0.01, '100301.jpg': 0.008, '100302.jpg': 0.005, '100401.jpg': 0.007, '100501.jpg': 0.005, '100502.jpg': 0.011, '100503.jpg': 0.007, '100701.jpg': 0.006, '100901.jpg': 0.002}, 144: {'100001.jpg': 0.001, '100101.jpg': 0.003, '100201.jpg': 0.007, '100301.jpg': 0.001, '100302.jpg': 0.004, '100503.jpg': 0.003, '100801.jpg': 0.01}, 145: {'100001.jpg': 0.014, '100002.jpg': 0.009708737864077669, '100101.jpg': 0.01, '100201.jpg': 0.001, '100301.jpg': 0.006, '100302.jpg': 0.007, '100401.jpg': 0.013, '100501.jpg': 0.008, '100502.jpg': 0.013, '100503.jpg': 0.006, '100601.jpg': 0.004, '100701.jpg': 0.005, '100801.jpg': 0.006, '100901.jpg': 0.001}, 146: {'100001.jpg': 0.01, '100002.jpg': 0.009708737864077669, '100101.jpg': 0.016, '100201.jpg': 0.008, '100301.jpg': 0.005, '100302.jpg': 0.005, '100401.jpg': 0.011, '100501.jpg': 0.012, '100502.jpg': 0.008, '100503.jpg': 0.009, '100601.jpg': 0.007, '100701.jpg': 0.019, '100801.jpg': 0.01}, 147: {'100001.jpg': 0.003, '100201.jpg': 0.002, '100301.jpg': 0.004, '100302.jpg': 0.005, '100401.jpg': 0.002, '100501.jpg': 0.009, '100502.jpg': 0.004, '100503.jpg': 0.002, '100601.jpg': 0.005, '100801.jpg': 0.001}, 148: {'100101.jpg': 0.003, '100301.jpg': 0.002, '100302.jpg': 0.002, '100401.jpg': 0.001, '100502.jpg': 0.001, '100801.jpg': 0.01, '100901.jpg': 0.017}, 149: {'100001.jpg': 0.001, '100101.jpg': 0.002, '100301.jpg': 0.002, '100302.jpg': 0.003, '100401.jpg': 0.002, '100502.jpg': 0.002, '100801.jpg': 0.022, '100901.jpg': 0.03}, 150: {'100201.jpg': 0.001, '100502.jpg': 0.008, '100601.jpg': 0.001, '100801.jpg': 0.001}, 151: {'100001.jpg': 0.002, '100002.jpg': 0.009708737864077669, '100101.jpg': 0.006, '100201.jpg': 0.005, '100301.jpg': 0.005, '100302.jpg': 0.008, '100401.jpg': 0.003, '100501.jpg': 0.01, '100502.jpg': 0.011, '100503.jpg': 0.016, '100701.jpg': 0.007, '100801.jpg': 0.001, '100901.jpg': 0.001}, 152: {'100001.jpg': 0.015, '100002.jpg': 0.038834951456310676, '100101.jpg': 0.012, '100201.jpg': 0.007, '100301.jpg': 0.006, '100302.jpg': 0.006, '100401.jpg': 0.014, '100501.jpg': 0.019, '100502.jpg': 0.013, '100503.jpg': 0.023, '100601.jpg': 0.009, '100701.jpg': 0.042, '100801.jpg': 0.007, '100901.jpg': 0.001}, 153: {'100001.jpg': 0.02, '100002.jpg': 0.009708737864077669, '100101.jpg': 0.037, '100201.jpg': 0.008, '100301.jpg': 0.008, '100302.jpg': 0.007, '100401.jpg': 0.011, '100501.jpg': 0.022, '100502.jpg': 0.034, '100503.jpg': 0.015, '100601.jpg': 0.007, '100701.jpg': 0.049, '100801.jpg': 0.01, '100901.jpg': 0.003}, 154: {'100001.jpg': 0.014, '100101.jpg': 0.004, '100201.jpg': 0.011, '100301.jpg': 0.015, '100302.jpg': 0.022, '100401.jpg': 0.015, '100501.jpg': 0.012, '100502.jpg': 0.004, '100503.jpg': 0.012, '100601.jpg': 0.004, '100701.jpg': 0.001, '100801.jpg': 0.009}, 155: {'100001.jpg': 0.002, '100201.jpg': 0.016, '100301.jpg': 0.004, '100302.jpg': 0.005, '100401.jpg': 0.001, '100501.jpg': 0.006, '100502.jpg': 0.001, '100503.jpg': 0.003, '100801.jpg': 0.008, '100901.jpg': 0.012}, 156: {'100101.jpg': 0.004, '100301.jpg': 0.003, '100302.jpg': 0.001, '100502.jpg': 0.001, '100801.jpg': 0.012, '100901.jpg': 0.017}, 157: {'100001.jpg': 0.009, '100101.jpg': 0.004, '100201.jpg': 0.012, '100301.jpg': 0.007, '100302.jpg': 0.009, '100401.jpg': 0.007, '100501.jpg': 0.003, '100503.jpg': 0.004, '100601.jpg': 0.004, '100801.jpg': 0.002, '100901.jpg': 0.002}, 158: {'100001.jpg': 0.016, '100002.jpg': 0.009708737864077669, '100101.jpg': 0.004, '100201.jpg': 0.03, '100301.jpg': 0.045, '100302.jpg': 0.039, '100401.jpg': 0.019, '100501.jpg': 0.007, '100502.jpg': 0.005, '100503.jpg': 0.019, '100601.jpg': 0.004, '100801.jpg': 0.048}, 159: {'100001.jpg': 0.001, '100101.jpg': 0.001, '100201.jpg': 0.009, '100401.jpg': 0.001, '100501.jpg': 0.003, '100502.jpg': 0.009, '100503.jpg': 0.006, '100601.jpg': 0.01, '100701.jpg': 0.001, '100901.jpg': 0.001}, 160: {'100001.jpg': 0.005, '100101.jpg': 0.004, '100201.jpg': 0.005, '100301.jpg': 0.001, '100401.jpg': 0.004, '100502.jpg': 0.004, '100503.jpg': 0.003, '100601.jpg': 0.002, '100901.jpg': 0.001}, 161: {'100001.jpg': 0.002, '100101.jpg': 0.005, '100201.jpg': 0.004, '100301.jpg': 0.006, '100302.jpg': 0.005, '100401.jpg': 0.008, '100501.jpg': 0.016, '100502.jpg': 0.008, '100503.jpg': 0.016, '100601.jpg': 0.002, '100701.jpg': 0.004, '100801.jpg': 0.005}, 162: {'100101.jpg': 0.006, '100201.jpg': 0.002, '100301.jpg': 0.004, '100401.jpg': 0.001, '100501.jpg': 0.004, '100502.jpg': 0.023, '100601.jpg': 0.022, '100701.jpg': 0.016, '100801.jpg': 0.001, '100901.jpg': 0.003}, 163: {'100001.jpg': 0.002, '100101.jpg': 0.003, '100302.jpg': 0.001, '100401.jpg': 0.003, '100502.jpg': 0.006, '100503.jpg': 0.002, '100601.jpg': 0.01, '100801.jpg': 0.003, '100901.jpg': 0.006}, 164: {'100101.jpg': 0.005, '100201.jpg': 0.008, '100401.jpg': 0.002, '100501.jpg': 0.001, '100502.jpg': 0.003, '100503.jpg': 0.002, '100601.jpg': 0.011, '100801.jpg': 0.006, '100901.jpg': 0.004}, 165: {'100201.jpg': 0.003, '100302.jpg': 0.002, '100401.jpg': 0.003, '100501.jpg': 0.003, '100502.jpg': 0.004, '100503.jpg': 0.003, '100601.jpg': 0.001, '100801.jpg': 0.005, '100901.jpg': 0.028}, 166: {'100001.jpg': 0.001, '100101.jpg': 0.001, '100301.jpg': 0.001, '100302.jpg': 0.001, '100401.jpg': 0.004, '100502.jpg': 0.004, '100503.jpg': 0.004, '100601.jpg': 0.008, '100801.jpg': 0.003, '100901.jpg': 0.006}, 167: {'100001.jpg': 0.005, '100101.jpg': 0.005, '100201.jpg': 0.001, '100302.jpg': 0.001, '100401.jpg': 0.002, '100501.jpg': 0.006, '100502.jpg': 0.007, '100503.jpg': 0.008, '100601.jpg': 0.002, '100701.jpg': 0.01, '100801.jpg': 0.004}, 168: {'100001.jpg': 0.001, '100101.jpg': 0.004, '100201.jpg': 0.001, '100301.jpg': 0.002, '100601.jpg': 0.001, '100801.jpg': 0.006, '100901.jpg': 0.007}, 169: {'100001.jpg': 0.006, '100002.jpg': 0.009708737864077669, '100101.jpg': 0.002, '100201.jpg': 0.002, '100301.jpg': 0.013, '100302.jpg': 0.012, '100401.jpg': 0.008, '100501.jpg': 0.008, '100502.jpg': 0.004, '100503.jpg': 0.004, '100601.jpg': 0.001, '100701.jpg': 0.008, '100801.jpg': 0.005, '100901.jpg': 0.001}, 170: {'100001.jpg': 0.006, '100101.jpg': 0.011, '100201.jpg': 0.009, '100301.jpg': 0.011, '100302.jpg': 0.011, '100401.jpg': 0.012, '100501.jpg': 0.004, '100502.jpg': 0.001, '100503.jpg': 0.004, '100801.jpg': 0.004, '100901.jpg': 0.008}, 171: {'100001.jpg': 0.023, '100002.jpg': 0.019417475728155338, '100101.jpg': 0.011, '100201.jpg': 0.007, '100301.jpg': 0.005, '100302.jpg': 0.005, '100401.jpg': 0.005, '100501.jpg': 0.015, '100502.jpg': 0.01, '100503.jpg': 0.021, '100601.jpg': 0.006, '100701.jpg': 0.014, '100801.jpg': 0.012}, 172: {'100001.jpg': 0.003, '100101.jpg': 0.007, '100201.jpg': 0.005, '100301.jpg': 0.005, '100401.jpg': 0.003, '100501.jpg': 0.009, '100502.jpg': 0.007, '100503.jpg': 0.012, '100601.jpg': 0.001, '100701.jpg': 0.004, '100801.jpg': 0.007, '100901.jpg': 0.001}, 173: {'100001.jpg': 0.005, '100101.jpg': 0.005, '100201.jpg': 0.005, '100301.jpg': 0.002, '100302.jpg': 0.001, '100401.jpg': 0.006, '100501.jpg': 0.008, '100502.jpg': 0.008, '100503.jpg': 0.004, '100601.jpg': 0.009, '100701.jpg': 0.008, '100801.jpg': 0.004}, 174: {'100001.jpg': 0.002, '100002.jpg': 0.019417475728155338, '100101.jpg': 0.011, '100201.jpg': 0.013, '100301.jpg': 0.003, '100302.jpg': 0.004, '100401.jpg': 0.004, '100501.jpg': 0.016, '100502.jpg': 0.024, '100503.jpg': 0.008, '100601.jpg': 0.035, '100701.jpg': 0.018, '100801.jpg': 0.008, '100901.jpg': 0.001}, 175: {'100001.jpg': 0.007, '100002.jpg': 0.009708737864077669, '100101.jpg': 0.024, '100201.jpg': 0.011, '100301.jpg': 0.003, '100302.jpg': 0.002, '100401.jpg': 0.015, '100501.jpg': 0.025, '100502.jpg': 0.02, '100503.jpg': 0.009, '100601.jpg': 0.014, '100701.jpg': 0.026, '100801.jpg': 0.005, '100901.jpg': 0.002}, 176: {'100001.jpg': 0.005, '100101.jpg': 0.005, '100201.jpg': 0.002, '100301.jpg': 0.003, '100302.jpg': 0.002, '100501.jpg': 0.002, '100502.jpg': 0.007, '100503.jpg': 0.001, '100601.jpg': 0.001}, 177: {'100001.jpg': 0.007, '100201.jpg': 0.001, '100301.jpg': 0.005, '100302.jpg': 0.009, '100401.jpg': 0.004, '100501.jpg': 0.002, '100503.jpg': 0.005, '100801.jpg': 0.001}, 178: {'100001.jpg': 0.006, '100201.jpg': 0.001, '100301.jpg': 0.007, '100302.jpg': 0.01, '100401.jpg': 0.006, '100501.jpg': 0.005, '100502.jpg': 0.002, '100503.jpg': 0.009, '100601.jpg': 0.001, '100801.jpg': 0.003}, 179: {'100002.jpg': 0.009708737864077669, '100201.jpg': 0.001, '100301.jpg': 0.001, '100302.jpg': 0.003, '100502.jpg': 0.001, '100801.jpg': 0.003, '100901.jpg': 0.001}, 180: {'100101.jpg': 0.006, '100201.jpg': 0.003, '100301.jpg': 0.006, '100302.jpg': 0.001, '100401.jpg': 0.006, '100501.jpg': 0.004, '100502.jpg': 0.005, '100503.jpg': 0.006, '100701.jpg': 0.003, '100801.jpg': 0.003}, 181: {'100001.jpg': 0.002, '100201.jpg': 0.006, '100301.jpg': 0.007, '100302.jpg': 0.006, '100401.jpg': 0.006, '100501.jpg': 0.007, '100502.jpg': 0.001, '100503.jpg': 0.008, '100601.jpg': 0.002, '100801.jpg': 0.002}, 182: {'100001.jpg': 0.005, '100101.jpg': 0.006, '100201.jpg': 0.004, '100301.jpg': 0.006, '100302.jpg': 0.003, '100401.jpg': 0.004, '100501.jpg': 0.004, '100502.jpg': 0.002, '100503.jpg': 0.004, '100601.jpg': 0.006, '100801.jpg': 0.001, '100901.jpg': 0.002}, 183: {'100201.jpg': 0.001, '100601.jpg': 0.006, '100701.jpg': 0.001, '100801.jpg': 0.001}, 184: {'100001.jpg': 0.001, '100101.jpg': 0.001, '100201.jpg': 0.002, '100301.jpg': 0.004, '100302.jpg': 0.002, '100401.jpg': 0.01, '100501.jpg': 0.007, '100502.jpg': 0.002, '100503.jpg': 0.003, '100801.jpg': 0.001}, 185: {'100001.jpg': 0.001, '100101.jpg': 0.001, '100201.jpg': 0.004, '100401.jpg': 0.002, '100501.jpg': 0.003, '100502.jpg': 0.006, '100503.jpg': 0.002, '100601.jpg': 0.003, '100701.jpg': 0.001, '100901.jpg': 0.001}, 186: {'100001.jpg': 0.007, '100002.jpg': 0.019417475728155338, '100101.jpg': 0.007, '100201.jpg': 0.003, '100301.jpg': 0.005, '100302.jpg': 0.002, '100401.jpg': 0.004, '100501.jpg': 0.007, '100502.jpg': 0.01, '100503.jpg': 0.011, '100601.jpg': 0.009, '100701.jpg': 0.009, '100801.jpg': 0.001}, 187: {'100001.jpg': 0.001, '100101.jpg': 0.005, '100201.jpg': 0.001, '100302.jpg': 0.003, '100401.jpg': 0.003, '100502.jpg': 0.001, '100503.jpg': 0.001, '100601.jpg': 0.005, '100801.jpg': 0.009, '100901.jpg': 0.004}, 188: {'100101.jpg': 0.004, '100201.jpg': 0.002, '100401.jpg': 0.004, '100501.jpg': 0.004, '100502.jpg': 0.009, '100503.jpg': 0.002, '100601.jpg': 0.003, '100701.jpg': 0.003, '100801.jpg': 0.007}, 189: {'100001.jpg': 0.01, '100002.jpg': 0.019417475728155338, '100101.jpg': 0.01, '100201.jpg': 0.01, '100301.jpg': 0.011, '100302.jpg': 0.013, '100401.jpg': 0.027, '100501.jpg': 0.006, '100502.jpg': 0.01, '100503.jpg': 0.02, '100601.jpg': 0.018, '100701.jpg': 0.02, '100801.jpg': 0.011}, 190: {'100201.jpg': 0.001, '100601.jpg': 0.002, '100801.jpg': 0.001, '100901.jpg': 0.001}, 191: {'100001.jpg': 0.004, '100002.jpg': 0.019417475728155338, '100101.jpg': 0.003, '100201.jpg': 0.004, '100301.jpg': 0.001, '100302.jpg': 0.001, '100401.jpg': 0.005, '100501.jpg': 0.002, '100502.jpg': 0.004, '100601.jpg': 0.006, '100701.jpg': 0.004, '100801.jpg': 0.002, '100901.jpg': 0.003}, 192: {'100001.jpg': 0.006, '100002.jpg': 0.019417475728155338, '100101.jpg': 0.005, '100201.jpg': 0.002, '100301.jpg': 0.001, '100302.jpg': 0.005, '100401.jpg': 0.015, '100501.jpg': 0.005, '100502.jpg': 0.004, '100503.jpg': 0.012, '100601.jpg': 0.001, '100701.jpg': 0.003, '100801.jpg': 0.005}, 193: {'100101.jpg': 0.01, '100201.jpg': 0.003, '100601.jpg': 0.016, '100801.jpg': 0.001, '100901.jpg': 0.055}, 194: {'100001.jpg': 0.005, '100101.jpg': 0.004, '100201.jpg': 0.005, '100301.jpg': 0.021, '100302.jpg': 0.021, '100401.jpg': 0.014, '100501.jpg': 0.007, '100502.jpg': 0.011, '100503.jpg': 0.004, '100801.jpg': 0.006, '100901.jpg': 0.001}, 195: {'100001.jpg': 0.006, '100101.jpg': 0.009, '100201.jpg': 0.002, '100301.jpg': 0.007, '100302.jpg': 0.005, '100401.jpg': 0.004, '100501.jpg': 0.015, '100502.jpg': 0.008, '100503.jpg': 0.02, '100701.jpg': 0.001, '100801.jpg': 0.002}, 196: {'100001.jpg': 0.021, '100002.jpg': 0.009708737864077669, '100201.jpg': 0.035, '100301.jpg': 0.04, '100302.jpg': 0.027, '100401.jpg': 0.006, '100501.jpg': 0.007, '100503.jpg': 0.01, '100601.jpg': 0.002, '100801.jpg': 0.027}, 197: {'100001.jpg': 0.009, '100002.jpg': 0.019417475728155338, '100101.jpg': 0.031, '100201.jpg': 0.004, '100301.jpg': 0.007, '100302.jpg': 0.009, '100401.jpg': 0.027, '100501.jpg': 0.005, '100502.jpg': 0.006, '100503.jpg': 0.009, '100601.jpg': 0.026, '100701.jpg': 0.066, '100801.jpg': 0.013}, 198: {'100001.jpg': 0.009, '100101.jpg': 0.007, '100201.jpg': 0.003, '100301.jpg': 0.003, '100302.jpg': 0.002, '100401.jpg': 0.002, '100501.jpg': 0.025, '100502.jpg': 0.015, '100503.jpg': 0.013, '100601.jpg': 0.002, '100701.jpg': 0.001, '100801.jpg': 0.001}, 199: {'100001.jpg': 0.001, '100101.jpg': 0.001, '100201.jpg': 0.008, '100301.jpg': 0.001, '100302.jpg': 0.005, '100401.jpg': 0.006, '100501.jpg': 0.001, '100502.jpg': 0.003, '100503.jpg': 0.002, '100601.jpg': 0.001, '100801.jpg': 0.003}}\n"
          ]
        }
      ],
      "source": [
        "print(\"self.inv_list: \", index.inv_list)"
      ],
      "id": "Sv0COF5IJr08"
    },
    {
      "cell_type": "code",
      "execution_count": null,
      "metadata": {
        "colab": {
          "base_uri": "https://localhost:8080/"
        },
        "id": "1661e449",
        "outputId": "8f9fc956-504a-4161-fd9f-3789f59951c8"
      },
      "outputs": [
        {
          "name": "stdout",
          "output_type": "stream",
          "text": [
            "{'100000.jpg': ['100301.jpg', '100302.jpg', '100001.jpg', '100401.jpg', '100503.jpg', '101702.jpg', '100501.jpg', '101701.jpg', '100801.jpg', '100201.jpg', '100502.jpg', '100701.jpg', '101801.jpg', '100101.jpg', '100601.jpg', '101201.jpg', '101601.jpg', '101404.jpg', '101001.jpg', '101101.jpg', '101503.jpg', '101504.jpg', '101401.jpg', '101502.jpg', '101402.jpg', '101501.jpg', '100901.jpg', '100902.jpg', '101403.jpg', '100002.jpg', '101301.jpg'], '100100.jpg': ['100701.jpg', '101701.jpg', '101801.jpg', '100101.jpg', '100601.jpg', '101702.jpg', '100401.jpg', '100502.jpg', '100501.jpg', '100503.jpg', '101201.jpg', '100001.jpg', '100801.jpg', '100902.jpg', '100901.jpg', '100302.jpg', '101101.jpg', '100301.jpg', '100201.jpg', '101404.jpg', '101501.jpg', '101502.jpg', '101504.jpg', '101503.jpg', '101001.jpg', '101401.jpg', '101601.jpg', '101402.jpg', '101403.jpg', '100002.jpg', '101301.jpg'], '100200.jpg': ['100301.jpg', '100302.jpg', '101701.jpg', '101702.jpg', '100701.jpg', '100401.jpg', '100001.jpg', '100503.jpg', '100801.jpg', '100501.jpg', '100201.jpg', '101801.jpg', '100502.jpg', '100101.jpg', '100601.jpg', '101601.jpg', '101201.jpg', '101404.jpg', '101001.jpg', '101101.jpg', '101504.jpg', '101401.jpg', '101502.jpg', '101503.jpg', '101501.jpg', '100902.jpg', '100901.jpg', '101402.jpg', '101403.jpg', '100002.jpg', '101301.jpg'], '100300.jpg': ['100302.jpg', '100301.jpg', '100401.jpg', '100001.jpg', '100503.jpg', '101702.jpg', '100501.jpg', '100801.jpg', '100201.jpg', '101601.jpg', '101701.jpg', '100502.jpg', '101801.jpg', '101001.jpg', '100101.jpg', '101101.jpg', '101201.jpg', '100701.jpg', '101504.jpg', '101404.jpg', '101503.jpg', '101401.jpg', '100601.jpg', '101402.jpg', '101502.jpg', '100901.jpg', '100902.jpg', '101501.jpg', '101403.jpg', '100002.jpg', '101301.jpg'], '100400.jpg': ['100301.jpg', '100302.jpg', '100401.jpg', '100001.jpg', '101702.jpg', '100503.jpg', '101701.jpg', '100501.jpg', '100801.jpg', '100201.jpg', '100502.jpg', '100701.jpg', '101801.jpg', '100101.jpg', '101601.jpg', '100601.jpg', '101201.jpg', '101001.jpg', '101101.jpg', '101404.jpg', '101504.jpg', '101503.jpg', '101401.jpg', '101502.jpg', '101402.jpg', '101501.jpg', '100901.jpg', '100902.jpg', '101403.jpg', '100002.jpg', '101301.jpg'], '100500.jpg': ['100301.jpg', '100302.jpg', '100501.jpg', '100503.jpg', '100001.jpg', '100401.jpg', '100502.jpg', '101702.jpg', '101701.jpg', '100201.jpg', '100801.jpg', '100701.jpg', '101801.jpg', '100101.jpg', '100601.jpg', '101601.jpg', '101201.jpg', '101404.jpg', '101101.jpg', '101001.jpg', '101401.jpg', '101402.jpg', '101503.jpg', '101504.jpg', '101502.jpg', '101501.jpg', '100901.jpg', '100902.jpg', '101403.jpg', '100002.jpg', '101301.jpg'], '100600.jpg': ['100701.jpg', '101701.jpg', '101801.jpg', '100101.jpg', '101702.jpg', '100601.jpg', '100401.jpg', '100502.jpg', '100001.jpg', '100501.jpg', '100801.jpg', '100503.jpg', '101201.jpg', '100302.jpg', '100301.jpg', '100201.jpg', '101404.jpg', '101501.jpg', '101101.jpg', '101502.jpg', '101504.jpg', '101001.jpg', '101503.jpg', '100902.jpg', '100901.jpg', '101601.jpg', '101401.jpg', '101402.jpg', '101403.jpg', '100002.jpg', '101301.jpg'], '100700.jpg': ['100701.jpg', '101701.jpg', '101801.jpg', '100101.jpg', '100601.jpg', '101702.jpg', '100401.jpg', '100001.jpg', '100502.jpg', '100503.jpg', '100501.jpg', '100801.jpg', '100302.jpg', '101201.jpg', '100301.jpg', '101404.jpg', '100201.jpg', '101501.jpg', '101502.jpg', '101101.jpg', '101504.jpg', '101001.jpg', '101503.jpg', '101402.jpg', '101401.jpg', '100901.jpg', '100902.jpg', '100002.jpg', '101601.jpg', '101403.jpg', '101301.jpg'], '100800.jpg': ['100701.jpg', '101702.jpg', '101701.jpg', '100801.jpg', '100301.jpg', '100302.jpg', '100401.jpg', '101801.jpg', '100001.jpg', '100503.jpg', '100101.jpg', '100201.jpg', '100501.jpg', '100601.jpg', '100502.jpg', '101201.jpg', '101404.jpg', '101601.jpg', '101503.jpg', '101504.jpg', '101101.jpg', '101001.jpg', '100901.jpg', '101401.jpg', '101502.jpg', '100902.jpg', '101501.jpg', '101402.jpg', '101403.jpg', '100002.jpg', '101301.jpg'], '100900.jpg': ['100902.jpg', '100901.jpg', '101504.jpg', '101503.jpg', '101101.jpg', '101201.jpg', '101501.jpg', '101502.jpg', '100101.jpg', '100801.jpg', '100201.jpg', '100601.jpg', '101001.jpg', '101401.jpg', '101404.jpg', '101601.jpg', '100001.jpg', '101801.jpg', '101402.jpg', '100502.jpg', '101702.jpg', '100503.jpg', '100501.jpg', '101701.jpg', '100002.jpg', '100401.jpg', '100302.jpg', '100301.jpg', '101403.jpg', '101301.jpg', '100701.jpg'], '101000.jpg': ['100902.jpg', '100901.jpg', '101504.jpg', '100601.jpg', '101101.jpg', '101503.jpg', '101001.jpg', '101501.jpg', '101201.jpg', '101502.jpg', '100101.jpg', '100701.jpg', '101801.jpg', '101701.jpg', '101702.jpg', '100801.jpg', '100201.jpg', '101404.jpg', '101401.jpg', '100301.jpg', '100302.jpg', '100401.jpg', '100001.jpg', '100502.jpg', '100501.jpg', '101601.jpg', '100503.jpg', '101402.jpg', '101403.jpg', '101301.jpg', '100002.jpg'], '101100.jpg': ['100902.jpg', '100901.jpg', '100601.jpg', '101101.jpg', '100701.jpg', '100101.jpg', '101201.jpg', '101701.jpg', '101801.jpg', '101702.jpg', '101504.jpg', '101503.jpg', '101001.jpg', '100401.jpg', '100001.jpg', '100201.jpg', '100801.jpg', '101404.jpg', '101501.jpg', '100502.jpg', '101502.jpg', '100302.jpg', '100503.jpg', '100501.jpg', '100301.jpg', '101601.jpg', '101401.jpg', '101402.jpg', '101403.jpg', '100002.jpg', '101301.jpg'], '101200.jpg': ['101701.jpg', '101801.jpg', '100701.jpg', '101702.jpg', '101201.jpg', '100101.jpg', '100401.jpg', '100501.jpg', '100001.jpg', '100601.jpg', '100503.jpg', '100302.jpg', '100301.jpg', '100502.jpg', '100201.jpg', '100801.jpg', '101503.jpg', '101504.jpg', '101404.jpg', '101502.jpg', '101001.jpg', '101101.jpg', '101501.jpg', '100902.jpg', '100901.jpg', '101601.jpg', '101401.jpg', '101402.jpg', '101403.jpg', '100002.jpg', '101301.jpg'], '101300.jpg': ['100902.jpg', '101504.jpg', '100901.jpg', '101503.jpg', '101501.jpg', '101101.jpg', '101001.jpg', '101201.jpg', '101502.jpg', '101401.jpg', '100101.jpg', '100801.jpg', '101404.jpg', '101801.jpg', '100201.jpg', '100601.jpg', '100001.jpg', '100302.jpg', '101402.jpg', '100503.jpg', '101702.jpg', '101601.jpg', '100501.jpg', '100002.jpg', '100301.jpg', '100401.jpg', '101403.jpg', '100502.jpg', '101701.jpg', '101301.jpg', '100701.jpg'], '101400.jpg': ['101404.jpg', '101401.jpg', '101402.jpg', '100201.jpg', '101503.jpg', '101403.jpg', '101504.jpg', '101001.jpg', '100502.jpg', '100301.jpg', '100801.jpg', '100302.jpg', '101501.jpg', '100503.jpg', '100401.jpg', '100001.jpg', '101801.jpg', '101601.jpg', '100501.jpg', '101702.jpg', '101502.jpg', '101701.jpg', '101101.jpg', '100902.jpg', '100601.jpg', '100101.jpg', '101201.jpg', '100901.jpg', '100701.jpg', '100002.jpg', '101301.jpg'], '101500.jpg': ['100902.jpg', '100901.jpg', '101504.jpg', '101503.jpg', '101501.jpg', '101502.jpg', '101201.jpg', '100101.jpg', '100601.jpg', '100701.jpg', '101801.jpg', '101101.jpg', '101404.jpg', '101701.jpg', '101001.jpg', '100801.jpg', '100201.jpg', '101702.jpg', '101401.jpg', '100502.jpg', '100001.jpg', '100401.jpg', '100501.jpg', '100503.jpg', '101601.jpg', '100302.jpg', '100301.jpg', '101402.jpg', '101403.jpg', '100002.jpg', '101301.jpg'], '101600.jpg': ['100302.jpg', '100301.jpg', '101601.jpg', '100801.jpg', '100201.jpg', '100001.jpg', '100401.jpg', '101702.jpg', '101001.jpg', '101504.jpg', '100503.jpg', '100901.jpg', '100902.jpg', '101101.jpg', '101503.jpg', '101701.jpg', '100501.jpg', '101401.jpg', '101201.jpg', '101502.jpg', '101404.jpg', '100101.jpg', '100502.jpg', '101501.jpg', '101801.jpg', '101402.jpg', '100601.jpg', '101403.jpg', '100701.jpg', '100002.jpg', '101301.jpg'], '101700.jpg': ['100701.jpg', '101701.jpg', '101801.jpg', '101702.jpg', '100101.jpg', '100401.jpg', '100601.jpg', '100001.jpg', '100801.jpg', '100302.jpg', '100301.jpg', '100503.jpg', '100501.jpg', '100502.jpg', '101201.jpg', '100201.jpg', '101404.jpg', '101601.jpg', '101504.jpg', '101501.jpg', '101502.jpg', '101101.jpg', '101001.jpg', '101503.jpg', '101401.jpg', '100902.jpg', '100901.jpg', '101402.jpg', '100002.jpg', '101403.jpg', '101301.jpg'], '101800.jpg': ['100701.jpg', '101701.jpg', '101801.jpg', '101702.jpg', '100101.jpg', '100601.jpg', '100401.jpg', '100503.jpg', '100001.jpg', '100501.jpg', '100502.jpg', '100801.jpg', '100302.jpg', '100301.jpg', '101201.jpg', '100201.jpg', '101404.jpg', '101101.jpg', '101501.jpg', '101504.jpg', '101502.jpg', '101001.jpg', '101503.jpg', '100901.jpg', '100902.jpg', '101601.jpg', '101401.jpg', '101402.jpg', '100002.jpg', '101403.jpg', '101301.jpg']}\n",
            "0.4182140958456748\n"
          ]
        }
      ],
      "source": [
        "index = BoW('clust/clust_flickr60_k200.fvecs')\n",
        "index.build_db(train_names, train_desc)\n",
        "results, mAP = index.compute_mAP(query_names, query_desc, 'holidays_mini/holidays_images.dat')\n",
        "print(results)\n",
        "print(mAP)"
      ],
      "id": "1661e449"
    },
    {
      "cell_type": "markdown",
      "metadata": {
        "id": "a5046a9c"
      },
      "source": [
        "**Q8**: In the following cell compute the resulting mAP of the system **using the vocabularies of 200, 2K, 20K and 200K visual words**:"
      ],
      "id": "a5046a9c"
    },
    {
      "cell_type": "code",
      "execution_count": null,
      "metadata": {
        "colab": {
          "base_uri": "https://localhost:8080/"
        },
        "id": "xJskqoTp7y52",
        "outputId": "b8c0c29a-afef-440a-9a18-887e69b6baa2"
      },
      "outputs": [
        {
          "name": "stdout",
          "output_type": "stream",
          "text": [
            "train_time_200 %s seconds:  0.18150591850280762\n",
            "train_time_2K %s seconds:  0.22452139854431152\n",
            "train_time_20K %s seconds:  0.8050169944763184\n",
            "train_time_200K %s seconds:  5.4036030769348145\n"
          ]
        }
      ],
      "source": [
        "import time\n",
        "\n",
        "mAP_200  = 0.0\n",
        "mAP_2K   = 0.0\n",
        "mAP_20K  = 0.0\n",
        "mAP_200K = 0.0\n",
        "\n",
        "start_time = time.time()\n",
        "index_200 = BoW('clust/clust_flickr60_k200.fvecs')\n",
        "index_200.build_db(train_names[0:14], train_desc[0:14])\n",
        "train_time_200 = time.time() - start_time\n",
        "print(\"train_time_200 %s seconds: \", train_time_200)\n",
        "results_200, mAP_200 = index_200.compute_mAP(query_names, query_desc, 'holidays_mini/holidays_images.dat')\n",
        "\n",
        "start_time = time.time()\n",
        "index_2K = BoW('clust/clust_flickr60_k2000.fvecs')\n",
        "index_2K.build_db(train_names[0:14], train_desc[0:14])\n",
        "train_time_2K = time.time() - start_time\n",
        "print(\"train_time_2K %s seconds: \", train_time_2K)\n",
        "results_2K, mAP_2K = index_2K.compute_mAP(query_names, query_desc, 'holidays_mini/holidays_images.dat')\n",
        "\n",
        "start_time = time.time()\n",
        "index_20K = BoW('clust/clust_flickr60_k20000.fvecs')\n",
        "index_20K.build_db(train_names[0:14], train_desc[0:14])\n",
        "train_time_20K = time.time() - start_time\n",
        "print(\"train_time_20K %s seconds: \", train_time_20K)\n",
        "results_20K, mAP_20K = index_20K.compute_mAP(query_names, query_desc, 'holidays_mini/holidays_images.dat')\n",
        "\n",
        "start_time = time.time()\n",
        "index_200K = BoW('clust/clust_flickr60_k200000.fvecs')\n",
        "index_200K.build_db(train_names[0:14], train_desc[0:14])\n",
        "train_time_200K = time.time() - start_time\n",
        "print(\"train_time_200K %s seconds: \", train_time_200K)\n",
        "results_200K, mAP_200K = index_200K.compute_mAP(query_names, query_desc, 'holidays_mini/holidays_images.dat')"
      ],
      "id": "xJskqoTp7y52"
    },
    {
      "cell_type": "markdown",
      "metadata": {
        "id": "5e818e7c"
      },
      "source": [
        "**Q9**: Compare the performances obtained on each case. Is a larger vocabulary size always better? Why or why not?"
      ],
      "id": "5e818e7c"
    },
    {
      "cell_type": "code",
      "execution_count": null,
      "metadata": {
        "id": "nbsBU9h8SEgx"
      },
      "outputs": [],
      "source": [
        "mAP_bow = [mAP_200, mAP_2K, mAP_20K, mAP_200K]\n",
        "labels_bow = [\"mAP_200\", \"mAP_2K\", \"mAP_20K\", \"mAP_200K\"]"
      ],
      "id": "nbsBU9h8SEgx"
    },
    {
      "cell_type": "code",
      "execution_count": null,
      "metadata": {
        "colab": {
          "base_uri": "https://localhost:8080/",
          "height": 472
        },
        "id": "6NtCcL24SDN5",
        "outputId": "1ec47def-42e2-4df1-f0bf-90a7bf192c74"
      },
      "outputs": [
        {
          "data": {
            "image/png": "[encoded data removed]",
            "text/plain": [
              "<Figure size 640x480 with 1 Axes>"
            ]
          },
          "metadata": {},
          "output_type": "display_data"
        }
      ],
      "source": [
        "plot_chart(mAP_bow, labels_bow, \"mAP for bow\", \"different vocabs\", \"mAP\")"
      ],
      "id": "6NtCcL24SDN5"
    },
    {
      "cell_type": "markdown",
      "metadata": {
        "id": "7b582757"
      },
      "source": [
        "**Q10**: Analyze the effect of the vocabulary size in terms of mAP and average response time (train and query times). Are these times constant for each vocabulary? Some plots here can be useful to justify your answer."
      ],
      "id": "7b582757"
    },
    {
      "cell_type": "code",
      "execution_count": null,
      "metadata": {
        "colab": {
          "base_uri": "https://localhost:8080/"
        },
        "id": "FRElGwsj_-8e",
        "outputId": "9475c459-25e9-4907-a6d9-c772c56d13a7"
      },
      "outputs": [
        {
          "name": "stdout",
          "output_type": "stream",
          "text": [
            "avg_time_200: 0.014 seconds\n",
            "avg_time_2K: 0.018 seconds\n",
            "avg_time_20K: 0.040 seconds\n",
            "avg_time_200K: 0.109 seconds\n"
          ]
        }
      ],
      "source": [
        "# Initialize a variable to store the total time taken\n",
        "total_time_200 = 0\n",
        "total_time_2K = 0\n",
        "total_time_20K = 0\n",
        "total_time_200K = 0\n",
        "# Define the number of queries to run\n",
        "num_queries = 10\n",
        "\n",
        "# Loop through the queries\n",
        "for i in range(num_queries):\n",
        "    # Time how long the search takes\n",
        "    start_time_200 = time.time()\n",
        "    results_200 = index_200.search_image(query_desc[i])\n",
        "    end_time_200 = time.time()\n",
        "\n",
        "    start_time_2K = time.time()\n",
        "    results_2K = index_2K.search_image(query_desc[i])\n",
        "    end_time_2K = time.time()\n",
        "\n",
        "    start_time_20K = time.time()\n",
        "    results_20K = index_20K.search_image(query_desc[i])\n",
        "    end_time_20K = time.time()\n",
        "\n",
        "    start_time_200K = time.time()\n",
        "    results_200K = index_200K.search_image(query_desc[i])\n",
        "    end_time_200K = time.time()\n",
        "\n",
        "    # Add the time taken to the total\n",
        "    total_time_200 += (end_time_200 - start_time_200)\n",
        "    total_time_2K += (end_time_2K - start_time_2K)\n",
        "    total_time_20K += (end_time_20K - start_time_20K)\n",
        "    total_time_200K += (end_time_200K - start_time_200K)\n",
        "\n",
        "# Compute the average time taken\n",
        "avg_time_200 = total_time_200 / num_queries\n",
        "avg_time_2K = total_time_2K / num_queries\n",
        "avg_time_20K = total_time_20K / num_queries\n",
        "avg_time_200K = total_time_200K / num_queries\n",
        "\n",
        "print(\"avg_time_200: {:.3f} seconds\".format(avg_time_200))\n",
        "print(\"avg_time_2K: {:.3f} seconds\".format(avg_time_2K))\n",
        "print(\"avg_time_20K: {:.3f} seconds\".format(avg_time_20K))\n",
        "print(\"avg_time_200K: {:.3f} seconds\".format(avg_time_200K))"
      ],
      "id": "FRElGwsj_-8e"
    },
    {
      "cell_type": "code",
      "execution_count": null,
      "metadata": {
        "colab": {
          "base_uri": "https://localhost:8080/",
          "height": 472
        },
        "id": "lNO5lFdPTH8t",
        "outputId": "9207f14a-bf04-4143-ff77-26d192d0ca19"
      },
      "outputs": [
        {
          "data": {
            "image/png": "[encoded data removed]",
            "text/plain": [
              "<Figure size 640x480 with 1 Axes>"
            ]
          },
          "metadata": {},
          "output_type": "display_data"
        }
      ],
      "source": [
        "training_time_bow = [train_time_200, train_time_2K, train_time_20K, train_time_200K]\n",
        "plot_chart(training_time_bow, labels_bow, \"Train times for bow\", \"different vocabs\", \"train times\")"
      ],
      "id": "lNO5lFdPTH8t"
    },
    {
      "cell_type": "code",
      "execution_count": null,
      "metadata": {
        "colab": {
          "base_uri": "https://localhost:8080/",
          "height": 472
        },
        "id": "4_bHciDmUzV9",
        "outputId": "a30b794e-6b77-4d4c-8c94-7fe6c9ebd9a9"
      },
      "outputs": [
        {
          "data": {
            "image/png": "[encoded data removed]",
            "text/plain": [
              "<Figure size 640x480 with 1 Axes>"
            ]
          },
          "metadata": {},
          "output_type": "display_data"
        }
      ],
      "source": [
        "avg_query_times_bow = [avg_time_200, avg_time_2K, avg_time_20K, avg_time_200K]\n",
        "plot_chart(avg_query_times_bow, labels_bow, \"Average query time for bow\", \"different vocabs\", \"query times\")"
      ],
      "id": "4_bHciDmUzV9"
    },
    {
      "cell_type": "markdown",
      "metadata": {
        "id": "b98f5416"
      },
      "source": [
        "**Q11**: Do the results obtained depend on the set of images used to generate the vocabulary? How can we improve the retrieval performance?"
      ],
      "id": "b98f5416"
    },
    {
      "cell_type": "markdown",
      "metadata": {
        "id": "qCxbt4UYCMPo"
      },
      "source": [
        "Yes, the results obtained with bag-of-words (BoW) depend on the set of images used to generate the vocabulary. The quality of the vocabulary strongly affects the performance of the retrieval system. A vocabulary generated from a diverse and representative set of images is likely to produce better results than a vocabulary generated from a small or biased set of images.\n",
        "\n",
        "To improve the retrieval performance with BoW, there are several strategies that can be employed:\n",
        "\n",
        "Increase the size of the vocabulary: Using a larger vocabulary with more visual words can increase the discriminative power of the representation, allowing for more accurate retrieval results. However, this comes at the cost of increased computational complexity and memory usage.\n",
        "\n",
        "1) Use a more diverse set of images to generate the vocabulary: Using a larger and more diverse set of training images can improve the quality of the visual vocabulary, allowing for better representation of the visual features in the query images.\n",
        "\n",
        "2) Fine-tune the vocabulary on a specific dataset: Fine-tuning the visual vocabulary on a specific dataset can further improve the performance of the retrieval system by adapting the vocabulary to the specific features present in the dataset.\n",
        "\n",
        "3) Use more advanced techniques, such as  deep learning-based methods, to improve the representation of the images and capture more complex visual relationships. These techniques can further improve the retrieval performance beyond what can be achieved with traditional BoW methods."
      ],
      "id": "qCxbt4UYCMPo"
    },
    {
      "cell_type": "markdown",
      "metadata": {
        "id": "28efbead"
      },
      "source": [
        "### TF-IDF\n",
        "As a final task of this assignment, let's implement the TF-IDF scoring scheme. Modify the `BoW` class you wrote before to include the TF-IDF weighting scheme:"
      ],
      "id": "28efbead"
    },
    {
      "cell_type": "code",
      "execution_count": null,
      "metadata": {
        "id": "593cafcc"
      },
      "outputs": [],
      "source": [
        "class BoW_TFIDF:\n",
        "    \"\"\"\n",
        "    Class to implement the BoW model + Inverted File + TF-IDF Scoring scheme\n",
        "    \"\"\"\n",
        "  \n",
        "    def __init__(self, vocab_file):\n",
        "        \"\"\"\n",
        "        Class constructor. It loads the vocabulary and initializes other stuff\n",
        "        required for the CBIR system, such as the inverted file structure.\n",
        "        \"\"\"\n",
        "        self.vocab = rd.load_visual_vocab(vocab_file)\n",
        "        self.nwords = self.vocab.getTrainDescriptors()[0].shape[0]\n",
        "        self.train_names = []\n",
        "        self.inv_list = {word_id: {} for word_id in range(self.nwords)}        \n",
        "        self.tfidf = {}\n",
        "\n",
        "    def build_db(self, img_names, img_descs):\n",
        "        \"\"\"\n",
        "        Build an index from a set of images. Essentially, for each image, you should\n",
        "        search its descriptors in the index in order to find the closest visual words\n",
        "        and fill the inverted file structure consequently. Additionally, TF and IDF terms\n",
        "        should be computed here.\n",
        "    \n",
        "        - img_names: An ordered list with the names of the train images\n",
        "        - img_descs: A list containing numpy arrays. Each numpy array i corresponds \n",
        "          to the descriptors found at image i\n",
        "        \"\"\"\n",
        "        n_imgs = len(img_names)\n",
        "        for i in range(n_imgs):\n",
        "            img_desc = img_descs[i]\n",
        "            visual_words = self.vocab.knnMatch(img_desc, k=1)\n",
        "            bow_hist = np.zeros(self.nwords)\n",
        "\n",
        "            for vw in visual_words:\n",
        "                word_id = vw[0].trainIdx\n",
        "                bow_hist[word_id] += 1\n",
        "\n",
        "            # Compute the word frequency (TF) for each image\n",
        "            # It is a measure of how frequently a word_id appears in the image:\n",
        "            bow_hist_freq = bow_hist/len(img_desc)\n",
        "            for word_id, word_freq in enumerate(bow_hist_freq):\n",
        "                if word_freq > 0:\n",
        "                    self.inv_list[word_id][img_names[i]] = word_freq\n",
        "\n",
        "        for i in range(n_imgs):\n",
        "            # Compute the inverse document frequency (IDF) for each word\n",
        "            # IDF(word_id=1) =  log(number of images/number of images containing the desc word_id=1) \n",
        "            idf = np.zeros(self.nwords)\n",
        "            for word_id in range(self.nwords):\n",
        "                n_docs = len(self.inv_list[word_id])\n",
        "                idf[word_id] = math.log10(n_imgs / n_docs) if n_docs > 0 else 0.0\n",
        "\n",
        "            # Compute the TF-IDF for each word in the image\n",
        "            # TF-IDF(word_id=1, image_names[0]) = TF(word_id=1, image_names[0]) * IDF(word_id=1)\n",
        "            tfidf_hist = bow_hist * idf\n",
        "\n",
        "            # Add the TF-IDF histogram to the self.tfidf dictionary\n",
        "            self.tfidf[img_names[i]] = tfidf_hist\n",
        "            \n",
        "    def search_image(self, descs):\n",
        "        \"\"\"\n",
        "        Search an image in the index. Use the TF-IDF here when scoring the images.\n",
        "      \n",
        "        - descs: A numpy array. It is the set descriptors extracted from the query image.\n",
        "    \n",
        "        RETURN:\n",
        "        - An ordered list of similar images, e.g.: ['100101.jpg', '100202.jpg', ...]\n",
        "        \"\"\"\n",
        "        visual_words = self.vocab.knnMatch(descs, k=1)\n",
        "        bow_hist = np.zeros(self.nwords)\n",
        "\n",
        "        for vw in visual_words:\n",
        "            word_id = vw[0].trainIdx\n",
        "            bow_hist[word_id] += 1\n",
        "\n",
        "        bow_hist /= len(descs)\n",
        "\n",
        "        # Compute the TF-IDF score for each image in the index\n",
        "        scores = {}\n",
        "        for word_id, word_count in enumerate(bow_hist):\n",
        "            if word_count == 0:\n",
        "                continue\n",
        "            for image_id, idf in self.inv_list[word_id].items():\n",
        "                if image_id not in scores:\n",
        "                    scores[image_id] = 0\n",
        "                scores[image_id] += word_count * self.tfidf[image_id][word_id]\n",
        "\n",
        "        sorted_images = sorted(scores, key=scores.get, reverse=True)\n",
        "        return sorted_images\n",
        "\n",
        "        \n",
        "    def compute_mAP(self, query_names, query_descs, gt_file):\n",
        "        \"\"\"\n",
        "        Perform a search for a list of query images against the database and evaluates\n",
        "        the performance of the system.\n",
        "        \n",
        "        - query_names: An ordered list with the names of query images\n",
        "        - query_descs: A list containing numpy arrays of size (ndesc_for_this_image, 128). \n",
        "              Each numpy array i corresponds to the descriptors found at image i.\n",
        "\n",
        "        RETURN:\n",
        "        - total_results: A dictionary containing, for each query image, an ordered list of the retrieved images.\n",
        "        - m_ap: Mean Average Precision averaged over all queries.\n",
        "        \"\"\"\n",
        "        total_results = {}\n",
        "        m_ap = 0.0\n",
        "          \n",
        "        for qname, qdesc in zip(query_names, query_desc):\n",
        "            results = self.search_image(qdesc)\n",
        "            total_results[qname] = results\n",
        "        \n",
        "        m_ap = ev.compute_mAP(total_results, gt_file)\n",
        "        return total_results, m_ap"
      ],
      "id": "593cafcc"
    },
    {
      "cell_type": "code",
      "execution_count": null,
      "metadata": {
        "colab": {
          "base_uri": "https://localhost:8080/"
        },
        "id": "b50bb6a4",
        "outputId": "b09544c5-769a-4da8-d94d-5415dc33cca5"
      },
      "outputs": [
        {
          "name": "stdout",
          "output_type": "stream",
          "text": [
            "['100002.jpg', '100001.jpg']\n"
          ]
        }
      ],
      "source": [
        "# Example of use\n",
        "index_200 = BoW_TFIDF('clust/clust_flickr60_k200.fvecs')\n",
        "index_200.build_db(train_names[0:2], train_desc[0:2])\n",
        "res = index_200.search_image(query_desc[0])\n",
        "print(res)"
      ],
      "id": "b50bb6a4"
    },
    {
      "cell_type": "code",
      "execution_count": null,
      "metadata": {
        "id": "vM9P_cNJNu6n"
      },
      "outputs": [],
      "source": [
        "index_200 = BoW_TFIDF('clust/clust_flickr60_k200000.fvecs')\n",
        "index_200.build_db(train_names, train_desc)\n",
        "_, mAP_200 = index_200.compute_mAP(query_names, query_desc, 'holidays_mini/holidays_images.dat')"
      ],
      "id": "vM9P_cNJNu6n"
    },
    {
      "cell_type": "code",
      "execution_count": null,
      "metadata": {
        "colab": {
          "base_uri": "https://localhost:8080/"
        },
        "id": "kj6EQSo3vqrl",
        "outputId": "cd006c55-ba36-4663-a2f6-0c80ee69da54"
      },
      "outputs": [
        {
          "name": "stdout",
          "output_type": "stream",
          "text": [
            "0.3172943499568886\n"
          ]
        }
      ],
      "source": [
        "print(mAP_200)"
      ],
      "id": "kj6EQSo3vqrl"
    },
    {
      "cell_type": "markdown",
      "metadata": {
        "id": "a554f0a8"
      },
      "source": [
        "**Q12**: In the following cell compute the resulting mAP of the system **using the vocabularies of 200, 2K, 20K and 200K visual words**:"
      ],
      "id": "a554f0a8"
    },
    {
      "cell_type": "code",
      "execution_count": null,
      "metadata": {
        "id": "n_mDvPLlXdhB"
      },
      "outputs": [],
      "source": [
        "import time\n",
        "\n",
        "mAP_200  = 0.0\n",
        "mAP_2K   = 0.0\n",
        "mAP_20K  = 0.0\n",
        "mAP_200K = 0.0\n",
        "\n",
        "start_time = time.time()\n",
        "index_200 = BoW_TFIDF('clust/clust_flickr60_k200.fvecs')\n",
        "index_200.build_db(train_names[0:14], train_desc[0:14])\n",
        "train_time_200 = time.time() - start_time\n",
        "results_200, mAP_200 = index_200.compute_mAP(query_names, query_desc, 'holidays_mini/holidays_images.dat')\n",
        "\n",
        "start_time = time.time()\n",
        "index_2K = BoW_TFIDF('clust/clust_flickr60_k2000.fvecs')\n",
        "index_2K.build_db(train_names[0:14], train_desc[0:14])\n",
        "train_time_2K = time.time() - start_time\n",
        "results_2K, mAP_2K = index_2K.compute_mAP(query_names, query_desc, 'holidays_mini/holidays_images.dat')\n",
        "\n",
        "start_time = time.time()\n",
        "index_20K = BoW_TFIDF('clust/clust_flickr60_k20000.fvecs')\n",
        "index_20K.build_db(train_names[0:14], train_desc[0:14])\n",
        "train_time_20K = time.time() - start_time\n",
        "results_20K, mAP_20K = index_20K.compute_mAP(query_names, query_desc, 'holidays_mini/holidays_images.dat')\n",
        "\n",
        "start_time = time.time()\n",
        "index_200K = BoW_TFIDF('clust/clust_flickr60_k200000.fvecs')\n",
        "index_200K.build_db(train_names[0:14], train_desc[0:14])\n",
        "train_time_200K = time.time() - start_time\n",
        "results_200K, mAP_200K = index_200K.compute_mAP(query_names, query_desc, 'holidays_mini/holidays_images.dat')"
      ],
      "id": "n_mDvPLlXdhB"
    },
    {
      "cell_type": "code",
      "execution_count": null,
      "metadata": {
        "colab": {
          "base_uri": "https://localhost:8080/"
        },
        "id": "ba4761f6",
        "outputId": "8a39d825-3c88-48d4-91d7-22a0f2772b9e"
      },
      "outputs": [
        {
          "name": "stdout",
          "output_type": "stream",
          "text": [
            "mAP 200: 0.17179\n",
            "mAP 2K: 0.28028\n",
            "mAP 20K: 0.28354\n",
            "mAP 200K: 0.28731\n"
          ]
        }
      ],
      "source": [
        "print('mAP 200: %.5f' % mAP_200)\n",
        "print('mAP 2K: %.5f' % mAP_2K)\n",
        "print('mAP 20K: %.5f' % mAP_20K)\n",
        "print('mAP 200K: %.5f' % mAP_200K)"
      ],
      "id": "ba4761f6"
    },
    {
      "cell_type": "markdown",
      "metadata": {
        "id": "1aa3cf87"
      },
      "source": [
        "**Q13:** Compare the performances obtained on each case. Is a larger vocabulary size always better? Why or why not?"
      ],
      "id": "1aa3cf87"
    },
    {
      "cell_type": "code",
      "execution_count": null,
      "metadata": {
        "colab": {
          "base_uri": "https://localhost:8080/",
          "height": 472
        },
        "id": "gsZyvkUZchj5",
        "outputId": "fb65a7fb-e4a6-4d54-cf1d-46e9f08e8196"
      },
      "outputs": [
        {
          "data": {
            "image/png": "[encoded data removed]",
            "text/plain": [
              "<Figure size 640x480 with 1 Axes>"
            ]
          },
          "metadata": {},
          "output_type": "display_data"
        }
      ],
      "source": [
        "# Data for the bar chart\n",
        "map_scores_bow_TFIDF = [mAP_200, mAP_2K, mAP_20K, mAP_200K]\n",
        "labels = ['mAP_200', 'mAP_2K', 'mAP_20K', 'mAP_200K']\n",
        "\n",
        "plot_chart(map_scores_bow_TFIDF, labels, \"mAP vs Vocab size\", \"Vocab size\", \"mAP\")"
      ],
      "id": "gsZyvkUZchj5"
    },
    {
      "cell_type": "markdown",
      "metadata": {
        "id": "752ac143"
      },
      "source": [
        "**Q14**: Analyze the effect of the vocabulary size in terms of mAP and average response time (train and query times). Are these times constant for each vocabulary? Some plots here can be useful to justify your answer."
      ],
      "id": "752ac143"
    },
    {
      "cell_type": "code",
      "execution_count": null,
      "metadata": {
        "colab": {
          "base_uri": "https://localhost:8080/"
        },
        "id": "R_D3sUXEZ2Vn",
        "outputId": "673b3228-aa20-4f60-bf46-2471cf09a96c"
      },
      "outputs": [
        {
          "name": "stdout",
          "output_type": "stream",
          "text": [
            "training time 200: 0.26077\n",
            "training time 2K: 0.25564\n",
            "training time 20K: 0.75954\n",
            "training time 200K: 4.61847\n"
          ]
        }
      ],
      "source": [
        "print('training time 200: %.5f' % train_time_200)\n",
        "print('training time 2K: %.5f' % train_time_2K)\n",
        "print('training time 20K: %.5f' % train_time_20K)\n",
        "print('training time 200K: %.5f' % train_time_200K)"
      ],
      "id": "R_D3sUXEZ2Vn"
    },
    {
      "cell_type": "code",
      "execution_count": null,
      "metadata": {
        "colab": {
          "base_uri": "https://localhost:8080/",
          "height": 472
        },
        "id": "CL8_qIrucIRP",
        "outputId": "bdffa3df-c49c-470d-8d94-80bd73d86f9a"
      },
      "outputs": [
        {
          "data": {
            "image/png": "[encoded data removed]",
            "text/plain": [
              "<Figure size 640x480 with 1 Axes>"
            ]
          },
          "metadata": {},
          "output_type": "display_data"
        }
      ],
      "source": [
        "# Data for the bar chart\n",
        "train_times_bow_TFIDF = [train_time_200, train_time_2K, train_time_20K, train_time_200K]\n",
        "labels = ['train_time_200', 'train_time_2K', 'train_time_20K', 'train_time_200K']\n",
        "\n",
        "plot_chart(train_times_bow_TFIDF, labels, \"bow_TFIDF Training Time vs Vocab size\", \"Vocab size\", \"Time taken\")"
      ],
      "id": "CL8_qIrucIRP"
    },
    {
      "cell_type": "code",
      "execution_count": null,
      "metadata": {
        "colab": {
          "base_uri": "https://localhost:8080/"
        },
        "id": "YoCi8dtMXQ_d",
        "outputId": "42abd5ed-7929-4add-d679-742c342c08e1"
      },
      "outputs": [
        {
          "name": "stdout",
          "output_type": "stream",
          "text": [
            "avg_time_200: 0.022 seconds\n",
            "avg_time_2K: 0.029 seconds\n",
            "avg_time_20K: 0.056 seconds\n",
            "avg_time_200K: 0.189 seconds\n"
          ]
        }
      ],
      "source": [
        "# Initialize a variable to store the total time taken\n",
        "total_time_200 = 0\n",
        "total_time_2K = 0\n",
        "total_time_20K = 0\n",
        "total_time_200K = 0\n",
        "# Define the number of queries to run\n",
        "num_queries = 10\n",
        "\n",
        "# Loop through the queries\n",
        "for i in range(num_queries):\n",
        "    # Time how long the search takes\n",
        "    start_time_200 = time.time()\n",
        "    results_200 = index_200.search_image(query_desc[i])\n",
        "    end_time_200 = time.time()\n",
        "\n",
        "    start_time_2K = time.time()\n",
        "    results_2K = index_2K.search_image(query_desc[i])\n",
        "    end_time_2K = time.time()\n",
        "\n",
        "    start_time_20K = time.time()\n",
        "    results_20K = index_20K.search_image(query_desc[i])\n",
        "    end_time_20K = time.time()\n",
        "\n",
        "    start_time_200K = time.time()\n",
        "    results_200K = index_200K.search_image(query_desc[i])\n",
        "    end_time_200K = time.time()\n",
        "\n",
        "    # Add the time taken to the total\n",
        "    total_time_200 += (end_time_200 - start_time_200)\n",
        "    total_time_2K += (end_time_2K - start_time_2K)\n",
        "    total_time_20K += (end_time_20K - start_time_20K)\n",
        "    total_time_200K += (end_time_200K - start_time_200K)\n",
        "\n",
        "# Compute the average time taken\n",
        "avg_time_200 = total_time_200 / num_queries\n",
        "avg_time_2K = total_time_2K / num_queries\n",
        "avg_time_20K = total_time_20K / num_queries\n",
        "avg_time_200K = total_time_200K / num_queries\n",
        "\n",
        "print(\"avg_time_200: {:.3f} seconds\".format(avg_time_200))\n",
        "print(\"avg_time_2K: {:.3f} seconds\".format(avg_time_2K))\n",
        "print(\"avg_time_20K: {:.3f} seconds\".format(avg_time_20K))\n",
        "print(\"avg_time_200K: {:.3f} seconds\".format(avg_time_200K))"
      ],
      "id": "YoCi8dtMXQ_d"
    },
    {
      "cell_type": "code",
      "execution_count": null,
      "metadata": {
        "colab": {
          "base_uri": "https://localhost:8080/",
          "height": 472
        },
        "id": "swsHf0Vfbqyd",
        "outputId": "ffc9a2f6-92d3-4758-e61a-353cbfd125bd"
      },
      "outputs": [
        {
          "data": {
            "image/png": "[encoded data removed]",
            "text/plain": [
              "<Figure size 640x480 with 1 Axes>"
            ]
          },
          "metadata": {},
          "output_type": "display_data"
        }
      ],
      "source": [
        "# Data for the bar chart\n",
        "avg_time_bow_TFIDF = [avg_time_200, avg_time_2K, avg_time_20K, avg_time_200K]\n",
        "labels = ['avg_time_200', 'avg_time_2K', 'avg_time_20K', 'avg_time_200K']\n",
        "\n",
        "plot_chart(avg_time_bow_TFIDF, labels, \"Average Query Time vs Vocab size\", \"Vocab size\", \"Average Query Time\")"
      ],
      "id": "swsHf0Vfbqyd"
    },
    {
      "cell_type": "markdown",
      "metadata": {
        "id": "efc83c87"
      },
      "source": [
        "**Q15**: Do the results obtained depend on the set of images used to generate the vocabulary? How can we improve the retrieval performance?"
      ],
      "id": "efc83c87"
    },
    {
      "cell_type": "markdown",
      "metadata": {
        "id": "61429d22"
      },
      "source": [
        "Write here the code required to answer the questions stated above. You can add more cells (code / markdown) at this point if you need it."
      ],
      "id": "61429d22"
    },
    {
      "cell_type": "markdown",
      "metadata": {
        "id": "6465cfb0"
      },
      "source": [
        "**Q16:** How does TF-IDF affect the performance? Better or worse? Does this make sense?"
      ],
      "id": "6465cfb0"
    },
    {
      "cell_type": "code",
      "execution_count": null,
      "metadata": {
        "id": "P633c7_9YGC6"
      },
      "outputs": [],
      "source": [
        "x_labels = ['BoW_200', 'BoW_2K', 'BoW_20K', 'BoW_200K', 'BoW_TFIDF_200', 'BoW_TFIDF_2K', 'BoW_TFIDF_20K', 'BoW_TFIDF_200K']"
      ],
      "id": "P633c7_9YGC6"
    },
    {
      "cell_type": "code",
      "execution_count": null,
      "metadata": {
        "colab": {
          "base_uri": "https://localhost:8080/"
        },
        "id": "kykPjzpGaUhP",
        "outputId": "6d983a60-becf-4036-b5b4-ca2159d4c1f3"
      },
      "outputs": [
        {
          "name": "stdout",
          "output_type": "stream",
          "text": [
            "[0.25269423558897247, 0.3799916457811195, 0.3368648894964684, 0.376479660690187]\n"
          ]
        }
      ],
      "source": [
        "print(map_scores_bow_TFIDF)"
      ],
      "id": "kykPjzpGaUhP"
    },
    {
      "cell_type": "markdown",
      "metadata": {
        "id": "eVnvLnFRajh5"
      },
      "source": [
        "mAP for bow and bow_TFIDF\n",
        "\n"
      ],
      "id": "eVnvLnFRajh5"
    },
    {
      "cell_type": "code",
      "execution_count": null,
      "metadata": {
        "colab": {
          "base_uri": "https://localhost:8080/",
          "height": 595
        },
        "id": "wJ7aDrbaYE31",
        "outputId": "dccba574-f71e-43b2-d997-b7881107bac8"
      },
      "outputs": [
        {
          "data": {
            "text/plain": [
              "<matplotlib.legend.Legend at 0x7f65e2c62880>"
            ]
          },
          "execution_count": 107,
          "metadata": {},
          "output_type": "execute_result"
        },
        {
          "data": {
            "image/png": "[encoded data removed]",
            "text/plain": [
              "<Figure size 640x480 with 1 Axes>"
            ]
          },
          "metadata": {},
          "output_type": "display_data"
        }
      ],
      "source": [
        "# Create a bar chart with both sets of mAP scores\n",
        "fig, ax = plt.subplots()\n",
        "plt.xticks(rotation=90)\n",
        "ax.bar(x_labels[:4], mAP_bow, label='bow')\n",
        "ax.bar(x_labels[4:], map_scores_bow_TFIDF, label='bow_TFIDF')\n",
        "\n",
        "# Set the chart title, axis labels, and legend\n",
        "ax.set_title('mAP Scores for bow and bow_TFIDF')\n",
        "ax.set_xlabel('Indexing Algorithm')\n",
        "ax.set_ylabel('mAP Score')\n",
        "ax.legend()"
      ],
      "id": "wJ7aDrbaYE31"
    },
    {
      "cell_type": "markdown",
      "metadata": {
        "id": "LLi2C6oKboht"
      },
      "source": [
        "Training time for bow and bow_TFIDF"
      ],
      "id": "LLi2C6oKboht"
    },
    {
      "cell_type": "code",
      "execution_count": null,
      "metadata": {
        "colab": {
          "base_uri": "https://localhost:8080/",
          "height": 595
        },
        "id": "vMtgR1WAaxFG",
        "outputId": "d6197511-b28d-450b-a225-92ab670c0c4f"
      },
      "outputs": [
        {
          "data": {
            "text/plain": [
              "<matplotlib.legend.Legend at 0x7f65ce763eb0>"
            ]
          },
          "execution_count": 108,
          "metadata": {},
          "output_type": "execute_result"
        },
        {
          "data": {
            "image/png": "[encoded data removed]",
            "text/plain": [
              "<Figure size 640x480 with 1 Axes>"
            ]
          },
          "metadata": {},
          "output_type": "display_data"
        }
      ],
      "source": [
        "# Create a bar chart with both sets of mAP scores\n",
        "fig, ax = plt.subplots()\n",
        "plt.xticks(rotation=90)\n",
        "ax.bar(x_labels[:4], training_time_bow, label='bow')\n",
        "ax.bar(x_labels[4:], train_times_bow_TFIDF, label='bow_TFIDF')\n",
        "\n",
        "# Set the chart title, axis labels, and legend\n",
        "ax.set_title('Training times for bow and bow_TFIDF')\n",
        "ax.set_xlabel('Indexing Algorithm')\n",
        "ax.set_ylabel('Training time')\n",
        "ax.legend()"
      ],
      "id": "vMtgR1WAaxFG"
    },
    {
      "cell_type": "markdown",
      "metadata": {
        "id": "HrRUD0_xbvt5"
      },
      "source": [
        "Avg query response times"
      ],
      "id": "HrRUD0_xbvt5"
    },
    {
      "cell_type": "code",
      "execution_count": null,
      "metadata": {
        "colab": {
          "base_uri": "https://localhost:8080/",
          "height": 595
        },
        "id": "ckiWxIkabvC5",
        "outputId": "c9f09879-618a-41c6-a7d7-ecb6aeb565ac"
      },
      "outputs": [
        {
          "data": {
            "text/plain": [
              "<matplotlib.legend.Legend at 0x7f65ceda8460>"
            ]
          },
          "execution_count": 109,
          "metadata": {},
          "output_type": "execute_result"
        },
        {
          "data": {
            "image/png": "[encoded data removed]",
            "text/plain": [
              "<Figure size 640x480 with 1 Axes>"
            ]
          },
          "metadata": {},
          "output_type": "display_data"
        }
      ],
      "source": [
        "# Create a bar chart with both sets of mAP scores\n",
        "fig, ax = plt.subplots()\n",
        "plt.xticks(rotation=90)\n",
        "ax.bar(x_labels[:4], avg_query_times_bow, label='bow')\n",
        "ax.bar(x_labels[4:], avg_time_bow_TFIDF, label='bow_TFIDF')\n",
        "\n",
        "# Set the chart title, axis labels, and legend\n",
        "ax.set_title('Avg query times for bow and bow_TFIDF')\n",
        "ax.set_xlabel('Indexing Algorithm')\n",
        "ax.set_ylabel('Query times')\n",
        "ax.legend()"
      ],
      "id": "ckiWxIkabvC5"
    },
    {
      "cell_type": "markdown",
      "metadata": {
        "id": "8b3b83bc"
      },
      "source": [
        "## Submitting your work\n",
        "\n",
        "**Important**: Please make sure that the submitted notebooks have been run and the cell outputs are visible.\n",
        "\n",
        "**Important**: Please make also sure that you have filled the **NAME** and **DNI** variables at the beginning of the notebook, **using the indicated format**.\n",
        "\n",
        "Once you have filled out the necessary code and you are happy with your solution, **save your notebook** and execute the following cell:"
      ],
      "id": "8b3b83bc"
    },
    {
      "cell_type": "code",
      "execution_count": null,
      "metadata": {
        "id": "0ef0d318"
      },
      "outputs": [],
      "source": [
        "zip_filename = DNI + '_A2.zip'\n",
        "zf = zipfile.ZipFile(zip_filename, mode = 'w')\n",
        "\n",
        "aname = 'submitted/' + DNI + '/A2/Image_Indexing.ipynb'\n",
        "zf.write('Image_Indexing.ipynb', arcname = aname);\n",
        "\n",
        "zf.close()"
      ],
      "id": "0ef0d318"
    },
    {
      "cell_type": "markdown",
      "metadata": {
        "id": "f06aa9d3"
      },
      "source": [
        "This will generate a zip file of your code called `DNI_A2.zip` in the same directory of the assignment. This is the file that you must upload to [Aula Digital](https://uibdigital.uib.es/) to submit your work!"
      ],
      "id": "f06aa9d3"
    },
    {
      "cell_type": "markdown",
      "metadata": {
        "id": "55cb8ca9"
      },
      "source": [
        "---\n",
        "\n",
        "&copy; Emilio Garcia-Fidalgo, University of the Balearic Islands"
      ],
      "id": "55cb8ca9"
    }
  ],
  "metadata": {
    "colab": {
      "provenance": [],
      "include_colab_link": true
    },
    "gpuClass": "standard",
    "kernelspec": {
      "display_name": "Python 3 (ipykernel)",
      "language": "python",
      "name": "python3"
    },
    "language_info": {
      "codemirror_mode": {
        "name": "ipython",
        "version": 3
      },
      "file_extension": ".py",
      "mimetype": "text/x-python",
      "name": "python",
      "nbconvert_exporter": "python",
      "pygments_lexer": "ipython3",
      "version": "3.9.7"
    }
  },
  "nbformat": 4,
  "nbformat_minor": 5
}