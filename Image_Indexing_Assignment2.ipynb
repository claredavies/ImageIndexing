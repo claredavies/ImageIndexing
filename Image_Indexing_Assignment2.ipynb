{
  "cells": [
    {
      "cell_type": "markdown",
      "metadata": {
        "id": "view-in-github",
        "colab_type": "text"
      },
      "source": [
        "<a href=\"https://colab.research.google.com/github/claredavies/ImageIndexing/blob/master/Image_Indexing_Assignment2.ipynb\" target=\"_parent\"><img src=\"https://colab.research.google.com/assets/colab-badge.svg\" alt=\"Open In Colab\"/></a>"
      ]
    },
    {
      "cell_type": "markdown",
      "metadata": {
        "id": "a795ccf4"
      },
      "source": [
        "# 11762 Content-Based Image Retrieval\n",
        "## Master's Degree in Intelligent Systems\n",
        "### University of the Balearic Islands\n",
        "\n",
        "---\n",
        "\n",
        "**Before you turn this problem in, please put your full names and DNIs (or NIEs) below, and execute the cell:**"
      ],
      "id": "a795ccf4"
    },
    {
      "cell_type": "code",
      "execution_count": 1,
      "metadata": {
        "id": "6947b975"
      },
      "outputs": [],
      "source": [
        "NAME  = \"Clare Davies\"\n",
        "DNI   = \"99999999R\""
      ],
      "id": "6947b975"
    },
    {
      "cell_type": "code",
      "execution_count": 2,
      "metadata": {
        "id": "OBYyYOwNu7hY",
        "colab": {
          "base_uri": "https://localhost:8080/"
        },
        "outputId": "7c91b301-560c-4ef1-abb5-e1843da5fbe3"
      },
      "outputs": [
        {
          "output_type": "stream",
          "name": "stdout",
          "text": [
            "Mounted at /content/drive/\n"
          ]
        }
      ],
      "source": [
        "from google.colab import drive\n",
        "drive.mount('/content/drive/')"
      ],
      "id": "OBYyYOwNu7hY"
    },
    {
      "cell_type": "code",
      "execution_count": 3,
      "metadata": {
        "id": "cuu5vW4ivs1C",
        "colab": {
          "base_uri": "https://localhost:8080/"
        },
        "outputId": "0170d57e-0673-4934-a13f-b8a3a5699062"
      },
      "outputs": [
        {
          "output_type": "stream",
          "name": "stdout",
          "text": [
            "/content/drive/MyDrive/ImageIndexing\n"
          ]
        }
      ],
      "source": [
        "%cd drive/MyDrive/ImageIndexing"
      ],
      "id": "cuu5vW4ivs1C"
    },
    {
      "cell_type": "markdown",
      "metadata": {
        "id": "ec32c2c0"
      },
      "source": [
        "Make sure you fill in any place that says `YOUR CODE HERE` or `YOUR ANSWER HERE`. **Justify** all of your answers, **graphically** wherever possible. Remember that this notebook will be considered as a report to the work done during the assignment.\n",
        "\n",
        "---"
      ],
      "id": "ec32c2c0"
    },
    {
      "cell_type": "code",
      "execution_count": null,
      "metadata": {
        "id": "6BTyYK7ivdfy",
        "colab": {
          "base_uri": "https://localhost:8080/"
        },
        "outputId": "81371959-2b74-4ae4-f5ee-690a52d4b885"
      },
      "outputs": [
        {
          "output_type": "stream",
          "name": "stdout",
          "text": [
            "Archive:  iric_dev_kit.zip\n",
            "replace iric_dev_kit/iric.yml? [y]es, [n]o, [A]ll, [N]one, [r]ename: "
          ]
        }
      ],
      "source": [
        "!unzip iric_dev_kit.zip"
      ],
      "id": "6BTyYK7ivdfy"
    },
    {
      "cell_type": "code",
      "execution_count": 4,
      "metadata": {
        "id": "a32b507a"
      },
      "outputs": [],
      "source": [
        "# Setup code for this assignment\n",
        "import cv2\n",
        "import math\n",
        "import numpy as np\n",
        "import os\n",
        "import scipy.cluster.vq as vq\n",
        "import tqdm\n",
        "import zipfile\n",
        "\n",
        "## Adding parent folder to find other libs\n",
        "import sys\n",
        "if \"..\" not in sys.path:\n",
        "    sys.path.insert(0,\"..\")\n",
        "    \n",
        "import iric_dev_kit.iric_utils.eval_holidays as ev\n",
        "import iric_dev_kit.iric_utils.read_descriptors as rd\n",
        "\n",
        "# Configuring Matplotlib\n",
        "from matplotlib import pyplot as plt\n",
        "%matplotlib inline"
      ],
      "id": "a32b507a"
    },
    {
      "cell_type": "markdown",
      "metadata": {
        "id": "d621778b"
      },
      "source": [
        "## Introduction\n",
        "In this assignment, you will implement and evaluate different methods for indexing images. As usual during this course, we will use the [INRIA Holidays](http://lear.inrialpes.fr/people/jegou/data.php) dataset. **Check the Assignment 1 to further information about this dataset.**\n",
        "\n",
        "We also need the provided script to evaluate a CBIR system on this dataset. Remember that the performance is measured computing the **mean average precision** (mAP) over all queries. **Check also the Assignment 1 to remember how to use this script and the different functions it offers.**"
      ],
      "id": "d621778b"
    },
    {
      "cell_type": "markdown",
      "metadata": {
        "id": "77b3c399"
      },
      "source": [
        "### Loading images\n",
        "As we did in Assignment 1, for managing images, we will create four lists:\n",
        "- **`query_names`**: File names of the *query* images\n",
        "- **`query_imgs`**: *Query* images loaded using OpenCV2\n",
        "- **`train_names`**: File names of the *train* (database) images\n",
        "- **`train_imgs`**: *Train* images loaded using OpenCV2\n",
        "\n",
        "In this assignment, we will use the original holidays dataset:"
      ],
      "id": "77b3c399"
    },
    {
      "cell_type": "code",
      "execution_count": null,
      "metadata": {
        "id": "IWfI1BLVwmqV"
      },
      "outputs": [],
      "source": [
        "!unzip holidays_mini.zip"
      ],
      "id": "IWfI1BLVwmqV"
    },
    {
      "cell_type": "code",
      "execution_count": 5,
      "metadata": {
        "colab": {
          "base_uri": "https://localhost:8080/"
        },
        "id": "78adf5f7",
        "outputId": "b8ae895f-b16f-4f59-95f7-b737dea7904a"
      },
      "outputs": [
        {
          "output_type": "stream",
          "name": "stdout",
          "text": [
            "19\n",
            "31\n"
          ]
        }
      ],
      "source": [
        "# Separating the dataset into query and train images\n",
        "query_names = []\n",
        "query_imgs = []\n",
        "train_names = []\n",
        "train_imgs = []\n",
        "\n",
        "# with open('../holidays/holidays_images.dat') as f:\n",
        "\n",
        "with open('holidays_mini/holidays_images.dat') as f:\n",
        "    for line in f:\n",
        "        imname = line.strip()\n",
        "        imno = int(imname[:-len(\".jpg\")])\n",
        "        # img = cv2.imread('../holidays/images/' + imname)\n",
        "\n",
        "        img = cv2.imread('holidays_mini/images/' + imname)\n",
        "        # Resize the images for a faster operation in this assignment\n",
        "        img = cv2.resize(img, None, fx=0.25, fy=0.25, interpolation = cv2.INTER_CUBIC)\n",
        "    \n",
        "        # Checking if this is a query image\n",
        "        if imno % 100 == 0:\n",
        "            query_names.append(imname)\n",
        "            query_imgs.append(img)\n",
        "        else:\n",
        "            train_names.append(imname)\n",
        "            train_imgs.append(img)\n",
        "\n",
        "print(len(query_names))\n",
        "print(len(train_names))"
      ],
      "id": "78adf5f7"
    },
    {
      "cell_type": "markdown",
      "metadata": {
        "id": "27d7080b"
      },
      "source": [
        "## Loading SIFT descriptors\n",
        "In this assignment we will create four additional lists:\n",
        "- **`query_kps`**: A list of lists of keypoints (cv2.KeyPoint) extracted from the *query* images\n",
        "- **`query_desc`**: A list of numpy arrays including, for each set of keypoints, the SIFT descriptors extracted from the *query* images\n",
        "- **`train_kps`**: A list of lists of keypoints (cv2.KeyPoint) extracted from the *train* (database) images\n",
        "- **`train_desc`**: A list of numpy arrays including, for each set of keypoints, the SIFT descriptors extracted from the *train* images\n",
        "\n",
        "Unlike in Assigment 1, now you will be provided with a set of SIFT descriptors for each image, and, therefore, you do not need to create these lists from scratch. First, download the descriptors from [here](https://uibes-my.sharepoint.com/:u:/g/personal/egf350_id_uib_es/Eam8Ld8YDaJAhNr91YVdAZIB_wVZJ8kzzKD7BR6R3LziMw).\n",
        "\n",
        "> **Unzip this file into the root directory of the development kit, at the same level of the datasets.**\n",
        "\n",
        "Now, a new directory called `siftgeo` should be in your workspace, containing the set of SIFT descriptors for each image of the dataset. These descriptors are stored in binary format and, thus, you are also provided with some tools to load them. To be more precise, you can call the function `load_SIFT_descriptors` to load the descriptors of a list of images:"
      ],
      "id": "27d7080b"
    },
    {
      "cell_type": "code",
      "execution_count": null,
      "metadata": {
        "id": "B822YyX-UVsM"
      },
      "outputs": [],
      "source": [
        "import tarfile\n",
        "def unzip_tarfile(filename):\n",
        "  try:\n",
        "    tar = tarfile.open(filename)\n",
        "    tar.extractall()\n",
        "    tar.close()\n",
        "  except EOFError:\n",
        "    print(\"error\")"
      ],
      "id": "B822YyX-UVsM"
    },
    {
      "cell_type": "code",
      "execution_count": null,
      "metadata": {
        "id": "sQp4svdOw2Hs"
      },
      "outputs": [],
      "source": [
        "unzip_tarfile(\"siftgeo.tar.gz\")"
      ],
      "id": "sQp4svdOw2Hs"
    },
    {
      "cell_type": "code",
      "execution_count": 6,
      "metadata": {
        "id": "1BBTN1FRxbhz",
        "colab": {
          "base_uri": "https://localhost:8080/"
        },
        "outputId": "847e28bf-88f1-4992-810d-05add1aa0272"
      },
      "outputs": [
        {
          "output_type": "stream",
          "name": "stdout",
          "text": [
            "/content/drive/MyDrive/ImageIndexing/iric_dev_kit\n"
          ]
        }
      ],
      "source": [
        "%cd iric_dev_kit"
      ],
      "id": "1BBTN1FRxbhz"
    },
    {
      "cell_type": "code",
      "execution_count": 7,
      "metadata": {
        "id": "f7e7e1c5",
        "colab": {
          "base_uri": "https://localhost:8080/"
        },
        "outputId": "c439d5d8-cc09-41bd-d735-bd8a4b40c5ef"
      },
      "outputs": [
        {
          "output_type": "stream",
          "name": "stdout",
          "text": [
            "19\n",
            "31\n",
            "19\n",
            "31\n",
            "(1000, 128)\n",
            "[[10.  6. 52. ... 15.  4.  0.]\n",
            " [16. 50. 12. ... 15.  4.  0.]\n",
            " [10. 11. 58. ...  7.  4.  4.]\n",
            " ...\n",
            " [27. 15.  0. ... 16.  8. 12.]\n",
            " [51. 47. 14. ... 35. 26.  0.]\n",
            " [ 2. 37. 25. ... 47. 13.  8.]]\n"
          ]
        }
      ],
      "source": [
        "# Loading descriptors\n",
        "query_kps, query_desc = rd.load_SIFT_descriptors(query_names, max_desc=1000)\n",
        "train_kps, train_desc = rd.load_SIFT_descriptors(train_names, max_desc=1000)\n",
        "\n",
        "# Some prints\n",
        "print(len(query_kps))\n",
        "print(len(train_kps))\n",
        "print(len(query_desc))\n",
        "print(len(train_desc))\n",
        "print(query_desc[0].shape)\n",
        "print(query_desc[0])"
      ],
      "id": "f7e7e1c5"
    },
    {
      "cell_type": "markdown",
      "metadata": {
        "id": "6b8f8d0c"
      },
      "source": [
        "For development purposes, we use the parameter `max_desc` to load a maximum number (1000) of the descriptors. This will speed up the execution of the rest of the notebook, while the decrease in performance will be minimum.\n",
        "\n",
        "> **Some images do not have keypoints/descriptors. Take this into account when you develop your solution.**"
      ],
      "id": "6b8f8d0c"
    },
    {
      "cell_type": "markdown",
      "metadata": {
        "id": "9e2aeee4"
      },
      "source": [
        "## $k$-d trees and LSH \n",
        "Let's start coding. At this section, you will develop a retrieval system using $k$-d trees and Locality Sensitive Hashing (LSH). "
      ],
      "id": "9e2aeee4"
    },
    {
      "cell_type": "markdown",
      "metadata": {
        "id": "9b5ec641"
      },
      "source": [
        "### General framework\n",
        "As we did in the first assignment, you first will develop some utilities to simplify your work. Write a function called `search_image` to search an image in a generic index (database). You should search each descriptor of the given query image and obtain its two closest SIFT descriptors in the database. Next, the initial set of matches should be filtered using the **NNDR criterion (use 0.8 as ratio)**, as you did in the previous assignment. For each database image, its final score with regard to this query image will be the **number of correct matches** with this image:"
      ],
      "id": "9b5ec641"
    },
    {
      "cell_type": "markdown",
      "metadata": {
        "id": "pHzWmAUYU7Na"
      },
      "source": [
        "The 2 matches returned have 0 distance!\n",
        "\n"
      ],
      "id": "pHzWmAUYU7Na"
    },
    {
      "cell_type": "code",
      "execution_count": 8,
      "metadata": {
        "id": "d9560c34"
      },
      "outputs": [],
      "source": [
        "def search_image(descs, index, id_to_name):\n",
        "    \"\"\"\n",
        "    Search an image in the index\n",
        "    \n",
        "    - descs: A numpy array. This is the set descriptors extracted from the query image\n",
        "    - index: OpenCV FLANN index to search for descriptors.\n",
        "    - id_to_name: An associative list to link every image index to its real name\n",
        "        e.g. id_to_name[0] = '100001.jpg', id_to_name[1] = '100002.jpg'\n",
        "  \n",
        "    RETURN: \n",
        "    - An ordered list of similar images, e.g.: ['100101.jpg', '100202.jpg', ...]\n",
        "  \n",
        "    \"\"\"\n",
        "\n",
        "    for desc in descs:\n",
        "      # Perform FLANN-based matching to find similar descriptors\n",
        "      matches = index.knnMatch(queryDescriptors=descs, k=2)\n",
        "\n",
        "    # Apply ratio test to filter out bad matches\n",
        "    good_matches = []\n",
        "    for m, n in matches:\n",
        "        if m.distance < 0.8 * n.distance:\n",
        "            good_matches.append(m)\n",
        "    \n",
        "    # Collect indices of similar images\n",
        "    similar_ids = set()\n",
        "    for m in good_matches:\n",
        "        img_idx = m.imgIdx\n",
        "        similar_ids.add(img_idx)\n",
        "    \n",
        "    # Convert indices to image names\n",
        "    similar_names = []\n",
        "    for id in similar_ids:\n",
        "        similar_names.append(id_to_name[id])\n",
        "    \n",
        "    # Return ordered list of similar images\n",
        "    return sorted(similar_names)"
      ],
      "id": "d9560c34"
    },
    {
      "cell_type": "code",
      "execution_count": null,
      "metadata": {
        "colab": {
          "base_uri": "https://localhost:8080/"
        },
        "id": "CfdqDu4mYB-H",
        "outputId": "1ae22866-3ec4-46fc-daea-0332838babb9"
      },
      "outputs": [
        {
          "output_type": "stream",
          "name": "stdout",
          "text": [
            "['100001.jpg', '100002.jpg']\n"
          ]
        }
      ],
      "source": [
        "print(train_names[0:2])"
      ],
      "id": "CfdqDu4mYB-H"
    },
    {
      "cell_type": "code",
      "execution_count": null,
      "metadata": {
        "colab": {
          "base_uri": "https://localhost:8080/"
        },
        "id": "4gWME8MdYbRY",
        "outputId": "b8a3f1f2-66e0-46d9-d720-67be9b93a85f"
      },
      "outputs": [
        {
          "output_type": "stream",
          "name": "stdout",
          "text": [
            "100000.jpg\n"
          ]
        }
      ],
      "source": [
        "print(query_names[0])"
      ],
      "id": "4gWME8MdYbRY"
    },
    {
      "cell_type": "markdown",
      "metadata": {
        "id": "5470e6a8"
      },
      "source": [
        "Now, write a function called `compute_mAP`. Given a list of query images and a trained index, this function should return a Python dictionary with the ordered results for each query along with the computed mAP:"
      ],
      "id": "5470e6a8"
    },
    {
      "cell_type": "code",
      "execution_count": null,
      "metadata": {
        "id": "u0ZbKLFRAbiI"
      },
      "outputs": [],
      "source": [
        "print(query_desc[0])"
      ],
      "id": "u0ZbKLFRAbiI"
    },
    {
      "cell_type": "code",
      "source": [
        "res = {}\n",
        "with open('../holidays_mini/holidays_images.dat') as f:\n",
        "    for line in f:\n",
        "        imname = line.strip()\n",
        "        imno = int(imname[:-len(\".jpg\")])\n",
        "    \n",
        "        # Checking if this is a query image\n",
        "        if imno % 100 == 0:\n",
        "            results = []\n",
        "            res[imname] = results\n",
        "        else:\n",
        "            results.append(imname)\n",
        "print(res)"
      ],
      "metadata": {
        "colab": {
          "base_uri": "https://localhost:8080/"
        },
        "id": "Gm70fvFzyu7e",
        "outputId": "bf3c47c1-aca5-466f-b421-adfbd8932891"
      },
      "id": "Gm70fvFzyu7e",
      "execution_count": 9,
      "outputs": [
        {
          "output_type": "stream",
          "name": "stdout",
          "text": [
            "{'100000.jpg': ['100001.jpg', '100002.jpg'], '100100.jpg': ['100101.jpg'], '100200.jpg': ['100201.jpg'], '100300.jpg': ['100301.jpg', '100302.jpg'], '100400.jpg': ['100401.jpg'], '100500.jpg': ['100501.jpg', '100502.jpg', '100503.jpg'], '100600.jpg': ['100601.jpg'], '100700.jpg': ['100701.jpg'], '100800.jpg': ['100801.jpg'], '100900.jpg': ['100901.jpg', '100902.jpg'], '101000.jpg': ['101001.jpg'], '101100.jpg': ['101101.jpg'], '101200.jpg': ['101201.jpg'], '101300.jpg': ['101301.jpg'], '101400.jpg': ['101401.jpg', '101402.jpg', '101403.jpg', '101404.jpg'], '101500.jpg': ['101501.jpg', '101502.jpg', '101503.jpg', '101504.jpg'], '101600.jpg': ['101601.jpg'], '101700.jpg': ['101701.jpg', '101702.jpg'], '101800.jpg': ['101801.jpg']}\n"
          ]
        }
      ]
    },
    {
      "cell_type": "code",
      "execution_count": 10,
      "metadata": {
        "id": "0195c2f4"
      },
      "outputs": [],
      "source": [
        "def compute_mAP(query_names, query_desc, index, id_to_name, gt_file):\n",
        "    \"\"\"\n",
        "    Perform a search for a list of query images against the database.\n",
        "    \n",
        "    - query_names: An ordered list with the names of the query images\n",
        "    - query_desc: A list containing numpy arrays of size (ndesc_for_this_image, 128)\n",
        "                  Each numpy array i corresponds to the descriptors found at image i\n",
        "    - index: FLANN index\n",
        "    - id_to_name: An associative array to link every image index to its real name\n",
        "                  e.g. id_to_name[0] = '100001.jpg', id_to_name[1] = '100002.jpg'\n",
        "  \n",
        "    RETURN: \n",
        "    - total_results: A dictionary containing, for each query image, an sorted list of the database images\n",
        "    - m_ap: Mean Average Precision averaged over all queries\n",
        "    \"\"\"\n",
        "    total_results = {}\n",
        "    m_ap = 0.0\n",
        "      \n",
        "    # search_results = [list(zip(search_image(query_img)))[1] for query_img in query_imgs] \n",
        "\n",
        "    for qname, qdesc in zip(query_names, query_desc):\n",
        "        # Search for similar images\n",
        "        results = search_image(qdesc, index, id_to_name)\n",
        "        total_results[qname] = results\n",
        "    \n",
        "    m_ap = ev.compute_mAP(total_results, gt_file)\n",
        "    return total_results, m_ap"
      ],
      "id": "0195c2f4"
    },
    {
      "cell_type": "markdown",
      "metadata": {
        "id": "6a7782f8"
      },
      "source": [
        "### $k$-d Trees\n",
        "In this section you will use a set of randomized $k$-d trees to index the database of images. Write a function called `build_db_kdtrees` to build a set of randomized $k$-d trees given a set of descriptors:\n",
        "\n",
        "> **Useful links**: [cv2.FlannBasedMatcher](https://docs.opencv.org/4.5.5/dc/de2/classcv_1_1FlannBasedMatcher.html), [Possible algorithms to create an index](https://docs.opencv.org/4.5.5/db/d18/classcv_1_1flann_1_1GenericIndex.html#a8fff14185f9f3d2f2311b528f65b146c), [Algorithms IDs](https://github.com/opencv/opencv/blob/master/modules/flann/include/opencv2/flann/defines.h#L70)"
      ],
      "id": "6a7782f8"
    },
    {
      "cell_type": "code",
      "execution_count": 11,
      "metadata": {
        "id": "3586111e"
      },
      "outputs": [],
      "source": [
        "def build_db_kdtrees(descs, ntrees = 4):\n",
        "    \"\"\"\n",
        "    Build a set of randomized k-d trees.\n",
        "    \n",
        "    - descs: A list of length len(img_names) where each element is a numpy array \n",
        "        of size (ndesc_for_this_image, 128). Each numpy array i corresponds \n",
        "        to the descriptors found on image i\n",
        "    - ntrees: Number of trees to train\n",
        "  \n",
        "    RETURN: \n",
        "    - index: Trained FLANN index\n",
        "    \"\"\"  \n",
        "  \n",
        "    FLANN_INDEX_KDTREE = 1\n",
        "    index_params = dict(algorithm=FLANN_INDEX_KDTREE, trees=ntrees)\n",
        "    search_params = dict(checks=32)\n",
        "    flann = cv2.FlannBasedMatcher(index_params, search_params)\n",
        "    flann.add(descs)\n",
        "    flann.train()\n",
        "    return flann"
      ],
      "id": "3586111e"
    },
    {
      "cell_type": "markdown",
      "source": [
        "Checking to make sure when pass in all train_desc that it not just matching to all of them"
      ],
      "metadata": {
        "id": "SdddqZ9Ote4h"
      },
      "id": "SdddqZ9Ote4h"
    },
    {
      "cell_type": "code",
      "source": [
        "index = build_db_kdtrees(train_desc)\n",
        "print(len(index.getTrainDescriptors()))\n",
        "img_res = search_image(query_desc[0], index, train_names)\n",
        "print(img_res)\n",
        "print(\"number of training images to match to: \", len(train_names))\n",
        "print(\"number of training images actually matched to: \", len(img_res))"
      ],
      "metadata": {
        "colab": {
          "base_uri": "https://localhost:8080/"
        },
        "id": "KfKA52S6s-Vq",
        "outputId": "4211e47f-324a-469b-efa5-51c65f292489"
      },
      "id": "KfKA52S6s-Vq",
      "execution_count": 12,
      "outputs": [
        {
          "output_type": "stream",
          "name": "stdout",
          "text": [
            "31\n",
            "['100002.jpg', '100101.jpg', '100201.jpg', '100502.jpg', '100503.jpg', '101503.jpg', '101504.jpg']\n",
            "number of training images to match to:  31\n",
            "number of training images actually matched to:  7\n"
          ]
        }
      ]
    },
    {
      "cell_type": "code",
      "execution_count": null,
      "metadata": {
        "id": "0c32c81c",
        "colab": {
          "base_uri": "https://localhost:8080/"
        },
        "outputId": "74db3e81-5649-4edf-b00e-2670194d2d12"
      },
      "outputs": [
        {
          "output_type": "stream",
          "name": "stdout",
          "text": [
            "['100001.jpg', '100002.jpg']\n",
            "['100001.jpg', '100002.jpg']\n",
            "results:  {'100000.jpg': ['100001.jpg', '100002.jpg'], '100100.jpg': ['100001.jpg', '100002.jpg'], '100200.jpg': ['100001.jpg'], '100300.jpg': ['100001.jpg'], '100400.jpg': ['100001.jpg', '100002.jpg'], '100500.jpg': ['100001.jpg'], '100600.jpg': ['100001.jpg', '100002.jpg'], '100700.jpg': ['100001.jpg', '100002.jpg'], '100800.jpg': ['100001.jpg', '100002.jpg'], '100900.jpg': ['100001.jpg', '100002.jpg'], '101000.jpg': ['100001.jpg', '100002.jpg'], '101100.jpg': ['100001.jpg', '100002.jpg'], '101200.jpg': ['100001.jpg'], '101300.jpg': [], '101400.jpg': [], '101500.jpg': ['100001.jpg', '100002.jpg'], '101600.jpg': ['100001.jpg', '100002.jpg'], '101700.jpg': ['100001.jpg', '100002.jpg'], '101800.jpg': ['100001.jpg', '100002.jpg']}\n",
            "ground truth:  {'100000.jpg': ['100001.jpg', '100002.jpg'], '100100.jpg': ['100101.jpg'], '100200.jpg': ['100201.jpg'], '100300.jpg': ['100301.jpg', '100302.jpg'], '100400.jpg': ['100401.jpg'], '100500.jpg': ['100501.jpg', '100502.jpg', '100503.jpg'], '100600.jpg': ['100601.jpg'], '100700.jpg': ['100701.jpg'], '100800.jpg': ['100801.jpg'], '100900.jpg': ['100901.jpg', '100902.jpg'], '101000.jpg': ['101001.jpg'], '101100.jpg': ['101101.jpg'], '101200.jpg': ['101201.jpg'], '101300.jpg': ['101301.jpg'], '101400.jpg': ['101401.jpg', '101402.jpg', '101403.jpg', '101404.jpg'], '101500.jpg': ['101501.jpg', '101502.jpg', '101503.jpg', '101504.jpg'], '101600.jpg': ['101601.jpg'], '101700.jpg': ['101701.jpg', '101702.jpg'], '101800.jpg': ['101801.jpg']}\n",
            "0.05263157894736842\n"
          ]
        }
      ],
      "source": [
        "# Simple example of DB construction\n",
        "index = build_db_kdtrees(train_desc[0:2])\n",
        "# Example of computing mAP\n",
        "results, mAP = compute_mAP(query_names, query_desc, index, train_names[0:2], '../holidays_mini/holidays_images.dat')\n",
        "print(results['100000.jpg'])\n",
        "print(results['100100.jpg'])\n",
        "print(\"results: \", results)\n",
        "print(\"ground truth: \", res)\n",
        "print(mAP) # This should be 0 now, since there is only two images in the database."
      ],
      "id": "0c32c81c"
    },
    {
      "cell_type": "markdown",
      "metadata": {
        "id": "ec669537"
      },
      "source": [
        "**Q1**: Using functions developed so far, in the following cell compute the resulting **mAP** of the system **using 4 trees**: (the default values)"
      ],
      "id": "ec669537"
    },
    {
      "cell_type": "code",
      "execution_count": null,
      "metadata": {
        "id": "d3d0cfe3"
      },
      "outputs": [],
      "source": [
        "# Fill this variable with the resulting mAP\n",
        "mAP_kdtree = 0.0\n",
        "\n",
        "index = build_db_kdtrees(train_desc, ntrees = 4)\n",
        "img_res = search_image(query_desc[0], index, train_names)\n",
        "results, mAP_kdtree = compute_mAP(query_names, query_desc, index, train_names, '../holidays_mini/holidays_images.dat')"
      ],
      "id": "d3d0cfe3"
    },
    {
      "cell_type": "code",
      "execution_count": null,
      "metadata": {
        "id": "f3ef5289",
        "colab": {
          "base_uri": "https://localhost:8080/"
        },
        "outputId": "20579f79-71a0-4270-d93d-69a3b797b3bc"
      },
      "outputs": [
        {
          "output_type": "stream",
          "name": "stdout",
          "text": [
            "mAP: 0.39370\n"
          ]
        }
      ],
      "source": [
        "print('mAP: %.5f' % mAP_kdtree)"
      ],
      "id": "f3ef5289"
    },
    {
      "cell_type": "markdown",
      "metadata": {
        "id": "57bae631"
      },
      "source": [
        "**Q2**: Are the results stable? Do you obtain always the same mAP? Why?"
      ],
      "id": "57bae631"
    },
    {
      "cell_type": "markdown",
      "metadata": {
        "id": "72827768"
      },
      "source": [
        "Write here the code required to answer the questions stated above. You can add more cells (code / markdown) at this point if you need it."
      ],
      "id": "72827768"
    },
    {
      "cell_type": "markdown",
      "metadata": {
        "id": "8baed384"
      },
      "source": [
        "**Q3:** Analyze the effect of changing the number of trees in terms of mAP and average response time. Some plots here can be useful to justify your answer."
      ],
      "id": "8baed384"
    },
    {
      "cell_type": "code",
      "source": [
        "index = build_db_kdtrees(train_desc[0:5], ntrees = 2)\n",
        "img_res = search_image(query_desc[0], index, train_names[0:5])\n",
        "results, mAP_kdtree2 = compute_mAP(query_names, query_desc, index, train_names[0:5])\n",
        "print(\"mAP with 2 trees: \", mAP_kdtree2)\n",
        "\n",
        "index = build_db_kdtrees(train_desc[0:5], ntrees = 4)\n",
        "img_res = search_image(query_desc[0], index, train_names[0:5])\n",
        "results, mAP_kdtree4 = compute_mAP(query_names, query_desc, index, train_names[0:5])\n",
        "print(\"mAP with 4 trees: \", mAP_kdtree4)\n",
        "\n",
        "index = build_db_kdtrees(train_desc[0:5], ntrees = 8)\n",
        "img_res = search_image(query_desc[0], index, train_names[0:5])\n",
        "results, mAP_kdtree8 = compute_mAP(query_names, query_desc, index, train_names[0:5])\n",
        "print(\"mAP with 8 trees: \", mAP_kdtree8)"
      ],
      "metadata": {
        "colab": {
          "base_uri": "https://localhost:8080/"
        },
        "id": "iiSXjHdn2yqA",
        "outputId": "03fc2633-d124-422c-8c9b-22bb9d7a21ca"
      },
      "id": "iiSXjHdn2yqA",
      "execution_count": null,
      "outputs": [
        {
          "output_type": "stream",
          "name": "stdout",
          "text": [
            "mAP with 2 trees:  0.0\n",
            "mAP with 4 trees:  0.0\n",
            "mAP with 8 trees:  0.0\n"
          ]
        }
      ]
    },
    {
      "cell_type": "code",
      "source": [
        "# Data for the bar chart\n",
        "mAP_scores = [mAP_kdtree2, mAP_kdtree4, mAP_kdtree8]\n",
        "labels = ['2', '4', '8']\n",
        "\n",
        "# Create the bar chart\n",
        "fig, ax = plt.subplots()\n",
        "ax.bar(labels, mAP_scores)\n",
        "\n",
        "# Set the chart title and axis labels\n",
        "ax.set_title('mAP Comparison with N trees')\n",
        "ax.set_xlabel('N of trees')\n",
        "ax.set_ylabel('mAP')\n",
        "\n",
        "# Display the chart\n",
        "plt.show()"
      ],
      "metadata": {
        "colab": {
          "base_uri": "https://localhost:8080/",
          "height": 472
        },
        "id": "AZVNvoYK1uk5",
        "outputId": "ae5b0f12-62e2-4c5d-de7d-2119aa2bc45c"
      },
      "id": "AZVNvoYK1uk5",
      "execution_count": null,
      "outputs": [
        {
          "output_type": "display_data",
          "data": {
            "text/plain": [
              "<Figure size 640x480 with 1 Axes>"
            ],
            "image/png": "[encoded data removed]"
          },
          "metadata": {}
        }
      ]
    },
    {
      "cell_type": "markdown",
      "metadata": {
        "id": "52633ad1"
      },
      "source": [
        "### Locality Sensitive Hashing (LSH)\n",
        "In this section, you will use LSH to index the database of images. The LSH implementation included in OpenCV uses **bit sampling** for **Hamming distance** as a hash function and, therefore, binary descriptors must be used. Hence, SIFT descriptors are not valid and we need to describe the images, but using, for instance, ORB.\n",
        "\n",
        "In the following cell, write the code required to generate **roughly 1500 keypoints / descriptors** using ORB for each query / train image:\n",
        "\n",
        "> **Useful links**: [cv2.ORB_create](https://docs.opencv.org/4.5.4/db/d95/classcv_1_1ORB.html#aeff0cbe668659b7ca14bb85ff1c4073b)"
      ],
      "id": "52633ad1"
    },
    {
      "cell_type": "code",
      "execution_count": 13,
      "metadata": {
        "id": "4b1223cb"
      },
      "outputs": [],
      "source": [
        "def generateAllDescriptorsAndKeypoints(query_images, train_images, no_keypoints=1500, no_descriptors=1500):\n",
        "    \"\"\"\n",
        "    In this section, you will use LSH to index the database of images. The LSH implementation \n",
        "    included in OpenCV uses bit sampling for Hamming distance as a hash function and, therefore, \n",
        "    binary descriptors must be used. Hence, SIFT descriptors are not valid and we need to describe the images\n",
        "    , but using, for instance, ORB.\n",
        "\n",
        "    Useful links: cv2.ORB_create\n",
        "\n",
        "    generate roughly 1500 keypoints / descriptors using ORB for each query / train image:\n",
        "    \n",
        "    - descs: A list of length len(img_names) where each element is a numpy array \n",
        "        of size (ndesc_for_this_image, 128). Each numpy array i corresponds \n",
        "        to the descriptors found on image i\n",
        "    - ntrees: Number of trees to train\n",
        "\n",
        "    RETURN: \n",
        "    - query_kps_orb: list of keypoints for query images\n",
        "    - query_desc_orb: list of descriptors for query images\n",
        "    - train_kps_orb: list of keypoints for train images\n",
        "    - train_desc_orb: list of descriptors for train images\n",
        "    \"\"\" \n",
        "    \n",
        "    orb = cv2.ORB_create(nfeatures=no_keypoints, nlevels=8, scoreType=cv2.ORB_FAST_SCORE)\n",
        "\n",
        "    # Initialize keypoint and descriptor lists for query and train images\n",
        "    query_kps_orb = []\n",
        "    query_desc_orb = []\n",
        "    train_kps_orb = []\n",
        "    train_desc_orb = []\n",
        "\n",
        "    # Generate keypoints and descriptors for query images\n",
        "    for query_image in query_images:\n",
        "      img = cv2.cvtColor(query_image, cv2.COLOR_BGR2GRAY)\n",
        "      kps, desc = orb.detectAndCompute(img, None)\n",
        "      query_kps_orb.append(kps)\n",
        "      query_desc_orb.append(desc)\n",
        "\n",
        "    # Generate keypoints and descriptors for train images\n",
        "    for train_image in train_images:\n",
        "      img = cv2.cvtColor(train_image, cv2.COLOR_BGR2GRAY)\n",
        "      kps, desc = orb.detectAndCompute(img, None)\n",
        "      train_kps_orb.append(kps)\n",
        "      train_desc_orb.append(desc)\n",
        "\n",
        "    return query_kps_orb, query_desc_orb, train_kps_orb, train_desc_orb"
      ],
      "id": "4b1223cb"
    },
    {
      "cell_type": "code",
      "execution_count": 14,
      "metadata": {
        "id": "gqxorAYXx468"
      },
      "outputs": [],
      "source": [
        "[query_kps_orb, query_desc_orb, train_kps_orb, train_desc_orb] = generateAllDescriptorsAndKeypoints(query_imgs, train_imgs)"
      ],
      "id": "gqxorAYXx468"
    },
    {
      "cell_type": "code",
      "execution_count": null,
      "metadata": {
        "id": "03aa9edf",
        "colab": {
          "base_uri": "https://localhost:8080/"
        },
        "outputId": "ee3becb3-07e1-4e29-8f64-e4cc0694c7d4"
      },
      "outputs": [
        {
          "output_type": "stream",
          "name": "stdout",
          "text": [
            "1563\n",
            "(1563, 32)\n",
            "[[ 45  45  17 ... 251  82 160]\n",
            " [ 13 220 255 ... 146  84 171]\n",
            " [203   4 103 ... 244 112 116]\n",
            " ...\n",
            " [211  13 119 ... 160 165 116]\n",
            " [224  98 157 ... 240 138  11]\n",
            " [162  43 172 ...  93  90 207]]\n"
          ]
        }
      ],
      "source": [
        "# Show some data\n",
        "print(len(query_kps_orb[0]))\n",
        "print(query_desc_orb[0].shape)\n",
        "print(query_desc_orb[0])"
      ],
      "id": "03aa9edf"
    },
    {
      "cell_type": "markdown",
      "metadata": {
        "id": "b3362cc8"
      },
      "source": [
        "\n",
        "Next, write a function called `build_db_lsh` to build a **standard** (*no multi-probe*) LSH index from a set of images:"
      ],
      "id": "b3362cc8"
    },
    {
      "cell_type": "code",
      "execution_count": 15,
      "metadata": {
        "id": "7f4e0e3e"
      },
      "outputs": [],
      "source": [
        "def build_db_lsh(descs, tables = 6, hash_size = 12):\n",
        "    \"\"\"\n",
        "    build a standard (no multi-probe) LSH index from a set of images\n",
        "    Index a set of images using LSH.    \n",
        "    \n",
        "    - descs: A list containing numpy arrays of size (~1500, 32). Each numpy array\n",
        "        i corresponds to the ORB descriptors found at image i.\n",
        "    - tables: Number of hash tables to create.\n",
        "    - hash_size: Hash length in bits.\n",
        "  \n",
        "    RETURN: \n",
        "    - index: The trained LSH index.\n",
        "    \"\"\"  \n",
        "    FLANN_INDEX_LSH = 6\n",
        "\n",
        "    brisk = cv2.BRISK()\n",
        "\n",
        "    index_params= dict(algorithm = FLANN_INDEX_LSH,\n",
        "                      table_number = tables, # 12\n",
        "                      key_size = hash_size,     # 20\n",
        "                      multi_probe_level = 1) #2\n",
        "    search_params = dict(checks=50)   # or pass empty dictionary\n",
        "\n",
        "    flann = cv2.FlannBasedMatcher(index_params,search_params)\n",
        "\n",
        "    flann.add(descs)\n",
        "\n",
        "    return flann"
      ],
      "id": "7f4e0e3e"
    },
    {
      "cell_type": "code",
      "execution_count": null,
      "metadata": {
        "id": "jy0znJh8269l",
        "colab": {
          "base_uri": "https://localhost:8080/"
        },
        "outputId": "96f79856-a71a-4a3a-c1ce-0bf7fea26c41"
      },
      "outputs": [
        {
          "output_type": "stream",
          "name": "stdout",
          "text": [
            "[[ 89  27 223 ... 224  33 113]\n",
            " [146 161 107 ... 130 171 169]\n",
            " [ 39  63 252 ... 223  71 245]\n",
            " ...\n",
            " [  3 141  39 ...   2 177 213]\n",
            " [ 41 203  17 ... 142 208 137]\n",
            " [116 106 233 ... 251  86 100]]\n"
          ]
        }
      ],
      "source": [
        "print(train_desc_orb[0])"
      ],
      "id": "jy0znJh8269l"
    },
    {
      "cell_type": "code",
      "execution_count": null,
      "metadata": {
        "id": "80ccfabe",
        "colab": {
          "base_uri": "https://localhost:8080/"
        },
        "outputId": "2f670635-09d9-4ca8-a992-28fcbacba30a"
      },
      "outputs": [
        {
          "output_type": "stream",
          "name": "stdout",
          "text": [
            "2\n"
          ]
        }
      ],
      "source": [
        "# Simple example of DB construction\n",
        "index = build_db_lsh(train_desc_orb[0:2])\n",
        "print(len(index.getTrainDescriptors()))"
      ],
      "id": "80ccfabe"
    },
    {
      "cell_type": "markdown",
      "metadata": {
        "id": "e544ed8d"
      },
      "source": [
        "**Q4**: In the following cell compute the resulting **mAP** of the system **using 6 tables and a hash size of 12**: (the default values)"
      ],
      "id": "e544ed8d"
    },
    {
      "cell_type": "code",
      "source": [
        "# Fill this variable with the resulting mAP\n",
        "mAP_lsh = 0.0\n",
        "\n",
        "index = build_db_lsh(train_desc_orb[0:5])\n",
        "img_res = search_image(query_desc_orb[0], index, train_names[0:5])\n",
        "results, mAP_lsh = compute_mAP(query_names, query_desc_orb, index, train_names[0:5], '../holidays_mini/holidays_images.dat')"
      ],
      "metadata": {
        "id": "KpNKFDEc-rFg"
      },
      "id": "KpNKFDEc-rFg",
      "execution_count": null,
      "outputs": []
    },
    {
      "cell_type": "code",
      "source": [
        "print(\"results found: \", results)\n",
        "print(\"ground truth: \", res)"
      ],
      "metadata": {
        "colab": {
          "base_uri": "https://localhost:8080/"
        },
        "id": "mbu5c71CCP1A",
        "outputId": "43adf1d3-05e2-4764-bdea-cfc02d74a3a7"
      },
      "id": "mbu5c71CCP1A",
      "execution_count": null,
      "outputs": [
        {
          "output_type": "stream",
          "name": "stdout",
          "text": [
            "results found:  {'100000.jpg': ['100001.jpg', '100002.jpg', '100101.jpg', '100201.jpg', '100301.jpg'], '100100.jpg': ['100001.jpg', '100002.jpg', '100101.jpg', '100201.jpg', '100301.jpg'], '100200.jpg': ['100001.jpg', '100002.jpg', '100101.jpg', '100201.jpg', '100301.jpg'], '100300.jpg': ['100001.jpg', '100002.jpg', '100101.jpg', '100201.jpg', '100301.jpg'], '100400.jpg': ['100001.jpg', '100002.jpg', '100101.jpg', '100201.jpg', '100301.jpg'], '100500.jpg': ['100001.jpg', '100002.jpg', '100101.jpg', '100201.jpg', '100301.jpg'], '100600.jpg': ['100001.jpg', '100002.jpg', '100101.jpg', '100201.jpg', '100301.jpg'], '100700.jpg': ['100001.jpg', '100002.jpg', '100101.jpg', '100201.jpg', '100301.jpg'], '100800.jpg': ['100001.jpg', '100002.jpg', '100101.jpg', '100201.jpg', '100301.jpg'], '100900.jpg': ['100001.jpg', '100002.jpg', '100101.jpg', '100201.jpg', '100301.jpg'], '101000.jpg': ['100001.jpg', '100002.jpg', '100101.jpg', '100201.jpg', '100301.jpg'], '101100.jpg': ['100001.jpg', '100002.jpg', '100101.jpg', '100201.jpg', '100301.jpg'], '101200.jpg': ['100001.jpg', '100002.jpg', '100101.jpg', '100201.jpg', '100301.jpg'], '101300.jpg': ['100002.jpg', '100101.jpg', '100201.jpg', '100301.jpg'], '101400.jpg': ['100002.jpg', '100101.jpg', '100201.jpg', '100301.jpg'], '101500.jpg': ['100001.jpg', '100002.jpg', '100101.jpg', '100201.jpg', '100301.jpg'], '101600.jpg': ['100001.jpg', '100002.jpg', '100101.jpg', '100201.jpg', '100301.jpg'], '101700.jpg': ['100001.jpg', '100002.jpg', '100101.jpg', '100201.jpg', '100301.jpg'], '101800.jpg': ['100001.jpg', '100002.jpg', '100101.jpg', '100201.jpg', '100301.jpg']}\n",
            "ground truth:  {'100000.jpg': ['100001.jpg', '100002.jpg'], '100100.jpg': ['100101.jpg'], '100200.jpg': ['100201.jpg'], '100300.jpg': ['100301.jpg', '100302.jpg'], '100400.jpg': ['100401.jpg'], '100500.jpg': ['100501.jpg', '100502.jpg', '100503.jpg'], '100600.jpg': ['100601.jpg'], '100700.jpg': ['100701.jpg'], '100800.jpg': ['100801.jpg'], '100900.jpg': ['100901.jpg', '100902.jpg'], '101000.jpg': ['101001.jpg'], '101100.jpg': ['101101.jpg'], '101200.jpg': ['101201.jpg'], '101300.jpg': ['101301.jpg'], '101400.jpg': ['101401.jpg', '101402.jpg', '101403.jpg', '101404.jpg'], '101500.jpg': ['101501.jpg', '101502.jpg', '101503.jpg', '101504.jpg'], '101600.jpg': ['101601.jpg'], '101700.jpg': ['101701.jpg', '101702.jpg'], '101800.jpg': ['101801.jpg']}\n"
          ]
        }
      ]
    },
    {
      "cell_type": "code",
      "execution_count": null,
      "metadata": {
        "id": "c9716be7",
        "colab": {
          "base_uri": "https://localhost:8080/"
        },
        "outputId": "f0f354e1-c92d-4d73-9af5-aafe285a92b8"
      },
      "outputs": [
        {
          "output_type": "stream",
          "name": "stdout",
          "text": [
            "mAP: 0.08860\n"
          ]
        }
      ],
      "source": [
        "print('mAP: %.5f' % mAP_lsh)"
      ],
      "id": "c9716be7"
    },
    {
      "cell_type": "markdown",
      "metadata": {
        "id": "1e599bd3"
      },
      "source": [
        "**Q5**: Are the results stable? Do you obtain always the same mAP? Why?"
      ],
      "id": "1e599bd3"
    },
    {
      "cell_type": "markdown",
      "metadata": {
        "id": "71126dfa"
      },
      "source": [
        "Write here the code required to answer the questions stated above. You can add more cells (code / markdown) at this point if you need it."
      ],
      "id": "71126dfa"
    },
    {
      "cell_type": "markdown",
      "metadata": {
        "id": "64381fca"
      },
      "source": [
        "**Q6**: Analyze the effect of changing the number of tables / hash size in terms of mAP and average response time. Some plots here can be useful to justify your answer."
      ],
      "id": "64381fca"
    },
    {
      "cell_type": "code",
      "source": [
        "import time\n",
        "\n",
        "start_time = time.time()\n",
        "results_SIFT, m_ap_SIFT = compute_mAP(query_names, query_imgs, train_names, train_imgs, 'holidays_mini/holidays_images.dat', feat_type='SIFT', nfeats = 1000, thresh = 40, ratio = 0.6)\n",
        "SIFT_time = time.time() - start_time\n",
        "print(\"SIFT time %s seconds: \", SIFT_time)\n",
        "\n",
        "start_time = time.time()\n",
        "results_FAST, m_ap_FAST = compute_mAP(query_names, query_imgs, train_names, train_imgs, 'holidays_mini/holidays_images.dat', feat_type='FAST', nfeats = 500, thresh = 40, ratio = 0.6)\n",
        "FAST_time = time.time() - start_time\n",
        "print(\"FAST time %s seconds: \", FAST_time)\n",
        "\n",
        "start_time = time.time()\n",
        "results_ORB, m_ap_ORB = compute_mAP(query_names, query_imgs, train_names, train_imgs, 'holidays_mini/holidays_images.dat', feat_type='ORB', nfeats = 1000, thresh = 40, ratio = 0.6)\n",
        "ORB_time = time.time() - start_time\n",
        "print(\"ORB time %s seconds: \", ORB_time)\n",
        "\n",
        "# Data for the bar chart\n",
        "time_scores = [SIFT_time, FAST_time, ORB_time]\n",
        "labels = ['SIFT', 'FAST', 'ORB']\n",
        "\n",
        "# Create the bar chart\n",
        "fig, ax = plt.subplots()\n",
        "ax.bar(labels, time_scores)\n",
        "\n",
        "# Set the chart title and axis labels\n",
        "ax.set_title('Time Comparison')\n",
        "ax.set_xlabel('Models')\n",
        "ax.set_ylabel('Time taken')\n",
        "\n",
        "# Display the chart\n",
        "plt.show()"
      ],
      "metadata": {
        "id": "hZcRfBrwBVcX"
      },
      "id": "hZcRfBrwBVcX",
      "execution_count": null,
      "outputs": []
    },
    {
      "cell_type": "markdown",
      "metadata": {
        "id": "7978b7c4"
      },
      "source": [
        "Write here the code required to answer the questions stated above. You can add more cells (code / markdown) at this point if you need it."
      ],
      "id": "7978b7c4"
    },
    {
      "cell_type": "markdown",
      "metadata": {
        "id": "74726440"
      },
      "source": [
        "**Q7:** Despite the different descriptors used, compare the performance of the randomized k-d trees and LSH approaches from different points of view (accuracy, training times, querying times, ...). Some plots can be useful here to justify your answer."
      ],
      "id": "74726440"
    },
    {
      "cell_type": "markdown",
      "metadata": {
        "id": "3cf65981"
      },
      "source": [
        "Write here the code required to answer the questions stated above. You can add more cells (code / markdown) at this point if you need it."
      ],
      "id": "3cf65981"
    },
    {
      "cell_type": "markdown",
      "metadata": {
        "id": "d5d89bb5"
      },
      "source": [
        "## Bag-of-Words\n",
        "In this section, you will implement the Bag-of-Words (BoW) model for image retrieval. Additionally, you will also implement the TF-IDF scoring scheme."
      ],
      "id": "d5d89bb5"
    },
    {
      "cell_type": "markdown",
      "metadata": {
        "id": "9b174ede"
      },
      "source": [
        "### Download visual dictionaries\n",
        "To use a BoW model, first we need a visual vocabulary. The authors of the INRIA Holidays dataset provide some visual vocabularies, trained using a clustering method (e.g. $k$-means) in a different dataset (Flickr60K).\n",
        "\n",
        "First, download these vocabularies from [here](https://uibes-my.sharepoint.com/:u:/g/personal/egf350_id_uib_es/EY1G011OvfJOnwqWQQzmHmgBkXhLHBaK00wdizsUT252dw).\n",
        "\n",
        "> **Unzip this file into the root directory of the development kit, at the same level of the datasets.**\n",
        "\n",
        "A folder named `clust` is now available in your workspace, containing visual vocabularies of 100, 200, 500, 1K, 2K, 5K, 10K, 20K, 50K, 100K and 200K visual words. Again, these are binary files, and therefore we provide you with functions to load and index them:"
      ],
      "id": "9b174ede"
    },
    {
      "cell_type": "code",
      "execution_count": 16,
      "metadata": {
        "id": "DX5pyGbzyfbA",
        "colab": {
          "base_uri": "https://localhost:8080/"
        },
        "outputId": "e5d98930-eef6-4c5a-b6ba-f80d2e461050"
      },
      "outputs": [
        {
          "output_type": "stream",
          "name": "stdout",
          "text": [
            "/content/drive/MyDrive/ImageIndexing\n"
          ]
        }
      ],
      "source": [
        "%cd '../'"
      ],
      "id": "DX5pyGbzyfbA"
    },
    {
      "cell_type": "code",
      "execution_count": null,
      "metadata": {
        "id": "Jk5-GMysUqZO"
      },
      "outputs": [],
      "source": [
        "unzip_tarfile(\"clust.tar.gz\")"
      ],
      "id": "Jk5-GMysUqZO"
    },
    {
      "cell_type": "code",
      "execution_count": 17,
      "metadata": {
        "id": "e26fefdc"
      },
      "outputs": [],
      "source": [
        "voc = rd.load_visual_vocab(\"clust/clust_flickr60_k200.fvecs\", ntrees=4)"
      ],
      "id": "e26fefdc"
    },
    {
      "cell_type": "markdown",
      "metadata": {
        "id": "97d05851"
      },
      "source": [
        "With this function, the corresponding vocabulary is read. Additionally, a FLANN index structure based on kd-trees is built and returned using the centroids. This is to allow a fast access when searching for the closest visual words in the vocabulary. More precisely, in this example, 4 trees are constructed using the vocabulary of 200 centroids. Now, given a query descriptor(s), you can use `match` or `knnMatch` methods as usual to search for the closest (approximate) visual word(s) in the vocabulary."
      ],
      "id": "97d05851"
    },
    {
      "cell_type": "markdown",
      "metadata": {
        "id": "95ccb141"
      },
      "source": [
        "### BoW and Inverted File\n",
        "Now, write a class called `BoW` to manage the indexing procedure. This class should make use, in addition to the visual vocabulary, an inverted file to compute similarity scores between images. Apart from the class constructor, write three methods: `build_db`, `search_image` and `compute_mAP`:"
      ],
      "id": "95ccb141"
    },
    {
      "cell_type": "code",
      "execution_count": 55,
      "metadata": {
        "id": "802ae103"
      },
      "outputs": [],
      "source": [
        "import numpy as np\n",
        "from collections import Counter\n",
        "import math\n",
        "from sklearn.feature_extraction.text import TfidfTransformer\n",
        "\n",
        "\n",
        "class BoW_TFIDF:\n",
        "    \"\"\"\n",
        "    Class to implement the BoW model + Inverted File + TF-IDF Scoring scheme\n",
        "    \"\"\"\n",
        "  \n",
        "    def __init__(self, vocab_file):\n",
        "        \"\"\"\n",
        "        Class constructor. It loads the vocabulary and initializes other stuff\n",
        "        required for the CBIR system, such as the inverted file structure.\n",
        "        vocab -  An OpenCV2 FLANN index based on a set of kd-trees\n",
        "        \"\"\"\n",
        "        self.vocab = rd.load_visual_vocab(vocab_file)\n",
        "        print(self.vocab)\n",
        "        self.nwords = self.vocab.getTrainDescriptors()[0].shape[0]\n",
        "        print(\"words: \", self.vocab.getTrainDescriptors()[0])\n",
        "        print(self.nwords)\n",
        "        print(\"shape n words:\", )\n",
        "        self.train_names = []\n",
        "        self.inv_list = {word_id: {} for word_id in range(self.nwords)}    \n",
        "        print(self.inv_list)    \n",
        "        self.tfidf = {}\n",
        "\n",
        "    def build_db(self, img_names, img_descs):\n",
        "        \"\"\"\n",
        "        Build an index from a set of images. Essentially, for each image, you should\n",
        "        search its descriptors in the index in order to find the closest visual words\n",
        "        and fill the inverted file structure consequently.\n",
        "\n",
        "        - self.vocab: An OpenCV2 FLANN index based on a set of kd-trees\n",
        "        - self.inv_list: the inverted file structure\n",
        "\n",
        "        - img_names: An ordered list with the names of the train images\n",
        "        - img_descs: A list containing numpy arrays of SIFT descriptors which are not equal shape to Flann kd-trees. Each numpy array i corresponds \n",
        "          to the descriptors found at image i\n",
        "        \"\"\"\n",
        "        for i in range(len(img_names)):\n",
        "            img_desc = img_descs[i]\n",
        "            visual_words = self.vocab.knnMatch(img_desc, k=1)\n",
        "            bow_hist = np.zeros(self.nwords)\n",
        "\n",
        "            for vw in visual_words:\n",
        "                word_id = vw[0].trainIdx\n",
        "                bow_hist[word_id] += 1\n",
        "\n",
        "            bow_hist /= len(img_desc)\n",
        "            self.tfidf[img_names[i]] = bow_hist\n",
        "\n",
        "            for word_id, word_count in enumerate(bow_hist):\n",
        "                if word_count > 0:\n",
        "                    if img_names[i] not in self.inv_list[word_id]:\n",
        "                        self.inv_list[word_id][img_names[i]] = 1\n",
        "                    else:\n",
        "                        self.inv_list[word_id][img_names[i]] += 1\n",
        "\n",
        "    def search_image(self, descs):\n",
        "        \"\"\"\n",
        "        Search an image in the index. Use the TF-IDF here when scoring the images.\n",
        "        - self.vocab: An OpenCV2 FLANN index based on a set of kd-trees\n",
        "        - self.inv_list: the inverted file structure\n",
        "\n",
        "        - descs: A numpy array. It is the set descriptors extracted from the query image.\n",
        "    \n",
        "        RETURN:\n",
        "        - An ordered list of similar images, e.g.: ['100101.jpg', '100202.jpg', ...]\n",
        "        \"\"\"\n",
        "\n",
        "        for i in range(len(descs)):\n",
        "            img_desc = descs[i]\n",
        "            visual_words = self.vocab.knnMatch(img_desc, k=1)\n",
        "            bow_hist = np.zeros(self.nwords)\n",
        "          \n",
        "         # Convert the query descriptors to visual words using the vocabulary\n",
        "        query_bow_descs = self.vocab.getIndex(descs)\n",
        "\n",
        "        # Compute the TF-IDF weights for the query\n",
        "        query_tfidf = {}\n",
        "        for word_id in set(query_bow_descs):\n",
        "            df = len(self.inv_list[word_id])\n",
        "            idf = math.log(len(self.train_names) / df)\n",
        "            query_tfidf[word_id] = query_bow_descs.count(word_id) * idf\n",
        "\n",
        "        # Score images using inverted file structure\n",
        "        scores = {}\n",
        "        for word_id, word_weight in query_tfidf.items():\n",
        "            if word_id in self.inv_list:\n",
        "                for img_id, img_weight in self.inv_list[word_id].items():\n",
        "                    if img_id not in scores:\n",
        "                        scores[img_id] = 0\n",
        "                    scores[img_id] += word_weight * img_weight\n",
        "\n",
        "        # Normalize scores by image lengths\n",
        "        for img_id in scores:\n",
        "            scores[img_id] /= len(self.db_descs[img_id])\n",
        "\n",
        "        # Sort images by score and return top-k\n",
        "        sorted_names = [self.train_names[i] for i in np.argsort(list(scores.values()))[::-1][:self.nwords]]\n",
        "\n",
        "        return sorted_names\n",
        "      \n",
        "    def compute_mAP(self, query_names, query_descs):\n",
        "        \"\"\"\n",
        "        Perform a search for a list of query images against the database and evaluates\n",
        "        the performance of the system.\n",
        "        \n",
        "        - query_names: An ordered list with the names of query images\n",
        "        - query_descs: A list containing numpy arrays of size (ndesc_for_this_image, 128). \n",
        "              Each numpy array i corresponds to the descriptors found at image i.\n",
        "\n",
        "        RETURN:\n",
        "        - total_results: A dictionary containing, for each query image, an ordered list of the retrieved images.\n",
        "        - m_ap: Mean Average Precision averaged over all queries.\n",
        "        \"\"\""
      ],
      "id": "802ae103"
    },
    {
      "cell_type": "code",
      "execution_count": 60,
      "metadata": {
        "id": "efd007f2",
        "colab": {
          "base_uri": "https://localhost:8080/"
        },
        "outputId": "1933dd6b-f01b-4db4-eb6f-7d63951ea148"
      },
      "outputs": [
        {
          "output_type": "stream",
          "name": "stdout",
          "text": [
            "< cv2.FlannBasedMatcher 0x7f5810f8b7d0>\n",
            "words:  [[95.986      24.046616    2.1189508  ... 16.138582   10.996956\n",
            "   6.9250784 ]\n",
            " [97.064995   16.3351      0.92865616 ... 19.4075     20.04055\n",
            "   8.1397085 ]\n",
            " [ 4.534984    3.3588486   4.9539337  ...  6.6494894   5.9224124\n",
            "   6.913866  ]\n",
            " ...\n",
            " [12.815647   20.946817   14.52644    ... 29.963161   14.178721\n",
            "   7.7485647 ]\n",
            " [40.063267   17.360533   12.3862915  ... 18.68451    28.693296\n",
            "  34.879185  ]\n",
            " [21.252117   39.14799    15.613137   ... 10.719055   19.606297\n",
            "  31.355482  ]]\n",
            "200\n",
            "shape n words:\n",
            "{0: {}, 1: {}, 2: {}, 3: {}, 4: {}, 5: {}, 6: {}, 7: {}, 8: {}, 9: {}, 10: {}, 11: {}, 12: {}, 13: {}, 14: {}, 15: {}, 16: {}, 17: {}, 18: {}, 19: {}, 20: {}, 21: {}, 22: {}, 23: {}, 24: {}, 25: {}, 26: {}, 27: {}, 28: {}, 29: {}, 30: {}, 31: {}, 32: {}, 33: {}, 34: {}, 35: {}, 36: {}, 37: {}, 38: {}, 39: {}, 40: {}, 41: {}, 42: {}, 43: {}, 44: {}, 45: {}, 46: {}, 47: {}, 48: {}, 49: {}, 50: {}, 51: {}, 52: {}, 53: {}, 54: {}, 55: {}, 56: {}, 57: {}, 58: {}, 59: {}, 60: {}, 61: {}, 62: {}, 63: {}, 64: {}, 65: {}, 66: {}, 67: {}, 68: {}, 69: {}, 70: {}, 71: {}, 72: {}, 73: {}, 74: {}, 75: {}, 76: {}, 77: {}, 78: {}, 79: {}, 80: {}, 81: {}, 82: {}, 83: {}, 84: {}, 85: {}, 86: {}, 87: {}, 88: {}, 89: {}, 90: {}, 91: {}, 92: {}, 93: {}, 94: {}, 95: {}, 96: {}, 97: {}, 98: {}, 99: {}, 100: {}, 101: {}, 102: {}, 103: {}, 104: {}, 105: {}, 106: {}, 107: {}, 108: {}, 109: {}, 110: {}, 111: {}, 112: {}, 113: {}, 114: {}, 115: {}, 116: {}, 117: {}, 118: {}, 119: {}, 120: {}, 121: {}, 122: {}, 123: {}, 124: {}, 125: {}, 126: {}, 127: {}, 128: {}, 129: {}, 130: {}, 131: {}, 132: {}, 133: {}, 134: {}, 135: {}, 136: {}, 137: {}, 138: {}, 139: {}, 140: {}, 141: {}, 142: {}, 143: {}, 144: {}, 145: {}, 146: {}, 147: {}, 148: {}, 149: {}, 150: {}, 151: {}, 152: {}, 153: {}, 154: {}, 155: {}, 156: {}, 157: {}, 158: {}, 159: {}, 160: {}, 161: {}, 162: {}, 163: {}, 164: {}, 165: {}, 166: {}, 167: {}, 168: {}, 169: {}, 170: {}, 171: {}, 172: {}, 173: {}, 174: {}, 175: {}, 176: {}, 177: {}, 178: {}, 179: {}, 180: {}, 181: {}, 182: {}, 183: {}, 184: {}, 185: {}, 186: {}, 187: {}, 188: {}, 189: {}, 190: {}, 191: {}, 192: {}, 193: {}, 194: {}, 195: {}, 196: {}, 197: {}, 198: {}, 199: {}}\n"
          ]
        }
      ],
      "source": [
        "# Example of use\n",
        "index = BoW_TFIDF('clust/clust_flickr60_k200.fvecs')\n",
        "index.build_db(train_names[0:14], train_desc[0:14])"
      ],
      "id": "efd007f2"
    },
    {
      "cell_type": "markdown",
      "source": [
        "There is a 'model' descriptor list of 200 in the inv_list and if it's descriptor is in the image it is stored as name with count e.g. 195: {'100001.jpg': 1, '100101.jpg': 1, '100201.jpg': 1, '100301.jpg': 1, '100302.jpg': 1, '100401.jpg': 1, '100501.jpg': 1, '100502.jpg': 1, '100503.jpg': 1, '100601.jpg': 1, '100701.jpg': 1, '100801.jpg': 1}"
      ],
      "metadata": {
        "id": "FtbsceoFtKgw"
      },
      "id": "FtbsceoFtKgw"
    },
    {
      "cell_type": "code",
      "source": [
        "print(\"inverse: \", index.inv_list)"
      ],
      "metadata": {
        "colab": {
          "base_uri": "https://localhost:8080/"
        },
        "id": "-oHJ3pvFmjE2",
        "outputId": "01138ca0-9aef-49e5-b73b-dba91d829b33"
      },
      "id": "-oHJ3pvFmjE2",
      "execution_count": 61,
      "outputs": [
        {
          "output_type": "stream",
          "name": "stdout",
          "text": [
            "inverse:  {0: {'100001.jpg': 1, '100101.jpg': 1, '100201.jpg': 1, '100501.jpg': 1, '100503.jpg': 1, '100601.jpg': 1, '100801.jpg': 1, '100901.jpg': 1}, 1: {'100101.jpg': 1, '100201.jpg': 1, '100401.jpg': 1, '100502.jpg': 1, '100503.jpg': 1, '100601.jpg': 1, '100801.jpg': 1, '100901.jpg': 1}, 2: {'100001.jpg': 1, '100101.jpg': 1, '100201.jpg': 1, '100301.jpg': 1, '100302.jpg': 1, '100501.jpg': 1, '100502.jpg': 1, '100503.jpg': 1, '100801.jpg': 1, '100901.jpg': 1}, 3: {'100001.jpg': 1, '100101.jpg': 1, '100201.jpg': 1, '100301.jpg': 1, '100302.jpg': 1, '100401.jpg': 1, '100501.jpg': 1, '100502.jpg': 1, '100503.jpg': 1, '100601.jpg': 1, '100801.jpg': 1}, 4: {'100001.jpg': 1, '100101.jpg': 1, '100201.jpg': 1, '100301.jpg': 1, '100302.jpg': 1, '100401.jpg': 1, '100501.jpg': 1, '100502.jpg': 1, '100503.jpg': 1, '100601.jpg': 1, '100701.jpg': 1, '100801.jpg': 1, '100901.jpg': 1}, 5: {'100001.jpg': 1, '100101.jpg': 1, '100201.jpg': 1, '100503.jpg': 1, '100601.jpg': 1, '100801.jpg': 1, '100901.jpg': 1}, 6: {'100101.jpg': 1, '100601.jpg': 1, '100801.jpg': 1, '100901.jpg': 1}, 7: {'100001.jpg': 1, '100101.jpg': 1, '100201.jpg': 1, '100301.jpg': 1, '100302.jpg': 1, '100401.jpg': 1, '100501.jpg': 1, '100502.jpg': 1, '100503.jpg': 1, '100601.jpg': 1, '100701.jpg': 1, '100801.jpg': 1, '100901.jpg': 1}, 8: {'100101.jpg': 1, '100501.jpg': 1, '100601.jpg': 1, '100801.jpg': 1, '100901.jpg': 1}, 9: {'100001.jpg': 1, '100002.jpg': 1, '100101.jpg': 1, '100201.jpg': 1, '100301.jpg': 1, '100501.jpg': 1, '100502.jpg': 1, '100503.jpg': 1, '100801.jpg': 1, '100901.jpg': 1}, 10: {'100001.jpg': 1, '100101.jpg': 1, '100201.jpg': 1, '100301.jpg': 1, '100302.jpg': 1, '100401.jpg': 1, '100501.jpg': 1, '100502.jpg': 1, '100503.jpg': 1, '100601.jpg': 1, '100701.jpg': 1, '100801.jpg': 1, '100901.jpg': 1}, 11: {'100001.jpg': 1, '100101.jpg': 1, '100201.jpg': 1, '100301.jpg': 1, '100302.jpg': 1, '100401.jpg': 1, '100501.jpg': 1, '100502.jpg': 1, '100503.jpg': 1, '100601.jpg': 1, '100701.jpg': 1, '100801.jpg': 1, '100901.jpg': 1}, 12: {'100001.jpg': 1, '100101.jpg': 1, '100201.jpg': 1, '100301.jpg': 1, '100302.jpg': 1, '100401.jpg': 1, '100501.jpg': 1, '100502.jpg': 1, '100503.jpg': 1, '100601.jpg': 1, '100701.jpg': 1, '100801.jpg': 1}, 13: {'100001.jpg': 1, '100101.jpg': 1, '100201.jpg': 1, '100301.jpg': 1, '100302.jpg': 1, '100401.jpg': 1, '100501.jpg': 1, '100502.jpg': 1, '100503.jpg': 1, '100601.jpg': 1, '100701.jpg': 1, '100801.jpg': 1}, 14: {'100001.jpg': 1, '100201.jpg': 1, '100301.jpg': 1, '100302.jpg': 1, '100401.jpg': 1, '100501.jpg': 1, '100502.jpg': 1, '100503.jpg': 1, '100601.jpg': 1, '100801.jpg': 1}, 15: {'100001.jpg': 1, '100101.jpg': 1, '100201.jpg': 1, '100301.jpg': 1, '100302.jpg': 1, '100401.jpg': 1, '100501.jpg': 1, '100503.jpg': 1, '100801.jpg': 1, '100901.jpg': 1}, 16: {'100001.jpg': 1, '100101.jpg': 1, '100201.jpg': 1, '100501.jpg': 1, '100601.jpg': 1, '100801.jpg': 1, '100901.jpg': 1}, 17: {'100001.jpg': 1, '100002.jpg': 1, '100101.jpg': 1, '100201.jpg': 1, '100301.jpg': 1, '100302.jpg': 1, '100401.jpg': 1, '100501.jpg': 1, '100502.jpg': 1, '100503.jpg': 1, '100601.jpg': 1, '100801.jpg': 1, '100901.jpg': 1}, 18: {'100001.jpg': 1, '100101.jpg': 1, '100201.jpg': 1, '100301.jpg': 1, '100302.jpg': 1, '100401.jpg': 1, '100501.jpg': 1, '100502.jpg': 1, '100503.jpg': 1, '100701.jpg': 1, '100801.jpg': 1}, 19: {'100001.jpg': 1, '100002.jpg': 1, '100201.jpg': 1, '100301.jpg': 1, '100302.jpg': 1, '100401.jpg': 1, '100501.jpg': 1, '100502.jpg': 1, '100503.jpg': 1, '100601.jpg': 1, '100701.jpg': 1, '100801.jpg': 1}, 20: {'100001.jpg': 1, '100101.jpg': 1, '100201.jpg': 1, '100301.jpg': 1, '100302.jpg': 1, '100401.jpg': 1, '100501.jpg': 1, '100502.jpg': 1, '100503.jpg': 1, '100601.jpg': 1, '100701.jpg': 1, '100801.jpg': 1, '100901.jpg': 1}, 21: {'100001.jpg': 1, '100101.jpg': 1, '100201.jpg': 1, '100301.jpg': 1, '100302.jpg': 1, '100401.jpg': 1, '100501.jpg': 1, '100502.jpg': 1, '100503.jpg': 1, '100601.jpg': 1, '100701.jpg': 1, '100801.jpg': 1}, 22: {'100001.jpg': 1, '100101.jpg': 1, '100201.jpg': 1, '100301.jpg': 1, '100302.jpg': 1, '100401.jpg': 1, '100501.jpg': 1, '100502.jpg': 1, '100503.jpg': 1, '100601.jpg': 1, '100701.jpg': 1, '100801.jpg': 1}, 23: {'100001.jpg': 1, '100501.jpg': 1, '100502.jpg': 1, '100601.jpg': 1, '100701.jpg': 1}, 24: {'100001.jpg': 1, '100201.jpg': 1, '100301.jpg': 1, '100302.jpg': 1, '100401.jpg': 1, '100501.jpg': 1, '100502.jpg': 1, '100503.jpg': 1, '100601.jpg': 1, '100801.jpg': 1}, 25: {'100001.jpg': 1, '100201.jpg': 1, '100301.jpg': 1, '100302.jpg': 1, '100401.jpg': 1, '100501.jpg': 1, '100502.jpg': 1, '100503.jpg': 1, '100601.jpg': 1}, 26: {'100001.jpg': 1, '100101.jpg': 1, '100201.jpg': 1, '100301.jpg': 1, '100302.jpg': 1, '100401.jpg': 1, '100501.jpg': 1, '100502.jpg': 1, '100503.jpg': 1, '100801.jpg': 1}, 27: {'100001.jpg': 1, '100002.jpg': 1, '100101.jpg': 1, '100201.jpg': 1, '100301.jpg': 1, '100302.jpg': 1, '100401.jpg': 1, '100501.jpg': 1, '100502.jpg': 1, '100503.jpg': 1, '100601.jpg': 1, '100701.jpg': 1, '100801.jpg': 1}, 28: {'100001.jpg': 1, '100101.jpg': 1, '100201.jpg': 1, '100501.jpg': 1, '100502.jpg': 1, '100601.jpg': 1, '100701.jpg': 1, '100801.jpg': 1, '100901.jpg': 1}, 29: {'100001.jpg': 1, '100101.jpg': 1, '100201.jpg': 1, '100502.jpg': 1, '100503.jpg': 1, '100801.jpg': 1, '100901.jpg': 1}, 30: {'100001.jpg': 1, '100101.jpg': 1, '100201.jpg': 1, '100301.jpg': 1, '100401.jpg': 1, '100501.jpg': 1, '100502.jpg': 1, '100503.jpg': 1, '100601.jpg': 1, '100701.jpg': 1, '100801.jpg': 1, '100901.jpg': 1}, 31: {'100001.jpg': 1, '100101.jpg': 1, '100201.jpg': 1, '100301.jpg': 1, '100302.jpg': 1, '100401.jpg': 1, '100502.jpg': 1, '100503.jpg': 1, '100601.jpg': 1, '100801.jpg': 1, '100901.jpg': 1}, 32: {'100001.jpg': 1, '100002.jpg': 1, '100101.jpg': 1, '100201.jpg': 1, '100301.jpg': 1, '100302.jpg': 1, '100401.jpg': 1, '100501.jpg': 1, '100502.jpg': 1, '100503.jpg': 1, '100801.jpg': 1}, 33: {'100101.jpg': 1, '100201.jpg': 1, '100301.jpg': 1, '100302.jpg': 1, '100401.jpg': 1, '100501.jpg': 1, '100502.jpg': 1, '100503.jpg': 1, '100701.jpg': 1, '100801.jpg': 1, '100901.jpg': 1}, 34: {'100201.jpg': 1, '100401.jpg': 1, '100501.jpg': 1, '100503.jpg': 1, '100801.jpg': 1, '100901.jpg': 1}, 35: {'100001.jpg': 1, '100002.jpg': 1, '100101.jpg': 1, '100201.jpg': 1, '100301.jpg': 1, '100302.jpg': 1, '100401.jpg': 1, '100501.jpg': 1, '100502.jpg': 1, '100503.jpg': 1, '100601.jpg': 1, '100701.jpg': 1, '100801.jpg': 1, '100901.jpg': 1}, 36: {'100001.jpg': 1, '100002.jpg': 1, '100302.jpg': 1, '100401.jpg': 1, '100501.jpg': 1, '100502.jpg': 1, '100701.jpg': 1, '100801.jpg': 1}, 37: {'100001.jpg': 1, '100101.jpg': 1, '100201.jpg': 1, '100301.jpg': 1, '100302.jpg': 1, '100501.jpg': 1, '100502.jpg': 1, '100503.jpg': 1, '100601.jpg': 1, '100701.jpg': 1, '100801.jpg': 1}, 38: {'100001.jpg': 1, '100002.jpg': 1, '100101.jpg': 1, '100201.jpg': 1, '100301.jpg': 1, '100302.jpg': 1, '100401.jpg': 1, '100501.jpg': 1, '100502.jpg': 1, '100503.jpg': 1, '100601.jpg': 1, '100701.jpg': 1, '100801.jpg': 1}, 39: {'100001.jpg': 1, '100101.jpg': 1, '100201.jpg': 1, '100301.jpg': 1, '100302.jpg': 1, '100501.jpg': 1, '100502.jpg': 1, '100503.jpg': 1, '100601.jpg': 1}, 40: {'100101.jpg': 1, '100601.jpg': 1, '100801.jpg': 1}, 41: {'100101.jpg': 1, '100601.jpg': 1, '100701.jpg': 1, '100801.jpg': 1, '100901.jpg': 1}, 42: {'100001.jpg': 1, '100101.jpg': 1, '100201.jpg': 1, '100301.jpg': 1, '100302.jpg': 1, '100401.jpg': 1, '100501.jpg': 1, '100503.jpg': 1, '100801.jpg': 1, '100901.jpg': 1}, 43: {'100101.jpg': 1, '100501.jpg': 1, '100801.jpg': 1}, 44: {'100001.jpg': 1, '100301.jpg': 1, '100502.jpg': 1, '100701.jpg': 1, '100801.jpg': 1, '100901.jpg': 1}, 45: {'100001.jpg': 1, '100002.jpg': 1, '100101.jpg': 1, '100201.jpg': 1, '100401.jpg': 1, '100502.jpg': 1, '100601.jpg': 1, '100801.jpg': 1}, 46: {'100001.jpg': 1, '100101.jpg': 1, '100401.jpg': 1, '100501.jpg': 1, '100503.jpg': 1, '100601.jpg': 1, '100801.jpg': 1, '100901.jpg': 1}, 47: {'100001.jpg': 1, '100101.jpg': 1, '100201.jpg': 1, '100302.jpg': 1, '100501.jpg': 1, '100502.jpg': 1, '100503.jpg': 1, '100601.jpg': 1, '100801.jpg': 1, '100901.jpg': 1}, 48: {'100001.jpg': 1, '100101.jpg': 1, '100201.jpg': 1, '100301.jpg': 1, '100302.jpg': 1, '100401.jpg': 1, '100501.jpg': 1, '100502.jpg': 1, '100503.jpg': 1, '100601.jpg': 1, '100701.jpg': 1, '100801.jpg': 1, '100901.jpg': 1}, 49: {'100001.jpg': 1, '100101.jpg': 1, '100201.jpg': 1, '100301.jpg': 1, '100302.jpg': 1, '100401.jpg': 1, '100501.jpg': 1, '100502.jpg': 1, '100503.jpg': 1, '100601.jpg': 1, '100801.jpg': 1}, 50: {'100001.jpg': 1, '100201.jpg': 1, '100301.jpg': 1, '100302.jpg': 1, '100401.jpg': 1, '100501.jpg': 1, '100502.jpg': 1, '100503.jpg': 1, '100601.jpg': 1, '100801.jpg': 1}, 51: {'100001.jpg': 1, '100101.jpg': 1, '100201.jpg': 1, '100301.jpg': 1, '100302.jpg': 1, '100401.jpg': 1, '100501.jpg': 1, '100502.jpg': 1, '100503.jpg': 1, '100601.jpg': 1, '100701.jpg': 1, '100801.jpg': 1}, 52: {'100001.jpg': 1, '100002.jpg': 1, '100101.jpg': 1, '100201.jpg': 1, '100301.jpg': 1, '100302.jpg': 1, '100401.jpg': 1, '100501.jpg': 1, '100502.jpg': 1, '100503.jpg': 1, '100701.jpg': 1, '100801.jpg': 1}, 53: {'100001.jpg': 1, '100101.jpg': 1, '100201.jpg': 1, '100301.jpg': 1, '100302.jpg': 1, '100401.jpg': 1, '100501.jpg': 1, '100502.jpg': 1, '100503.jpg': 1, '100601.jpg': 1, '100801.jpg': 1}, 54: {'100001.jpg': 1, '100002.jpg': 1, '100101.jpg': 1, '100201.jpg': 1, '100401.jpg': 1, '100502.jpg': 1, '100503.jpg': 1, '100801.jpg': 1}, 55: {'100001.jpg': 1, '100002.jpg': 1, '100101.jpg': 1, '100201.jpg': 1, '100301.jpg': 1, '100302.jpg': 1, '100401.jpg': 1, '100503.jpg': 1, '100601.jpg': 1, '100701.jpg': 1, '100801.jpg': 1}, 56: {'100001.jpg': 1, '100101.jpg': 1, '100201.jpg': 1, '100301.jpg': 1, '100302.jpg': 1, '100501.jpg': 1, '100502.jpg': 1, '100503.jpg': 1, '100601.jpg': 1}, 57: {'100001.jpg': 1, '100101.jpg': 1, '100201.jpg': 1, '100301.jpg': 1, '100302.jpg': 1, '100401.jpg': 1, '100501.jpg': 1, '100502.jpg': 1, '100503.jpg': 1, '100601.jpg': 1, '100801.jpg': 1}, 58: {'100001.jpg': 1, '100101.jpg': 1, '100201.jpg': 1, '100301.jpg': 1, '100302.jpg': 1, '100401.jpg': 1, '100501.jpg': 1, '100502.jpg': 1, '100503.jpg': 1, '100601.jpg': 1, '100701.jpg': 1, '100801.jpg': 1}, 59: {'100001.jpg': 1, '100101.jpg': 1, '100201.jpg': 1, '100301.jpg': 1, '100302.jpg': 1, '100401.jpg': 1, '100501.jpg': 1, '100502.jpg': 1, '100503.jpg': 1, '100601.jpg': 1, '100701.jpg': 1, '100801.jpg': 1, '100901.jpg': 1}, 60: {'100201.jpg': 1, '100501.jpg': 1, '100601.jpg': 1}, 61: {'100001.jpg': 1, '100002.jpg': 1, '100101.jpg': 1, '100201.jpg': 1, '100301.jpg': 1, '100302.jpg': 1, '100502.jpg': 1, '100503.jpg': 1, '100601.jpg': 1, '100801.jpg': 1, '100901.jpg': 1}, 62: {'100001.jpg': 1, '100002.jpg': 1, '100101.jpg': 1, '100201.jpg': 1, '100301.jpg': 1, '100302.jpg': 1, '100401.jpg': 1, '100501.jpg': 1, '100502.jpg': 1, '100503.jpg': 1, '100601.jpg': 1, '100701.jpg': 1, '100801.jpg': 1}, 63: {'100001.jpg': 1, '100002.jpg': 1, '100101.jpg': 1, '100201.jpg': 1, '100301.jpg': 1, '100302.jpg': 1, '100401.jpg': 1, '100501.jpg': 1, '100502.jpg': 1, '100503.jpg': 1, '100601.jpg': 1, '100701.jpg': 1, '100801.jpg': 1}, 64: {'100001.jpg': 1, '100101.jpg': 1, '100201.jpg': 1, '100301.jpg': 1, '100302.jpg': 1, '100401.jpg': 1, '100501.jpg': 1, '100502.jpg': 1, '100503.jpg': 1, '100601.jpg': 1, '100701.jpg': 1}, 65: {'100001.jpg': 1, '100101.jpg': 1, '100201.jpg': 1, '100401.jpg': 1, '100502.jpg': 1, '100601.jpg': 1, '100701.jpg': 1, '100801.jpg': 1, '100901.jpg': 1}, 66: {'100001.jpg': 1, '100002.jpg': 1, '100101.jpg': 1, '100201.jpg': 1, '100301.jpg': 1, '100302.jpg': 1, '100401.jpg': 1, '100501.jpg': 1, '100502.jpg': 1, '100503.jpg': 1, '100601.jpg': 1, '100801.jpg': 1}, 67: {'100201.jpg': 1, '100601.jpg': 1, '100801.jpg': 1, '100901.jpg': 1}, 68: {'100101.jpg': 1, '100401.jpg': 1, '100801.jpg': 1}, 69: {'100001.jpg': 1, '100101.jpg': 1, '100201.jpg': 1, '100401.jpg': 1, '100503.jpg': 1, '100801.jpg': 1, '100901.jpg': 1}, 70: {'100001.jpg': 1, '100002.jpg': 1, '100101.jpg': 1, '100201.jpg': 1, '100502.jpg': 1, '100601.jpg': 1, '100801.jpg': 1, '100901.jpg': 1}, 71: {'100001.jpg': 1, '100002.jpg': 1, '100101.jpg': 1, '100201.jpg': 1, '100401.jpg': 1, '100502.jpg': 1, '100503.jpg': 1, '100601.jpg': 1, '100801.jpg': 1, '100901.jpg': 1}, 72: {'100001.jpg': 1, '100101.jpg': 1, '100201.jpg': 1, '100501.jpg': 1, '100502.jpg': 1, '100503.jpg': 1, '100601.jpg': 1, '100801.jpg': 1, '100901.jpg': 1}, 73: {'100001.jpg': 1, '100002.jpg': 1, '100101.jpg': 1, '100201.jpg': 1, '100302.jpg': 1, '100401.jpg': 1, '100501.jpg': 1, '100503.jpg': 1, '100801.jpg': 1}, 74: {'100001.jpg': 1, '100101.jpg': 1, '100401.jpg': 1, '100501.jpg': 1, '100601.jpg': 1, '100701.jpg': 1}, 75: {'100101.jpg': 1, '100401.jpg': 1, '100601.jpg': 1, '100701.jpg': 1, '100801.jpg': 1}, 76: {'100001.jpg': 1, '100002.jpg': 1, '100101.jpg': 1, '100201.jpg': 1, '100301.jpg': 1, '100302.jpg': 1, '100401.jpg': 1, '100501.jpg': 1, '100502.jpg': 1, '100503.jpg': 1, '100601.jpg': 1, '100801.jpg': 1}, 77: {'100001.jpg': 1, '100101.jpg': 1, '100201.jpg': 1, '100301.jpg': 1, '100302.jpg': 1, '100401.jpg': 1, '100501.jpg': 1, '100502.jpg': 1, '100503.jpg': 1, '100601.jpg': 1, '100801.jpg': 1, '100901.jpg': 1}, 78: {'100001.jpg': 1, '100201.jpg': 1, '100301.jpg': 1, '100501.jpg': 1, '100502.jpg': 1, '100503.jpg': 1, '100601.jpg': 1, '100801.jpg': 1, '100901.jpg': 1}, 79: {'100101.jpg': 1, '100201.jpg': 1, '100301.jpg': 1, '100302.jpg': 1, '100401.jpg': 1, '100502.jpg': 1, '100601.jpg': 1, '100801.jpg': 1, '100901.jpg': 1}, 80: {'100101.jpg': 1, '100201.jpg': 1, '100501.jpg': 1, '100801.jpg': 1, '100901.jpg': 1}, 81: {'100001.jpg': 1, '100101.jpg': 1, '100301.jpg': 1, '100302.jpg': 1, '100501.jpg': 1, '100503.jpg': 1, '100601.jpg': 1, '100801.jpg': 1, '100901.jpg': 1}, 82: {'100001.jpg': 1, '100101.jpg': 1, '100201.jpg': 1, '100302.jpg': 1, '100401.jpg': 1, '100501.jpg': 1, '100502.jpg': 1, '100503.jpg': 1, '100601.jpg': 1, '100801.jpg': 1, '100901.jpg': 1}, 83: {'100001.jpg': 1, '100002.jpg': 1, '100101.jpg': 1, '100201.jpg': 1, '100301.jpg': 1, '100302.jpg': 1, '100401.jpg': 1, '100501.jpg': 1, '100502.jpg': 1, '100503.jpg': 1, '100601.jpg': 1, '100701.jpg': 1, '100801.jpg': 1, '100901.jpg': 1}, 84: {'100001.jpg': 1, '100101.jpg': 1, '100201.jpg': 1, '100501.jpg': 1, '100801.jpg': 1, '100901.jpg': 1}, 85: {'100001.jpg': 1, '100002.jpg': 1, '100101.jpg': 1, '100301.jpg': 1, '100302.jpg': 1, '100401.jpg': 1, '100501.jpg': 1, '100502.jpg': 1, '100503.jpg': 1, '100801.jpg': 1, '100901.jpg': 1}, 86: {'100001.jpg': 1, '100101.jpg': 1, '100301.jpg': 1, '100302.jpg': 1, '100401.jpg': 1, '100503.jpg': 1, '100601.jpg': 1, '100701.jpg': 1, '100801.jpg': 1}, 87: {'100001.jpg': 1, '100201.jpg': 1, '100501.jpg': 1, '100601.jpg': 1, '100801.jpg': 1}, 88: {'100001.jpg': 1, '100101.jpg': 1, '100201.jpg': 1, '100301.jpg': 1, '100302.jpg': 1, '100401.jpg': 1, '100503.jpg': 1, '100801.jpg': 1, '100901.jpg': 1}, 89: {'100001.jpg': 1, '100101.jpg': 1, '100301.jpg': 1, '100501.jpg': 1, '100502.jpg': 1, '100503.jpg': 1}, 90: {'100801.jpg': 1, '100901.jpg': 1}, 91: {'100001.jpg': 1, '100101.jpg': 1, '100201.jpg': 1, '100301.jpg': 1, '100302.jpg': 1, '100401.jpg': 1, '100501.jpg': 1, '100502.jpg': 1, '100503.jpg': 1, '100601.jpg': 1, '100701.jpg': 1, '100801.jpg': 1}, 92: {'100001.jpg': 1, '100101.jpg': 1, '100201.jpg': 1, '100302.jpg': 1, '100401.jpg': 1, '100501.jpg': 1, '100502.jpg': 1, '100503.jpg': 1, '100601.jpg': 1, '100701.jpg': 1, '100801.jpg': 1}, 93: {'100201.jpg': 1, '100301.jpg': 1, '100401.jpg': 1, '100501.jpg': 1, '100502.jpg': 1, '100503.jpg': 1, '100601.jpg': 1}, 94: {'100001.jpg': 1, '100201.jpg': 1, '100301.jpg': 1, '100302.jpg': 1, '100501.jpg': 1, '100502.jpg': 1, '100503.jpg': 1, '100801.jpg': 1}, 95: {'100001.jpg': 1, '100201.jpg': 1, '100301.jpg': 1, '100302.jpg': 1, '100401.jpg': 1, '100501.jpg': 1, '100502.jpg': 1, '100503.jpg': 1, '100601.jpg': 1, '100801.jpg': 1}, 96: {'100201.jpg': 1, '100301.jpg': 1, '100302.jpg': 1, '100502.jpg': 1, '100503.jpg': 1, '100601.jpg': 1, '100801.jpg': 1}, 97: {'100001.jpg': 1, '100101.jpg': 1, '100201.jpg': 1, '100301.jpg': 1, '100302.jpg': 1, '100401.jpg': 1, '100501.jpg': 1, '100502.jpg': 1, '100503.jpg': 1, '100601.jpg': 1, '100801.jpg': 1, '100901.jpg': 1}, 98: {'100001.jpg': 1, '100002.jpg': 1, '100101.jpg': 1, '100201.jpg': 1, '100301.jpg': 1, '100302.jpg': 1, '100401.jpg': 1, '100501.jpg': 1, '100502.jpg': 1, '100503.jpg': 1, '100601.jpg': 1, '100801.jpg': 1}, 99: {'100001.jpg': 1, '100002.jpg': 1, '100101.jpg': 1, '100401.jpg': 1, '100501.jpg': 1, '100502.jpg': 1, '100503.jpg': 1, '100801.jpg': 1, '100901.jpg': 1}, 100: {'100101.jpg': 1, '100201.jpg': 1, '100301.jpg': 1, '100401.jpg': 1, '100502.jpg': 1, '100601.jpg': 1, '100801.jpg': 1, '100901.jpg': 1}, 101: {'100001.jpg': 1, '100101.jpg': 1, '100201.jpg': 1, '100301.jpg': 1, '100302.jpg': 1, '100401.jpg': 1, '100501.jpg': 1, '100502.jpg': 1, '100601.jpg': 1, '100701.jpg': 1, '100801.jpg': 1, '100901.jpg': 1}, 102: {'100001.jpg': 1, '100002.jpg': 1, '100101.jpg': 1, '100201.jpg': 1, '100301.jpg': 1, '100302.jpg': 1, '100401.jpg': 1, '100501.jpg': 1, '100502.jpg': 1, '100503.jpg': 1, '100601.jpg': 1, '100701.jpg': 1, '100801.jpg': 1}, 103: {'100201.jpg': 1, '100502.jpg': 1, '100503.jpg': 1}, 104: {'100001.jpg': 1, '100101.jpg': 1, '100201.jpg': 1, '100301.jpg': 1, '100302.jpg': 1, '100401.jpg': 1, '100501.jpg': 1, '100502.jpg': 1, '100503.jpg': 1, '100601.jpg': 1, '100801.jpg': 1, '100901.jpg': 1}, 105: {'100001.jpg': 1, '100101.jpg': 1, '100201.jpg': 1, '100401.jpg': 1, '100501.jpg': 1, '100502.jpg': 1, '100503.jpg': 1, '100601.jpg': 1, '100801.jpg': 1, '100901.jpg': 1}, 106: {'100001.jpg': 1, '100201.jpg': 1, '100301.jpg': 1, '100302.jpg': 1, '100401.jpg': 1, '100501.jpg': 1, '100502.jpg': 1, '100503.jpg': 1, '100601.jpg': 1, '100701.jpg': 1, '100801.jpg': 1}, 107: {'100001.jpg': 1, '100101.jpg': 1, '100201.jpg': 1, '100301.jpg': 1, '100302.jpg': 1, '100401.jpg': 1, '100501.jpg': 1, '100502.jpg': 1, '100503.jpg': 1, '100601.jpg': 1, '100801.jpg': 1}, 108: {'100001.jpg': 1, '100101.jpg': 1, '100201.jpg': 1, '100301.jpg': 1, '100302.jpg': 1, '100401.jpg': 1, '100501.jpg': 1, '100502.jpg': 1, '100503.jpg': 1, '100601.jpg': 1, '100701.jpg': 1, '100801.jpg': 1}, 109: {'100001.jpg': 1, '100002.jpg': 1, '100101.jpg': 1, '100201.jpg': 1, '100301.jpg': 1, '100302.jpg': 1, '100401.jpg': 1, '100501.jpg': 1, '100502.jpg': 1, '100503.jpg': 1, '100601.jpg': 1, '100701.jpg': 1, '100801.jpg': 1}, 110: {'100001.jpg': 1, '100002.jpg': 1, '100101.jpg': 1, '100201.jpg': 1, '100301.jpg': 1, '100302.jpg': 1, '100401.jpg': 1, '100501.jpg': 1, '100502.jpg': 1, '100503.jpg': 1, '100601.jpg': 1, '100701.jpg': 1, '100801.jpg': 1}, 111: {'100001.jpg': 1, '100101.jpg': 1, '100501.jpg': 1, '100502.jpg': 1, '100601.jpg': 1, '100701.jpg': 1, '100801.jpg': 1, '100901.jpg': 1}, 112: {'100001.jpg': 1, '100201.jpg': 1, '100401.jpg': 1, '100501.jpg': 1, '100502.jpg': 1, '100801.jpg': 1}, 113: {'100001.jpg': 1, '100101.jpg': 1, '100201.jpg': 1, '100301.jpg': 1, '100302.jpg': 1, '100501.jpg': 1, '100502.jpg': 1, '100601.jpg': 1, '100701.jpg': 1}, 114: {'100101.jpg': 1, '100201.jpg': 1, '100301.jpg': 1, '100302.jpg': 1, '100401.jpg': 1, '100503.jpg': 1, '100601.jpg': 1, '100801.jpg': 1}, 115: {'100001.jpg': 1, '100101.jpg': 1, '100201.jpg': 1, '100401.jpg': 1, '100501.jpg': 1, '100502.jpg': 1, '100503.jpg': 1, '100801.jpg': 1, '100901.jpg': 1}, 116: {'100001.jpg': 1, '100002.jpg': 1, '100101.jpg': 1, '100201.jpg': 1, '100301.jpg': 1, '100302.jpg': 1, '100401.jpg': 1, '100501.jpg': 1, '100502.jpg': 1, '100503.jpg': 1, '100601.jpg': 1, '100701.jpg': 1, '100801.jpg': 1, '100901.jpg': 1}, 117: {'100001.jpg': 1, '100101.jpg': 1, '100201.jpg': 1, '100301.jpg': 1, '100302.jpg': 1, '100401.jpg': 1, '100501.jpg': 1, '100502.jpg': 1, '100503.jpg': 1, '100601.jpg': 1, '100801.jpg': 1, '100901.jpg': 1}, 118: {'100001.jpg': 1, '100101.jpg': 1, '100201.jpg': 1, '100301.jpg': 1, '100302.jpg': 1, '100501.jpg': 1, '100502.jpg': 1, '100503.jpg': 1, '100601.jpg': 1, '100701.jpg': 1, '100801.jpg': 1}, 119: {'100001.jpg': 1, '100002.jpg': 1, '100101.jpg': 1, '100201.jpg': 1, '100301.jpg': 1, '100302.jpg': 1, '100401.jpg': 1, '100501.jpg': 1, '100502.jpg': 1, '100503.jpg': 1, '100801.jpg': 1, '100901.jpg': 1}, 120: {'100001.jpg': 1, '100201.jpg': 1, '100401.jpg': 1, '100501.jpg': 1, '100502.jpg': 1, '100503.jpg': 1, '100801.jpg': 1, '100901.jpg': 1}, 121: {'100801.jpg': 1}, 122: {'100001.jpg': 1, '100002.jpg': 1, '100101.jpg': 1, '100201.jpg': 1, '100301.jpg': 1, '100302.jpg': 1, '100401.jpg': 1, '100502.jpg': 1, '100503.jpg': 1, '100601.jpg': 1, '100701.jpg': 1, '100801.jpg': 1, '100901.jpg': 1}, 123: {'100001.jpg': 1, '100002.jpg': 1, '100101.jpg': 1, '100201.jpg': 1, '100301.jpg': 1, '100302.jpg': 1, '100401.jpg': 1, '100501.jpg': 1, '100502.jpg': 1, '100503.jpg': 1, '100601.jpg': 1, '100701.jpg': 1, '100801.jpg': 1}, 124: {'100001.jpg': 1, '100101.jpg': 1, '100201.jpg': 1, '100301.jpg': 1, '100401.jpg': 1, '100501.jpg': 1, '100502.jpg': 1, '100601.jpg': 1, '100701.jpg': 1, '100801.jpg': 1, '100901.jpg': 1}, 125: {'100001.jpg': 1, '100101.jpg': 1, '100201.jpg': 1, '100301.jpg': 1, '100302.jpg': 1, '100401.jpg': 1, '100501.jpg': 1, '100502.jpg': 1, '100503.jpg': 1, '100601.jpg': 1, '100701.jpg': 1, '100801.jpg': 1}, 126: {'100001.jpg': 1, '100002.jpg': 1, '100101.jpg': 1, '100201.jpg': 1, '100301.jpg': 1, '100302.jpg': 1, '100401.jpg': 1, '100501.jpg': 1, '100502.jpg': 1, '100503.jpg': 1, '100601.jpg': 1, '100701.jpg': 1, '100801.jpg': 1, '100901.jpg': 1}, 127: {'100001.jpg': 1, '100101.jpg': 1, '100201.jpg': 1, '100301.jpg': 1, '100302.jpg': 1, '100401.jpg': 1, '100502.jpg': 1, '100503.jpg': 1, '100601.jpg': 1, '100701.jpg': 1, '100901.jpg': 1}, 128: {'100001.jpg': 1, '100101.jpg': 1, '100201.jpg': 1, '100301.jpg': 1, '100302.jpg': 1, '100401.jpg': 1, '100502.jpg': 1, '100503.jpg': 1, '100601.jpg': 1, '100801.jpg': 1, '100901.jpg': 1}, 129: {'100001.jpg': 1, '100101.jpg': 1, '100201.jpg': 1, '100301.jpg': 1, '100302.jpg': 1, '100401.jpg': 1, '100502.jpg': 1, '100503.jpg': 1, '100601.jpg': 1, '100701.jpg': 1, '100801.jpg': 1}, 130: {'100001.jpg': 1, '100002.jpg': 1, '100101.jpg': 1, '100201.jpg': 1, '100401.jpg': 1, '100501.jpg': 1, '100502.jpg': 1, '100503.jpg': 1, '100601.jpg': 1, '100701.jpg': 1, '100801.jpg': 1, '100901.jpg': 1}, 131: {'100001.jpg': 1, '100101.jpg': 1, '100201.jpg': 1, '100301.jpg': 1, '100302.jpg': 1, '100401.jpg': 1, '100501.jpg': 1, '100502.jpg': 1, '100503.jpg': 1, '100801.jpg': 1}, 132: {'100001.jpg': 1, '100101.jpg': 1, '100201.jpg': 1, '100301.jpg': 1, '100401.jpg': 1, '100501.jpg': 1, '100502.jpg': 1, '100503.jpg': 1, '100601.jpg': 1, '100801.jpg': 1, '100901.jpg': 1}, 133: {'100001.jpg': 1, '100101.jpg': 1, '100201.jpg': 1, '100301.jpg': 1, '100302.jpg': 1, '100401.jpg': 1, '100501.jpg': 1, '100502.jpg': 1, '100503.jpg': 1, '100601.jpg': 1, '100801.jpg': 1}, 134: {'100001.jpg': 1, '100201.jpg': 1, '100301.jpg': 1, '100302.jpg': 1, '100401.jpg': 1, '100501.jpg': 1, '100502.jpg': 1, '100503.jpg': 1, '100601.jpg': 1, '100701.jpg': 1, '100801.jpg': 1}, 135: {'100001.jpg': 1, '100101.jpg': 1, '100201.jpg': 1, '100301.jpg': 1, '100302.jpg': 1, '100401.jpg': 1, '100502.jpg': 1, '100503.jpg': 1, '100601.jpg': 1, '100801.jpg': 1, '100901.jpg': 1}, 136: {'100001.jpg': 1, '100101.jpg': 1, '100201.jpg': 1, '100301.jpg': 1, '100302.jpg': 1, '100401.jpg': 1, '100501.jpg': 1, '100502.jpg': 1, '100503.jpg': 1, '100601.jpg': 1, '100701.jpg': 1, '100801.jpg': 1}, 137: {'100002.jpg': 1, '100101.jpg': 1, '100302.jpg': 1, '100401.jpg': 1, '100501.jpg': 1, '100502.jpg': 1, '100503.jpg': 1, '100601.jpg': 1, '100801.jpg': 1, '100901.jpg': 1}, 138: {'100001.jpg': 1, '100101.jpg': 1, '100401.jpg': 1, '100501.jpg': 1, '100502.jpg': 1, '100503.jpg': 1, '100601.jpg': 1, '100701.jpg': 1, '100801.jpg': 1, '100901.jpg': 1}, 139: {'100101.jpg': 1, '100201.jpg': 1, '100502.jpg': 1, '100503.jpg': 1, '100601.jpg': 1, '100801.jpg': 1, '100901.jpg': 1}, 140: {'100001.jpg': 1, '100101.jpg': 1, '100201.jpg': 1, '100301.jpg': 1, '100302.jpg': 1, '100401.jpg': 1, '100501.jpg': 1, '100502.jpg': 1, '100503.jpg': 1, '100601.jpg': 1, '100701.jpg': 1, '100801.jpg': 1, '100901.jpg': 1}, 141: {'100001.jpg': 1, '100101.jpg': 1, '100301.jpg': 1, '100302.jpg': 1, '100401.jpg': 1, '100501.jpg': 1, '100502.jpg': 1, '100601.jpg': 1, '100701.jpg': 1, '100801.jpg': 1}, 142: {'100001.jpg': 1, '100002.jpg': 1, '100101.jpg': 1, '100201.jpg': 1, '100301.jpg': 1, '100302.jpg': 1, '100401.jpg': 1, '100501.jpg': 1, '100502.jpg': 1, '100503.jpg': 1, '100801.jpg': 1, '100901.jpg': 1}, 143: {'100001.jpg': 1, '100101.jpg': 1, '100301.jpg': 1, '100302.jpg': 1, '100401.jpg': 1, '100501.jpg': 1, '100502.jpg': 1, '100503.jpg': 1, '100701.jpg': 1, '100801.jpg': 1, '100901.jpg': 1}, 144: {'100001.jpg': 1, '100101.jpg': 1, '100201.jpg': 1, '100301.jpg': 1, '100302.jpg': 1, '100503.jpg': 1, '100801.jpg': 1}, 145: {'100001.jpg': 1, '100002.jpg': 1, '100101.jpg': 1, '100201.jpg': 1, '100301.jpg': 1, '100302.jpg': 1, '100401.jpg': 1, '100501.jpg': 1, '100502.jpg': 1, '100503.jpg': 1, '100601.jpg': 1, '100701.jpg': 1, '100801.jpg': 1, '100901.jpg': 1}, 146: {'100001.jpg': 1, '100101.jpg': 1, '100201.jpg': 1, '100301.jpg': 1, '100302.jpg': 1, '100401.jpg': 1, '100501.jpg': 1, '100502.jpg': 1, '100503.jpg': 1, '100601.jpg': 1, '100701.jpg': 1, '100801.jpg': 1}, 147: {'100001.jpg': 1, '100201.jpg': 1, '100301.jpg': 1, '100302.jpg': 1, '100401.jpg': 1, '100501.jpg': 1, '100502.jpg': 1, '100503.jpg': 1, '100601.jpg': 1, '100801.jpg': 1}, 148: {'100101.jpg': 1, '100301.jpg': 1, '100302.jpg': 1, '100401.jpg': 1, '100502.jpg': 1, '100801.jpg': 1, '100901.jpg': 1}, 149: {'100001.jpg': 1, '100101.jpg': 1, '100301.jpg': 1, '100302.jpg': 1, '100401.jpg': 1, '100501.jpg': 1, '100502.jpg': 1, '100801.jpg': 1, '100901.jpg': 1}, 150: {'100201.jpg': 1, '100502.jpg': 1, '100601.jpg': 1, '100801.jpg': 1}, 151: {'100001.jpg': 1, '100002.jpg': 1, '100101.jpg': 1, '100201.jpg': 1, '100301.jpg': 1, '100302.jpg': 1, '100401.jpg': 1, '100501.jpg': 1, '100502.jpg': 1, '100503.jpg': 1, '100701.jpg': 1, '100801.jpg': 1, '100901.jpg': 1}, 152: {'100001.jpg': 1, '100002.jpg': 1, '100101.jpg': 1, '100201.jpg': 1, '100301.jpg': 1, '100302.jpg': 1, '100401.jpg': 1, '100501.jpg': 1, '100502.jpg': 1, '100503.jpg': 1, '100601.jpg': 1, '100701.jpg': 1, '100801.jpg': 1, '100901.jpg': 1}, 153: {'100001.jpg': 1, '100002.jpg': 1, '100101.jpg': 1, '100201.jpg': 1, '100301.jpg': 1, '100302.jpg': 1, '100401.jpg': 1, '100501.jpg': 1, '100502.jpg': 1, '100503.jpg': 1, '100601.jpg': 1, '100701.jpg': 1, '100801.jpg': 1, '100901.jpg': 1}, 154: {'100001.jpg': 1, '100101.jpg': 1, '100201.jpg': 1, '100301.jpg': 1, '100302.jpg': 1, '100401.jpg': 1, '100501.jpg': 1, '100502.jpg': 1, '100503.jpg': 1, '100601.jpg': 1, '100701.jpg': 1, '100801.jpg': 1}, 155: {'100001.jpg': 1, '100201.jpg': 1, '100301.jpg': 1, '100302.jpg': 1, '100401.jpg': 1, '100501.jpg': 1, '100502.jpg': 1, '100503.jpg': 1, '100801.jpg': 1, '100901.jpg': 1}, 156: {'100101.jpg': 1, '100301.jpg': 1, '100302.jpg': 1, '100502.jpg': 1, '100801.jpg': 1, '100901.jpg': 1}, 157: {'100001.jpg': 1, '100101.jpg': 1, '100201.jpg': 1, '100301.jpg': 1, '100302.jpg': 1, '100401.jpg': 1, '100501.jpg': 1, '100503.jpg': 1, '100601.jpg': 1, '100801.jpg': 1, '100901.jpg': 1}, 158: {'100001.jpg': 1, '100002.jpg': 1, '100101.jpg': 1, '100201.jpg': 1, '100301.jpg': 1, '100302.jpg': 1, '100401.jpg': 1, '100501.jpg': 1, '100502.jpg': 1, '100503.jpg': 1, '100601.jpg': 1, '100801.jpg': 1}, 159: {'100001.jpg': 1, '100101.jpg': 1, '100201.jpg': 1, '100401.jpg': 1, '100501.jpg': 1, '100502.jpg': 1, '100503.jpg': 1, '100601.jpg': 1, '100701.jpg': 1, '100901.jpg': 1}, 160: {'100001.jpg': 1, '100101.jpg': 1, '100201.jpg': 1, '100301.jpg': 1, '100401.jpg': 1, '100502.jpg': 1, '100503.jpg': 1, '100601.jpg': 1, '100901.jpg': 1}, 161: {'100001.jpg': 1, '100101.jpg': 1, '100201.jpg': 1, '100301.jpg': 1, '100302.jpg': 1, '100401.jpg': 1, '100501.jpg': 1, '100502.jpg': 1, '100503.jpg': 1, '100601.jpg': 1, '100701.jpg': 1, '100801.jpg': 1}, 162: {'100101.jpg': 1, '100201.jpg': 1, '100301.jpg': 1, '100401.jpg': 1, '100501.jpg': 1, '100502.jpg': 1, '100601.jpg': 1, '100701.jpg': 1, '100801.jpg': 1, '100901.jpg': 1}, 163: {'100001.jpg': 1, '100101.jpg': 1, '100302.jpg': 1, '100401.jpg': 1, '100502.jpg': 1, '100503.jpg': 1, '100601.jpg': 1, '100801.jpg': 1, '100901.jpg': 1}, 164: {'100101.jpg': 1, '100201.jpg': 1, '100401.jpg': 1, '100501.jpg': 1, '100502.jpg': 1, '100503.jpg': 1, '100601.jpg': 1, '100801.jpg': 1, '100901.jpg': 1}, 165: {'100101.jpg': 1, '100201.jpg': 1, '100302.jpg': 1, '100401.jpg': 1, '100501.jpg': 1, '100502.jpg': 1, '100503.jpg': 1, '100601.jpg': 1, '100801.jpg': 1, '100901.jpg': 1}, 166: {'100001.jpg': 1, '100101.jpg': 1, '100301.jpg': 1, '100302.jpg': 1, '100401.jpg': 1, '100502.jpg': 1, '100503.jpg': 1, '100601.jpg': 1, '100801.jpg': 1, '100901.jpg': 1}, 167: {'100001.jpg': 1, '100101.jpg': 1, '100201.jpg': 1, '100301.jpg': 1, '100302.jpg': 1, '100401.jpg': 1, '100501.jpg': 1, '100502.jpg': 1, '100503.jpg': 1, '100601.jpg': 1, '100701.jpg': 1, '100801.jpg': 1}, 168: {'100001.jpg': 1, '100101.jpg': 1, '100201.jpg': 1, '100301.jpg': 1, '100601.jpg': 1, '100801.jpg': 1, '100901.jpg': 1}, 169: {'100001.jpg': 1, '100002.jpg': 1, '100101.jpg': 1, '100201.jpg': 1, '100301.jpg': 1, '100302.jpg': 1, '100401.jpg': 1, '100501.jpg': 1, '100502.jpg': 1, '100503.jpg': 1, '100601.jpg': 1, '100701.jpg': 1, '100801.jpg': 1, '100901.jpg': 1}, 170: {'100001.jpg': 1, '100101.jpg': 1, '100201.jpg': 1, '100301.jpg': 1, '100302.jpg': 1, '100401.jpg': 1, '100501.jpg': 1, '100502.jpg': 1, '100503.jpg': 1, '100601.jpg': 1, '100801.jpg': 1, '100901.jpg': 1}, 171: {'100001.jpg': 1, '100002.jpg': 1, '100101.jpg': 1, '100201.jpg': 1, '100301.jpg': 1, '100302.jpg': 1, '100401.jpg': 1, '100501.jpg': 1, '100502.jpg': 1, '100503.jpg': 1, '100601.jpg': 1, '100701.jpg': 1, '100801.jpg': 1}, 172: {'100001.jpg': 1, '100101.jpg': 1, '100201.jpg': 1, '100301.jpg': 1, '100302.jpg': 1, '100401.jpg': 1, '100501.jpg': 1, '100502.jpg': 1, '100503.jpg': 1, '100701.jpg': 1, '100801.jpg': 1, '100901.jpg': 1}, 173: {'100001.jpg': 1, '100101.jpg': 1, '100201.jpg': 1, '100301.jpg': 1, '100302.jpg': 1, '100401.jpg': 1, '100501.jpg': 1, '100502.jpg': 1, '100503.jpg': 1, '100601.jpg': 1, '100701.jpg': 1, '100801.jpg': 1}, 174: {'100001.jpg': 1, '100002.jpg': 1, '100101.jpg': 1, '100201.jpg': 1, '100301.jpg': 1, '100302.jpg': 1, '100401.jpg': 1, '100501.jpg': 1, '100502.jpg': 1, '100503.jpg': 1, '100601.jpg': 1, '100701.jpg': 1, '100801.jpg': 1, '100901.jpg': 1}, 175: {'100001.jpg': 1, '100002.jpg': 1, '100101.jpg': 1, '100201.jpg': 1, '100301.jpg': 1, '100302.jpg': 1, '100401.jpg': 1, '100501.jpg': 1, '100502.jpg': 1, '100503.jpg': 1, '100601.jpg': 1, '100701.jpg': 1, '100801.jpg': 1, '100901.jpg': 1}, 176: {'100001.jpg': 1, '100101.jpg': 1, '100201.jpg': 1, '100301.jpg': 1, '100302.jpg': 1, '100501.jpg': 1, '100502.jpg': 1, '100503.jpg': 1}, 177: {'100001.jpg': 1, '100201.jpg': 1, '100301.jpg': 1, '100302.jpg': 1, '100401.jpg': 1, '100501.jpg': 1, '100503.jpg': 1, '100801.jpg': 1}, 178: {'100001.jpg': 1, '100101.jpg': 1, '100201.jpg': 1, '100301.jpg': 1, '100302.jpg': 1, '100401.jpg': 1, '100501.jpg': 1, '100502.jpg': 1, '100503.jpg': 1, '100601.jpg': 1, '100801.jpg': 1}, 179: {'100002.jpg': 1, '100201.jpg': 1, '100301.jpg': 1, '100302.jpg': 1, '100502.jpg': 1, '100801.jpg': 1, '100901.jpg': 1}, 180: {'100101.jpg': 1, '100201.jpg': 1, '100301.jpg': 1, '100302.jpg': 1, '100401.jpg': 1, '100501.jpg': 1, '100502.jpg': 1, '100503.jpg': 1, '100701.jpg': 1, '100801.jpg': 1}, 181: {'100001.jpg': 1, '100201.jpg': 1, '100301.jpg': 1, '100302.jpg': 1, '100401.jpg': 1, '100501.jpg': 1, '100502.jpg': 1, '100503.jpg': 1, '100601.jpg': 1, '100801.jpg': 1}, 182: {'100001.jpg': 1, '100101.jpg': 1, '100201.jpg': 1, '100301.jpg': 1, '100302.jpg': 1, '100401.jpg': 1, '100501.jpg': 1, '100502.jpg': 1, '100503.jpg': 1, '100601.jpg': 1, '100801.jpg': 1, '100901.jpg': 1}, 183: {'100201.jpg': 1, '100601.jpg': 1, '100701.jpg': 1, '100801.jpg': 1}, 184: {'100001.jpg': 1, '100101.jpg': 1, '100201.jpg': 1, '100301.jpg': 1, '100302.jpg': 1, '100401.jpg': 1, '100501.jpg': 1, '100502.jpg': 1, '100503.jpg': 1, '100801.jpg': 1}, 185: {'100001.jpg': 1, '100101.jpg': 1, '100201.jpg': 1, '100401.jpg': 1, '100501.jpg': 1, '100502.jpg': 1, '100503.jpg': 1, '100601.jpg': 1, '100701.jpg': 1, '100901.jpg': 1}, 186: {'100001.jpg': 1, '100002.jpg': 1, '100101.jpg': 1, '100201.jpg': 1, '100301.jpg': 1, '100302.jpg': 1, '100401.jpg': 1, '100501.jpg': 1, '100502.jpg': 1, '100503.jpg': 1, '100601.jpg': 1, '100701.jpg': 1, '100801.jpg': 1, '100901.jpg': 1}, 187: {'100001.jpg': 1, '100101.jpg': 1, '100201.jpg': 1, '100302.jpg': 1, '100401.jpg': 1, '100502.jpg': 1, '100503.jpg': 1, '100601.jpg': 1, '100801.jpg': 1, '100901.jpg': 1}, 188: {'100101.jpg': 1, '100201.jpg': 1, '100401.jpg': 1, '100501.jpg': 1, '100502.jpg': 1, '100503.jpg': 1, '100601.jpg': 1, '100701.jpg': 1, '100801.jpg': 1}, 189: {'100001.jpg': 1, '100002.jpg': 1, '100101.jpg': 1, '100201.jpg': 1, '100301.jpg': 1, '100302.jpg': 1, '100401.jpg': 1, '100501.jpg': 1, '100502.jpg': 1, '100503.jpg': 1, '100601.jpg': 1, '100701.jpg': 1, '100801.jpg': 1}, 190: {'100201.jpg': 1, '100601.jpg': 1, '100801.jpg': 1, '100901.jpg': 1}, 191: {'100001.jpg': 1, '100002.jpg': 1, '100101.jpg': 1, '100201.jpg': 1, '100301.jpg': 1, '100302.jpg': 1, '100401.jpg': 1, '100501.jpg': 1, '100502.jpg': 1, '100601.jpg': 1, '100701.jpg': 1, '100801.jpg': 1, '100901.jpg': 1}, 192: {'100001.jpg': 1, '100002.jpg': 1, '100101.jpg': 1, '100301.jpg': 1, '100302.jpg': 1, '100401.jpg': 1, '100501.jpg': 1, '100502.jpg': 1, '100503.jpg': 1, '100601.jpg': 1, '100701.jpg': 1, '100801.jpg': 1}, 193: {'100101.jpg': 1, '100201.jpg': 1, '100601.jpg': 1, '100801.jpg': 1, '100901.jpg': 1}, 194: {'100001.jpg': 1, '100101.jpg': 1, '100201.jpg': 1, '100301.jpg': 1, '100302.jpg': 1, '100401.jpg': 1, '100501.jpg': 1, '100502.jpg': 1, '100503.jpg': 1, '100801.jpg': 1}, 195: {'100001.jpg': 1, '100101.jpg': 1, '100201.jpg': 1, '100301.jpg': 1, '100302.jpg': 1, '100401.jpg': 1, '100501.jpg': 1, '100502.jpg': 1, '100503.jpg': 1, '100601.jpg': 1, '100701.jpg': 1, '100801.jpg': 1}, 196: {'100001.jpg': 1, '100002.jpg': 1, '100201.jpg': 1, '100301.jpg': 1, '100302.jpg': 1, '100401.jpg': 1, '100501.jpg': 1, '100503.jpg': 1, '100601.jpg': 1, '100801.jpg': 1}, 197: {'100001.jpg': 1, '100002.jpg': 1, '100101.jpg': 1, '100201.jpg': 1, '100301.jpg': 1, '100302.jpg': 1, '100401.jpg': 1, '100501.jpg': 1, '100502.jpg': 1, '100503.jpg': 1, '100601.jpg': 1, '100701.jpg': 1, '100801.jpg': 1}, 198: {'100001.jpg': 1, '100101.jpg': 1, '100201.jpg': 1, '100301.jpg': 1, '100302.jpg': 1, '100401.jpg': 1, '100501.jpg': 1, '100502.jpg': 1, '100503.jpg': 1, '100601.jpg': 1, '100701.jpg': 1, '100801.jpg': 1}, 199: {'100001.jpg': 1, '100101.jpg': 1, '100201.jpg': 1, '100301.jpg': 1, '100302.jpg': 1, '100401.jpg': 1, '100501.jpg': 1, '100502.jpg': 1, '100503.jpg': 1, '100601.jpg': 1, '100801.jpg': 1}}\n"
          ]
        }
      ]
    },
    {
      "cell_type": "code",
      "source": [
        "print(query_names[0])"
      ],
      "metadata": {
        "colab": {
          "base_uri": "https://localhost:8080/"
        },
        "id": "USBXCd0UqEkt",
        "outputId": "3a49ef9f-4926-4c41-9501-cce156da4245"
      },
      "id": "USBXCd0UqEkt",
      "execution_count": 49,
      "outputs": [
        {
          "output_type": "stream",
          "name": "stdout",
          "text": [
            "100000.jpg\n"
          ]
        }
      ]
    },
    {
      "cell_type": "code",
      "execution_count": 58,
      "metadata": {
        "id": "b12b2730",
        "colab": {
          "base_uri": "https://localhost:8080/",
          "height": 305
        },
        "outputId": "2b4bd534-86b7-4524-ae21-89290ed5d9c8"
      },
      "outputs": [
        {
          "output_type": "error",
          "ename": "AttributeError",
          "evalue": "ignored",
          "traceback": [
            "\u001b[0;31m---------------------------------------------------------------------------\u001b[0m",
            "\u001b[0;31mAttributeError\u001b[0m                            Traceback (most recent call last)",
            "\u001b[0;32m<ipython-input-58-747b397ed0d8>\u001b[0m in \u001b[0;36m<cell line: 1>\u001b[0;34m()\u001b[0m\n\u001b[0;32m----> 1\u001b[0;31m \u001b[0mres\u001b[0m \u001b[0;34m=\u001b[0m \u001b[0mindex\u001b[0m\u001b[0;34m.\u001b[0m\u001b[0msearch_image\u001b[0m\u001b[0;34m(\u001b[0m\u001b[0mquery_desc\u001b[0m\u001b[0;34m[\u001b[0m\u001b[0;36m0\u001b[0m\u001b[0;34m]\u001b[0m\u001b[0;34m)\u001b[0m\u001b[0;34m\u001b[0m\u001b[0;34m\u001b[0m\u001b[0m\n\u001b[0m\u001b[1;32m      2\u001b[0m \u001b[0mprint\u001b[0m\u001b[0;34m(\u001b[0m\u001b[0mres\u001b[0m\u001b[0;34m)\u001b[0m\u001b[0;34m\u001b[0m\u001b[0;34m\u001b[0m\u001b[0m\n",
            "\u001b[0;32m<ipython-input-55-cd7b8d336645>\u001b[0m in \u001b[0;36msearch_image\u001b[0;34m(self, descs)\u001b[0m\n\u001b[1;32m     71\u001b[0m         \"\"\"\n\u001b[1;32m     72\u001b[0m          \u001b[0;31m# Convert the query descriptors to visual words using the vocabulary\u001b[0m\u001b[0;34m\u001b[0m\u001b[0;34m\u001b[0m\u001b[0m\n\u001b[0;32m---> 73\u001b[0;31m         \u001b[0mquery_bow_descs\u001b[0m \u001b[0;34m=\u001b[0m \u001b[0mself\u001b[0m\u001b[0;34m.\u001b[0m\u001b[0mvocab\u001b[0m\u001b[0;34m.\u001b[0m\u001b[0mgetIndex\u001b[0m\u001b[0;34m(\u001b[0m\u001b[0mdescs\u001b[0m\u001b[0;34m)\u001b[0m\u001b[0;34m\u001b[0m\u001b[0;34m\u001b[0m\u001b[0m\n\u001b[0m\u001b[1;32m     74\u001b[0m \u001b[0;34m\u001b[0m\u001b[0m\n\u001b[1;32m     75\u001b[0m         \u001b[0;31m# Compute the TF-IDF weights for the query\u001b[0m\u001b[0;34m\u001b[0m\u001b[0;34m\u001b[0m\u001b[0m\n",
            "\u001b[0;31mAttributeError\u001b[0m: 'cv2.FlannBasedMatcher' object has no attribute 'getIndex'"
          ]
        }
      ],
      "source": [
        "res = index.search_image(query_desc[0])\n",
        "print(res)"
      ],
      "id": "b12b2730"
    },
    {
      "cell_type": "code",
      "execution_count": null,
      "metadata": {
        "id": "1661e449"
      },
      "outputs": [],
      "source": [
        "results, mAP = index.compute_mAP(query_names, query_desc)\n",
        "print(results)\n",
        "print(mAP)"
      ],
      "id": "1661e449"
    },
    {
      "cell_type": "markdown",
      "metadata": {
        "id": "a5046a9c"
      },
      "source": [
        "**Q8**: In the following cell compute the resulting mAP of the system **using the vocabularies of 200, 2K, 20K and 200K visual words**:"
      ],
      "id": "a5046a9c"
    },
    {
      "cell_type": "code",
      "execution_count": null,
      "metadata": {
        "id": "c8901aab"
      },
      "outputs": [],
      "source": [
        "# Fill these variables with the resulting mAP\n",
        "mAP_200  = 0.0\n",
        "mAP_2K   = 0.0\n",
        "mAP_20K  = 0.0\n",
        "mAP_200K = 0.0\n",
        "\n",
        "# YOUR CODE HERE\n",
        "raise NotImplementedError()"
      ],
      "id": "c8901aab"
    },
    {
      "cell_type": "code",
      "execution_count": null,
      "metadata": {
        "id": "9c1ed565"
      },
      "outputs": [],
      "source": [
        "print('mAP 200: %.5f' % mAP_200)\n",
        "print('mAP 2K: %.5f' % mAP_2K)\n",
        "print('mAP 20K: %.5f' % mAP_20K)\n",
        "print('mAP 200K: %.5f' % mAP_200K)"
      ],
      "id": "9c1ed565"
    },
    {
      "cell_type": "markdown",
      "metadata": {
        "id": "5e818e7c"
      },
      "source": [
        "**Q9**: Compare the performances obtained on each case. Is a larger vocabulary size always better? Why or why not?"
      ],
      "id": "5e818e7c"
    },
    {
      "cell_type": "markdown",
      "metadata": {
        "id": "f6015870"
      },
      "source": [
        "Write here the code required to answer the questions stated above. You can add more cells (code / markdown) at this point if you need it."
      ],
      "id": "f6015870"
    },
    {
      "cell_type": "markdown",
      "metadata": {
        "id": "7b582757"
      },
      "source": [
        "**Q10**: Analyze the effect of the vocabulary size in terms of mAP and average response time (train and query times). Are these times constant for each vocabulary? Some plots here can be useful to justify your answer."
      ],
      "id": "7b582757"
    },
    {
      "cell_type": "markdown",
      "metadata": {
        "id": "a7695e01"
      },
      "source": [
        "Write here the code required to answer the questions stated above. You can add more cells (code / markdown) at this point if you need it."
      ],
      "id": "a7695e01"
    },
    {
      "cell_type": "markdown",
      "metadata": {
        "id": "b98f5416"
      },
      "source": [
        "**Q11**: Do the results obtained depend on the set of images used to generate the vocabulary? How can we improve the retrieval performance?"
      ],
      "id": "b98f5416"
    },
    {
      "cell_type": "markdown",
      "metadata": {
        "id": "a7345924"
      },
      "source": [
        "Write here the code required to answer the questions stated above. You can add more cells (code / markdown) at this point if you need it."
      ],
      "id": "a7345924"
    },
    {
      "cell_type": "markdown",
      "metadata": {
        "id": "28efbead"
      },
      "source": [
        "### TF-IDF\n",
        "As a final task of this assignment, let's implement the TF-IDF scoring scheme. Modify the `BoW` class you wrote before to include the TF-IDF weighting scheme:"
      ],
      "id": "28efbead"
    },
    {
      "cell_type": "code",
      "execution_count": null,
      "metadata": {
        "id": "593cafcc"
      },
      "outputs": [],
      "source": [
        "class BoW_TFIDF:\n",
        "    \"\"\"\n",
        "    Class to implement the BoW model + Inverted File + TF-IDF Scoring scheme\n",
        "    \"\"\"\n",
        "  \n",
        "    def __init__(self, vocab_file):\n",
        "        \"\"\"\n",
        "        Class constructor. It loads the vocabulary and initializes other stuff\n",
        "        required for the CBIR system, such as the inverted file structure.\n",
        "        \"\"\"\n",
        "        self.vocab = rd.load_visual_vocab(vocab_file)\n",
        "        self.nwords = self.vocab.getTrainDescriptors()[0].shape[0]\n",
        "        self.train_names = []\n",
        "        self.inv_list = {word_id: {} for word_id in range(self.nwords)}        \n",
        "        self.tfidf = {}\n",
        "\n",
        "    def build_db(self, img_names, img_descs):\n",
        "        \"\"\"\n",
        "        Build an index from a set of images. Essentially, for each image, you should\n",
        "        search its descriptors in the index in order to find the closest visual words\n",
        "        and fill the inverted file structure consequently. Additionally, TF and IDF terms\n",
        "        should be computed here.\n",
        "    \n",
        "        - img_names: An ordered list with the names of the train images\n",
        "        - img_descs: A list containing numpy arrays. Each numpy array i corresponds \n",
        "          to the descriptors found at image i\n",
        "        \"\"\"\n",
        "        self.inverted_files = {}\n",
        "        for i, desc in enumerate(img_descs):\n",
        "            words = self.quantize(desc)\n",
        "            for w in set(words):\n",
        "                if w not in self.inverted_files:\n",
        "                    self.inverted_files[w] = []\n",
        "                self.inverted_files[w].append(i)\n",
        "        \n",
        "        # compute IDF weights\n",
        "        n_docs = len(img_descs)\n",
        "        df = np.zeros(self.vocab_size, dtype=np.float32)\n",
        "        for w, doc_ids in self.inverted_files.items():\n",
        "            df[w] = len(doc_ids)\n",
        "        idf = np.log((1 + n_docs) / (1 + df)) + 1\n",
        "        self.idf_weights = TfidfTransformer(use_idf=True, smooth_idf=True, sublinear_tf=False)\n",
        "        self.idf_weights.fit(idf.reshape(1, -1))\n",
        "\n",
        "    def search_image(self, descs):\n",
        "        \"\"\"\n",
        "        Search an image in the index. Use the TF-IDF here when scoring the images.\n",
        "      \n",
        "        - descs: A numpy array. It is the set descriptors extracted from the query image.\n",
        "    \n",
        "        RETURN:\n",
        "        - An ordered list of similar images, e.g.: ['100101.jpg', '100202.jpg', ...]\n",
        "        \"\"\"\n",
        "        query_words = self.quantize(descs)\n",
        "        query_tf = np.bincount(query_words, minlength=self.vocab_size)\n",
        "        query_tf_idf = self.idf_weights.transform(query_tf.reshape(1, -1)).toarray()[0]\n",
        "        \n",
        "        # compute cosine similarity between query and documents\n",
        "        scores = []\n",
        "        for i, desc in enumerate(self.visual_words):\n",
        "            doc_tf_idf = self.idf_weights.transform(desc.reshape(1, -1)).toarray()[0]\n",
        "            sim = np.dot(query_tf_idf, doc_tf_idf) / np.linalg.norm(query_tf_idf) / np.linalg.norm(doc_tf_idf)\n",
        "            scores.append((i, sim))\n",
        "        scores.sort(key=lambda x: x[1], reverse=True)\n",
        "        \n",
        "        # return list of document names sorted by similarity\n",
        "        results = [img_names[i] for i, _ in scores]\n",
        "        return results\n",
        "        \n",
        "    def compute_mAP(self, query_names, query_descs):\n",
        "        \"\"\"\n",
        "        Perform a search for a list of query images against the database and evaluates\n",
        "        the performance of the system.\n",
        "        \n",
        "        - query_names: An ordered list with the names of query images\n",
        "        - query_descs: A list containing numpy arrays of size (ndesc_for_this_image, 128). \n",
        "              Each numpy array i corresponds to the descriptors found at image i.\n",
        "\n",
        "        RETURN:\n",
        "        - total_results: A dictionary containing, for each query image, an ordered list of the retrieved images.\n",
        "        - m_ap: Mean Average Precision averaged over all queries.\n",
        "        \"\"\"\n",
        "        total_results = {}\n",
        "        m_ap = 0.0\n",
        "        \n",
        "        # search for each query image\n",
        "        for i, (name, desc) in enumerate(zip(query_names, query_descs)):\n",
        "            print(\"Querying image {} ({}/{})...\".format(name, i+1, len(query_names)))\n",
        "            results = self.search_image(desc)\n",
        "            total_results[name] = results\n",
        "            \n",
        "            # compute average precision\n",
        "            relevant = [int(n.split(\"_\")[0] == name.split(\"_\")[0]) for n in results]\n",
        "            scores = np.arange(len(relevant), 0, -1)\n",
        "            ap = average_precision_score(relevant, scores)\n",
        "            m_ap += ap\n",
        "        \n",
        "        # average over all queries\n",
        "        m_ap /= len(query_names)\n",
        "        \n",
        "        return total_results, m_ap"
      ],
      "id": "593cafcc"
    },
    {
      "cell_type": "code",
      "execution_count": null,
      "metadata": {
        "id": "b50bb6a4"
      },
      "outputs": [],
      "source": [
        "# Example of use\n",
        "index = BoW_TFIDF('clust/clust_flickr60_k200.fvecs')\n",
        "index.build_db(train_names[0:2], train_desc[0:2])"
      ],
      "id": "b50bb6a4"
    },
    {
      "cell_type": "code",
      "execution_count": null,
      "metadata": {
        "id": "6de5068e"
      },
      "outputs": [],
      "source": [
        "res = index.search_image(query_desc[0])\n",
        "print(res)"
      ],
      "id": "6de5068e"
    },
    {
      "cell_type": "markdown",
      "metadata": {
        "id": "a554f0a8"
      },
      "source": [
        "**Q12**: In the following cell compute the resulting mAP of the system **using the vocabularies of 200, 2K, 20K and 200K visual words**:"
      ],
      "id": "a554f0a8"
    },
    {
      "cell_type": "code",
      "execution_count": null,
      "metadata": {
        "id": "6307706a"
      },
      "outputs": [],
      "source": [
        "# Fill these variables with the resulting mAP\n",
        "mAP_200  = 0.0\n",
        "mAP_2K   = 0.0\n",
        "mAP_20K  = 0.0\n",
        "mAP_200K = 0.0\n",
        "\n",
        "# YOUR CODE HERE\n",
        "raise NotImplementedError()"
      ],
      "id": "6307706a"
    },
    {
      "cell_type": "code",
      "execution_count": null,
      "metadata": {
        "id": "ba4761f6"
      },
      "outputs": [],
      "source": [
        "print('mAP 200: %.5f' % mAP_200)\n",
        "print('mAP 2K: %.5f' % mAP_2K)\n",
        "print('mAP 20K: %.5f' % mAP_20K)\n",
        "print('mAP 200K: %.5f' % mAP_200K)"
      ],
      "id": "ba4761f6"
    },
    {
      "cell_type": "markdown",
      "metadata": {
        "id": "1aa3cf87"
      },
      "source": [
        "**Q13:** Compare the performances obtained on each case. Is a larger vocabulary size always better? Why or why not?"
      ],
      "id": "1aa3cf87"
    },
    {
      "cell_type": "markdown",
      "metadata": {
        "id": "65d6852c"
      },
      "source": [
        "Write here the code required to answer the questions stated above. You can add more cells (code / markdown) at this point if you need it."
      ],
      "id": "65d6852c"
    },
    {
      "cell_type": "markdown",
      "metadata": {
        "id": "752ac143"
      },
      "source": [
        "**Q14**: Analyze the effect of the vocabulary size in terms of mAP and average response time (train and query times). Are these times constant for each vocabulary? Some plots here can be useful to justify your answer."
      ],
      "id": "752ac143"
    },
    {
      "cell_type": "markdown",
      "metadata": {
        "id": "c07db06d"
      },
      "source": [
        "Write here the code required to answer the questions stated above. You can add more cells (code / markdown) at this point if you need it."
      ],
      "id": "c07db06d"
    },
    {
      "cell_type": "markdown",
      "metadata": {
        "id": "efc83c87"
      },
      "source": [
        "**Q15**: Do the results obtained depend on the set of images used to generate the vocabulary? How can we improve the retrieval performance?"
      ],
      "id": "efc83c87"
    },
    {
      "cell_type": "markdown",
      "metadata": {
        "id": "61429d22"
      },
      "source": [
        "Write here the code required to answer the questions stated above. You can add more cells (code / markdown) at this point if you need it."
      ],
      "id": "61429d22"
    },
    {
      "cell_type": "markdown",
      "metadata": {
        "id": "6465cfb0"
      },
      "source": [
        "**Q16:** How does TF-IDF affect the performance? Better or worse? Does this make sense?"
      ],
      "id": "6465cfb0"
    },
    {
      "cell_type": "markdown",
      "metadata": {
        "id": "4b193d85"
      },
      "source": [
        "Write here the code required to answer the questions stated above. You can add more cells (code / markdown) at this point if you need it."
      ],
      "id": "4b193d85"
    },
    {
      "cell_type": "markdown",
      "metadata": {
        "id": "8b3b83bc"
      },
      "source": [
        "## Submitting your work\n",
        "\n",
        "**Important**: Please make sure that the submitted notebooks have been run and the cell outputs are visible.\n",
        "\n",
        "**Important**: Please make also sure that you have filled the **NAME** and **DNI** variables at the beginning of the notebook, **using the indicated format**.\n",
        "\n",
        "Once you have filled out the necessary code and you are happy with your solution, **save your notebook** and execute the following cell:"
      ],
      "id": "8b3b83bc"
    },
    {
      "cell_type": "code",
      "execution_count": null,
      "metadata": {
        "id": "0ef0d318"
      },
      "outputs": [],
      "source": [
        "zip_filename = DNI + '_A2.zip'\n",
        "zf = zipfile.ZipFile(zip_filename, mode = 'w')\n",
        "\n",
        "aname = 'submitted/' + DNI + '/A2/Image_Indexing.ipynb'\n",
        "zf.write('Image_Indexing.ipynb', arcname = aname);\n",
        "\n",
        "zf.close()"
      ],
      "id": "0ef0d318"
    },
    {
      "cell_type": "markdown",
      "metadata": {
        "id": "f06aa9d3"
      },
      "source": [
        "This will generate a zip file of your code called `DNI_A2.zip` in the same directory of the assignment. This is the file that you must upload to [Aula Digital](https://uibdigital.uib.es/) to submit your work!"
      ],
      "id": "f06aa9d3"
    },
    {
      "cell_type": "markdown",
      "metadata": {
        "id": "55cb8ca9"
      },
      "source": [
        "---\n",
        "\n",
        "&copy; Emilio Garcia-Fidalgo, University of the Balearic Islands"
      ],
      "id": "55cb8ca9"
    }
  ],
  "metadata": {
    "colab": {
      "provenance": [],
      "include_colab_link": true
    },
    "kernelspec": {
      "display_name": "Python 3 (ipykernel)",
      "language": "python",
      "name": "python3"
    },
    "language_info": {
      "codemirror_mode": {
        "name": "ipython",
        "version": 3
      },
      "file_extension": ".py",
      "mimetype": "text/x-python",
      "name": "python",
      "nbconvert_exporter": "python",
      "pygments_lexer": "ipython3",
      "version": "3.9.7"
    }
  },
  "nbformat": 4,
  "nbformat_minor": 5
}