{
  "cells": [
    {
      "cell_type": "markdown",
      "metadata": {
        "id": "view-in-github",
        "colab_type": "text"
      },
      "source": [
        "<a href=\"https://colab.research.google.com/github/claredavies/ImageIndexing/blob/main/Image_Indexing_Assignment2_Clare_Davies.ipynb\" target=\"_parent\"><img src=\"https://colab.research.google.com/assets/colab-badge.svg\" alt=\"Open In Colab\"/></a>"
      ]
    },
    {
      "cell_type": "markdown",
      "metadata": {
        "id": "a795ccf4"
      },
      "source": [
        "# 11762 Content-Based Image Retrieval\n",
        "## Master's Degree in Intelligent Systems\n",
        "### University of the Balearic Islands\n",
        "\n",
        "---\n",
        "\n",
        "**Before you turn this problem in, please put your full names and DNIs (or NIEs) below, and execute the cell:**"
      ],
      "id": "a795ccf4"
    },
    {
      "cell_type": "code",
      "execution_count": null,
      "metadata": {
        "id": "6947b975"
      },
      "outputs": [],
      "source": [
        "NAME  = \"Clare Davies\"\n",
        "DNI   = \"PL5527043\""
      ],
      "id": "6947b975"
    },
    {
      "cell_type": "code",
      "execution_count": null,
      "metadata": {
        "colab": {
          "base_uri": "https://localhost:8080/"
        },
        "id": "62G6CJBJkMMo",
        "outputId": "5685df49-4242-4c6a-b0d4-ed781b9fcd74"
      },
      "outputs": [
        {
          "name": "stdout",
          "output_type": "stream",
          "text": [
            "Mounted at /content/drive/\n"
          ]
        }
      ],
      "source": [
        "from google.colab import drive\n",
        "drive.mount('/content/drive/')"
      ],
      "id": "62G6CJBJkMMo"
    },
    {
      "cell_type": "code",
      "execution_count": null,
      "metadata": {
        "colab": {
          "base_uri": "https://localhost:8080/"
        },
        "id": "13uKMVyekOoW",
        "outputId": "66aa0e94-aa47-49c9-ff91-88917786f4de"
      },
      "outputs": [
        {
          "name": "stdout",
          "output_type": "stream",
          "text": [
            "/content/drive/MyDrive/ImageIndexing/iric_dev_kit\n"
          ]
        }
      ],
      "source": [
        "%cd drive/MyDrive/ImageIndexing/iric_dev_kit"
      ],
      "id": "13uKMVyekOoW"
    },
    {
      "cell_type": "markdown",
      "metadata": {
        "id": "ec32c2c0"
      },
      "source": [
        "Make sure you fill in any place that says `YOUR CODE HERE` or `YOUR ANSWER HERE`. **Justify** all of your answers, **graphically** wherever possible. Remember that this notebook will be considered as a report to the work done during the assignment.\n",
        "\n",
        "---"
      ],
      "id": "ec32c2c0"
    },
    {
      "cell_type": "code",
      "execution_count": null,
      "metadata": {
        "id": "a32b507a"
      },
      "outputs": [],
      "source": [
        "# Setup code for this assignment\n",
        "import cv2\n",
        "import math\n",
        "import numpy as np\n",
        "import os\n",
        "import scipy.cluster.vq as vq\n",
        "import tqdm\n",
        "import zipfile\n",
        "\n",
        "## Adding parent folder to find other libs\n",
        "import sys\n",
        "if \"..\" not in sys.path:\n",
        "    sys.path.insert(0,\"..\")\n",
        "    \n",
        "import iric_utils.eval_holidays as ev\n",
        "import iric_utils.read_descriptors as rd\n",
        "\n",
        "# Configuring Matplotlib\n",
        "from matplotlib import pyplot as plt\n",
        "%matplotlib inline"
      ],
      "id": "a32b507a"
    },
    {
      "cell_type": "code",
      "execution_count": 17,
      "metadata": {
        "id": "w2fyiYyZp6CU"
      },
      "outputs": [],
      "source": [
        "def plot_chart(values, labels, title, xlabel, ylabel):\n",
        "  fig, ax = plt.subplots()\n",
        "  ax.bar(labels, values)\n",
        "\n",
        "  ax.set_title(title)\n",
        "  ax.set_xlabel(xlabel)\n",
        "  ax.set_ylabel(ylabel)\n",
        "\n",
        "  plt.show()"
      ],
      "id": "w2fyiYyZp6CU"
    },
    {
      "cell_type": "markdown",
      "metadata": {
        "id": "d621778b"
      },
      "source": [
        "## Introduction\n",
        "In this assignment, you will implement and evaluate different methods for indexing images. As usual during this course, we will use the [INRIA Holidays](http://lear.inrialpes.fr/people/jegou/data.php) dataset. **Check the Assignment 1 to further information about this dataset.**\n",
        "\n",
        "We also need the provided script to evaluate a CBIR system on this dataset. Remember that the performance is measured computing the **mean average precision** (mAP) over all queries. **Check also the Assignment 1 to remember how to use this script and the different functions it offers.**"
      ],
      "id": "d621778b"
    },
    {
      "cell_type": "markdown",
      "metadata": {
        "id": "77b3c399"
      },
      "source": [
        "### Loading images\n",
        "As we did in Assignment 1, for managing images, we will create four lists:\n",
        "- **`query_names`**: File names of the *query* images\n",
        "- **`query_imgs`**: *Query* images loaded using OpenCV2\n",
        "- **`train_names`**: File names of the *train* (database) images\n",
        "- **`train_imgs`**: *Train* images loaded using OpenCV2\n",
        "\n",
        "In this assignment, we will use the original holidays dataset:"
      ],
      "id": "77b3c399"
    },
    {
      "cell_type": "code",
      "execution_count": 8,
      "metadata": {
        "colab": {
          "base_uri": "https://localhost:8080/"
        },
        "id": "78adf5f7",
        "outputId": "837dbffd-61b9-4cb2-e45b-0b9056168c52"
      },
      "outputs": [
        {
          "output_type": "stream",
          "name": "stdout",
          "text": [
            "500\n",
            "991\n"
          ]
        }
      ],
      "source": [
        "# Separating the dataset into query and train images\n",
        "query_names = []\n",
        "query_imgs = []\n",
        "train_names = []\n",
        "train_imgs = []\n",
        "\n",
        "with open('../holidays/holidays_images.dat') as f:\n",
        "    for line in f:\n",
        "        imname = line.strip()\n",
        "        imno = int(imname[:-len(\".jpg\")])\n",
        "        img = cv2.imread('../holidays/images/' + imname)\n",
        "        # Resize the images for a faster operation in this assignment\n",
        "        img = cv2.resize(img, None, fx=0.25, fy=0.25, interpolation = cv2.INTER_CUBIC)\n",
        "    \n",
        "        # Checking if this is a query image\n",
        "        if imno % 100 == 0:\n",
        "            query_names.append(imname)\n",
        "            query_imgs.append(img)\n",
        "        else:\n",
        "            train_names.append(imname)\n",
        "            train_imgs.append(img)\n",
        "\n",
        "print(len(query_names))\n",
        "print(len(train_names))"
      ],
      "id": "78adf5f7"
    },
    {
      "cell_type": "markdown",
      "metadata": {
        "id": "27d7080b"
      },
      "source": [
        "## Loading SIFT descriptors\n",
        "In this assignment we will create four additional lists:\n",
        "- **`query_kps`**: A list of lists of keypoints (cv2.KeyPoint) extracted from the *query* images\n",
        "- **`query_desc`**: A list of numpy arrays including, for each set of keypoints, the SIFT descriptors extracted from the *query* images\n",
        "- **`train_kps`**: A list of lists of keypoints (cv2.KeyPoint) extracted from the *train* (database) images\n",
        "- **`train_desc`**: A list of numpy arrays including, for each set of keypoints, the SIFT descriptors extracted from the *train* images\n",
        "\n",
        "Unlike in Assigment 1, now you will be provided with a set of SIFT descriptors for each image, and, therefore, you do not need to create these lists from scratch. First, download the descriptors from [here](https://uibes-my.sharepoint.com/:u:/g/personal/egf350_id_uib_es/Eam8Ld8YDaJAhNr91YVdAZIB_wVZJ8kzzKD7BR6R3LziMw).\n",
        "\n",
        "> **Unzip this file into the root directory of the development kit, at the same level of the datasets.**\n",
        "\n",
        "Now, a new directory called `siftgeo` should be in your workspace, containing the set of SIFT descriptors for each image of the dataset. These descriptors are stored in binary format and, thus, you are also provided with some tools to load them. To be more precise, you can call the function `load_SIFT_descriptors` to load the descriptors of a list of images:"
      ],
      "id": "27d7080b"
    },
    {
      "cell_type": "code",
      "execution_count": 9,
      "metadata": {
        "colab": {
          "base_uri": "https://localhost:8080/"
        },
        "id": "f7e7e1c5",
        "outputId": "7da16c44-2a4c-4bd1-fe02-062dec18152f"
      },
      "outputs": [
        {
          "output_type": "stream",
          "name": "stdout",
          "text": [
            "500\n",
            "991\n",
            "500\n",
            "991\n",
            "(1000, 128)\n",
            "[[10.  6. 52. ... 15.  4.  0.]\n",
            " [16. 50. 12. ... 15.  4.  0.]\n",
            " [10. 11. 58. ...  7.  4.  4.]\n",
            " ...\n",
            " [27. 15.  0. ... 16.  8. 12.]\n",
            " [51. 47. 14. ... 35. 26.  0.]\n",
            " [ 2. 37. 25. ... 47. 13.  8.]]\n"
          ]
        }
      ],
      "source": [
        "# Loading descriptors\n",
        "query_kps, query_desc = rd.load_SIFT_descriptors(query_names, max_desc=1000)\n",
        "train_kps, train_desc = rd.load_SIFT_descriptors(train_names, max_desc=1000)\n",
        "\n",
        "# Some prints\n",
        "print(len(query_kps))\n",
        "print(len(train_kps))\n",
        "print(len(query_desc))\n",
        "print(len(train_desc))\n",
        "print(query_desc[0].shape)\n",
        "print(query_desc[0])"
      ],
      "id": "f7e7e1c5"
    },
    {
      "cell_type": "markdown",
      "metadata": {
        "id": "6b8f8d0c"
      },
      "source": [
        "For development purposes, we use the parameter `max_desc` to load a maximum number (1000) of the descriptors. This will speed up the execution of the rest of the notebook, while the decrease in performance will be minimum.\n",
        "\n",
        "> **Some images do not have keypoints/descriptors. Take this into account when you develop your solution.**"
      ],
      "id": "6b8f8d0c"
    },
    {
      "cell_type": "markdown",
      "metadata": {
        "id": "9e2aeee4"
      },
      "source": [
        "## $k$-d trees and LSH \n",
        "Let's start coding. At this section, you will develop a retrieval system using $k$-d trees and Locality Sensitive Hashing (LSH). "
      ],
      "id": "9e2aeee4"
    },
    {
      "cell_type": "markdown",
      "metadata": {
        "id": "9b5ec641"
      },
      "source": [
        "### General framework\n",
        "As we did in the first assignment, you first will develop some utilities to simplify your work. Write a function called `search_image` to search an image in a generic index (database). You should search each descriptor of the given query image and obtain its two closest SIFT descriptors in the database. Next, the initial set of matches should be filtered using the **NNDR criterion (use 0.8 as ratio)**, as you did in the previous assignment. For each database image, its final score with regard to this query image will be the **number of correct matches** with this image:"
      ],
      "id": "9b5ec641"
    },
    {
      "cell_type": "code",
      "execution_count": null,
      "metadata": {
        "id": "d9560c34"
      },
      "outputs": [],
      "source": [
        "def search_image(descs, index, id_to_name):\n",
        "    \"\"\"\n",
        "    Search an image in the index\n",
        "    \n",
        "    - descs: A numpy array. This is the set descriptors extracted from the query image\n",
        "    - index: OpenCV FLANN index to search for descriptors.\n",
        "    - id_to_name: An associative list to link every image index to its real name\n",
        "        e.g. id_to_name[0] = '100001.jpg', id_to_name[1] = '100002.jpg'\n",
        "  \n",
        "    RETURN: \n",
        "    - An ordered list of similar images, e.g.: ['100101.jpg', '100202.jpg', ...]\n",
        "    \"\"\"\n",
        "  # Perform FLANN-based matching to find similar descriptors\n",
        "    matches = index.knnMatch(descs, k=2)\n",
        "\n",
        "    # Apply ratio test to filter out bad matches and find the best match for each query descriptor\n",
        "    good_matches = []\n",
        "    for m, n in matches:\n",
        "        if m.distance < 0.8 * n.distance:\n",
        "            good_matches.append(m)\n",
        "\n",
        "    scores = {}\n",
        "    for i, matchFound in enumerate(good_matches):\n",
        "        img_idx = matchFound.imgIdx\n",
        "        if img_idx not in scores:\n",
        "            scores[img_idx] = 0\n",
        "        scores[img_idx] += 1\n",
        "    sorted_scores = sorted(scores.items(), key=lambda x: x[1], reverse=True)\n",
        "\n",
        "    similar_names = []\n",
        "    for image_id, score in sorted_scores:\n",
        "        similar_names.append(id_to_name[image_id])\n",
        "\n",
        "    return sorted(similar_names)"
      ],
      "id": "d9560c34"
    },
    {
      "cell_type": "markdown",
      "metadata": {
        "id": "5470e6a8"
      },
      "source": [
        "Now, write a function called `compute_mAP`. Given a list of query images and a trained index, this function should return a Python dictionary with the ordered results for each query along with the computed mAP:"
      ],
      "id": "5470e6a8"
    },
    {
      "cell_type": "code",
      "execution_count": null,
      "metadata": {
        "id": "0195c2f4"
      },
      "outputs": [],
      "source": [
        "def compute_mAP(query_names, query_desc, index, id_to_name, gt_file):\n",
        "    \"\"\"\n",
        "    Perform a search for a list of query images against the database.\n",
        "    \n",
        "    - query_names: An ordered list with the names of the query images\n",
        "    - query_desc: A list containing numpy arrays of size (ndesc_for_this_image, 128)\n",
        "                  Each numpy array i corresponds to the descriptors found at image i\n",
        "    - index: FLANN index\n",
        "    - id_to_name: An associative array to link every image index to its real name\n",
        "                  e.g. id_to_name[0] = '100001.jpg', id_to_name[1] = '100002.jpg'\n",
        "  \n",
        "    RETURN: \n",
        "    - total_results: A dictionary containing, for each query image, an sorted list of the database images\n",
        "    - m_ap: Mean Average Precision averaged over all queries\n",
        "    \"\"\"\n",
        "    total_results = {}\n",
        "    m_ap = 0.0\n",
        "    \n",
        "    i = 1\n",
        "    for qname, qdesc in zip(query_names, query_desc):\n",
        "        # Search for similar images\n",
        "        results = search_image(qdesc, index, id_to_name)\n",
        "        total_results[qname] = results\n",
        "        i = i + 1\n",
        "    \n",
        "    m_ap = ev.compute_mAP(total_results, gt_file)\n",
        "    return total_results, m_ap"
      ],
      "id": "0195c2f4"
    },
    {
      "cell_type": "markdown",
      "metadata": {
        "id": "6a7782f8"
      },
      "source": [
        "### $k$-d Trees\n",
        "In this section you will use a set of randomized $k$-d trees to index the database of images. Write a function called `build_db_kdtrees` to build a set of randomized $k$-d trees given a set of descriptors:\n",
        "\n",
        "> **Useful links**: [cv2.FlannBasedMatcher](https://docs.opencv.org/4.5.5/dc/de2/classcv_1_1FlannBasedMatcher.html), [Possible algorithms to create an index](https://docs.opencv.org/4.5.5/db/d18/classcv_1_1flann_1_1GenericIndex.html#a8fff14185f9f3d2f2311b528f65b146c), [Algorithms IDs](https://github.com/opencv/opencv/blob/master/modules/flann/include/opencv2/flann/defines.h#L70)"
      ],
      "id": "6a7782f8"
    },
    {
      "cell_type": "code",
      "execution_count": null,
      "metadata": {
        "id": "3586111e"
      },
      "outputs": [],
      "source": [
        "def build_db_kdtrees(descs, ntrees = 4):\n",
        "    \"\"\"\n",
        "    Build a set of randomized k-d trees.\n",
        "    \n",
        "    - descs: A list of length len(img_names) where each element is a numpy array \n",
        "        of size (ndesc_for_this_image, 128). Each numpy array i corresponds \n",
        "        to the descriptors found on image i\n",
        "    - ntrees: Number of trees to train\n",
        "  \n",
        "    RETURN: \n",
        "    - index: Trained FLANN index\n",
        "    \"\"\"  \n",
        "    FLANN_INDEX_KDTREE = 1\n",
        "    index_params = dict(algorithm = FLANN_INDEX_KDTREE, trees = ntrees)\n",
        "    search_params = dict(checks=50)\n",
        "\n",
        "    flann = cv2.FlannBasedMatcher(index_params,search_params)\n",
        "    flann.add(descs)\n",
        "    flann.train()\n",
        "    return flann"
      ],
      "id": "3586111e"
    },
    {
      "cell_type": "code",
      "execution_count": null,
      "metadata": {
        "colab": {
          "base_uri": "https://localhost:8080/"
        },
        "id": "2fe39d9d",
        "outputId": "91d8b1ea-5616-4a2f-fcb5-7dd851ca272e"
      },
      "outputs": [
        {
          "name": "stdout",
          "output_type": "stream",
          "text": [
            "2\n"
          ]
        }
      ],
      "source": [
        "# Simple example of DB construction\n",
        "index = build_db_kdtrees(train_desc[0:2])\n",
        "print(len(index.getTrainDescriptors()))"
      ],
      "id": "2fe39d9d"
    },
    {
      "cell_type": "code",
      "execution_count": null,
      "metadata": {
        "colab": {
          "base_uri": "https://localhost:8080/"
        },
        "id": "8598581a",
        "outputId": "497e19a2-70b2-4b1b-e5c6-915ac2242a99"
      },
      "outputs": [
        {
          "name": "stdout",
          "output_type": "stream",
          "text": [
            "['100001.jpg', '100002.jpg']\n"
          ]
        }
      ],
      "source": [
        "# Search an image in the index\n",
        "img_res = search_image(query_desc[0], index, train_names[0:2])\n",
        "print(img_res)"
      ],
      "id": "8598581a"
    },
    {
      "cell_type": "code",
      "execution_count": null,
      "metadata": {
        "colab": {
          "base_uri": "https://localhost:8080/"
        },
        "id": "0c32c81c",
        "outputId": "e6792bd0-ae12-4f58-9404-91fdddee285e"
      },
      "outputs": [
        {
          "name": "stdout",
          "output_type": "stream",
          "text": [
            "['100001.jpg', '100002.jpg']\n",
            "['100001.jpg', '100002.jpg']\n",
            "0.002\n"
          ]
        }
      ],
      "source": [
        "# Example of computing mAP\n",
        "results, mAP = compute_mAP(query_names, query_desc, index, train_names[0:2], '../holidays/holidays_images.dat')\n",
        "print(results['100000.jpg'])\n",
        "print(results['100100.jpg'])\n",
        "print(mAP) # This should be 0 now, since there is only two images in the database."
      ],
      "id": "0c32c81c"
    },
    {
      "cell_type": "markdown",
      "metadata": {
        "id": "ec669537"
      },
      "source": [
        "**Q1**: Using functions developed so far, in the following cell compute the resulting **mAP** of the system **using 4 trees**:"
      ],
      "id": "ec669537"
    },
    {
      "cell_type": "code",
      "execution_count": null,
      "metadata": {
        "id": "d3d0cfe3"
      },
      "outputs": [],
      "source": [
        "# Fill this variable with the resulting mAP\n",
        "mAP_kdtree = 0.0\n",
        "\n",
        "index = build_db_kdtrees(train_desc, ntrees = 4)\n",
        "results, mAP_kdtree = compute_mAP(query_names, query_desc, index, train_names,'../holidays/holidays_images.dat')"
      ],
      "id": "d3d0cfe3"
    },
    {
      "cell_type": "code",
      "execution_count": null,
      "metadata": {
        "colab": {
          "base_uri": "https://localhost:8080/"
        },
        "id": "f3ef5289",
        "outputId": "fbf69f5e-286b-48b3-8b75-1ccf49231e74"
      },
      "outputs": [
        {
          "name": "stdout",
          "output_type": "stream",
          "text": [
            "mAP: 0.27641\n"
          ]
        }
      ],
      "source": [
        "print('mAP: %.5f' % mAP_kdtree)"
      ],
      "id": "f3ef5289"
    },
    {
      "cell_type": "markdown",
      "metadata": {
        "id": "57bae631"
      },
      "source": [
        "**Q2**: Are the results stable? Do you obtain always the same mAP? Why?"
      ],
      "id": "57bae631"
    },
    {
      "cell_type": "code",
      "execution_count": null,
      "metadata": {
        "id": "oWtQebhlrWJT"
      },
      "outputs": [],
      "source": [
        "index = build_db_kdtrees(train_desc, ntrees = 4)\n",
        "_, mAP_kdtree_attempt1 = compute_mAP(query_names, query_desc, index, train_names,'../holidays/holidays_images.dat')\n",
        "_, mAP_kdtree_attempt2 = compute_mAP(query_names, query_desc, index, train_names,'../holidays/holidays_images.dat')\n",
        "_, mAP_kdtree_attempt3 = compute_mAP(query_names, query_desc, index, train_names,'../holidays/holidays_images.dat')"
      ],
      "id": "oWtQebhlrWJT"
    },
    {
      "cell_type": "markdown",
      "metadata": {
        "id": "NU2xhWB8sFXA"
      },
      "source": [
        "As seen below the results are stable as across different attempts the mAP remains the same. The algorithms generate consistent and stable results across multiple runs because the nearest neighbors found for a particular query point will be the same each time the algorithm is run. "
      ],
      "id": "NU2xhWB8sFXA"
    },
    {
      "cell_type": "code",
      "execution_count": null,
      "metadata": {
        "colab": {
          "base_uri": "https://localhost:8080/",
          "height": 509
        },
        "id": "wXpwbrEHrj2O",
        "outputId": "4f9ebca7-cbab-448a-f5e3-a401b249fcfd"
      },
      "outputs": [
        {
          "name": "stdout",
          "output_type": "stream",
          "text": [
            "different mAPs for the same query:  0.27171375096630657 0.27171375096630657 0.27171375096630657\n"
          ]
        },
        {
          "data": {
            "image/png": "[encoded data removed]",
            "text/plain": [
              "<Figure size 640x480 with 1 Axes>"
            ]
          },
          "metadata": {},
          "output_type": "display_data"
        }
      ],
      "source": [
        "print(\"different mAPs for the same query: \", mAP_kdtree_attempt1, mAP_kdtree_attempt2, mAP_kdtree_attempt3)\n",
        "values = [mAP_kdtree_attempt1, mAP_kdtree_attempt2, mAP_kdtree_attempt3]\n",
        "labels = [\"attempt1\", \"attempt2\", \"attempt3\"]\n",
        "plot_chart(values, labels, \"mAP for exact same queries\", \"mAP\", \"attempts\")"
      ],
      "id": "wXpwbrEHrj2O"
    },
    {
      "cell_type": "markdown",
      "metadata": {
        "id": "72827768"
      },
      "source": [
        "Write here the code required to answer the questions stated above. You can add more cells (code / markdown) at this point if you need it."
      ],
      "id": "72827768"
    },
    {
      "cell_type": "markdown",
      "metadata": {
        "id": "8baed384"
      },
      "source": [
        "**Q3:** Analyze the effect of changing the number of trees in terms of mAP and average response time. Some plots here can be useful to justify your answer."
      ],
      "id": "8baed384"
    },
    {
      "cell_type": "markdown",
      "metadata": {
        "id": "37k71TW3ucpf"
      },
      "source": [
        "As seen in the charts below increasing the number of trees causes a slight increase in mAP. This is also seen for the average response time which also increases with a higher number of trees."
      ],
      "id": "37k71TW3ucpf"
    },
    {
      "cell_type": "code",
      "execution_count": null,
      "metadata": {
        "id": "N_QStIuVsY_A"
      },
      "outputs": [],
      "source": [
        "import time\n",
        "start_time = time.time()\n",
        "index_2_trees = build_db_kdtrees(train_desc, ntrees = 2)\n",
        "train_time_2_trees = time.time() - start_time\n",
        "\n",
        "start_time = time.time()\n",
        "index_4_trees = build_db_kdtrees(train_desc, ntrees = 4)\n",
        "train_time_4_trees = time.time() - start_time\n",
        "\n",
        "start_time = time.time()\n",
        "index_8_trees = build_db_kdtrees(train_desc, ntrees = 8)\n",
        "train_time_8_trees = time.time() - start_time\n",
        "train_time_kdtree = [train_time_2_trees, train_time_4_trees, train_time_8_trees]"
      ],
      "id": "N_QStIuVsY_A"
    },
    {
      "cell_type": "code",
      "execution_count": null,
      "metadata": {
        "colab": {
          "base_uri": "https://localhost:8080/"
        },
        "id": "irx6KinasvkL",
        "outputId": "c99e39de-c3da-4921-ac10-08fc0ab5089c"
      },
      "outputs": [
        {
          "name": "stdout",
          "output_type": "stream",
          "text": [
            "mAP with 2 trees:  0.2529574366207561\n",
            "mAP with 4 trees:  0.2630256665098736\n",
            "mAP with 8 trees:  0.2702607417719879\n"
          ]
        }
      ],
      "source": [
        "results, mAP_kdtree2 = compute_mAP(query_names, query_desc, index_2_trees, train_names, '../holidays/holidays_images.dat')\n",
        "print(\"mAP with 2 trees: \", mAP_kdtree2)\n",
        "\n",
        "results, mAP_kdtree4 = compute_mAP(query_names, query_desc, index_4_trees, train_names, '../holidays/holidays_images.dat')\n",
        "print(\"mAP with 4 trees: \", mAP_kdtree4)\n",
        "\n",
        "results, mAP_kdtree8 = compute_mAP(query_names, query_desc, index_8_trees, train_names, '../holidays/holidays_images.dat')\n",
        "print(\"mAP with 8 trees: \", mAP_kdtree8)"
      ],
      "id": "irx6KinasvkL"
    },
    {
      "cell_type": "markdown",
      "metadata": {
        "id": "wp3OvtWvtx39"
      },
      "source": [
        "mAP for different N trees - it slightly increases with the number of trees"
      ],
      "id": "wp3OvtWvtx39"
    },
    {
      "cell_type": "code",
      "execution_count": null,
      "metadata": {
        "colab": {
          "base_uri": "https://localhost:8080/",
          "height": 472
        },
        "id": "C9u4APQot1FT",
        "outputId": "7473560a-2161-493f-9a48-700fa753c3dd"
      },
      "outputs": [
        {
          "data": {
            "image/png": "[encoded data removed]",
            "text/plain": [
              "<Figure size 640x480 with 1 Axes>"
            ]
          },
          "metadata": {},
          "output_type": "display_data"
        }
      ],
      "source": [
        "mAP_scores_kdtree = [mAP_kdtree2, mAP_kdtree4, mAP_kdtree8]\n",
        "labels_kdtree = ['2', '4', '8']\n",
        "\n",
        "plot_chart(mAP_scores_kdtree, labels_kdtree, \"mAP for different N trees\", \"mAP\", \"N trees\")"
      ],
      "id": "C9u4APQot1FT"
    },
    {
      "cell_type": "markdown",
      "metadata": {
        "id": "gM5yPGjsu0qU"
      },
      "source": [
        "Average Query Times - it increase with the number of trees"
      ],
      "id": "gM5yPGjsu0qU"
    },
    {
      "cell_type": "code",
      "execution_count": null,
      "metadata": {
        "id": "hzVVFgPnuw9H"
      },
      "outputs": [],
      "source": [
        "import time\n",
        "total_time_2_trees = 0\n",
        "total_time_4_trees = 0\n",
        "total_time_8_trees = 0\n",
        "# Define the number of queries to run\n",
        "num_queries = 5\n",
        "\n",
        "# Loop through the queries\n",
        "for i in range(num_queries):\n",
        "    # Time how long the search takes\n",
        "    start_time_2_trees = time.time() \n",
        "    results_2_trees = search_image(query_desc[i], index_2_trees, train_names)\n",
        "    end_time_2_trees = time.time()\n",
        "\n",
        "    start_time_4_trees = time.time()\n",
        "    results_4_trees = search_image(query_desc[i], index_4_trees, train_names)\n",
        "    end_time_4_trees = time.time()\n",
        "\n",
        "    start_time_8_trees = time.time()\n",
        "    results_8_trees = search_image(query_desc[i], index_8_trees, train_names)\n",
        "    end_time_8_trees = time.time()\n",
        "\n",
        "    # Add the time taken to the total\n",
        "    total_time_2_trees += (end_time_2_trees - start_time_2_trees)\n",
        "    total_time_4_trees += (end_time_4_trees - start_time_4_trees)\n",
        "    total_time_8_trees += (end_time_8_trees - start_time_8_trees)\n",
        "\n",
        "# Compute the average time taken\n",
        "avg_time_2_trees = total_time_2_trees / num_queries\n",
        "avg_time_4_trees = total_time_4_trees / num_queries\n",
        "avg_time_8_trees = total_time_8_trees / num_queries"
      ],
      "id": "hzVVFgPnuw9H"
    },
    {
      "cell_type": "code",
      "execution_count": null,
      "metadata": {
        "colab": {
          "base_uri": "https://localhost:8080/",
          "height": 472
        },
        "id": "U7A6hp4Cu7D9",
        "outputId": "4652f1fe-2d8f-4642-b057-fb6d76a59cbd"
      },
      "outputs": [
        {
          "data": {
            "image/png": "[encoded data removed]",
            "text/plain": [
              "<Figure size 640x480 with 1 Axes>"
            ]
          },
          "metadata": {},
          "output_type": "display_data"
        }
      ],
      "source": [
        "avg_query_times_kdtree = [avg_time_2_trees, avg_time_4_trees, avg_time_8_trees]\n",
        "labels_kdtree = ['2', '4', '8']\n",
        "\n",
        "plot_chart(avg_query_times_kdtree, labels_kdtree, \"average query times for N trees\", \"query time\", \"N trees\")"
      ],
      "id": "U7A6hp4Cu7D9"
    },
    {
      "cell_type": "markdown",
      "metadata": {
        "id": "OxogLY1hvOXo"
      },
      "source": [
        "Training Times"
      ],
      "id": "OxogLY1hvOXo"
    },
    {
      "cell_type": "code",
      "execution_count": null,
      "metadata": {
        "colab": {
          "base_uri": "https://localhost:8080/",
          "height": 472
        },
        "id": "VmODtrsju98Z",
        "outputId": "fbd3b50e-9f5f-4c35-bf3a-a152cee4f35f"
      },
      "outputs": [
        {
          "data": {
            "image/png": "[encoded data removed]",
            "text/plain": [
              "<Figure size 640x480 with 1 Axes>"
            ]
          },
          "metadata": {},
          "output_type": "display_data"
        }
      ],
      "source": [
        "plot_chart(train_time_kdtree, labels_kdtree, \"training times for N trees\", \"training time\", \"N trees\")"
      ],
      "id": "VmODtrsju98Z"
    },
    {
      "cell_type": "markdown",
      "metadata": {
        "id": "3e57caf1"
      },
      "source": [
        "Write here the code required to answer the questions stated above. You can add more cells (code / markdown) at this point if you need it."
      ],
      "id": "3e57caf1"
    },
    {
      "cell_type": "markdown",
      "metadata": {
        "id": "52633ad1"
      },
      "source": [
        "### Locality Sensitive Hashing (LSH)\n",
        "In this section, you will use LSH to index the database of images. The LSH implementation included in OpenCV uses **bit sampling** for **Hamming distance** as a hash function and, therefore, binary descriptors must be used. Hence, SIFT descriptors are not valid and we need to describe the images, but using, for instance, ORB.\n",
        "\n",
        "In the following cell, write the code required to generate **roughly 1500 keypoints / descriptors** using ORB for each query / train image:\n",
        "\n",
        "> **Useful links**: [cv2.ORB_create](https://docs.opencv.org/4.5.4/db/d95/classcv_1_1ORB.html#aeff0cbe668659b7ca14bb85ff1c4073b)"
      ],
      "id": "52633ad1"
    },
    {
      "cell_type": "code",
      "execution_count": null,
      "metadata": {
        "id": "4b1223cb"
      },
      "outputs": [],
      "source": [
        "def generateAllDescriptorsAndKeypoints(query_images, train_images, no_keypoints=1500, no_descriptors=1500):\n",
        "    \"\"\"\n",
        "    In this section, you will use LSH to index the database of images. The LSH implementation \n",
        "    included in OpenCV uses bit sampling for Hamming distance as a hash function and, therefore, \n",
        "    binary descriptors must be used. Hence, SIFT descriptors are not valid and we need to describe the images\n",
        "    , but using, for instance, ORB.\n",
        "\n",
        "    RETURN: \n",
        "    - query_kps_orb: list of keypoints for query images\n",
        "    - query_desc_orb: list of descriptors for query images\n",
        "    - train_kps_orb: list of keypoints for train images\n",
        "    - train_desc_orb: list of descriptors for train images\n",
        "    \"\"\" \n",
        "    \n",
        "    orb = cv2.ORB_create(nfeatures=no_keypoints, nlevels=8, scoreType=cv2.ORB_FAST_SCORE)\n",
        "\n",
        "    # Initialize keypoint and descriptor lists for query and train images\n",
        "    query_kps_orb = []\n",
        "    query_desc_orb = []\n",
        "    train_kps_orb = []\n",
        "    train_desc_orb = []\n",
        "\n",
        "    # Generate keypoints and descriptors for query images\n",
        "    for query_image in query_images:\n",
        "      img = cv2.cvtColor(query_image, cv2.COLOR_BGR2GRAY)\n",
        "      kps, desc = orb.detectAndCompute(img, None)\n",
        "      query_kps_orb.append(kps)\n",
        "      query_desc_orb.append(desc)\n",
        "\n",
        "    # Generate keypoints and descriptors for train images\n",
        "    for train_image in train_images:\n",
        "      img = cv2.cvtColor(train_image, cv2.COLOR_BGR2GRAY)\n",
        "      kps, desc = orb.detectAndCompute(img, None)\n",
        "      train_kps_orb.append(kps)\n",
        "      train_desc_orb.append(desc)\n",
        "\n",
        "    return query_kps_orb, query_desc_orb, train_kps_orb, train_desc_orb"
      ],
      "id": "4b1223cb"
    },
    {
      "cell_type": "code",
      "execution_count": null,
      "metadata": {
        "id": "2VOxfv0xv8gf"
      },
      "outputs": [],
      "source": [
        "[query_kps_orb, query_desc_orb, train_kps_orb, train_desc_orb] = generateAllDescriptorsAndKeypoints(query_imgs, train_imgs)"
      ],
      "id": "2VOxfv0xv8gf"
    },
    {
      "cell_type": "code",
      "execution_count": null,
      "metadata": {
        "colab": {
          "base_uri": "https://localhost:8080/"
        },
        "id": "03aa9edf",
        "outputId": "771d062b-e219-45cd-ccfe-1b77be9e6ef4"
      },
      "outputs": [
        {
          "name": "stdout",
          "output_type": "stream",
          "text": [
            "1563\n",
            "(1563, 32)\n",
            "[[ 45  45  17 ... 251  82 160]\n",
            " [ 13 220 255 ... 146  84 171]\n",
            " [203   4 103 ... 244 112 116]\n",
            " ...\n",
            " [211  13 119 ... 160 165 116]\n",
            " [224  98 157 ... 240 138  11]\n",
            " [162  43 172 ...  93  90 207]]\n"
          ]
        }
      ],
      "source": [
        "# Show some data\n",
        "print(len(query_kps_orb[0]))\n",
        "print(query_desc_orb[0].shape)\n",
        "print(query_desc_orb[0])"
      ],
      "id": "03aa9edf"
    },
    {
      "cell_type": "markdown",
      "metadata": {
        "id": "b3362cc8"
      },
      "source": [
        "Next, write a function called `build_db_lsh` to build a **standard** (*no multi-probe*) LSH index from a set of images:"
      ],
      "id": "b3362cc8"
    },
    {
      "cell_type": "code",
      "execution_count": null,
      "metadata": {
        "id": "7f4e0e3e"
      },
      "outputs": [],
      "source": [
        "def build_db_lsh(descs, tables = 6, hash_size = 12):\n",
        "    \"\"\"\n",
        "    Index a set of images using LSH.    \n",
        "    \n",
        "    - descs: A list containing numpy arrays of size (~1500, 32). Each numpy array\n",
        "        i corresponds to the ORB descriptors found at image i.\n",
        "    - tables: Number of hash tables to create.\n",
        "    - hash_size: Hash length in bits.\n",
        "  \n",
        "    RETURN: \n",
        "    - index: The trained LSH index.\n",
        "    \"\"\"  \n",
        "    FLANN_INDEX_LSH = 6\n",
        "\n",
        "    index_params= dict(algorithm = FLANN_INDEX_LSH,\n",
        "                      table_number = tables,\n",
        "                      key_size = hash_size,    \n",
        "                      multi_probe_level = 0)\n",
        "    search_params = dict(checks=50) \n",
        "\n",
        "    flann = cv2.FlannBasedMatcher(index_params,search_params)\n",
        "\n",
        "    flann.add(descs)\n",
        "    flann.train()\n",
        "\n",
        "    return flann"
      ],
      "id": "7f4e0e3e"
    },
    {
      "cell_type": "code",
      "execution_count": null,
      "metadata": {
        "colab": {
          "base_uri": "https://localhost:8080/"
        },
        "id": "80ccfabe",
        "outputId": "69524691-cd44-4de4-ce9a-e7fa8f316181"
      },
      "outputs": [
        {
          "name": "stdout",
          "output_type": "stream",
          "text": [
            "2\n"
          ]
        }
      ],
      "source": [
        "# Simple example of DB construction\n",
        "index = build_db_lsh(train_desc_orb[0:2])\n",
        "print(len(index.getTrainDescriptors()))"
      ],
      "id": "80ccfabe"
    },
    {
      "cell_type": "markdown",
      "metadata": {
        "id": "e544ed8d"
      },
      "source": [
        "**Q4**: In the following cell compute the resulting **mAP** of the system **using 6 tables and a hash size of 12**:"
      ],
      "id": "e544ed8d"
    },
    {
      "cell_type": "code",
      "execution_count": null,
      "metadata": {
        "id": "1a0ebcfb"
      },
      "outputs": [],
      "source": [
        "# Fill this variable with the resulting mAP\n",
        "mAP_lsh = 0.0\n",
        "\n",
        "index = build_db_lsh(train_desc_orb)\n",
        "results, mAP_lsh = compute_mAP(query_names, query_desc_orb, index, train_names, '../holidays/holidays_images.dat')"
      ],
      "id": "1a0ebcfb"
    },
    {
      "cell_type": "code",
      "execution_count": null,
      "metadata": {
        "colab": {
          "base_uri": "https://localhost:8080/"
        },
        "id": "c9716be7",
        "outputId": "83db409b-44a9-44f1-f123-2ab3ecd980ae"
      },
      "outputs": [
        {
          "name": "stdout",
          "output_type": "stream",
          "text": [
            "mAP: 0.20091\n"
          ]
        }
      ],
      "source": [
        "print('mAP: %.5f' % mAP_lsh)"
      ],
      "id": "c9716be7"
    },
    {
      "cell_type": "markdown",
      "metadata": {
        "id": "1e599bd3"
      },
      "source": [
        "**Q5**: Are the results stable? Do you obtain always the same mAP? Why?"
      ],
      "id": "1e599bd3"
    },
    {
      "cell_type": "markdown",
      "metadata": {
        "id": "_SQjk0A9Pq0n"
      },
      "source": [
        "The results are stable with the same mAP being calculated with multiple attempts. The algorithms generate consistent and stable results across multiple runs because the nearest neighbors found for a particular query point will be the same each time the algorithm is run. "
      ],
      "id": "_SQjk0A9Pq0n"
    },
    {
      "cell_type": "code",
      "execution_count": null,
      "metadata": {
        "id": "DRKpT2SXxtnB"
      },
      "outputs": [],
      "source": [
        "_, mAP_lsh_attempt1 = compute_mAP(query_names, query_desc_orb, index, train_names, '../holidays/holidays_images.dat')\n",
        "\n",
        "_, mAP_lsh_attempt2 = compute_mAP(query_names, query_desc_orb, index, train_names, '../holidays/holidays_images.dat')\n",
        "\n",
        "_, mAP_lsh_attempt3 = compute_mAP(query_names, query_desc_orb, index, train_names, '../holidays/holidays_images.dat')"
      ],
      "id": "DRKpT2SXxtnB"
    },
    {
      "cell_type": "code",
      "execution_count": null,
      "metadata": {
        "colab": {
          "base_uri": "https://localhost:8080/",
          "height": 509
        },
        "id": "1oFBnECIx5LK",
        "outputId": "a84d869a-7020-4e44-d849-8cd1b52b8253"
      },
      "outputs": [
        {
          "name": "stdout",
          "output_type": "stream",
          "text": [
            "different mAPs for the same query:  0.1990713761710488 0.1990713761710488 0.1990713761710488\n"
          ]
        },
        {
          "data": {
            "image/png": "[encoded data removed]",
            "text/plain": [
              "<Figure size 640x480 with 1 Axes>"
            ]
          },
          "metadata": {},
          "output_type": "display_data"
        }
      ],
      "source": [
        "print(\"different mAPs for the same query: \", mAP_lsh_attempt1, mAP_lsh_attempt2, mAP_lsh_attempt3)\n",
        "values = [mAP_lsh_attempt1, mAP_lsh_attempt2, mAP_lsh_attempt3]\n",
        "labels = [\"attempt1\", \"attempt2\", \"attempt3\"]\n",
        "plot_chart(values, labels, \"mAP for exact same queries\", \"mAP\", \"attempts\")"
      ],
      "id": "1oFBnECIx5LK"
    },
    {
      "cell_type": "markdown",
      "metadata": {
        "id": "71126dfa"
      },
      "source": [
        "Write here the code required to answer the questions stated above. You can add more cells (code / markdown) at this point if you need it."
      ],
      "id": "71126dfa"
    },
    {
      "cell_type": "markdown",
      "metadata": {
        "id": "64381fca"
      },
      "source": [
        "**Q6**: Analyze the effect of changing the number of tables / hash size in terms of mAP and average response time. Some plots here can be useful to justify your answer."
      ],
      "id": "64381fca"
    },
    {
      "cell_type": "markdown",
      "metadata": {
        "id": "0juUHYzZP7cL"
      },
      "source": [
        "The summary is seen here (plots to support shown below)\n",
        "\n",
        "Response time effect:\n",
        "- It's seen as the hash size increases the time taken to query goes down.\n",
        "- It's seen as the number of tables increases the time to query goes up.\n",
        "\n",
        "\n",
        "mAP effect:\n",
        "- It's seen the increasing the hash size decreases the mAP.\n",
        "- It's seen that increasing the tables size seems to slightly increase the mAP.\n"
      ],
      "id": "0juUHYzZP7cL"
    },
    {
      "cell_type": "code",
      "execution_count": null,
      "metadata": {
        "id": "PRqdKDQHy0A3"
      },
      "outputs": [],
      "source": [
        "import time\n",
        "start_time = time.time()\n",
        "index_table6_hash12 = build_db_lsh(train_desc_orb, tables = 6, hash_size =12)\n",
        "train_time_table6_hash12 = time.time() - start_time\n",
        "\n",
        "start_time = time.time()\n",
        "index_table6_hash14 = build_db_lsh(train_desc_orb, tables = 6, hash_size =14)\n",
        "train_time_table6_hash14 = time.time() - start_time\n",
        "\n",
        "start_time = time.time()\n",
        "index_table6_hash16 = build_db_lsh(train_desc_orb, tables = 6, hash_size =16)\n",
        "train_time_table6_hash16 = time.time() - start_time"
      ],
      "id": "PRqdKDQHy0A3"
    },
    {
      "cell_type": "code",
      "execution_count": null,
      "metadata": {
        "id": "LOUnbyqmSAdi"
      },
      "outputs": [],
      "source": [
        "start_time = time.time()\n",
        "index_table8_hash12 = build_db_lsh(train_desc_orb, tables = 8, hash_size =12)\n",
        "train_time_table8_hash12 = time.time() - start_time\n",
        "\n",
        "start_time = time.time()\n",
        "index_table10_hash12 = build_db_lsh(train_desc_orb, tables = 10, hash_size =12)\n",
        "train_time_table10_hash12 = time.time() - start_time"
      ],
      "id": "LOUnbyqmSAdi"
    },
    {
      "cell_type": "markdown",
      "metadata": {
        "id": "yAPEOztqzLYX"
      },
      "source": [
        "mAP for changing hash number"
      ],
      "id": "yAPEOztqzLYX"
    },
    {
      "cell_type": "code",
      "execution_count": null,
      "metadata": {
        "id": "6O6D6lJoIhyT"
      },
      "outputs": [],
      "source": [
        "_, mAP_lsh_table6_hash12 = compute_mAP(query_names, query_desc_orb, index_table6_hash12, train_names, '../holidays/holidays_images.dat')"
      ],
      "id": "6O6D6lJoIhyT"
    },
    {
      "cell_type": "code",
      "execution_count": null,
      "metadata": {
        "id": "GxAMSZ-URDAr"
      },
      "outputs": [],
      "source": [
        "_, mAP_lsh_table6_hash14 = compute_mAP(query_names, query_desc_orb, index_table6_hash14, train_names, '../holidays/holidays_images.dat')"
      ],
      "id": "GxAMSZ-URDAr"
    },
    {
      "cell_type": "code",
      "execution_count": null,
      "metadata": {
        "id": "EyMzx0KeRBNf"
      },
      "outputs": [],
      "source": [
        "_, mAP_lsh_table6_hash16 = compute_mAP(query_names, query_desc_orb, index_table6_hash16, train_names, '../holidays/holidays_images.dat')"
      ],
      "id": "EyMzx0KeRBNf"
    },
    {
      "cell_type": "markdown",
      "metadata": {
        "id": "YwiUVpooS0BN"
      },
      "source": [
        "mAP for changing table number"
      ],
      "id": "YwiUVpooS0BN"
    },
    {
      "cell_type": "code",
      "execution_count": null,
      "metadata": {
        "id": "lqW50-GoIiwu"
      },
      "outputs": [],
      "source": [
        "_, mAP_lsh_table8_hash12 = compute_mAP(query_names, query_desc_orb, index_table8_hash12, train_names, '../holidays/holidays_images.dat')"
      ],
      "id": "lqW50-GoIiwu"
    },
    {
      "cell_type": "code",
      "execution_count": null,
      "metadata": {
        "id": "xT68rEYeIkhw"
      },
      "outputs": [],
      "source": [
        "_, mAP_lsh_table10_hash12 = compute_mAP(query_names, query_desc_orb, index_table10_hash12, train_names, '../holidays/holidays_images.dat')"
      ],
      "id": "xT68rEYeIkhw"
    },
    {
      "cell_type": "code",
      "execution_count": null,
      "metadata": {
        "id": "x_d9tyrpzWWg"
      },
      "outputs": [],
      "source": [
        "# Data for the bar chart\n",
        "mAP_scores_lsh_changing_tables = [mAP_lsh_table6_hash12, mAP_lsh_table8_hash12, mAP_lsh_table10_hash12]\n",
        "mAP_scores_lsh_changing_hash = [mAP_lsh_table6_hash12, mAP_lsh_table6_hash14, mAP_lsh_table6_hash16]\n",
        "mAP_scores_lsh_total = [mAP_lsh_table6_hash12, mAP_lsh_table8_hash12, mAP_lsh_table10_hash12, mAP_lsh_table6_hash14, mAP_lsh_table6_hash16]\n",
        "\n",
        "labels_lsh_changing_tables = ['table6_hash12', 'table8_hash12','table10_hash12']\n",
        "labels_lsh_changing_hash = ['table6_hash12', 'table6_hash14','table6_hash16']\n",
        "labels_lsh = ['table6_hash12', 'table8_hash12','table10_hash12','table6_hash14','table6_hash16']\n",
        "\n",
        "training_time_lsh_tables = [train_time_table6_hash12, train_time_table8_hash12, train_time_table10_hash12]\n",
        "training_time_lsh_hash= [train_time_table6_hash12, train_time_table6_hash14, train_time_table6_hash16]\n",
        "training_time_lsh = [train_time_table6_hash12, train_time_table8_hash12, train_time_table10_hash12, train_time_table6_hash14, train_time_table6_hash16]"
      ],
      "id": "x_d9tyrpzWWg"
    },
    {
      "cell_type": "code",
      "execution_count": null,
      "metadata": {
        "colab": {
          "base_uri": "https://localhost:8080/"
        },
        "id": "WQxIRTTyzq91",
        "outputId": "43bf0218-583a-4c14-ab4a-a21a3577646f"
      },
      "outputs": [
        {
          "name": "stdout",
          "output_type": "stream",
          "text": [
            "mAP_scores_lsh_total [0.19304631122335333, 0.20667118016017863, 0.2287758162883553, 0.1733602955960106, 0.14263099239931917]\n",
            "training_time_lsh [0.7333700656890869, 1.357966423034668, 1.4565033912658691, 1.2837955951690674, 2.171107530593872]\n"
          ]
        }
      ],
      "source": [
        "print(\"mAP_scores_lsh_total\", mAP_scores_lsh_total)\n",
        "print(\"training_time_lsh\", training_time_lsh)"
      ],
      "id": "WQxIRTTyzq91"
    },
    {
      "cell_type": "markdown",
      "metadata": {
        "id": "k14WKvVwzMfh"
      },
      "source": [
        "Average response time calculation"
      ],
      "id": "k14WKvVwzMfh"
    },
    {
      "cell_type": "code",
      "execution_count": null,
      "metadata": {
        "id": "mwoPNee7zKOe"
      },
      "outputs": [],
      "source": [
        "total_time_table6_hash12 = 0\n",
        "total_time_table6_hash14 = 0\n",
        "total_time_table6_hash16 = 0\n",
        "total_time_table8_hash12 = 0\n",
        "total_time_table10_hash12 = 0\n",
        "# Define the number of queries to run\n",
        "num_queries = 5\n",
        "\n",
        "# Loop through the queries\n",
        "for i in range(num_queries):\n",
        "    # Time how long the search take\n",
        "    start_time_table6_hash12 = time.time() \n",
        "    results_table6_hash12 = search_image(query_desc_orb[i], index_table6_hash12, train_names)\n",
        "    end_time_table6_hash12 = time.time()\n",
        "  \n",
        "    start_time_table6_hash14 = time.time()\n",
        "    results_table6_hash14 = search_image(query_desc_orb[i], index_table6_hash14, train_names)\n",
        "    end_time_table6_hash14 = time.time()\n",
        "\n",
        "    start_time_table6_hash16 = time.time()\n",
        "    results_table6_hash16 = search_image(query_desc_orb[i], index_table6_hash16, train_names)\n",
        "    end_time_table6_hash16 = time.time()\n",
        "\n",
        "    start_time_table8_hash12 = time.time()\n",
        "    results_table8_hash12 = search_image(query_desc_orb[i], index_table8_hash12, train_names)\n",
        "    end_time_table8_hash12 = time.time()\n",
        "\n",
        "    start_time_table10_hash12 = time.time()\n",
        "    results_table10_hash12 = search_image(query_desc_orb[i], index_table10_hash12, train_names)\n",
        "    end_time_table10_hash12 = time.time()\n",
        "\n",
        "\n",
        "    total_time_table6_hash12 += (end_time_table6_hash12 - start_time_table6_hash12)\n",
        "    total_time_table6_hash14 += (end_time_table6_hash14 - start_time_table6_hash14)\n",
        "    total_time_table6_hash16 += (end_time_table6_hash16 - start_time_table6_hash16)\n",
        "    total_time_table8_hash12 += (end_time_table8_hash12 - start_time_table8_hash12)\n",
        "    total_time_table10_hash12 += (end_time_table10_hash12 - start_time_table10_hash12)\n",
        "\n",
        "# Compute the average time taken\n",
        "avg_time_table6_hash12 = total_time_table6_hash12 / num_queries\n",
        "avg_time_table6_hash14 = total_time_table6_hash14 / num_queries\n",
        "avg_time_table6_hash16 = total_time_table6_hash16 / num_queries\n",
        "avg_time_table8_hash12 = total_time_table8_hash12 / num_queries\n",
        "avg_time_table10_hash12 = total_time_table10_hash12 / num_queries"
      ],
      "id": "mwoPNee7zKOe"
    },
    {
      "cell_type": "code",
      "execution_count": null,
      "metadata": {
        "colab": {
          "base_uri": "https://localhost:8080/"
        },
        "id": "5fjXeeRDzVem",
        "outputId": "dc7b085d-66f1-46d3-e493-d5fc556464a8"
      },
      "outputs": [
        {
          "name": "stdout",
          "output_type": "stream",
          "text": [
            "avg_query_time_lsh:  [1.631845235824585, 0.537563419342041, 0.22275028228759766, 1.8914031028747558, 2.7919068813323973]\n"
          ]
        }
      ],
      "source": [
        "avg_query_time_lsh_hash = [avg_time_table6_hash12, avg_time_table6_hash14, avg_time_table6_hash16]\n",
        "avg_query_time_lsh_table = [avg_time_table6_hash12, avg_time_table8_hash12, avg_time_table10_hash12]\n",
        "avg_query_time_lsh = [avg_time_table6_hash12, avg_time_table6_hash14, avg_time_table6_hash16, avg_time_table8_hash12, avg_time_table10_hash12]\n",
        "print(\"avg_query_time_lsh: \", avg_query_time_lsh)"
      ],
      "id": "5fjXeeRDzVem"
    },
    {
      "cell_type": "markdown",
      "metadata": {
        "id": "04ubmvW0hVuf"
      },
      "source": [
        "Change response time when changing hash size. It's seen as the hash size increases the time taken to query goes down.\n",
        "\n"
      ],
      "id": "04ubmvW0hVuf"
    },
    {
      "cell_type": "code",
      "execution_count": null,
      "metadata": {
        "colab": {
          "base_uri": "https://localhost:8080/",
          "height": 472
        },
        "id": "50Pp2rb6g1WV",
        "outputId": "ac050644-89eb-493b-f6fb-d4c21c41a4c2"
      },
      "outputs": [
        {
          "data": {
            "image/png": "[encoded data removed]",
            "text/plain": [
              "<Figure size 640x480 with 1 Axes>"
            ]
          },
          "metadata": {},
          "output_type": "display_data"
        }
      ],
      "source": [
        "plot_chart(avg_query_time_lsh_hash, labels_lsh_changing_hash, \"Query times for diff hashes sizes for lsh\", \"different hashes sizes\", \"avg query time\")"
      ],
      "id": "50Pp2rb6g1WV"
    },
    {
      "cell_type": "markdown",
      "metadata": {
        "id": "Ncje6CrWbRHR"
      },
      "source": [
        "Changing response time when changing table size. It's seen as the number of tables increases the time to query goes up."
      ],
      "id": "Ncje6CrWbRHR"
    },
    {
      "cell_type": "code",
      "execution_count": null,
      "metadata": {
        "colab": {
          "base_uri": "https://localhost:8080/",
          "height": 472
        },
        "id": "1q8xZewshEBY",
        "outputId": "7498d788-a1ec-4b23-9f9d-cba085fc6865"
      },
      "outputs": [
        {
          "data": {
            "image/png": "[encoded data removed]",
            "text/plain": [
              "<Figure size 640x480 with 1 Axes>"
            ]
          },
          "metadata": {},
          "output_type": "display_data"
        }
      ],
      "source": [
        "plot_chart(avg_query_time_lsh_table, labels_lsh_changing_tables, \"Query times for diff tables sizes for lsh\", \"different table sizes\", \"avg query time\")"
      ],
      "id": "1q8xZewshEBY"
    },
    {
      "cell_type": "markdown",
      "metadata": {
        "id": "9JuMROqKPOpB"
      },
      "source": [
        "mAP for different hash sizes. It's seen the increasing the hash size decreases the mAP.\n",
        "\n"
      ],
      "id": "9JuMROqKPOpB"
    },
    {
      "cell_type": "code",
      "execution_count": null,
      "metadata": {
        "colab": {
          "base_uri": "https://localhost:8080/",
          "height": 472
        },
        "id": "WsvKWUX6PNva",
        "outputId": "f32282fa-ecf2-4819-a400-48619e9aa510"
      },
      "outputs": [
        {
          "data": {
            "image/png": "[encoded data removed]",
            "text/plain": [
              "<Figure size 640x480 with 1 Axes>"
            ]
          },
          "metadata": {},
          "output_type": "display_data"
        }
      ],
      "source": [
        "plot_chart(mAP_scores_lsh_changing_hash, labels_lsh_changing_hash, \"mAP for diff hash size\", \"mAP\", \"different hash size\")"
      ],
      "id": "WsvKWUX6PNva"
    },
    {
      "cell_type": "markdown",
      "metadata": {
        "id": "XGXwIONth63a"
      },
      "source": [
        "mAP for different table sizes. It's seen that increasing the tables size seems to slightly increase the mAP."
      ],
      "id": "XGXwIONth63a"
    },
    {
      "cell_type": "code",
      "execution_count": null,
      "metadata": {
        "colab": {
          "base_uri": "https://localhost:8080/",
          "height": 472
        },
        "id": "FT3EdUbJhqGe",
        "outputId": "918bdc2a-ab84-496a-95b0-053210dea5b3"
      },
      "outputs": [
        {
          "data": {
            "image/png": "[encoded data removed]",
            "text/plain": [
              "<Figure size 640x480 with 1 Axes>"
            ]
          },
          "metadata": {},
          "output_type": "display_data"
        }
      ],
      "source": [
        "plot_chart(mAP_scores_lsh_changing_tables, labels_lsh_changing_tables, \"mAP for diff table size\", \"mAP\", \"different table size\")"
      ],
      "id": "FT3EdUbJhqGe"
    },
    {
      "cell_type": "markdown",
      "metadata": {
        "id": "7978b7c4"
      },
      "source": [
        "Write here the code required to answer the questions stated above. You can add more cells (code / markdown) at this point if you need it."
      ],
      "id": "7978b7c4"
    },
    {
      "cell_type": "markdown",
      "metadata": {
        "id": "74726440"
      },
      "source": [
        "**Q7:** Despite the different descriptors used, compare the performance of the randomized k-d trees and LSH approaches from different points of view (accuracy, training times, querying times, ...). Some plots can be useful here to justify your answer."
      ],
      "id": "74726440"
    },
    {
      "cell_type": "markdown",
      "metadata": {
        "id": "QZqLoLojB3MH"
      },
      "source": [
        "Comparison\n",
        "\n",
        "mAP:\n",
        "- the kdtree does better than lsh for mAP\n",
        "\n",
        "training time:\n",
        "- the training time for kdtree is longer than lsh\n",
        "\n",
        "avg query time:\n",
        "- lsh avg query time is greater than kdtree\n"
      ],
      "id": "QZqLoLojB3MH"
    },
    {
      "cell_type": "markdown",
      "metadata": {
        "id": "p15uNZWm7udh"
      },
      "source": [
        "Comparison via mAP"
      ],
      "id": "p15uNZWm7udh"
    },
    {
      "cell_type": "code",
      "execution_count": null,
      "metadata": {
        "colab": {
          "base_uri": "https://localhost:8080/",
          "height": 586
        },
        "id": "_-jcBJoY76lH",
        "outputId": "873dbb6a-f406-44c7-968a-dbf575d6050d"
      },
      "outputs": [
        {
          "data": {
            "text/plain": [
              "<matplotlib.legend.Legend at 0x7f1731349240>"
            ]
          },
          "execution_count": 30,
          "metadata": {},
          "output_type": "execute_result"
        },
        {
          "data": {
            "image/png": "[encoded data removed]",
            "text/plain": [
              "<Figure size 640x480 with 1 Axes>"
            ]
          },
          "metadata": {},
          "output_type": "display_data"
        }
      ],
      "source": [
        "# Create a bar chart with both sets of mAP scores\n",
        "fig, ax = plt.subplots()\n",
        "plt.xticks(rotation=90)\n",
        "ax.bar(labels_kdtree, mAP_scores_kdtree, label='KD-tree')\n",
        "ax.bar(labels_lsh, mAP_scores_lsh_total, label='LSH')\n",
        "\n",
        "# Set the chart title, axis labels, and legend\n",
        "ax.set_title('mAP Scores for KD-tree and LSH')\n",
        "ax.set_xlabel('Indexing Algorithm')\n",
        "ax.set_ylabel('mAP Score')\n",
        "ax.legend()"
      ],
      "id": "_-jcBJoY76lH"
    },
    {
      "cell_type": "markdown",
      "metadata": {
        "id": "--p0zRaU7-HP"
      },
      "source": [
        "Comparison via Train times"
      ],
      "id": "--p0zRaU7-HP"
    },
    {
      "cell_type": "code",
      "execution_count": null,
      "metadata": {
        "colab": {
          "base_uri": "https://localhost:8080/",
          "height": 586
        },
        "id": "b6aAEBB_8Awd",
        "outputId": "b4e8b883-a48a-4d08-ad31-b764403efaa1"
      },
      "outputs": [
        {
          "data": {
            "text/plain": [
              "<matplotlib.legend.Legend at 0x7f17313a2380>"
            ]
          },
          "execution_count": 31,
          "metadata": {},
          "output_type": "execute_result"
        },
        {
          "data": {
            "image/png": "[encoded data removed]",
            "text/plain": [
              "<Figure size 640x480 with 1 Axes>"
            ]
          },
          "metadata": {},
          "output_type": "display_data"
        }
      ],
      "source": [
        "# Create a bar chart with both sets of mAP scores\n",
        "fig, ax = plt.subplots()\n",
        "plt.xticks(rotation=90)\n",
        "ax.bar(labels_kdtree, train_time_kdtree, label='KD-tree')\n",
        "ax.bar(labels_lsh, training_time_lsh, label='LSH')\n",
        "\n",
        "# Set the chart title, axis labels, and legend\n",
        "ax.set_title('Training time for KD-tree and LSH')\n",
        "ax.set_xlabel('Indexing Algorithm')\n",
        "ax.set_ylabel('Training time')\n",
        "ax.legend()"
      ],
      "id": "b6aAEBB_8Awd"
    },
    {
      "cell_type": "markdown",
      "metadata": {
        "id": "kPu4MRMQ8Evo"
      },
      "source": [
        "Comparison via Query times"
      ],
      "id": "kPu4MRMQ8Evo"
    },
    {
      "cell_type": "code",
      "execution_count": null,
      "metadata": {
        "id": "DGZK8I3mlH1b"
      },
      "outputs": [],
      "source": [
        "avg_query_time_lsh_total = [avg_time_table6_hash12, avg_time_table6_hash14, avg_time_table6_hash16, avg_time_table8_hash12, avg_time_table10_hash12]"
      ],
      "id": "DGZK8I3mlH1b"
    },
    {
      "cell_type": "code",
      "execution_count": null,
      "metadata": {
        "colab": {
          "base_uri": "https://localhost:8080/",
          "height": 586
        },
        "id": "sDbp7Kvc8J65",
        "outputId": "5d9fffcd-b9d2-4d02-a163-dd531fc42eb2"
      },
      "outputs": [
        {
          "data": {
            "text/plain": [
              "<matplotlib.legend.Legend at 0x7f1731247370>"
            ]
          },
          "execution_count": 33,
          "metadata": {},
          "output_type": "execute_result"
        },
        {
          "data": {
            "image/png": "[encoded data removed]",
            "text/plain": [
              "<Figure size 640x480 with 1 Axes>"
            ]
          },
          "metadata": {},
          "output_type": "display_data"
        }
      ],
      "source": [
        "# Create a bar chart with both sets of mAP scores\n",
        "fig, ax = plt.subplots()\n",
        "plt.xticks(rotation=90)\n",
        "ax.bar(labels_kdtree, avg_query_times_kdtree, label='KD-tree')\n",
        "ax.bar(labels_lsh, avg_query_time_lsh_total, label='LSH')\n",
        "\n",
        "# Set the chart title, axis labels, and legend\n",
        "ax.set_title('Average query times for KD-tree and LSH')\n",
        "ax.set_xlabel('Indexing Algorithm')\n",
        "ax.set_ylabel('Average query time')\n",
        "ax.legend()"
      ],
      "id": "sDbp7Kvc8J65"
    },
    {
      "cell_type": "markdown",
      "metadata": {
        "id": "3cf65981"
      },
      "source": [
        "Write here the code required to answer the questions stated above. You can add more cells (code / markdown) at this point if you need it."
      ],
      "id": "3cf65981"
    },
    {
      "cell_type": "markdown",
      "metadata": {
        "id": "d5d89bb5"
      },
      "source": [
        "## Bag-of-Words\n",
        "In this section, you will implement the Bag-of-Words (BoW) model for image retrieval. Additionally, you will also implement the TF-IDF scoring scheme."
      ],
      "id": "d5d89bb5"
    },
    {
      "cell_type": "markdown",
      "metadata": {
        "id": "9b174ede"
      },
      "source": [
        "### Download visual dictionaries\n",
        "To use a BoW model, first we need a visual vocabulary. The authors of the INRIA Holidays dataset provide some visual vocabularies, trained using a clustering method (e.g. $k$-means) in a different dataset (Flickr60K).\n",
        "\n",
        "First, download these vocabularies from [here](https://uibes-my.sharepoint.com/:u:/g/personal/egf350_id_uib_es/EY1G011OvfJOnwqWQQzmHmgBkXhLHBaK00wdizsUT252dw).\n",
        "\n",
        "> **Unzip this file into the root directory of the development kit, at the same level of the datasets.**\n",
        "\n",
        "A folder named `clust` is now available in your workspace, containing visual vocabularies of 100, 200, 500, 1K, 2K, 5K, 10K, 20K, 50K, 100K and 200K visual words. Again, these are binary files, and therefore we provide you with functions to load and index them:"
      ],
      "id": "9b174ede"
    },
    {
      "cell_type": "code",
      "execution_count": null,
      "metadata": {
        "id": "e26fefdc"
      },
      "outputs": [],
      "source": [
        "voc = rd.load_visual_vocab(\"../clust/clust_flickr60_k200.fvecs\", ntrees=4)"
      ],
      "id": "e26fefdc"
    },
    {
      "cell_type": "markdown",
      "metadata": {
        "id": "97d05851"
      },
      "source": [
        "With this function, the corresponding vocabulary is read. Additionally, a FLANN index structure based on kd-trees is built and returned using the centroids. This is to allow a fast access when searching for the closest visual words in the vocabulary. More precisely, in this example, 4 trees are constructed using the vocabulary of 200 centroids. Now, given a query descriptor(s), you can use `match` or `knnMatch` methods as usual to search for the closest (approximate) visual word(s) in the vocabulary."
      ],
      "id": "97d05851"
    },
    {
      "cell_type": "markdown",
      "metadata": {
        "id": "95ccb141"
      },
      "source": [
        "### BoW and Inverted File\n",
        "Now, write a class called `BoW` to manage the indexing procedure. This class should make use, in addition to the visual vocabulary, an inverted file to compute similarity scores between images. Apart from the class constructor, write three methods: `build_db`, `search_image` and `compute_mAP`:"
      ],
      "id": "95ccb141"
    },
    {
      "cell_type": "code",
      "execution_count": 25,
      "metadata": {
        "id": "802ae103"
      },
      "outputs": [],
      "source": [
        "class BoW:\n",
        "    \"\"\"\n",
        "    Class to implement the BoW model + Inverted File.\n",
        "    \"\"\"\n",
        "  \n",
        "    def __init__(self, vocab_file):\n",
        "        \"\"\"\n",
        "        Class constructor. It loads the vocabulary and initializes other stuff\n",
        "        required for the CBIR system, such as the inverted file structure.\n",
        "        \"\"\"\n",
        "        self.vocab = rd.load_visual_vocab(vocab_file)\n",
        "        self.nwords = self.vocab.getTrainDescriptors()[0].shape[0]\n",
        "        self.train_names = []\n",
        "        self.inv_list = {word_id: {} for word_id in range(self.nwords)}\n",
        "\n",
        "    def build_db(self, img_names, img_descs):\n",
        "        \"\"\"\n",
        "        Build an index from a set of images. Essentially, for each image, you should\n",
        "        search its descriptors in the index in order to find the closest visual words\n",
        "        and fill the inverted file structure consequently.\n",
        "    \n",
        "        - img_names: An ordered list with the names of the train images\n",
        "        - img_descs: A list containing numpy arrays. Each numpy array i corresponds \n",
        "          to the descriptors found at image i\n",
        "        \"\"\"\n",
        "        for i in range(len(img_names)):\n",
        "            img_desc = img_descs[i]\n",
        "            visual_words = self.vocab.knnMatch(img_desc, k=1)\n",
        "            bow_hist = np.zeros(self.nwords)\n",
        "\n",
        "            for vw in visual_words:\n",
        "                word_id = vw[0].trainIdx\n",
        "                bow_hist[word_id] += 1\n",
        "\n",
        "            for word_id, word_count in enumerate(bow_hist):\n",
        "                if word_count > 0:\n",
        "                    self.inv_list[word_id][img_names[i]] = word_count\n",
        "\n",
        "    def search_image(self, descs):\n",
        "        \"\"\"\n",
        "        Search an image in the index.\n",
        "      \n",
        "        - descs: A numpy array. It is the set descriptors extracted from the query image.\n",
        "    \n",
        "        RETURN:\n",
        "        - An ordered list of similar images, e.g.: ['100101.jpg', '100202.jpg', ...]\n",
        "        \"\"\"\n",
        "\n",
        "        visual_words = self.vocab.knnMatch(descs, k=1)\n",
        "        bow_hist = np.zeros(self.nwords)\n",
        "\n",
        "        for vw in visual_words:\n",
        "            word_id = vw[0].trainIdx\n",
        "            bow_hist[word_id] += 1\n",
        "\n",
        "        scores = {}\n",
        "        for word_id, word_count in enumerate(bow_hist):\n",
        "            if word_count == 0:\n",
        "                continue\n",
        "            for image_id, inv_count in self.inv_list[word_id].items():\n",
        "                if image_id not in scores:\n",
        "                    scores[image_id] = 0\n",
        "                scores[image_id] += word_count * inv_count\n",
        "\n",
        "        sorted_images = sorted(scores, key=scores.get, reverse=True)\n",
        "        return sorted_images\n",
        "      \n",
        "    def compute_mAP(self, query_names, query_descs, gt_file):\n",
        "        \"\"\"\n",
        "        Perform a search for a list of query images against the database and evaluates\n",
        "        the performance of the system.\n",
        "        \n",
        "        - query_names: An ordered list with the names of query images\n",
        "        - query_descs: A list containing numpy arrays of size (ndesc_for_this_image, 128). \n",
        "              Each numpy array i corresponds to the descriptors found at image i.\n",
        "\n",
        "        RETURN:\n",
        "        - total_results: A dictionary containing, for each query image, an ordered list of the retrieved images.\n",
        "        - m_ap: Mean Average Precision averaged over all queries.\n",
        "        \"\"\"\n",
        "        total_results = {}\n",
        "        m_ap = 0.0\n",
        "        for qname, qdesc in zip(query_names, query_desc):\n",
        "            # Search for similar images\n",
        "            results = self.search_image(qdesc)\n",
        "            total_results[qname] = results\n",
        "        \n",
        "        m_ap = ev.compute_mAP(total_results, gt_file)\n",
        "        return total_results, m_ap"
      ],
      "id": "802ae103"
    },
    {
      "cell_type": "code",
      "execution_count": null,
      "metadata": {
        "id": "efd007f2"
      },
      "outputs": [],
      "source": [
        "# Example of use\n",
        "index = BoW('../clust/clust_flickr60_k200.fvecs')\n",
        "index.build_db(train_names[0:2], train_desc[0:2])"
      ],
      "id": "efd007f2"
    },
    {
      "cell_type": "code",
      "execution_count": null,
      "metadata": {
        "colab": {
          "base_uri": "https://localhost:8080/"
        },
        "id": "b12b2730",
        "outputId": "d3d92b40-7116-4d3c-c3a9-f703c4f1e4a1"
      },
      "outputs": [
        {
          "name": "stdout",
          "output_type": "stream",
          "text": [
            "['100001.jpg', '100002.jpg']\n"
          ]
        }
      ],
      "source": [
        "res = index.search_image(query_desc[0])\n",
        "print(res)"
      ],
      "id": "b12b2730"
    },
    {
      "cell_type": "code",
      "execution_count": null,
      "metadata": {
        "colab": {
          "base_uri": "https://localhost:8080/"
        },
        "id": "1661e449",
        "outputId": "913da55b-3de2-47cc-ef73-8608be664903"
      },
      "outputs": [
        {
          "name": "stdout",
          "output_type": "stream",
          "text": [
            "{'100000.jpg': ['100001.jpg', '100002.jpg'], '100100.jpg': ['100001.jpg', '100002.jpg'], '100200.jpg': ['100001.jpg', '100002.jpg'], '100300.jpg': ['100001.jpg', '100002.jpg'], '100400.jpg': ['100001.jpg', '100002.jpg'], '100500.jpg': ['100001.jpg', '100002.jpg'], '100600.jpg': ['100001.jpg', '100002.jpg'], '100700.jpg': ['100001.jpg', '100002.jpg'], '100800.jpg': ['100001.jpg', '100002.jpg'], '100900.jpg': ['100001.jpg', '100002.jpg'], '101000.jpg': ['100001.jpg', '100002.jpg'], '101100.jpg': ['100001.jpg', '100002.jpg'], '101200.jpg': ['100001.jpg', '100002.jpg'], '101300.jpg': ['100001.jpg', '100002.jpg'], '101400.jpg': ['100001.jpg', '100002.jpg'], '101500.jpg': ['100001.jpg', '100002.jpg'], '101600.jpg': ['100001.jpg', '100002.jpg'], '101700.jpg': ['100001.jpg', '100002.jpg'], '101800.jpg': ['100001.jpg', '100002.jpg'], '101900.jpg': ['100001.jpg', '100002.jpg'], '102000.jpg': ['100001.jpg', '100002.jpg'], '102100.jpg': ['100001.jpg', '100002.jpg'], '102200.jpg': ['100001.jpg', '100002.jpg'], '102300.jpg': ['100001.jpg', '100002.jpg'], '102400.jpg': ['100001.jpg', '100002.jpg'], '102500.jpg': ['100001.jpg', '100002.jpg'], '102600.jpg': ['100001.jpg', '100002.jpg'], '102700.jpg': ['100001.jpg', '100002.jpg'], '102800.jpg': ['100001.jpg', '100002.jpg'], '102900.jpg': ['100001.jpg', '100002.jpg'], '103000.jpg': ['100001.jpg', '100002.jpg'], '103100.jpg': ['100001.jpg', '100002.jpg'], '103200.jpg': ['100001.jpg', '100002.jpg'], '103300.jpg': ['100001.jpg', '100002.jpg'], '103400.jpg': ['100001.jpg', '100002.jpg'], '103500.jpg': ['100001.jpg', '100002.jpg'], '103600.jpg': ['100001.jpg', '100002.jpg'], '103700.jpg': ['100001.jpg', '100002.jpg'], '103800.jpg': ['100001.jpg', '100002.jpg'], '103900.jpg': ['100001.jpg', '100002.jpg'], '104000.jpg': ['100001.jpg', '100002.jpg'], '104100.jpg': ['100001.jpg', '100002.jpg'], '104200.jpg': ['100001.jpg', '100002.jpg'], '104300.jpg': ['100001.jpg', '100002.jpg'], '104400.jpg': ['100001.jpg', '100002.jpg'], '104500.jpg': ['100001.jpg', '100002.jpg'], '104600.jpg': ['100001.jpg', '100002.jpg'], '104700.jpg': ['100001.jpg', '100002.jpg'], '104800.jpg': ['100001.jpg', '100002.jpg'], '104900.jpg': ['100001.jpg', '100002.jpg'], '105000.jpg': ['100001.jpg', '100002.jpg'], '105100.jpg': ['100001.jpg', '100002.jpg'], '105200.jpg': ['100001.jpg', '100002.jpg'], '105300.jpg': ['100001.jpg', '100002.jpg'], '105400.jpg': ['100001.jpg', '100002.jpg'], '105500.jpg': ['100001.jpg', '100002.jpg'], '105600.jpg': ['100001.jpg', '100002.jpg'], '105700.jpg': ['100001.jpg', '100002.jpg'], '105800.jpg': ['100001.jpg', '100002.jpg'], '105900.jpg': ['100001.jpg', '100002.jpg'], '106000.jpg': ['100001.jpg', '100002.jpg'], '106100.jpg': ['100001.jpg', '100002.jpg'], '106200.jpg': ['100001.jpg', '100002.jpg'], '106300.jpg': ['100001.jpg', '100002.jpg'], '106400.jpg': ['100001.jpg', '100002.jpg'], '106500.jpg': ['100001.jpg', '100002.jpg'], '106600.jpg': ['100001.jpg', '100002.jpg'], '106700.jpg': ['100001.jpg', '100002.jpg'], '106800.jpg': ['100001.jpg', '100002.jpg'], '106900.jpg': ['100001.jpg', '100002.jpg'], '107000.jpg': ['100001.jpg', '100002.jpg'], '107100.jpg': ['100001.jpg', '100002.jpg'], '107200.jpg': ['100001.jpg', '100002.jpg'], '107300.jpg': ['100001.jpg', '100002.jpg'], '107400.jpg': ['100001.jpg', '100002.jpg'], '107500.jpg': ['100001.jpg', '100002.jpg'], '107600.jpg': ['100001.jpg', '100002.jpg'], '107700.jpg': ['100001.jpg', '100002.jpg'], '107800.jpg': ['100001.jpg', '100002.jpg'], '107900.jpg': ['100001.jpg', '100002.jpg'], '108000.jpg': ['100001.jpg', '100002.jpg'], '108100.jpg': ['100001.jpg', '100002.jpg'], '108200.jpg': ['100001.jpg', '100002.jpg'], '108300.jpg': ['100001.jpg', '100002.jpg'], '108400.jpg': ['100001.jpg', '100002.jpg'], '108500.jpg': ['100001.jpg', '100002.jpg'], '108600.jpg': ['100001.jpg', '100002.jpg'], '108700.jpg': ['100001.jpg', '100002.jpg'], '108800.jpg': ['100001.jpg', '100002.jpg'], '108900.jpg': ['100001.jpg', '100002.jpg'], '109000.jpg': ['100001.jpg', '100002.jpg'], '109100.jpg': ['100001.jpg', '100002.jpg'], '109200.jpg': ['100001.jpg', '100002.jpg'], '109300.jpg': ['100001.jpg', '100002.jpg'], '109400.jpg': ['100001.jpg', '100002.jpg'], '109500.jpg': ['100001.jpg', '100002.jpg'], '109600.jpg': ['100001.jpg', '100002.jpg'], '109700.jpg': ['100001.jpg', '100002.jpg'], '109800.jpg': ['100001.jpg', '100002.jpg'], '109900.jpg': ['100001.jpg', '100002.jpg'], '110000.jpg': ['100001.jpg', '100002.jpg'], '110100.jpg': ['100001.jpg', '100002.jpg'], '110200.jpg': ['100001.jpg', '100002.jpg'], '110300.jpg': ['100001.jpg', '100002.jpg'], '110400.jpg': ['100001.jpg', '100002.jpg'], '110500.jpg': ['100001.jpg', '100002.jpg'], '110600.jpg': ['100001.jpg', '100002.jpg'], '110700.jpg': ['100001.jpg', '100002.jpg'], '110800.jpg': ['100001.jpg', '100002.jpg'], '110900.jpg': ['100001.jpg', '100002.jpg'], '111000.jpg': ['100001.jpg', '100002.jpg'], '111100.jpg': ['100001.jpg', '100002.jpg'], '111200.jpg': ['100001.jpg', '100002.jpg'], '111300.jpg': ['100001.jpg', '100002.jpg'], '111400.jpg': ['100001.jpg', '100002.jpg'], '111500.jpg': ['100001.jpg', '100002.jpg'], '111600.jpg': ['100001.jpg', '100002.jpg'], '111700.jpg': ['100001.jpg', '100002.jpg'], '111800.jpg': ['100001.jpg', '100002.jpg'], '111900.jpg': ['100001.jpg', '100002.jpg'], '112000.jpg': ['100001.jpg', '100002.jpg'], '112100.jpg': ['100001.jpg', '100002.jpg'], '112200.jpg': ['100001.jpg', '100002.jpg'], '112300.jpg': ['100001.jpg', '100002.jpg'], '112400.jpg': ['100001.jpg', '100002.jpg'], '112500.jpg': ['100001.jpg', '100002.jpg'], '112600.jpg': ['100001.jpg', '100002.jpg'], '112700.jpg': ['100001.jpg', '100002.jpg'], '112800.jpg': ['100001.jpg', '100002.jpg'], '112900.jpg': ['100001.jpg', '100002.jpg'], '113000.jpg': ['100001.jpg', '100002.jpg'], '113100.jpg': ['100001.jpg', '100002.jpg'], '113200.jpg': ['100001.jpg', '100002.jpg'], '113300.jpg': ['100001.jpg', '100002.jpg'], '113400.jpg': ['100001.jpg', '100002.jpg'], '113500.jpg': ['100001.jpg', '100002.jpg'], '113600.jpg': ['100001.jpg', '100002.jpg'], '113700.jpg': ['100001.jpg', '100002.jpg'], '113800.jpg': ['100001.jpg', '100002.jpg'], '113900.jpg': ['100001.jpg', '100002.jpg'], '114000.jpg': ['100001.jpg', '100002.jpg'], '114100.jpg': ['100001.jpg', '100002.jpg'], '114200.jpg': ['100001.jpg', '100002.jpg'], '114300.jpg': ['100001.jpg', '100002.jpg'], '114400.jpg': ['100001.jpg', '100002.jpg'], '114500.jpg': ['100001.jpg', '100002.jpg'], '114600.jpg': ['100001.jpg', '100002.jpg'], '114700.jpg': ['100001.jpg', '100002.jpg'], '114800.jpg': ['100001.jpg', '100002.jpg'], '114900.jpg': ['100001.jpg', '100002.jpg'], '115000.jpg': ['100001.jpg', '100002.jpg'], '115100.jpg': ['100001.jpg', '100002.jpg'], '115200.jpg': ['100001.jpg', '100002.jpg'], '115300.jpg': ['100001.jpg', '100002.jpg'], '115400.jpg': ['100001.jpg', '100002.jpg'], '115500.jpg': ['100001.jpg', '100002.jpg'], '115600.jpg': ['100001.jpg', '100002.jpg'], '115700.jpg': ['100001.jpg', '100002.jpg'], '115800.jpg': ['100001.jpg', '100002.jpg'], '115900.jpg': ['100001.jpg', '100002.jpg'], '116000.jpg': ['100001.jpg', '100002.jpg'], '116100.jpg': ['100001.jpg', '100002.jpg'], '116200.jpg': ['100001.jpg', '100002.jpg'], '116300.jpg': ['100001.jpg', '100002.jpg'], '116400.jpg': ['100001.jpg', '100002.jpg'], '116500.jpg': ['100001.jpg', '100002.jpg'], '116600.jpg': ['100001.jpg', '100002.jpg'], '116700.jpg': ['100001.jpg', '100002.jpg'], '116800.jpg': ['100001.jpg', '100002.jpg'], '116900.jpg': ['100001.jpg', '100002.jpg'], '117000.jpg': ['100001.jpg', '100002.jpg'], '117100.jpg': ['100001.jpg', '100002.jpg'], '117200.jpg': ['100001.jpg', '100002.jpg'], '117300.jpg': ['100001.jpg', '100002.jpg'], '117400.jpg': ['100001.jpg', '100002.jpg'], '117500.jpg': ['100001.jpg', '100002.jpg'], '117600.jpg': ['100001.jpg', '100002.jpg'], '117700.jpg': ['100001.jpg', '100002.jpg'], '117800.jpg': ['100001.jpg', '100002.jpg'], '117900.jpg': ['100001.jpg', '100002.jpg'], '118000.jpg': ['100001.jpg', '100002.jpg'], '118100.jpg': ['100001.jpg', '100002.jpg'], '118200.jpg': ['100001.jpg', '100002.jpg'], '118300.jpg': ['100001.jpg', '100002.jpg'], '118400.jpg': ['100001.jpg', '100002.jpg'], '118500.jpg': ['100001.jpg', '100002.jpg'], '118600.jpg': ['100001.jpg', '100002.jpg'], '118700.jpg': ['100001.jpg', '100002.jpg'], '118800.jpg': ['100001.jpg', '100002.jpg'], '118900.jpg': ['100001.jpg', '100002.jpg'], '119000.jpg': ['100001.jpg', '100002.jpg'], '119100.jpg': ['100001.jpg', '100002.jpg'], '119200.jpg': ['100001.jpg', '100002.jpg'], '119300.jpg': ['100001.jpg', '100002.jpg'], '119400.jpg': ['100001.jpg', '100002.jpg'], '119500.jpg': ['100001.jpg', '100002.jpg'], '119600.jpg': ['100001.jpg', '100002.jpg'], '119700.jpg': ['100001.jpg', '100002.jpg'], '119800.jpg': ['100001.jpg', '100002.jpg'], '119900.jpg': ['100001.jpg', '100002.jpg'], '120000.jpg': ['100001.jpg', '100002.jpg'], '120100.jpg': ['100001.jpg', '100002.jpg'], '120200.jpg': ['100001.jpg', '100002.jpg'], '120300.jpg': ['100001.jpg', '100002.jpg'], '120400.jpg': ['100001.jpg', '100002.jpg'], '120500.jpg': ['100001.jpg', '100002.jpg'], '120600.jpg': ['100001.jpg', '100002.jpg'], '120700.jpg': ['100001.jpg', '100002.jpg'], '120800.jpg': ['100001.jpg', '100002.jpg'], '120900.jpg': ['100001.jpg', '100002.jpg'], '121000.jpg': ['100001.jpg', '100002.jpg'], '121100.jpg': ['100001.jpg', '100002.jpg'], '121200.jpg': ['100001.jpg', '100002.jpg'], '121300.jpg': ['100001.jpg', '100002.jpg'], '121400.jpg': ['100001.jpg', '100002.jpg'], '121500.jpg': ['100001.jpg', '100002.jpg'], '121600.jpg': ['100001.jpg', '100002.jpg'], '121700.jpg': ['100001.jpg', '100002.jpg'], '121800.jpg': ['100001.jpg', '100002.jpg'], '121900.jpg': ['100001.jpg', '100002.jpg'], '122000.jpg': ['100001.jpg', '100002.jpg'], '122100.jpg': ['100001.jpg', '100002.jpg'], '122200.jpg': ['100001.jpg', '100002.jpg'], '122300.jpg': ['100001.jpg', '100002.jpg'], '122400.jpg': ['100001.jpg', '100002.jpg'], '122500.jpg': ['100001.jpg', '100002.jpg'], '122600.jpg': ['100001.jpg', '100002.jpg'], '122700.jpg': ['100001.jpg', '100002.jpg'], '122800.jpg': ['100001.jpg', '100002.jpg'], '122900.jpg': ['100001.jpg', '100002.jpg'], '123000.jpg': ['100001.jpg', '100002.jpg'], '123100.jpg': ['100001.jpg', '100002.jpg'], '123200.jpg': ['100001.jpg', '100002.jpg'], '123300.jpg': ['100001.jpg', '100002.jpg'], '123400.jpg': ['100001.jpg', '100002.jpg'], '123500.jpg': ['100001.jpg', '100002.jpg'], '123600.jpg': ['100001.jpg', '100002.jpg'], '123700.jpg': ['100001.jpg', '100002.jpg'], '123800.jpg': ['100001.jpg', '100002.jpg'], '123900.jpg': ['100001.jpg', '100002.jpg'], '124000.jpg': ['100001.jpg', '100002.jpg'], '124100.jpg': ['100001.jpg', '100002.jpg'], '124200.jpg': ['100001.jpg', '100002.jpg'], '124300.jpg': ['100001.jpg', '100002.jpg'], '124400.jpg': ['100001.jpg', '100002.jpg'], '124500.jpg': ['100001.jpg', '100002.jpg'], '124600.jpg': ['100001.jpg', '100002.jpg'], '124700.jpg': ['100001.jpg', '100002.jpg'], '124800.jpg': ['100001.jpg', '100002.jpg'], '124900.jpg': ['100001.jpg', '100002.jpg'], '125000.jpg': ['100001.jpg', '100002.jpg'], '125100.jpg': ['100001.jpg', '100002.jpg'], '125200.jpg': ['100001.jpg', '100002.jpg'], '125300.jpg': ['100001.jpg', '100002.jpg'], '125400.jpg': ['100001.jpg', '100002.jpg'], '125500.jpg': ['100001.jpg', '100002.jpg'], '125600.jpg': ['100001.jpg', '100002.jpg'], '125700.jpg': ['100001.jpg', '100002.jpg'], '125800.jpg': [], '125900.jpg': ['100001.jpg', '100002.jpg'], '126000.jpg': ['100001.jpg', '100002.jpg'], '126100.jpg': ['100001.jpg', '100002.jpg'], '126200.jpg': ['100001.jpg', '100002.jpg'], '126300.jpg': ['100001.jpg', '100002.jpg'], '126400.jpg': ['100001.jpg', '100002.jpg'], '126500.jpg': ['100001.jpg', '100002.jpg'], '126600.jpg': ['100001.jpg', '100002.jpg'], '126700.jpg': ['100001.jpg', '100002.jpg'], '126800.jpg': ['100001.jpg', '100002.jpg'], '126900.jpg': ['100001.jpg', '100002.jpg'], '127000.jpg': ['100001.jpg', '100002.jpg'], '127100.jpg': ['100001.jpg', '100002.jpg'], '127200.jpg': ['100001.jpg', '100002.jpg'], '127300.jpg': ['100001.jpg', '100002.jpg'], '127400.jpg': ['100001.jpg', '100002.jpg'], '127500.jpg': ['100001.jpg', '100002.jpg'], '127600.jpg': ['100001.jpg', '100002.jpg'], '127700.jpg': ['100001.jpg', '100002.jpg'], '127800.jpg': ['100001.jpg', '100002.jpg'], '127900.jpg': ['100001.jpg', '100002.jpg'], '128000.jpg': ['100001.jpg', '100002.jpg'], '128100.jpg': ['100001.jpg', '100002.jpg'], '128200.jpg': ['100001.jpg', '100002.jpg'], '128300.jpg': ['100001.jpg', '100002.jpg'], '128400.jpg': ['100001.jpg', '100002.jpg'], '128500.jpg': ['100001.jpg', '100002.jpg'], '128600.jpg': ['100001.jpg', '100002.jpg'], '128700.jpg': ['100001.jpg', '100002.jpg'], '128800.jpg': ['100001.jpg', '100002.jpg'], '128900.jpg': ['100001.jpg', '100002.jpg'], '129000.jpg': ['100001.jpg', '100002.jpg'], '129100.jpg': ['100001.jpg', '100002.jpg'], '129200.jpg': ['100001.jpg', '100002.jpg'], '129300.jpg': ['100001.jpg', '100002.jpg'], '129400.jpg': ['100001.jpg', '100002.jpg'], '129500.jpg': ['100001.jpg', '100002.jpg'], '129600.jpg': ['100001.jpg', '100002.jpg'], '129700.jpg': ['100001.jpg', '100002.jpg'], '129800.jpg': ['100001.jpg', '100002.jpg'], '129900.jpg': ['100001.jpg', '100002.jpg'], '130000.jpg': ['100001.jpg', '100002.jpg'], '130100.jpg': ['100001.jpg', '100002.jpg'], '130200.jpg': ['100001.jpg', '100002.jpg'], '130300.jpg': ['100001.jpg', '100002.jpg'], '130400.jpg': ['100001.jpg', '100002.jpg'], '130500.jpg': ['100001.jpg', '100002.jpg'], '130600.jpg': ['100001.jpg', '100002.jpg'], '130700.jpg': ['100001.jpg', '100002.jpg'], '130800.jpg': ['100001.jpg', '100002.jpg'], '130900.jpg': ['100001.jpg', '100002.jpg'], '131000.jpg': ['100001.jpg', '100002.jpg'], '131100.jpg': ['100001.jpg', '100002.jpg'], '131200.jpg': ['100001.jpg', '100002.jpg'], '131300.jpg': ['100001.jpg', '100002.jpg'], '131400.jpg': ['100001.jpg', '100002.jpg'], '131500.jpg': ['100001.jpg', '100002.jpg'], '131600.jpg': ['100001.jpg', '100002.jpg'], '131700.jpg': ['100001.jpg', '100002.jpg'], '131800.jpg': ['100001.jpg', '100002.jpg'], '131900.jpg': ['100001.jpg', '100002.jpg'], '132000.jpg': ['100001.jpg', '100002.jpg'], '132100.jpg': ['100001.jpg', '100002.jpg'], '132200.jpg': ['100001.jpg', '100002.jpg'], '132300.jpg': ['100001.jpg', '100002.jpg'], '132400.jpg': ['100001.jpg', '100002.jpg'], '132500.jpg': ['100001.jpg', '100002.jpg'], '132600.jpg': ['100001.jpg', '100002.jpg'], '132700.jpg': ['100001.jpg', '100002.jpg'], '132800.jpg': ['100001.jpg', '100002.jpg'], '132900.jpg': ['100001.jpg', '100002.jpg'], '133000.jpg': ['100001.jpg', '100002.jpg'], '133100.jpg': ['100001.jpg', '100002.jpg'], '133200.jpg': ['100001.jpg', '100002.jpg'], '133300.jpg': ['100001.jpg', '100002.jpg'], '133400.jpg': ['100001.jpg', '100002.jpg'], '133500.jpg': ['100001.jpg', '100002.jpg'], '133600.jpg': ['100001.jpg', '100002.jpg'], '133700.jpg': ['100001.jpg', '100002.jpg'], '133800.jpg': ['100001.jpg', '100002.jpg'], '133900.jpg': ['100001.jpg', '100002.jpg'], '134000.jpg': ['100001.jpg', '100002.jpg'], '134100.jpg': ['100001.jpg', '100002.jpg'], '134200.jpg': ['100001.jpg', '100002.jpg'], '134300.jpg': ['100001.jpg', '100002.jpg'], '134400.jpg': ['100001.jpg', '100002.jpg'], '134500.jpg': ['100001.jpg', '100002.jpg'], '134600.jpg': ['100001.jpg', '100002.jpg'], '134700.jpg': ['100001.jpg', '100002.jpg'], '134800.jpg': ['100001.jpg', '100002.jpg'], '134900.jpg': ['100001.jpg', '100002.jpg'], '135000.jpg': ['100001.jpg', '100002.jpg'], '135100.jpg': ['100001.jpg', '100002.jpg'], '135200.jpg': ['100001.jpg', '100002.jpg'], '135300.jpg': ['100001.jpg', '100002.jpg'], '135400.jpg': ['100001.jpg', '100002.jpg'], '135500.jpg': ['100001.jpg', '100002.jpg'], '135600.jpg': ['100001.jpg', '100002.jpg'], '135700.jpg': ['100001.jpg', '100002.jpg'], '135800.jpg': ['100001.jpg', '100002.jpg'], '135900.jpg': ['100001.jpg', '100002.jpg'], '136000.jpg': ['100001.jpg', '100002.jpg'], '136100.jpg': ['100001.jpg', '100002.jpg'], '136200.jpg': ['100001.jpg', '100002.jpg'], '136300.jpg': ['100001.jpg', '100002.jpg'], '136400.jpg': ['100001.jpg', '100002.jpg'], '136500.jpg': ['100001.jpg', '100002.jpg'], '136600.jpg': ['100001.jpg', '100002.jpg'], '136700.jpg': ['100001.jpg', '100002.jpg'], '136800.jpg': ['100001.jpg', '100002.jpg'], '136900.jpg': ['100001.jpg', '100002.jpg'], '137000.jpg': ['100001.jpg', '100002.jpg'], '137100.jpg': ['100001.jpg', '100002.jpg'], '137200.jpg': ['100001.jpg', '100002.jpg'], '137300.jpg': ['100001.jpg', '100002.jpg'], '137400.jpg': ['100001.jpg', '100002.jpg'], '137500.jpg': ['100001.jpg', '100002.jpg'], '137600.jpg': ['100001.jpg', '100002.jpg'], '137700.jpg': ['100001.jpg', '100002.jpg'], '137800.jpg': ['100001.jpg', '100002.jpg'], '137900.jpg': ['100001.jpg', '100002.jpg'], '138000.jpg': ['100001.jpg', '100002.jpg'], '138100.jpg': ['100001.jpg', '100002.jpg'], '138200.jpg': ['100001.jpg', '100002.jpg'], '138300.jpg': ['100001.jpg', '100002.jpg'], '138400.jpg': ['100001.jpg', '100002.jpg'], '138500.jpg': ['100001.jpg', '100002.jpg'], '138600.jpg': ['100001.jpg', '100002.jpg'], '138700.jpg': ['100001.jpg', '100002.jpg'], '138800.jpg': ['100001.jpg', '100002.jpg'], '138900.jpg': ['100001.jpg', '100002.jpg'], '139000.jpg': ['100001.jpg', '100002.jpg'], '139100.jpg': ['100001.jpg', '100002.jpg'], '139200.jpg': ['100001.jpg', '100002.jpg'], '139300.jpg': ['100001.jpg', '100002.jpg'], '139400.jpg': ['100001.jpg', '100002.jpg'], '139500.jpg': ['100001.jpg', '100002.jpg'], '139600.jpg': ['100001.jpg', '100002.jpg'], '139700.jpg': ['100001.jpg', '100002.jpg'], '139800.jpg': ['100001.jpg', '100002.jpg'], '139900.jpg': ['100001.jpg', '100002.jpg'], '140000.jpg': ['100001.jpg', '100002.jpg'], '140100.jpg': ['100001.jpg', '100002.jpg'], '140200.jpg': ['100001.jpg', '100002.jpg'], '140300.jpg': ['100001.jpg', '100002.jpg'], '140400.jpg': ['100001.jpg', '100002.jpg'], '140500.jpg': ['100001.jpg', '100002.jpg'], '140600.jpg': ['100001.jpg', '100002.jpg'], '140700.jpg': ['100001.jpg', '100002.jpg'], '140800.jpg': ['100001.jpg', '100002.jpg'], '140900.jpg': ['100001.jpg', '100002.jpg'], '141000.jpg': ['100001.jpg', '100002.jpg'], '141100.jpg': ['100001.jpg', '100002.jpg'], '141200.jpg': ['100001.jpg', '100002.jpg'], '141300.jpg': ['100001.jpg', '100002.jpg'], '141400.jpg': ['100001.jpg', '100002.jpg'], '141500.jpg': ['100001.jpg', '100002.jpg'], '141600.jpg': ['100001.jpg', '100002.jpg'], '141700.jpg': ['100001.jpg', '100002.jpg'], '141800.jpg': ['100001.jpg', '100002.jpg'], '141900.jpg': ['100001.jpg', '100002.jpg'], '142000.jpg': ['100001.jpg', '100002.jpg'], '142100.jpg': ['100001.jpg', '100002.jpg'], '142200.jpg': ['100001.jpg', '100002.jpg'], '142300.jpg': ['100001.jpg', '100002.jpg'], '142400.jpg': ['100001.jpg', '100002.jpg'], '142500.jpg': ['100001.jpg', '100002.jpg'], '142600.jpg': ['100001.jpg', '100002.jpg'], '142700.jpg': ['100001.jpg', '100002.jpg'], '142800.jpg': ['100001.jpg', '100002.jpg'], '142900.jpg': ['100001.jpg', '100002.jpg'], '143000.jpg': ['100001.jpg', '100002.jpg'], '143100.jpg': ['100001.jpg', '100002.jpg'], '143200.jpg': ['100001.jpg', '100002.jpg'], '143300.jpg': ['100001.jpg', '100002.jpg'], '143400.jpg': ['100001.jpg', '100002.jpg'], '143500.jpg': ['100001.jpg', '100002.jpg'], '143600.jpg': ['100001.jpg', '100002.jpg'], '143700.jpg': ['100001.jpg', '100002.jpg'], '143800.jpg': ['100001.jpg', '100002.jpg'], '143900.jpg': ['100001.jpg', '100002.jpg'], '144000.jpg': ['100001.jpg', '100002.jpg'], '144100.jpg': ['100001.jpg', '100002.jpg'], '144200.jpg': ['100001.jpg', '100002.jpg'], '144300.jpg': ['100001.jpg', '100002.jpg'], '144400.jpg': ['100001.jpg', '100002.jpg'], '144500.jpg': ['100001.jpg', '100002.jpg'], '144600.jpg': ['100001.jpg', '100002.jpg'], '144700.jpg': ['100001.jpg', '100002.jpg'], '144800.jpg': ['100001.jpg', '100002.jpg'], '144900.jpg': ['100001.jpg', '100002.jpg'], '145000.jpg': ['100001.jpg', '100002.jpg'], '145100.jpg': ['100001.jpg', '100002.jpg'], '145200.jpg': ['100001.jpg', '100002.jpg'], '145300.jpg': ['100001.jpg', '100002.jpg'], '145400.jpg': ['100001.jpg', '100002.jpg'], '145500.jpg': ['100001.jpg', '100002.jpg'], '145600.jpg': ['100001.jpg', '100002.jpg'], '145700.jpg': ['100001.jpg', '100002.jpg'], '145800.jpg': ['100001.jpg', '100002.jpg'], '145900.jpg': ['100001.jpg', '100002.jpg'], '146000.jpg': ['100001.jpg', '100002.jpg'], '146100.jpg': ['100001.jpg', '100002.jpg'], '146200.jpg': ['100001.jpg', '100002.jpg'], '146300.jpg': ['100001.jpg', '100002.jpg'], '146400.jpg': ['100001.jpg', '100002.jpg'], '146500.jpg': ['100001.jpg', '100002.jpg'], '146600.jpg': ['100001.jpg', '100002.jpg'], '146700.jpg': ['100001.jpg', '100002.jpg'], '146800.jpg': ['100001.jpg', '100002.jpg'], '146900.jpg': ['100001.jpg', '100002.jpg'], '147000.jpg': ['100001.jpg', '100002.jpg'], '147100.jpg': ['100001.jpg', '100002.jpg'], '147200.jpg': ['100001.jpg', '100002.jpg'], '147300.jpg': ['100001.jpg', '100002.jpg'], '147400.jpg': ['100001.jpg', '100002.jpg'], '147500.jpg': ['100001.jpg', '100002.jpg'], '147600.jpg': ['100001.jpg', '100002.jpg'], '147700.jpg': ['100001.jpg', '100002.jpg'], '147800.jpg': ['100001.jpg', '100002.jpg'], '147900.jpg': ['100001.jpg', '100002.jpg'], '148000.jpg': ['100001.jpg', '100002.jpg'], '148100.jpg': ['100001.jpg', '100002.jpg'], '148200.jpg': ['100001.jpg', '100002.jpg'], '148300.jpg': ['100001.jpg', '100002.jpg'], '148400.jpg': ['100001.jpg', '100002.jpg'], '148500.jpg': ['100001.jpg', '100002.jpg'], '148600.jpg': ['100001.jpg', '100002.jpg'], '148700.jpg': ['100001.jpg', '100002.jpg'], '148800.jpg': ['100001.jpg', '100002.jpg'], '148900.jpg': ['100001.jpg', '100002.jpg'], '149000.jpg': ['100001.jpg', '100002.jpg'], '149100.jpg': ['100001.jpg', '100002.jpg'], '149200.jpg': ['100001.jpg', '100002.jpg'], '149300.jpg': ['100001.jpg', '100002.jpg'], '149400.jpg': ['100001.jpg', '100002.jpg'], '149500.jpg': ['100001.jpg', '100002.jpg'], '149600.jpg': ['100001.jpg', '100002.jpg'], '149700.jpg': ['100001.jpg', '100002.jpg'], '149800.jpg': ['100001.jpg', '100002.jpg'], '149900.jpg': ['100001.jpg', '100002.jpg']}\n",
            "0.002\n"
          ]
        }
      ],
      "source": [
        "results, mAP = index.compute_mAP(query_names, query_desc, '../holidays/holidays_images.dat')\n",
        "print(results)\n",
        "print(mAP)"
      ],
      "id": "1661e449"
    },
    {
      "cell_type": "markdown",
      "metadata": {
        "id": "a5046a9c"
      },
      "source": [
        "**Q8**: In the following cell compute the resulting mAP of the system **using the vocabularies of 200, 2K, 20K and 200K visual words**:"
      ],
      "id": "a5046a9c"
    },
    {
      "cell_type": "code",
      "execution_count": 26,
      "metadata": {
        "colab": {
          "base_uri": "https://localhost:8080/"
        },
        "id": "c8901aab",
        "outputId": "7effba93-04a7-469e-dbff-76273c43bbbe"
      },
      "outputs": [
        {
          "output_type": "stream",
          "name": "stdout",
          "text": [
            "train_time_200 %s seconds:  11.292835712432861\n",
            "train_time_2K %s seconds:  13.842697858810425\n",
            "train_time_20K %s seconds:  27.849180221557617\n",
            "train_time_200K %s seconds:  105.3392424583435\n"
          ]
        }
      ],
      "source": [
        "import time\n",
        "\n",
        "mAP_200  = 0.0\n",
        "mAP_2K   = 0.0\n",
        "mAP_20K  = 0.0\n",
        "mAP_200K = 0.0\n",
        "\n",
        "start_time = time.time()\n",
        "index_200 = BoW('clust/clust_flickr60_k200.fvecs')\n",
        "index_200.build_db(train_names, train_desc)\n",
        "train_time_200 = time.time() - start_time\n",
        "print(\"train_time_200 %s seconds: \", train_time_200)\n",
        "results_200, mAP_200 = index_200.compute_mAP(query_names, query_desc, '../holidays/holidays_images.dat')\n",
        "\n",
        "start_time = time.time()\n",
        "index_2K = BoW('clust/clust_flickr60_k2000.fvecs')\n",
        "index_2K.build_db(train_names, train_desc)\n",
        "train_time_2K = time.time() - start_time\n",
        "print(\"train_time_2K %s seconds: \", train_time_2K)\n",
        "results_2K, mAP_2K = index_2K.compute_mAP(query_names, query_desc, '../holidays/holidays_images.dat')\n",
        "\n",
        "start_time = time.time()\n",
        "index_20K = BoW('clust/clust_flickr60_k20000.fvecs')\n",
        "index_20K.build_db(train_names, train_desc)\n",
        "train_time_20K = time.time() - start_time\n",
        "print(\"train_time_20K %s seconds: \", train_time_20K)\n",
        "results_20K, mAP_20K = index_20K.compute_mAP(query_names, query_desc, '../holidays/holidays_images.dat')\n",
        "\n",
        "start_time = time.time()\n",
        "index_200K = BoW('clust/clust_flickr60_k200000.fvecs')\n",
        "index_200K.build_db(train_names, train_desc)\n",
        "train_time_200K = time.time() - start_time\n",
        "print(\"train_time_200K %s seconds: \", train_time_200K)\n",
        "results_200K, mAP_200K = index_200K.compute_mAP(query_names, query_desc, '../holidays/holidays_images.dat')"
      ],
      "id": "c8901aab"
    },
    {
      "cell_type": "code",
      "execution_count": null,
      "metadata": {
        "colab": {
          "base_uri": "https://localhost:8080/"
        },
        "id": "9c1ed565",
        "outputId": "2b767238-309d-43a9-a95a-d04522fa5f48"
      },
      "outputs": [
        {
          "name": "stdout",
          "output_type": "stream",
          "text": [
            "mAP 200: 0.05825\n",
            "mAP 2K: 0.15388\n",
            "mAP 20K: 0.31004\n",
            "mAP 200K: 0.46842\n"
          ]
        }
      ],
      "source": [
        "print('mAP 200: %.5f' % mAP_200)\n",
        "print('mAP 2K: %.5f' % mAP_2K)\n",
        "print('mAP 20K: %.5f' % mAP_20K)\n",
        "print('mAP 200K: %.5f' % mAP_200K)"
      ],
      "id": "9c1ed565"
    },
    {
      "cell_type": "markdown",
      "metadata": {
        "id": "5e818e7c"
      },
      "source": [
        "**Q9**: Compare the performances obtained on each case. Is a larger vocabulary size always better? Why or why not?"
      ],
      "id": "5e818e7c"
    },
    {
      "cell_type": "code",
      "execution_count": 27,
      "metadata": {
        "id": "sCQrFf_uIIrY"
      },
      "outputs": [],
      "source": [
        "mAP_bow = [mAP_200, mAP_2K, mAP_20K, mAP_200K]\n",
        "labels_bow = [\"mAP_200\", \"mAP_2K\", \"mAP_20K\", \"mAP_200K\"]"
      ],
      "id": "sCQrFf_uIIrY"
    },
    {
      "cell_type": "code",
      "execution_count": null,
      "metadata": {
        "colab": {
          "base_uri": "https://localhost:8080/",
          "height": 472
        },
        "id": "xAr6yHNSILQW",
        "outputId": "fe20e29a-50f8-4b67-d67c-7f3af4aa2a20"
      },
      "outputs": [
        {
          "data": {
            "image/png": "[encoded data removed]",
            "text/plain": [
              "<Figure size 640x480 with 1 Axes>"
            ]
          },
          "metadata": {},
          "output_type": "display_data"
        }
      ],
      "source": [
        "plot_chart(mAP_bow, labels_bow, \"mAP for bow\", \"different vocabs\", \"mAP\")"
      ],
      "id": "xAr6yHNSILQW"
    },
    {
      "cell_type": "markdown",
      "metadata": {
        "id": "f6015870"
      },
      "source": [
        "Write here the code required to answer the questions stated above. You can add more cells (code / markdown) at this point if you need it."
      ],
      "id": "f6015870"
    },
    {
      "cell_type": "markdown",
      "metadata": {
        "id": "7b582757"
      },
      "source": [
        "**Q10**: Analyze the effect of the vocabulary size in terms of mAP and average response time (train and query times). Are these times constant for each vocabulary? Some plots here can be useful to justify your answer."
      ],
      "id": "7b582757"
    },
    {
      "cell_type": "markdown",
      "metadata": {
        "id": "r4u3f0BPLFCc"
      },
      "source": [
        "Analysis:\n",
        "- As the vocab increases the train time increases\n",
        "- For Avg Query Times increasing the vocabulary size has a mixed effect on query times. While some queries are faster with the increased vocabulary (0.0476s and 0.0501s), others are slower (0.0704s and 0.0983s). This suggests that the impact of vocabulary size on query time may depend on the specific input data and query being used."
      ],
      "id": "r4u3f0BPLFCc"
    },
    {
      "cell_type": "code",
      "execution_count": 28,
      "metadata": {
        "colab": {
          "base_uri": "https://localhost:8080/"
        },
        "id": "zfjZxcQOIYA7",
        "outputId": "5c81f4f4-c62a-4020-a68e-a26cc986b042"
      },
      "outputs": [
        {
          "output_type": "stream",
          "name": "stdout",
          "text": [
            "avg_time_200: 0.052 seconds\n",
            "avg_time_2K: 0.069 seconds\n",
            "avg_time_20K: 0.051 seconds\n",
            "avg_time_200K: 0.100 seconds\n"
          ]
        }
      ],
      "source": [
        "# Initialize a variable to store the total time taken\n",
        "total_time_200 = 0\n",
        "total_time_2K = 0\n",
        "total_time_20K = 0\n",
        "total_time_200K = 0\n",
        "# Define the number of queries to run\n",
        "num_queries = 10\n",
        "\n",
        "# Loop through the queries\n",
        "for i in range(num_queries):\n",
        "    # Time how long the search takes\n",
        "    start_time_200 = time.time()\n",
        "    results_200 = index_200.search_image(query_desc[i])\n",
        "    end_time_200 = time.time()\n",
        "\n",
        "    start_time_2K = time.time()\n",
        "    results_2K = index_2K.search_image(query_desc[i])\n",
        "    end_time_2K = time.time()\n",
        "\n",
        "    start_time_20K = time.time()\n",
        "    results_20K = index_20K.search_image(query_desc[i])\n",
        "    end_time_20K = time.time()\n",
        "\n",
        "    start_time_200K = time.time()\n",
        "    results_200K = index_200K.search_image(query_desc[i])\n",
        "    end_time_200K = time.time()\n",
        "\n",
        "    # Add the time taken to the total\n",
        "    total_time_200 += (end_time_200 - start_time_200)\n",
        "    total_time_2K += (end_time_2K - start_time_2K)\n",
        "    total_time_20K += (end_time_20K - start_time_20K)\n",
        "    total_time_200K += (end_time_200K - start_time_200K)\n",
        "\n",
        "# Compute the average time taken\n",
        "avg_time_200 = total_time_200 / num_queries\n",
        "avg_time_2K = total_time_2K / num_queries\n",
        "avg_time_20K = total_time_20K / num_queries\n",
        "avg_time_200K = total_time_200K / num_queries\n",
        "\n",
        "print(\"avg_time_200: {:.3f} seconds\".format(avg_time_200))\n",
        "print(\"avg_time_2K: {:.3f} seconds\".format(avg_time_2K))\n",
        "print(\"avg_time_20K: {:.3f} seconds\".format(avg_time_20K))\n",
        "print(\"avg_time_200K: {:.3f} seconds\".format(avg_time_200K))"
      ],
      "id": "zfjZxcQOIYA7"
    },
    {
      "cell_type": "markdown",
      "metadata": {
        "id": "_nUTp79XK-Be"
      },
      "source": [
        "Train times:\n",
        "As the vocab increases the train time increases"
      ],
      "id": "_nUTp79XK-Be"
    },
    {
      "cell_type": "code",
      "execution_count": 31,
      "metadata": {
        "colab": {
          "base_uri": "https://localhost:8080/",
          "height": 472
        },
        "id": "maC2SiquIa60",
        "outputId": "a356a452-4372-44fc-f6cf-3ed2e08eaad7"
      },
      "outputs": [
        {
          "output_type": "display_data",
          "data": {
            "text/plain": [
              "<Figure size 640x480 with 1 Axes>"
            ],
            "image/png": "[encoded data removed]"
          },
          "metadata": {}
        }
      ],
      "source": [
        "training_time_bow = [train_time_200, train_time_2K, train_time_20K, train_time_200K]\n",
        "plot_chart(training_time_bow, labels_bow, \"Train times for bow\", \"different vocabs\", \"train times\")"
      ],
      "id": "maC2SiquIa60"
    },
    {
      "cell_type": "markdown",
      "metadata": {
        "id": "KuvITD2jKgDv"
      },
      "source": [
        "Avg Query Times:\n",
        "The results show that increasing the vocabulary size has a mixed effect on query times. While some queries are faster with the increased vocabulary (0.0476s and 0.0501s), others are slower (0.0704s and 0.0983s). This suggests that the impact of vocabulary size on query time may depend on the specific input data and query being used."
      ],
      "id": "KuvITD2jKgDv"
    },
    {
      "cell_type": "code",
      "execution_count": 32,
      "metadata": {
        "colab": {
          "base_uri": "https://localhost:8080/",
          "height": 472
        },
        "id": "85wOMjlzIdf-",
        "outputId": "6ab5ad3f-b0e5-43b4-e026-6b0a38a9f219"
      },
      "outputs": [
        {
          "output_type": "display_data",
          "data": {
            "text/plain": [
              "<Figure size 640x480 with 1 Axes>"
            ],
            "image/png": "[encoded data removed]"
          },
          "metadata": {}
        }
      ],
      "source": [
        "avg_query_times_bow = [avg_time_200, avg_time_2K, avg_time_20K, avg_time_200K]\n",
        "plot_chart(avg_query_times_bow, labels_bow, \"Average query time for bow\", \"different vocabs\", \"query times\")"
      ],
      "id": "85wOMjlzIdf-"
    },
    {
      "cell_type": "markdown",
      "metadata": {
        "id": "a7695e01"
      },
      "source": [
        "Write here the code required to answer the questions stated above. You can add more cells (code / markdown) at this point if you need it."
      ],
      "id": "a7695e01"
    },
    {
      "cell_type": "markdown",
      "metadata": {
        "id": "b98f5416"
      },
      "source": [
        "**Q11**: Do the results obtained depend on the set of images used to generate the vocabulary? How can we improve the retrieval performance?"
      ],
      "id": "b98f5416"
    },
    {
      "cell_type": "markdown",
      "metadata": {
        "id": "DAk15zKwJ9wq"
      },
      "source": [
        "Yes, the results obtained with bag-of-words (BoW) depend on the set of images used to generate the vocabulary. \n",
        "\n",
        "To improve the retrieval performance with BoW, there are several strategies that can be employed:\n",
        "\n",
        "1) Increase the size of the vocabulary: Using a larger vocabulary with more visual words can increase the discriminative power of the representation, allowing for more accurate retrieval results. \n",
        "\n",
        "2) Use a more diverse set of images to generate the vocabulary: Using a larger and more diverse set of training images can improve the quality of the visual vocabulary, allowing for better representation of the visual features in the query images.\n",
        "\n",
        "3) Use more advanced techniques, such as deep learning-based methods, to improve the representation of the images and capture more complex visual relationships. These techniques can further improve the retrieval performance beyond what can be achieved with traditional BoW methods."
      ],
      "id": "DAk15zKwJ9wq"
    },
    {
      "cell_type": "markdown",
      "metadata": {
        "id": "28efbead"
      },
      "source": [
        "### TF-IDF\n",
        "As a final task of this assignment, let's implement the TF-IDF scoring scheme. Modify the `BoW` class you wrote before to include the TF-IDF weighting scheme:"
      ],
      "id": "28efbead"
    },
    {
      "cell_type": "code",
      "execution_count": 10,
      "metadata": {
        "id": "593cafcc"
      },
      "outputs": [],
      "source": [
        "class BoW_TFIDF:\n",
        "    \"\"\"\n",
        "    Class to implement the BoW model + Inverted File.\n",
        "    \"\"\"\n",
        "  \n",
        "    def __init__(self, vocab_file):\n",
        "        \"\"\"\n",
        "        Class constructor. It loads the vocabulary and initializes other stuff\n",
        "        required for the CBIR system, such as the inverted file structure.\n",
        "        \"\"\"\n",
        "        self.vocab = rd.load_visual_vocab(vocab_file)\n",
        "        self.nwords = self.vocab.getTrainDescriptors()[0].shape[0]\n",
        "        self.train_names = []\n",
        "        self.inv_list = {word_id: {} for word_id in range(self.nwords)}\n",
        "        self.tfidf = {}\n",
        "\n",
        "    def build_db(self, img_names, img_descs):\n",
        "      \"\"\"\n",
        "      Build an index from a set of images. Essentially, for each image, you should\n",
        "      search its descriptors in the index in order to find the closest visual words\n",
        "      and fill the inverted file structure consequently.\n",
        "\n",
        "      - img_names: An ordered list with the names of the train images\n",
        "      - img_descs: A list containing numpy arrays. Each numpy array i corresponds \n",
        "        to the descriptors found at image i\n",
        "      \"\"\"\n",
        "      for i, img_desc in enumerate(img_descs):\n",
        "            visual_words = self.vocab.knnMatch(img_desc, k=1)\n",
        "            bow_hist = np.zeros(self.nwords)\n",
        "\n",
        "            for vw in visual_words:\n",
        "                word_id = vw[0].trainIdx\n",
        "                bow_hist[word_id] += 1\n",
        "\n",
        "            # Normalize the bow_hist vector\n",
        "            norm = np.linalg.norm(bow_hist)\n",
        "            if norm > 0:\n",
        "                bow_hist = bow_hist / norm\n",
        "\n",
        "            for word_id, word_count in enumerate(bow_hist):\n",
        "                if word_count > 0:\n",
        "                    self.inv_list[word_id][img_names[i]] = word_count\n",
        "\n",
        "        # Compute the inverse document frequency (IDF) for each word\n",
        "        # IDF(word_id=1) =  log(number of images/number of images containing the desc word_id=1) \n",
        "      n_docs = np.array([len(self.inv_list[word_id]) for word_id in range(self.nwords)])\n",
        "      self.idf = np.log10((len(img_names) + 1) / (n_docs + 1)) + 1\n",
        "\n",
        "      self.tfidf = {}\n",
        "      for i, img_desc in enumerate(img_descs):\n",
        "          bow_hist = np.zeros(self.nwords)\n",
        "          visual_words = self.vocab.knnMatch(img_desc, k=1)\n",
        "\n",
        "          for vw in visual_words:\n",
        "              word_id = vw[0].trainIdx\n",
        "              bow_hist[word_id] += 1\n",
        "\n",
        "          # Compute the TF-IDF for each word in the image\n",
        "          # TF-IDF(word_id=1, image_names[0]) = TF(word_id=1, image_names[0]) * IDF(word_id=1)\n",
        "          tfidf_hist = bow_hist * self.idf\n",
        "\n",
        "          # Normalize the tfidf_hist vector\n",
        "          norm = np.linalg.norm(tfidf_hist)\n",
        "          if norm > 0:\n",
        "              tfidf_hist = tfidf_hist / norm\n",
        "\n",
        "          # Add the TF-IDF histogram to the self.tfidf dictionary\n",
        "          self.tfidf[img_names[i]] = tfidf_hist\n",
        "\n",
        "\n",
        "    def search_image(self, descs):\n",
        "        \"\"\"\n",
        "        Search an image in the index.\n",
        "      \n",
        "        - descs: A numpy array. It is the set descriptors extracted from the query image.\n",
        "    \n",
        "        RETURN:\n",
        "        - An ordered list of similar images, e.g.: ['100101.jpg', '100202.jpg', ...]\n",
        "        \"\"\"\n",
        "\n",
        "        # Compute the bag of visual words for the query image\n",
        "        visual_words = self.vocab.knnMatch(descs, k=1)\n",
        "        bow_hist = np.zeros(self.nwords)\n",
        "        for vw in visual_words:\n",
        "            word_id = vw[0].trainIdx\n",
        "            bow_hist[word_id] += 1\n",
        "\n",
        "        # Compute the TF-IDF weighted bag of visual words for the query image\n",
        "        tfidf_hist = np.zeros(self.nwords)\n",
        "        for word_id, word_count in enumerate(bow_hist):\n",
        "            if word_count > 0:\n",
        "                tfidf_hist[word_id] = word_count * self.idf[word_id]\n",
        "\n",
        "        # Normalize the tfidf_hist vector\n",
        "        norm = np.linalg.norm(tfidf_hist)\n",
        "        if norm > 0:\n",
        "            tfidf_hist = tfidf_hist / norm\n",
        "\n",
        "        # Compute the cosine similarity scores between the query image and each image in the database\n",
        "        scores = {}\n",
        "        for image_id, image_tfidf_hist in self.tfidf.items():\n",
        "            score = np.dot(tfidf_hist, image_tfidf_hist)\n",
        "            scores[image_id] = score\n",
        "\n",
        "        # Sort the images in descending order by their similarity scores\n",
        "        sorted_images = sorted(scores, key=scores.get, reverse=True)\n",
        "\n",
        "        return sorted_images\n",
        "      \n",
        "    def compute_mAP(self, query_names, query_descs, gt_file):\n",
        "        \"\"\"\n",
        "        Perform a search for a list of query images against the database and evaluates\n",
        "        the performance of the system.\n",
        "        \n",
        "        - query_names: An ordered list with the names of query images\n",
        "        - query_descs: A list containing numpy arrays of size (ndesc_for_this_image, 128). \n",
        "              Each numpy array i corresponds to the descriptors found at image i.\n",
        "\n",
        "        RETURN:\n",
        "        - total_results: A dictionary containing, for each query image, an ordered list of the retrieved images.\n",
        "        - m_ap: Mean Average Precision averaged over all queries.\n",
        "        \"\"\"\n",
        "        total_results = {}\n",
        "        m_ap = 0.0\n",
        "        for qname, qdesc in zip(query_names, query_descs):\n",
        "            # Search for similar images\n",
        "            results = self.search_image(qdesc)\n",
        "            total_results[qname] = results\n",
        "\n",
        "        m_ap = ev.compute_mAP(total_results, gt_file)\n",
        "        return total_results, m_ap"
      ],
      "id": "593cafcc"
    },
    {
      "cell_type": "code",
      "execution_count": 11,
      "metadata": {
        "id": "b50bb6a4"
      },
      "outputs": [],
      "source": [
        "# Example of use\n",
        "index = BoW_TFIDF('../clust/clust_flickr60_k200.fvecs')\n",
        "index.build_db(train_names[0:2], train_desc[0:2])"
      ],
      "id": "b50bb6a4"
    },
    {
      "cell_type": "code",
      "execution_count": 12,
      "metadata": {
        "colab": {
          "base_uri": "https://localhost:8080/"
        },
        "id": "6de5068e",
        "outputId": "25b73823-cb41-4988-ae83-b5c89d6fb6b7"
      },
      "outputs": [
        {
          "output_type": "stream",
          "name": "stdout",
          "text": [
            "['100001.jpg', '100002.jpg']\n"
          ]
        }
      ],
      "source": [
        "res = index.search_image(query_desc[0])\n",
        "print(res)"
      ],
      "id": "6de5068e"
    },
    {
      "cell_type": "markdown",
      "metadata": {
        "id": "a554f0a8"
      },
      "source": [
        "**Q12**: In the following cell compute the resulting mAP of the system **using the vocabularies of 200, 2K, 20K and 200K visual words**:"
      ],
      "id": "a554f0a8"
    },
    {
      "cell_type": "code",
      "execution_count": 14,
      "metadata": {
        "id": "6307706a"
      },
      "outputs": [],
      "source": [
        "import time\n",
        "\n",
        "mAP_200  = 0.0\n",
        "mAP_2K   = 0.0\n",
        "mAP_20K  = 0.0\n",
        "mAP_200K = 0.0\n",
        "\n",
        "start_time = time.time()\n",
        "index_200 = BoW_TFIDF('clust/clust_flickr60_k200.fvecs')\n",
        "index_200.build_db(train_names, train_desc)\n",
        "train_time_200 = time.time() - start_time\n",
        "results_200, mAP_200 = index_200.compute_mAP(query_names, query_desc, '../holidays/holidays_images.dat')\n",
        "\n",
        "start_time = time.time()\n",
        "index_2K = BoW_TFIDF('clust/clust_flickr60_k2000.fvecs')\n",
        "index_2K.build_db(train_names, train_desc)\n",
        "train_time_2K = time.time() - start_time\n",
        "results_2K, mAP_2K = index_2K.compute_mAP(query_names, query_desc, '../holidays/holidays_images.dat')\n",
        "\n",
        "start_time = time.time()\n",
        "index_20K = BoW_TFIDF('clust/clust_flickr60_k20000.fvecs')\n",
        "index_20K.build_db(train_names, train_desc)\n",
        "train_time_20K = time.time() - start_time\n",
        "results_20K, mAP_20K = index_20K.compute_mAP(query_names, query_desc, '../holidays/holidays_images.dat')\n",
        "\n",
        "start_time = time.time()\n",
        "index_200K = BoW_TFIDF('clust/clust_flickr60_k200000.fvecs')\n",
        "index_200K.build_db(train_names, train_desc)\n",
        "train_time_200K = time.time() - start_time\n",
        "results_200K, mAP_200K = index_200K.compute_mAP(query_names, query_desc, '../holidays/holidays_images.dat')"
      ],
      "id": "6307706a"
    },
    {
      "cell_type": "code",
      "execution_count": 15,
      "metadata": {
        "colab": {
          "base_uri": "https://localhost:8080/"
        },
        "id": "ba4761f6",
        "outputId": "c9aa9050-8f38-40a1-d589-f3578d812b7c"
      },
      "outputs": [
        {
          "output_type": "stream",
          "name": "stdout",
          "text": [
            "mAP 200: 0.41180\n",
            "mAP 2K: 0.47421\n",
            "mAP 20K: 0.49072\n",
            "mAP 200K: 0.52884\n"
          ]
        }
      ],
      "source": [
        "print('mAP 200: %.5f' % mAP_200)\n",
        "print('mAP 2K: %.5f' % mAP_2K)\n",
        "print('mAP 20K: %.5f' % mAP_20K)\n",
        "print('mAP 200K: %.5f' % mAP_200K)"
      ],
      "id": "ba4761f6"
    },
    {
      "cell_type": "markdown",
      "metadata": {
        "id": "1aa3cf87"
      },
      "source": [
        "**Q13:** Compare the performances obtained on each case. Is a larger vocabulary size always better? Why or why not?"
      ],
      "id": "1aa3cf87"
    },
    {
      "cell_type": "markdown",
      "metadata": {
        "id": "gmxkKLqqWNwo"
      },
      "source": [
        "For bow-tfidf increasing the vocab size causes the mAP to increase. "
      ],
      "id": "gmxkKLqqWNwo"
    },
    {
      "cell_type": "code",
      "execution_count": 18,
      "metadata": {
        "colab": {
          "base_uri": "https://localhost:8080/",
          "height": 472
        },
        "id": "qYTNs1kZUhEP",
        "outputId": "c67edc29-2599-4cc9-b26b-9474b6f6a9d3"
      },
      "outputs": [
        {
          "output_type": "display_data",
          "data": {
            "text/plain": [
              "<Figure size 640x480 with 1 Axes>"
            ],
            "image/png": "[encoded data removed]"
          },
          "metadata": {}
        }
      ],
      "source": [
        "# Data for the bar chart\n",
        "map_scores_bow_TFIDF = [mAP_200, mAP_2K, mAP_20K, mAP_200K]\n",
        "labels = ['mAP_200', 'mAP_2K', 'mAP_20K', 'mAP_200K']\n",
        "\n",
        "plot_chart(map_scores_bow_TFIDF, labels, \"mAP vs Vocab size\", \"Vocab size\", \"mAP\")"
      ],
      "id": "qYTNs1kZUhEP"
    },
    {
      "cell_type": "markdown",
      "metadata": {
        "id": "65d6852c"
      },
      "source": [
        "Write here the code required to answer the questions stated above. You can add more cells (code / markdown) at this point if you need it."
      ],
      "id": "65d6852c"
    },
    {
      "cell_type": "markdown",
      "metadata": {
        "id": "752ac143"
      },
      "source": [
        "**Q14**: Analyze the effect of the vocabulary size in terms of mAP and average response time (train and query times). Are these times constant for each vocabulary? Some plots here can be useful to justify your answer."
      ],
      "id": "752ac143"
    },
    {
      "cell_type": "code",
      "execution_count": 19,
      "metadata": {
        "colab": {
          "base_uri": "https://localhost:8080/"
        },
        "id": "6el7Kg6EUlH6",
        "outputId": "e1ee21d6-c850-4d6d-ff4c-afc1b525dbca"
      },
      "outputs": [
        {
          "output_type": "stream",
          "name": "stdout",
          "text": [
            "training time 200: 29.23446\n",
            "training time 2K: 27.48345\n",
            "training time 20K: 78.50803\n",
            "training time 200K: 214.32159\n"
          ]
        }
      ],
      "source": [
        "print('training time 200: %.5f' % train_time_200)\n",
        "print('training time 2K: %.5f' % train_time_2K)\n",
        "print('training time 20K: %.5f' % train_time_20K)\n",
        "print('training time 200K: %.5f' % train_time_200K)"
      ],
      "id": "6el7Kg6EUlH6"
    },
    {
      "cell_type": "markdown",
      "metadata": {
        "id": "8J2YIdDpWazs"
      },
      "source": [
        "Training time bow-TDIF - the higher the vocab the longer the training time"
      ],
      "id": "8J2YIdDpWazs"
    },
    {
      "cell_type": "code",
      "execution_count": 20,
      "metadata": {
        "colab": {
          "base_uri": "https://localhost:8080/",
          "height": 472
        },
        "id": "UjqNoPT2UpIK",
        "outputId": "e3a1ba86-80ed-408f-89d3-e18b93aa5194"
      },
      "outputs": [
        {
          "output_type": "display_data",
          "data": {
            "text/plain": [
              "<Figure size 640x480 with 1 Axes>"
            ],
            "image/png": "[encoded data removed]"
          },
          "metadata": {}
        }
      ],
      "source": [
        "# Data for the bar chart\n",
        "train_times_bow_TFIDF = [train_time_200, train_time_2K, train_time_20K, train_time_200K]\n",
        "labels = ['train_time_200', 'train_time_2K', 'train_time_20K', 'train_time_200K']\n",
        "\n",
        "plot_chart(train_times_bow_TFIDF, labels, \"bow_TFIDF Training Time vs Vocab size\", \"Vocab size\", \"Time taken\")"
      ],
      "id": "UjqNoPT2UpIK"
    },
    {
      "cell_type": "code",
      "execution_count": 21,
      "metadata": {
        "colab": {
          "base_uri": "https://localhost:8080/"
        },
        "id": "Xwjy-s3sUu2v",
        "outputId": "7af6265b-62fc-4e7d-a4bb-e77dab201015"
      },
      "outputs": [
        {
          "output_type": "stream",
          "name": "stdout",
          "text": [
            "avg_time_200: 0.021 seconds\n",
            "avg_time_2K: 0.026 seconds\n",
            "avg_time_20K: 0.062 seconds\n",
            "avg_time_200K: 0.354 seconds\n"
          ]
        }
      ],
      "source": [
        "# Initialize a variable to store the total time taken\n",
        "total_time_200 = 0\n",
        "total_time_2K = 0\n",
        "total_time_20K = 0\n",
        "total_time_200K = 0\n",
        "# Define the number of queries to run\n",
        "num_queries = 10\n",
        "\n",
        "# Loop through the queries\n",
        "for i in range(num_queries):\n",
        "    # Time how long the search takes\n",
        "    start_time_200 = time.time()\n",
        "    results_200 = index_200.search_image(query_desc[i])\n",
        "    end_time_200 = time.time()\n",
        "\n",
        "    start_time_2K = time.time()\n",
        "    results_2K = index_2K.search_image(query_desc[i])\n",
        "    end_time_2K = time.time()\n",
        "\n",
        "    start_time_20K = time.time()\n",
        "    results_20K = index_20K.search_image(query_desc[i])\n",
        "    end_time_20K = time.time()\n",
        "\n",
        "    start_time_200K = time.time()\n",
        "    results_200K = index_200K.search_image(query_desc[i])\n",
        "    end_time_200K = time.time()\n",
        "\n",
        "    # Add the time taken to the total\n",
        "    total_time_200 += (end_time_200 - start_time_200)\n",
        "    total_time_2K += (end_time_2K - start_time_2K)\n",
        "    total_time_20K += (end_time_20K - start_time_20K)\n",
        "    total_time_200K += (end_time_200K - start_time_200K)\n",
        "\n",
        "# Compute the average time taken\n",
        "avg_time_200 = total_time_200 / num_queries\n",
        "avg_time_2K = total_time_2K / num_queries\n",
        "avg_time_20K = total_time_20K / num_queries\n",
        "avg_time_200K = total_time_200K / num_queries\n",
        "\n",
        "print(\"avg_time_200: {:.3f} seconds\".format(avg_time_200))\n",
        "print(\"avg_time_2K: {:.3f} seconds\".format(avg_time_2K))\n",
        "print(\"avg_time_20K: {:.3f} seconds\".format(avg_time_20K))\n",
        "print(\"avg_time_200K: {:.3f} seconds\".format(avg_time_200K))"
      ],
      "id": "Xwjy-s3sUu2v"
    },
    {
      "cell_type": "code",
      "execution_count": 22,
      "metadata": {
        "colab": {
          "base_uri": "https://localhost:8080/",
          "height": 472
        },
        "id": "kxcmcsu6Ux8c",
        "outputId": "f1ef4f0f-a29f-4a5a-db39-f07b1a1b8d71"
      },
      "outputs": [
        {
          "output_type": "display_data",
          "data": {
            "text/plain": [
              "<Figure size 640x480 with 1 Axes>"
            ],
            "image/png": "[encoded data removed]"
          },
          "metadata": {}
        }
      ],
      "source": [
        "# Data for the bar chart\n",
        "avg_time_bow_TFIDF = [avg_time_200, avg_time_2K, avg_time_20K, avg_time_200K]\n",
        "labels = ['avg_time_200', 'avg_time_2K', 'avg_time_20K', 'avg_time_200K']\n",
        "\n",
        "plot_chart(avg_time_bow_TFIDF, labels, \"Average Query Time vs Vocab size\", \"Vocab size\", \"Average Query Time\")"
      ],
      "id": "kxcmcsu6Ux8c"
    },
    {
      "cell_type": "markdown",
      "metadata": {
        "id": "c07db06d"
      },
      "source": [
        "Write here the code required to answer the questions stated above. You can add more cells (code / markdown) at this point if you need it."
      ],
      "id": "c07db06d"
    },
    {
      "cell_type": "markdown",
      "metadata": {
        "id": "efc83c87"
      },
      "source": [
        "**Q15**: Do the results obtained depend on the set of images used to generate the vocabulary? How can we improve the retrieval performance?"
      ],
      "id": "efc83c87"
    },
    {
      "cell_type": "markdown",
      "metadata": {
        "id": "BQzHj9jHVBnN"
      },
      "source": [
        "Yes, the results obtained with bag-of-words (BoW) depend on the set of images used to generate the vocabulary. \n",
        "\n",
        "To improve the retrieval performance with BoW, there are several strategies that can be employed:\n",
        "\n",
        "1) Increase the size of the vocabulary: Using a larger vocabulary with more visual words can increase the discriminative power of the representation, allowing for more accurate retrieval results. \n",
        "\n",
        "2) Use a more diverse set of images to generate the vocabulary: Using a larger and more diverse set of training images can improve the quality of the visual vocabulary, allowing for better representation of the visual features in the query images.\n",
        "\n",
        "3) Use more advanced techniques, such as deep learning-based methods, to improve the representation of the images and capture more complex visual relationships. These techniques can further improve the retrieval performance beyond what can be achieved with traditional BoW methods."
      ],
      "id": "BQzHj9jHVBnN"
    },
    {
      "cell_type": "markdown",
      "metadata": {
        "id": "61429d22"
      },
      "source": [
        "Write here the code required to answer the questions stated above. You can add more cells (code / markdown) at this point if you need it."
      ],
      "id": "61429d22"
    },
    {
      "cell_type": "markdown",
      "metadata": {
        "id": "6465cfb0"
      },
      "source": [
        "**Q16:** How does TF-IDF affect the performance? Better or worse? Does this make sense?"
      ],
      "id": "6465cfb0"
    },
    {
      "cell_type": "code",
      "execution_count": 23,
      "metadata": {
        "id": "AIHAqLr7VIlj"
      },
      "outputs": [],
      "source": [
        "x_labels = ['BoW_200', 'BoW_2K', 'BoW_20K', 'BoW_200K', 'BoW_TFIDF_200', 'BoW_TFIDF_2K', 'BoW_TFIDF_20K', 'BoW_TFIDF_200K']"
      ],
      "id": "AIHAqLr7VIlj"
    },
    {
      "cell_type": "markdown",
      "metadata": {
        "id": "um6yiNY2VMS0"
      },
      "source": [
        "mAP for bow and bow_TFIDF"
      ],
      "id": "um6yiNY2VMS0"
    },
    {
      "cell_type": "code",
      "execution_count": 29,
      "metadata": {
        "colab": {
          "base_uri": "https://localhost:8080/",
          "height": 595
        },
        "id": "okmylLddVPro",
        "outputId": "fe960570-f6cd-437d-f7d4-50f3969d0687"
      },
      "outputs": [
        {
          "output_type": "execute_result",
          "data": {
            "text/plain": [
              "<matplotlib.legend.Legend at 0x7ff13a434700>"
            ]
          },
          "metadata": {},
          "execution_count": 29
        },
        {
          "output_type": "display_data",
          "data": {
            "text/plain": [
              "<Figure size 640x480 with 1 Axes>"
            ],
            "image/png": "[encoded data removed]"
          },
          "metadata": {}
        }
      ],
      "source": [
        "# Create a bar chart with both sets of mAP scores\n",
        "fig, ax = plt.subplots()\n",
        "plt.xticks(rotation=90)\n",
        "ax.bar(x_labels[:4], mAP_bow, label='bow')\n",
        "ax.bar(x_labels[4:], map_scores_bow_TFIDF, label='bow_TFIDF')\n",
        "\n",
        "# Set the chart title, axis labels, and legend\n",
        "ax.set_title('mAP Scores for bow and bow_TFIDF')\n",
        "ax.set_xlabel('Indexing Algorithm')\n",
        "ax.set_ylabel('mAP Score')\n",
        "ax.legend()"
      ],
      "id": "okmylLddVPro"
    },
    {
      "cell_type": "markdown",
      "metadata": {
        "id": "Za-LT120VS25"
      },
      "source": [
        "Training time for bow and bow_TFIDF"
      ],
      "id": "Za-LT120VS25"
    },
    {
      "cell_type": "code",
      "execution_count": 33,
      "metadata": {
        "colab": {
          "base_uri": "https://localhost:8080/",
          "height": 595
        },
        "id": "wnKVPcb-VV5Z",
        "outputId": "a8f024a9-c480-4a32-fa82-06bebea2240b"
      },
      "outputs": [
        {
          "output_type": "execute_result",
          "data": {
            "text/plain": [
              "<matplotlib.legend.Legend at 0x7ff138e04850>"
            ]
          },
          "metadata": {},
          "execution_count": 33
        },
        {
          "output_type": "display_data",
          "data": {
            "text/plain": [
              "<Figure size 640x480 with 1 Axes>"
            ],
            "image/png": "[encoded data removed]"
          },
          "metadata": {}
        }
      ],
      "source": [
        "# Create a bar chart with both sets of mAP scores\n",
        "fig, ax = plt.subplots()\n",
        "plt.xticks(rotation=90)\n",
        "ax.bar(x_labels[:4], training_time_bow, label='bow')\n",
        "ax.bar(x_labels[4:], train_times_bow_TFIDF, label='bow_TFIDF')\n",
        "\n",
        "# Set the chart title, axis labels, and legend\n",
        "ax.set_title('Training times for bow and bow_TFIDF')\n",
        "ax.set_xlabel('Indexing Algorithm')\n",
        "ax.set_ylabel('Training time')\n",
        "ax.legend()"
      ],
      "id": "wnKVPcb-VV5Z"
    },
    {
      "cell_type": "markdown",
      "metadata": {
        "id": "mI6LRePmVZus"
      },
      "source": [
        "Avg query response times"
      ],
      "id": "mI6LRePmVZus"
    },
    {
      "cell_type": "code",
      "execution_count": 34,
      "metadata": {
        "id": "14vyeM5OVdM5",
        "colab": {
          "base_uri": "https://localhost:8080/",
          "height": 595
        },
        "outputId": "b08eee8b-6060-49c1-c773-4c789f97641c"
      },
      "outputs": [
        {
          "output_type": "execute_result",
          "data": {
            "text/plain": [
              "<matplotlib.legend.Legend at 0x7ff138e63ee0>"
            ]
          },
          "metadata": {},
          "execution_count": 34
        },
        {
          "output_type": "display_data",
          "data": {
            "text/plain": [
              "<Figure size 640x480 with 1 Axes>"
            ],
            "image/png": "[encoded data removed]"
          },
          "metadata": {}
        }
      ],
      "source": [
        "# Create a bar chart with both sets of mAP scores\n",
        "fig, ax = plt.subplots()\n",
        "plt.xticks(rotation=90)\n",
        "ax.bar(x_labels[:4], avg_query_times_bow, label='bow')\n",
        "ax.bar(x_labels[4:], avg_time_bow_TFIDF, label='bow_TFIDF')\n",
        "\n",
        "# Set the chart title, axis labels, and legend\n",
        "ax.set_title('Avg query times for bow and bow_TFIDF')\n",
        "ax.set_xlabel('Indexing Algorithm')\n",
        "ax.set_ylabel('Query times')\n",
        "ax.legend()"
      ],
      "id": "14vyeM5OVdM5"
    },
    {
      "cell_type": "markdown",
      "metadata": {
        "id": "4b193d85"
      },
      "source": [
        "Write here the code required to answer the questions stated above. You can add more cells (code / markdown) at this point if you need it."
      ],
      "id": "4b193d85"
    },
    {
      "cell_type": "markdown",
      "metadata": {
        "id": "8b3b83bc"
      },
      "source": [
        "## Submitting your work\n",
        "\n",
        "**Important**: Please make sure that the submitted notebooks have been run and the cell outputs are visible.\n",
        "\n",
        "**Important**: Please make also sure that you have filled the **NAME** and **DNI** variables at the beginning of the notebook, **using the indicated format**.\n",
        "\n",
        "Once you have filled out the necessary code and you are happy with your solution, **save your notebook** and execute the following cell:"
      ],
      "id": "8b3b83bc"
    },
    {
      "cell_type": "code",
      "execution_count": null,
      "metadata": {
        "id": "0ef0d318"
      },
      "outputs": [],
      "source": [
        "zip_filename = DNI + '_A2.zip'\n",
        "zf = zipfile.ZipFile(zip_filename, mode = 'w')\n",
        "\n",
        "aname = 'submitted/' + DNI + '/A2/Image_Indexing.ipynb'\n",
        "zf.write('Image_Indexing.ipynb', arcname = aname);\n",
        "\n",
        "zf.close()"
      ],
      "id": "0ef0d318"
    },
    {
      "cell_type": "markdown",
      "metadata": {
        "id": "f06aa9d3"
      },
      "source": [
        "This will generate a zip file of your code called `DNI_A2.zip` in the same directory of the assignment. This is the file that you must upload to [Aula Digital](https://uibdigital.uib.es/) to submit your work!"
      ],
      "id": "f06aa9d3"
    },
    {
      "cell_type": "markdown",
      "metadata": {
        "id": "55cb8ca9"
      },
      "source": [
        "---\n",
        "\n",
        "&copy; Emilio Garcia-Fidalgo, University of the Balearic Islands"
      ],
      "id": "55cb8ca9"
    }
  ],
  "metadata": {
    "colab": {
      "provenance": [],
      "include_colab_link": true
    },
    "kernelspec": {
      "display_name": "Python 3 (ipykernel)",
      "language": "python",
      "name": "python3"
    },
    "language_info": {
      "codemirror_mode": {
        "name": "ipython",
        "version": 3
      },
      "file_extension": ".py",
      "mimetype": "text/x-python",
      "name": "python",
      "nbconvert_exporter": "python",
      "pygments_lexer": "ipython3",
      "version": "3.9.7"
    }
  },
  "nbformat": 4,
  "nbformat_minor": 5
}