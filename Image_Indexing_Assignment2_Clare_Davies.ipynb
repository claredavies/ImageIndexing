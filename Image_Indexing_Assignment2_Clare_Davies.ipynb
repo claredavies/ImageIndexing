{
  "cells": [
    {
      "cell_type": "markdown",
      "metadata": {
        "id": "view-in-github",
        "colab_type": "text"
      },
      "source": [
        "<a href=\"https://colab.research.google.com/github/claredavies/ImageIndexing/blob/main/Image_Indexing_Assignment2_Clare_Davies.ipynb\" target=\"_parent\"><img src=\"https://colab.research.google.com/assets/colab-badge.svg\" alt=\"Open In Colab\"/></a>"
      ]
    },
    {
      "cell_type": "markdown",
      "metadata": {
        "id": "a795ccf4"
      },
      "source": [
        "# 11762 Content-Based Image Retrieval\n",
        "## Master's Degree in Intelligent Systems\n",
        "### University of the Balearic Islands\n",
        "\n",
        "---\n",
        "\n",
        "**Before you turn this problem in, please put your full names and DNIs (or NIEs) below, and execute the cell:**"
      ],
      "id": "a795ccf4"
    },
    {
      "cell_type": "code",
      "execution_count": null,
      "metadata": {
        "id": "6947b975"
      },
      "outputs": [],
      "source": [
        "NAME  = \"Clare Davies\"\n",
        "DNI   = \"PL5527043\""
      ],
      "id": "6947b975"
    },
    {
      "cell_type": "code",
      "execution_count": 1,
      "metadata": {
        "colab": {
          "base_uri": "https://localhost:8080/"
        },
        "id": "62G6CJBJkMMo",
        "outputId": "5685df49-4242-4c6a-b0d4-ed781b9fcd74"
      },
      "outputs": [
        {
          "output_type": "stream",
          "name": "stdout",
          "text": [
            "Mounted at /content/drive/\n"
          ]
        }
      ],
      "source": [
        "from google.colab import drive\n",
        "drive.mount('/content/drive/')"
      ],
      "id": "62G6CJBJkMMo"
    },
    {
      "cell_type": "code",
      "execution_count": 2,
      "metadata": {
        "colab": {
          "base_uri": "https://localhost:8080/"
        },
        "id": "13uKMVyekOoW",
        "outputId": "1467dcb2-9b47-4a31-972c-76e56b359958"
      },
      "outputs": [
        {
          "output_type": "stream",
          "name": "stdout",
          "text": [
            "/content/drive/MyDrive/ImageIndexing/iric_dev_kit\n"
          ]
        }
      ],
      "source": [
        "%cd drive/MyDrive/ImageIndexing/iric_dev_kit"
      ],
      "id": "13uKMVyekOoW"
    },
    {
      "cell_type": "markdown",
      "metadata": {
        "id": "ec32c2c0"
      },
      "source": [
        "Make sure you fill in any place that says `YOUR CODE HERE` or `YOUR ANSWER HERE`. **Justify** all of your answers, **graphically** wherever possible. Remember that this notebook will be considered as a report to the work done during the assignment.\n",
        "\n",
        "---"
      ],
      "id": "ec32c2c0"
    },
    {
      "cell_type": "code",
      "execution_count": 3,
      "metadata": {
        "id": "a32b507a"
      },
      "outputs": [],
      "source": [
        "# Setup code for this assignment\n",
        "import cv2\n",
        "import math\n",
        "import numpy as np\n",
        "import os\n",
        "import scipy.cluster.vq as vq\n",
        "import tqdm\n",
        "import zipfile\n",
        "\n",
        "## Adding parent folder to find other libs\n",
        "import sys\n",
        "if \"..\" not in sys.path:\n",
        "    sys.path.insert(0,\"..\")\n",
        "    \n",
        "import iric_utils.eval_holidays as ev\n",
        "import iric_utils.read_descriptors as rd\n",
        "\n",
        "# Configuring Matplotlib\n",
        "from matplotlib import pyplot as plt\n",
        "%matplotlib inline"
      ],
      "id": "a32b507a"
    },
    {
      "cell_type": "code",
      "execution_count": 4,
      "metadata": {
        "id": "w2fyiYyZp6CU"
      },
      "outputs": [],
      "source": [
        "def plot_chart(values, labels, title, xlabel, ylabel):\n",
        "  fig, ax = plt.subplots()\n",
        "  ax.bar(labels, values)\n",
        "\n",
        "  ax.set_title(title)\n",
        "  ax.set_xlabel(xlabel)\n",
        "  ax.set_ylabel(ylabel)\n",
        "\n",
        "  plt.show()"
      ],
      "id": "w2fyiYyZp6CU"
    },
    {
      "cell_type": "markdown",
      "metadata": {
        "id": "d621778b"
      },
      "source": [
        "## Introduction\n",
        "In this assignment, you will implement and evaluate different methods for indexing images. As usual during this course, we will use the [INRIA Holidays](http://lear.inrialpes.fr/people/jegou/data.php) dataset. **Check the Assignment 1 to further information about this dataset.**\n",
        "\n",
        "We also need the provided script to evaluate a CBIR system on this dataset. Remember that the performance is measured computing the **mean average precision** (mAP) over all queries. **Check also the Assignment 1 to remember how to use this script and the different functions it offers.**"
      ],
      "id": "d621778b"
    },
    {
      "cell_type": "markdown",
      "metadata": {
        "id": "77b3c399"
      },
      "source": [
        "### Loading images\n",
        "As we did in Assignment 1, for managing images, we will create four lists:\n",
        "- **`query_names`**: File names of the *query* images\n",
        "- **`query_imgs`**: *Query* images loaded using OpenCV2\n",
        "- **`train_names`**: File names of the *train* (database) images\n",
        "- **`train_imgs`**: *Train* images loaded using OpenCV2\n",
        "\n",
        "In this assignment, we will use the original holidays dataset:"
      ],
      "id": "77b3c399"
    },
    {
      "cell_type": "code",
      "execution_count": 5,
      "metadata": {
        "colab": {
          "base_uri": "https://localhost:8080/"
        },
        "id": "78adf5f7",
        "outputId": "fd618b4e-0c0a-476d-90fd-2ed29834f99a"
      },
      "outputs": [
        {
          "output_type": "stream",
          "name": "stdout",
          "text": [
            "500\n",
            "991\n"
          ]
        }
      ],
      "source": [
        "# Separating the dataset into query and train images\n",
        "query_names = []\n",
        "query_imgs = []\n",
        "train_names = []\n",
        "train_imgs = []\n",
        "\n",
        "with open('../holidays/holidays_images.dat') as f:\n",
        "    for line in f:\n",
        "        imname = line.strip()\n",
        "        imno = int(imname[:-len(\".jpg\")])\n",
        "        img = cv2.imread('../holidays/images/' + imname)\n",
        "        # Resize the images for a faster operation in this assignment\n",
        "        img = cv2.resize(img, None, fx=0.25, fy=0.25, interpolation = cv2.INTER_CUBIC)\n",
        "    \n",
        "        # Checking if this is a query image\n",
        "        if imno % 100 == 0:\n",
        "            query_names.append(imname)\n",
        "            query_imgs.append(img)\n",
        "        else:\n",
        "            train_names.append(imname)\n",
        "            train_imgs.append(img)\n",
        "\n",
        "print(len(query_names))\n",
        "print(len(train_names))"
      ],
      "id": "78adf5f7"
    },
    {
      "cell_type": "markdown",
      "metadata": {
        "id": "27d7080b"
      },
      "source": [
        "## Loading SIFT descriptors\n",
        "In this assignment we will create four additional lists:\n",
        "- **`query_kps`**: A list of lists of keypoints (cv2.KeyPoint) extracted from the *query* images\n",
        "- **`query_desc`**: A list of numpy arrays including, for each set of keypoints, the SIFT descriptors extracted from the *query* images\n",
        "- **`train_kps`**: A list of lists of keypoints (cv2.KeyPoint) extracted from the *train* (database) images\n",
        "- **`train_desc`**: A list of numpy arrays including, for each set of keypoints, the SIFT descriptors extracted from the *train* images\n",
        "\n",
        "Unlike in Assigment 1, now you will be provided with a set of SIFT descriptors for each image, and, therefore, you do not need to create these lists from scratch. First, download the descriptors from [here](https://uibes-my.sharepoint.com/:u:/g/personal/egf350_id_uib_es/Eam8Ld8YDaJAhNr91YVdAZIB_wVZJ8kzzKD7BR6R3LziMw).\n",
        "\n",
        "> **Unzip this file into the root directory of the development kit, at the same level of the datasets.**\n",
        "\n",
        "Now, a new directory called `siftgeo` should be in your workspace, containing the set of SIFT descriptors for each image of the dataset. These descriptors are stored in binary format and, thus, you are also provided with some tools to load them. To be more precise, you can call the function `load_SIFT_descriptors` to load the descriptors of a list of images:"
      ],
      "id": "27d7080b"
    },
    {
      "cell_type": "code",
      "execution_count": 6,
      "metadata": {
        "colab": {
          "base_uri": "https://localhost:8080/"
        },
        "id": "f7e7e1c5",
        "outputId": "1364f1f9-56d9-44b0-efc0-e071be0a78d7"
      },
      "outputs": [
        {
          "output_type": "stream",
          "name": "stdout",
          "text": [
            "500\n",
            "991\n",
            "500\n",
            "991\n",
            "(1000, 128)\n",
            "[[10.  6. 52. ... 15.  4.  0.]\n",
            " [16. 50. 12. ... 15.  4.  0.]\n",
            " [10. 11. 58. ...  7.  4.  4.]\n",
            " ...\n",
            " [27. 15.  0. ... 16.  8. 12.]\n",
            " [51. 47. 14. ... 35. 26.  0.]\n",
            " [ 2. 37. 25. ... 47. 13.  8.]]\n"
          ]
        }
      ],
      "source": [
        "# Loading descriptors\n",
        "query_kps, query_desc = rd.load_SIFT_descriptors(query_names, max_desc=1000)\n",
        "train_kps, train_desc = rd.load_SIFT_descriptors(train_names, max_desc=1000)\n",
        "\n",
        "# Some prints\n",
        "print(len(query_kps))\n",
        "print(len(train_kps))\n",
        "print(len(query_desc))\n",
        "print(len(train_desc))\n",
        "print(query_desc[0].shape)\n",
        "print(query_desc[0])"
      ],
      "id": "f7e7e1c5"
    },
    {
      "cell_type": "markdown",
      "metadata": {
        "id": "6b8f8d0c"
      },
      "source": [
        "For development purposes, we use the parameter `max_desc` to load a maximum number (1000) of the descriptors. This will speed up the execution of the rest of the notebook, while the decrease in performance will be minimum.\n",
        "\n",
        "> **Some images do not have keypoints/descriptors. Take this into account when you develop your solution.**"
      ],
      "id": "6b8f8d0c"
    },
    {
      "cell_type": "markdown",
      "metadata": {
        "id": "9e2aeee4"
      },
      "source": [
        "## $k$-d trees and LSH \n",
        "Let's start coding. At this section, you will develop a retrieval system using $k$-d trees and Locality Sensitive Hashing (LSH). "
      ],
      "id": "9e2aeee4"
    },
    {
      "cell_type": "markdown",
      "metadata": {
        "id": "9b5ec641"
      },
      "source": [
        "### General framework\n",
        "As we did in the first assignment, you first will develop some utilities to simplify your work. Write a function called `search_image` to search an image in a generic index (database). You should search each descriptor of the given query image and obtain its two closest SIFT descriptors in the database. Next, the initial set of matches should be filtered using the **NNDR criterion (use 0.8 as ratio)**, as you did in the previous assignment. For each database image, its final score with regard to this query image will be the **number of correct matches** with this image:"
      ],
      "id": "9b5ec641"
    },
    {
      "cell_type": "code",
      "execution_count": 7,
      "metadata": {
        "id": "d9560c34"
      },
      "outputs": [],
      "source": [
        "def search_image(descs, index, id_to_name):\n",
        "    \"\"\"\n",
        "    Search an image in the index\n",
        "    \n",
        "    - descs: A numpy array. This is the set descriptors extracted from the query image\n",
        "    - index: OpenCV FLANN index to search for descriptors.\n",
        "    - id_to_name: An associative list to link every image index to its real name\n",
        "        e.g. id_to_name[0] = '100001.jpg', id_to_name[1] = '100002.jpg'\n",
        "  \n",
        "    RETURN: \n",
        "    - An ordered list of similar images, e.g.: ['100101.jpg', '100202.jpg', ...]\n",
        "    \"\"\"\n",
        "  # Perform FLANN-based matching to find similar descriptors\n",
        "    matches = index.knnMatch(descs, k=2)\n",
        "\n",
        "    # Apply ratio test to filter out bad matches and find the best match for each query descriptor\n",
        "    good_matches = []\n",
        "    for m, n in matches:\n",
        "        if m.distance < 0.8 * n.distance:\n",
        "            good_matches.append(m)\n",
        "\n",
        "    scores = {}\n",
        "    for i, matchFound in enumerate(good_matches):\n",
        "        img_idx = matchFound.imgIdx\n",
        "        if img_idx not in scores:\n",
        "            scores[img_idx] = 0\n",
        "        scores[img_idx] += 1\n",
        "    sorted_scores = sorted(scores.items(), key=lambda x: x[1], reverse=True)\n",
        "\n",
        "    similar_names = []\n",
        "    for image_id, score in sorted_scores:\n",
        "        similar_names.append(id_to_name[image_id])\n",
        "\n",
        "    return sorted(similar_names)"
      ],
      "id": "d9560c34"
    },
    {
      "cell_type": "markdown",
      "metadata": {
        "id": "5470e6a8"
      },
      "source": [
        "Now, write a function called `compute_mAP`. Given a list of query images and a trained index, this function should return a Python dictionary with the ordered results for each query along with the computed mAP:"
      ],
      "id": "5470e6a8"
    },
    {
      "cell_type": "code",
      "execution_count": 8,
      "metadata": {
        "id": "0195c2f4"
      },
      "outputs": [],
      "source": [
        "def compute_mAP(query_names, query_desc, index, id_to_name, gt_file):\n",
        "    \"\"\"\n",
        "    Perform a search for a list of query images against the database.\n",
        "    \n",
        "    - query_names: An ordered list with the names of the query images\n",
        "    - query_desc: A list containing numpy arrays of size (ndesc_for_this_image, 128)\n",
        "                  Each numpy array i corresponds to the descriptors found at image i\n",
        "    - index: FLANN index\n",
        "    - id_to_name: An associative array to link every image index to its real name\n",
        "                  e.g. id_to_name[0] = '100001.jpg', id_to_name[1] = '100002.jpg'\n",
        "  \n",
        "    RETURN: \n",
        "    - total_results: A dictionary containing, for each query image, an sorted list of the database images\n",
        "    - m_ap: Mean Average Precision averaged over all queries\n",
        "    \"\"\"\n",
        "    total_results = {}\n",
        "    m_ap = 0.0\n",
        "    \n",
        "    i = 1\n",
        "    for qname, qdesc in zip(query_names, query_desc):\n",
        "        # Search for similar images\n",
        "        results = search_image(qdesc, index, id_to_name)\n",
        "        total_results[qname] = results\n",
        "        i = i + 1\n",
        "    \n",
        "    m_ap = ev.compute_mAP(total_results, gt_file)\n",
        "    return total_results, m_ap"
      ],
      "id": "0195c2f4"
    },
    {
      "cell_type": "markdown",
      "metadata": {
        "id": "6a7782f8"
      },
      "source": [
        "### $k$-d Trees\n",
        "In this section you will use a set of randomized $k$-d trees to index the database of images. Write a function called `build_db_kdtrees` to build a set of randomized $k$-d trees given a set of descriptors:\n",
        "\n",
        "> **Useful links**: [cv2.FlannBasedMatcher](https://docs.opencv.org/4.5.5/dc/de2/classcv_1_1FlannBasedMatcher.html), [Possible algorithms to create an index](https://docs.opencv.org/4.5.5/db/d18/classcv_1_1flann_1_1GenericIndex.html#a8fff14185f9f3d2f2311b528f65b146c), [Algorithms IDs](https://github.com/opencv/opencv/blob/master/modules/flann/include/opencv2/flann/defines.h#L70)"
      ],
      "id": "6a7782f8"
    },
    {
      "cell_type": "code",
      "execution_count": 9,
      "metadata": {
        "id": "3586111e"
      },
      "outputs": [],
      "source": [
        "def build_db_kdtrees(descs, ntrees = 4):\n",
        "    \"\"\"\n",
        "    Build a set of randomized k-d trees.\n",
        "    \n",
        "    - descs: A list of length len(img_names) where each element is a numpy array \n",
        "        of size (ndesc_for_this_image, 128). Each numpy array i corresponds \n",
        "        to the descriptors found on image i\n",
        "    - ntrees: Number of trees to train\n",
        "  \n",
        "    RETURN: \n",
        "    - index: Trained FLANN index\n",
        "    \"\"\"  \n",
        "    FLANN_INDEX_KDTREE = 1\n",
        "    index_params = dict(algorithm = FLANN_INDEX_KDTREE, trees = ntrees)\n",
        "    search_params = dict(checks=50)\n",
        "\n",
        "    flann = cv2.FlannBasedMatcher(index_params,search_params)\n",
        "    flann.add(descs)\n",
        "    flann.train()\n",
        "    return flann"
      ],
      "id": "3586111e"
    },
    {
      "cell_type": "code",
      "execution_count": null,
      "metadata": {
        "colab": {
          "base_uri": "https://localhost:8080/"
        },
        "id": "2fe39d9d",
        "outputId": "91d8b1ea-5616-4a2f-fcb5-7dd851ca272e"
      },
      "outputs": [
        {
          "name": "stdout",
          "output_type": "stream",
          "text": [
            "2\n"
          ]
        }
      ],
      "source": [
        "# Simple example of DB construction\n",
        "index = build_db_kdtrees(train_desc[0:2])\n",
        "print(len(index.getTrainDescriptors()))"
      ],
      "id": "2fe39d9d"
    },
    {
      "cell_type": "code",
      "execution_count": null,
      "metadata": {
        "colab": {
          "base_uri": "https://localhost:8080/"
        },
        "id": "8598581a",
        "outputId": "497e19a2-70b2-4b1b-e5c6-915ac2242a99"
      },
      "outputs": [
        {
          "name": "stdout",
          "output_type": "stream",
          "text": [
            "['100001.jpg', '100002.jpg']\n"
          ]
        }
      ],
      "source": [
        "# Search an image in the index\n",
        "img_res = search_image(query_desc[0], index, train_names[0:2])\n",
        "print(img_res)"
      ],
      "id": "8598581a"
    },
    {
      "cell_type": "code",
      "execution_count": null,
      "metadata": {
        "colab": {
          "base_uri": "https://localhost:8080/"
        },
        "id": "0c32c81c",
        "outputId": "e6792bd0-ae12-4f58-9404-91fdddee285e"
      },
      "outputs": [
        {
          "name": "stdout",
          "output_type": "stream",
          "text": [
            "['100001.jpg', '100002.jpg']\n",
            "['100001.jpg', '100002.jpg']\n",
            "0.002\n"
          ]
        }
      ],
      "source": [
        "# Example of computing mAP\n",
        "results, mAP = compute_mAP(query_names, query_desc, index, train_names[0:2], '../holidays/holidays_images.dat')\n",
        "print(results['100000.jpg'])\n",
        "print(results['100100.jpg'])\n",
        "print(mAP) # This should be 0 now, since there is only two images in the database."
      ],
      "id": "0c32c81c"
    },
    {
      "cell_type": "markdown",
      "metadata": {
        "id": "ec669537"
      },
      "source": [
        "**Q1**: Using functions developed so far, in the following cell compute the resulting **mAP** of the system **using 4 trees**:"
      ],
      "id": "ec669537"
    },
    {
      "cell_type": "code",
      "execution_count": null,
      "metadata": {
        "id": "d3d0cfe3"
      },
      "outputs": [],
      "source": [
        "# Fill this variable with the resulting mAP\n",
        "mAP_kdtree = 0.0\n",
        "\n",
        "index = build_db_kdtrees(train_desc, ntrees = 4)\n",
        "results, mAP_kdtree = compute_mAP(query_names, query_desc, index, train_names,'../holidays/holidays_images.dat')"
      ],
      "id": "d3d0cfe3"
    },
    {
      "cell_type": "code",
      "execution_count": null,
      "metadata": {
        "colab": {
          "base_uri": "https://localhost:8080/"
        },
        "id": "f3ef5289",
        "outputId": "fbf69f5e-286b-48b3-8b75-1ccf49231e74"
      },
      "outputs": [
        {
          "name": "stdout",
          "output_type": "stream",
          "text": [
            "mAP: 0.27641\n"
          ]
        }
      ],
      "source": [
        "print('mAP: %.5f' % mAP_kdtree)"
      ],
      "id": "f3ef5289"
    },
    {
      "cell_type": "markdown",
      "metadata": {
        "id": "57bae631"
      },
      "source": [
        "**Q2**: Are the results stable? Do you obtain always the same mAP? Why?"
      ],
      "id": "57bae631"
    },
    {
      "cell_type": "code",
      "execution_count": null,
      "metadata": {
        "id": "oWtQebhlrWJT"
      },
      "outputs": [],
      "source": [
        "index = build_db_kdtrees(train_desc, ntrees = 4)\n",
        "_, mAP_kdtree_attempt1 = compute_mAP(query_names, query_desc, index, train_names,'../holidays/holidays_images.dat')\n",
        "_, mAP_kdtree_attempt2 = compute_mAP(query_names, query_desc, index, train_names,'../holidays/holidays_images.dat')\n",
        "_, mAP_kdtree_attempt3 = compute_mAP(query_names, query_desc, index, train_names,'../holidays/holidays_images.dat')"
      ],
      "id": "oWtQebhlrWJT"
    },
    {
      "cell_type": "markdown",
      "metadata": {
        "id": "NU2xhWB8sFXA"
      },
      "source": [
        "As seen below the results are stable as across different attempts the mAP remains the same. The algorithms generate consistent and stable results across multiple runs because the nearest neighbors found for a particular query point will be the same each time the algorithm is run. "
      ],
      "id": "NU2xhWB8sFXA"
    },
    {
      "cell_type": "code",
      "execution_count": null,
      "metadata": {
        "colab": {
          "base_uri": "https://localhost:8080/",
          "height": 509
        },
        "id": "wXpwbrEHrj2O",
        "outputId": "4f9ebca7-cbab-448a-f5e3-a401b249fcfd"
      },
      "outputs": [
        {
          "name": "stdout",
          "output_type": "stream",
          "text": [
            "different mAPs for the same query:  0.27171375096630657 0.27171375096630657 0.27171375096630657\n"
          ]
        },
        {
          "data": {
            "image/png": "[encoded data removed]",
            "text/plain": [
              "<Figure size 640x480 with 1 Axes>"
            ]
          },
          "metadata": {},
          "output_type": "display_data"
        }
      ],
      "source": [
        "print(\"different mAPs for the same query: \", mAP_kdtree_attempt1, mAP_kdtree_attempt2, mAP_kdtree_attempt3)\n",
        "values = [mAP_kdtree_attempt1, mAP_kdtree_attempt2, mAP_kdtree_attempt3]\n",
        "labels = [\"attempt1\", \"attempt2\", \"attempt3\"]\n",
        "plot_chart(values, labels, \"mAP for exact same queries\", \"mAP\", \"attempts\")"
      ],
      "id": "wXpwbrEHrj2O"
    },
    {
      "cell_type": "markdown",
      "metadata": {
        "id": "72827768"
      },
      "source": [
        "Write here the code required to answer the questions stated above. You can add more cells (code / markdown) at this point if you need it."
      ],
      "id": "72827768"
    },
    {
      "cell_type": "markdown",
      "metadata": {
        "id": "8baed384"
      },
      "source": [
        "**Q3:** Analyze the effect of changing the number of trees in terms of mAP and average response time. Some plots here can be useful to justify your answer."
      ],
      "id": "8baed384"
    },
    {
      "cell_type": "markdown",
      "metadata": {
        "id": "37k71TW3ucpf"
      },
      "source": [
        "As seen in the charts below increasing the number of trees causes a slight increase in mAP. This is also seen for the average response time which also increases with a higher number of trees."
      ],
      "id": "37k71TW3ucpf"
    },
    {
      "cell_type": "code",
      "execution_count": 11,
      "metadata": {
        "id": "N_QStIuVsY_A"
      },
      "outputs": [],
      "source": [
        "import time\n",
        "start_time = time.time()\n",
        "index_2_trees = build_db_kdtrees(train_desc, ntrees = 2)\n",
        "train_time_2_trees = time.time() - start_time\n",
        "\n",
        "start_time = time.time()\n",
        "index_4_trees = build_db_kdtrees(train_desc, ntrees = 4)\n",
        "train_time_4_trees = time.time() - start_time\n",
        "\n",
        "start_time = time.time()\n",
        "index_8_trees = build_db_kdtrees(train_desc, ntrees = 8)\n",
        "train_time_8_trees = time.time() - start_time\n",
        "train_time_kdtree = [train_time_2_trees, train_time_4_trees, train_time_8_trees]"
      ],
      "id": "N_QStIuVsY_A"
    },
    {
      "cell_type": "code",
      "execution_count": null,
      "metadata": {
        "colab": {
          "base_uri": "https://localhost:8080/"
        },
        "id": "irx6KinasvkL",
        "outputId": "c99e39de-c3da-4921-ac10-08fc0ab5089c"
      },
      "outputs": [
        {
          "name": "stdout",
          "output_type": "stream",
          "text": [
            "mAP with 2 trees:  0.2529574366207561\n",
            "mAP with 4 trees:  0.2630256665098736\n",
            "mAP with 8 trees:  0.2702607417719879\n"
          ]
        }
      ],
      "source": [
        "results, mAP_kdtree2 = compute_mAP(query_names, query_desc, index_2_trees, train_names, '../holidays/holidays_images.dat')\n",
        "print(\"mAP with 2 trees: \", mAP_kdtree2)\n",
        "\n",
        "results, mAP_kdtree4 = compute_mAP(query_names, query_desc, index_4_trees, train_names, '../holidays/holidays_images.dat')\n",
        "print(\"mAP with 4 trees: \", mAP_kdtree4)\n",
        "\n",
        "results, mAP_kdtree8 = compute_mAP(query_names, query_desc, index_8_trees, train_names, '../holidays/holidays_images.dat')\n",
        "print(\"mAP with 8 trees: \", mAP_kdtree8)"
      ],
      "id": "irx6KinasvkL"
    },
    {
      "cell_type": "markdown",
      "metadata": {
        "id": "wp3OvtWvtx39"
      },
      "source": [
        "mAP for different N trees - it slightly increases with the number of trees"
      ],
      "id": "wp3OvtWvtx39"
    },
    {
      "cell_type": "code",
      "execution_count": null,
      "metadata": {
        "colab": {
          "base_uri": "https://localhost:8080/",
          "height": 472
        },
        "id": "C9u4APQot1FT",
        "outputId": "7473560a-2161-493f-9a48-700fa753c3dd"
      },
      "outputs": [
        {
          "data": {
            "image/png": "[encoded data removed]",
            "text/plain": [
              "<Figure size 640x480 with 1 Axes>"
            ]
          },
          "metadata": {},
          "output_type": "display_data"
        }
      ],
      "source": [
        "mAP_scores_kdtree = [mAP_kdtree2, mAP_kdtree4, mAP_kdtree8]\n",
        "labels_kdtree = ['2', '4', '8']\n",
        "\n",
        "plot_chart(mAP_scores_kdtree, labels_kdtree, \"mAP for different N trees\", \"mAP\", \"N trees\")"
      ],
      "id": "C9u4APQot1FT"
    },
    {
      "cell_type": "markdown",
      "metadata": {
        "id": "gM5yPGjsu0qU"
      },
      "source": [
        "Average Query Times - it increase with the number of trees"
      ],
      "id": "gM5yPGjsu0qU"
    },
    {
      "cell_type": "code",
      "execution_count": 12,
      "metadata": {
        "id": "hzVVFgPnuw9H"
      },
      "outputs": [],
      "source": [
        "import time\n",
        "total_time_2_trees = 0\n",
        "total_time_4_trees = 0\n",
        "total_time_8_trees = 0\n",
        "# Define the number of queries to run\n",
        "num_queries = 5\n",
        "\n",
        "# Loop through the queries\n",
        "for i in range(num_queries):\n",
        "    # Time how long the search takes\n",
        "    start_time_2_trees = time.time() \n",
        "    results_2_trees = search_image(query_desc[i], index_2_trees, train_names)\n",
        "    end_time_2_trees = time.time()\n",
        "\n",
        "    start_time_4_trees = time.time()\n",
        "    results_4_trees = search_image(query_desc[i], index_4_trees, train_names)\n",
        "    end_time_4_trees = time.time()\n",
        "\n",
        "    start_time_8_trees = time.time()\n",
        "    results_8_trees = search_image(query_desc[i], index_8_trees, train_names)\n",
        "    end_time_8_trees = time.time()\n",
        "\n",
        "    # Add the time taken to the total\n",
        "    total_time_2_trees += (end_time_2_trees - start_time_2_trees)\n",
        "    total_time_4_trees += (end_time_4_trees - start_time_4_trees)\n",
        "    total_time_8_trees += (end_time_8_trees - start_time_8_trees)\n",
        "\n",
        "# Compute the average time taken\n",
        "avg_time_2_trees = total_time_2_trees / num_queries\n",
        "avg_time_4_trees = total_time_4_trees / num_queries\n",
        "avg_time_8_trees = total_time_8_trees / num_queries"
      ],
      "id": "hzVVFgPnuw9H"
    },
    {
      "cell_type": "code",
      "execution_count": 13,
      "metadata": {
        "colab": {
          "base_uri": "https://localhost:8080/",
          "height": 472
        },
        "id": "U7A6hp4Cu7D9",
        "outputId": "4652f1fe-2d8f-4642-b057-fb6d76a59cbd"
      },
      "outputs": [
        {
          "output_type": "display_data",
          "data": {
            "text/plain": [
              "<Figure size 640x480 with 1 Axes>"
            ],
            "image/png": "[encoded data removed]"
          },
          "metadata": {}
        }
      ],
      "source": [
        "avg_query_times_kdtree = [avg_time_2_trees, avg_time_4_trees, avg_time_8_trees]\n",
        "labels_kdtree = ['2', '4', '8']\n",
        "\n",
        "plot_chart(avg_query_times_kdtree, labels_kdtree, \"average query times for N trees\", \"query time\", \"N trees\")"
      ],
      "id": "U7A6hp4Cu7D9"
    },
    {
      "cell_type": "markdown",
      "metadata": {
        "id": "OxogLY1hvOXo"
      },
      "source": [
        "Training Times"
      ],
      "id": "OxogLY1hvOXo"
    },
    {
      "cell_type": "code",
      "execution_count": null,
      "metadata": {
        "colab": {
          "base_uri": "https://localhost:8080/",
          "height": 472
        },
        "id": "VmODtrsju98Z",
        "outputId": "fbd3b50e-9f5f-4c35-bf3a-a152cee4f35f"
      },
      "outputs": [
        {
          "data": {
            "image/png": "[encoded data removed]",
            "text/plain": [
              "<Figure size 640x480 with 1 Axes>"
            ]
          },
          "metadata": {},
          "output_type": "display_data"
        }
      ],
      "source": [
        "plot_chart(train_time_kdtree, labels_kdtree, \"training times for N trees\", \"training time\", \"N trees\")"
      ],
      "id": "VmODtrsju98Z"
    },
    {
      "cell_type": "markdown",
      "metadata": {
        "id": "3e57caf1"
      },
      "source": [
        "Write here the code required to answer the questions stated above. You can add more cells (code / markdown) at this point if you need it."
      ],
      "id": "3e57caf1"
    },
    {
      "cell_type": "markdown",
      "metadata": {
        "id": "52633ad1"
      },
      "source": [
        "### Locality Sensitive Hashing (LSH)\n",
        "In this section, you will use LSH to index the database of images. The LSH implementation included in OpenCV uses **bit sampling** for **Hamming distance** as a hash function and, therefore, binary descriptors must be used. Hence, SIFT descriptors are not valid and we need to describe the images, but using, for instance, ORB.\n",
        "\n",
        "In the following cell, write the code required to generate **roughly 1500 keypoints / descriptors** using ORB for each query / train image:\n",
        "\n",
        "> **Useful links**: [cv2.ORB_create](https://docs.opencv.org/4.5.4/db/d95/classcv_1_1ORB.html#aeff0cbe668659b7ca14bb85ff1c4073b)"
      ],
      "id": "52633ad1"
    },
    {
      "cell_type": "code",
      "execution_count": 14,
      "metadata": {
        "id": "4b1223cb"
      },
      "outputs": [],
      "source": [
        "def generateAllDescriptorsAndKeypoints(query_images, train_images, no_keypoints=1500, no_descriptors=1500):\n",
        "    \"\"\"\n",
        "    In this section, you will use LSH to index the database of images. The LSH implementation \n",
        "    included in OpenCV uses bit sampling for Hamming distance as a hash function and, therefore, \n",
        "    binary descriptors must be used. Hence, SIFT descriptors are not valid and we need to describe the images\n",
        "    , but using, for instance, ORB.\n",
        "\n",
        "    RETURN: \n",
        "    - query_kps_orb: list of keypoints for query images\n",
        "    - query_desc_orb: list of descriptors for query images\n",
        "    - train_kps_orb: list of keypoints for train images\n",
        "    - train_desc_orb: list of descriptors for train images\n",
        "    \"\"\" \n",
        "    \n",
        "    orb = cv2.ORB_create(nfeatures=no_keypoints, nlevels=8, scoreType=cv2.ORB_FAST_SCORE)\n",
        "\n",
        "    # Initialize keypoint and descriptor lists for query and train images\n",
        "    query_kps_orb = []\n",
        "    query_desc_orb = []\n",
        "    train_kps_orb = []\n",
        "    train_desc_orb = []\n",
        "\n",
        "    # Generate keypoints and descriptors for query images\n",
        "    for query_image in query_images:\n",
        "      img = cv2.cvtColor(query_image, cv2.COLOR_BGR2GRAY)\n",
        "      kps, desc = orb.detectAndCompute(img, None)\n",
        "      query_kps_orb.append(kps)\n",
        "      query_desc_orb.append(desc)\n",
        "\n",
        "    # Generate keypoints and descriptors for train images\n",
        "    for train_image in train_images:\n",
        "      img = cv2.cvtColor(train_image, cv2.COLOR_BGR2GRAY)\n",
        "      kps, desc = orb.detectAndCompute(img, None)\n",
        "      train_kps_orb.append(kps)\n",
        "      train_desc_orb.append(desc)\n",
        "\n",
        "    return query_kps_orb, query_desc_orb, train_kps_orb, train_desc_orb"
      ],
      "id": "4b1223cb"
    },
    {
      "cell_type": "code",
      "execution_count": 15,
      "metadata": {
        "id": "2VOxfv0xv8gf"
      },
      "outputs": [],
      "source": [
        "[query_kps_orb, query_desc_orb, train_kps_orb, train_desc_orb] = generateAllDescriptorsAndKeypoints(query_imgs, train_imgs)"
      ],
      "id": "2VOxfv0xv8gf"
    },
    {
      "cell_type": "code",
      "execution_count": null,
      "metadata": {
        "colab": {
          "base_uri": "https://localhost:8080/"
        },
        "id": "03aa9edf",
        "outputId": "771d062b-e219-45cd-ccfe-1b77be9e6ef4"
      },
      "outputs": [
        {
          "name": "stdout",
          "output_type": "stream",
          "text": [
            "1563\n",
            "(1563, 32)\n",
            "[[ 45  45  17 ... 251  82 160]\n",
            " [ 13 220 255 ... 146  84 171]\n",
            " [203   4 103 ... 244 112 116]\n",
            " ...\n",
            " [211  13 119 ... 160 165 116]\n",
            " [224  98 157 ... 240 138  11]\n",
            " [162  43 172 ...  93  90 207]]\n"
          ]
        }
      ],
      "source": [
        "# Show some data\n",
        "print(len(query_kps_orb[0]))\n",
        "print(query_desc_orb[0].shape)\n",
        "print(query_desc_orb[0])"
      ],
      "id": "03aa9edf"
    },
    {
      "cell_type": "markdown",
      "metadata": {
        "id": "b3362cc8"
      },
      "source": [
        "Next, write a function called `build_db_lsh` to build a **standard** (*no multi-probe*) LSH index from a set of images:"
      ],
      "id": "b3362cc8"
    },
    {
      "cell_type": "code",
      "execution_count": 16,
      "metadata": {
        "id": "7f4e0e3e"
      },
      "outputs": [],
      "source": [
        "def build_db_lsh(descs, tables = 6, hash_size = 12):\n",
        "    \"\"\"\n",
        "    Index a set of images using LSH.    \n",
        "    \n",
        "    - descs: A list containing numpy arrays of size (~1500, 32). Each numpy array\n",
        "        i corresponds to the ORB descriptors found at image i.\n",
        "    - tables: Number of hash tables to create.\n",
        "    - hash_size: Hash length in bits.\n",
        "  \n",
        "    RETURN: \n",
        "    - index: The trained LSH index.\n",
        "    \"\"\"  \n",
        "    FLANN_INDEX_LSH = 6\n",
        "\n",
        "    index_params= dict(algorithm = FLANN_INDEX_LSH,\n",
        "                      table_number = tables,\n",
        "                      key_size = hash_size,    \n",
        "                      multi_probe_level = 0)\n",
        "    search_params = dict(checks=50) \n",
        "\n",
        "    flann = cv2.FlannBasedMatcher(index_params,search_params)\n",
        "\n",
        "    flann.add(descs)\n",
        "    flann.train()\n",
        "\n",
        "    return flann"
      ],
      "id": "7f4e0e3e"
    },
    {
      "cell_type": "code",
      "execution_count": null,
      "metadata": {
        "colab": {
          "base_uri": "https://localhost:8080/"
        },
        "id": "80ccfabe",
        "outputId": "69524691-cd44-4de4-ce9a-e7fa8f316181"
      },
      "outputs": [
        {
          "name": "stdout",
          "output_type": "stream",
          "text": [
            "2\n"
          ]
        }
      ],
      "source": [
        "# Simple example of DB construction\n",
        "index = build_db_lsh(train_desc_orb[0:2])\n",
        "print(len(index.getTrainDescriptors()))"
      ],
      "id": "80ccfabe"
    },
    {
      "cell_type": "markdown",
      "metadata": {
        "id": "e544ed8d"
      },
      "source": [
        "**Q4**: In the following cell compute the resulting **mAP** of the system **using 6 tables and a hash size of 12**:"
      ],
      "id": "e544ed8d"
    },
    {
      "cell_type": "code",
      "execution_count": 17,
      "metadata": {
        "id": "1a0ebcfb"
      },
      "outputs": [],
      "source": [
        "# Fill this variable with the resulting mAP\n",
        "mAP_lsh = 0.0\n",
        "\n",
        "index = build_db_lsh(train_desc_orb)\n",
        "results, mAP_lsh = compute_mAP(query_names, query_desc_orb, index, train_names, '../holidays/holidays_images.dat')"
      ],
      "id": "1a0ebcfb"
    },
    {
      "cell_type": "code",
      "execution_count": 18,
      "metadata": {
        "id": "c9716be7",
        "colab": {
          "base_uri": "https://localhost:8080/"
        },
        "outputId": "83db409b-44a9-44f1-f123-2ab3ecd980ae"
      },
      "outputs": [
        {
          "output_type": "stream",
          "name": "stdout",
          "text": [
            "mAP: 0.20091\n"
          ]
        }
      ],
      "source": [
        "print('mAP: %.5f' % mAP_lsh)"
      ],
      "id": "c9716be7"
    },
    {
      "cell_type": "markdown",
      "metadata": {
        "id": "1e599bd3"
      },
      "source": [
        "**Q5**: Are the results stable? Do you obtain always the same mAP? Why?"
      ],
      "id": "1e599bd3"
    },
    {
      "cell_type": "markdown",
      "metadata": {
        "id": "_SQjk0A9Pq0n"
      },
      "source": [
        "The results are stable with the same mAP being calculated with multiple attempts. The algorithms generate consistent and stable results across multiple runs because the nearest neighbors found for a particular query point will be the same each time the algorithm is run. "
      ],
      "id": "_SQjk0A9Pq0n"
    },
    {
      "cell_type": "code",
      "execution_count": null,
      "metadata": {
        "id": "DRKpT2SXxtnB"
      },
      "outputs": [],
      "source": [
        "_, mAP_lsh_attempt1 = compute_mAP(query_names, query_desc_orb, index, train_names, '../holidays/holidays_images.dat')\n",
        "\n",
        "_, mAP_lsh_attempt2 = compute_mAP(query_names, query_desc_orb, index, train_names, '../holidays/holidays_images.dat')\n",
        "\n",
        "_, mAP_lsh_attempt3 = compute_mAP(query_names, query_desc_orb, index, train_names, '../holidays/holidays_images.dat')"
      ],
      "id": "DRKpT2SXxtnB"
    },
    {
      "cell_type": "code",
      "execution_count": null,
      "metadata": {
        "colab": {
          "base_uri": "https://localhost:8080/",
          "height": 509
        },
        "id": "1oFBnECIx5LK",
        "outputId": "a84d869a-7020-4e44-d849-8cd1b52b8253"
      },
      "outputs": [
        {
          "name": "stdout",
          "output_type": "stream",
          "text": [
            "different mAPs for the same query:  0.1990713761710488 0.1990713761710488 0.1990713761710488\n"
          ]
        },
        {
          "data": {
            "image/png": "[encoded data removed]",
            "text/plain": [
              "<Figure size 640x480 with 1 Axes>"
            ]
          },
          "metadata": {},
          "output_type": "display_data"
        }
      ],
      "source": [
        "print(\"different mAPs for the same query: \", mAP_lsh_attempt1, mAP_lsh_attempt2, mAP_lsh_attempt3)\n",
        "values = [mAP_lsh_attempt1, mAP_lsh_attempt2, mAP_lsh_attempt3]\n",
        "labels = [\"attempt1\", \"attempt2\", \"attempt3\"]\n",
        "plot_chart(values, labels, \"mAP for exact same queries\", \"mAP\", \"attempts\")"
      ],
      "id": "1oFBnECIx5LK"
    },
    {
      "cell_type": "markdown",
      "metadata": {
        "id": "71126dfa"
      },
      "source": [
        "Write here the code required to answer the questions stated above. You can add more cells (code / markdown) at this point if you need it."
      ],
      "id": "71126dfa"
    },
    {
      "cell_type": "markdown",
      "metadata": {
        "id": "64381fca"
      },
      "source": [
        "**Q6**: Analyze the effect of changing the number of tables / hash size in terms of mAP and average response time. Some plots here can be useful to justify your answer."
      ],
      "id": "64381fca"
    },
    {
      "cell_type": "markdown",
      "metadata": {
        "id": "0juUHYzZP7cL"
      },
      "source": [
        "The summary is seen here (plots to support shown below)\n",
        "\n",
        "Response time effect:\n",
        "- It's seen as the hash size increases the time taken to query goes down.\n",
        "- It's seen as the number of tables increases the time to query goes up.\n",
        "\n",
        "\n",
        "mAP effect:\n",
        "- It's seen the increasing the hash size decreases the mAP.\n",
        "- It's seen that increasing the tables size seems to slightly increase the mAP.\n"
      ],
      "id": "0juUHYzZP7cL"
    },
    {
      "cell_type": "code",
      "execution_count": 19,
      "metadata": {
        "id": "PRqdKDQHy0A3"
      },
      "outputs": [],
      "source": [
        "import time\n",
        "start_time = time.time()\n",
        "index_table6_hash12 = build_db_lsh(train_desc_orb, tables = 6, hash_size =12)\n",
        "train_time_table6_hash12 = time.time() - start_time\n",
        "\n",
        "start_time = time.time()\n",
        "index_table6_hash14 = build_db_lsh(train_desc_orb, tables = 6, hash_size =14)\n",
        "train_time_table6_hash14 = time.time() - start_time\n",
        "\n",
        "start_time = time.time()\n",
        "index_table6_hash16 = build_db_lsh(train_desc_orb, tables = 6, hash_size =16)\n",
        "train_time_table6_hash16 = time.time() - start_time"
      ],
      "id": "PRqdKDQHy0A3"
    },
    {
      "cell_type": "code",
      "execution_count": 20,
      "metadata": {
        "id": "LOUnbyqmSAdi"
      },
      "outputs": [],
      "source": [
        "start_time = time.time()\n",
        "index_table8_hash12 = build_db_lsh(train_desc_orb, tables = 8, hash_size =12)\n",
        "train_time_table8_hash12 = time.time() - start_time\n",
        "\n",
        "start_time = time.time()\n",
        "index_table10_hash12 = build_db_lsh(train_desc_orb, tables = 10, hash_size =12)\n",
        "train_time_table10_hash12 = time.time() - start_time"
      ],
      "id": "LOUnbyqmSAdi"
    },
    {
      "cell_type": "markdown",
      "metadata": {
        "id": "yAPEOztqzLYX"
      },
      "source": [
        "mAP for changing hash number"
      ],
      "id": "yAPEOztqzLYX"
    },
    {
      "cell_type": "code",
      "execution_count": 21,
      "metadata": {
        "id": "6O6D6lJoIhyT"
      },
      "outputs": [],
      "source": [
        "_, mAP_lsh_table6_hash12 = compute_mAP(query_names, query_desc_orb, index_table6_hash12, train_names, '../holidays/holidays_images.dat')"
      ],
      "id": "6O6D6lJoIhyT"
    },
    {
      "cell_type": "code",
      "execution_count": 22,
      "metadata": {
        "id": "GxAMSZ-URDAr"
      },
      "outputs": [],
      "source": [
        "_, mAP_lsh_table6_hash14 = compute_mAP(query_names, query_desc_orb, index_table6_hash14, train_names, '../holidays/holidays_images.dat')"
      ],
      "id": "GxAMSZ-URDAr"
    },
    {
      "cell_type": "code",
      "execution_count": 23,
      "metadata": {
        "id": "EyMzx0KeRBNf"
      },
      "outputs": [],
      "source": [
        "_, mAP_lsh_table6_hash16 = compute_mAP(query_names, query_desc_orb, index_table6_hash16, train_names, '../holidays/holidays_images.dat')"
      ],
      "id": "EyMzx0KeRBNf"
    },
    {
      "cell_type": "markdown",
      "metadata": {
        "id": "YwiUVpooS0BN"
      },
      "source": [
        "mAP for changing table number"
      ],
      "id": "YwiUVpooS0BN"
    },
    {
      "cell_type": "code",
      "execution_count": 24,
      "metadata": {
        "id": "lqW50-GoIiwu"
      },
      "outputs": [],
      "source": [
        "_, mAP_lsh_table8_hash12 = compute_mAP(query_names, query_desc_orb, index_table8_hash12, train_names, '../holidays/holidays_images.dat')"
      ],
      "id": "lqW50-GoIiwu"
    },
    {
      "cell_type": "code",
      "execution_count": 25,
      "metadata": {
        "id": "xT68rEYeIkhw"
      },
      "outputs": [],
      "source": [
        "_, mAP_lsh_table10_hash12 = compute_mAP(query_names, query_desc_orb, index_table10_hash12, train_names, '../holidays/holidays_images.dat')"
      ],
      "id": "xT68rEYeIkhw"
    },
    {
      "cell_type": "code",
      "execution_count": 26,
      "metadata": {
        "id": "x_d9tyrpzWWg"
      },
      "outputs": [],
      "source": [
        "# Data for the bar chart\n",
        "mAP_scores_lsh_changing_tables = [mAP_lsh_table6_hash12, mAP_lsh_table8_hash12, mAP_lsh_table10_hash12]\n",
        "mAP_scores_lsh_changing_hash = [mAP_lsh_table6_hash12, mAP_lsh_table6_hash14, mAP_lsh_table6_hash16]\n",
        "mAP_scores_lsh_total = [mAP_lsh_table6_hash12, mAP_lsh_table8_hash12, mAP_lsh_table10_hash12, mAP_lsh_table6_hash14, mAP_lsh_table6_hash16]\n",
        "\n",
        "labels_lsh_changing_tables = ['table6_hash12', 'table8_hash12','table10_hash12']\n",
        "labels_lsh_changing_hash = ['table6_hash12', 'table6_hash14','table6_hash16']\n",
        "labels_lsh = ['table6_hash12', 'table8_hash12','table10_hash12','table6_hash14','table6_hash16']\n",
        "\n",
        "training_time_lsh_tables = [train_time_table6_hash12, train_time_table8_hash12, train_time_table10_hash12]\n",
        "training_time_lsh_hash= [train_time_table6_hash12, train_time_table6_hash14, train_time_table6_hash16]\n",
        "training_time_lsh = [train_time_table6_hash12, train_time_table8_hash12, train_time_table10_hash12, train_time_table6_hash14, train_time_table6_hash16]"
      ],
      "id": "x_d9tyrpzWWg"
    },
    {
      "cell_type": "code",
      "source": [
        "print(\"mAP_scores_lsh_total\", mAP_scores_lsh_total)\n",
        "print(\"training_time_lsh\", training_time_lsh)"
      ],
      "metadata": {
        "colab": {
          "base_uri": "https://localhost:8080/"
        },
        "id": "WQxIRTTyzq91",
        "outputId": "43bf0218-583a-4c14-ab4a-a21a3577646f"
      },
      "id": "WQxIRTTyzq91",
      "execution_count": 27,
      "outputs": [
        {
          "output_type": "stream",
          "name": "stdout",
          "text": [
            "mAP_scores_lsh_total [0.19304631122335333, 0.20667118016017863, 0.2287758162883553, 0.1733602955960106, 0.14263099239931917]\n",
            "training_time_lsh [0.7333700656890869, 1.357966423034668, 1.4565033912658691, 1.2837955951690674, 2.171107530593872]\n"
          ]
        }
      ]
    },
    {
      "cell_type": "markdown",
      "metadata": {
        "id": "k14WKvVwzMfh"
      },
      "source": [
        "Average response time calculation"
      ],
      "id": "k14WKvVwzMfh"
    },
    {
      "cell_type": "code",
      "execution_count": 28,
      "metadata": {
        "id": "mwoPNee7zKOe"
      },
      "outputs": [],
      "source": [
        "total_time_table6_hash12 = 0\n",
        "total_time_table6_hash14 = 0\n",
        "total_time_table6_hash16 = 0\n",
        "total_time_table8_hash12 = 0\n",
        "total_time_table10_hash12 = 0\n",
        "# Define the number of queries to run\n",
        "num_queries = 5\n",
        "\n",
        "# Loop through the queries\n",
        "for i in range(num_queries):\n",
        "    # Time how long the search take\n",
        "    start_time_table6_hash12 = time.time() \n",
        "    results_table6_hash12 = search_image(query_desc_orb[i], index_table6_hash12, train_names)\n",
        "    end_time_table6_hash12 = time.time()\n",
        "  \n",
        "    start_time_table6_hash14 = time.time()\n",
        "    results_table6_hash14 = search_image(query_desc_orb[i], index_table6_hash14, train_names)\n",
        "    end_time_table6_hash14 = time.time()\n",
        "\n",
        "    start_time_table6_hash16 = time.time()\n",
        "    results_table6_hash16 = search_image(query_desc_orb[i], index_table6_hash16, train_names)\n",
        "    end_time_table6_hash16 = time.time()\n",
        "\n",
        "    start_time_table8_hash12 = time.time()\n",
        "    results_table8_hash12 = search_image(query_desc_orb[i], index_table8_hash12, train_names)\n",
        "    end_time_table8_hash12 = time.time()\n",
        "\n",
        "    start_time_table10_hash12 = time.time()\n",
        "    results_table10_hash12 = search_image(query_desc_orb[i], index_table10_hash12, train_names)\n",
        "    end_time_table10_hash12 = time.time()\n",
        "\n",
        "\n",
        "    total_time_table6_hash12 += (end_time_table6_hash12 - start_time_table6_hash12)\n",
        "    total_time_table6_hash14 += (end_time_table6_hash14 - start_time_table6_hash14)\n",
        "    total_time_table6_hash16 += (end_time_table6_hash16 - start_time_table6_hash16)\n",
        "    total_time_table8_hash12 += (end_time_table8_hash12 - start_time_table8_hash12)\n",
        "    total_time_table10_hash12 += (end_time_table10_hash12 - start_time_table10_hash12)\n",
        "\n",
        "# Compute the average time taken\n",
        "avg_time_table6_hash12 = total_time_table6_hash12 / num_queries\n",
        "avg_time_table6_hash14 = total_time_table6_hash14 / num_queries\n",
        "avg_time_table6_hash16 = total_time_table6_hash16 / num_queries\n",
        "avg_time_table8_hash12 = total_time_table8_hash12 / num_queries\n",
        "avg_time_table10_hash12 = total_time_table10_hash12 / num_queries"
      ],
      "id": "mwoPNee7zKOe"
    },
    {
      "cell_type": "code",
      "execution_count": 29,
      "metadata": {
        "id": "5fjXeeRDzVem",
        "colab": {
          "base_uri": "https://localhost:8080/"
        },
        "outputId": "dc7b085d-66f1-46d3-e493-d5fc556464a8"
      },
      "outputs": [
        {
          "output_type": "stream",
          "name": "stdout",
          "text": [
            "avg_query_time_lsh:  [1.631845235824585, 0.537563419342041, 0.22275028228759766, 1.8914031028747558, 2.7919068813323973]\n"
          ]
        }
      ],
      "source": [
        "avg_query_time_lsh_hash = [avg_time_table6_hash12, avg_time_table6_hash14, avg_time_table6_hash16]\n",
        "avg_query_time_lsh_table = [avg_time_table6_hash12, avg_time_table8_hash12, avg_time_table10_hash12]\n",
        "avg_query_time_lsh = [avg_time_table6_hash12, avg_time_table6_hash14, avg_time_table6_hash16, avg_time_table8_hash12, avg_time_table10_hash12]\n",
        "print(\"avg_query_time_lsh: \", avg_query_time_lsh)"
      ],
      "id": "5fjXeeRDzVem"
    },
    {
      "cell_type": "markdown",
      "metadata": {
        "id": "04ubmvW0hVuf"
      },
      "source": [
        "Change response time when changing hash size. It's seen as the hash size increases the time taken to query goes down.\n",
        "\n"
      ],
      "id": "04ubmvW0hVuf"
    },
    {
      "cell_type": "code",
      "execution_count": null,
      "metadata": {
        "colab": {
          "base_uri": "https://localhost:8080/",
          "height": 472
        },
        "id": "50Pp2rb6g1WV",
        "outputId": "ac050644-89eb-493b-f6fb-d4c21c41a4c2"
      },
      "outputs": [
        {
          "data": {
            "image/png": "[encoded data removed]",
            "text/plain": [
              "<Figure size 640x480 with 1 Axes>"
            ]
          },
          "metadata": {},
          "output_type": "display_data"
        }
      ],
      "source": [
        "plot_chart(avg_query_time_lsh_hash, labels_lsh_changing_hash, \"Query times for diff hashes sizes for lsh\", \"different hashes sizes\", \"avg query time\")"
      ],
      "id": "50Pp2rb6g1WV"
    },
    {
      "cell_type": "markdown",
      "metadata": {
        "id": "Ncje6CrWbRHR"
      },
      "source": [
        "Changing response time when changing table size. It's seen as the number of tables increases the time to query goes up."
      ],
      "id": "Ncje6CrWbRHR"
    },
    {
      "cell_type": "code",
      "execution_count": null,
      "metadata": {
        "colab": {
          "base_uri": "https://localhost:8080/",
          "height": 472
        },
        "id": "1q8xZewshEBY",
        "outputId": "7498d788-a1ec-4b23-9f9d-cba085fc6865"
      },
      "outputs": [
        {
          "data": {
            "image/png": "[encoded data removed]",
            "text/plain": [
              "<Figure size 640x480 with 1 Axes>"
            ]
          },
          "metadata": {},
          "output_type": "display_data"
        }
      ],
      "source": [
        "plot_chart(avg_query_time_lsh_table, labels_lsh_changing_tables, \"Query times for diff tables sizes for lsh\", \"different table sizes\", \"avg query time\")"
      ],
      "id": "1q8xZewshEBY"
    },
    {
      "cell_type": "markdown",
      "metadata": {
        "id": "9JuMROqKPOpB"
      },
      "source": [
        "mAP for different hash sizes. It's seen the increasing the hash size decreases the mAP.\n",
        "\n"
      ],
      "id": "9JuMROqKPOpB"
    },
    {
      "cell_type": "code",
      "execution_count": null,
      "metadata": {
        "colab": {
          "base_uri": "https://localhost:8080/",
          "height": 472
        },
        "id": "WsvKWUX6PNva",
        "outputId": "f32282fa-ecf2-4819-a400-48619e9aa510"
      },
      "outputs": [
        {
          "data": {
            "image/png": "[encoded data removed]",
            "text/plain": [
              "<Figure size 640x480 with 1 Axes>"
            ]
          },
          "metadata": {},
          "output_type": "display_data"
        }
      ],
      "source": [
        "plot_chart(mAP_scores_lsh_changing_hash, labels_lsh_changing_hash, \"mAP for diff hash size\", \"mAP\", \"different hash size\")"
      ],
      "id": "WsvKWUX6PNva"
    },
    {
      "cell_type": "markdown",
      "metadata": {
        "id": "XGXwIONth63a"
      },
      "source": [
        "mAP for different table sizes. It's seen that increasing the tables size seems to slightly increase the mAP."
      ],
      "id": "XGXwIONth63a"
    },
    {
      "cell_type": "code",
      "execution_count": null,
      "metadata": {
        "colab": {
          "base_uri": "https://localhost:8080/",
          "height": 472
        },
        "id": "FT3EdUbJhqGe",
        "outputId": "918bdc2a-ab84-496a-95b0-053210dea5b3"
      },
      "outputs": [
        {
          "data": {
            "image/png": "[encoded data removed]",
            "text/plain": [
              "<Figure size 640x480 with 1 Axes>"
            ]
          },
          "metadata": {},
          "output_type": "display_data"
        }
      ],
      "source": [
        "plot_chart(mAP_scores_lsh_changing_tables, labels_lsh_changing_tables, \"mAP for diff table size\", \"mAP\", \"different table size\")"
      ],
      "id": "FT3EdUbJhqGe"
    },
    {
      "cell_type": "markdown",
      "metadata": {
        "id": "7978b7c4"
      },
      "source": [
        "Write here the code required to answer the questions stated above. You can add more cells (code / markdown) at this point if you need it."
      ],
      "id": "7978b7c4"
    },
    {
      "cell_type": "markdown",
      "metadata": {
        "id": "74726440"
      },
      "source": [
        "**Q7:** Despite the different descriptors used, compare the performance of the randomized k-d trees and LSH approaches from different points of view (accuracy, training times, querying times, ...). Some plots can be useful here to justify your answer."
      ],
      "id": "74726440"
    },
    {
      "cell_type": "markdown",
      "source": [
        "Comparison\n",
        "\n",
        "mAP:\n",
        "- the kdtree does better than lsh for mAP\n",
        "\n",
        "training time:\n",
        "- the training time for kdtree is longer than lsh\n",
        "\n",
        "avg query time:\n",
        "- lsh avg query time is greater than kdtree\n"
      ],
      "metadata": {
        "id": "QZqLoLojB3MH"
      },
      "id": "QZqLoLojB3MH"
    },
    {
      "cell_type": "markdown",
      "metadata": {
        "id": "p15uNZWm7udh"
      },
      "source": [
        "Comparison via mAP"
      ],
      "id": "p15uNZWm7udh"
    },
    {
      "cell_type": "code",
      "execution_count": 30,
      "metadata": {
        "colab": {
          "base_uri": "https://localhost:8080/",
          "height": 586
        },
        "id": "_-jcBJoY76lH",
        "outputId": "873dbb6a-f406-44c7-968a-dbf575d6050d"
      },
      "outputs": [
        {
          "output_type": "execute_result",
          "data": {
            "text/plain": [
              "<matplotlib.legend.Legend at 0x7f1731349240>"
            ]
          },
          "metadata": {},
          "execution_count": 30
        },
        {
          "output_type": "display_data",
          "data": {
            "text/plain": [
              "<Figure size 640x480 with 1 Axes>"
            ],
            "image/png": "[encoded data removed]"
          },
          "metadata": {}
        }
      ],
      "source": [
        "# Create a bar chart with both sets of mAP scores\n",
        "fig, ax = plt.subplots()\n",
        "plt.xticks(rotation=90)\n",
        "ax.bar(labels_kdtree, mAP_scores_kdtree, label='KD-tree')\n",
        "ax.bar(labels_lsh, mAP_scores_lsh_total, label='LSH')\n",
        "\n",
        "# Set the chart title, axis labels, and legend\n",
        "ax.set_title('mAP Scores for KD-tree and LSH')\n",
        "ax.set_xlabel('Indexing Algorithm')\n",
        "ax.set_ylabel('mAP Score')\n",
        "ax.legend()"
      ],
      "id": "_-jcBJoY76lH"
    },
    {
      "cell_type": "markdown",
      "metadata": {
        "id": "--p0zRaU7-HP"
      },
      "source": [
        "Comparison via Train times"
      ],
      "id": "--p0zRaU7-HP"
    },
    {
      "cell_type": "code",
      "execution_count": 31,
      "metadata": {
        "id": "b6aAEBB_8Awd",
        "colab": {
          "base_uri": "https://localhost:8080/",
          "height": 586
        },
        "outputId": "b4e8b883-a48a-4d08-ad31-b764403efaa1"
      },
      "outputs": [
        {
          "output_type": "execute_result",
          "data": {
            "text/plain": [
              "<matplotlib.legend.Legend at 0x7f17313a2380>"
            ]
          },
          "metadata": {},
          "execution_count": 31
        },
        {
          "output_type": "display_data",
          "data": {
            "text/plain": [
              "<Figure size 640x480 with 1 Axes>"
            ],
            "image/png": "[encoded data removed]"
          },
          "metadata": {}
        }
      ],
      "source": [
        "# Create a bar chart with both sets of mAP scores\n",
        "fig, ax = plt.subplots()\n",
        "plt.xticks(rotation=90)\n",
        "ax.bar(labels_kdtree, train_time_kdtree, label='KD-tree')\n",
        "ax.bar(labels_lsh, training_time_lsh, label='LSH')\n",
        "\n",
        "# Set the chart title, axis labels, and legend\n",
        "ax.set_title('Training time for KD-tree and LSH')\n",
        "ax.set_xlabel('Indexing Algorithm')\n",
        "ax.set_ylabel('Training time')\n",
        "ax.legend()"
      ],
      "id": "b6aAEBB_8Awd"
    },
    {
      "cell_type": "markdown",
      "metadata": {
        "id": "kPu4MRMQ8Evo"
      },
      "source": [
        "Comparison via Query times"
      ],
      "id": "kPu4MRMQ8Evo"
    },
    {
      "cell_type": "code",
      "execution_count": 32,
      "metadata": {
        "id": "DGZK8I3mlH1b"
      },
      "outputs": [],
      "source": [
        "avg_query_time_lsh_total = [avg_time_table6_hash12, avg_time_table6_hash14, avg_time_table6_hash16, avg_time_table8_hash12, avg_time_table10_hash12]"
      ],
      "id": "DGZK8I3mlH1b"
    },
    {
      "cell_type": "code",
      "execution_count": 33,
      "metadata": {
        "id": "sDbp7Kvc8J65",
        "colab": {
          "base_uri": "https://localhost:8080/",
          "height": 586
        },
        "outputId": "5d9fffcd-b9d2-4d02-a163-dd531fc42eb2"
      },
      "outputs": [
        {
          "output_type": "execute_result",
          "data": {
            "text/plain": [
              "<matplotlib.legend.Legend at 0x7f1731247370>"
            ]
          },
          "metadata": {},
          "execution_count": 33
        },
        {
          "output_type": "display_data",
          "data": {
            "text/plain": [
              "<Figure size 640x480 with 1 Axes>"
            ],
            "image/png": "[encoded data removed]"
          },
          "metadata": {}
        }
      ],
      "source": [
        "# Create a bar chart with both sets of mAP scores\n",
        "fig, ax = plt.subplots()\n",
        "plt.xticks(rotation=90)\n",
        "ax.bar(labels_kdtree, avg_query_times_kdtree, label='KD-tree')\n",
        "ax.bar(labels_lsh, avg_query_time_lsh_total, label='LSH')\n",
        "\n",
        "# Set the chart title, axis labels, and legend\n",
        "ax.set_title('Average query times for KD-tree and LSH')\n",
        "ax.set_xlabel('Indexing Algorithm')\n",
        "ax.set_ylabel('Average query time')\n",
        "ax.legend()"
      ],
      "id": "sDbp7Kvc8J65"
    },
    {
      "cell_type": "markdown",
      "metadata": {
        "id": "3cf65981"
      },
      "source": [
        "Write here the code required to answer the questions stated above. You can add more cells (code / markdown) at this point if you need it."
      ],
      "id": "3cf65981"
    },
    {
      "cell_type": "markdown",
      "metadata": {
        "id": "d5d89bb5"
      },
      "source": [
        "## Bag-of-Words\n",
        "In this section, you will implement the Bag-of-Words (BoW) model for image retrieval. Additionally, you will also implement the TF-IDF scoring scheme."
      ],
      "id": "d5d89bb5"
    },
    {
      "cell_type": "markdown",
      "metadata": {
        "id": "9b174ede"
      },
      "source": [
        "### Download visual dictionaries\n",
        "To use a BoW model, first we need a visual vocabulary. The authors of the INRIA Holidays dataset provide some visual vocabularies, trained using a clustering method (e.g. $k$-means) in a different dataset (Flickr60K).\n",
        "\n",
        "First, download these vocabularies from [here](https://uibes-my.sharepoint.com/:u:/g/personal/egf350_id_uib_es/EY1G011OvfJOnwqWQQzmHmgBkXhLHBaK00wdizsUT252dw).\n",
        "\n",
        "> **Unzip this file into the root directory of the development kit, at the same level of the datasets.**\n",
        "\n",
        "A folder named `clust` is now available in your workspace, containing visual vocabularies of 100, 200, 500, 1K, 2K, 5K, 10K, 20K, 50K, 100K and 200K visual words. Again, these are binary files, and therefore we provide you with functions to load and index them:"
      ],
      "id": "9b174ede"
    },
    {
      "cell_type": "code",
      "execution_count": null,
      "metadata": {
        "id": "e26fefdc"
      },
      "outputs": [],
      "source": [
        "voc = rd.load_visual_vocab(\"../clust/clust_flickr60_k200.fvecs\", ntrees=4)"
      ],
      "id": "e26fefdc"
    },
    {
      "cell_type": "markdown",
      "metadata": {
        "id": "97d05851"
      },
      "source": [
        "With this function, the corresponding vocabulary is read. Additionally, a FLANN index structure based on kd-trees is built and returned using the centroids. This is to allow a fast access when searching for the closest visual words in the vocabulary. More precisely, in this example, 4 trees are constructed using the vocabulary of 200 centroids. Now, given a query descriptor(s), you can use `match` or `knnMatch` methods as usual to search for the closest (approximate) visual word(s) in the vocabulary."
      ],
      "id": "97d05851"
    },
    {
      "cell_type": "markdown",
      "metadata": {
        "id": "95ccb141"
      },
      "source": [
        "### BoW and Inverted File\n",
        "Now, write a class called `BoW` to manage the indexing procedure. This class should make use, in addition to the visual vocabulary, an inverted file to compute similarity scores between images. Apart from the class constructor, write three methods: `build_db`, `search_image` and `compute_mAP`:"
      ],
      "id": "95ccb141"
    },
    {
      "cell_type": "code",
      "execution_count": null,
      "metadata": {
        "id": "802ae103"
      },
      "outputs": [],
      "source": [
        "class BoW:\n",
        "    \"\"\"\n",
        "    Class to implement the BoW model + Inverted File.\n",
        "    \"\"\"\n",
        "  \n",
        "    def __init__(self, vocab_file):\n",
        "        \"\"\"\n",
        "        Class constructor. It loads the vocabulary and initializes other stuff\n",
        "        required for the CBIR system, such as the inverted file structure.\n",
        "        \"\"\"\n",
        "        self.vocab = rd.load_visual_vocab(vocab_file)\n",
        "        self.nwords = self.vocab.getTrainDescriptors()[0].shape[0]\n",
        "        self.train_names = []\n",
        "        self.inv_list = {word_id: {} for word_id in range(self.nwords)}\n",
        "\n",
        "    def build_db(self, img_names, img_descs):\n",
        "        \"\"\"\n",
        "        Build an index from a set of images. Essentially, for each image, you should\n",
        "        search its descriptors in the index in order to find the closest visual words\n",
        "        and fill the inverted file structure consequently.\n",
        "    \n",
        "        - img_names: An ordered list with the names of the train images\n",
        "        - img_descs: A list containing numpy arrays. Each numpy array i corresponds \n",
        "          to the descriptors found at image i\n",
        "        \"\"\"\n",
        "        # YOUR CODE HERE\n",
        "        raise NotImplementedError()\n",
        "\n",
        "    def search_image(self, descs):\n",
        "        \"\"\"\n",
        "        Search an image in the index.\n",
        "      \n",
        "        - descs: A numpy array. It is the set descriptors extracted from the query image.\n",
        "    \n",
        "        RETURN:\n",
        "        - An ordered list of similar images, e.g.: ['100101.jpg', '100202.jpg', ...]\n",
        "        \"\"\"\n",
        "        # YOUR CODE HERE\n",
        "        raise NotImplementedError()\n",
        "        \n",
        "    def compute_mAP(self, query_names, query_descs):\n",
        "        \"\"\"\n",
        "        Perform a search for a list of query images against the database and evaluates\n",
        "        the performance of the system.\n",
        "        \n",
        "        - query_names: An ordered list with the names of query images\n",
        "        - query_descs: A list containing numpy arrays of size (ndesc_for_this_image, 128). \n",
        "              Each numpy array i corresponds to the descriptors found at image i.\n",
        "\n",
        "        RETURN:\n",
        "        - total_results: A dictionary containing, for each query image, an ordered list of the retrieved images.\n",
        "        - m_ap: Mean Average Precision averaged over all queries.\n",
        "        \"\"\"\n",
        "        total_results = {}\n",
        "        m_ap = 0.0\n",
        "\n",
        "        # YOUR CODE HERE\n",
        "        raise NotImplementedError()\n",
        "        \n",
        "        return total_results, m_ap"
      ],
      "id": "802ae103"
    },
    {
      "cell_type": "code",
      "execution_count": null,
      "metadata": {
        "id": "efd007f2"
      },
      "outputs": [],
      "source": [
        "# Example of use\n",
        "index = BoW('../clust/clust_flickr60_k200.fvecs')\n",
        "index.build_db(train_names[0:2], train_desc[0:2])"
      ],
      "id": "efd007f2"
    },
    {
      "cell_type": "code",
      "execution_count": null,
      "metadata": {
        "id": "b12b2730"
      },
      "outputs": [],
      "source": [
        "res = index.search_image(query_desc[0])\n",
        "print(res)"
      ],
      "id": "b12b2730"
    },
    {
      "cell_type": "code",
      "execution_count": null,
      "metadata": {
        "id": "1661e449"
      },
      "outputs": [],
      "source": [
        "results, mAP = index.compute_mAP(query_names, query_desc)\n",
        "print(results)\n",
        "print(mAP)"
      ],
      "id": "1661e449"
    },
    {
      "cell_type": "markdown",
      "metadata": {
        "id": "a5046a9c"
      },
      "source": [
        "**Q8**: In the following cell compute the resulting mAP of the system **using the vocabularies of 200, 2K, 20K and 200K visual words**:"
      ],
      "id": "a5046a9c"
    },
    {
      "cell_type": "code",
      "execution_count": null,
      "metadata": {
        "id": "c8901aab"
      },
      "outputs": [],
      "source": [
        "# Fill these variables with the resulting mAP\n",
        "mAP_200  = 0.0\n",
        "mAP_2K   = 0.0\n",
        "mAP_20K  = 0.0\n",
        "mAP_200K = 0.0\n",
        "\n",
        "# YOUR CODE HERE\n",
        "raise NotImplementedError()"
      ],
      "id": "c8901aab"
    },
    {
      "cell_type": "code",
      "execution_count": null,
      "metadata": {
        "id": "9c1ed565"
      },
      "outputs": [],
      "source": [
        "print('mAP 200: %.5f' % mAP_200)\n",
        "print('mAP 2K: %.5f' % mAP_2K)\n",
        "print('mAP 20K: %.5f' % mAP_20K)\n",
        "print('mAP 200K: %.5f' % mAP_200K)"
      ],
      "id": "9c1ed565"
    },
    {
      "cell_type": "markdown",
      "metadata": {
        "id": "5e818e7c"
      },
      "source": [
        "**Q9**: Compare the performances obtained on each case. Is a larger vocabulary size always better? Why or why not?"
      ],
      "id": "5e818e7c"
    },
    {
      "cell_type": "markdown",
      "metadata": {
        "id": "f6015870"
      },
      "source": [
        "Write here the code required to answer the questions stated above. You can add more cells (code / markdown) at this point if you need it."
      ],
      "id": "f6015870"
    },
    {
      "cell_type": "markdown",
      "metadata": {
        "id": "7b582757"
      },
      "source": [
        "**Q10**: Analyze the effect of the vocabulary size in terms of mAP and average response time (train and query times). Are these times constant for each vocabulary? Some plots here can be useful to justify your answer."
      ],
      "id": "7b582757"
    },
    {
      "cell_type": "markdown",
      "metadata": {
        "id": "a7695e01"
      },
      "source": [
        "Write here the code required to answer the questions stated above. You can add more cells (code / markdown) at this point if you need it."
      ],
      "id": "a7695e01"
    },
    {
      "cell_type": "markdown",
      "metadata": {
        "id": "b98f5416"
      },
      "source": [
        "**Q11**: Do the results obtained depend on the set of images used to generate the vocabulary? How can we improve the retrieval performance?"
      ],
      "id": "b98f5416"
    },
    {
      "cell_type": "markdown",
      "metadata": {
        "id": "a7345924"
      },
      "source": [
        "Write here the code required to answer the questions stated above. You can add more cells (code / markdown) at this point if you need it."
      ],
      "id": "a7345924"
    },
    {
      "cell_type": "markdown",
      "metadata": {
        "id": "28efbead"
      },
      "source": [
        "### TF-IDF\n",
        "As a final task of this assignment, let's implement the TF-IDF scoring scheme. Modify the `BoW` class you wrote before to include the TF-IDF weighting scheme:"
      ],
      "id": "28efbead"
    },
    {
      "cell_type": "code",
      "execution_count": null,
      "metadata": {
        "id": "593cafcc"
      },
      "outputs": [],
      "source": [
        "class BoW_TFIDF:\n",
        "    \"\"\"\n",
        "    Class to implement the BoW model + Inverted File + TF-IDF Scoring scheme\n",
        "    \"\"\"\n",
        "  \n",
        "    def __init__(self, vocab_file):\n",
        "        \"\"\"\n",
        "        Class constructor. It loads the vocabulary and initializes other stuff\n",
        "        required for the CBIR system, such as the inverted file structure.\n",
        "        \"\"\"\n",
        "        self.vocab = rd.load_visual_vocab(vocab_file)\n",
        "        self.nwords = self.vocab.getTrainDescriptors()[0].shape[0]\n",
        "        self.train_names = []\n",
        "        self.inv_list = {word_id: {} for word_id in range(self.nwords)}        \n",
        "        self.tfidf = {}\n",
        "\n",
        "    def build_db(self, img_names, img_descs):\n",
        "        \"\"\"\n",
        "        Build an index from a set of images. Essentially, for each image, you should\n",
        "        search its descriptors in the index in order to find the closest visual words\n",
        "        and fill the inverted file structure consequently. Additionally, TF and IDF terms\n",
        "        should be computed here.\n",
        "    \n",
        "        - img_names: An ordered list with the names of the train images\n",
        "        - img_descs: A list containing numpy arrays. Each numpy array i corresponds \n",
        "          to the descriptors found at image i\n",
        "        \"\"\"\n",
        "        # YOUR CODE HERE\n",
        "        raise NotImplementedError()\n",
        "\n",
        "    def search_image(self, descs):\n",
        "        \"\"\"\n",
        "        Search an image in the index. Use the TF-IDF here when scoring the images.\n",
        "      \n",
        "        - descs: A numpy array. It is the set descriptors extracted from the query image.\n",
        "    \n",
        "        RETURN:\n",
        "        - An ordered list of similar images, e.g.: ['100101.jpg', '100202.jpg', ...]\n",
        "        \"\"\"\n",
        "        # YOUR CODE HERE\n",
        "        raise NotImplementedError()\n",
        "        \n",
        "    def compute_mAP(self, query_names, query_descs):\n",
        "        \"\"\"\n",
        "        Perform a search for a list of query images against the database and evaluates\n",
        "        the performance of the system.\n",
        "        \n",
        "        - query_names: An ordered list with the names of query images\n",
        "        - query_descs: A list containing numpy arrays of size (ndesc_for_this_image, 128). \n",
        "              Each numpy array i corresponds to the descriptors found at image i.\n",
        "\n",
        "        RETURN:\n",
        "        - total_results: A dictionary containing, for each query image, an ordered list of the retrieved images.\n",
        "        - m_ap: Mean Average Precision averaged over all queries.\n",
        "        \"\"\"\n",
        "        total_results = {}\n",
        "        m_ap = 0.0\n",
        "\n",
        "        # YOUR CODE HERE\n",
        "        raise NotImplementedError()\n",
        "        \n",
        "        return total_results, m_ap"
      ],
      "id": "593cafcc"
    },
    {
      "cell_type": "code",
      "execution_count": null,
      "metadata": {
        "id": "b50bb6a4"
      },
      "outputs": [],
      "source": [
        "# Example of use\n",
        "index = BoW_TFIDF('../clust/clust_flickr60_k200.fvecs')\n",
        "index.build_db(train_names[0:2], train_desc[0:2])"
      ],
      "id": "b50bb6a4"
    },
    {
      "cell_type": "code",
      "execution_count": null,
      "metadata": {
        "id": "6de5068e"
      },
      "outputs": [],
      "source": [
        "res = index.search_image(query_desc[0])\n",
        "print(res)"
      ],
      "id": "6de5068e"
    },
    {
      "cell_type": "markdown",
      "metadata": {
        "id": "a554f0a8"
      },
      "source": [
        "**Q12**: In the following cell compute the resulting mAP of the system **using the vocabularies of 200, 2K, 20K and 200K visual words**:"
      ],
      "id": "a554f0a8"
    },
    {
      "cell_type": "code",
      "execution_count": null,
      "metadata": {
        "id": "6307706a"
      },
      "outputs": [],
      "source": [
        "# Fill these variables with the resulting mAP\n",
        "mAP_200  = 0.0\n",
        "mAP_2K   = 0.0\n",
        "mAP_20K  = 0.0\n",
        "mAP_200K = 0.0\n",
        "\n",
        "# YOUR CODE HERE\n",
        "raise NotImplementedError()"
      ],
      "id": "6307706a"
    },
    {
      "cell_type": "code",
      "execution_count": null,
      "metadata": {
        "id": "ba4761f6"
      },
      "outputs": [],
      "source": [
        "print('mAP 200: %.5f' % mAP_200)\n",
        "print('mAP 2K: %.5f' % mAP_2K)\n",
        "print('mAP 20K: %.5f' % mAP_20K)\n",
        "print('mAP 200K: %.5f' % mAP_200K)"
      ],
      "id": "ba4761f6"
    },
    {
      "cell_type": "markdown",
      "metadata": {
        "id": "1aa3cf87"
      },
      "source": [
        "**Q13:** Compare the performances obtained on each case. Is a larger vocabulary size always better? Why or why not?"
      ],
      "id": "1aa3cf87"
    },
    {
      "cell_type": "markdown",
      "metadata": {
        "id": "65d6852c"
      },
      "source": [
        "Write here the code required to answer the questions stated above. You can add more cells (code / markdown) at this point if you need it."
      ],
      "id": "65d6852c"
    },
    {
      "cell_type": "markdown",
      "metadata": {
        "id": "752ac143"
      },
      "source": [
        "**Q14**: Analyze the effect of the vocabulary size in terms of mAP and average response time (train and query times). Are these times constant for each vocabulary? Some plots here can be useful to justify your answer."
      ],
      "id": "752ac143"
    },
    {
      "cell_type": "markdown",
      "metadata": {
        "id": "c07db06d"
      },
      "source": [
        "Write here the code required to answer the questions stated above. You can add more cells (code / markdown) at this point if you need it."
      ],
      "id": "c07db06d"
    },
    {
      "cell_type": "markdown",
      "metadata": {
        "id": "efc83c87"
      },
      "source": [
        "**Q15**: Do the results obtained depend on the set of images used to generate the vocabulary? How can we improve the retrieval performance?"
      ],
      "id": "efc83c87"
    },
    {
      "cell_type": "markdown",
      "metadata": {
        "id": "61429d22"
      },
      "source": [
        "Write here the code required to answer the questions stated above. You can add more cells (code / markdown) at this point if you need it."
      ],
      "id": "61429d22"
    },
    {
      "cell_type": "markdown",
      "metadata": {
        "id": "6465cfb0"
      },
      "source": [
        "**Q16:** How does TF-IDF affect the performance? Better or worse? Does this make sense?"
      ],
      "id": "6465cfb0"
    },
    {
      "cell_type": "markdown",
      "metadata": {
        "id": "4b193d85"
      },
      "source": [
        "Write here the code required to answer the questions stated above. You can add more cells (code / markdown) at this point if you need it."
      ],
      "id": "4b193d85"
    },
    {
      "cell_type": "markdown",
      "metadata": {
        "id": "8b3b83bc"
      },
      "source": [
        "## Submitting your work\n",
        "\n",
        "**Important**: Please make sure that the submitted notebooks have been run and the cell outputs are visible.\n",
        "\n",
        "**Important**: Please make also sure that you have filled the **NAME** and **DNI** variables at the beginning of the notebook, **using the indicated format**.\n",
        "\n",
        "Once you have filled out the necessary code and you are happy with your solution, **save your notebook** and execute the following cell:"
      ],
      "id": "8b3b83bc"
    },
    {
      "cell_type": "code",
      "execution_count": null,
      "metadata": {
        "id": "0ef0d318"
      },
      "outputs": [],
      "source": [
        "zip_filename = DNI + '_A2.zip'\n",
        "zf = zipfile.ZipFile(zip_filename, mode = 'w')\n",
        "\n",
        "aname = 'submitted/' + DNI + '/A2/Image_Indexing.ipynb'\n",
        "zf.write('Image_Indexing.ipynb', arcname = aname);\n",
        "\n",
        "zf.close()"
      ],
      "id": "0ef0d318"
    },
    {
      "cell_type": "markdown",
      "metadata": {
        "id": "f06aa9d3"
      },
      "source": [
        "This will generate a zip file of your code called `DNI_A2.zip` in the same directory of the assignment. This is the file that you must upload to [Aula Digital](https://uibdigital.uib.es/) to submit your work!"
      ],
      "id": "f06aa9d3"
    },
    {
      "cell_type": "markdown",
      "metadata": {
        "id": "55cb8ca9"
      },
      "source": [
        "---\n",
        "\n",
        "&copy; Emilio Garcia-Fidalgo, University of the Balearic Islands"
      ],
      "id": "55cb8ca9"
    }
  ],
  "metadata": {
    "colab": {
      "provenance": [],
      "include_colab_link": true
    },
    "kernelspec": {
      "display_name": "Python 3 (ipykernel)",
      "language": "python",
      "name": "python3"
    },
    "language_info": {
      "codemirror_mode": {
        "name": "ipython",
        "version": 3
      },
      "file_extension": ".py",
      "mimetype": "text/x-python",
      "name": "python",
      "nbconvert_exporter": "python",
      "pygments_lexer": "ipython3",
      "version": "3.9.7"
    }
  },
  "nbformat": 4,
  "nbformat_minor": 5
}