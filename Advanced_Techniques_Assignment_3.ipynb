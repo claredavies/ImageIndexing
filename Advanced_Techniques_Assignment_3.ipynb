{
  "cells": [
    {
      "cell_type": "markdown",
      "metadata": {
        "id": "view-in-github",
        "colab_type": "text"
      },
      "source": [
        "<a href=\"https://colab.research.google.com/github/claredavies/ImageIndexing/blob/main/Advanced_Techniques_Assignment_3.ipynb\" target=\"_parent\"><img src=\"https://colab.research.google.com/assets/colab-badge.svg\" alt=\"Open In Colab\"/></a>"
      ]
    },
    {
      "cell_type": "markdown",
      "id": "c1b4876a",
      "metadata": {
        "deletable": false,
        "editable": false,
        "nbgrader": {
          "cell_type": "markdown",
          "checksum": "b361c569619c5777091368813c9298fb",
          "grade": false,
          "grade_id": "cell_head_1",
          "locked": true,
          "schema_version": 3,
          "solution": false,
          "task": false
        },
        "id": "c1b4876a"
      },
      "source": [
        "# 11762 Content-Based Image Retrieval\n",
        "## Master's Degree in Intelligent Systems\n",
        "### University of the Balearic Islands\n",
        "\n",
        "---\n",
        "\n",
        "**Before you turn this problem in, please put your full names and DNIs (or NIEs) below, and execute the cell:**"
      ]
    },
    {
      "cell_type": "code",
      "execution_count": 1,
      "id": "d2d1ee2d",
      "metadata": {
        "id": "d2d1ee2d"
      },
      "outputs": [],
      "source": [
        "NAME  = \"Clare Davies\"\n",
        "DNI   = \"PL5527043\""
      ]
    },
    {
      "cell_type": "code",
      "source": [
        "from google.colab import drive\n",
        "drive.mount('/content/drive/')"
      ],
      "metadata": {
        "colab": {
          "base_uri": "https://localhost:8080/"
        },
        "id": "ucTpN7Nu7ABm",
        "outputId": "33e56c6f-e3f3-4994-a1b4-3e71d10d85fc"
      },
      "id": "ucTpN7Nu7ABm",
      "execution_count": 2,
      "outputs": [
        {
          "output_type": "stream",
          "name": "stdout",
          "text": [
            "Mounted at /content/drive/\n"
          ]
        }
      ]
    },
    {
      "cell_type": "code",
      "source": [
        "%cd drive/MyDrive/ImageIndexing/iric_dev_kit"
      ],
      "metadata": {
        "colab": {
          "base_uri": "https://localhost:8080/"
        },
        "id": "q_AoMPrM7ApH",
        "outputId": "08903bfb-f4c6-48b6-b963-5a5b085f6322"
      },
      "id": "q_AoMPrM7ApH",
      "execution_count": 3,
      "outputs": [
        {
          "output_type": "stream",
          "name": "stdout",
          "text": [
            "/content/drive/MyDrive/ImageIndexing/iric_dev_kit\n"
          ]
        }
      ]
    },
    {
      "cell_type": "markdown",
      "id": "6d05aa9e",
      "metadata": {
        "deletable": false,
        "editable": false,
        "nbgrader": {
          "cell_type": "markdown",
          "checksum": "6e99971bb70936fbf488fd64ed0c1efa",
          "grade": false,
          "grade_id": "cell_head_2",
          "locked": true,
          "schema_version": 3,
          "solution": false,
          "task": false
        },
        "id": "6d05aa9e"
      },
      "source": [
        "Make sure you fill in any place that says `YOUR CODE HERE` or `YOUR ANSWER HERE`. **Justify** all of your answers, **graphically** wherever possible. Remember that this notebook will be considered as a report to the work done during the assignment.\n",
        "\n",
        "---"
      ]
    },
    {
      "cell_type": "code",
      "execution_count": 4,
      "id": "05c0ec04",
      "metadata": {
        "deletable": false,
        "editable": false,
        "nbgrader": {
          "cell_type": "code",
          "checksum": "20a5c47f6bb9d8cd5e66d23e3c5e7ef4",
          "grade": false,
          "grade_id": "cell-c3d4cadbc41f26fb",
          "locked": true,
          "schema_version": 3,
          "solution": false,
          "task": false
        },
        "id": "05c0ec04"
      },
      "outputs": [],
      "source": [
        "# Setup code for this assignment\n",
        "import cv2\n",
        "import math\n",
        "import numpy as np\n",
        "import os\n",
        "import scipy.cluster.vq as vq\n",
        "import tqdm\n",
        "import zipfile\n",
        "\n",
        "## Adding parent folder to find other libs\n",
        "import sys\n",
        "if \"..\" not in sys.path:\n",
        "    sys.path.insert(0,\"..\")\n",
        "    \n",
        "import iric_utils.eval_holidays as ev\n",
        "import iric_utils.read_descriptors as rd\n",
        "\n",
        "# Configuring Matplotlib\n",
        "from matplotlib import pyplot as plt\n",
        "%matplotlib inline"
      ]
    },
    {
      "cell_type": "markdown",
      "id": "089c7f13",
      "metadata": {
        "deletable": false,
        "editable": false,
        "nbgrader": {
          "cell_type": "markdown",
          "checksum": "c5e211b475b088e5bbf4e9341e5c56ab",
          "grade": false,
          "grade_id": "cell-d55ea684dc7f6d83",
          "locked": true,
          "schema_version": 3,
          "solution": false,
          "task": false
        },
        "id": "089c7f13"
      },
      "source": [
        "## Introduction\n",
        "---\n",
        "The main goal of this assigment is to implement a complete CBIR system using VLAD, as image descriptor, in combination with Product Quantization (PQ), as indexing method. You will also experiment with a simple search reranking method.\n",
        "\n",
        "In this assigment, images will be described using the following steps:\n",
        "- Load a set of SIFT features for each image.\n",
        "- Aggregate these features into a VLAD vector.\n",
        "- (Optionally) Apply dimensionality reduction using PCA.\n",
        "\n",
        "Next, using the computed VLAD vectors, an index of images will be built by using PQ:\n",
        "- Build a set of quantizers (small vocabularies).\n",
        "- Encode database images using these quantizers.\n",
        "- Search query images in the index using the Asymmetric Distance Computation (ADC) approach to measure the system performance.\n",
        "\n",
        "As usual during this course, we will use the [INRIA Holidays](http://lear.inrialpes.fr/people/jegou/data.php) dataset. **Check previous assignments to further information about this dataset.**\n",
        "\n",
        "We also need the provided script to evaluate a CBIR system on this dataset. Remember that the performance is measured computing the **mean average precision** (mAP) over all queries. **Check also previous assignments to remember how to use this script and the different functions it offers.**"
      ]
    },
    {
      "cell_type": "markdown",
      "id": "d119c73f",
      "metadata": {
        "deletable": false,
        "editable": false,
        "nbgrader": {
          "cell_type": "markdown",
          "checksum": "328a5d81a7c47d9e2ca31dd1f97b0ddc",
          "grade": false,
          "grade_id": "cell-404d56f0636d62ac",
          "locked": true,
          "schema_version": 3,
          "solution": false,
          "task": false
        },
        "id": "d119c73f"
      },
      "source": [
        "### Loading images\n",
        "As we did in previous assignments, for managing images, we will create four lists:\n",
        "- **`query_names`**: File names of the *query* images\n",
        "- **`query_imgs`**: *Query* images loaded using OpenCV\n",
        "- **`train_names`**: File names of the *train* (database) images\n",
        "- **`train_imgs`**: *Train* images loaded using OpenCV\n",
        "\n",
        "In this assignment, we will use the original INRIA Holidays dataset:"
      ]
    },
    {
      "cell_type": "code",
      "source": [
        "def plot_chart(values, labels, title, xlabel, ylabel):\n",
        "  fig, ax = plt.subplots()\n",
        "  ax.bar(labels, values)\n",
        "\n",
        "  ax.set_title(title)\n",
        "  ax.set_xlabel(xlabel)\n",
        "  ax.set_ylabel(ylabel)\n",
        "\n",
        "  plt.show()"
      ],
      "metadata": {
        "id": "a56XcTtZJ1WH"
      },
      "id": "a56XcTtZJ1WH",
      "execution_count": 5,
      "outputs": []
    },
    {
      "cell_type": "code",
      "source": [
        "def plot_comparison_chart(labels_1, labels_2, values_1, values_2, label_name_1, label_name_2, x_label, y_label, title):\n",
        "  # Create a bar chart with both sets of mAP scores\n",
        "  fig, ax = plt.subplots()\n",
        "  plt.xticks(rotation=90)\n",
        "  ax.bar(labels_1, values_1, label=label_name_1)\n",
        "  ax.bar(labels_2, values_2, label=label_name_2)\n",
        "\n",
        "  # Set the chart title, axis labels, and legend\n",
        "  ax.set_title(title)\n",
        "  ax.set_xlabel(x_label)\n",
        "  ax.set_ylabel(y_label)\n",
        "  ax.legend(loc='center left', bbox_to_anchor=(1, 0.5))\n",
        "  plt.show()"
      ],
      "metadata": {
        "id": "PMLhVgCkJ8aM"
      },
      "id": "PMLhVgCkJ8aM",
      "execution_count": 6,
      "outputs": []
    },
    {
      "cell_type": "code",
      "execution_count": 7,
      "id": "efb60a66",
      "metadata": {
        "deletable": false,
        "editable": false,
        "nbgrader": {
          "cell_type": "code",
          "checksum": "9c638a8490d3e44502d8f4faee4e8916",
          "grade": false,
          "grade_id": "cell-56d379a70cbf33d7",
          "locked": true,
          "schema_version": 3,
          "solution": false,
          "task": false
        },
        "colab": {
          "base_uri": "https://localhost:8080/"
        },
        "id": "efb60a66",
        "outputId": "b2caa704-22a6-40e5-c1f1-2253f8891947"
      },
      "outputs": [
        {
          "output_type": "stream",
          "name": "stdout",
          "text": [
            "500\n",
            "991\n"
          ]
        }
      ],
      "source": [
        "# Separating the dataset into query and train images\n",
        "query_names = []\n",
        "query_imgs = []\n",
        "train_names = []\n",
        "train_imgs = []\n",
        "\n",
        "with open('../holidays/holidays_images.dat') as f:\n",
        "    for line in f:\n",
        "        imname = line.strip()\n",
        "        imno = int(imname[:-len(\".jpg\")])\n",
        "        img = cv2.imread('../holidays/images/' + imname)\n",
        "        # Resize the images for a faster operation in this assignment\n",
        "        img = cv2.resize(img, None, fx=0.25, fy=0.25, interpolation = cv2.INTER_CUBIC)\n",
        "    \n",
        "        # Checking if this is a query image\n",
        "        if imno % 100 == 0:\n",
        "            query_names.append(imname)\n",
        "            query_imgs.append(img)\n",
        "        else:\n",
        "            train_names.append(imname)\n",
        "            train_imgs.append(img)\n",
        "\n",
        "print(len(query_names))\n",
        "print(len(train_names))"
      ]
    },
    {
      "cell_type": "markdown",
      "id": "c7c7c152",
      "metadata": {
        "deletable": false,
        "editable": false,
        "nbgrader": {
          "cell_type": "markdown",
          "checksum": "ef0bee1eeb76015511fba82bafff8f0e",
          "grade": false,
          "grade_id": "cell-72ea50ea05235cc5",
          "locked": true,
          "schema_version": 3,
          "solution": false,
          "task": false
        },
        "id": "c7c7c152"
      },
      "source": [
        "## Loading SIFT descriptors\n",
        "In this assignment we will create four additional lists:\n",
        "- **`query_kps`**: A list of lists of keypoints (cv2.KeyPoint) extracted from the *query* images\n",
        "- **`query_desc`**: A list of numpy arrays including, for each set of keypoints, the SIFT descriptors extracted from the *query* images\n",
        "- **`train_kps`**: A list of lists of keypoints (cv2.KeyPoint) extracted from the *train* (database) images\n",
        "- **`train_desc`**: A list of numpy arrays including, for each set of keypoints, the SIFT descriptors extracted from the *train* images\n",
        "\n",
        "As we did in Assigment 2, you are provided with a set of SIFT descriptors for each image, and, therefore, you do not need to create these lists from scratch. If you do no have these descriptors in your computer, first, download them from [here](https://uibes-my.sharepoint.com/:u:/g/personal/egf350_id_uib_es/Eam8Ld8YDaJAhNr91YVdAZIB_wVZJ8kzzKD7BR6R3LziMw).\n",
        "\n",
        "> **Unzip this file into the root directory of the development kit, at the same level of the datasets.**\n",
        "\n",
        "Remember that these descriptors are in a directory called `siftgeo` that should be in your workspace, containing the set of SIFT descriptors for each image of the dataset. These descriptors are stored in binary format and, thus, you are also provided with some tools to load them. To be more precise, you can call the function `load_SIFT_descriptors` to load the descriptors of a list of images:"
      ]
    },
    {
      "cell_type": "code",
      "execution_count": 8,
      "id": "403e0d0b",
      "metadata": {
        "deletable": false,
        "editable": false,
        "nbgrader": {
          "cell_type": "code",
          "checksum": "7c25a280008771e9cab1f70cea889489",
          "grade": false,
          "grade_id": "cell-7ae7555b1b4ef435",
          "locked": true,
          "schema_version": 3,
          "solution": false,
          "task": false
        },
        "colab": {
          "base_uri": "https://localhost:8080/"
        },
        "id": "403e0d0b",
        "outputId": "d6127c9c-defd-4f4a-b64d-a63d1f6ceb98"
      },
      "outputs": [
        {
          "output_type": "stream",
          "name": "stdout",
          "text": [
            "500\n",
            "991\n",
            "500\n",
            "991\n",
            "(1000, 128)\n",
            "[[10.  6. 52. ... 15.  4.  0.]\n",
            " [16. 50. 12. ... 15.  4.  0.]\n",
            " [10. 11. 58. ...  7.  4.  4.]\n",
            " ...\n",
            " [27. 15.  0. ... 16.  8. 12.]\n",
            " [51. 47. 14. ... 35. 26.  0.]\n",
            " [ 2. 37. 25. ... 47. 13.  8.]]\n"
          ]
        }
      ],
      "source": [
        "# Loading descriptors\n",
        "query_kps, query_desc = rd.load_SIFT_descriptors(query_names, max_desc=1000)\n",
        "train_kps, train_desc = rd.load_SIFT_descriptors(train_names, max_desc=1000)\n",
        "\n",
        "# Some prints\n",
        "print(len(query_kps))\n",
        "print(len(train_kps))\n",
        "print(len(query_desc))\n",
        "print(len(train_desc))\n",
        "print(query_desc[0].shape)\n",
        "print(query_desc[0])"
      ]
    },
    {
      "cell_type": "markdown",
      "id": "df66ea08",
      "metadata": {
        "deletable": false,
        "editable": false,
        "nbgrader": {
          "cell_type": "markdown",
          "checksum": "5f3d9bf3742ba758e024519279fb77a0",
          "grade": false,
          "grade_id": "cell-40b24f326ba0393a",
          "locked": true,
          "schema_version": 3,
          "solution": false,
          "task": false
        },
        "id": "df66ea08"
      },
      "source": [
        "For development purposes, we use the parameter `max_desc` to load a maximum number (1000) of the descriptors. This will speed up the execution of the rest of the notebook, while the decrease in performance will be minimum.\n",
        "\n",
        "> **Some images do not have keypoints/descriptors. Take this into account when you develop your solution.**"
      ]
    },
    {
      "cell_type": "markdown",
      "id": "2c5142c1",
      "metadata": {
        "deletable": false,
        "editable": false,
        "nbgrader": {
          "cell_type": "markdown",
          "checksum": "1e1667ffc981315c5e820ab5e12662a6",
          "grade": false,
          "grade_id": "cell-ced3194580cf26a7",
          "locked": true,
          "schema_version": 3,
          "solution": false,
          "task": false
        },
        "id": "2c5142c1"
      },
      "source": [
        "## VLAD\n",
        "---\n",
        "Next step is to generate a VLAD vector for each image, aggregating its SIFT descriptors according to a visual vocabulary. You are provided with several small pretrained vocabularies to this end. Now, to develop the assignment, let's load one of these vocabularies:"
      ]
    },
    {
      "cell_type": "code",
      "execution_count": 9,
      "id": "f6164f78",
      "metadata": {
        "deletable": false,
        "editable": false,
        "nbgrader": {
          "cell_type": "code",
          "checksum": "1bad411012229bb3f7f11beef5edab0a",
          "grade": false,
          "grade_id": "cell-56b63f7574abcfe1",
          "locked": true,
          "schema_version": 3,
          "solution": false,
          "task": false
        },
        "colab": {
          "base_uri": "https://localhost:8080/"
        },
        "id": "f6164f78",
        "outputId": "b44690f4-12ec-42cd-ff4f-dec0b1135911"
      },
      "outputs": [
        {
          "output_type": "stream",
          "name": "stdout",
          "text": [
            "(32, 128)\n"
          ]
        }
      ],
      "source": [
        "# Loading a vocabulary files to be used in the VLAD approach.\n",
        "vocab = np.load('vocabs/sift_32c.npy')\n",
        "print(vocab.shape)"
      ]
    },
    {
      "cell_type": "markdown",
      "id": "4e75c4a4",
      "metadata": {
        "deletable": false,
        "editable": false,
        "nbgrader": {
          "cell_type": "markdown",
          "checksum": "5078fdc20927f67b759ec36ef1503e28",
          "grade": false,
          "grade_id": "cell-1eb0db1df8c37523",
          "locked": true,
          "schema_version": 3,
          "solution": false,
          "task": false
        },
        "id": "4e75c4a4"
      },
      "source": [
        "Now it is your turn. Write a function called `compute_vlad` to compute the VLAD representation of an image. Additionally, perform a L2 normalization of the VLAD vector $V$:\n",
        "$$\n",
        "v_i = \\frac{v_i}{\\left\\lVert V\\right\\rVert_2}\n",
        "$$\n",
        "which means dividing each component $v_i$ by the L2 norm of $V$:\n",
        "\n",
        "> **Useful functions**: [numpy.linalg.norm](https://docs.scipy.org/doc/numpy/reference/generated/numpy.linalg.norm.html), [scipy.cluster.vq.vq](https://docs.scipy.org/doc/scipy/reference/generated/scipy.cluster.vq.vq.html)"
      ]
    },
    {
      "cell_type": "code",
      "execution_count": 10,
      "id": "8a4d87c9",
      "metadata": {
        "deletable": false,
        "nbgrader": {
          "cell_type": "code",
          "checksum": "1506255c0723c378dc2de3e3f4e3f223",
          "grade": false,
          "grade_id": "cell-d414bd746061eca0",
          "locked": false,
          "schema_version": 3,
          "solution": true,
          "task": false
        },
        "id": "8a4d87c9"
      },
      "outputs": [],
      "source": [
        "import numpy as np\n",
        "from scipy.cluster.vq import vq\n",
        "\n",
        "def compute_vlad(descs, vocab):\n",
        "    '''\n",
        "    Compute VLAD representation of an image.\n",
        "    \n",
        "    - descs: A numpy array. It is the set descriptors extracted from the image.\n",
        "        e.g. using SIFT, the size will be (N, 128), being N the number of features.\n",
        "    - vocab: A numpy array representing the vocabulary.\n",
        "        Using SIFT, the size will be (k, 128), where k is the number of visual\n",
        "        words of the vocabulary.\n",
        "  \n",
        "    RETURN: \n",
        "    - VLAD l2-normalized vector of the image, represented as a numpy vector. \n",
        "        The size will be, using SIFT, (k * 128, ), being k the number of visual \n",
        "        words of 'vocab'.\n",
        "    '''  \n",
        "    # Step 1: Assign descriptors to visual words\n",
        "    codes, _ = vq(descs, vocab)\n",
        "\n",
        "    # Step 2: Compute residuals for each visual word\n",
        "    residuals = np.zeros_like(vocab)\n",
        "    for i in range(vocab.shape[0]):\n",
        "        mask = codes == i\n",
        "        residuals[i] = np.sum(descs[mask] - vocab[i], axis=0)\n",
        "\n",
        "    # Step 3: Create the VLAD vector by concatenating residuals\n",
        "    vlad = residuals.flatten()\n",
        "\n",
        "    # Step 4: Perform L2 normalization\n",
        "    vlad = vlad / np.linalg.norm(vlad)\n",
        "\n",
        "    return vlad"
      ]
    },
    {
      "cell_type": "code",
      "execution_count": 11,
      "id": "a9f1c83c",
      "metadata": {
        "deletable": false,
        "editable": false,
        "nbgrader": {
          "cell_type": "code",
          "checksum": "4703d184ec9181ec938257221b35b0ef",
          "grade": true,
          "grade_id": "cell-ac86c9135d6313ba",
          "locked": true,
          "points": 0.4,
          "schema_version": 3,
          "solution": false,
          "task": false
        },
        "colab": {
          "base_uri": "https://localhost:8080/"
        },
        "id": "a9f1c83c",
        "outputId": "fbdddede-9c1a-416e-ec28-10fa6833952a"
      },
      "outputs": [
        {
          "output_type": "stream",
          "name": "stdout",
          "text": [
            "[-0.01708985 -0.00229319  0.00131438 ... -0.00762179 -0.0083055\n",
            "  0.01966916]\n"
          ]
        }
      ],
      "source": [
        "vlad_desc = compute_vlad(query_desc[0], vocab)\n",
        "print(vlad_desc)"
      ]
    },
    {
      "cell_type": "markdown",
      "id": "48d913e1",
      "metadata": {
        "deletable": false,
        "editable": false,
        "nbgrader": {
          "cell_type": "markdown",
          "checksum": "228ab7eb5348444029947c1445296ab2",
          "grade": false,
          "grade_id": "cell-fd14629de5a27675",
          "locked": true,
          "schema_version": 3,
          "solution": false,
          "task": false
        },
        "id": "48d913e1"
      },
      "source": [
        "Now write a function called `describe_images_VLAD` to compute VLAD descriptors of a list of images:"
      ]
    },
    {
      "cell_type": "code",
      "execution_count": 12,
      "id": "a3df7234",
      "metadata": {
        "deletable": false,
        "nbgrader": {
          "cell_type": "code",
          "checksum": "16316b7a450896d0fb6201add034a5f4",
          "grade": false,
          "grade_id": "cell-cca16107c0706b5b",
          "locked": false,
          "schema_version": 3,
          "solution": true,
          "task": false
        },
        "id": "a3df7234"
      },
      "outputs": [],
      "source": [
        "def describe_images_VLAD(imgs_desc, vocab):  \n",
        "    '''\n",
        "    Compute the VLAD representation of a list of images.\n",
        "    \n",
        "    - img_descs: A list containing numpy arrays of size (N, 128), using SIFT and\n",
        "        being N the number of features. Each numpy array i corresponds to the \n",
        "        descriptors found at image i.\n",
        "    - vocab: A numpy array representing the vocabulary.\n",
        "        Using SIFT, the size will be (k, 128), where k is the number of visual\n",
        "        words of the vocabulary.\n",
        "  \n",
        "    RETURN: \n",
        "    - A list where each item i is the l2-norm VLAD vector of image img_descs[i].\n",
        "    ''' \n",
        "  \n",
        "    imgs_vlad = []\n",
        "\n",
        "    for img_desc in imgs_desc:\n",
        "        # get the VLAD representation of the image\n",
        "        code, _ = vq(img_desc, vocab)\n",
        "        vlad = np.zeros((vocab.shape[0], vocab.shape[1]))\n",
        "\n",
        "        # accumulate the residuals\n",
        "        for i in range(vocab.shape[0]):\n",
        "            if np.sum(code == i) > 0:\n",
        "                residuals = img_desc[code == i] - vocab[i]\n",
        "                vlad[i] = residuals.sum(axis=0)\n",
        "\n",
        "        # l2-normalize the VLAD vector\n",
        "        vlad = vlad.flatten()\n",
        "        norm = np.linalg.norm(vlad)\n",
        "        if norm != 0:\n",
        "            vlad /= norm\n",
        "\n",
        "        # convert the VLAD vector to a common data type (float)\n",
        "        vlad = vlad.astype(float)\n",
        "\n",
        "        imgs_vlad.append(vlad)\n",
        "\n",
        "    return imgs_vlad"
      ]
    },
    {
      "cell_type": "code",
      "execution_count": 13,
      "id": "f9756041",
      "metadata": {
        "deletable": false,
        "editable": false,
        "nbgrader": {
          "cell_type": "code",
          "checksum": "b5a3f318087fffde21568855e4f06668",
          "grade": true,
          "grade_id": "cell-5a06cecfe05fbd40",
          "locked": true,
          "points": 0.15,
          "schema_version": 3,
          "solution": false,
          "task": false
        },
        "colab": {
          "base_uri": "https://localhost:8080/"
        },
        "id": "f9756041",
        "outputId": "b7404687-799c-4ace-a5d5-3064385c1176"
      },
      "outputs": [
        {
          "output_type": "stream",
          "name": "stdout",
          "text": [
            "991\n",
            "500\n",
            "(4096,)\n",
            "(4096,)\n",
            "[-0.0166616   0.01173472  0.00454088 ...  0.00689059  0.00051252\n",
            "  0.00820919]\n",
            "[-0.01708985 -0.00229319  0.00131438 ... -0.00762179 -0.00830551\n",
            "  0.01966916]\n"
          ]
        }
      ],
      "source": [
        "query_vlad = describe_images_VLAD(query_desc, vocab)\n",
        "train_vlad = describe_images_VLAD(train_desc, vocab)\n",
        "print(len(train_vlad))\n",
        "print(len(query_vlad))\n",
        "print(train_vlad[0].shape)\n",
        "print(query_vlad[0].shape)\n",
        "print(train_vlad[0])\n",
        "print(query_vlad[0])"
      ]
    },
    {
      "cell_type": "markdown",
      "id": "f7186287",
      "metadata": {
        "deletable": false,
        "editable": false,
        "nbgrader": {
          "cell_type": "markdown",
          "checksum": "ad44faa034da29155ef380f5766fcf15",
          "grade": false,
          "grade_id": "cell-d8e35daf18fb336a",
          "locked": true,
          "schema_version": 3,
          "solution": false,
          "task": false
        },
        "id": "f7186287"
      },
      "source": [
        "## Product Quantization\n",
        "---\n",
        "In this section you'll build a set of functions to implement Product Quantization (PQ) for indexing VLAD descriptors. In PQ, each vector $x$ of size $D$ is split into $m$ distinct subvectors of dimension $D^∗ = D / m$, where $D$ is a multiple of $m$. Subvectors are quantized separately using $m$ distinct quantizers (small vocabularies) each one with $k$ centroids (visual words).\n",
        "\n",
        "**Example**: \n",
        "- Using SIFT descriptors (128 dimensions) and a vocabulary with 32 visual words, the final VLAD vector will have 128 $\\times$ 32 = 4096 dimensions without applying any dimensionality reduction method.\n",
        "- We can split these vectors into 8 parts ($m$ = 8) corresponding each part to a subvector of $D / m = 4096 / 8 = 512$ components.\n",
        "- Given a training set of descriptors, a quantizer can be learnt for each of these parts using, for instance, 256 centroids ($k$ = 256), which can be encoded using 8 bits per quantizer.\n",
        "- The dimensions of each of the $m$ quantizers will then be (256, 512).\n",
        "- As a result of this process, a VLAD vector of 4096 dimensions can be encoded using 8 integers, where each integer is encoded using 8 bits (0, ..., 255), corresponding to the index of the closest centroid on this quantizer.\n",
        "\n",
        "First step is to train a set of quantizers from some given VLAD vectors. Write a function called `pq_build_quantizers` to this end:\n",
        "\n",
        "> **Useful functions**: [scipy.cluster.vq.kmeans2](https://docs.scipy.org/doc/scipy/reference/generated/scipy.cluster.vq.kmeans2.html)"
      ]
    },
    {
      "cell_type": "code",
      "execution_count": 14,
      "id": "07525388",
      "metadata": {
        "deletable": false,
        "nbgrader": {
          "cell_type": "code",
          "checksum": "3484c9411f95772a62c9adeede08c370",
          "grade": false,
          "grade_id": "cell-c9d19caaabd57de4",
          "locked": false,
          "schema_version": 3,
          "solution": true,
          "task": false
        },
        "id": "07525388"
      },
      "outputs": [],
      "source": [
        "from scipy.cluster.vq import kmeans2\n",
        "def pq_build_quantizers(descs, m = 8, k = 256):\n",
        "    '''\n",
        "    Create a list of m quantizers with k centroids each one.\n",
        "    \n",
        "    - descs: A list containing VLAD vectors of size (D, ).\n",
        "        Each element i is a numpy array extracted from the set of descriptors \n",
        "        of image i.\n",
        "    - m: Number of quantizers to train. Each quantizer will be trained using\n",
        "        vectors of length D / m.\n",
        "    - k: Number of centroids (visual words) to compute for each of the m quantizers.\n",
        "  \n",
        "    RETURN: \n",
        "    - A list of m quantizers. Each quantizer is a numpy array of size (k, D / m) \n",
        "        containing the centroids obtained after a clustering procedure.\n",
        "    '''\n",
        "  \n",
        "    quantizers = [] # List of vocabularies\n",
        "    D = descs[0].shape[0]\n",
        "    d = D // m # Dimension of each subvector\n",
        "    \n",
        "    for i in range(m):\n",
        "      subvecs = np.zeros((len(descs), d))\n",
        "      for j, desc in enumerate(descs):\n",
        "          subvecs[j] = desc[i*d:(i+1)*d]\n",
        "      centroids, _ = kmeans2(subvecs, k, minit='random')\n",
        "      \n",
        "      # Check for empty clusters\n",
        "      while np.isnan(centroids).any() or np.isinf(centroids).any() or (centroids == 0).all():\n",
        "          centroids, _ = kmeans2(subvecs, k, minit='random')\n",
        "      \n",
        "      quantizers.append(centroids)\n",
        "        \n",
        "    return quantizers"
      ]
    },
    {
      "cell_type": "code",
      "execution_count": 15,
      "id": "e8e775dd",
      "metadata": {
        "deletable": false,
        "editable": false,
        "nbgrader": {
          "cell_type": "code",
          "checksum": "0f940360a6f2f35f4876c1c8581d0191",
          "grade": true,
          "grade_id": "cell-d761f1f74df549fa",
          "locked": true,
          "points": 0.2,
          "schema_version": 3,
          "solution": false,
          "task": false
        },
        "colab": {
          "base_uri": "https://localhost:8080/"
        },
        "id": "e8e775dd",
        "outputId": "5a1fa1cb-e82c-47e2-c032-425ae583f90c"
      },
      "outputs": [
        {
          "output_type": "stream",
          "name": "stderr",
          "text": [
            "/usr/local/lib/python3.10/dist-packages/scipy/cluster/vq.py:602: UserWarning: One of the clusters is empty. Re-run kmeans with a different initialization.\n",
            "  warnings.warn(\"One of the clusters is empty. \"\n"
          ]
        },
        {
          "output_type": "stream",
          "name": "stdout",
          "text": [
            "8\n",
            "(256, 512)\n",
            "(256, 512)\n",
            "(256, 512)\n",
            "(256, 512)\n",
            "(256, 512)\n",
            "(256, 512)\n",
            "(256, 512)\n",
            "(256, 512)\n"
          ]
        }
      ],
      "source": [
        "# Check the previous function with the following code\n",
        "quantizers = pq_build_quantizers(train_vlad, m = 8, k = 256)\n",
        "print(len(quantizers))\n",
        "for q in quantizers:\n",
        "    print(q.shape)    "
      ]
    },
    {
      "cell_type": "markdown",
      "id": "96571964",
      "metadata": {
        "deletable": false,
        "editable": false,
        "nbgrader": {
          "cell_type": "markdown",
          "checksum": "530cc5c6fe34e2a0026158d9044c90ad",
          "grade": false,
          "grade_id": "cell-505fb462b578309e",
          "locked": true,
          "schema_version": 3,
          "solution": false,
          "task": false
        },
        "id": "96571964"
      },
      "source": [
        "Now write a function to encode a VLAD vector using a set of quantizers:\n",
        "\n",
        "> **Useful functions**: [scipy.cluster.vq.vq](https://docs.scipy.org/doc/scipy/reference/generated/scipy.cluster.vq.vq.html)"
      ]
    },
    {
      "cell_type": "code",
      "execution_count": 16,
      "id": "67e099be",
      "metadata": {
        "deletable": false,
        "nbgrader": {
          "cell_type": "code",
          "checksum": "7153f9049c60e3f732f1835f80f71796",
          "grade": false,
          "grade_id": "cell-b8a26eb701b53745",
          "locked": false,
          "schema_version": 3,
          "solution": true,
          "task": false
        },
        "id": "67e099be"
      },
      "outputs": [],
      "source": [
        "import scipy\n",
        "from scipy.cluster.vq import vq\n",
        "def pq_encode_vector(v, quantizers):\n",
        "    '''\n",
        "    Encode a VLAD vector v using a set of pre-trained set of quantizers.\n",
        "    \n",
        "    - v: VLAD vector to encode, represented as a numpy array of size (D, ).  \n",
        "    - quantizers: A list of m quantizers. \n",
        "        Each one is a numpy array of size (k, D / m), where k and m where\n",
        "        defined during the vocabulary construction.\n",
        "  \n",
        "    RETURN: \n",
        "    - VLAD vector encoded using m values.\n",
        "    '''\n",
        "    m = len(quantizers)\n",
        "    code = np.zeros((m,), dtype=int)\n",
        "  \n",
        "    # Encoding each part of 'v' using the corresponding quantizer\n",
        "    for i in range(m):\n",
        "        centroids = quantizers[i]\n",
        "        d_i = centroids.shape[1]\n",
        "        v_i = v[i*d_i:(i+1)*d_i].reshape(-1, d_i)\n",
        "        code[i], _ = scipy.cluster.vq.vq(v_i, centroids)\n",
        "  \n",
        "    return code"
      ]
    },
    {
      "cell_type": "code",
      "execution_count": 17,
      "id": "58e87552",
      "metadata": {
        "deletable": false,
        "editable": false,
        "nbgrader": {
          "cell_type": "code",
          "checksum": "277d7300066b120f4925e99b871a8efe",
          "grade": true,
          "grade_id": "cell-df898c917eba295e",
          "locked": true,
          "points": 0.3,
          "schema_version": 3,
          "solution": false,
          "task": false
        },
        "colab": {
          "base_uri": "https://localhost:8080/"
        },
        "id": "58e87552",
        "outputId": "68f2752c-01cd-436b-a051-542ebd1eeb1a"
      },
      "outputs": [
        {
          "output_type": "stream",
          "name": "stdout",
          "text": [
            "[238 148  28  93  10 109  90 144]\n"
          ]
        }
      ],
      "source": [
        "code = pq_encode_vector(train_vlad[2], quantizers)\n",
        "print(code)"
      ]
    },
    {
      "cell_type": "markdown",
      "id": "e7c039d7",
      "metadata": {
        "deletable": false,
        "editable": false,
        "nbgrader": {
          "cell_type": "markdown",
          "checksum": "652b218ea35a8f34e6df98a488efb776",
          "grade": false,
          "grade_id": "cell-63637ed9196118c4",
          "locked": true,
          "schema_version": 3,
          "solution": false,
          "task": false
        },
        "id": "e7c039d7"
      },
      "source": [
        "Now it's time to write a function for building an index of images using PQ. This function must encode each VLAD descriptor of the images that we want to index using a set of pre-trained quantizers. The function must return these codes as a list."
      ]
    },
    {
      "cell_type": "code",
      "execution_count": 18,
      "id": "eabbde27",
      "metadata": {
        "deletable": false,
        "nbgrader": {
          "cell_type": "code",
          "checksum": "f41219464129749fc7d59b92efd8aee4",
          "grade": false,
          "grade_id": "cell-5ba2dfdfe377ee1e",
          "locked": false,
          "schema_version": 3,
          "solution": true,
          "task": false
        },
        "id": "eabbde27"
      },
      "outputs": [],
      "source": [
        "def pq_build_index(descs, quantizers):\n",
        "    '''\n",
        "    Build a PQ index from a set of descriptors and quantizers.\n",
        "    \n",
        "    - descs: A list containing VLAD vectors of size (D, ) that we want to index.\n",
        "        Each element i is a numpy array extracted from the image i.\n",
        "    - quantizers: A list of m quantizers.\n",
        "        Each one is a numpy array of size (k, D / m), where k and m where\n",
        "        defined during the vocabulary construction.\n",
        "  \n",
        "    RETURN:\n",
        "    - A list where each element i is the encoded version of descs[i] using the\n",
        "        quantizers to compute the code.\n",
        "    '''\n",
        "      \n",
        "    index = []\n",
        "    \n",
        "    for i in range(len(descs)):\n",
        "        code = pq_encode_vector(descs[i], quantizers)\n",
        "        index.append(code)\n",
        "      \n",
        "    return index"
      ]
    },
    {
      "cell_type": "code",
      "execution_count": 19,
      "id": "3526d21c",
      "metadata": {
        "deletable": false,
        "editable": false,
        "nbgrader": {
          "cell_type": "code",
          "checksum": "ef486798c4393c10037fd997a9558685",
          "grade": true,
          "grade_id": "cell-6fa7a4d6dc563b65",
          "locked": true,
          "points": 0.15,
          "schema_version": 3,
          "solution": false,
          "task": false
        },
        "colab": {
          "base_uri": "https://localhost:8080/"
        },
        "id": "3526d21c",
        "outputId": "6a87125a-99af-4444-d6a8-5b4dc476e91f"
      },
      "outputs": [
        {
          "output_type": "stream",
          "name": "stdout",
          "text": [
            "2\n",
            "8\n",
            "[ 54  29 162  56 191 161 162 243]\n"
          ]
        }
      ],
      "source": [
        "# Check your implementation\n",
        "index = pq_build_index(train_vlad[0:2], quantizers)\n",
        "print(len(index))\n",
        "print(len(index[0]))\n",
        "print(index[0])"
      ]
    },
    {
      "cell_type": "markdown",
      "id": "0422d74f",
      "metadata": {
        "deletable": false,
        "editable": false,
        "nbgrader": {
          "cell_type": "markdown",
          "checksum": "e462c68836c5536ed6c57e8001b92b83",
          "grade": false,
          "grade_id": "cell-d228da8ef6b74ed2",
          "locked": true,
          "schema_version": 3,
          "solution": false,
          "task": false
        },
        "id": "0422d74f"
      },
      "source": [
        "Once we have encoded a set of VLAD vectors to create our PQ index, it is time to search images on it. This requires to write a function to compute the L2 distance between a query vector $x$ and a database vector $y$. In this assignment, you'll implement the *Asymmetric Distance Computation* (ADC) method, where the database vector $y$ is represented by its encoded version but the query $x$ is not encoded (raw VLAD vector). The distance is then approximated as:\n",
        "\n",
        "$$\n",
        "d(x, y)^2 \\approx \\sum_{i=1}^{m} d(x_i, q_i(y_i))^2\n",
        "$$\n",
        "\n",
        "Note that $q_i(y_i)$ for a vector $y$ is what we have stored in our index. Now write a function called `pq_distance` to compute this approximation:"
      ]
    },
    {
      "cell_type": "code",
      "execution_count": 20,
      "id": "2c450607",
      "metadata": {
        "deletable": false,
        "nbgrader": {
          "cell_type": "code",
          "checksum": "d4e9fc135490e28f1121910bd20f1277",
          "grade": false,
          "grade_id": "cell-85787c85e17adb75",
          "locked": false,
          "schema_version": 3,
          "solution": true,
          "task": false
        },
        "id": "2c450607"
      },
      "outputs": [],
      "source": [
        "def pq_distance(x, y, quantizers):\n",
        "    '''\n",
        "    Compute an approximated L2 distance between x and y using the ADC method.\n",
        "    \n",
        "    - x: Query VLAD vector represented as a numpy array of size (D, ).\n",
        "    - y: Database vector encoded using PQ with length = m.\n",
        "    - quantizers: A list of m quantizers.\n",
        "        Each one is a numpy array of size (k, D / m), where k and m where\n",
        "        defined during the vocabulary construction.\n",
        "  \n",
        "    RETURNS:\n",
        "    - Approximated L2 distance between x and y\n",
        "    '''\n",
        "  \n",
        "    m = len(quantizers)\n",
        "    distance = 0    \n",
        "    for i in range(m):\n",
        "        d_i = quantizers[i].shape[1]\n",
        "        v_i = x[i*d_i:(i+1)*d_i]\n",
        "        centroid = quantizers[i][y[i]]\n",
        "        distance += np.sum((v_i - centroid)**2)\n",
        "    return distance"
      ]
    },
    {
      "cell_type": "code",
      "execution_count": 21,
      "id": "03b00f5f",
      "metadata": {
        "deletable": false,
        "editable": false,
        "nbgrader": {
          "cell_type": "code",
          "checksum": "16b7f31d04b05831606b777688db0c9b",
          "grade": true,
          "grade_id": "cell-f4447e1bda362c1e",
          "locked": true,
          "points": 0.3,
          "schema_version": 3,
          "solution": false,
          "task": false
        },
        "id": "03b00f5f",
        "colab": {
          "base_uri": "https://localhost:8080/"
        },
        "outputId": "78760ad5-4c41-4b67-e6dc-c02130149cf0"
      },
      "outputs": [
        {
          "output_type": "stream",
          "name": "stdout",
          "text": [
            "Query image:  100000.jpg\n",
            "Distances:\n",
            "100001.jpg 0.9402612142321083\n",
            "100002.jpg 1.01149363155051\n",
            "100101.jpg 1.4411140439418801\n",
            "100201.jpg 1.0259257815851939\n",
            "100301.jpg 0.8899154420446685\n",
            "100302.jpg 0.8099501149411368\n",
            "100401.jpg 0.8225553121548362\n",
            "100501.jpg 0.7537235562195029\n",
            "100502.jpg 1.0162737712699805\n",
            "100503.jpg 0.8029053049397219\n",
            "100601.jpg 1.8481101103737836\n",
            "100701.jpg 2.116381275825611\n",
            "100801.jpg 1.2342449129546007\n",
            "100901.jpg 1.9061917355615552\n",
            "100902.jpg 1.902842245971594\n",
            "101001.jpg 1.4041210616682562\n",
            "101101.jpg 1.7082006799849598\n",
            "101201.jpg 1.4616296441459746\n",
            "101301.jpg 1.2856173154935724\n",
            "101401.jpg 1.7009574247183283\n"
          ]
        }
      ],
      "source": [
        "# Computing the VLAD description of a query image.\n",
        "print('Query image: ', query_names[0])\n",
        "\n",
        "# Computing L2 distance to the first 20 images.\n",
        "print('Distances:')\n",
        "for i in range(20):\n",
        "    train = pq_encode_vector(train_vlad[i], quantizers)\n",
        "    d = pq_distance(query_vlad[0], train, quantizers)\n",
        "    print(train_names[i], str(d))"
      ]
    },
    {
      "cell_type": "markdown",
      "id": "0fd6e7b5",
      "metadata": {
        "deletable": false,
        "editable": false,
        "nbgrader": {
          "cell_type": "markdown",
          "checksum": "5a6793f2b548295a211d960be07eb182",
          "grade": false,
          "grade_id": "cell-64306d0dd7663807",
          "locked": true,
          "schema_version": 3,
          "solution": false,
          "task": false
        },
        "id": "0fd6e7b5"
      },
      "source": [
        "Next, as in other assignmnets, write a function called `search_image` to search a query image in the index:\n",
        "- You have to implement the standard PQ method which computes *sequentially* the L2 distance between the query vector $x$ and all database vectors $y$  and then results are sorted according to their distances.\n",
        "- Remember that to speed up the search process, you can precompute all distances between query subvectors and centroids $d(x_i, c_{i, j})^2$ and stored them in look-up tables, computed for each query descriptor $x$. You are not required to implement this functionality given the small size of our image database, but feel free to implement it if you want and adapt the PQ functions for these purposes."
      ]
    },
    {
      "cell_type": "code",
      "execution_count": 22,
      "id": "7f0c48e7",
      "metadata": {
        "deletable": false,
        "nbgrader": {
          "cell_type": "code",
          "checksum": "23cc808d80cfd282602f25953bcbf935",
          "grade": false,
          "grade_id": "cell-caa776c2069c5a2c",
          "locked": false,
          "schema_version": 3,
          "solution": true,
          "task": false
        },
        "id": "7f0c48e7"
      },
      "outputs": [],
      "source": [
        "\n",
        "def search_image(desc, index, quantizers, img_names):\n",
        "    '''\n",
        "    Search an image in the index\n",
        "    \n",
        "    - descs: Query VLAD vector represented as a numpy array of size (D, ).\n",
        "    - index: A list where each element i is the encoded version of an image of the database.\n",
        "    - quantizers: A list of m quantizers.\n",
        "        Each one is a numpy array of size (k, D / m), where k and m where\n",
        "        defined during the vocabulary construction.\n",
        "    - img_names: A list of image names to associate each code in 'index' with \n",
        "        its string name in the dataset.\n",
        "  \n",
        "    RETURN:\n",
        "      - An ordered list of similar images, e.g.: ['100101.jpg', '100202.jpg', ...]\n",
        "    '''\n",
        "    \n",
        "    # Number of quantizers\n",
        "    m = len(quantizers)    \n",
        "    \n",
        "    # Centrois for each quantizer\n",
        "    k = quantizers[0].shape[0]\n",
        "    \n",
        "    # Calculate L2 distances between the query and all codes in the index\n",
        "    distances = []\n",
        "    for code, img_name in zip(index, img_names):\n",
        "        distance = pq_distance(desc, code, quantizers)\n",
        "        distances.append((img_name, distance))\n",
        "    \n",
        "    # Sort images by distance and return\n",
        "    return [img_name for img_name, distance in sorted(distances, key=lambda x: x[1])]"
      ]
    },
    {
      "cell_type": "code",
      "execution_count": 23,
      "id": "1ed3682f",
      "metadata": {
        "deletable": false,
        "editable": false,
        "nbgrader": {
          "cell_type": "code",
          "checksum": "c7a7c6d481bd4d937b597a81615d8546",
          "grade": true,
          "grade_id": "cell-7e98cb52848742ee",
          "locked": true,
          "points": 0.25,
          "schema_version": 3,
          "solution": false,
          "task": false
        },
        "colab": {
          "base_uri": "https://localhost:8080/"
        },
        "id": "1ed3682f",
        "outputId": "10e1cdde-e291-4a85-c49f-c1e62aa876d6"
      },
      "outputs": [
        {
          "output_type": "stream",
          "name": "stdout",
          "text": [
            "['100001.jpg', '100002.jpg']\n"
          ]
        }
      ],
      "source": [
        "# Search an image in the index\n",
        "img_res = search_image(query_vlad[0], index, quantizers, train_names[0:2])\n",
        "print(img_res)"
      ]
    },
    {
      "cell_type": "markdown",
      "id": "1a002f86",
      "metadata": {
        "deletable": false,
        "editable": false,
        "nbgrader": {
          "cell_type": "markdown",
          "checksum": "980c137a75c121919a6bf469c3ee1a43",
          "grade": false,
          "grade_id": "cell-d54a7ad8b26b9409",
          "locked": true,
          "schema_version": 3,
          "solution": false,
          "task": false
        },
        "id": "1a002f86"
      },
      "source": [
        "Finally, as usual, write a function called `compute_mAP` to compute the performance of the system, given a list of query images. This function should return a Python dictionary with the ordered results for each query along with the computed mAP:"
      ]
    },
    {
      "cell_type": "code",
      "execution_count": 24,
      "id": "6eb648dd",
      "metadata": {
        "deletable": false,
        "nbgrader": {
          "cell_type": "code",
          "checksum": "65e99676e1e982ab521f55e355bf9e39",
          "grade": false,
          "grade_id": "cell-691078192e4858d6",
          "locked": false,
          "schema_version": 3,
          "solution": true,
          "task": false
        },
        "id": "6eb648dd"
      },
      "outputs": [],
      "source": [
        "def compute_mAP(query_names, query_descs, index, train_names, quantizers, gt_file):\n",
        "    '''\n",
        "    Perform a search for a list of query images against the database.\n",
        "    \n",
        "    - query_names: An ordered list with the names of query images.\n",
        "    - query_descs: A list containing VLAD vectors of size (D, ) we want to search.\n",
        "        Each element i is a numpy array extracted from the image i.\n",
        "    - index: Index of images to search query descriptors.\n",
        "    - train_names: A list of image names to associate each code in 'index' with \n",
        "        its name in the dataset.    \n",
        "    - quantizers: A list of m quantizers.\n",
        "        Each one is a numpy array of size (k, D / m), where k and m where\n",
        "        defined during the vocabulary construction.\n",
        "  \n",
        "    RETURN:\n",
        "    - total_results: A dictionary containing, for each query image,\n",
        "        an ordered list of the retrieved images.\n",
        "    - m_ap: Mean Average Precision averaged over all queries.\n",
        "    '''\n",
        "\n",
        "    total_results = {}\n",
        "    m_ap = 0.0\n",
        "\n",
        "    # Iterate over each query image\n",
        "    for i in range(len(query_names)):\n",
        "        query_name = query_names[i]\n",
        "        query_desc = query_descs[i]\n",
        "\n",
        "        # Search for the query image in the index\n",
        "        retrieved_images = search_image(query_desc, index, quantizers, train_names)\n",
        "\n",
        "        # Store the ranked list for the query image\n",
        "        total_results[query_name] = retrieved_images\n",
        "\n",
        "    \n",
        "    # Calculate the mean average precision\n",
        "    m_ap = ev.compute_mAP(total_results, gt_file)\n",
        "\n",
        "\n",
        "    return total_results, m_ap"
      ]
    },
    {
      "cell_type": "code",
      "execution_count": 25,
      "id": "5b33ef09",
      "metadata": {
        "deletable": false,
        "editable": false,
        "nbgrader": {
          "cell_type": "code",
          "checksum": "a18349071c795ecffbc8401689be11c2",
          "grade": true,
          "grade_id": "cell-33af834e8f213922",
          "locked": true,
          "points": 0.15,
          "schema_version": 3,
          "solution": false,
          "task": false
        },
        "colab": {
          "base_uri": "https://localhost:8080/"
        },
        "id": "5b33ef09",
        "outputId": "11c90e06-3ffe-4479-ef48-ac9cc23bc54a"
      },
      "outputs": [
        {
          "output_type": "stream",
          "name": "stdout",
          "text": [
            "['100001.jpg', '100002.jpg']\n",
            "['100002.jpg', '100001.jpg']\n",
            "0.002\n"
          ]
        }
      ],
      "source": [
        "# Example of computing mAP\n",
        "results, mAP = compute_mAP(query_names, query_vlad, index, train_names[0:2], quantizers, '../holidays/holidays_images.dat')\n",
        "print(results['100000.jpg'])\n",
        "print(results['100100.jpg'])\n",
        "print(mAP) # This should be close to 0 now, since there is only two images in the database."
      ]
    },
    {
      "cell_type": "markdown",
      "id": "b9faaadc",
      "metadata": {
        "deletable": false,
        "editable": false,
        "nbgrader": {
          "cell_type": "markdown",
          "checksum": "3bfdc23166645dba75eada4dde824930",
          "grade": false,
          "grade_id": "cell-307ceb07e3b7ecdf",
          "locked": true,
          "schema_version": 3,
          "solution": false,
          "task": false
        },
        "id": "b9faaadc"
      },
      "source": [
        "**Q1**: In the following cell compute the resulting mAP of the system **for each of the three vocabularies provided (16c, 32c, 64c),** using $m$ = 8 and $k$ = 256. Train the quantizers using VLAD descriptors of the train images. Note that an independent and larger dataset here will be better, but for simplicity, we use the same images we want to index."
      ]
    },
    {
      "cell_type": "code",
      "source": [
        "import time\n",
        "start_time_16c = time.time()\n",
        "\n",
        "vocab_16c = np.load('vocabs/sift_16c.npy')\n",
        "query_vlad_16c = describe_images_VLAD(query_desc, vocab_16c)\n",
        "train_vlad_16c = describe_images_VLAD(train_desc, vocab_16c)\n",
        "quantizers_16c = pq_build_quantizers(train_vlad_16c, m = 8, k = 256)\n",
        "index_16c = pq_build_index(train_vlad_16c, quantizers_16c)\n",
        "\n",
        "train_time_16c = time.time() - start_time_16c\n",
        "\n",
        "start_time_32c = time.time()\n",
        "\n",
        "vocab_32c = np.load('vocabs/sift_32c.npy')\n",
        "query_vlad_32c = describe_images_VLAD(query_desc, vocab_32c)\n",
        "train_vlad_32c = describe_images_VLAD(train_desc, vocab_32c)\n",
        "quantizers_32c = pq_build_quantizers(train_vlad_32c, m = 8, k = 256)\n",
        "index_32c = pq_build_index(train_vlad_32c, quantizers_32c)\n",
        "\n",
        "train_time_32c = time.time() - start_time_32c\n",
        "\n",
        "start_time_64c = time.time()\n",
        "\n",
        "vocab_64c = np.load('vocabs/sift_64c.npy')\n",
        "query_vlad_64c = describe_images_VLAD(query_desc, vocab_64c)\n",
        "train_vlad_64c = describe_images_VLAD(train_desc, vocab_64c)\n",
        "quantizers_64c = pq_build_quantizers(train_vlad_64c, m = 8, k = 256)\n",
        "index_64c = pq_build_index(train_vlad_64c, quantizers_64c)\n",
        "\n",
        "train_time_64c = time.time() - start_time_64c\n",
        "\n",
        "train_times = [train_time_16c, train_time_32c, train_time_64c]\n",
        "vocab_labels = [\"sift_16c\", \"sift_32c\", \"sift_64c\"]"
      ],
      "metadata": {
        "id": "tSGSJ6Wcr3wC"
      },
      "id": "tSGSJ6Wcr3wC",
      "execution_count": 26,
      "outputs": []
    },
    {
      "cell_type": "code",
      "execution_count": 27,
      "id": "604f78dd",
      "metadata": {
        "deletable": false,
        "nbgrader": {
          "cell_type": "code",
          "checksum": "21d8fc82c59355ed16c03ee068577e11",
          "grade": false,
          "grade_id": "cell-85a7e3a3a8e6a73d",
          "locked": false,
          "schema_version": 3,
          "solution": true,
          "task": false
        },
        "id": "604f78dd"
      },
      "outputs": [],
      "source": [
        "# Fill these variables with the resulting mAP\n",
        "mAP_16c  = 0.0\n",
        "mAP_32c  = 0.0\n",
        "mAP_64c  = 0.0\n",
        "\n",
        "start_time_16c = time.time()\n",
        "results_16c, mAP_16c = compute_mAP(query_names, query_vlad_16c, index_16c, train_names, quantizers_16c, '../holidays/holidays_images.dat')\n",
        "query_time_16c = time.time() - start_time_16c\n",
        "\n",
        "start_time_32c = time.time()\n",
        "results_32c, mAP_32c = compute_mAP(query_names, query_vlad_32c, index_32c, train_names, quantizers_32c, '../holidays/holidays_images.dat')\n",
        "query_time_32c = time.time() - start_time_32c\n",
        "\n",
        "start_time_64c = time.time()\n",
        "results_64c, mAP_64c = compute_mAP(query_names, query_vlad_64c, index_64c, train_names, quantizers_64c, '../holidays/holidays_images.dat')\n",
        "query_time_64c = time.time() - start_time_64c\n",
        "\n",
        "query_times = [query_time_16c, query_time_32c, query_time_64c]"
      ]
    },
    {
      "cell_type": "code",
      "execution_count": 28,
      "id": "0eceab37",
      "metadata": {
        "deletable": false,
        "editable": false,
        "nbgrader": {
          "cell_type": "code",
          "checksum": "dcdf97a1ef1d47299181c23bb0f4ab59",
          "grade": true,
          "grade_id": "cell-70e62b6812f4f3b4",
          "locked": true,
          "points": 1,
          "schema_version": 3,
          "solution": false,
          "task": false
        },
        "id": "0eceab37",
        "colab": {
          "base_uri": "https://localhost:8080/"
        },
        "outputId": "36818ff1-0c67-4fb0-d295-4344ba822195"
      },
      "outputs": [
        {
          "output_type": "stream",
          "name": "stdout",
          "text": [
            "mAP 16c: 0.36750\n",
            "mAP 32c: 0.38537\n",
            "mAP 64c: 0.32788\n"
          ]
        }
      ],
      "source": [
        "print('mAP 16c: %.5f' % mAP_16c)\n",
        "print('mAP 32c: %.5f' % mAP_32c)\n",
        "print('mAP 64c: %.5f' % mAP_64c)"
      ]
    },
    {
      "cell_type": "markdown",
      "id": "92d502d6",
      "metadata": {
        "deletable": false,
        "editable": false,
        "nbgrader": {
          "cell_type": "markdown",
          "checksum": "5a767f4db5eeda93007fdd7d05f82b75",
          "grade": false,
          "grade_id": "cell-0f3403464b36441c",
          "locked": true,
          "schema_version": 3,
          "solution": false,
          "task": false
        },
        "id": "92d502d6"
      },
      "source": [
        "**Q2**: Compare the performances obtained on each case. Is a larger vocabulary size always better? Why or why not?"
      ]
    },
    {
      "cell_type": "markdown",
      "source": [
        "Below it is seen that a larger vocab is not always better. As the vocab increases, the **training time increases** and the **query time increases**. Additionally the **best mAP is at 32c** rather than 64c showing than just continually increasing the vocab won't always lead to a better performance."
      ],
      "metadata": {
        "id": "Dm06Nd07wbQq"
      },
      "id": "Dm06Nd07wbQq"
    },
    {
      "cell_type": "markdown",
      "source": [
        "*The reason why 32c is better than 16c and 64c can be attributed to the following factors:*\n",
        "\n",
        "\n",
        "*   Improved Discrimination: With a vocabulary size of 32 (32c), there are more centroids available to represent the descriptors compared to 16c. This increased number of centroids allows for a more precise and detailed representation of the visual features, resulting in improved discrimination between different images and better retrieval performance.\n",
        "\n",
        "*   Optimal Balance: While increasing the vocabulary size beyond 32c to 64c, the retrieval performance dropped. This suggests that a vocabulary size of 32c strikes a more optimal balance between capturing sufficient visual variations and avoiding overfitting. A vocabulary size that is too small (16c) may not capture enough visual details, while a larger vocabulary size (64c) may introduce more noise and less discriminative power.\n",
        "\n",
        "\n",
        "*   Computational Efficiency: Compared to 64c, a vocabulary size of 32c requires fewer centroids to be stored and processed during the retrieval process. This can lead to improved computational efficiency and faster query times, making it a more practical choice for real-time or large-scale applications."
      ],
      "metadata": {
        "id": "UBKDSAV1gbua"
      },
      "id": "UBKDSAV1gbua"
    },
    {
      "cell_type": "code",
      "source": [
        "plot_chart(train_times, vocab_labels, \"training times for different vocab sizes\", \"vocab size\", \"time\")"
      ],
      "metadata": {
        "colab": {
          "base_uri": "https://localhost:8080/",
          "height": 472
        },
        "id": "ukscwN0h7JDH",
        "outputId": "58b21a4f-a9e3-49b2-bf21-708fa5ec3f80"
      },
      "id": "ukscwN0h7JDH",
      "execution_count": 32,
      "outputs": [
        {
          "output_type": "display_data",
          "data": {
            "text/plain": [
              "<Figure size 640x480 with 1 Axes>"
            ],
            "image/png": "[encoded data removed]"
          },
          "metadata": {}
        }
      ]
    },
    {
      "cell_type": "code",
      "source": [
        "plot_chart(query_times, vocab_labels, \"query times for different vocab sizes\", \"vocab size\", \"time\")"
      ],
      "metadata": {
        "colab": {
          "base_uri": "https://localhost:8080/",
          "height": 472
        },
        "id": "9IKDi5bzeJBv",
        "outputId": "da751473-ff5e-4a57-b7d5-5f4e832578d2"
      },
      "id": "9IKDi5bzeJBv",
      "execution_count": 33,
      "outputs": [
        {
          "output_type": "display_data",
          "data": {
            "text/plain": [
              "<Figure size 640x480 with 1 Axes>"
            ],
            "image/png": "[encoded data removed]"
          },
          "metadata": {}
        }
      ]
    },
    {
      "cell_type": "code",
      "source": [
        "mAP_values = [mAP_16c, mAP_32c, mAP_64c]\n",
        "plot_chart(mAP_values, vocab_labels, \"mAP values for different vocab sizes\", \"vocab size\", \"mAP\")"
      ],
      "metadata": {
        "colab": {
          "base_uri": "https://localhost:8080/",
          "height": 472
        },
        "id": "3QSgr0dgrByf",
        "outputId": "e8ada44d-7e0f-4e79-fd8c-ca7e670ef1ca"
      },
      "id": "3QSgr0dgrByf",
      "execution_count": 31,
      "outputs": [
        {
          "output_type": "display_data",
          "data": {
            "text/plain": [
              "<Figure size 640x480 with 1 Axes>"
            ],
            "image/png": "[encoded data removed]"
          },
          "metadata": {}
        }
      ]
    },
    {
      "cell_type": "markdown",
      "id": "6ef2c22a",
      "metadata": {
        "deletable": false,
        "editable": false,
        "nbgrader": {
          "cell_type": "markdown",
          "checksum": "b14bee47354fc5eeb4d8956df246f42c",
          "grade": false,
          "grade_id": "cell-d810cafd17e8be3c",
          "locked": true,
          "points": 0.75,
          "schema_version": 3,
          "solution": false,
          "task": true
        },
        "id": "6ef2c22a"
      },
      "source": [
        "Write here the code required to answer the questions stated above. You can add more cells (code / markdown) at this point if you need it."
      ]
    },
    {
      "cell_type": "markdown",
      "id": "d740ef5f",
      "metadata": {
        "deletable": false,
        "editable": false,
        "nbgrader": {
          "cell_type": "markdown",
          "checksum": "f2abcbba2c734ac68474b1a9d07135dd",
          "grade": false,
          "grade_id": "cell-32d94270b9a99f2c",
          "locked": true,
          "schema_version": 3,
          "solution": false,
          "task": false
        },
        "id": "d740ef5f"
      },
      "source": [
        "**Q3**: Using the vocabulary which achieves the best performance in the previous point, analyze the effects of changing the parameters $m$ and $k$ in terms of mAP (always use multiples of 8). Some plots here can be useful to justify your answer. What about times (training and testing)? Do they vary?"
      ]
    },
    {
      "cell_type": "markdown",
      "source": [
        "As seen in the graphs below:\n",
        "\n",
        "\n",
        "*   For the parameter m\n",
        "*   For the parameter k\n",
        "\n"
      ],
      "metadata": {
        "id": "JmWinUroyb0i"
      },
      "id": "JmWinUroyb0i"
    },
    {
      "cell_type": "code",
      "source": [
        "import time\n",
        "\n",
        "start_time = time.time()\n",
        "quantizers_32c_8m = pq_build_quantizers(train_vlad_32c, m = 8, k = 256)\n",
        "index_32c_8m = pq_build_index(train_vlad_32c, quantizers_32c_8m)\n",
        "train_time_32c_8m = time.time() - start_time\n",
        "\n",
        "start_time = time.time()\n",
        "quantizers_32c_16m = pq_build_quantizers(train_vlad_32c, m = 16, k = 256)\n",
        "index_32c_16m = pq_build_index(train_vlad_32c, quantizers_32c_16m)\n",
        "train_time_32c_16m = time.time() - start_time\n",
        "\n",
        "start_time = time.time()\n",
        "quantizers_32c_24m = pq_build_quantizers(train_vlad_32c, m = 24, k = 256)\n",
        "index_32c_24m = pq_build_index(train_vlad_32c, quantizers_32c_24m)\n",
        "train_time_32c_24m = time.time() - start_time\n",
        "\n",
        "start_time = time.time()\n",
        "_, mAP_32c_8m = compute_mAP(query_names, query_vlad_32c, index_32c_8m, train_names, quantizers_32c_8m, '../holidays/holidays_images.dat')\n",
        "query_time_32c_8m = time.time() - start_time\n",
        "\n",
        "start_time = time.time()\n",
        "_, mAP_32c_16m = compute_mAP(query_names, query_vlad_32c, index_32c_16m, train_names, quantizers_32c_16m, '../holidays/holidays_images.dat')\n",
        "query_time_32c_16m = time.time() - start_time\n",
        "\n",
        "start_time = time.time()\n",
        "_, mAP_32c_24m = compute_mAP(query_names, query_vlad_32c, index_32c_24m, train_names, quantizers_32c_24m, '../holidays/holidays_images.dat')\n",
        "query_time_32c_24m = time.time() - start_time\n",
        "\n",
        "train_times_32c_m = [train_time_32c_8m, train_time_32c_16m, train_time_32c_24m]\n",
        "labels_m = [\"sift_32c_8m\", \"sift_32c_16m\", \"sift_32c_24m\"]\n",
        "query_times_32c_m = [query_time_32c_8m, query_time_32c_16m, query_time_32c_24m]"
      ],
      "metadata": {
        "id": "sozcJwR_wpJa"
      },
      "id": "sozcJwR_wpJa",
      "execution_count": 37,
      "outputs": []
    },
    {
      "cell_type": "code",
      "source": [
        "print('mAP_32c_8m: %.5f' % mAP_32c_8m)\n",
        "print('mAP_32c_16m: %.5f' % mAP_32c_16m)\n",
        "print('mAP_32c_24m: %.5f' % mAP_32c_24m)"
      ],
      "metadata": {
        "colab": {
          "base_uri": "https://localhost:8080/"
        },
        "id": "9Yww1mo60sTN",
        "outputId": "a66bb53f-10c5-40c0-a8dc-02dbe90116fe"
      },
      "id": "9Yww1mo60sTN",
      "execution_count": 38,
      "outputs": [
        {
          "output_type": "stream",
          "name": "stdout",
          "text": [
            "mAP_32c_8m: 0.36540\n",
            "mAP_32c_16m: 0.39489\n",
            "mAP_32c_24m: 0.40664\n"
          ]
        }
      ]
    },
    {
      "cell_type": "code",
      "source": [
        "mAP_values_m = [mAP_32c_8m, mAP_32c_16m, mAP_32c_24m]\n",
        "plot_chart(mAP_values_m, labels_m, \"mAP values for different ms\", \"m\", \"mAP\")"
      ],
      "metadata": {
        "colab": {
          "base_uri": "https://localhost:8080/",
          "height": 472
        },
        "id": "t_RLJtasyhJ3",
        "outputId": "46494f0c-3e76-406b-da6a-cea29b7b24b2"
      },
      "id": "t_RLJtasyhJ3",
      "execution_count": 39,
      "outputs": [
        {
          "output_type": "display_data",
          "data": {
            "text/plain": [
              "<Figure size 640x480 with 1 Axes>"
            ],
            "image/png": "[encoded data removed]"
          },
          "metadata": {}
        }
      ]
    },
    {
      "cell_type": "code",
      "source": [
        "start_time = time.time()\n",
        "quantizers_32c_256k = pq_build_quantizers(train_vlad_32c, m = 8, k = 256)\n",
        "index_32c_256k = pq_build_index(train_vlad_32c, quantizers_32c_256k)\n",
        "train_time_32c_256k = time.time() - start_time\n",
        "\n",
        "start_time = time.time()\n",
        "_, mAP_32c_256k = compute_mAP(query_names, query_vlad_32c, index_32c_256k, train_names, quantizers_32c_256k, '../holidays/holidays_images.dat')\n",
        "query_time_32c_256k = time.time() - start_time\n",
        "\n",
        "start_time = time.time()\n",
        "quantizers_32c_320k = pq_build_quantizers(train_vlad_32c, m = 8, k = 320)\n",
        "index_32c_320k = pq_build_index(train_vlad_32c, quantizers_32c_320k)\n",
        "train_time_32c_320k = time.time() - start_time\n",
        "\n",
        "start_time = time.time()\n",
        "_, mAP_32c_320k = compute_mAP(query_names, query_vlad_32c, index_32c_320k, train_names, quantizers_32c_320k, '../holidays/holidays_images.dat')\n",
        "query_time_32c_320k = time.time() - start_time\n",
        "\n",
        "start_time = time.time()\n",
        "quantizers_32c_352k = pq_build_quantizers(train_vlad_32c, m = 8, k = 352)\n",
        "index_32c_352k = pq_build_index(train_vlad_32c, quantizers_32c_352k)\n",
        "train_time_32c_352k  = time.time() - start_time\n",
        "\n",
        "start_time = time.time()\n",
        "_, mAP_32c_352k = compute_mAP(query_names, query_vlad_32c, index_32c_352k, train_names, quantizers_32c_352k, '../holidays/holidays_images.dat')\n",
        "query_time_32c_352k = time.time() - start_time\n",
        "\n",
        "mAP_values_k = [mAP_32c_256k, mAP_32c_320k, mAP_32c_352k]\n",
        "labels_k = [\"sift_32c_256k\", \"sift_32c_320k\", \"sift_32c_352k\"]\n",
        "train_times_32c_k = [train_time_32c_256k, train_time_32c_320k, train_time_32c_352k]\n",
        "query_times_32c_k = [query_time_32c_256k, query_time_32c_320k, query_time_32c_352k]"
      ],
      "metadata": {
        "id": "JhS1R5fgypHu"
      },
      "id": "JhS1R5fgypHu",
      "execution_count": 40,
      "outputs": []
    },
    {
      "cell_type": "code",
      "source": [
        "print('mAP_32c_256k: %.5f' % mAP_32c_256k)\n",
        "print('mAP_32c_320k: %.5f' % mAP_32c_320k)\n",
        "print('mAP_32c_352k: %.5f' % mAP_32c_352k)"
      ],
      "metadata": {
        "colab": {
          "base_uri": "https://localhost:8080/"
        },
        "id": "aZGmQo-H1oD7",
        "outputId": "724c17e7-facc-4c53-eb8c-76394990512f"
      },
      "id": "aZGmQo-H1oD7",
      "execution_count": 41,
      "outputs": [
        {
          "output_type": "stream",
          "name": "stdout",
          "text": [
            "mAP_32c_256k: 0.37854\n",
            "mAP_32c_320k: 0.37445\n",
            "mAP_32c_352k: 0.37937\n"
          ]
        }
      ]
    },
    {
      "cell_type": "code",
      "source": [
        "plot_chart(mAP_values_k, labels_k, \"mAP values for different ks\", \"k\", \"mAP\")"
      ],
      "metadata": {
        "colab": {
          "base_uri": "https://localhost:8080/",
          "height": 472
        },
        "id": "F2nbaPml0U1O",
        "outputId": "95c9ce48-af9a-40ba-a9f3-c197b54a9220"
      },
      "id": "F2nbaPml0U1O",
      "execution_count": 42,
      "outputs": [
        {
          "output_type": "display_data",
          "data": {
            "text/plain": [
              "<Figure size 640x480 with 1 Axes>"
            ],
            "image/png": "[encoded data removed]"
          },
          "metadata": {}
        }
      ]
    },
    {
      "cell_type": "code",
      "source": [
        "plot_comparison_chart(labels_m, labels_k, train_times_32c_m, train_times_32c_k, 'm', 'k', 'm vs k', 'train times', 'Difference in train times for different m&ks')"
      ],
      "metadata": {
        "colab": {
          "base_uri": "https://localhost:8080/",
          "height": 599
        },
        "id": "2KkXP8XNjwWe",
        "outputId": "746e373e-c202-476b-f0d9-9286aa1bcee6"
      },
      "id": "2KkXP8XNjwWe",
      "execution_count": 43,
      "outputs": [
        {
          "output_type": "display_data",
          "data": {
            "text/plain": [
              "<Figure size 640x480 with 1 Axes>"
            ],
            "image/png": "[encoded data removed]"
          },
          "metadata": {}
        }
      ]
    },
    {
      "cell_type": "code",
      "source": [
        "plot_comparison_chart(labels_m, labels_k, query_times_32c_m, query_times_32c_k, 'm', 'k', 'm vs k', 'query times', 'Difference in query times for different m&ks')"
      ],
      "metadata": {
        "colab": {
          "base_uri": "https://localhost:8080/",
          "height": 599
        },
        "id": "NArDdgtYnHGK",
        "outputId": "cab4d077-4c7c-4ae7-cc6c-05a1f7d97b23"
      },
      "id": "NArDdgtYnHGK",
      "execution_count": 44,
      "outputs": [
        {
          "output_type": "display_data",
          "data": {
            "text/plain": [
              "<Figure size 640x480 with 1 Axes>"
            ],
            "image/png": "[encoded data removed]"
          },
          "metadata": {}
        }
      ]
    },
    {
      "cell_type": "markdown",
      "id": "88e63187",
      "metadata": {
        "deletable": false,
        "editable": false,
        "nbgrader": {
          "cell_type": "markdown",
          "checksum": "08843a567938c1d6852147e2506bce79",
          "grade": false,
          "grade_id": "cell-396f1cf0f08478bc",
          "locked": true,
          "points": 1.5,
          "schema_version": 3,
          "solution": false,
          "task": true
        },
        "id": "88e63187"
      },
      "source": [
        "Write here the code required to answer the questions stated above. You can add more cells (code / markdown) at this point if you need it."
      ]
    },
    {
      "cell_type": "markdown",
      "id": "110989f3",
      "metadata": {
        "deletable": false,
        "editable": false,
        "nbgrader": {
          "cell_type": "markdown",
          "checksum": "914e7ce38c68df2f1d42b96a3161f356",
          "grade": false,
          "grade_id": "cell-e1815efcc59b5e7e",
          "locked": true,
          "schema_version": 3,
          "solution": false,
          "task": false
        },
        "id": "110989f3"
      },
      "source": [
        "## Search Reranking\n",
        "---\n",
        "As a final step, you will play with a *Relevance Feedback* method. More precisely, you will write the required code to implement the **Ide Dec-Hi** algorithm. Remember that it is a simple variant of the Rocchio algorithm where only one non-relevant result is employed.\n",
        "\n",
        "First, to implement this method, we need a way to classify an initial set of results in *relevant* and *non-relevant* for a given query. As we saw, in computer vision, this is typically carried out using geometric spatial verificacion techniques. However, in this assignment, for simplicity and to speed up the execution, we will make use of the following function that separates a list of results in *relevant* and *non-relevant* using just the name of the images:"
      ]
    },
    {
      "cell_type": "code",
      "execution_count": null,
      "id": "c40a0328",
      "metadata": {
        "deletable": false,
        "editable": false,
        "nbgrader": {
          "cell_type": "code",
          "checksum": "bd323431de43518d74858858ac45e6f4",
          "grade": false,
          "grade_id": "cell-754b3925da92dc84",
          "locked": true,
          "schema_version": 3,
          "solution": false,
          "task": false
        },
        "id": "c40a0328"
      },
      "outputs": [],
      "source": [
        "def validate_results(query_name, list_of_results):\n",
        "    '''\n",
        "    Separate a result list into relevant and non-relevant results.\n",
        "    \n",
        "    - query_name: Name of the query image.\n",
        "    - list_of_results: An ordered list of similar images following the format\n",
        "        returned by the 'search_image' function.\n",
        "  \n",
        "    RETURN:\n",
        "    - relevant: An ordered list of relevant images in list_of_results.\n",
        "    - non-relevant: An ordered list of non-relevant images in list_of_results.\n",
        "    '''\n",
        "  \n",
        "    relevant = []\n",
        "    non_relevant = []\n",
        "      \n",
        "    q_imno = int(query_name[:-len(\".jpg\")])\n",
        "  \n",
        "    for res in list_of_results:\n",
        "        t_imno = int(res[:-len(\".jpg\")])\n",
        "        if np.abs(t_imno - q_imno) < 10:\n",
        "            relevant.append(res)\n",
        "        else:\n",
        "            non_relevant.append(res)\n",
        "  \n",
        "    return relevant, non_relevant"
      ]
    },
    {
      "cell_type": "markdown",
      "id": "3e1f715f",
      "metadata": {
        "deletable": false,
        "editable": false,
        "nbgrader": {
          "cell_type": "markdown",
          "checksum": "0630a72f4bdda22ed4f2ed7d2a37870b",
          "grade": false,
          "grade_id": "cell-73fc09912978f2d8",
          "locked": true,
          "schema_version": 3,
          "solution": false,
          "task": false
        },
        "id": "3e1f715f"
      },
      "source": [
        "Check the function using the following code:"
      ]
    },
    {
      "cell_type": "code",
      "execution_count": null,
      "id": "92157907",
      "metadata": {
        "deletable": false,
        "editable": false,
        "nbgrader": {
          "cell_type": "code",
          "checksum": "862332f43a8c0a89a45aeec0373034be",
          "grade": false,
          "grade_id": "cell-a534a0b74909bd53",
          "locked": true,
          "schema_version": 3,
          "solution": false,
          "task": false
        },
        "id": "92157907",
        "colab": {
          "base_uri": "https://localhost:8080/"
        },
        "outputId": "11aa22e7-a52f-4d92-b112-0ec1e52bdb06"
      },
      "outputs": [
        {
          "output_type": "stream",
          "name": "stderr",
          "text": [
            "/usr/local/lib/python3.10/dist-packages/scipy/cluster/vq.py:602: UserWarning: One of the clusters is empty. Re-run kmeans with a different initialization.\n",
            "  warnings.warn(\"One of the clusters is empty. \"\n"
          ]
        },
        {
          "output_type": "stream",
          "name": "stdout",
          "text": [
            "100500.jpg\n",
            "['100501.jpg', '100503.jpg', '102401.jpg', '120101.jpg', '132001.jpg', '144801.jpg', '148201.jpg', '100401.jpg', '133202.jpg', '133201.jpg', '131102.jpg', '103102.jpg', '103902.jpg', '127802.jpg', '147303.jpg', '112501.jpg', '139901.jpg', '148202.jpg', '117601.jpg', '127301.jpg', '116703.jpg', '137103.jpg', '125601.jpg', '103601.jpg', '102402.jpg', '128001.jpg', '102601.jpg', '103101.jpg', '103901.jpg', '145401.jpg', '140201.jpg', '120301.jpg', '129002.jpg', '112101.jpg', '120201.jpg', '104801.jpg', '111401.jpg', '111702.jpg', '111701.jpg', '112403.jpg', '136901.jpg', '112404.jpg', '100001.jpg', '129602.jpg', '136902.jpg', '109402.jpg', '126002.jpg', '118202.jpg', '110201.jpg', '131201.jpg', '129001.jpg', '120401.jpg', '128002.jpg', '126301.jpg', '147701.jpg', '112201.jpg', '136002.jpg', '136503.jpg', '116803.jpg', '106301.jpg', '113701.jpg', '111801.jpg', '137001.jpg', '136702.jpg', '147401.jpg', '133501.jpg', '134604.jpg', '144803.jpg', '136703.jpg', '136701.jpg', '122203.jpg', '135802.jpg', '100301.jpg', '100302.jpg', '111703.jpg', '131101.jpg', '112302.jpg', '127801.jpg', '103302.jpg', '126001.jpg', '130301.jpg', '143903.jpg', '135601.jpg', '109401.jpg', '104902.jpg', '146502.jpg', '131602.jpg', '144802.jpg', '119501.jpg', '137002.jpg', '134605.jpg', '100502.jpg', '136504.jpg', '134503.jpg', '112301.jpg', '111201.jpg', '149201.jpg', '125801.jpg', '125802.jpg', '107101.jpg', '134502.jpg', '102501.jpg', '136707.jpg', '135701.jpg', '135001.jpg', '108101.jpg', '129201.jpg', '115301.jpg', '123201.jpg', '133301.jpg', '136903.jpg', '106801.jpg', '140901.jpg', '148101.jpg', '146901.jpg', '114601.jpg', '102301.jpg', '134802.jpg', '139801.jpg', '127101.jpg', '144901.jpg', '104901.jpg', '104502.jpg', '118201.jpg', '126101.jpg', '110101.jpg', '117402.jpg', '136804.jpg', '114801.jpg', '125001.jpg', '107201.jpg', '134603.jpg', '123601.jpg', '147702.jpg', '130401.jpg', '131603.jpg', '102303.jpg', '129601.jpg', '107001.jpg', '118501.jpg', '116001.jpg', '135501.jpg', '138605.jpg', '133801.jpg', '123602.jpg', '117901.jpg', '136003.jpg', '123801.jpg', '100201.jpg', '103301.jpg', '123205.jpg', '118002.jpg', '145901.jpg', '143901.jpg', '110801.jpg', '137102.jpg', '131601.jpg', '116101.jpg', '149302.jpg', '136601.jpg', '148603.jpg', '104701.jpg', '135301.jpg', '117302.jpg', '108901.jpg', '138401.jpg', '140601.jpg', '128502.jpg', '106401.jpg', '129003.jpg', '147502.jpg', '137802.jpg', '143902.jpg', '147402.jpg', '145402.jpg', '118001.jpg', '135801.jpg', '128501.jpg', '148001.jpg', '143001.jpg', '112402.jpg', '147304.jpg', '138011.jpg', '110301.jpg', '135002.jpg', '135901.jpg', '136802.jpg', '109501.jpg', '111301.jpg', '137003.jpg', '113501.jpg', '147301.jpg', '135003.jpg', '135302.jpg', '136704.jpg', '130802.jpg', '119301.jpg', '148002.jpg', '114201.jpg', '138006.jpg', '118101.jpg', '116802.jpg', '110302.jpg', '140801.jpg', '112405.jpg', '116801.jpg', '124802.jpg', '146501.jpg', '142701.jpg', '135503.jpg', '111501.jpg', '120501.jpg', '136505.jpg', '138005.jpg', '138012.jpg', '146402.jpg', '137007.jpg', '130801.jpg', '144902.jpg', '147601.jpg', '136805.jpg', '144903.jpg', '103801.jpg', '113601.jpg', '108203.jpg', '143301.jpg', '127701.jpg', '102101.jpg', '134201.jpg', '146202.jpg', '123301.jpg', '123402.jpg', '119203.jpg', '128801.jpg', '116501.jpg', '138004.jpg', '122201.jpg', '117401.jpg', '130701.jpg', '129801.jpg', '101702.jpg', '105901.jpg', '108902.jpg', '106202.jpg', '121201.jpg', '133401.jpg', '130201.jpg', '147103.jpg', '119901.jpg', '126202.jpg', '141703.jpg', '138104.jpg', '135502.jpg', '122202.jpg', '136009.jpg', '107901.jpg', '114503.jpg', '137101.jpg', '105301.jpg', '107401.jpg', '107902.jpg', '103401.jpg', '126801.jpg', '130303.jpg', '138001.jpg', '117802.jpg', '100002.jpg', '108601.jpg', '133802.jpg', '133101.jpg', '134803.jpg', '129802.jpg', '118601.jpg', '147302.jpg', '122401.jpg', '133602.jpg', '123501.jpg', '144702.jpg', '104401.jpg', '128301.jpg', '136706.jpg', '126102.jpg', '106201.jpg', '148301.jpg', '147602.jpg', '112401.jpg', '124101.jpg', '106403.jpg', '149603.jpg', '116201.jpg', '117301.jpg', '123204.jpg', '122702.jpg', '119202.jpg', '132401.jpg', '136008.jpg', '118901.jpg', '146003.jpg', '133901.jpg', '117403.jpg', '103501.jpg', '148701.jpg', '109601.jpg', '121701.jpg', '146201.jpg', '149401.jpg', '138009.jpg', '138010.jpg', '138002.jpg', '104501.jpg', '134504.jpg', '109802.jpg', '138309.jpg', '124002.jpg', '134804.jpg', '103201.jpg', '136010.jpg', '136004.jpg', '116901.jpg', '109701.jpg', '145101.jpg', '123202.jpg', '132402.jpg', '114903.jpg', '133703.jpg', '149001.jpg', '126804.jpg', '137801.jpg', '131802.jpg', '134402.jpg', '145201.jpg', '119401.jpg', '133701.jpg', '130102.jpg', '146701.jpg', '140401.jpg', '146002.jpg', '112003.jpg', '122402.jpg', '103702.jpg', '101701.jpg', '119602.jpg', '110802.jpg', '119701.jpg', '106501.jpg', '130001.jpg', '105103.jpg', '124201.jpg', '129101.jpg', '141501.jpg', '147603.jpg', '118301.jpg', '112001.jpg', '130601.jpg', '104201.jpg', '121001.jpg', '139002.jpg', '146404.jpg', '136801.jpg', '146101.jpg', '113901.jpg', '108201.jpg', '119601.jpg', '141601.jpg', '144804.jpg', '130901.jpg', '144703.jpg', '105001.jpg', '137004.jpg', '122701.jpg', '138303.jpg', '136501.jpg', '121901.jpg', '136005.jpg', '115001.jpg', '108202.jpg', '135702.jpg', '135902.jpg', '112407.jpg', '122703.jpg', '101402.jpg', '146001.jpg', '132701.jpg', '119101.jpg', '106901.jpg', '132201.jpg', '115401.jpg', '132901.jpg', '131001.jpg', '124202.jpg', '104802.jpg', '122704.jpg', '121601.jpg', '121101.jpg', '138305.jpg', '147801.jpg', '112408.jpg', '134702.jpg', '113201.jpg', '121501.jpg', '101201.jpg', '114902.jpg', '116002.jpg', '140802.jpg', '132302.jpg', '123101.jpg', '118701.jpg', '112406.jpg', '147101.jpg', '126901.jpg', '107202.jpg', '113404.jpg', '105101.jpg', '122708.jpg', '105801.jpg', '147202.jpg', '123203.jpg', '103303.jpg', '104601.jpg', '135201.jpg', '149101.jpg', '101301.jpg', '116301.jpg', '115801.jpg', '147501.jpg', '144704.jpg', '114901.jpg', '100801.jpg', '122706.jpg', '133601.jpg', '108501.jpg', '138307.jpg', '128201.jpg', '124701.jpg', '138306.jpg', '132902.jpg', '105201.jpg', '106605.jpg', '119703.jpg', '149002.jpg', '146405.jpg', '113502.jpg', '149301.jpg', '105102.jpg', '103503.jpg', '134101.jpg', '101403.jpg', '106903.jpg', '147201.jpg', '139701.jpg', '143702.jpg', '126805.jpg', '146102.jpg', '129501.jpg', '105002.jpg', '127001.jpg', '134403.jpg', '124001.jpg', '103002.jpg', '123401.jpg', '135402.jpg', '120701.jpg', '122101.jpg', '121403.jpg', '134501.jpg', '134801.jpg', '138604.jpg', '106601.jpg', '125703.jpg', '106101.jpg', '124901.jpg', '138308.jpg', '122301.jpg', '136502.jpg', '126902.jpg', '134401.jpg', '124801.jpg', '134701.jpg', '116601.jpg', '111601.jpg', '146801.jpg', '138101.jpg', '103204.jpg', '122705.jpg', '106606.jpg', '136103.jpg', '105701.jpg', '123901.jpg', '105401.jpg', '136006.jpg', '103502.jpg', '133702.jpg', '146207.jpg', '118003.jpg', '108701.jpg', '130101.jpg', '135401.jpg', '139103.jpg', '139003.jpg', '142002.jpg', '116402.jpg', '139101.jpg', '115101.jpg', '115602.jpg', '112801.jpg', '107203.jpg', '137006.jpg', '140001.jpg', '135703.jpg', '102202.jpg', '134901.jpg', '134602.jpg', '128101.jpg', '138105.jpg', '115201.jpg', '119702.jpg', '143701.jpg', '134703.jpg', '105802.jpg', '144301.jpg', '114301.jpg', '138201.jpg', '145301.jpg', '107601.jpg', '123002.jpg', '136201.jpg', '109301.jpg', '124301.jpg', '146203.jpg', '147001.jpg', '139202.jpg', '149601.jpg', '127602.jpg', '125501.jpg', '141701.jpg', '149602.jpg', '105104.jpg', '137702.jpg', '101101.jpg', '126701.jpg', '138302.jpg', '118302.jpg', '131901.jpg', '117501.jpg', '129202.jpg', '104203.jpg', '129301.jpg', '146403.jpg', '102901.jpg', '113301.jpg', '131801.jpg', '106702.jpg', '140301.jpg', '113401.jpg', '137302.jpg', '138301.jpg', '102001.jpg', '123701.jpg', '116701.jpg', '135103.jpg', '115702.jpg', '136301.jpg', '136007.jpg', '138304.jpg', '139102.jpg', '136803.jpg', '142201.jpg', '127601.jpg', '123001.jpg', '139104.jpg', '138707.jpg', '111002.jpg', '119704.jpg', '111001.jpg', '145601.jpg', '103203.jpg', '117201.jpg', '138706.jpg', '113101.jpg', '103701.jpg', '149501.jpg', '103304.jpg', '107301.jpg', '141303.jpg', '101404.jpg', '109801.jpg', '112601.jpg', '139502.jpg', '122102.jpg', '129701.jpg', '116401.jpg', '112602.jpg', '128601.jpg', '128401.jpg', '102302.jpg', '149604.jpg', '117701.jpg', '134001.jpg', '118802.jpg', '111901.jpg', '143401.jpg', '143101.jpg', '106604.jpg', '136203.jpg', '107801.jpg', '137005.jpg', '135101.jpg', '137602.jpg', '131805.jpg', '126807.jpg', '141704.jpg', '145902.jpg', '119001.jpg', '106902.jpg', '139205.jpg', '145203.jpg', '108301.jpg', '106602.jpg', '138603.jpg', '139505.jpg', '122002.jpg', '108106.jpg', '137301.jpg', '118303.jpg', '146204.jpg', '134301.jpg', '145501.jpg', '126705.jpg', '114101.jpg', '136402.jpg', '148602.jpg', '104202.jpg', '137703.jpg', '139603.jpg', '136101.jpg', '122707.jpg', '136705.jpg', '126702.jpg', '138708.jpg', '132801.jpg', '122302.jpg', '102801.jpg', '139404.jpg', '144601.jpg', '100101.jpg', '116702.jpg', '102701.jpg', '138102.jpg', '141401.jpg', '146303.jpg', '122504.jpg', '139203.jpg', '111101.jpg', '137503.jpg', '123003.jpg', '138905.jpg', '141702.jpg', '102802.jpg', '126806.jpg', '144501.jpg', '136403.jpg', '117102.jpg', '139403.jpg', '146302.jpg', '114702.jpg', '108401.jpg', '137504.jpg', '130501.jpg', '131502.jpg', '117801.jpg', '142101.jpg', '119201.jpg', '138503.jpg', '138704.jpg', '113403.jpg', '129901.jpg', '121301.jpg', '135102.jpg', '145701.jpg', '142502.jpg', '140503.jpg', '114501.jpg', '126703.jpg', '139105.jpg', '134601.jpg', '119605.jpg', '138103.jpg', '145001.jpg', '104003.jpg', '108102.jpg', '138705.jpg', '148203.jpg', '109901.jpg', '138602.jpg', '126802.jpg', '115902.jpg', '125301.jpg', '143601.jpg', '132511.jpg', '112901.jpg', '106603.jpg', '125701.jpg', '141101.jpg', '113001.jpg', '145502.jpg', '120703.jpg', '102201.jpg', '140803.jpg', '120801.jpg', '139402.jpg', '138003.jpg', '110701.jpg', '109201.jpg', '141901.jpg', '124402.jpg', '132509.jpg', '143904.jpg', '139602.jpg', '148401.jpg', '115701.jpg', '114504.jpg', '147102.jpg', '139501.jpg', '104101.jpg', '132601.jpg', '141001.jpg', '124302.jpg', '148601.jpg', '101601.jpg', '109101.jpg', '136001.jpg', '138701.jpg', '144701.jpg', '144302.jpg', '126201.jpg', '138703.jpg', '120702.jpg', '106402.jpg', '144104.jpg', '101401.jpg', '126704.jpg', '112902.jpg', '119801.jpg', '132101.jpg', '114703.jpg', '124401.jpg', '143501.jpg', '120901.jpg', '104301.jpg', '136202.jpg', '132508.jpg', '137701.jpg', '142004.jpg', '107701.jpg', '144201.jpg', '142501.jpg', '101901.jpg', '125401.jpg', '118402.jpg', '110401.jpg', '128701.jpg', '130302.jpg', '131401.jpg', '139401.jpg', '119603.jpg', '121404.jpg', '117001.jpg', '108105.jpg', '142901.jpg', '141304.jpg', '145801.jpg', '139204.jpg', '140502.jpg', '100601.jpg', '139005.jpg', '118801.jpg', '108103.jpg', '139303.jpg', '131803.jpg', '113402.jpg', '148901.jpg', '126803.jpg', '124003.jpg', '105501.jpg', '146401.jpg', '131301.jpg', '142003.jpg', '100901.jpg', '100902.jpg', '149902.jpg', '141301.jpg', '101801.jpg', '147901.jpg', '136401.jpg', '139601.jpg', '141302.jpg', '144103.jpg', '145102.jpg', '106002.jpg', '148801.jpg', '140501.jpg', '119604.jpg', '148003.jpg', '106704.jpg', '126501.jpg', '121401.jpg', '143803.jpg', '122601.jpg', '122602.jpg', '132102.jpg', '127501.jpg', '104005.jpg', '104006.jpg', '104001.jpg', '122503.jpg', '120601.jpg', '104004.jpg', '125203.jpg', '108001.jpg', '103202.jpg', '139201.jpg', '141801.jpg', '122001.jpg', '142401.jpg', '122801.jpg', '101501.jpg', '132503.jpg', '122501.jpg', '114701.jpg', '123404.jpg', '145002.jpg', '139004.jpg', '108801.jpg', '142301.jpg', '123403.jpg', '101504.jpg', '106701.jpg', '138202.jpg', '142302.jpg', '149801.jpg', '106703.jpg', '131402.jpg', '112701.jpg', '127901.jpg', '126808.jpg', '132506.jpg', '141201.jpg', '143802.jpg', '122901.jpg', '143201.jpg', '149102.jpg', '125102.jpg', '133002.jpg', '129401.jpg', '137705.jpg', '138803.jpg', '101502.jpg', '146602.jpg', '140101.jpg', '142601.jpg', '134003.jpg', '138902.jpg', '142001.jpg', '132504.jpg', '118803.jpg', '104002.jpg', '141202.jpg', '121801.jpg', '139503.jpg', '138802.jpg', '138801.jpg', '132510.jpg', '144001.jpg', '137603.jpg', '127201.jpg', '146206.jpg', '134002.jpg', '132502.jpg', '110501.jpg', '132507.jpg', '110702.jpg', '138504.jpg', '138203.jpg', '132303.jpg', '138008.jpg', '138903.jpg', '138502.jpg', '101503.jpg', '132301.jpg', '114502.jpg', '137601.jpg', '114401.jpg', '140701.jpg', '125101.jpg', '110001.jpg', '125202.jpg', '121402.jpg', '138506.jpg', '137901.jpg', '144101.jpg', '140902.jpg', '124601.jpg', '146601.jpg', '138507.jpg', '138007.jpg', '132501.jpg', '113801.jpg', '132505.jpg', '125901.jpg', '127202.jpg', '138702.jpg', '137401.jpg', '126601.jpg', '115601.jpg', '104402.jpg', '115901.jpg', '107702.jpg', '136102.jpg', '143801.jpg', '114402.jpg', '127401.jpg', '108104.jpg', '118401.jpg', '131501.jpg', '124501.jpg', '138901.jpg', '148902.jpg', '127402.jpg', '114002.jpg', '128901.jpg', '135104.jpg', '139001.jpg', '112002.jpg', '133001.jpg', '139301.jpg', '146301.jpg', '138501.jpg', '133003.jpg', '114001.jpg', '137502.jpg', '131503.jpg', '101001.jpg', '145803.jpg', '149901.jpg', '126502.jpg', '117101.jpg', '137501.jpg', '146205.jpg', '107501.jpg', '147802.jpg', '144102.jpg', '138505.jpg', '106001.jpg', '148004.jpg', '144402.jpg', '120001.jpg', '145003.jpg', '122502.jpg', '122709.jpg', '145802.jpg', '139302.jpg', '127503.jpg', '139504.jpg', '110901.jpg', '103001.jpg', '105601.jpg', '100701.jpg', '131701.jpg', '126402.jpg', '131804.jpg', '138601.jpg', '138904.jpg', '142801.jpg', '139506.jpg', '137704.jpg', '108802.jpg', '115501.jpg', '127502.jpg', '126401.jpg', '144401.jpg', '125702.jpg', '109001.jpg', '110601.jpg', '125201.jpg', '145202.jpg', '137201.jpg', '127403.jpg', '149701.jpg', '148501.jpg', '141802.jpg', '141803.jpg']\n",
            "['100501.jpg', '100503.jpg', '100502.jpg']\n",
            "['102401.jpg', '120101.jpg', '132001.jpg']\n"
          ]
        }
      ],
      "source": [
        "# Describe images using VLAD\n",
        "query_vlad = describe_images_VLAD(query_desc, vocab_32c)\n",
        "train_vlad = describe_images_VLAD(train_desc, vocab_32c)\n",
        "\n",
        "# Train quantizers\n",
        "quants = pq_build_quantizers(train_vlad, m = 8, k = 256)\n",
        "\n",
        "# Create an index\n",
        "index = pq_build_index(train_vlad, quants)\n",
        "\n",
        "i = 5\n",
        "print(query_names[i])\n",
        "r = search_image(query_vlad[i], index, quants, train_names)\n",
        "print(r)\n",
        "rev, nrev = validate_results(query_names[i], r)\n",
        "print(rev)\n",
        "print(nrev[:3])"
      ]
    },
    {
      "cell_type": "code",
      "source": [
        "print(query_vlad[0])"
      ],
      "metadata": {
        "colab": {
          "base_uri": "https://localhost:8080/"
        },
        "id": "u3fn_L_6AvO_",
        "outputId": "af567c51-63e7-42a4-a05c-e78874df402a"
      },
      "id": "u3fn_L_6AvO_",
      "execution_count": null,
      "outputs": [
        {
          "output_type": "stream",
          "name": "stdout",
          "text": [
            "[-0.01708985 -0.00229319  0.00131438 ... -0.00762179 -0.00830551\n",
            "  0.01966916]\n"
          ]
        }
      ]
    },
    {
      "cell_type": "code",
      "source": [
        "print(train_vlad[2])"
      ],
      "metadata": {
        "colab": {
          "base_uri": "https://localhost:8080/"
        },
        "id": "zKfHuIU-CTk7",
        "outputId": "eb26602c-f951-4416-b600-d81a3b754096"
      },
      "id": "zKfHuIU-CTk7",
      "execution_count": null,
      "outputs": [
        {
          "output_type": "stream",
          "name": "stdout",
          "text": [
            "[-0.02503503 -0.02158963 -0.0095966  ... -0.0054324  -0.00137692\n",
            " -0.00818477]\n"
          ]
        }
      ]
    },
    {
      "cell_type": "markdown",
      "id": "f57ce5b4",
      "metadata": {
        "deletable": false,
        "editable": false,
        "nbgrader": {
          "cell_type": "markdown",
          "checksum": "3505234b9ba0fd528dd5145bea56e3d2",
          "grade": false,
          "grade_id": "cell-5bd88f530e26457b",
          "locked": true,
          "schema_version": 3,
          "solution": false,
          "task": false
        },
        "id": "f57ce5b4"
      },
      "source": [
        "Write a function called `compute_mAP_rf`. This function will do mainly the same as `compute_mAP`, but adding the Ide Dec-Hi algorithm as a *Relevance Feedback* method to enhance the retrieval results. For each query image:\n",
        "- Perform an initial query using the original VLAD descriptor $Q_0$.\n",
        "- Validate the obtained results, classifying images into *relevant* or *non-relevant*.\n",
        "- If there is at least 1 *relevant* result, compute a new query vector as:\n",
        "$$\n",
        "Q_m = \\alpha Q_0 + \\beta \\frac{1}{|D_r|} \\displaystyle \\sum_{i=1}^{|D_r|} D_r^i - \\gamma D_{nr}^0\\,,\n",
        "$$\n",
        "where $\\alpha$, $\\beta$ and $\\gamma$ are the weights used in the algorithm, $D_r$ is the set of *relevant* images and $D_{nr}^0$ is the best *non-relevant* image (just one). Otherwise, the search is over.\n",
        "- Re-query **once** using $Q_m$. This will be the final result set for this query image. You can also append the results to the original set.\n",
        "\n",
        "Notice that we will use VLAD vectors to compute $Q_m$ and, therefore, we will need the original set (*train_descs*), since the index contains the encoded version of the database images."
      ]
    },
    {
      "cell_type": "code",
      "execution_count": null,
      "id": "56b739e1",
      "metadata": {
        "deletable": false,
        "nbgrader": {
          "cell_type": "code",
          "checksum": "00011b88f9917e488d30e76d2ac878d9",
          "grade": false,
          "grade_id": "cell-15a53009d74717f7",
          "locked": false,
          "schema_version": 3,
          "solution": true,
          "task": false
        },
        "id": "56b739e1"
      },
      "outputs": [],
      "source": [
        "def compute_mAP_rf(query_names, query_descs, vlad_train_descs, train_names, train_descs, index, \n",
        "              quantizers, gt_file, alpha = 1.0, beta = 0.75, gamma = 0.25):  \n",
        "    '''\n",
        "    Perform a search for a list of query images against the database, adding Ide\n",
        "     Dec-Hi as a RF method.\n",
        "    \n",
        "    - query_names: An ordered list with the names of query images.\n",
        "    - query_descs: A list containing VLAD vectors of size (D, ) we want to search.\n",
        "        Each element i is a numpy array extracted from the image i.\n",
        "    - train_names: A list of image names to associate each code in 'index' with \n",
        "        its name in the dataset.\n",
        "    - train_descs: A list containing VLAD vectors of size (D, ) corresponding to \n",
        "        the database images.\n",
        "    - index: Index of images to search the query descriptors.\n",
        "    - quantizers: A list of m quantizers.\n",
        "        Each one is a numpy array of size (k, D / m), where k and m where\n",
        "        defined during the vocabulary construction.\n",
        "    - alpha, beta, gamma: Ide's Dec-Hi algorithm weights.\n",
        "  \n",
        "    RETURN: \n",
        "    - total_results: A dictionary containing, for each query image, \n",
        "        an ordered list of the retrieved images.\n",
        "    - m_ap: Mean Average Precision averaged over all queries.\n",
        "    '''\n",
        "    total_results = {}\n",
        "    m_ap = 0.0\n",
        "\n",
        "    train_descs = np.array(train_descs)  # Convert train_descs to NumPy array\n",
        "\n",
        "    # Iterate over query images\n",
        "    for query_name, query_desc in zip(query_names, query_descs):\n",
        "        # Perform initial query using the original VLAD descriptor\n",
        "        result_names = search_image(query_desc, index, quantizers, train_names)\n",
        "\n",
        "        # Validate the obtained results\n",
        "        relevant, non_relevant = validate_results(query_name, result_names)\n",
        "\n",
        "        if len(relevant) > 0 and len(non_relevant) > 0:\n",
        "            num_relevant = len(relevant)\n",
        "            best_non_relevant = non_relevant[0]\n",
        "            best_non_relevant_index = train_names.index(best_non_relevant)\n",
        "            best_non_relevent_vlad = vlad_train_descs[best_non_relevant_index]\n",
        "\n",
        "            relevant_vlad_descs = [vlad_train_descs[train_names.index(idx)] for idx in relevant]\n",
        "            vlad_array = np.array(relevant_vlad_descs)\n",
        "            avg_relevent_query = np.mean(vlad_array, axis=0)\n",
        "            \n",
        "            new_query_desc = (alpha * query_desc) + ((beta) * avg_relevent_query) - (gamma * best_non_relevent_vlad)\n",
        "\n",
        "            # Re-query using the new query vector\n",
        "            refined_result_names = search_image(new_query_desc, index, quantizers, train_names)\n",
        "\n",
        "            # Append the refined results to the original set\n",
        "            result_names += refined_result_names\n",
        "\n",
        "        # Store the results for the query image\n",
        "        total_results[query_name] = result_names\n",
        "\n",
        "    # Compute Mean Average Precision\n",
        "    m_ap = ev.compute_mAP(total_results, gt_file)\n",
        "\n",
        "    return total_results, m_ap"
      ]
    },
    {
      "cell_type": "code",
      "execution_count": null,
      "id": "e9fe5d19",
      "metadata": {
        "deletable": false,
        "editable": false,
        "nbgrader": {
          "cell_type": "code",
          "checksum": "55f2e44a2bc3a0b717cba436fed08261",
          "grade": true,
          "grade_id": "cell-4c6e72449fcf1a1c",
          "locked": true,
          "points": 0.6,
          "schema_version": 3,
          "solution": false,
          "task": false
        },
        "id": "e9fe5d19",
        "colab": {
          "base_uri": "https://localhost:8080/"
        },
        "outputId": "d0a8e89b-b1e8-4c53-8ae1-a5d6dce82911"
      },
      "outputs": [
        {
          "output_type": "stream",
          "name": "stdout",
          "text": [
            "['100001.jpg', '100002.jpg']\n",
            "['100001.jpg', '100002.jpg']\n",
            "0.002\n"
          ]
        },
        {
          "output_type": "stream",
          "name": "stderr",
          "text": [
            "<ipython-input-52-4da4981eac93>:29: VisibleDeprecationWarning: Creating an ndarray from ragged nested sequences (which is a list-or-tuple of lists-or-tuples-or ndarrays with different lengths or shapes) is deprecated. If you meant to do this, you must specify 'dtype=object' when creating the ndarray.\n",
            "  train_descs = np.array(train_descs)  # Convert train_descs to NumPy array\n"
          ]
        }
      ],
      "source": [
        "# Example of computing mAP\n",
        "results, mAP = compute_mAP_rf(query_names, query_vlad, train_vlad, train_names[0:2], train_desc[0:2], index, quantizers, '../holidays/holidays_images.dat')\n",
        "print(results['100000.jpg'])\n",
        "print(results['100100.jpg'])\n",
        "print(mAP) # This should be close to 0 now, since there is only two images in the database."
      ]
    },
    {
      "cell_type": "markdown",
      "id": "928245af",
      "metadata": {
        "deletable": false,
        "editable": false,
        "nbgrader": {
          "cell_type": "markdown",
          "checksum": "4411ba81a33b5eb8dca13780f0888c04",
          "grade": false,
          "grade_id": "cell-8ddc18112d33a31c",
          "locked": true,
          "schema_version": 3,
          "solution": false,
          "task": false
        },
        "id": "928245af"
      },
      "source": [
        "**Q4**: Compute the mAP obtained using this function (`compute_mAP_rf`) for different vocabularies and values of $m$ and $k$. Verify if there exists an increment of performance with regard to the same configuration without using de Dec-Hi algorithm."
      ]
    },
    {
      "cell_type": "markdown",
      "source": [
        "## Compute the mAP obtained using this function (compute_mAP_rf) for different vocabularies\n",
        "\n"
      ],
      "metadata": {
        "id": "Vo1dnghYDduC"
      },
      "id": "Vo1dnghYDduC"
    },
    {
      "cell_type": "code",
      "source": [
        "results, mAP = compute_mAP_rf(query_names, query_vlad, train_vlad, train_names, train_desc, index, quantizers, '../holidays/holidays_images.dat')"
      ],
      "metadata": {
        "colab": {
          "base_uri": "https://localhost:8080/"
        },
        "id": "5hTB1bT9GsCy",
        "outputId": "b49ba9ad-bda1-4d6e-b7dd-1b8740085e15"
      },
      "id": "5hTB1bT9GsCy",
      "execution_count": null,
      "outputs": [
        {
          "output_type": "stream",
          "name": "stderr",
          "text": [
            "<ipython-input-52-4da4981eac93>:29: VisibleDeprecationWarning: Creating an ndarray from ragged nested sequences (which is a list-or-tuple of lists-or-tuples-or ndarrays with different lengths or shapes) is deprecated. If you meant to do this, you must specify 'dtype=object' when creating the ndarray.\n",
            "  train_descs = np.array(train_descs)  # Convert train_descs to NumPy array\n"
          ]
        }
      ]
    },
    {
      "cell_type": "code",
      "source": [
        "print(mAP)"
      ],
      "metadata": {
        "colab": {
          "base_uri": "https://localhost:8080/"
        },
        "id": "bf2zmRcUG_5n",
        "outputId": "b843f4d9-e653-4d10-e1de-b1e7e85c0acf"
      },
      "id": "bf2zmRcUG_5n",
      "execution_count": null,
      "outputs": [
        {
          "output_type": "stream",
          "name": "stdout",
          "text": [
            "0.013103329764807483\n"
          ]
        }
      ]
    },
    {
      "cell_type": "code",
      "source": [
        "# Fill these variables with the resulting mAP\n",
        "mAP_16c_rf  = 0.0\n",
        "mAP_32c_rf  = 0.0\n",
        "mAP_64c_rf  = 0.0\n",
        "\n",
        "_, mAP_16c_rf = compute_mAP_rf(query_names, query_vlad_16c, train_vlad_16c, train_names, train_desc, index_16c, quantizers_16c, '../holidays/holidays_images.dat')\n",
        "_, mAP_32c_rf = compute_mAP_rf(query_names, query_vlad_32c, train_vlad_32c, train_names, train_desc, index_32c, quantizers_32c, '../holidays/holidays_images.dat')\n",
        "_, mAP_64c_rf = compute_mAP_rf(query_names, query_vlad_64c, train_vlad_64c, train_names, train_desc, index_64c, quantizers_64c, '../holidays/holidays_images.dat')"
      ],
      "metadata": {
        "colab": {
          "base_uri": "https://localhost:8080/"
        },
        "id": "lfWVrf-GEywD",
        "outputId": "9da8c8a6-0691-40bf-b1ca-ee0ce929fe0a"
      },
      "id": "lfWVrf-GEywD",
      "execution_count": null,
      "outputs": [
        {
          "output_type": "stream",
          "name": "stderr",
          "text": [
            "<ipython-input-59-3d51608a585c>:28: VisibleDeprecationWarning: Creating an ndarray from ragged nested sequences (which is a list-or-tuple of lists-or-tuples-or ndarrays with different lengths or shapes) is deprecated. If you meant to do this, you must specify 'dtype=object' when creating the ndarray.\n",
            "  train_descs = np.array(train_descs)  # Convert train_descs to NumPy array\n"
          ]
        }
      ]
    },
    {
      "cell_type": "code",
      "source": [
        "print('mAP_16c_rf: %.5f' % mAP_16c_rf)\n",
        "print('mAP_32c_rf: %.5f' % mAP_32c_rf)\n",
        "print('mAP_64c_rf: %.5f' % mAP_64c_rf)"
      ],
      "metadata": {
        "colab": {
          "base_uri": "https://localhost:8080/"
        },
        "id": "U1x9LbW2j3An",
        "outputId": "04e12395-0165-4fe7-fda7-d4921a30786d"
      },
      "id": "U1x9LbW2j3An",
      "execution_count": null,
      "outputs": [
        {
          "output_type": "stream",
          "name": "stdout",
          "text": [
            "mAP_16c_rf: 0.36818\n",
            "mAP_32c_rf: 0.37047\n",
            "mAP_64c_rf: 0.32885\n"
          ]
        }
      ]
    },
    {
      "cell_type": "code",
      "source": [
        "mAP_values_rf = [mAP_16c_rf, mAP_32c_rf, mAP_64c_rf]\n",
        "mAP_labels_rf = [\"mAP_16c_rf\", \"mAP_32c_rf\", \"mAP_64c_rf\"]\n",
        "plot_chart(mAP_values_rf, mAP_labels_rf, \"mAP values for different vocabs\", \"different vocabs\", \"mAP\")"
      ],
      "metadata": {
        "colab": {
          "base_uri": "https://localhost:8080/",
          "height": 472
        },
        "id": "ZpZl3rAqGMth",
        "outputId": "d32b7afc-d19f-4db9-bd24-b3a668b3d631"
      },
      "id": "ZpZl3rAqGMth",
      "execution_count": null,
      "outputs": [
        {
          "output_type": "display_data",
          "data": {
            "text/plain": [
              "<Figure size 640x480 with 1 Axes>"
            ],
            "image/png": "[encoded data removed]"
          },
          "metadata": {}
        }
      ]
    },
    {
      "cell_type": "markdown",
      "source": [
        "## Compute the mAP obtained using this function (compute_mAP_rf) for different ms"
      ],
      "metadata": {
        "id": "cYWoOeqStMGL"
      },
      "id": "cYWoOeqStMGL"
    },
    {
      "cell_type": "code",
      "source": [
        "vocab_16c = np.load('vocabs/sift_16c.npy')\n",
        "vocab_32c = np.load('vocabs/sift_32c.npy')\n",
        "vocab_64c = np.load('vocabs/sift_64c.npy')\n",
        "\n",
        "query_vlad_32c = describe_images_VLAD(query_desc, vocab_32c)\n",
        "train_vlad_32c = describe_images_VLAD(train_desc, vocab_32c)\n",
        "\n",
        "quantizers_32c_8m = pq_build_quantizers(train_vlad_32c, m = 8, k = 256)\n",
        "quantizers_32c_16m = pq_build_quantizers(train_vlad_32c, m = 16, k = 256)\n",
        "quantizers_32c_24m = pq_build_quantizers(train_vlad_32c, m = 24, k = 256)\n",
        "\n",
        "index_32c_8m = pq_build_index(train_vlad_32c, quantizers_32c_8m)\n",
        "index_32c_16m = pq_build_index(train_vlad_32c, quantizers_32c_16m)\n",
        "index_32c_24m = pq_build_index(train_vlad_32c, quantizers_32c_24m)\n",
        "\n",
        "_, mAP_32c_8m_rf = compute_mAP_rf(query_names, query_vlad_32c, train_vlad_32c, train_names, train_desc, index_32c_8m, quantizers_32c_8m, '../holidays/holidays_images.dat')\n",
        "_, mAP_32c_16m_rf = compute_mAP_rf(query_names, query_vlad_32c, train_vlad_32c, train_names, train_desc, index_32c_16m, quantizers_32c_16m, '../holidays/holidays_images.dat')\n",
        "_, mAP_32c_24m_rf = compute_mAP_rf(query_names, query_vlad_32c, train_vlad_32c, train_names, train_desc, index_32c_24m, quantizers_32c_24m, '../holidays/holidays_images.dat')"
      ],
      "metadata": {
        "colab": {
          "base_uri": "https://localhost:8080/"
        },
        "id": "2ff8YEeOEHFt",
        "outputId": "20531145-cabb-4857-e61d-23d3917d43d1"
      },
      "id": "2ff8YEeOEHFt",
      "execution_count": null,
      "outputs": [
        {
          "output_type": "stream",
          "name": "stderr",
          "text": [
            "<ipython-input-59-3d51608a585c>:28: VisibleDeprecationWarning: Creating an ndarray from ragged nested sequences (which is a list-or-tuple of lists-or-tuples-or ndarrays with different lengths or shapes) is deprecated. If you meant to do this, you must specify 'dtype=object' when creating the ndarray.\n",
            "  train_descs = np.array(train_descs)  # Convert train_descs to NumPy array\n"
          ]
        }
      ]
    },
    {
      "cell_type": "code",
      "source": [
        "mAP_values_rf_m = [mAP_32c_8m_rf, mAP_32c_16m_rf, mAP_32c_24m_rf]\n",
        "mAP_labels_rf_m = [\"mAP_32c_8m_rf\", \"mAP_32c_16m_rf\", \"mAP_32c_24m_rf\"]\n",
        "plot_chart(mAP_values_rf_m, mAP_labels_rf_m, \"mAP values for different ms\", \"different ms\", \"mAP\")"
      ],
      "metadata": {
        "colab": {
          "base_uri": "https://localhost:8080/",
          "height": 472
        },
        "id": "L2FrBZz3oBLt",
        "outputId": "db8bebe5-0d37-46a6-9640-b114d89086a6"
      },
      "id": "L2FrBZz3oBLt",
      "execution_count": null,
      "outputs": [
        {
          "output_type": "display_data",
          "data": {
            "text/plain": [
              "<Figure size 640x480 with 1 Axes>"
            ],
            "image/png": "[encoded data removed]"
          },
          "metadata": {}
        }
      ]
    },
    {
      "cell_type": "markdown",
      "source": [
        "## Compute the mAP obtained using this function (compute_mAP_rf) for different ks"
      ],
      "metadata": {
        "id": "OJ5MAhfFtWXs"
      },
      "id": "OJ5MAhfFtWXs"
    },
    {
      "cell_type": "code",
      "source": [
        "quantizers_32c_256k = pq_build_quantizers(train_vlad_32c, m = 8, k = 256)\n",
        "quantizers_32c_320k = pq_build_quantizers(train_vlad_32c, m = 8, k = 320)\n",
        "quantizers_32c_352k = pq_build_quantizers(train_vlad_32c, m = 8, k = 352)\n",
        "\n",
        "index_32c_256k = pq_build_index(train_vlad_32c, quantizers_32c_256k)\n",
        "index_32c_320k = pq_build_index(train_vlad_32c, quantizers_32c_320k)\n",
        "index_32c_352k = pq_build_index(train_vlad_32c, quantizers_32c_352k)\n",
        "\n",
        "_, mAP_32c_256k_rf = compute_mAP_rf(query_names, query_vlad_32c, train_vlad_32c, train_names, train_desc, index_32c_256k, quantizers_32c_256k, '../holidays/holidays_images.dat')\n",
        "_, mAP_32c_320k_rf = compute_mAP_rf(query_names, query_vlad_32c, train_vlad_32c, train_names, train_desc, index_32c_320k, quantizers_32c_320k, '../holidays/holidays_images.dat')\n",
        "_, mAP_32c_352k_rf = compute_mAP_rf(query_names, query_vlad_32c, train_vlad_32c, train_names, train_desc, index_32c_352k, quantizers_32c_352k, '../holidays/holidays_images.dat')\n",
        "\n",
        "mAP_values_rf_k = [mAP_32c_256k_rf, mAP_32c_320k_rf, mAP_32c_352k_rf]\n",
        "mAP_labels_rf_k = [\"mAP_32c_256k\", \"mAP_32c_320k\", \"mAP_32c_352k\"]"
      ],
      "metadata": {
        "colab": {
          "base_uri": "https://localhost:8080/"
        },
        "id": "nvu983IKoeLt",
        "outputId": "35d69db3-8cbd-4322-b64e-0b7138a1172c"
      },
      "id": "nvu983IKoeLt",
      "execution_count": null,
      "outputs": [
        {
          "output_type": "stream",
          "name": "stderr",
          "text": [
            "<ipython-input-59-3d51608a585c>:28: VisibleDeprecationWarning: Creating an ndarray from ragged nested sequences (which is a list-or-tuple of lists-or-tuples-or ndarrays with different lengths or shapes) is deprecated. If you meant to do this, you must specify 'dtype=object' when creating the ndarray.\n",
            "  train_descs = np.array(train_descs)  # Convert train_descs to NumPy array\n"
          ]
        }
      ]
    },
    {
      "cell_type": "code",
      "source": [
        "plot_chart(mAP_values_rf_k, mAP_labels_rf_k, \"mAP values for different ks\", \"different ks\", \"mAP\")"
      ],
      "metadata": {
        "colab": {
          "base_uri": "https://localhost:8080/",
          "height": 472
        },
        "id": "s6mkON9lpnrg",
        "outputId": "e1a38a68-4014-4560-e99c-25f0eebbd278"
      },
      "id": "s6mkON9lpnrg",
      "execution_count": null,
      "outputs": [
        {
          "output_type": "display_data",
          "data": {
            "text/plain": [
              "<Figure size 640x480 with 1 Axes>"
            ],
            "image/png": "[encoded data removed]"
          },
          "metadata": {}
        }
      ]
    },
    {
      "cell_type": "markdown",
      "source": [
        "# Compute the mAP obtained using this function (compute_mAP_rf) and compute_mAP"
      ],
      "metadata": {
        "id": "taCBlHSatdAa"
      },
      "id": "taCBlHSatdAa"
    },
    {
      "cell_type": "code",
      "source": [
        "plot_comparison_chart(mAP_labels, mAP_labels_rf, mAP_values, mAP_values_rf, \"compute_mAP\", \"compute_mAP_rf\", \"vocabs\", \"mAP\", \"Compare compute_mAP_rf to compute_mAP\")"
      ],
      "metadata": {
        "colab": {
          "base_uri": "https://localhost:8080/",
          "height": 539
        },
        "id": "5nZgODrmtjsV",
        "outputId": "4cdcfe5b-2a13-4ea9-b427-2f79d1ea5c8c"
      },
      "id": "5nZgODrmtjsV",
      "execution_count": null,
      "outputs": [
        {
          "output_type": "display_data",
          "data": {
            "text/plain": [
              "<Figure size 640x480 with 1 Axes>"
            ],
            "image/png": "[encoded data removed]"
          },
          "metadata": {}
        }
      ]
    },
    {
      "cell_type": "markdown",
      "id": "2cf8e351",
      "metadata": {
        "deletable": false,
        "editable": false,
        "nbgrader": {
          "cell_type": "markdown",
          "checksum": "3d648f5dc07f308d2d13c3944185e99d",
          "grade": false,
          "grade_id": "cell-a1781d52022d7358",
          "locked": true,
          "points": 1.25,
          "schema_version": 3,
          "solution": false,
          "task": true
        },
        "id": "2cf8e351"
      },
      "source": [
        "Write here the code required to answer the questions stated above. You can add more cells (code / markdown) at this point if you need it."
      ]
    },
    {
      "cell_type": "markdown",
      "id": "9ea902aa",
      "metadata": {
        "deletable": false,
        "editable": false,
        "nbgrader": {
          "cell_type": "markdown",
          "checksum": "9d1492480edafa5422447da79b54502f",
          "grade": false,
          "grade_id": "cell-6b4d01a20202fb44",
          "locked": true,
          "schema_version": 3,
          "solution": false,
          "task": false
        },
        "id": "9ea902aa"
      },
      "source": [
        "## Submitting your work\n",
        "\n",
        "**Important**: Please make sure that the submitted notebooks have been run and the cell outputs are visible.\n",
        "\n",
        "**Important**: Please make also sure that you have filled the **NAME** and **DNI** variables at the beginning of the notebook, **using the indicated format**.\n",
        "\n",
        "Once you have filled out the necessary code and you are happy with your solution, **save your notebook** and execute the following cell:"
      ]
    },
    {
      "cell_type": "code",
      "execution_count": null,
      "id": "97b13fea",
      "metadata": {
        "deletable": false,
        "editable": false,
        "nbgrader": {
          "cell_type": "code",
          "checksum": "7d2689f958e6f950437e19eb4e061e63",
          "grade": false,
          "grade_id": "cell-40ddf258eb58940c",
          "locked": true,
          "schema_version": 3,
          "solution": false,
          "task": false
        },
        "id": "97b13fea"
      },
      "outputs": [],
      "source": [
        "zip_filename = DNI + '_A3.zip'\n",
        "zf = zipfile.ZipFile(zip_filename, mode = 'w')\n",
        "\n",
        "aname = 'submitted/' + DNI + '/A3/Advanced_Techniques.ipynb'\n",
        "zf.write('Advanced_Techniques.ipynb', arcname = aname);\n",
        "\n",
        "zf.close()"
      ]
    },
    {
      "cell_type": "markdown",
      "id": "07735c6c",
      "metadata": {
        "deletable": false,
        "editable": false,
        "nbgrader": {
          "cell_type": "markdown",
          "checksum": "646263d4a3161e90f4369de935331304",
          "grade": false,
          "grade_id": "cell-8c14ebf9fa4805a7",
          "locked": true,
          "schema_version": 3,
          "solution": false,
          "task": false
        },
        "id": "07735c6c"
      },
      "source": [
        "This will generate a zip file of your code called `DNI_A3.zip` in the same directory of the assignment. This is the file that you must upload to [Aula Digital](https://uibdigital.uib.es/) to submit your work!"
      ]
    },
    {
      "cell_type": "markdown",
      "id": "7760aba2",
      "metadata": {
        "deletable": false,
        "editable": false,
        "nbgrader": {
          "cell_type": "markdown",
          "checksum": "a3e5f552b4935747a0f94ab360623ea5",
          "grade": false,
          "grade_id": "cell_foot_1",
          "locked": true,
          "schema_version": 3,
          "solution": false,
          "task": false
        },
        "id": "7760aba2"
      },
      "source": [
        "---\n",
        "\n",
        "&copy; Emilio Garcia-Fidalgo, University of the Balearic Islands"
      ]
    }
  ],
  "metadata": {
    "kernelspec": {
      "display_name": "Python 3 (ipykernel)",
      "language": "python",
      "name": "python3"
    },
    "language_info": {
      "codemirror_mode": {
        "name": "ipython",
        "version": 3
      },
      "file_extension": ".py",
      "mimetype": "text/x-python",
      "name": "python",
      "nbconvert_exporter": "python",
      "pygments_lexer": "ipython3",
      "version": "3.9.7"
    },
    "colab": {
      "provenance": [],
      "toc_visible": true,
      "include_colab_link": true
    }
  },
  "nbformat": 4,
  "nbformat_minor": 5
}